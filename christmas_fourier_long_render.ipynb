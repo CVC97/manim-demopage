{
 "cells": [
  {
   "cell_type": "code",
   "execution_count": 1,
   "metadata": {},
   "outputs": [
    {
     "name": "stdout",
     "output_type": "stream",
     "text": [
      "Jupyter Capture Output v0.0.11\n"
     ]
    }
   ],
   "source": [
    "from manim import *\n",
    "from christmas_fourier_classes import *\n",
    "from PIL import Image\n",
    "import jupyter_capture_output\n",
    "\n",
    "video_scene = f\" -v WARNING --disable_caching cf_long_Scene\"\n",
    "image_scene = f\" -v WARNING --disable_caching -r {2*427},{2*240}  -s cf_long_Scene\""
   ]
  },
  {
   "cell_type": "code",
   "execution_count": 2,
   "metadata": {},
   "outputs": [
    {
     "data": {
      "image/jpeg": "[encoded data removed]",
      "image/png": "[encoded data removed]",
      "text/plain": [
       "<PIL.Image.Image image mode=L size=128x128>"
      ]
     },
     "execution_count": 2,
     "metadata": {},
     "output_type": "execute_result"
    }
   ],
   "source": [
    "# reading the image\n",
    "image_snow_leopard1 = Image.open('external_media/SnowLeopard1_128.jpg')\n",
    "\n",
    "# convert image to greyscale\n",
    "image_snow_leopard1_greyscale = image_snow_leopard1.convert('L')\n",
    "\n",
    "# creating a numpy array from the greyscale picture (division of the greyscale values by 2 to fit the properties of the encoding)\n",
    "image_snow_leopard1_greyscale_array = np.array(image_snow_leopard1_greyscale)\n",
    "\n",
    "\n",
    "# returning an omega_xyc tupel for given image coordinates and greyscale\n",
    "def get_omega_xyc(i_row, j_column, image_array):\n",
    "    omega_x_encoded = j_column + 128                                                            # turns row number into the correct frequency by adding 128\n",
    "    omega_y_encoded = 3*128 - i_row - 1                                                         # turns column number into its correspoding frequency\n",
    "    omega_c_encoded = image_array[i_row, j_column] / 2 + 3*128                                  # calculates the greyscale value into its frequency\n",
    "    return (omega_x_encoded, omega_y_encoded, omega_c_encoded)\n",
    "\n",
    "\n",
    "# creating iterators with encoded values used by the animation\n",
    "encoded_data_list = []\n",
    "for i_row in range(128):\n",
    "    for j_column in range(128):\n",
    "        encoded_data_list.append(get_omega_xyc(i_row, j_column, image_snow_leopard1_greyscale_array))\n",
    "\n",
    "\n",
    "# iterating through the image via spiral from outside to inside\n",
    "encoded_data_list_spiral = []\n",
    "track_list = []\n",
    "i_row = 0\n",
    "j_column = 0\n",
    "row_start = 1\n",
    "row_end = 128\n",
    "column_start = 0\n",
    "column_end = 128\n",
    "while (column_start != column_end and row_start != row_end):\n",
    "    while (j_column < column_end):\n",
    "        encoded_data_list_spiral.append(get_omega_xyc(i_row, j_column, image_snow_leopard1_greyscale_array))\n",
    "        track_list.append((i_row, j_column))\n",
    "        j_column += 1\n",
    "    j_column -= 1\n",
    "    column_end -=1\n",
    "    i_row += 1\n",
    "    while (i_row < row_end):\n",
    "        encoded_data_list_spiral.append(get_omega_xyc(i_row, j_column, image_snow_leopard1_greyscale_array))\n",
    "        track_list.append((i_row, j_column))\n",
    "        i_row += 1\n",
    "    i_row -= 1\n",
    "    row_end -=1\n",
    "    j_column -= 1\n",
    "    while (j_column >= column_start):\n",
    "        encoded_data_list_spiral.append(get_omega_xyc(i_row, j_column, image_snow_leopard1_greyscale_array))\n",
    "        track_list.append((i_row, j_column))\n",
    "        j_column -= 1\n",
    "    j_column += 1\n",
    "    column_start +=1\n",
    "    i_row -= 1\n",
    "    while (i_row >= row_start):\n",
    "        encoded_data_list_spiral.append(get_omega_xyc(i_row, j_column, image_snow_leopard1_greyscale_array))\n",
    "        track_list.append((i_row, j_column))\n",
    "        i_row -= 1\n",
    "    i_row += 1\n",
    "    row_start += 1\n",
    "    j_column += 1\n",
    "\n",
    "\n",
    "# LANGER SCHWANZ FÜR DIE LISTE DAMIT DER HS NICHT NACH 2 STUNDEN WEGEN 1 ITERELEMENTS RUMHEULT\n",
    "if (main_color == BLACK):\n",
    "    for i in range(100):\n",
    "        encoded_data_list_spiral.append((191, 319, 4*128-1))#4*128-1 for white BG\n",
    "else:\n",
    "    for i in range(100):\n",
    "        encoded_data_list_spiral.append((191, 319, 3*128))#3*128 for black BG\n",
    "\n",
    "\n",
    "# shows the original 128x128 image\n",
    "image_snow_leopard1_greyscale.save(\"external_media/SnowLeopard1_greyscale.jpg\")\n",
    "image_snow_leopard1_greyscale"
   ]
  },
  {
   "cell_type": "code",
   "execution_count": 3,
   "metadata": {},
   "outputs": [
    {
     "data": {
      "text/html": [
       "<pre style=\"white-space:pre;overflow-x:auto;line-height:normal;font-family:Menlo,'DejaVu Sans Mono',consolas,'Courier New',monospace\">Manim Community <span style=\"color: #008000; text-decoration-color: #008000\">v0.19.0</span>\n",
       "\n",
       "</pre>\n"
      ],
      "text/plain": [
       "Manim Community \u001b[32mv0.\u001b[0m\u001b[32m19.0\u001b[0m\n",
       "\n"
      ]
     },
     "metadata": {},
     "output_type": "display_data"
    },
    {
     "name": "stderr",
     "output_type": "stream",
     "text": [
      "                                                                                                    \r"
     ]
    },
    {
     "data": {
      "text/html": [
       "<video src=\"media/jupyter/cf_long_Scene@2025-01-23@15-28-38.mp4\" controls autoplay loop style=\"max-width: 60%;\"  >\n",
       "      Your browser does not support the <code>video</code> element.\n",
       "    </video>"
      ],
      "text/plain": [
       "<IPython.core.display.Video object>"
      ]
     },
     "metadata": {},
     "output_type": "display_data"
    }
   ],
   "source": [
    "%%manim -qh --fps 64 $video_scene\n",
    "\n",
    "\n",
    "class cf_long_Scene(Scene):\n",
    "    def construct(self):\n",
    "        #self.camera.background_color = WHITE\n",
    "        CVC = Text('CVC', font_size = 12, weight = BOLD, color = WHITE, font = 'Latin Modern Sans').align_on_border(RIGHT + DOWN, buff = 0.2)\n",
    "        self.add(CVC)\n",
    "\n",
    "        # starting signal\n",
    "        init_signal_omega_xyc = encoded_data_list_spiral[0]\n",
    "\n",
    "        # square with the transformed image\n",
    "        image_box = FTransformedImage(position = np.array([3.75, 0.5, 0]), size = 4)\n",
    "        self.add(image_box)\n",
    "\n",
    "        # square with the untransformed signal \n",
    "        signal_box = IncomingSignal(position = (-3.25, 0.5, 0), height = 4, width = 5)\n",
    "        self.add(signal_box)\n",
    "\n",
    "\n",
    "        # updates an incoming signal to the next one\n",
    "        def signal_updater(signal):\n",
    "            # getting the next frequency\n",
    "            next_signal_omega_xyc = next(signal.iterator)\n",
    "            # using the next frequency to update the animation and add the pixel\n",
    "            self.add(image_box.get_pixel(next_signal_omega_xyc))\n",
    "            signal.pixel_arm.become(image_box.get_pixel_arm(next_signal_omega_xyc))\n",
    "            signal.ft_signal.become(signal_box.get_ft_signal(next_signal_omega_xyc))\n",
    "            signal.become(signal_box.get_signal(next_signal_omega_xyc)) \n",
    "\n",
    "\n",
    "        # turning the data list into an iterator and creating the first frequency tupel\n",
    "        encoded_data_iter = iter(encoded_data_list_spiral)\n",
    "\n",
    "        # setting up the signals using the methods of the boxes             \n",
    "        init_signal = signal_box.get_signal(init_signal_omega_xyc)                                      # the initial untransformed signal wave\n",
    "        init_signal.iterator = encoded_data_iter                                                        # the iterator of the omega_xyc frequencies\n",
    "        init_signal.pixel = image_box.get_pixel(init_signal_omega_xyc)                                  # the first pixel of the recreated image\n",
    "        init_signal.pixel_arm = image_box.get_pixel_arm(init_signal_omega_xyc)                          # the descriptor on both axes of the first pixel\n",
    "        init_signal.ft_signal = signal_box.get_ft_signal(init_signal_omega_xyc)                         # the fourier-transformed signal wave\n",
    "        \n",
    "\n",
    "        self.add(init_signal, init_signal.pixel, init_signal.pixel_arm, init_signal.ft_signal)\n",
    "        self.wait(4)\n",
    "        init_signal.add_updater(signal_updater)\n",
    "        t_tracker = ValueTracker(0)\n",
    "        self.play(t_tracker.animate.set_value(1), rate_func = linear, run_time = 128*2)#128*2\n",
    "        self.wait(5)"
   ]
  }
 ],
 "metadata": {
  "kernelspec": {
   "display_name": ".venv_demo",
   "language": "python",
   "name": "python3"
  },
  "language_info": {
   "codemirror_mode": {
    "name": "ipython",
    "version": 3
   },
   "file_extension": ".py",
   "mimetype": "text/x-python",
   "name": "python",
   "nbconvert_exporter": "python",
   "pygments_lexer": "ipython3",
   "version": "3.12.3"
  }
 },
 "nbformat": 4,
 "nbformat_minor": 2
}
