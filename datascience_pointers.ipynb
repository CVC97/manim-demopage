{
 "cells": [
  {
   "cell_type": "code",
   "execution_count": 1,
   "metadata": {},
   "outputs": [],
   "source": [
    "from manim import *\n",
    "\n",
    "\n",
    "video_scene = \" -v WARNING --progress_bar None --disable_caching pointer_Scene\"\n",
    "image_scene = f\" -v WARNING --progress_bar None --disable_caching -r {2*427},{2*240}  -s pointer_Scene\""
   ]
  },
  {
   "cell_type": "code",
   "execution_count": 230,
   "metadata": {},
   "outputs": [
    {
     "data": {
      "text/html": [
       "<pre style=\"white-space:pre;overflow-x:auto;line-height:normal;font-family:Menlo,'DejaVu Sans Mono',consolas,'Courier New',monospace\">Manim Community <span style=\"color: #008000; text-decoration-color: #008000\">v0.19.0</span>\n",
       "\n",
       "</pre>\n"
      ],
      "text/plain": [
       "Manim Community \u001b[32mv0.\u001b[0m\u001b[32m19.0\u001b[0m\n",
       "\n"
      ]
     },
     "metadata": {},
     "output_type": "display_data"
    },
    {
     "data": {
      "text/html": [
       "<video src=\"media/jupyter/pointer_Scene@2025-01-23@21-46-17.mp4\" controls autoplay loop style=\"max-width: 60%;\"  >\n",
       "      Your browser does not support the <code>video</code> element.\n",
       "    </video>"
      ],
      "text/plain": [
       "<IPython.core.display.Video object>"
      ]
     },
     "metadata": {},
     "output_type": "display_data"
    }
   ],
   "source": [
    "%%manim -qh --fps 60 $video_scene\n",
    "\n",
    "\n",
    "class pointer_Scene(Scene):\n",
    "    def construct(self):\n",
    "        CVC = Text('CVC', font_size = 12, weight = BOLD, color = WHITE, font = 'Latin Modern Sans').align_on_border(RIGHT + DOWN, buff = 0.2)\n",
    "        self.add(CVC)\n",
    "\n",
    "\n",
    "        # headline\n",
    "        headline = Title(r\"Variables and Pointers\", font_size = 48, color = WHITE).align_on_border(UP + LEFT, buff = 0.5).shift(0.5 * RIGHT)\n",
    "        self.add(headline)\n",
    "\n",
    "        table_center = np.array([-4.5, -0.5, 0])\n",
    "        RAM_table = Table(\n",
    "                [[\"0000\", \"\"],\n",
    "                [\"0001\", \"\"],\n",
    "                [\"0002\", \"\"],\n",
    "                [\"0003\", \"\"],\n",
    "                [\"0004\", \"\"],\n",
    "                [\"...\", \"0000\"]],\n",
    "                # row_labels=[Text(\"R1\"), Text(\"R2\")],\n",
    "                # col_labels=[Text(\"address\")],\n",
    "                # top_left_entry=Text(\"TOP\"),\n",
    "                include_outer_lines=True\n",
    "            ).move_to(table_center).scale(0.5)\n",
    "        RAM_table.get_entries((6, 2)).set_color(BLACK)\n",
    "        address_text = Text(\"address\", font_size = 40).scale(0.5).next_to(RAM_table, UP).shift(0.7*LEFT)\n",
    "        content_text = Text(\"content\", font_size = 40, color = BLUE).scale(0.5).next_to(RAM_table, UP).shift(0.7*RIGHT)\n",
    "\n",
    "        code = '''\n",
    "                int a = 5;          // variable a\n",
    "                int b = 2;          // variable b\n",
    "                int *ptr = &a;      // pointer to a\n",
    "\n",
    "                *ptr += 5;\n",
    "                ptr = &b;\n",
    "\n",
    "                printf(\"%d\", *ptr);'''\n",
    "\n",
    "\n",
    "        rendered_code = Code(       \n",
    "            formatter_style = \"vs\",\n",
    "            code_string = code,\n",
    "            language = \"c\",\n",
    "            # background = \"window\",\n",
    "            background_config = {\"stroke_color\": \"blue\"},\n",
    "        ).shift(3.25*RIGHT).scale(0.7)\n",
    "        # self.add(rendered_code)\n",
    "\n",
    "\n",
    "        # line_rect = Rectangle(height = 0.4, width = 5.58, color = RED).move_to(rendered_code.get_center()).shift(0.95*UP)\n",
    "        # down_shift = 0.265\n",
    "        # n_down_shift = 5\n",
    "        # line_rect.shift(down_shift * n_down_shift * DOWN)\n",
    "        # self.add(line_rect)\n",
    "\n",
    "        red_dot = Dot(radius = 0.1, color = RED).move_to(rendered_code.get_center()).shift(0.935*UP + 3*LEFT)\n",
    "        down_shift = 0.261\n",
    "        n_down_shift = 0\n",
    "        red_dot.shift(down_shift * n_down_shift * DOWN)\n",
    "        # self.add(red_dot)\n",
    "\n",
    "\n",
    "        # self.add(RAM_table, address_text, content_text)\n",
    "\n",
    "        # print(Code.get_styles_list())\n",
    "\n",
    "        self.wait(0.5)\n",
    "        self.play(Write(rendered_code), run_time = 5)\n",
    "        self.wait(3)\n",
    "        self.play(Write(RAM_table), run_time = 3)\n",
    "        self.wait(0.5)\n",
    "        self.play(Write(address_text), run_time = 1)\n",
    "        self.play(Write(content_text), run_time = 1)\n",
    "        self.wait(1)\n",
    "        self.play(FadeIn(red_dot), run_time = 1.5)\n",
    "        self.wait(3)"
   ]
  }
 ],
 "metadata": {
  "kernelspec": {
   "display_name": ".venv_demo",
   "language": "python",
   "name": "python3"
  },
  "language_info": {
   "codemirror_mode": {
    "name": "ipython",
    "version": 3
   },
   "file_extension": ".py",
   "mimetype": "text/x-python",
   "name": "python",
   "nbconvert_exporter": "python",
   "pygments_lexer": "ipython3",
   "version": "3.12.3"
  }
 },
 "nbformat": 4,
 "nbformat_minor": 2
}
