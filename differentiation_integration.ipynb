{
 "cells": [
  {
   "cell_type": "code",
   "execution_count": 1,
   "metadata": {},
   "outputs": [
    {
     "name": "stdout",
     "output_type": "stream",
     "text": [
      "Jupyter Capture Output v0.0.11\n"
     ]
    }
   ],
   "source": [
    "from manim import *\n",
    "from numpy import linalg as npl\n",
    "import math\n",
    "import jupyter_capture_output\n",
    "\n",
    "int_video_scene = \" -v WARNING --progress_bar None --disable_caching integration_Scene\"\n",
    "int_image_scene = f\" -v WARNING --progress_bar None --disable_caching -r {2*427},{2*240}  -s integration_Scene\"\n",
    "\n",
    "int_video_index_scene = \" -v WARNING --progress_bar None --disable_caching integration_index_Scene\"\n",
    "int_image_index_scene = f\" -v WARNING --progress_bar None --disable_caching -r {2*427},{2*240}  -s integration_index_Scene\""
   ]
  },
  {
   "cell_type": "code",
   "execution_count": 14,
   "metadata": {},
   "outputs": [
    {
     "data": {
      "text/html": [
       "<pre style=\"white-space:pre;overflow-x:auto;line-height:normal;font-family:Menlo,'DejaVu Sans Mono',consolas,'Courier New',monospace\">Manim Community <span style=\"color: #008000; text-decoration-color: #008000\">v0.19.0</span>\n",
       "\n",
       "</pre>\n"
      ],
      "text/plain": [
       "Manim Community \u001b[32mv0.\u001b[0m\u001b[32m19.0\u001b[0m\n",
       "\n"
      ]
     },
     "metadata": {},
     "output_type": "display_data"
    },
    {
     "data": {
      "text/html": [
       "<pre style=\"white-space:pre;overflow-x:auto;line-height:normal;font-family:Menlo,'DejaVu Sans Mono',consolas,'Courier New',monospace\"><span style=\"color: #7fbfbf; text-decoration-color: #7fbfbf\">[01/23/25 11:27:03] </span><span style=\"color: #800000; text-decoration-color: #800000\">WARNING </span> The original total run_time of <span style=\"color: #800080; text-decoration-color: #800080; font-weight: bold\">integration_index_Scene.play</span><span style=\"font-weight: bold\">()</span>, <span style=\"color: #008000; text-decoration-color: #008000\">0.0165289</span> <a href=\"file:///home/carlo/Desktop/single-projects/manim-demopage/.venv_demo/lib/python3.12/site-packages/manim/scene/scene.py\" target=\"_blank\"><span style=\"color: #7f7f7f; text-decoration-color: #7f7f7f\">scene.py</span></a><span style=\"color: #7f7f7f; text-decoration-color: #7f7f7f\">:</span><a href=\"file:///home/carlo/Desktop/single-projects/manim-demopage/.venv_demo/lib/python3.12/site-packages/manim/scene/scene.py#1044\" target=\"_blank\"><span style=\"color: #7f7f7f; text-decoration-color: #7f7f7f\">1044</span></a>\n",
       "<span style=\"color: #7fbfbf; text-decoration-color: #7fbfbf\">                    </span>         seconds, is too short for the current frame rate of <span style=\"color: #008000; text-decoration-color: #008000\">60</span> FPS. <span style=\"color: #808000; text-decoration-color: #808000; font-weight: bold\">Rendering</span>    <span style=\"color: #7f7f7f; text-decoration-color: #7f7f7f\">             </span>\n",
       "<span style=\"color: #7fbfbf; text-decoration-color: #7fbfbf\">                    </span>         with the shortest possible total run_time of <span style=\"color: #008000; text-decoration-color: #008000\">0.0166667</span> seconds instead.  <span style=\"color: #7f7f7f; text-decoration-color: #7f7f7f\">             </span>\n",
       "</pre>\n"
      ],
      "text/plain": [
       "\u001b[2;36m[01/23/25 11:27:03]\u001b[0m\u001b[2;36m \u001b[0m\u001b[31mWARNING \u001b[0m The original total run_time of \u001b[1;35mintegration_index_Scene.play\u001b[0m\u001b[1m(\u001b[0m\u001b[1m)\u001b[0m, \u001b[32m0.0165289\u001b[0m \u001b]8;id=439683;file:///home/carlo/Desktop/single-projects/manim-demopage/.venv_demo/lib/python3.12/site-packages/manim/scene/scene.py\u001b\\\u001b[2mscene.py\u001b[0m\u001b]8;;\u001b\\\u001b[2m:\u001b[0m\u001b]8;id=295452;file:///home/carlo/Desktop/single-projects/manim-demopage/.venv_demo/lib/python3.12/site-packages/manim/scene/scene.py#1044\u001b\\\u001b[2m1044\u001b[0m\u001b]8;;\u001b\\\n",
       "\u001b[2;36m                    \u001b[0m         seconds, is too short for the current frame rate of \u001b[32m60\u001b[0m FPS. \u001b[1;33mRendering\u001b[0m    \u001b[2m             \u001b[0m\n",
       "\u001b[2;36m                    \u001b[0m         with the shortest possible total run_time of \u001b[32m0.0166667\u001b[0m seconds instead.  \u001b[2m             \u001b[0m\n"
      ]
     },
     "metadata": {},
     "output_type": "display_data"
    },
    {
     "data": {
      "text/html": [
       "<pre style=\"white-space:pre;overflow-x:auto;line-height:normal;font-family:Menlo,'DejaVu Sans Mono',consolas,'Courier New',monospace\"><span style=\"color: #7fbfbf; text-decoration-color: #7fbfbf\">                    </span><span style=\"color: #800000; text-decoration-color: #800000\">WARNING </span> The original total run_time of <span style=\"color: #800080; text-decoration-color: #800080; font-weight: bold\">integration_index_Scene.play</span><span style=\"font-weight: bold\">()</span>, <span style=\"color: #008000; text-decoration-color: #008000\">0.0165289</span> <a href=\"file:///home/carlo/Desktop/single-projects/manim-demopage/.venv_demo/lib/python3.12/site-packages/manim/scene/scene.py\" target=\"_blank\"><span style=\"color: #7f7f7f; text-decoration-color: #7f7f7f\">scene.py</span></a><span style=\"color: #7f7f7f; text-decoration-color: #7f7f7f\">:</span><a href=\"file:///home/carlo/Desktop/single-projects/manim-demopage/.venv_demo/lib/python3.12/site-packages/manim/scene/scene.py#1044\" target=\"_blank\"><span style=\"color: #7f7f7f; text-decoration-color: #7f7f7f\">1044</span></a>\n",
       "<span style=\"color: #7fbfbf; text-decoration-color: #7fbfbf\">                    </span>         seconds, is too short for the current frame rate of <span style=\"color: #008000; text-decoration-color: #008000\">60</span> FPS. <span style=\"color: #808000; text-decoration-color: #808000; font-weight: bold\">Rendering</span>    <span style=\"color: #7f7f7f; text-decoration-color: #7f7f7f\">             </span>\n",
       "<span style=\"color: #7fbfbf; text-decoration-color: #7fbfbf\">                    </span>         with the shortest possible total run_time of <span style=\"color: #008000; text-decoration-color: #008000\">0.0166667</span> seconds instead.  <span style=\"color: #7f7f7f; text-decoration-color: #7f7f7f\">             </span>\n",
       "</pre>\n"
      ],
      "text/plain": [
       "\u001b[2;36m                   \u001b[0m\u001b[2;36m \u001b[0m\u001b[31mWARNING \u001b[0m The original total run_time of \u001b[1;35mintegration_index_Scene.play\u001b[0m\u001b[1m(\u001b[0m\u001b[1m)\u001b[0m, \u001b[32m0.0165289\u001b[0m \u001b]8;id=69741;file:///home/carlo/Desktop/single-projects/manim-demopage/.venv_demo/lib/python3.12/site-packages/manim/scene/scene.py\u001b\\\u001b[2mscene.py\u001b[0m\u001b]8;;\u001b\\\u001b[2m:\u001b[0m\u001b]8;id=779874;file:///home/carlo/Desktop/single-projects/manim-demopage/.venv_demo/lib/python3.12/site-packages/manim/scene/scene.py#1044\u001b\\\u001b[2m1044\u001b[0m\u001b]8;;\u001b\\\n",
       "\u001b[2;36m                    \u001b[0m         seconds, is too short for the current frame rate of \u001b[32m60\u001b[0m FPS. \u001b[1;33mRendering\u001b[0m    \u001b[2m             \u001b[0m\n",
       "\u001b[2;36m                    \u001b[0m         with the shortest possible total run_time of \u001b[32m0.0166667\u001b[0m seconds instead.  \u001b[2m             \u001b[0m\n"
      ]
     },
     "metadata": {},
     "output_type": "display_data"
    },
    {
     "data": {
      "text/html": [
       "<pre style=\"white-space:pre;overflow-x:auto;line-height:normal;font-family:Menlo,'DejaVu Sans Mono',consolas,'Courier New',monospace\"><span style=\"color: #7fbfbf; text-decoration-color: #7fbfbf\">                    </span><span style=\"color: #800000; text-decoration-color: #800000\">WARNING </span> The original total run_time of <span style=\"color: #800080; text-decoration-color: #800080; font-weight: bold\">integration_index_Scene.play</span><span style=\"font-weight: bold\">()</span>, <span style=\"color: #008000; text-decoration-color: #008000\">0.0163934</span> <a href=\"file:///home/carlo/Desktop/single-projects/manim-demopage/.venv_demo/lib/python3.12/site-packages/manim/scene/scene.py\" target=\"_blank\"><span style=\"color: #7f7f7f; text-decoration-color: #7f7f7f\">scene.py</span></a><span style=\"color: #7f7f7f; text-decoration-color: #7f7f7f\">:</span><a href=\"file:///home/carlo/Desktop/single-projects/manim-demopage/.venv_demo/lib/python3.12/site-packages/manim/scene/scene.py#1044\" target=\"_blank\"><span style=\"color: #7f7f7f; text-decoration-color: #7f7f7f\">1044</span></a>\n",
       "<span style=\"color: #7fbfbf; text-decoration-color: #7fbfbf\">                    </span>         seconds, is too short for the current frame rate of <span style=\"color: #008000; text-decoration-color: #008000\">60</span> FPS. <span style=\"color: #808000; text-decoration-color: #808000; font-weight: bold\">Rendering</span>    <span style=\"color: #7f7f7f; text-decoration-color: #7f7f7f\">             </span>\n",
       "<span style=\"color: #7fbfbf; text-decoration-color: #7fbfbf\">                    </span>         with the shortest possible total run_time of <span style=\"color: #008000; text-decoration-color: #008000\">0.0166667</span> seconds instead.  <span style=\"color: #7f7f7f; text-decoration-color: #7f7f7f\">             </span>\n",
       "</pre>\n"
      ],
      "text/plain": [
       "\u001b[2;36m                   \u001b[0m\u001b[2;36m \u001b[0m\u001b[31mWARNING \u001b[0m The original total run_time of \u001b[1;35mintegration_index_Scene.play\u001b[0m\u001b[1m(\u001b[0m\u001b[1m)\u001b[0m, \u001b[32m0.0163934\u001b[0m \u001b]8;id=834794;file:///home/carlo/Desktop/single-projects/manim-demopage/.venv_demo/lib/python3.12/site-packages/manim/scene/scene.py\u001b\\\u001b[2mscene.py\u001b[0m\u001b]8;;\u001b\\\u001b[2m:\u001b[0m\u001b]8;id=866355;file:///home/carlo/Desktop/single-projects/manim-demopage/.venv_demo/lib/python3.12/site-packages/manim/scene/scene.py#1044\u001b\\\u001b[2m1044\u001b[0m\u001b]8;;\u001b\\\n",
       "\u001b[2;36m                    \u001b[0m         seconds, is too short for the current frame rate of \u001b[32m60\u001b[0m FPS. \u001b[1;33mRendering\u001b[0m    \u001b[2m             \u001b[0m\n",
       "\u001b[2;36m                    \u001b[0m         with the shortest possible total run_time of \u001b[32m0.0166667\u001b[0m seconds instead.  \u001b[2m             \u001b[0m\n"
      ]
     },
     "metadata": {},
     "output_type": "display_data"
    },
    {
     "data": {
      "text/html": [
       "<pre style=\"white-space:pre;overflow-x:auto;line-height:normal;font-family:Menlo,'DejaVu Sans Mono',consolas,'Courier New',monospace\"><span style=\"color: #7fbfbf; text-decoration-color: #7fbfbf\">                    </span><span style=\"color: #800000; text-decoration-color: #800000\">WARNING </span> The original total run_time of <span style=\"color: #800080; text-decoration-color: #800080; font-weight: bold\">integration_index_Scene.play</span><span style=\"font-weight: bold\">()</span>, <span style=\"color: #008000; text-decoration-color: #008000\">0.0163934</span> <a href=\"file:///home/carlo/Desktop/single-projects/manim-demopage/.venv_demo/lib/python3.12/site-packages/manim/scene/scene.py\" target=\"_blank\"><span style=\"color: #7f7f7f; text-decoration-color: #7f7f7f\">scene.py</span></a><span style=\"color: #7f7f7f; text-decoration-color: #7f7f7f\">:</span><a href=\"file:///home/carlo/Desktop/single-projects/manim-demopage/.venv_demo/lib/python3.12/site-packages/manim/scene/scene.py#1044\" target=\"_blank\"><span style=\"color: #7f7f7f; text-decoration-color: #7f7f7f\">1044</span></a>\n",
       "<span style=\"color: #7fbfbf; text-decoration-color: #7fbfbf\">                    </span>         seconds, is too short for the current frame rate of <span style=\"color: #008000; text-decoration-color: #008000\">60</span> FPS. <span style=\"color: #808000; text-decoration-color: #808000; font-weight: bold\">Rendering</span>    <span style=\"color: #7f7f7f; text-decoration-color: #7f7f7f\">             </span>\n",
       "<span style=\"color: #7fbfbf; text-decoration-color: #7fbfbf\">                    </span>         with the shortest possible total run_time of <span style=\"color: #008000; text-decoration-color: #008000\">0.0166667</span> seconds instead.  <span style=\"color: #7f7f7f; text-decoration-color: #7f7f7f\">             </span>\n",
       "</pre>\n"
      ],
      "text/plain": [
       "\u001b[2;36m                   \u001b[0m\u001b[2;36m \u001b[0m\u001b[31mWARNING \u001b[0m The original total run_time of \u001b[1;35mintegration_index_Scene.play\u001b[0m\u001b[1m(\u001b[0m\u001b[1m)\u001b[0m, \u001b[32m0.0163934\u001b[0m \u001b]8;id=759722;file:///home/carlo/Desktop/single-projects/manim-demopage/.venv_demo/lib/python3.12/site-packages/manim/scene/scene.py\u001b\\\u001b[2mscene.py\u001b[0m\u001b]8;;\u001b\\\u001b[2m:\u001b[0m\u001b]8;id=191439;file:///home/carlo/Desktop/single-projects/manim-demopage/.venv_demo/lib/python3.12/site-packages/manim/scene/scene.py#1044\u001b\\\u001b[2m1044\u001b[0m\u001b]8;;\u001b\\\n",
       "\u001b[2;36m                    \u001b[0m         seconds, is too short for the current frame rate of \u001b[32m60\u001b[0m FPS. \u001b[1;33mRendering\u001b[0m    \u001b[2m             \u001b[0m\n",
       "\u001b[2;36m                    \u001b[0m         with the shortest possible total run_time of \u001b[32m0.0166667\u001b[0m seconds instead.  \u001b[2m             \u001b[0m\n"
      ]
     },
     "metadata": {},
     "output_type": "display_data"
    },
    {
     "data": {
      "text/html": [
       "<pre style=\"white-space:pre;overflow-x:auto;line-height:normal;font-family:Menlo,'DejaVu Sans Mono',consolas,'Courier New',monospace\"><span style=\"color: #7fbfbf; text-decoration-color: #7fbfbf\">                    </span><span style=\"color: #800000; text-decoration-color: #800000\">WARNING </span> The original total run_time of <span style=\"color: #800080; text-decoration-color: #800080; font-weight: bold\">integration_index_Scene.play</span><span style=\"font-weight: bold\">()</span>, <span style=\"color: #008000; text-decoration-color: #008000\">0.0162602</span> <a href=\"file:///home/carlo/Desktop/single-projects/manim-demopage/.venv_demo/lib/python3.12/site-packages/manim/scene/scene.py\" target=\"_blank\"><span style=\"color: #7f7f7f; text-decoration-color: #7f7f7f\">scene.py</span></a><span style=\"color: #7f7f7f; text-decoration-color: #7f7f7f\">:</span><a href=\"file:///home/carlo/Desktop/single-projects/manim-demopage/.venv_demo/lib/python3.12/site-packages/manim/scene/scene.py#1044\" target=\"_blank\"><span style=\"color: #7f7f7f; text-decoration-color: #7f7f7f\">1044</span></a>\n",
       "<span style=\"color: #7fbfbf; text-decoration-color: #7fbfbf\">                    </span>         seconds, is too short for the current frame rate of <span style=\"color: #008000; text-decoration-color: #008000\">60</span> FPS. <span style=\"color: #808000; text-decoration-color: #808000; font-weight: bold\">Rendering</span>    <span style=\"color: #7f7f7f; text-decoration-color: #7f7f7f\">             </span>\n",
       "<span style=\"color: #7fbfbf; text-decoration-color: #7fbfbf\">                    </span>         with the shortest possible total run_time of <span style=\"color: #008000; text-decoration-color: #008000\">0.0166667</span> seconds instead.  <span style=\"color: #7f7f7f; text-decoration-color: #7f7f7f\">             </span>\n",
       "</pre>\n"
      ],
      "text/plain": [
       "\u001b[2;36m                   \u001b[0m\u001b[2;36m \u001b[0m\u001b[31mWARNING \u001b[0m The original total run_time of \u001b[1;35mintegration_index_Scene.play\u001b[0m\u001b[1m(\u001b[0m\u001b[1m)\u001b[0m, \u001b[32m0.0162602\u001b[0m \u001b]8;id=902402;file:///home/carlo/Desktop/single-projects/manim-demopage/.venv_demo/lib/python3.12/site-packages/manim/scene/scene.py\u001b\\\u001b[2mscene.py\u001b[0m\u001b]8;;\u001b\\\u001b[2m:\u001b[0m\u001b]8;id=209219;file:///home/carlo/Desktop/single-projects/manim-demopage/.venv_demo/lib/python3.12/site-packages/manim/scene/scene.py#1044\u001b\\\u001b[2m1044\u001b[0m\u001b]8;;\u001b\\\n",
       "\u001b[2;36m                    \u001b[0m         seconds, is too short for the current frame rate of \u001b[32m60\u001b[0m FPS. \u001b[1;33mRendering\u001b[0m    \u001b[2m             \u001b[0m\n",
       "\u001b[2;36m                    \u001b[0m         with the shortest possible total run_time of \u001b[32m0.0166667\u001b[0m seconds instead.  \u001b[2m             \u001b[0m\n"
      ]
     },
     "metadata": {},
     "output_type": "display_data"
    },
    {
     "data": {
      "text/html": [
       "<pre style=\"white-space:pre;overflow-x:auto;line-height:normal;font-family:Menlo,'DejaVu Sans Mono',consolas,'Courier New',monospace\"><span style=\"color: #7fbfbf; text-decoration-color: #7fbfbf\">                    </span><span style=\"color: #800000; text-decoration-color: #800000\">WARNING </span> The original total run_time of <span style=\"color: #800080; text-decoration-color: #800080; font-weight: bold\">integration_index_Scene.play</span><span style=\"font-weight: bold\">()</span>, <span style=\"color: #008000; text-decoration-color: #008000\">0.0162602</span> <a href=\"file:///home/carlo/Desktop/single-projects/manim-demopage/.venv_demo/lib/python3.12/site-packages/manim/scene/scene.py\" target=\"_blank\"><span style=\"color: #7f7f7f; text-decoration-color: #7f7f7f\">scene.py</span></a><span style=\"color: #7f7f7f; text-decoration-color: #7f7f7f\">:</span><a href=\"file:///home/carlo/Desktop/single-projects/manim-demopage/.venv_demo/lib/python3.12/site-packages/manim/scene/scene.py#1044\" target=\"_blank\"><span style=\"color: #7f7f7f; text-decoration-color: #7f7f7f\">1044</span></a>\n",
       "<span style=\"color: #7fbfbf; text-decoration-color: #7fbfbf\">                    </span>         seconds, is too short for the current frame rate of <span style=\"color: #008000; text-decoration-color: #008000\">60</span> FPS. <span style=\"color: #808000; text-decoration-color: #808000; font-weight: bold\">Rendering</span>    <span style=\"color: #7f7f7f; text-decoration-color: #7f7f7f\">             </span>\n",
       "<span style=\"color: #7fbfbf; text-decoration-color: #7fbfbf\">                    </span>         with the shortest possible total run_time of <span style=\"color: #008000; text-decoration-color: #008000\">0.0166667</span> seconds instead.  <span style=\"color: #7f7f7f; text-decoration-color: #7f7f7f\">             </span>\n",
       "</pre>\n"
      ],
      "text/plain": [
       "\u001b[2;36m                   \u001b[0m\u001b[2;36m \u001b[0m\u001b[31mWARNING \u001b[0m The original total run_time of \u001b[1;35mintegration_index_Scene.play\u001b[0m\u001b[1m(\u001b[0m\u001b[1m)\u001b[0m, \u001b[32m0.0162602\u001b[0m \u001b]8;id=362914;file:///home/carlo/Desktop/single-projects/manim-demopage/.venv_demo/lib/python3.12/site-packages/manim/scene/scene.py\u001b\\\u001b[2mscene.py\u001b[0m\u001b]8;;\u001b\\\u001b[2m:\u001b[0m\u001b]8;id=150819;file:///home/carlo/Desktop/single-projects/manim-demopage/.venv_demo/lib/python3.12/site-packages/manim/scene/scene.py#1044\u001b\\\u001b[2m1044\u001b[0m\u001b]8;;\u001b\\\n",
       "\u001b[2;36m                    \u001b[0m         seconds, is too short for the current frame rate of \u001b[32m60\u001b[0m FPS. \u001b[1;33mRendering\u001b[0m    \u001b[2m             \u001b[0m\n",
       "\u001b[2;36m                    \u001b[0m         with the shortest possible total run_time of \u001b[32m0.0166667\u001b[0m seconds instead.  \u001b[2m             \u001b[0m\n"
      ]
     },
     "metadata": {},
     "output_type": "display_data"
    },
    {
     "data": {
      "text/html": [
       "<pre style=\"white-space:pre;overflow-x:auto;line-height:normal;font-family:Menlo,'DejaVu Sans Mono',consolas,'Courier New',monospace\"><span style=\"color: #7fbfbf; text-decoration-color: #7fbfbf\">                    </span><span style=\"color: #800000; text-decoration-color: #800000\">WARNING </span> The original total run_time of <span style=\"color: #800080; text-decoration-color: #800080; font-weight: bold\">integration_index_Scene.play</span><span style=\"font-weight: bold\">()</span>, <span style=\"color: #008000; text-decoration-color: #008000\">0.016129</span>  <a href=\"file:///home/carlo/Desktop/single-projects/manim-demopage/.venv_demo/lib/python3.12/site-packages/manim/scene/scene.py\" target=\"_blank\"><span style=\"color: #7f7f7f; text-decoration-color: #7f7f7f\">scene.py</span></a><span style=\"color: #7f7f7f; text-decoration-color: #7f7f7f\">:</span><a href=\"file:///home/carlo/Desktop/single-projects/manim-demopage/.venv_demo/lib/python3.12/site-packages/manim/scene/scene.py#1044\" target=\"_blank\"><span style=\"color: #7f7f7f; text-decoration-color: #7f7f7f\">1044</span></a>\n",
       "<span style=\"color: #7fbfbf; text-decoration-color: #7fbfbf\">                    </span>         seconds, is too short for the current frame rate of <span style=\"color: #008000; text-decoration-color: #008000\">60</span> FPS. <span style=\"color: #808000; text-decoration-color: #808000; font-weight: bold\">Rendering</span>    <span style=\"color: #7f7f7f; text-decoration-color: #7f7f7f\">             </span>\n",
       "<span style=\"color: #7fbfbf; text-decoration-color: #7fbfbf\">                    </span>         with the shortest possible total run_time of <span style=\"color: #008000; text-decoration-color: #008000\">0.0166667</span> seconds instead.  <span style=\"color: #7f7f7f; text-decoration-color: #7f7f7f\">             </span>\n",
       "</pre>\n"
      ],
      "text/plain": [
       "\u001b[2;36m                   \u001b[0m\u001b[2;36m \u001b[0m\u001b[31mWARNING \u001b[0m The original total run_time of \u001b[1;35mintegration_index_Scene.play\u001b[0m\u001b[1m(\u001b[0m\u001b[1m)\u001b[0m, \u001b[32m0.016129\u001b[0m  \u001b]8;id=7744;file:///home/carlo/Desktop/single-projects/manim-demopage/.venv_demo/lib/python3.12/site-packages/manim/scene/scene.py\u001b\\\u001b[2mscene.py\u001b[0m\u001b]8;;\u001b\\\u001b[2m:\u001b[0m\u001b]8;id=986507;file:///home/carlo/Desktop/single-projects/manim-demopage/.venv_demo/lib/python3.12/site-packages/manim/scene/scene.py#1044\u001b\\\u001b[2m1044\u001b[0m\u001b]8;;\u001b\\\n",
       "\u001b[2;36m                    \u001b[0m         seconds, is too short for the current frame rate of \u001b[32m60\u001b[0m FPS. \u001b[1;33mRendering\u001b[0m    \u001b[2m             \u001b[0m\n",
       "\u001b[2;36m                    \u001b[0m         with the shortest possible total run_time of \u001b[32m0.0166667\u001b[0m seconds instead.  \u001b[2m             \u001b[0m\n"
      ]
     },
     "metadata": {},
     "output_type": "display_data"
    },
    {
     "data": {
      "text/html": [
       "<pre style=\"white-space:pre;overflow-x:auto;line-height:normal;font-family:Menlo,'DejaVu Sans Mono',consolas,'Courier New',monospace\"><span style=\"color: #7fbfbf; text-decoration-color: #7fbfbf\">                    </span><span style=\"color: #800000; text-decoration-color: #800000\">WARNING </span> The original total run_time of <span style=\"color: #800080; text-decoration-color: #800080; font-weight: bold\">integration_index_Scene.play</span><span style=\"font-weight: bold\">()</span>, <span style=\"color: #008000; text-decoration-color: #008000\">0.016129</span>  <a href=\"file:///home/carlo/Desktop/single-projects/manim-demopage/.venv_demo/lib/python3.12/site-packages/manim/scene/scene.py\" target=\"_blank\"><span style=\"color: #7f7f7f; text-decoration-color: #7f7f7f\">scene.py</span></a><span style=\"color: #7f7f7f; text-decoration-color: #7f7f7f\">:</span><a href=\"file:///home/carlo/Desktop/single-projects/manim-demopage/.venv_demo/lib/python3.12/site-packages/manim/scene/scene.py#1044\" target=\"_blank\"><span style=\"color: #7f7f7f; text-decoration-color: #7f7f7f\">1044</span></a>\n",
       "<span style=\"color: #7fbfbf; text-decoration-color: #7fbfbf\">                    </span>         seconds, is too short for the current frame rate of <span style=\"color: #008000; text-decoration-color: #008000\">60</span> FPS. <span style=\"color: #808000; text-decoration-color: #808000; font-weight: bold\">Rendering</span>    <span style=\"color: #7f7f7f; text-decoration-color: #7f7f7f\">             </span>\n",
       "<span style=\"color: #7fbfbf; text-decoration-color: #7fbfbf\">                    </span>         with the shortest possible total run_time of <span style=\"color: #008000; text-decoration-color: #008000\">0.0166667</span> seconds instead.  <span style=\"color: #7f7f7f; text-decoration-color: #7f7f7f\">             </span>\n",
       "</pre>\n"
      ],
      "text/plain": [
       "\u001b[2;36m                   \u001b[0m\u001b[2;36m \u001b[0m\u001b[31mWARNING \u001b[0m The original total run_time of \u001b[1;35mintegration_index_Scene.play\u001b[0m\u001b[1m(\u001b[0m\u001b[1m)\u001b[0m, \u001b[32m0.016129\u001b[0m  \u001b]8;id=594783;file:///home/carlo/Desktop/single-projects/manim-demopage/.venv_demo/lib/python3.12/site-packages/manim/scene/scene.py\u001b\\\u001b[2mscene.py\u001b[0m\u001b]8;;\u001b\\\u001b[2m:\u001b[0m\u001b]8;id=143525;file:///home/carlo/Desktop/single-projects/manim-demopage/.venv_demo/lib/python3.12/site-packages/manim/scene/scene.py#1044\u001b\\\u001b[2m1044\u001b[0m\u001b]8;;\u001b\\\n",
       "\u001b[2;36m                    \u001b[0m         seconds, is too short for the current frame rate of \u001b[32m60\u001b[0m FPS. \u001b[1;33mRendering\u001b[0m    \u001b[2m             \u001b[0m\n",
       "\u001b[2;36m                    \u001b[0m         with the shortest possible total run_time of \u001b[32m0.0166667\u001b[0m seconds instead.  \u001b[2m             \u001b[0m\n"
      ]
     },
     "metadata": {},
     "output_type": "display_data"
    },
    {
     "data": {
      "text/html": [
       "<pre style=\"white-space:pre;overflow-x:auto;line-height:normal;font-family:Menlo,'DejaVu Sans Mono',consolas,'Courier New',monospace\"><span style=\"color: #7fbfbf; text-decoration-color: #7fbfbf\">                    </span><span style=\"color: #800000; text-decoration-color: #800000\">WARNING </span> The original total run_time of <span style=\"color: #800080; text-decoration-color: #800080; font-weight: bold\">integration_index_Scene.play</span><span style=\"font-weight: bold\">()</span>, <span style=\"color: #008000; text-decoration-color: #008000\">0.016</span>     <a href=\"file:///home/carlo/Desktop/single-projects/manim-demopage/.venv_demo/lib/python3.12/site-packages/manim/scene/scene.py\" target=\"_blank\"><span style=\"color: #7f7f7f; text-decoration-color: #7f7f7f\">scene.py</span></a><span style=\"color: #7f7f7f; text-decoration-color: #7f7f7f\">:</span><a href=\"file:///home/carlo/Desktop/single-projects/manim-demopage/.venv_demo/lib/python3.12/site-packages/manim/scene/scene.py#1044\" target=\"_blank\"><span style=\"color: #7f7f7f; text-decoration-color: #7f7f7f\">1044</span></a>\n",
       "<span style=\"color: #7fbfbf; text-decoration-color: #7fbfbf\">                    </span>         seconds, is too short for the current frame rate of <span style=\"color: #008000; text-decoration-color: #008000\">60</span> FPS. <span style=\"color: #808000; text-decoration-color: #808000; font-weight: bold\">Rendering</span>    <span style=\"color: #7f7f7f; text-decoration-color: #7f7f7f\">             </span>\n",
       "<span style=\"color: #7fbfbf; text-decoration-color: #7fbfbf\">                    </span>         with the shortest possible total run_time of <span style=\"color: #008000; text-decoration-color: #008000\">0.0166667</span> seconds instead.  <span style=\"color: #7f7f7f; text-decoration-color: #7f7f7f\">             </span>\n",
       "</pre>\n"
      ],
      "text/plain": [
       "\u001b[2;36m                   \u001b[0m\u001b[2;36m \u001b[0m\u001b[31mWARNING \u001b[0m The original total run_time of \u001b[1;35mintegration_index_Scene.play\u001b[0m\u001b[1m(\u001b[0m\u001b[1m)\u001b[0m, \u001b[32m0.016\u001b[0m     \u001b]8;id=86951;file:///home/carlo/Desktop/single-projects/manim-demopage/.venv_demo/lib/python3.12/site-packages/manim/scene/scene.py\u001b\\\u001b[2mscene.py\u001b[0m\u001b]8;;\u001b\\\u001b[2m:\u001b[0m\u001b]8;id=42192;file:///home/carlo/Desktop/single-projects/manim-demopage/.venv_demo/lib/python3.12/site-packages/manim/scene/scene.py#1044\u001b\\\u001b[2m1044\u001b[0m\u001b]8;;\u001b\\\n",
       "\u001b[2;36m                    \u001b[0m         seconds, is too short for the current frame rate of \u001b[32m60\u001b[0m FPS. \u001b[1;33mRendering\u001b[0m    \u001b[2m             \u001b[0m\n",
       "\u001b[2;36m                    \u001b[0m         with the shortest possible total run_time of \u001b[32m0.0166667\u001b[0m seconds instead.  \u001b[2m             \u001b[0m\n"
      ]
     },
     "metadata": {},
     "output_type": "display_data"
    },
    {
     "data": {
      "text/html": [
       "<pre style=\"white-space:pre;overflow-x:auto;line-height:normal;font-family:Menlo,'DejaVu Sans Mono',consolas,'Courier New',monospace\"><span style=\"color: #7fbfbf; text-decoration-color: #7fbfbf\">                    </span><span style=\"color: #800000; text-decoration-color: #800000\">WARNING </span> The original total run_time of <span style=\"color: #800080; text-decoration-color: #800080; font-weight: bold\">integration_index_Scene.play</span><span style=\"font-weight: bold\">()</span>, <span style=\"color: #008000; text-decoration-color: #008000\">0.016</span>     <a href=\"file:///home/carlo/Desktop/single-projects/manim-demopage/.venv_demo/lib/python3.12/site-packages/manim/scene/scene.py\" target=\"_blank\"><span style=\"color: #7f7f7f; text-decoration-color: #7f7f7f\">scene.py</span></a><span style=\"color: #7f7f7f; text-decoration-color: #7f7f7f\">:</span><a href=\"file:///home/carlo/Desktop/single-projects/manim-demopage/.venv_demo/lib/python3.12/site-packages/manim/scene/scene.py#1044\" target=\"_blank\"><span style=\"color: #7f7f7f; text-decoration-color: #7f7f7f\">1044</span></a>\n",
       "<span style=\"color: #7fbfbf; text-decoration-color: #7fbfbf\">                    </span>         seconds, is too short for the current frame rate of <span style=\"color: #008000; text-decoration-color: #008000\">60</span> FPS. <span style=\"color: #808000; text-decoration-color: #808000; font-weight: bold\">Rendering</span>    <span style=\"color: #7f7f7f; text-decoration-color: #7f7f7f\">             </span>\n",
       "<span style=\"color: #7fbfbf; text-decoration-color: #7fbfbf\">                    </span>         with the shortest possible total run_time of <span style=\"color: #008000; text-decoration-color: #008000\">0.0166667</span> seconds instead.  <span style=\"color: #7f7f7f; text-decoration-color: #7f7f7f\">             </span>\n",
       "</pre>\n"
      ],
      "text/plain": [
       "\u001b[2;36m                   \u001b[0m\u001b[2;36m \u001b[0m\u001b[31mWARNING \u001b[0m The original total run_time of \u001b[1;35mintegration_index_Scene.play\u001b[0m\u001b[1m(\u001b[0m\u001b[1m)\u001b[0m, \u001b[32m0.016\u001b[0m     \u001b]8;id=834916;file:///home/carlo/Desktop/single-projects/manim-demopage/.venv_demo/lib/python3.12/site-packages/manim/scene/scene.py\u001b\\\u001b[2mscene.py\u001b[0m\u001b]8;;\u001b\\\u001b[2m:\u001b[0m\u001b]8;id=179550;file:///home/carlo/Desktop/single-projects/manim-demopage/.venv_demo/lib/python3.12/site-packages/manim/scene/scene.py#1044\u001b\\\u001b[2m1044\u001b[0m\u001b]8;;\u001b\\\n",
       "\u001b[2;36m                    \u001b[0m         seconds, is too short for the current frame rate of \u001b[32m60\u001b[0m FPS. \u001b[1;33mRendering\u001b[0m    \u001b[2m             \u001b[0m\n",
       "\u001b[2;36m                    \u001b[0m         with the shortest possible total run_time of \u001b[32m0.0166667\u001b[0m seconds instead.  \u001b[2m             \u001b[0m\n"
      ]
     },
     "metadata": {},
     "output_type": "display_data"
    },
    {
     "data": {
      "text/html": [
       "<pre style=\"white-space:pre;overflow-x:auto;line-height:normal;font-family:Menlo,'DejaVu Sans Mono',consolas,'Courier New',monospace\"><span style=\"color: #7fbfbf; text-decoration-color: #7fbfbf\">[01/23/25 11:27:04] </span><span style=\"color: #800000; text-decoration-color: #800000\">WARNING </span> The original total run_time of <span style=\"color: #800080; text-decoration-color: #800080; font-weight: bold\">integration_index_Scene.play</span><span style=\"font-weight: bold\">()</span>, <span style=\"color: #008000; text-decoration-color: #008000\">0.015873</span>  <a href=\"file:///home/carlo/Desktop/single-projects/manim-demopage/.venv_demo/lib/python3.12/site-packages/manim/scene/scene.py\" target=\"_blank\"><span style=\"color: #7f7f7f; text-decoration-color: #7f7f7f\">scene.py</span></a><span style=\"color: #7f7f7f; text-decoration-color: #7f7f7f\">:</span><a href=\"file:///home/carlo/Desktop/single-projects/manim-demopage/.venv_demo/lib/python3.12/site-packages/manim/scene/scene.py#1044\" target=\"_blank\"><span style=\"color: #7f7f7f; text-decoration-color: #7f7f7f\">1044</span></a>\n",
       "<span style=\"color: #7fbfbf; text-decoration-color: #7fbfbf\">                    </span>         seconds, is too short for the current frame rate of <span style=\"color: #008000; text-decoration-color: #008000\">60</span> FPS. <span style=\"color: #808000; text-decoration-color: #808000; font-weight: bold\">Rendering</span>    <span style=\"color: #7f7f7f; text-decoration-color: #7f7f7f\">             </span>\n",
       "<span style=\"color: #7fbfbf; text-decoration-color: #7fbfbf\">                    </span>         with the shortest possible total run_time of <span style=\"color: #008000; text-decoration-color: #008000\">0.0166667</span> seconds instead.  <span style=\"color: #7f7f7f; text-decoration-color: #7f7f7f\">             </span>\n",
       "</pre>\n"
      ],
      "text/plain": [
       "\u001b[2;36m[01/23/25 11:27:04]\u001b[0m\u001b[2;36m \u001b[0m\u001b[31mWARNING \u001b[0m The original total run_time of \u001b[1;35mintegration_index_Scene.play\u001b[0m\u001b[1m(\u001b[0m\u001b[1m)\u001b[0m, \u001b[32m0.015873\u001b[0m  \u001b]8;id=684663;file:///home/carlo/Desktop/single-projects/manim-demopage/.venv_demo/lib/python3.12/site-packages/manim/scene/scene.py\u001b\\\u001b[2mscene.py\u001b[0m\u001b]8;;\u001b\\\u001b[2m:\u001b[0m\u001b]8;id=800761;file:///home/carlo/Desktop/single-projects/manim-demopage/.venv_demo/lib/python3.12/site-packages/manim/scene/scene.py#1044\u001b\\\u001b[2m1044\u001b[0m\u001b]8;;\u001b\\\n",
       "\u001b[2;36m                    \u001b[0m         seconds, is too short for the current frame rate of \u001b[32m60\u001b[0m FPS. \u001b[1;33mRendering\u001b[0m    \u001b[2m             \u001b[0m\n",
       "\u001b[2;36m                    \u001b[0m         with the shortest possible total run_time of \u001b[32m0.0166667\u001b[0m seconds instead.  \u001b[2m             \u001b[0m\n"
      ]
     },
     "metadata": {},
     "output_type": "display_data"
    },
    {
     "data": {
      "text/html": [
       "<pre style=\"white-space:pre;overflow-x:auto;line-height:normal;font-family:Menlo,'DejaVu Sans Mono',consolas,'Courier New',monospace\"><span style=\"color: #7fbfbf; text-decoration-color: #7fbfbf\">                    </span><span style=\"color: #800000; text-decoration-color: #800000\">WARNING </span> The original total run_time of <span style=\"color: #800080; text-decoration-color: #800080; font-weight: bold\">integration_index_Scene.play</span><span style=\"font-weight: bold\">()</span>, <span style=\"color: #008000; text-decoration-color: #008000\">0.015873</span>  <a href=\"file:///home/carlo/Desktop/single-projects/manim-demopage/.venv_demo/lib/python3.12/site-packages/manim/scene/scene.py\" target=\"_blank\"><span style=\"color: #7f7f7f; text-decoration-color: #7f7f7f\">scene.py</span></a><span style=\"color: #7f7f7f; text-decoration-color: #7f7f7f\">:</span><a href=\"file:///home/carlo/Desktop/single-projects/manim-demopage/.venv_demo/lib/python3.12/site-packages/manim/scene/scene.py#1044\" target=\"_blank\"><span style=\"color: #7f7f7f; text-decoration-color: #7f7f7f\">1044</span></a>\n",
       "<span style=\"color: #7fbfbf; text-decoration-color: #7fbfbf\">                    </span>         seconds, is too short for the current frame rate of <span style=\"color: #008000; text-decoration-color: #008000\">60</span> FPS. <span style=\"color: #808000; text-decoration-color: #808000; font-weight: bold\">Rendering</span>    <span style=\"color: #7f7f7f; text-decoration-color: #7f7f7f\">             </span>\n",
       "<span style=\"color: #7fbfbf; text-decoration-color: #7fbfbf\">                    </span>         with the shortest possible total run_time of <span style=\"color: #008000; text-decoration-color: #008000\">0.0166667</span> seconds instead.  <span style=\"color: #7f7f7f; text-decoration-color: #7f7f7f\">             </span>\n",
       "</pre>\n"
      ],
      "text/plain": [
       "\u001b[2;36m                   \u001b[0m\u001b[2;36m \u001b[0m\u001b[31mWARNING \u001b[0m The original total run_time of \u001b[1;35mintegration_index_Scene.play\u001b[0m\u001b[1m(\u001b[0m\u001b[1m)\u001b[0m, \u001b[32m0.015873\u001b[0m  \u001b]8;id=223011;file:///home/carlo/Desktop/single-projects/manim-demopage/.venv_demo/lib/python3.12/site-packages/manim/scene/scene.py\u001b\\\u001b[2mscene.py\u001b[0m\u001b]8;;\u001b\\\u001b[2m:\u001b[0m\u001b]8;id=853207;file:///home/carlo/Desktop/single-projects/manim-demopage/.venv_demo/lib/python3.12/site-packages/manim/scene/scene.py#1044\u001b\\\u001b[2m1044\u001b[0m\u001b]8;;\u001b\\\n",
       "\u001b[2;36m                    \u001b[0m         seconds, is too short for the current frame rate of \u001b[32m60\u001b[0m FPS. \u001b[1;33mRendering\u001b[0m    \u001b[2m             \u001b[0m\n",
       "\u001b[2;36m                    \u001b[0m         with the shortest possible total run_time of \u001b[32m0.0166667\u001b[0m seconds instead.  \u001b[2m             \u001b[0m\n"
      ]
     },
     "metadata": {},
     "output_type": "display_data"
    },
    {
     "data": {
      "text/html": [
       "<pre style=\"white-space:pre;overflow-x:auto;line-height:normal;font-family:Menlo,'DejaVu Sans Mono',consolas,'Courier New',monospace\"><span style=\"color: #7fbfbf; text-decoration-color: #7fbfbf\">                    </span><span style=\"color: #800000; text-decoration-color: #800000\">WARNING </span> The original total run_time of <span style=\"color: #800080; text-decoration-color: #800080; font-weight: bold\">integration_index_Scene.play</span><span style=\"font-weight: bold\">()</span>, <span style=\"color: #008000; text-decoration-color: #008000\">0.015748</span>  <a href=\"file:///home/carlo/Desktop/single-projects/manim-demopage/.venv_demo/lib/python3.12/site-packages/manim/scene/scene.py\" target=\"_blank\"><span style=\"color: #7f7f7f; text-decoration-color: #7f7f7f\">scene.py</span></a><span style=\"color: #7f7f7f; text-decoration-color: #7f7f7f\">:</span><a href=\"file:///home/carlo/Desktop/single-projects/manim-demopage/.venv_demo/lib/python3.12/site-packages/manim/scene/scene.py#1044\" target=\"_blank\"><span style=\"color: #7f7f7f; text-decoration-color: #7f7f7f\">1044</span></a>\n",
       "<span style=\"color: #7fbfbf; text-decoration-color: #7fbfbf\">                    </span>         seconds, is too short for the current frame rate of <span style=\"color: #008000; text-decoration-color: #008000\">60</span> FPS. <span style=\"color: #808000; text-decoration-color: #808000; font-weight: bold\">Rendering</span>    <span style=\"color: #7f7f7f; text-decoration-color: #7f7f7f\">             </span>\n",
       "<span style=\"color: #7fbfbf; text-decoration-color: #7fbfbf\">                    </span>         with the shortest possible total run_time of <span style=\"color: #008000; text-decoration-color: #008000\">0.0166667</span> seconds instead.  <span style=\"color: #7f7f7f; text-decoration-color: #7f7f7f\">             </span>\n",
       "</pre>\n"
      ],
      "text/plain": [
       "\u001b[2;36m                   \u001b[0m\u001b[2;36m \u001b[0m\u001b[31mWARNING \u001b[0m The original total run_time of \u001b[1;35mintegration_index_Scene.play\u001b[0m\u001b[1m(\u001b[0m\u001b[1m)\u001b[0m, \u001b[32m0.015748\u001b[0m  \u001b]8;id=419565;file:///home/carlo/Desktop/single-projects/manim-demopage/.venv_demo/lib/python3.12/site-packages/manim/scene/scene.py\u001b\\\u001b[2mscene.py\u001b[0m\u001b]8;;\u001b\\\u001b[2m:\u001b[0m\u001b]8;id=373503;file:///home/carlo/Desktop/single-projects/manim-demopage/.venv_demo/lib/python3.12/site-packages/manim/scene/scene.py#1044\u001b\\\u001b[2m1044\u001b[0m\u001b]8;;\u001b\\\n",
       "\u001b[2;36m                    \u001b[0m         seconds, is too short for the current frame rate of \u001b[32m60\u001b[0m FPS. \u001b[1;33mRendering\u001b[0m    \u001b[2m             \u001b[0m\n",
       "\u001b[2;36m                    \u001b[0m         with the shortest possible total run_time of \u001b[32m0.0166667\u001b[0m seconds instead.  \u001b[2m             \u001b[0m\n"
      ]
     },
     "metadata": {},
     "output_type": "display_data"
    },
    {
     "data": {
      "text/html": [
       "<pre style=\"white-space:pre;overflow-x:auto;line-height:normal;font-family:Menlo,'DejaVu Sans Mono',consolas,'Courier New',monospace\"><span style=\"color: #7fbfbf; text-decoration-color: #7fbfbf\">                    </span><span style=\"color: #800000; text-decoration-color: #800000\">WARNING </span> The original total run_time of <span style=\"color: #800080; text-decoration-color: #800080; font-weight: bold\">integration_index_Scene.play</span><span style=\"font-weight: bold\">()</span>, <span style=\"color: #008000; text-decoration-color: #008000\">0.015748</span>  <a href=\"file:///home/carlo/Desktop/single-projects/manim-demopage/.venv_demo/lib/python3.12/site-packages/manim/scene/scene.py\" target=\"_blank\"><span style=\"color: #7f7f7f; text-decoration-color: #7f7f7f\">scene.py</span></a><span style=\"color: #7f7f7f; text-decoration-color: #7f7f7f\">:</span><a href=\"file:///home/carlo/Desktop/single-projects/manim-demopage/.venv_demo/lib/python3.12/site-packages/manim/scene/scene.py#1044\" target=\"_blank\"><span style=\"color: #7f7f7f; text-decoration-color: #7f7f7f\">1044</span></a>\n",
       "<span style=\"color: #7fbfbf; text-decoration-color: #7fbfbf\">                    </span>         seconds, is too short for the current frame rate of <span style=\"color: #008000; text-decoration-color: #008000\">60</span> FPS. <span style=\"color: #808000; text-decoration-color: #808000; font-weight: bold\">Rendering</span>    <span style=\"color: #7f7f7f; text-decoration-color: #7f7f7f\">             </span>\n",
       "<span style=\"color: #7fbfbf; text-decoration-color: #7fbfbf\">                    </span>         with the shortest possible total run_time of <span style=\"color: #008000; text-decoration-color: #008000\">0.0166667</span> seconds instead.  <span style=\"color: #7f7f7f; text-decoration-color: #7f7f7f\">             </span>\n",
       "</pre>\n"
      ],
      "text/plain": [
       "\u001b[2;36m                   \u001b[0m\u001b[2;36m \u001b[0m\u001b[31mWARNING \u001b[0m The original total run_time of \u001b[1;35mintegration_index_Scene.play\u001b[0m\u001b[1m(\u001b[0m\u001b[1m)\u001b[0m, \u001b[32m0.015748\u001b[0m  \u001b]8;id=972582;file:///home/carlo/Desktop/single-projects/manim-demopage/.venv_demo/lib/python3.12/site-packages/manim/scene/scene.py\u001b\\\u001b[2mscene.py\u001b[0m\u001b]8;;\u001b\\\u001b[2m:\u001b[0m\u001b]8;id=227235;file:///home/carlo/Desktop/single-projects/manim-demopage/.venv_demo/lib/python3.12/site-packages/manim/scene/scene.py#1044\u001b\\\u001b[2m1044\u001b[0m\u001b]8;;\u001b\\\n",
       "\u001b[2;36m                    \u001b[0m         seconds, is too short for the current frame rate of \u001b[32m60\u001b[0m FPS. \u001b[1;33mRendering\u001b[0m    \u001b[2m             \u001b[0m\n",
       "\u001b[2;36m                    \u001b[0m         with the shortest possible total run_time of \u001b[32m0.0166667\u001b[0m seconds instead.  \u001b[2m             \u001b[0m\n"
      ]
     },
     "metadata": {},
     "output_type": "display_data"
    },
    {
     "data": {
      "text/html": [
       "<pre style=\"white-space:pre;overflow-x:auto;line-height:normal;font-family:Menlo,'DejaVu Sans Mono',consolas,'Courier New',monospace\"><span style=\"color: #7fbfbf; text-decoration-color: #7fbfbf\">                    </span><span style=\"color: #800000; text-decoration-color: #800000\">WARNING </span> The original total run_time of <span style=\"color: #800080; text-decoration-color: #800080; font-weight: bold\">integration_index_Scene.play</span><span style=\"font-weight: bold\">()</span>, <span style=\"color: #008000; text-decoration-color: #008000\">0.015625</span>  <a href=\"file:///home/carlo/Desktop/single-projects/manim-demopage/.venv_demo/lib/python3.12/site-packages/manim/scene/scene.py\" target=\"_blank\"><span style=\"color: #7f7f7f; text-decoration-color: #7f7f7f\">scene.py</span></a><span style=\"color: #7f7f7f; text-decoration-color: #7f7f7f\">:</span><a href=\"file:///home/carlo/Desktop/single-projects/manim-demopage/.venv_demo/lib/python3.12/site-packages/manim/scene/scene.py#1044\" target=\"_blank\"><span style=\"color: #7f7f7f; text-decoration-color: #7f7f7f\">1044</span></a>\n",
       "<span style=\"color: #7fbfbf; text-decoration-color: #7fbfbf\">                    </span>         seconds, is too short for the current frame rate of <span style=\"color: #008000; text-decoration-color: #008000\">60</span> FPS. <span style=\"color: #808000; text-decoration-color: #808000; font-weight: bold\">Rendering</span>    <span style=\"color: #7f7f7f; text-decoration-color: #7f7f7f\">             </span>\n",
       "<span style=\"color: #7fbfbf; text-decoration-color: #7fbfbf\">                    </span>         with the shortest possible total run_time of <span style=\"color: #008000; text-decoration-color: #008000\">0.0166667</span> seconds instead.  <span style=\"color: #7f7f7f; text-decoration-color: #7f7f7f\">             </span>\n",
       "</pre>\n"
      ],
      "text/plain": [
       "\u001b[2;36m                   \u001b[0m\u001b[2;36m \u001b[0m\u001b[31mWARNING \u001b[0m The original total run_time of \u001b[1;35mintegration_index_Scene.play\u001b[0m\u001b[1m(\u001b[0m\u001b[1m)\u001b[0m, \u001b[32m0.015625\u001b[0m  \u001b]8;id=388318;file:///home/carlo/Desktop/single-projects/manim-demopage/.venv_demo/lib/python3.12/site-packages/manim/scene/scene.py\u001b\\\u001b[2mscene.py\u001b[0m\u001b]8;;\u001b\\\u001b[2m:\u001b[0m\u001b]8;id=701601;file:///home/carlo/Desktop/single-projects/manim-demopage/.venv_demo/lib/python3.12/site-packages/manim/scene/scene.py#1044\u001b\\\u001b[2m1044\u001b[0m\u001b]8;;\u001b\\\n",
       "\u001b[2;36m                    \u001b[0m         seconds, is too short for the current frame rate of \u001b[32m60\u001b[0m FPS. \u001b[1;33mRendering\u001b[0m    \u001b[2m             \u001b[0m\n",
       "\u001b[2;36m                    \u001b[0m         with the shortest possible total run_time of \u001b[32m0.0166667\u001b[0m seconds instead.  \u001b[2m             \u001b[0m\n"
      ]
     },
     "metadata": {},
     "output_type": "display_data"
    },
    {
     "data": {
      "text/html": [
       "<pre style=\"white-space:pre;overflow-x:auto;line-height:normal;font-family:Menlo,'DejaVu Sans Mono',consolas,'Courier New',monospace\"><span style=\"color: #7fbfbf; text-decoration-color: #7fbfbf\">                    </span><span style=\"color: #800000; text-decoration-color: #800000\">WARNING </span> The original total run_time of <span style=\"color: #800080; text-decoration-color: #800080; font-weight: bold\">integration_index_Scene.play</span><span style=\"font-weight: bold\">()</span>, <span style=\"color: #008000; text-decoration-color: #008000\">0.015625</span>  <a href=\"file:///home/carlo/Desktop/single-projects/manim-demopage/.venv_demo/lib/python3.12/site-packages/manim/scene/scene.py\" target=\"_blank\"><span style=\"color: #7f7f7f; text-decoration-color: #7f7f7f\">scene.py</span></a><span style=\"color: #7f7f7f; text-decoration-color: #7f7f7f\">:</span><a href=\"file:///home/carlo/Desktop/single-projects/manim-demopage/.venv_demo/lib/python3.12/site-packages/manim/scene/scene.py#1044\" target=\"_blank\"><span style=\"color: #7f7f7f; text-decoration-color: #7f7f7f\">1044</span></a>\n",
       "<span style=\"color: #7fbfbf; text-decoration-color: #7fbfbf\">                    </span>         seconds, is too short for the current frame rate of <span style=\"color: #008000; text-decoration-color: #008000\">60</span> FPS. <span style=\"color: #808000; text-decoration-color: #808000; font-weight: bold\">Rendering</span>    <span style=\"color: #7f7f7f; text-decoration-color: #7f7f7f\">             </span>\n",
       "<span style=\"color: #7fbfbf; text-decoration-color: #7fbfbf\">                    </span>         with the shortest possible total run_time of <span style=\"color: #008000; text-decoration-color: #008000\">0.0166667</span> seconds instead.  <span style=\"color: #7f7f7f; text-decoration-color: #7f7f7f\">             </span>\n",
       "</pre>\n"
      ],
      "text/plain": [
       "\u001b[2;36m                   \u001b[0m\u001b[2;36m \u001b[0m\u001b[31mWARNING \u001b[0m The original total run_time of \u001b[1;35mintegration_index_Scene.play\u001b[0m\u001b[1m(\u001b[0m\u001b[1m)\u001b[0m, \u001b[32m0.015625\u001b[0m  \u001b]8;id=539968;file:///home/carlo/Desktop/single-projects/manim-demopage/.venv_demo/lib/python3.12/site-packages/manim/scene/scene.py\u001b\\\u001b[2mscene.py\u001b[0m\u001b]8;;\u001b\\\u001b[2m:\u001b[0m\u001b]8;id=659998;file:///home/carlo/Desktop/single-projects/manim-demopage/.venv_demo/lib/python3.12/site-packages/manim/scene/scene.py#1044\u001b\\\u001b[2m1044\u001b[0m\u001b]8;;\u001b\\\n",
       "\u001b[2;36m                    \u001b[0m         seconds, is too short for the current frame rate of \u001b[32m60\u001b[0m FPS. \u001b[1;33mRendering\u001b[0m    \u001b[2m             \u001b[0m\n",
       "\u001b[2;36m                    \u001b[0m         with the shortest possible total run_time of \u001b[32m0.0166667\u001b[0m seconds instead.  \u001b[2m             \u001b[0m\n"
      ]
     },
     "metadata": {},
     "output_type": "display_data"
    },
    {
     "data": {
      "text/html": [
       "<pre style=\"white-space:pre;overflow-x:auto;line-height:normal;font-family:Menlo,'DejaVu Sans Mono',consolas,'Courier New',monospace\"><span style=\"color: #7fbfbf; text-decoration-color: #7fbfbf\">                    </span><span style=\"color: #800000; text-decoration-color: #800000\">WARNING </span> The original total run_time of <span style=\"color: #800080; text-decoration-color: #800080; font-weight: bold\">integration_index_Scene.play</span><span style=\"font-weight: bold\">()</span>, <span style=\"color: #008000; text-decoration-color: #008000\">0.0155039</span> <a href=\"file:///home/carlo/Desktop/single-projects/manim-demopage/.venv_demo/lib/python3.12/site-packages/manim/scene/scene.py\" target=\"_blank\"><span style=\"color: #7f7f7f; text-decoration-color: #7f7f7f\">scene.py</span></a><span style=\"color: #7f7f7f; text-decoration-color: #7f7f7f\">:</span><a href=\"file:///home/carlo/Desktop/single-projects/manim-demopage/.venv_demo/lib/python3.12/site-packages/manim/scene/scene.py#1044\" target=\"_blank\"><span style=\"color: #7f7f7f; text-decoration-color: #7f7f7f\">1044</span></a>\n",
       "<span style=\"color: #7fbfbf; text-decoration-color: #7fbfbf\">                    </span>         seconds, is too short for the current frame rate of <span style=\"color: #008000; text-decoration-color: #008000\">60</span> FPS. <span style=\"color: #808000; text-decoration-color: #808000; font-weight: bold\">Rendering</span>    <span style=\"color: #7f7f7f; text-decoration-color: #7f7f7f\">             </span>\n",
       "<span style=\"color: #7fbfbf; text-decoration-color: #7fbfbf\">                    </span>         with the shortest possible total run_time of <span style=\"color: #008000; text-decoration-color: #008000\">0.0166667</span> seconds instead.  <span style=\"color: #7f7f7f; text-decoration-color: #7f7f7f\">             </span>\n",
       "</pre>\n"
      ],
      "text/plain": [
       "\u001b[2;36m                   \u001b[0m\u001b[2;36m \u001b[0m\u001b[31mWARNING \u001b[0m The original total run_time of \u001b[1;35mintegration_index_Scene.play\u001b[0m\u001b[1m(\u001b[0m\u001b[1m)\u001b[0m, \u001b[32m0.0155039\u001b[0m \u001b]8;id=478359;file:///home/carlo/Desktop/single-projects/manim-demopage/.venv_demo/lib/python3.12/site-packages/manim/scene/scene.py\u001b\\\u001b[2mscene.py\u001b[0m\u001b]8;;\u001b\\\u001b[2m:\u001b[0m\u001b]8;id=476937;file:///home/carlo/Desktop/single-projects/manim-demopage/.venv_demo/lib/python3.12/site-packages/manim/scene/scene.py#1044\u001b\\\u001b[2m1044\u001b[0m\u001b]8;;\u001b\\\n",
       "\u001b[2;36m                    \u001b[0m         seconds, is too short for the current frame rate of \u001b[32m60\u001b[0m FPS. \u001b[1;33mRendering\u001b[0m    \u001b[2m             \u001b[0m\n",
       "\u001b[2;36m                    \u001b[0m         with the shortest possible total run_time of \u001b[32m0.0166667\u001b[0m seconds instead.  \u001b[2m             \u001b[0m\n"
      ]
     },
     "metadata": {},
     "output_type": "display_data"
    },
    {
     "data": {
      "text/html": [
       "<pre style=\"white-space:pre;overflow-x:auto;line-height:normal;font-family:Menlo,'DejaVu Sans Mono',consolas,'Courier New',monospace\"><span style=\"color: #7fbfbf; text-decoration-color: #7fbfbf\">                    </span><span style=\"color: #800000; text-decoration-color: #800000\">WARNING </span> The original total run_time of <span style=\"color: #800080; text-decoration-color: #800080; font-weight: bold\">integration_index_Scene.play</span><span style=\"font-weight: bold\">()</span>, <span style=\"color: #008000; text-decoration-color: #008000\">0.0155039</span> <a href=\"file:///home/carlo/Desktop/single-projects/manim-demopage/.venv_demo/lib/python3.12/site-packages/manim/scene/scene.py\" target=\"_blank\"><span style=\"color: #7f7f7f; text-decoration-color: #7f7f7f\">scene.py</span></a><span style=\"color: #7f7f7f; text-decoration-color: #7f7f7f\">:</span><a href=\"file:///home/carlo/Desktop/single-projects/manim-demopage/.venv_demo/lib/python3.12/site-packages/manim/scene/scene.py#1044\" target=\"_blank\"><span style=\"color: #7f7f7f; text-decoration-color: #7f7f7f\">1044</span></a>\n",
       "<span style=\"color: #7fbfbf; text-decoration-color: #7fbfbf\">                    </span>         seconds, is too short for the current frame rate of <span style=\"color: #008000; text-decoration-color: #008000\">60</span> FPS. <span style=\"color: #808000; text-decoration-color: #808000; font-weight: bold\">Rendering</span>    <span style=\"color: #7f7f7f; text-decoration-color: #7f7f7f\">             </span>\n",
       "<span style=\"color: #7fbfbf; text-decoration-color: #7fbfbf\">                    </span>         with the shortest possible total run_time of <span style=\"color: #008000; text-decoration-color: #008000\">0.0166667</span> seconds instead.  <span style=\"color: #7f7f7f; text-decoration-color: #7f7f7f\">             </span>\n",
       "</pre>\n"
      ],
      "text/plain": [
       "\u001b[2;36m                   \u001b[0m\u001b[2;36m \u001b[0m\u001b[31mWARNING \u001b[0m The original total run_time of \u001b[1;35mintegration_index_Scene.play\u001b[0m\u001b[1m(\u001b[0m\u001b[1m)\u001b[0m, \u001b[32m0.0155039\u001b[0m \u001b]8;id=489235;file:///home/carlo/Desktop/single-projects/manim-demopage/.venv_demo/lib/python3.12/site-packages/manim/scene/scene.py\u001b\\\u001b[2mscene.py\u001b[0m\u001b]8;;\u001b\\\u001b[2m:\u001b[0m\u001b]8;id=408499;file:///home/carlo/Desktop/single-projects/manim-demopage/.venv_demo/lib/python3.12/site-packages/manim/scene/scene.py#1044\u001b\\\u001b[2m1044\u001b[0m\u001b]8;;\u001b\\\n",
       "\u001b[2;36m                    \u001b[0m         seconds, is too short for the current frame rate of \u001b[32m60\u001b[0m FPS. \u001b[1;33mRendering\u001b[0m    \u001b[2m             \u001b[0m\n",
       "\u001b[2;36m                    \u001b[0m         with the shortest possible total run_time of \u001b[32m0.0166667\u001b[0m seconds instead.  \u001b[2m             \u001b[0m\n"
      ]
     },
     "metadata": {},
     "output_type": "display_data"
    },
    {
     "data": {
      "text/html": [
       "<pre style=\"white-space:pre;overflow-x:auto;line-height:normal;font-family:Menlo,'DejaVu Sans Mono',consolas,'Courier New',monospace\"><span style=\"color: #7fbfbf; text-decoration-color: #7fbfbf\">                    </span><span style=\"color: #800000; text-decoration-color: #800000\">WARNING </span> The original total run_time of <span style=\"color: #800080; text-decoration-color: #800080; font-weight: bold\">integration_index_Scene.play</span><span style=\"font-weight: bold\">()</span>, <span style=\"color: #008000; text-decoration-color: #008000\">0.0153846</span> <a href=\"file:///home/carlo/Desktop/single-projects/manim-demopage/.venv_demo/lib/python3.12/site-packages/manim/scene/scene.py\" target=\"_blank\"><span style=\"color: #7f7f7f; text-decoration-color: #7f7f7f\">scene.py</span></a><span style=\"color: #7f7f7f; text-decoration-color: #7f7f7f\">:</span><a href=\"file:///home/carlo/Desktop/single-projects/manim-demopage/.venv_demo/lib/python3.12/site-packages/manim/scene/scene.py#1044\" target=\"_blank\"><span style=\"color: #7f7f7f; text-decoration-color: #7f7f7f\">1044</span></a>\n",
       "<span style=\"color: #7fbfbf; text-decoration-color: #7fbfbf\">                    </span>         seconds, is too short for the current frame rate of <span style=\"color: #008000; text-decoration-color: #008000\">60</span> FPS. <span style=\"color: #808000; text-decoration-color: #808000; font-weight: bold\">Rendering</span>    <span style=\"color: #7f7f7f; text-decoration-color: #7f7f7f\">             </span>\n",
       "<span style=\"color: #7fbfbf; text-decoration-color: #7fbfbf\">                    </span>         with the shortest possible total run_time of <span style=\"color: #008000; text-decoration-color: #008000\">0.0166667</span> seconds instead.  <span style=\"color: #7f7f7f; text-decoration-color: #7f7f7f\">             </span>\n",
       "</pre>\n"
      ],
      "text/plain": [
       "\u001b[2;36m                   \u001b[0m\u001b[2;36m \u001b[0m\u001b[31mWARNING \u001b[0m The original total run_time of \u001b[1;35mintegration_index_Scene.play\u001b[0m\u001b[1m(\u001b[0m\u001b[1m)\u001b[0m, \u001b[32m0.0153846\u001b[0m \u001b]8;id=586594;file:///home/carlo/Desktop/single-projects/manim-demopage/.venv_demo/lib/python3.12/site-packages/manim/scene/scene.py\u001b\\\u001b[2mscene.py\u001b[0m\u001b]8;;\u001b\\\u001b[2m:\u001b[0m\u001b]8;id=818416;file:///home/carlo/Desktop/single-projects/manim-demopage/.venv_demo/lib/python3.12/site-packages/manim/scene/scene.py#1044\u001b\\\u001b[2m1044\u001b[0m\u001b]8;;\u001b\\\n",
       "\u001b[2;36m                    \u001b[0m         seconds, is too short for the current frame rate of \u001b[32m60\u001b[0m FPS. \u001b[1;33mRendering\u001b[0m    \u001b[2m             \u001b[0m\n",
       "\u001b[2;36m                    \u001b[0m         with the shortest possible total run_time of \u001b[32m0.0166667\u001b[0m seconds instead.  \u001b[2m             \u001b[0m\n"
      ]
     },
     "metadata": {},
     "output_type": "display_data"
    },
    {
     "data": {
      "text/html": [
       "<pre style=\"white-space:pre;overflow-x:auto;line-height:normal;font-family:Menlo,'DejaVu Sans Mono',consolas,'Courier New',monospace\"><span style=\"color: #7fbfbf; text-decoration-color: #7fbfbf\">                    </span><span style=\"color: #800000; text-decoration-color: #800000\">WARNING </span> The original total run_time of <span style=\"color: #800080; text-decoration-color: #800080; font-weight: bold\">integration_index_Scene.play</span><span style=\"font-weight: bold\">()</span>, <span style=\"color: #008000; text-decoration-color: #008000\">0.0153846</span> <a href=\"file:///home/carlo/Desktop/single-projects/manim-demopage/.venv_demo/lib/python3.12/site-packages/manim/scene/scene.py\" target=\"_blank\"><span style=\"color: #7f7f7f; text-decoration-color: #7f7f7f\">scene.py</span></a><span style=\"color: #7f7f7f; text-decoration-color: #7f7f7f\">:</span><a href=\"file:///home/carlo/Desktop/single-projects/manim-demopage/.venv_demo/lib/python3.12/site-packages/manim/scene/scene.py#1044\" target=\"_blank\"><span style=\"color: #7f7f7f; text-decoration-color: #7f7f7f\">1044</span></a>\n",
       "<span style=\"color: #7fbfbf; text-decoration-color: #7fbfbf\">                    </span>         seconds, is too short for the current frame rate of <span style=\"color: #008000; text-decoration-color: #008000\">60</span> FPS. <span style=\"color: #808000; text-decoration-color: #808000; font-weight: bold\">Rendering</span>    <span style=\"color: #7f7f7f; text-decoration-color: #7f7f7f\">             </span>\n",
       "<span style=\"color: #7fbfbf; text-decoration-color: #7fbfbf\">                    </span>         with the shortest possible total run_time of <span style=\"color: #008000; text-decoration-color: #008000\">0.0166667</span> seconds instead.  <span style=\"color: #7f7f7f; text-decoration-color: #7f7f7f\">             </span>\n",
       "</pre>\n"
      ],
      "text/plain": [
       "\u001b[2;36m                   \u001b[0m\u001b[2;36m \u001b[0m\u001b[31mWARNING \u001b[0m The original total run_time of \u001b[1;35mintegration_index_Scene.play\u001b[0m\u001b[1m(\u001b[0m\u001b[1m)\u001b[0m, \u001b[32m0.0153846\u001b[0m \u001b]8;id=955758;file:///home/carlo/Desktop/single-projects/manim-demopage/.venv_demo/lib/python3.12/site-packages/manim/scene/scene.py\u001b\\\u001b[2mscene.py\u001b[0m\u001b]8;;\u001b\\\u001b[2m:\u001b[0m\u001b]8;id=882663;file:///home/carlo/Desktop/single-projects/manim-demopage/.venv_demo/lib/python3.12/site-packages/manim/scene/scene.py#1044\u001b\\\u001b[2m1044\u001b[0m\u001b]8;;\u001b\\\n",
       "\u001b[2;36m                    \u001b[0m         seconds, is too short for the current frame rate of \u001b[32m60\u001b[0m FPS. \u001b[1;33mRendering\u001b[0m    \u001b[2m             \u001b[0m\n",
       "\u001b[2;36m                    \u001b[0m         with the shortest possible total run_time of \u001b[32m0.0166667\u001b[0m seconds instead.  \u001b[2m             \u001b[0m\n"
      ]
     },
     "metadata": {},
     "output_type": "display_data"
    },
    {
     "data": {
      "text/html": [
       "<pre style=\"white-space:pre;overflow-x:auto;line-height:normal;font-family:Menlo,'DejaVu Sans Mono',consolas,'Courier New',monospace\"><span style=\"color: #7fbfbf; text-decoration-color: #7fbfbf\">                    </span><span style=\"color: #800000; text-decoration-color: #800000\">WARNING </span> The original total run_time of <span style=\"color: #800080; text-decoration-color: #800080; font-weight: bold\">integration_index_Scene.play</span><span style=\"font-weight: bold\">()</span>, <span style=\"color: #008000; text-decoration-color: #008000\">0.0152672</span> <a href=\"file:///home/carlo/Desktop/single-projects/manim-demopage/.venv_demo/lib/python3.12/site-packages/manim/scene/scene.py\" target=\"_blank\"><span style=\"color: #7f7f7f; text-decoration-color: #7f7f7f\">scene.py</span></a><span style=\"color: #7f7f7f; text-decoration-color: #7f7f7f\">:</span><a href=\"file:///home/carlo/Desktop/single-projects/manim-demopage/.venv_demo/lib/python3.12/site-packages/manim/scene/scene.py#1044\" target=\"_blank\"><span style=\"color: #7f7f7f; text-decoration-color: #7f7f7f\">1044</span></a>\n",
       "<span style=\"color: #7fbfbf; text-decoration-color: #7fbfbf\">                    </span>         seconds, is too short for the current frame rate of <span style=\"color: #008000; text-decoration-color: #008000\">60</span> FPS. <span style=\"color: #808000; text-decoration-color: #808000; font-weight: bold\">Rendering</span>    <span style=\"color: #7f7f7f; text-decoration-color: #7f7f7f\">             </span>\n",
       "<span style=\"color: #7fbfbf; text-decoration-color: #7fbfbf\">                    </span>         with the shortest possible total run_time of <span style=\"color: #008000; text-decoration-color: #008000\">0.0166667</span> seconds instead.  <span style=\"color: #7f7f7f; text-decoration-color: #7f7f7f\">             </span>\n",
       "</pre>\n"
      ],
      "text/plain": [
       "\u001b[2;36m                   \u001b[0m\u001b[2;36m \u001b[0m\u001b[31mWARNING \u001b[0m The original total run_time of \u001b[1;35mintegration_index_Scene.play\u001b[0m\u001b[1m(\u001b[0m\u001b[1m)\u001b[0m, \u001b[32m0.0152672\u001b[0m \u001b]8;id=427483;file:///home/carlo/Desktop/single-projects/manim-demopage/.venv_demo/lib/python3.12/site-packages/manim/scene/scene.py\u001b\\\u001b[2mscene.py\u001b[0m\u001b]8;;\u001b\\\u001b[2m:\u001b[0m\u001b]8;id=677164;file:///home/carlo/Desktop/single-projects/manim-demopage/.venv_demo/lib/python3.12/site-packages/manim/scene/scene.py#1044\u001b\\\u001b[2m1044\u001b[0m\u001b]8;;\u001b\\\n",
       "\u001b[2;36m                    \u001b[0m         seconds, is too short for the current frame rate of \u001b[32m60\u001b[0m FPS. \u001b[1;33mRendering\u001b[0m    \u001b[2m             \u001b[0m\n",
       "\u001b[2;36m                    \u001b[0m         with the shortest possible total run_time of \u001b[32m0.0166667\u001b[0m seconds instead.  \u001b[2m             \u001b[0m\n"
      ]
     },
     "metadata": {},
     "output_type": "display_data"
    },
    {
     "data": {
      "text/html": [
       "<pre style=\"white-space:pre;overflow-x:auto;line-height:normal;font-family:Menlo,'DejaVu Sans Mono',consolas,'Courier New',monospace\"><span style=\"color: #7fbfbf; text-decoration-color: #7fbfbf\">                    </span><span style=\"color: #800000; text-decoration-color: #800000\">WARNING </span> The original total run_time of <span style=\"color: #800080; text-decoration-color: #800080; font-weight: bold\">integration_index_Scene.play</span><span style=\"font-weight: bold\">()</span>, <span style=\"color: #008000; text-decoration-color: #008000\">0.0152672</span> <a href=\"file:///home/carlo/Desktop/single-projects/manim-demopage/.venv_demo/lib/python3.12/site-packages/manim/scene/scene.py\" target=\"_blank\"><span style=\"color: #7f7f7f; text-decoration-color: #7f7f7f\">scene.py</span></a><span style=\"color: #7f7f7f; text-decoration-color: #7f7f7f\">:</span><a href=\"file:///home/carlo/Desktop/single-projects/manim-demopage/.venv_demo/lib/python3.12/site-packages/manim/scene/scene.py#1044\" target=\"_blank\"><span style=\"color: #7f7f7f; text-decoration-color: #7f7f7f\">1044</span></a>\n",
       "<span style=\"color: #7fbfbf; text-decoration-color: #7fbfbf\">                    </span>         seconds, is too short for the current frame rate of <span style=\"color: #008000; text-decoration-color: #008000\">60</span> FPS. <span style=\"color: #808000; text-decoration-color: #808000; font-weight: bold\">Rendering</span>    <span style=\"color: #7f7f7f; text-decoration-color: #7f7f7f\">             </span>\n",
       "<span style=\"color: #7fbfbf; text-decoration-color: #7fbfbf\">                    </span>         with the shortest possible total run_time of <span style=\"color: #008000; text-decoration-color: #008000\">0.0166667</span> seconds instead.  <span style=\"color: #7f7f7f; text-decoration-color: #7f7f7f\">             </span>\n",
       "</pre>\n"
      ],
      "text/plain": [
       "\u001b[2;36m                   \u001b[0m\u001b[2;36m \u001b[0m\u001b[31mWARNING \u001b[0m The original total run_time of \u001b[1;35mintegration_index_Scene.play\u001b[0m\u001b[1m(\u001b[0m\u001b[1m)\u001b[0m, \u001b[32m0.0152672\u001b[0m \u001b]8;id=943390;file:///home/carlo/Desktop/single-projects/manim-demopage/.venv_demo/lib/python3.12/site-packages/manim/scene/scene.py\u001b\\\u001b[2mscene.py\u001b[0m\u001b]8;;\u001b\\\u001b[2m:\u001b[0m\u001b]8;id=423737;file:///home/carlo/Desktop/single-projects/manim-demopage/.venv_demo/lib/python3.12/site-packages/manim/scene/scene.py#1044\u001b\\\u001b[2m1044\u001b[0m\u001b]8;;\u001b\\\n",
       "\u001b[2;36m                    \u001b[0m         seconds, is too short for the current frame rate of \u001b[32m60\u001b[0m FPS. \u001b[1;33mRendering\u001b[0m    \u001b[2m             \u001b[0m\n",
       "\u001b[2;36m                    \u001b[0m         with the shortest possible total run_time of \u001b[32m0.0166667\u001b[0m seconds instead.  \u001b[2m             \u001b[0m\n"
      ]
     },
     "metadata": {},
     "output_type": "display_data"
    },
    {
     "data": {
      "text/html": [
       "<pre style=\"white-space:pre;overflow-x:auto;line-height:normal;font-family:Menlo,'DejaVu Sans Mono',consolas,'Courier New',monospace\"><span style=\"color: #7fbfbf; text-decoration-color: #7fbfbf\">                    </span><span style=\"color: #800000; text-decoration-color: #800000\">WARNING </span> The original total run_time of <span style=\"color: #800080; text-decoration-color: #800080; font-weight: bold\">integration_index_Scene.play</span><span style=\"font-weight: bold\">()</span>, <span style=\"color: #008000; text-decoration-color: #008000\">0.0151515</span> <a href=\"file:///home/carlo/Desktop/single-projects/manim-demopage/.venv_demo/lib/python3.12/site-packages/manim/scene/scene.py\" target=\"_blank\"><span style=\"color: #7f7f7f; text-decoration-color: #7f7f7f\">scene.py</span></a><span style=\"color: #7f7f7f; text-decoration-color: #7f7f7f\">:</span><a href=\"file:///home/carlo/Desktop/single-projects/manim-demopage/.venv_demo/lib/python3.12/site-packages/manim/scene/scene.py#1044\" target=\"_blank\"><span style=\"color: #7f7f7f; text-decoration-color: #7f7f7f\">1044</span></a>\n",
       "<span style=\"color: #7fbfbf; text-decoration-color: #7fbfbf\">                    </span>         seconds, is too short for the current frame rate of <span style=\"color: #008000; text-decoration-color: #008000\">60</span> FPS. <span style=\"color: #808000; text-decoration-color: #808000; font-weight: bold\">Rendering</span>    <span style=\"color: #7f7f7f; text-decoration-color: #7f7f7f\">             </span>\n",
       "<span style=\"color: #7fbfbf; text-decoration-color: #7fbfbf\">                    </span>         with the shortest possible total run_time of <span style=\"color: #008000; text-decoration-color: #008000\">0.0166667</span> seconds instead.  <span style=\"color: #7f7f7f; text-decoration-color: #7f7f7f\">             </span>\n",
       "</pre>\n"
      ],
      "text/plain": [
       "\u001b[2;36m                   \u001b[0m\u001b[2;36m \u001b[0m\u001b[31mWARNING \u001b[0m The original total run_time of \u001b[1;35mintegration_index_Scene.play\u001b[0m\u001b[1m(\u001b[0m\u001b[1m)\u001b[0m, \u001b[32m0.0151515\u001b[0m \u001b]8;id=621623;file:///home/carlo/Desktop/single-projects/manim-demopage/.venv_demo/lib/python3.12/site-packages/manim/scene/scene.py\u001b\\\u001b[2mscene.py\u001b[0m\u001b]8;;\u001b\\\u001b[2m:\u001b[0m\u001b]8;id=442325;file:///home/carlo/Desktop/single-projects/manim-demopage/.venv_demo/lib/python3.12/site-packages/manim/scene/scene.py#1044\u001b\\\u001b[2m1044\u001b[0m\u001b]8;;\u001b\\\n",
       "\u001b[2;36m                    \u001b[0m         seconds, is too short for the current frame rate of \u001b[32m60\u001b[0m FPS. \u001b[1;33mRendering\u001b[0m    \u001b[2m             \u001b[0m\n",
       "\u001b[2;36m                    \u001b[0m         with the shortest possible total run_time of \u001b[32m0.0166667\u001b[0m seconds instead.  \u001b[2m             \u001b[0m\n"
      ]
     },
     "metadata": {},
     "output_type": "display_data"
    },
    {
     "data": {
      "text/html": [
       "<pre style=\"white-space:pre;overflow-x:auto;line-height:normal;font-family:Menlo,'DejaVu Sans Mono',consolas,'Courier New',monospace\"><span style=\"color: #7fbfbf; text-decoration-color: #7fbfbf\">                    </span><span style=\"color: #800000; text-decoration-color: #800000\">WARNING </span> The original total run_time of <span style=\"color: #800080; text-decoration-color: #800080; font-weight: bold\">integration_index_Scene.play</span><span style=\"font-weight: bold\">()</span>, <span style=\"color: #008000; text-decoration-color: #008000\">0.0151515</span> <a href=\"file:///home/carlo/Desktop/single-projects/manim-demopage/.venv_demo/lib/python3.12/site-packages/manim/scene/scene.py\" target=\"_blank\"><span style=\"color: #7f7f7f; text-decoration-color: #7f7f7f\">scene.py</span></a><span style=\"color: #7f7f7f; text-decoration-color: #7f7f7f\">:</span><a href=\"file:///home/carlo/Desktop/single-projects/manim-demopage/.venv_demo/lib/python3.12/site-packages/manim/scene/scene.py#1044\" target=\"_blank\"><span style=\"color: #7f7f7f; text-decoration-color: #7f7f7f\">1044</span></a>\n",
       "<span style=\"color: #7fbfbf; text-decoration-color: #7fbfbf\">                    </span>         seconds, is too short for the current frame rate of <span style=\"color: #008000; text-decoration-color: #008000\">60</span> FPS. <span style=\"color: #808000; text-decoration-color: #808000; font-weight: bold\">Rendering</span>    <span style=\"color: #7f7f7f; text-decoration-color: #7f7f7f\">             </span>\n",
       "<span style=\"color: #7fbfbf; text-decoration-color: #7fbfbf\">                    </span>         with the shortest possible total run_time of <span style=\"color: #008000; text-decoration-color: #008000\">0.0166667</span> seconds instead.  <span style=\"color: #7f7f7f; text-decoration-color: #7f7f7f\">             </span>\n",
       "</pre>\n"
      ],
      "text/plain": [
       "\u001b[2;36m                   \u001b[0m\u001b[2;36m \u001b[0m\u001b[31mWARNING \u001b[0m The original total run_time of \u001b[1;35mintegration_index_Scene.play\u001b[0m\u001b[1m(\u001b[0m\u001b[1m)\u001b[0m, \u001b[32m0.0151515\u001b[0m \u001b]8;id=464220;file:///home/carlo/Desktop/single-projects/manim-demopage/.venv_demo/lib/python3.12/site-packages/manim/scene/scene.py\u001b\\\u001b[2mscene.py\u001b[0m\u001b]8;;\u001b\\\u001b[2m:\u001b[0m\u001b]8;id=602693;file:///home/carlo/Desktop/single-projects/manim-demopage/.venv_demo/lib/python3.12/site-packages/manim/scene/scene.py#1044\u001b\\\u001b[2m1044\u001b[0m\u001b]8;;\u001b\\\n",
       "\u001b[2;36m                    \u001b[0m         seconds, is too short for the current frame rate of \u001b[32m60\u001b[0m FPS. \u001b[1;33mRendering\u001b[0m    \u001b[2m             \u001b[0m\n",
       "\u001b[2;36m                    \u001b[0m         with the shortest possible total run_time of \u001b[32m0.0166667\u001b[0m seconds instead.  \u001b[2m             \u001b[0m\n"
      ]
     },
     "metadata": {},
     "output_type": "display_data"
    },
    {
     "data": {
      "text/html": [
       "<pre style=\"white-space:pre;overflow-x:auto;line-height:normal;font-family:Menlo,'DejaVu Sans Mono',consolas,'Courier New',monospace\"><span style=\"color: #7fbfbf; text-decoration-color: #7fbfbf\">[01/23/25 11:27:05] </span><span style=\"color: #800000; text-decoration-color: #800000\">WARNING </span> The original total run_time of <span style=\"color: #800080; text-decoration-color: #800080; font-weight: bold\">integration_index_Scene.play</span><span style=\"font-weight: bold\">()</span>, <span style=\"color: #008000; text-decoration-color: #008000\">0.0150376</span> <a href=\"file:///home/carlo/Desktop/single-projects/manim-demopage/.venv_demo/lib/python3.12/site-packages/manim/scene/scene.py\" target=\"_blank\"><span style=\"color: #7f7f7f; text-decoration-color: #7f7f7f\">scene.py</span></a><span style=\"color: #7f7f7f; text-decoration-color: #7f7f7f\">:</span><a href=\"file:///home/carlo/Desktop/single-projects/manim-demopage/.venv_demo/lib/python3.12/site-packages/manim/scene/scene.py#1044\" target=\"_blank\"><span style=\"color: #7f7f7f; text-decoration-color: #7f7f7f\">1044</span></a>\n",
       "<span style=\"color: #7fbfbf; text-decoration-color: #7fbfbf\">                    </span>         seconds, is too short for the current frame rate of <span style=\"color: #008000; text-decoration-color: #008000\">60</span> FPS. <span style=\"color: #808000; text-decoration-color: #808000; font-weight: bold\">Rendering</span>    <span style=\"color: #7f7f7f; text-decoration-color: #7f7f7f\">             </span>\n",
       "<span style=\"color: #7fbfbf; text-decoration-color: #7fbfbf\">                    </span>         with the shortest possible total run_time of <span style=\"color: #008000; text-decoration-color: #008000\">0.0166667</span> seconds instead.  <span style=\"color: #7f7f7f; text-decoration-color: #7f7f7f\">             </span>\n",
       "</pre>\n"
      ],
      "text/plain": [
       "\u001b[2;36m[01/23/25 11:27:05]\u001b[0m\u001b[2;36m \u001b[0m\u001b[31mWARNING \u001b[0m The original total run_time of \u001b[1;35mintegration_index_Scene.play\u001b[0m\u001b[1m(\u001b[0m\u001b[1m)\u001b[0m, \u001b[32m0.0150376\u001b[0m \u001b]8;id=949886;file:///home/carlo/Desktop/single-projects/manim-demopage/.venv_demo/lib/python3.12/site-packages/manim/scene/scene.py\u001b\\\u001b[2mscene.py\u001b[0m\u001b]8;;\u001b\\\u001b[2m:\u001b[0m\u001b]8;id=568616;file:///home/carlo/Desktop/single-projects/manim-demopage/.venv_demo/lib/python3.12/site-packages/manim/scene/scene.py#1044\u001b\\\u001b[2m1044\u001b[0m\u001b]8;;\u001b\\\n",
       "\u001b[2;36m                    \u001b[0m         seconds, is too short for the current frame rate of \u001b[32m60\u001b[0m FPS. \u001b[1;33mRendering\u001b[0m    \u001b[2m             \u001b[0m\n",
       "\u001b[2;36m                    \u001b[0m         with the shortest possible total run_time of \u001b[32m0.0166667\u001b[0m seconds instead.  \u001b[2m             \u001b[0m\n"
      ]
     },
     "metadata": {},
     "output_type": "display_data"
    },
    {
     "data": {
      "text/html": [
       "<pre style=\"white-space:pre;overflow-x:auto;line-height:normal;font-family:Menlo,'DejaVu Sans Mono',consolas,'Courier New',monospace\"><span style=\"color: #7fbfbf; text-decoration-color: #7fbfbf\">                    </span><span style=\"color: #800000; text-decoration-color: #800000\">WARNING </span> The original total run_time of <span style=\"color: #800080; text-decoration-color: #800080; font-weight: bold\">integration_index_Scene.play</span><span style=\"font-weight: bold\">()</span>, <span style=\"color: #008000; text-decoration-color: #008000\">0.0150376</span> <a href=\"file:///home/carlo/Desktop/single-projects/manim-demopage/.venv_demo/lib/python3.12/site-packages/manim/scene/scene.py\" target=\"_blank\"><span style=\"color: #7f7f7f; text-decoration-color: #7f7f7f\">scene.py</span></a><span style=\"color: #7f7f7f; text-decoration-color: #7f7f7f\">:</span><a href=\"file:///home/carlo/Desktop/single-projects/manim-demopage/.venv_demo/lib/python3.12/site-packages/manim/scene/scene.py#1044\" target=\"_blank\"><span style=\"color: #7f7f7f; text-decoration-color: #7f7f7f\">1044</span></a>\n",
       "<span style=\"color: #7fbfbf; text-decoration-color: #7fbfbf\">                    </span>         seconds, is too short for the current frame rate of <span style=\"color: #008000; text-decoration-color: #008000\">60</span> FPS. <span style=\"color: #808000; text-decoration-color: #808000; font-weight: bold\">Rendering</span>    <span style=\"color: #7f7f7f; text-decoration-color: #7f7f7f\">             </span>\n",
       "<span style=\"color: #7fbfbf; text-decoration-color: #7fbfbf\">                    </span>         with the shortest possible total run_time of <span style=\"color: #008000; text-decoration-color: #008000\">0.0166667</span> seconds instead.  <span style=\"color: #7f7f7f; text-decoration-color: #7f7f7f\">             </span>\n",
       "</pre>\n"
      ],
      "text/plain": [
       "\u001b[2;36m                   \u001b[0m\u001b[2;36m \u001b[0m\u001b[31mWARNING \u001b[0m The original total run_time of \u001b[1;35mintegration_index_Scene.play\u001b[0m\u001b[1m(\u001b[0m\u001b[1m)\u001b[0m, \u001b[32m0.0150376\u001b[0m \u001b]8;id=368536;file:///home/carlo/Desktop/single-projects/manim-demopage/.venv_demo/lib/python3.12/site-packages/manim/scene/scene.py\u001b\\\u001b[2mscene.py\u001b[0m\u001b]8;;\u001b\\\u001b[2m:\u001b[0m\u001b]8;id=704208;file:///home/carlo/Desktop/single-projects/manim-demopage/.venv_demo/lib/python3.12/site-packages/manim/scene/scene.py#1044\u001b\\\u001b[2m1044\u001b[0m\u001b]8;;\u001b\\\n",
       "\u001b[2;36m                    \u001b[0m         seconds, is too short for the current frame rate of \u001b[32m60\u001b[0m FPS. \u001b[1;33mRendering\u001b[0m    \u001b[2m             \u001b[0m\n",
       "\u001b[2;36m                    \u001b[0m         with the shortest possible total run_time of \u001b[32m0.0166667\u001b[0m seconds instead.  \u001b[2m             \u001b[0m\n"
      ]
     },
     "metadata": {},
     "output_type": "display_data"
    },
    {
     "data": {
      "text/html": [
       "<pre style=\"white-space:pre;overflow-x:auto;line-height:normal;font-family:Menlo,'DejaVu Sans Mono',consolas,'Courier New',monospace\"><span style=\"color: #7fbfbf; text-decoration-color: #7fbfbf\">                    </span><span style=\"color: #800000; text-decoration-color: #800000\">WARNING </span> The original total run_time of <span style=\"color: #800080; text-decoration-color: #800080; font-weight: bold\">integration_index_Scene.play</span><span style=\"font-weight: bold\">()</span>, <span style=\"color: #008000; text-decoration-color: #008000\">0.0149254</span> <a href=\"file:///home/carlo/Desktop/single-projects/manim-demopage/.venv_demo/lib/python3.12/site-packages/manim/scene/scene.py\" target=\"_blank\"><span style=\"color: #7f7f7f; text-decoration-color: #7f7f7f\">scene.py</span></a><span style=\"color: #7f7f7f; text-decoration-color: #7f7f7f\">:</span><a href=\"file:///home/carlo/Desktop/single-projects/manim-demopage/.venv_demo/lib/python3.12/site-packages/manim/scene/scene.py#1044\" target=\"_blank\"><span style=\"color: #7f7f7f; text-decoration-color: #7f7f7f\">1044</span></a>\n",
       "<span style=\"color: #7fbfbf; text-decoration-color: #7fbfbf\">                    </span>         seconds, is too short for the current frame rate of <span style=\"color: #008000; text-decoration-color: #008000\">60</span> FPS. <span style=\"color: #808000; text-decoration-color: #808000; font-weight: bold\">Rendering</span>    <span style=\"color: #7f7f7f; text-decoration-color: #7f7f7f\">             </span>\n",
       "<span style=\"color: #7fbfbf; text-decoration-color: #7fbfbf\">                    </span>         with the shortest possible total run_time of <span style=\"color: #008000; text-decoration-color: #008000\">0.0166667</span> seconds instead.  <span style=\"color: #7f7f7f; text-decoration-color: #7f7f7f\">             </span>\n",
       "</pre>\n"
      ],
      "text/plain": [
       "\u001b[2;36m                   \u001b[0m\u001b[2;36m \u001b[0m\u001b[31mWARNING \u001b[0m The original total run_time of \u001b[1;35mintegration_index_Scene.play\u001b[0m\u001b[1m(\u001b[0m\u001b[1m)\u001b[0m, \u001b[32m0.0149254\u001b[0m \u001b]8;id=415551;file:///home/carlo/Desktop/single-projects/manim-demopage/.venv_demo/lib/python3.12/site-packages/manim/scene/scene.py\u001b\\\u001b[2mscene.py\u001b[0m\u001b]8;;\u001b\\\u001b[2m:\u001b[0m\u001b]8;id=380529;file:///home/carlo/Desktop/single-projects/manim-demopage/.venv_demo/lib/python3.12/site-packages/manim/scene/scene.py#1044\u001b\\\u001b[2m1044\u001b[0m\u001b]8;;\u001b\\\n",
       "\u001b[2;36m                    \u001b[0m         seconds, is too short for the current frame rate of \u001b[32m60\u001b[0m FPS. \u001b[1;33mRendering\u001b[0m    \u001b[2m             \u001b[0m\n",
       "\u001b[2;36m                    \u001b[0m         with the shortest possible total run_time of \u001b[32m0.0166667\u001b[0m seconds instead.  \u001b[2m             \u001b[0m\n"
      ]
     },
     "metadata": {},
     "output_type": "display_data"
    },
    {
     "data": {
      "text/html": [
       "<pre style=\"white-space:pre;overflow-x:auto;line-height:normal;font-family:Menlo,'DejaVu Sans Mono',consolas,'Courier New',monospace\"><span style=\"color: #7fbfbf; text-decoration-color: #7fbfbf\">                    </span><span style=\"color: #800000; text-decoration-color: #800000\">WARNING </span> The original total run_time of <span style=\"color: #800080; text-decoration-color: #800080; font-weight: bold\">integration_index_Scene.play</span><span style=\"font-weight: bold\">()</span>, <span style=\"color: #008000; text-decoration-color: #008000\">0.0149254</span> <a href=\"file:///home/carlo/Desktop/single-projects/manim-demopage/.venv_demo/lib/python3.12/site-packages/manim/scene/scene.py\" target=\"_blank\"><span style=\"color: #7f7f7f; text-decoration-color: #7f7f7f\">scene.py</span></a><span style=\"color: #7f7f7f; text-decoration-color: #7f7f7f\">:</span><a href=\"file:///home/carlo/Desktop/single-projects/manim-demopage/.venv_demo/lib/python3.12/site-packages/manim/scene/scene.py#1044\" target=\"_blank\"><span style=\"color: #7f7f7f; text-decoration-color: #7f7f7f\">1044</span></a>\n",
       "<span style=\"color: #7fbfbf; text-decoration-color: #7fbfbf\">                    </span>         seconds, is too short for the current frame rate of <span style=\"color: #008000; text-decoration-color: #008000\">60</span> FPS. <span style=\"color: #808000; text-decoration-color: #808000; font-weight: bold\">Rendering</span>    <span style=\"color: #7f7f7f; text-decoration-color: #7f7f7f\">             </span>\n",
       "<span style=\"color: #7fbfbf; text-decoration-color: #7fbfbf\">                    </span>         with the shortest possible total run_time of <span style=\"color: #008000; text-decoration-color: #008000\">0.0166667</span> seconds instead.  <span style=\"color: #7f7f7f; text-decoration-color: #7f7f7f\">             </span>\n",
       "</pre>\n"
      ],
      "text/plain": [
       "\u001b[2;36m                   \u001b[0m\u001b[2;36m \u001b[0m\u001b[31mWARNING \u001b[0m The original total run_time of \u001b[1;35mintegration_index_Scene.play\u001b[0m\u001b[1m(\u001b[0m\u001b[1m)\u001b[0m, \u001b[32m0.0149254\u001b[0m \u001b]8;id=214199;file:///home/carlo/Desktop/single-projects/manim-demopage/.venv_demo/lib/python3.12/site-packages/manim/scene/scene.py\u001b\\\u001b[2mscene.py\u001b[0m\u001b]8;;\u001b\\\u001b[2m:\u001b[0m\u001b]8;id=433131;file:///home/carlo/Desktop/single-projects/manim-demopage/.venv_demo/lib/python3.12/site-packages/manim/scene/scene.py#1044\u001b\\\u001b[2m1044\u001b[0m\u001b]8;;\u001b\\\n",
       "\u001b[2;36m                    \u001b[0m         seconds, is too short for the current frame rate of \u001b[32m60\u001b[0m FPS. \u001b[1;33mRendering\u001b[0m    \u001b[2m             \u001b[0m\n",
       "\u001b[2;36m                    \u001b[0m         with the shortest possible total run_time of \u001b[32m0.0166667\u001b[0m seconds instead.  \u001b[2m             \u001b[0m\n"
      ]
     },
     "metadata": {},
     "output_type": "display_data"
    },
    {
     "data": {
      "text/html": [
       "<pre style=\"white-space:pre;overflow-x:auto;line-height:normal;font-family:Menlo,'DejaVu Sans Mono',consolas,'Courier New',monospace\"><span style=\"color: #7fbfbf; text-decoration-color: #7fbfbf\">                    </span><span style=\"color: #800000; text-decoration-color: #800000\">WARNING </span> The original total run_time of <span style=\"color: #800080; text-decoration-color: #800080; font-weight: bold\">integration_index_Scene.play</span><span style=\"font-weight: bold\">()</span>, <span style=\"color: #008000; text-decoration-color: #008000\">0.0148148</span> <a href=\"file:///home/carlo/Desktop/single-projects/manim-demopage/.venv_demo/lib/python3.12/site-packages/manim/scene/scene.py\" target=\"_blank\"><span style=\"color: #7f7f7f; text-decoration-color: #7f7f7f\">scene.py</span></a><span style=\"color: #7f7f7f; text-decoration-color: #7f7f7f\">:</span><a href=\"file:///home/carlo/Desktop/single-projects/manim-demopage/.venv_demo/lib/python3.12/site-packages/manim/scene/scene.py#1044\" target=\"_blank\"><span style=\"color: #7f7f7f; text-decoration-color: #7f7f7f\">1044</span></a>\n",
       "<span style=\"color: #7fbfbf; text-decoration-color: #7fbfbf\">                    </span>         seconds, is too short for the current frame rate of <span style=\"color: #008000; text-decoration-color: #008000\">60</span> FPS. <span style=\"color: #808000; text-decoration-color: #808000; font-weight: bold\">Rendering</span>    <span style=\"color: #7f7f7f; text-decoration-color: #7f7f7f\">             </span>\n",
       "<span style=\"color: #7fbfbf; text-decoration-color: #7fbfbf\">                    </span>         with the shortest possible total run_time of <span style=\"color: #008000; text-decoration-color: #008000\">0.0166667</span> seconds instead.  <span style=\"color: #7f7f7f; text-decoration-color: #7f7f7f\">             </span>\n",
       "</pre>\n"
      ],
      "text/plain": [
       "\u001b[2;36m                   \u001b[0m\u001b[2;36m \u001b[0m\u001b[31mWARNING \u001b[0m The original total run_time of \u001b[1;35mintegration_index_Scene.play\u001b[0m\u001b[1m(\u001b[0m\u001b[1m)\u001b[0m, \u001b[32m0.0148148\u001b[0m \u001b]8;id=904900;file:///home/carlo/Desktop/single-projects/manim-demopage/.venv_demo/lib/python3.12/site-packages/manim/scene/scene.py\u001b\\\u001b[2mscene.py\u001b[0m\u001b]8;;\u001b\\\u001b[2m:\u001b[0m\u001b]8;id=873593;file:///home/carlo/Desktop/single-projects/manim-demopage/.venv_demo/lib/python3.12/site-packages/manim/scene/scene.py#1044\u001b\\\u001b[2m1044\u001b[0m\u001b]8;;\u001b\\\n",
       "\u001b[2;36m                    \u001b[0m         seconds, is too short for the current frame rate of \u001b[32m60\u001b[0m FPS. \u001b[1;33mRendering\u001b[0m    \u001b[2m             \u001b[0m\n",
       "\u001b[2;36m                    \u001b[0m         with the shortest possible total run_time of \u001b[32m0.0166667\u001b[0m seconds instead.  \u001b[2m             \u001b[0m\n"
      ]
     },
     "metadata": {},
     "output_type": "display_data"
    },
    {
     "data": {
      "text/html": [
       "<pre style=\"white-space:pre;overflow-x:auto;line-height:normal;font-family:Menlo,'DejaVu Sans Mono',consolas,'Courier New',monospace\"><span style=\"color: #7fbfbf; text-decoration-color: #7fbfbf\">                    </span><span style=\"color: #800000; text-decoration-color: #800000\">WARNING </span> The original total run_time of <span style=\"color: #800080; text-decoration-color: #800080; font-weight: bold\">integration_index_Scene.play</span><span style=\"font-weight: bold\">()</span>, <span style=\"color: #008000; text-decoration-color: #008000\">0.0148148</span> <a href=\"file:///home/carlo/Desktop/single-projects/manim-demopage/.venv_demo/lib/python3.12/site-packages/manim/scene/scene.py\" target=\"_blank\"><span style=\"color: #7f7f7f; text-decoration-color: #7f7f7f\">scene.py</span></a><span style=\"color: #7f7f7f; text-decoration-color: #7f7f7f\">:</span><a href=\"file:///home/carlo/Desktop/single-projects/manim-demopage/.venv_demo/lib/python3.12/site-packages/manim/scene/scene.py#1044\" target=\"_blank\"><span style=\"color: #7f7f7f; text-decoration-color: #7f7f7f\">1044</span></a>\n",
       "<span style=\"color: #7fbfbf; text-decoration-color: #7fbfbf\">                    </span>         seconds, is too short for the current frame rate of <span style=\"color: #008000; text-decoration-color: #008000\">60</span> FPS. <span style=\"color: #808000; text-decoration-color: #808000; font-weight: bold\">Rendering</span>    <span style=\"color: #7f7f7f; text-decoration-color: #7f7f7f\">             </span>\n",
       "<span style=\"color: #7fbfbf; text-decoration-color: #7fbfbf\">                    </span>         with the shortest possible total run_time of <span style=\"color: #008000; text-decoration-color: #008000\">0.0166667</span> seconds instead.  <span style=\"color: #7f7f7f; text-decoration-color: #7f7f7f\">             </span>\n",
       "</pre>\n"
      ],
      "text/plain": [
       "\u001b[2;36m                   \u001b[0m\u001b[2;36m \u001b[0m\u001b[31mWARNING \u001b[0m The original total run_time of \u001b[1;35mintegration_index_Scene.play\u001b[0m\u001b[1m(\u001b[0m\u001b[1m)\u001b[0m, \u001b[32m0.0148148\u001b[0m \u001b]8;id=130021;file:///home/carlo/Desktop/single-projects/manim-demopage/.venv_demo/lib/python3.12/site-packages/manim/scene/scene.py\u001b\\\u001b[2mscene.py\u001b[0m\u001b]8;;\u001b\\\u001b[2m:\u001b[0m\u001b]8;id=98900;file:///home/carlo/Desktop/single-projects/manim-demopage/.venv_demo/lib/python3.12/site-packages/manim/scene/scene.py#1044\u001b\\\u001b[2m1044\u001b[0m\u001b]8;;\u001b\\\n",
       "\u001b[2;36m                    \u001b[0m         seconds, is too short for the current frame rate of \u001b[32m60\u001b[0m FPS. \u001b[1;33mRendering\u001b[0m    \u001b[2m             \u001b[0m\n",
       "\u001b[2;36m                    \u001b[0m         with the shortest possible total run_time of \u001b[32m0.0166667\u001b[0m seconds instead.  \u001b[2m             \u001b[0m\n"
      ]
     },
     "metadata": {},
     "output_type": "display_data"
    },
    {
     "data": {
      "text/html": [
       "<pre style=\"white-space:pre;overflow-x:auto;line-height:normal;font-family:Menlo,'DejaVu Sans Mono',consolas,'Courier New',monospace\"><span style=\"color: #7fbfbf; text-decoration-color: #7fbfbf\">                    </span><span style=\"color: #800000; text-decoration-color: #800000\">WARNING </span> The original total run_time of <span style=\"color: #800080; text-decoration-color: #800080; font-weight: bold\">integration_index_Scene.play</span><span style=\"font-weight: bold\">()</span>, <span style=\"color: #008000; text-decoration-color: #008000\">0.0147059</span> <a href=\"file:///home/carlo/Desktop/single-projects/manim-demopage/.venv_demo/lib/python3.12/site-packages/manim/scene/scene.py\" target=\"_blank\"><span style=\"color: #7f7f7f; text-decoration-color: #7f7f7f\">scene.py</span></a><span style=\"color: #7f7f7f; text-decoration-color: #7f7f7f\">:</span><a href=\"file:///home/carlo/Desktop/single-projects/manim-demopage/.venv_demo/lib/python3.12/site-packages/manim/scene/scene.py#1044\" target=\"_blank\"><span style=\"color: #7f7f7f; text-decoration-color: #7f7f7f\">1044</span></a>\n",
       "<span style=\"color: #7fbfbf; text-decoration-color: #7fbfbf\">                    </span>         seconds, is too short for the current frame rate of <span style=\"color: #008000; text-decoration-color: #008000\">60</span> FPS. <span style=\"color: #808000; text-decoration-color: #808000; font-weight: bold\">Rendering</span>    <span style=\"color: #7f7f7f; text-decoration-color: #7f7f7f\">             </span>\n",
       "<span style=\"color: #7fbfbf; text-decoration-color: #7fbfbf\">                    </span>         with the shortest possible total run_time of <span style=\"color: #008000; text-decoration-color: #008000\">0.0166667</span> seconds instead.  <span style=\"color: #7f7f7f; text-decoration-color: #7f7f7f\">             </span>\n",
       "</pre>\n"
      ],
      "text/plain": [
       "\u001b[2;36m                   \u001b[0m\u001b[2;36m \u001b[0m\u001b[31mWARNING \u001b[0m The original total run_time of \u001b[1;35mintegration_index_Scene.play\u001b[0m\u001b[1m(\u001b[0m\u001b[1m)\u001b[0m, \u001b[32m0.0147059\u001b[0m \u001b]8;id=856740;file:///home/carlo/Desktop/single-projects/manim-demopage/.venv_demo/lib/python3.12/site-packages/manim/scene/scene.py\u001b\\\u001b[2mscene.py\u001b[0m\u001b]8;;\u001b\\\u001b[2m:\u001b[0m\u001b]8;id=405975;file:///home/carlo/Desktop/single-projects/manim-demopage/.venv_demo/lib/python3.12/site-packages/manim/scene/scene.py#1044\u001b\\\u001b[2m1044\u001b[0m\u001b]8;;\u001b\\\n",
       "\u001b[2;36m                    \u001b[0m         seconds, is too short for the current frame rate of \u001b[32m60\u001b[0m FPS. \u001b[1;33mRendering\u001b[0m    \u001b[2m             \u001b[0m\n",
       "\u001b[2;36m                    \u001b[0m         with the shortest possible total run_time of \u001b[32m0.0166667\u001b[0m seconds instead.  \u001b[2m             \u001b[0m\n"
      ]
     },
     "metadata": {},
     "output_type": "display_data"
    },
    {
     "data": {
      "text/html": [
       "<pre style=\"white-space:pre;overflow-x:auto;line-height:normal;font-family:Menlo,'DejaVu Sans Mono',consolas,'Courier New',monospace\"><span style=\"color: #7fbfbf; text-decoration-color: #7fbfbf\">                    </span><span style=\"color: #800000; text-decoration-color: #800000\">WARNING </span> The original total run_time of <span style=\"color: #800080; text-decoration-color: #800080; font-weight: bold\">integration_index_Scene.play</span><span style=\"font-weight: bold\">()</span>, <span style=\"color: #008000; text-decoration-color: #008000\">0.0147059</span> <a href=\"file:///home/carlo/Desktop/single-projects/manim-demopage/.venv_demo/lib/python3.12/site-packages/manim/scene/scene.py\" target=\"_blank\"><span style=\"color: #7f7f7f; text-decoration-color: #7f7f7f\">scene.py</span></a><span style=\"color: #7f7f7f; text-decoration-color: #7f7f7f\">:</span><a href=\"file:///home/carlo/Desktop/single-projects/manim-demopage/.venv_demo/lib/python3.12/site-packages/manim/scene/scene.py#1044\" target=\"_blank\"><span style=\"color: #7f7f7f; text-decoration-color: #7f7f7f\">1044</span></a>\n",
       "<span style=\"color: #7fbfbf; text-decoration-color: #7fbfbf\">                    </span>         seconds, is too short for the current frame rate of <span style=\"color: #008000; text-decoration-color: #008000\">60</span> FPS. <span style=\"color: #808000; text-decoration-color: #808000; font-weight: bold\">Rendering</span>    <span style=\"color: #7f7f7f; text-decoration-color: #7f7f7f\">             </span>\n",
       "<span style=\"color: #7fbfbf; text-decoration-color: #7fbfbf\">                    </span>         with the shortest possible total run_time of <span style=\"color: #008000; text-decoration-color: #008000\">0.0166667</span> seconds instead.  <span style=\"color: #7f7f7f; text-decoration-color: #7f7f7f\">             </span>\n",
       "</pre>\n"
      ],
      "text/plain": [
       "\u001b[2;36m                   \u001b[0m\u001b[2;36m \u001b[0m\u001b[31mWARNING \u001b[0m The original total run_time of \u001b[1;35mintegration_index_Scene.play\u001b[0m\u001b[1m(\u001b[0m\u001b[1m)\u001b[0m, \u001b[32m0.0147059\u001b[0m \u001b]8;id=228854;file:///home/carlo/Desktop/single-projects/manim-demopage/.venv_demo/lib/python3.12/site-packages/manim/scene/scene.py\u001b\\\u001b[2mscene.py\u001b[0m\u001b]8;;\u001b\\\u001b[2m:\u001b[0m\u001b]8;id=57630;file:///home/carlo/Desktop/single-projects/manim-demopage/.venv_demo/lib/python3.12/site-packages/manim/scene/scene.py#1044\u001b\\\u001b[2m1044\u001b[0m\u001b]8;;\u001b\\\n",
       "\u001b[2;36m                    \u001b[0m         seconds, is too short for the current frame rate of \u001b[32m60\u001b[0m FPS. \u001b[1;33mRendering\u001b[0m    \u001b[2m             \u001b[0m\n",
       "\u001b[2;36m                    \u001b[0m         with the shortest possible total run_time of \u001b[32m0.0166667\u001b[0m seconds instead.  \u001b[2m             \u001b[0m\n"
      ]
     },
     "metadata": {},
     "output_type": "display_data"
    },
    {
     "data": {
      "text/html": [
       "<pre style=\"white-space:pre;overflow-x:auto;line-height:normal;font-family:Menlo,'DejaVu Sans Mono',consolas,'Courier New',monospace\"><span style=\"color: #7fbfbf; text-decoration-color: #7fbfbf\">                    </span><span style=\"color: #800000; text-decoration-color: #800000\">WARNING </span> The original total run_time of <span style=\"color: #800080; text-decoration-color: #800080; font-weight: bold\">integration_index_Scene.play</span><span style=\"font-weight: bold\">()</span>, <span style=\"color: #008000; text-decoration-color: #008000\">0.0145985</span> <a href=\"file:///home/carlo/Desktop/single-projects/manim-demopage/.venv_demo/lib/python3.12/site-packages/manim/scene/scene.py\" target=\"_blank\"><span style=\"color: #7f7f7f; text-decoration-color: #7f7f7f\">scene.py</span></a><span style=\"color: #7f7f7f; text-decoration-color: #7f7f7f\">:</span><a href=\"file:///home/carlo/Desktop/single-projects/manim-demopage/.venv_demo/lib/python3.12/site-packages/manim/scene/scene.py#1044\" target=\"_blank\"><span style=\"color: #7f7f7f; text-decoration-color: #7f7f7f\">1044</span></a>\n",
       "<span style=\"color: #7fbfbf; text-decoration-color: #7fbfbf\">                    </span>         seconds, is too short for the current frame rate of <span style=\"color: #008000; text-decoration-color: #008000\">60</span> FPS. <span style=\"color: #808000; text-decoration-color: #808000; font-weight: bold\">Rendering</span>    <span style=\"color: #7f7f7f; text-decoration-color: #7f7f7f\">             </span>\n",
       "<span style=\"color: #7fbfbf; text-decoration-color: #7fbfbf\">                    </span>         with the shortest possible total run_time of <span style=\"color: #008000; text-decoration-color: #008000\">0.0166667</span> seconds instead.  <span style=\"color: #7f7f7f; text-decoration-color: #7f7f7f\">             </span>\n",
       "</pre>\n"
      ],
      "text/plain": [
       "\u001b[2;36m                   \u001b[0m\u001b[2;36m \u001b[0m\u001b[31mWARNING \u001b[0m The original total run_time of \u001b[1;35mintegration_index_Scene.play\u001b[0m\u001b[1m(\u001b[0m\u001b[1m)\u001b[0m, \u001b[32m0.0145985\u001b[0m \u001b]8;id=893250;file:///home/carlo/Desktop/single-projects/manim-demopage/.venv_demo/lib/python3.12/site-packages/manim/scene/scene.py\u001b\\\u001b[2mscene.py\u001b[0m\u001b]8;;\u001b\\\u001b[2m:\u001b[0m\u001b]8;id=35763;file:///home/carlo/Desktop/single-projects/manim-demopage/.venv_demo/lib/python3.12/site-packages/manim/scene/scene.py#1044\u001b\\\u001b[2m1044\u001b[0m\u001b]8;;\u001b\\\n",
       "\u001b[2;36m                    \u001b[0m         seconds, is too short for the current frame rate of \u001b[32m60\u001b[0m FPS. \u001b[1;33mRendering\u001b[0m    \u001b[2m             \u001b[0m\n",
       "\u001b[2;36m                    \u001b[0m         with the shortest possible total run_time of \u001b[32m0.0166667\u001b[0m seconds instead.  \u001b[2m             \u001b[0m\n"
      ]
     },
     "metadata": {},
     "output_type": "display_data"
    },
    {
     "data": {
      "text/html": [
       "<pre style=\"white-space:pre;overflow-x:auto;line-height:normal;font-family:Menlo,'DejaVu Sans Mono',consolas,'Courier New',monospace\"><span style=\"color: #7fbfbf; text-decoration-color: #7fbfbf\">                    </span><span style=\"color: #800000; text-decoration-color: #800000\">WARNING </span> The original total run_time of <span style=\"color: #800080; text-decoration-color: #800080; font-weight: bold\">integration_index_Scene.play</span><span style=\"font-weight: bold\">()</span>, <span style=\"color: #008000; text-decoration-color: #008000\">0.0145985</span> <a href=\"file:///home/carlo/Desktop/single-projects/manim-demopage/.venv_demo/lib/python3.12/site-packages/manim/scene/scene.py\" target=\"_blank\"><span style=\"color: #7f7f7f; text-decoration-color: #7f7f7f\">scene.py</span></a><span style=\"color: #7f7f7f; text-decoration-color: #7f7f7f\">:</span><a href=\"file:///home/carlo/Desktop/single-projects/manim-demopage/.venv_demo/lib/python3.12/site-packages/manim/scene/scene.py#1044\" target=\"_blank\"><span style=\"color: #7f7f7f; text-decoration-color: #7f7f7f\">1044</span></a>\n",
       "<span style=\"color: #7fbfbf; text-decoration-color: #7fbfbf\">                    </span>         seconds, is too short for the current frame rate of <span style=\"color: #008000; text-decoration-color: #008000\">60</span> FPS. <span style=\"color: #808000; text-decoration-color: #808000; font-weight: bold\">Rendering</span>    <span style=\"color: #7f7f7f; text-decoration-color: #7f7f7f\">             </span>\n",
       "<span style=\"color: #7fbfbf; text-decoration-color: #7fbfbf\">                    </span>         with the shortest possible total run_time of <span style=\"color: #008000; text-decoration-color: #008000\">0.0166667</span> seconds instead.  <span style=\"color: #7f7f7f; text-decoration-color: #7f7f7f\">             </span>\n",
       "</pre>\n"
      ],
      "text/plain": [
       "\u001b[2;36m                   \u001b[0m\u001b[2;36m \u001b[0m\u001b[31mWARNING \u001b[0m The original total run_time of \u001b[1;35mintegration_index_Scene.play\u001b[0m\u001b[1m(\u001b[0m\u001b[1m)\u001b[0m, \u001b[32m0.0145985\u001b[0m \u001b]8;id=540970;file:///home/carlo/Desktop/single-projects/manim-demopage/.venv_demo/lib/python3.12/site-packages/manim/scene/scene.py\u001b\\\u001b[2mscene.py\u001b[0m\u001b]8;;\u001b\\\u001b[2m:\u001b[0m\u001b]8;id=868879;file:///home/carlo/Desktop/single-projects/manim-demopage/.venv_demo/lib/python3.12/site-packages/manim/scene/scene.py#1044\u001b\\\u001b[2m1044\u001b[0m\u001b]8;;\u001b\\\n",
       "\u001b[2;36m                    \u001b[0m         seconds, is too short for the current frame rate of \u001b[32m60\u001b[0m FPS. \u001b[1;33mRendering\u001b[0m    \u001b[2m             \u001b[0m\n",
       "\u001b[2;36m                    \u001b[0m         with the shortest possible total run_time of \u001b[32m0.0166667\u001b[0m seconds instead.  \u001b[2m             \u001b[0m\n"
      ]
     },
     "metadata": {},
     "output_type": "display_data"
    },
    {
     "data": {
      "text/html": [
       "<pre style=\"white-space:pre;overflow-x:auto;line-height:normal;font-family:Menlo,'DejaVu Sans Mono',consolas,'Courier New',monospace\"><span style=\"color: #7fbfbf; text-decoration-color: #7fbfbf\">                    </span><span style=\"color: #800000; text-decoration-color: #800000\">WARNING </span> The original total run_time of <span style=\"color: #800080; text-decoration-color: #800080; font-weight: bold\">integration_index_Scene.play</span><span style=\"font-weight: bold\">()</span>, <span style=\"color: #008000; text-decoration-color: #008000\">0.0144928</span> <a href=\"file:///home/carlo/Desktop/single-projects/manim-demopage/.venv_demo/lib/python3.12/site-packages/manim/scene/scene.py\" target=\"_blank\"><span style=\"color: #7f7f7f; text-decoration-color: #7f7f7f\">scene.py</span></a><span style=\"color: #7f7f7f; text-decoration-color: #7f7f7f\">:</span><a href=\"file:///home/carlo/Desktop/single-projects/manim-demopage/.venv_demo/lib/python3.12/site-packages/manim/scene/scene.py#1044\" target=\"_blank\"><span style=\"color: #7f7f7f; text-decoration-color: #7f7f7f\">1044</span></a>\n",
       "<span style=\"color: #7fbfbf; text-decoration-color: #7fbfbf\">                    </span>         seconds, is too short for the current frame rate of <span style=\"color: #008000; text-decoration-color: #008000\">60</span> FPS. <span style=\"color: #808000; text-decoration-color: #808000; font-weight: bold\">Rendering</span>    <span style=\"color: #7f7f7f; text-decoration-color: #7f7f7f\">             </span>\n",
       "<span style=\"color: #7fbfbf; text-decoration-color: #7fbfbf\">                    </span>         with the shortest possible total run_time of <span style=\"color: #008000; text-decoration-color: #008000\">0.0166667</span> seconds instead.  <span style=\"color: #7f7f7f; text-decoration-color: #7f7f7f\">             </span>\n",
       "</pre>\n"
      ],
      "text/plain": [
       "\u001b[2;36m                   \u001b[0m\u001b[2;36m \u001b[0m\u001b[31mWARNING \u001b[0m The original total run_time of \u001b[1;35mintegration_index_Scene.play\u001b[0m\u001b[1m(\u001b[0m\u001b[1m)\u001b[0m, \u001b[32m0.0144928\u001b[0m \u001b]8;id=275078;file:///home/carlo/Desktop/single-projects/manim-demopage/.venv_demo/lib/python3.12/site-packages/manim/scene/scene.py\u001b\\\u001b[2mscene.py\u001b[0m\u001b]8;;\u001b\\\u001b[2m:\u001b[0m\u001b]8;id=855145;file:///home/carlo/Desktop/single-projects/manim-demopage/.venv_demo/lib/python3.12/site-packages/manim/scene/scene.py#1044\u001b\\\u001b[2m1044\u001b[0m\u001b]8;;\u001b\\\n",
       "\u001b[2;36m                    \u001b[0m         seconds, is too short for the current frame rate of \u001b[32m60\u001b[0m FPS. \u001b[1;33mRendering\u001b[0m    \u001b[2m             \u001b[0m\n",
       "\u001b[2;36m                    \u001b[0m         with the shortest possible total run_time of \u001b[32m0.0166667\u001b[0m seconds instead.  \u001b[2m             \u001b[0m\n"
      ]
     },
     "metadata": {},
     "output_type": "display_data"
    },
    {
     "data": {
      "text/html": [
       "<pre style=\"white-space:pre;overflow-x:auto;line-height:normal;font-family:Menlo,'DejaVu Sans Mono',consolas,'Courier New',monospace\"><span style=\"color: #7fbfbf; text-decoration-color: #7fbfbf\">                    </span><span style=\"color: #800000; text-decoration-color: #800000\">WARNING </span> The original total run_time of <span style=\"color: #800080; text-decoration-color: #800080; font-weight: bold\">integration_index_Scene.play</span><span style=\"font-weight: bold\">()</span>, <span style=\"color: #008000; text-decoration-color: #008000\">0.0144928</span> <a href=\"file:///home/carlo/Desktop/single-projects/manim-demopage/.venv_demo/lib/python3.12/site-packages/manim/scene/scene.py\" target=\"_blank\"><span style=\"color: #7f7f7f; text-decoration-color: #7f7f7f\">scene.py</span></a><span style=\"color: #7f7f7f; text-decoration-color: #7f7f7f\">:</span><a href=\"file:///home/carlo/Desktop/single-projects/manim-demopage/.venv_demo/lib/python3.12/site-packages/manim/scene/scene.py#1044\" target=\"_blank\"><span style=\"color: #7f7f7f; text-decoration-color: #7f7f7f\">1044</span></a>\n",
       "<span style=\"color: #7fbfbf; text-decoration-color: #7fbfbf\">                    </span>         seconds, is too short for the current frame rate of <span style=\"color: #008000; text-decoration-color: #008000\">60</span> FPS. <span style=\"color: #808000; text-decoration-color: #808000; font-weight: bold\">Rendering</span>    <span style=\"color: #7f7f7f; text-decoration-color: #7f7f7f\">             </span>\n",
       "<span style=\"color: #7fbfbf; text-decoration-color: #7fbfbf\">                    </span>         with the shortest possible total run_time of <span style=\"color: #008000; text-decoration-color: #008000\">0.0166667</span> seconds instead.  <span style=\"color: #7f7f7f; text-decoration-color: #7f7f7f\">             </span>\n",
       "</pre>\n"
      ],
      "text/plain": [
       "\u001b[2;36m                   \u001b[0m\u001b[2;36m \u001b[0m\u001b[31mWARNING \u001b[0m The original total run_time of \u001b[1;35mintegration_index_Scene.play\u001b[0m\u001b[1m(\u001b[0m\u001b[1m)\u001b[0m, \u001b[32m0.0144928\u001b[0m \u001b]8;id=94089;file:///home/carlo/Desktop/single-projects/manim-demopage/.venv_demo/lib/python3.12/site-packages/manim/scene/scene.py\u001b\\\u001b[2mscene.py\u001b[0m\u001b]8;;\u001b\\\u001b[2m:\u001b[0m\u001b]8;id=768501;file:///home/carlo/Desktop/single-projects/manim-demopage/.venv_demo/lib/python3.12/site-packages/manim/scene/scene.py#1044\u001b\\\u001b[2m1044\u001b[0m\u001b]8;;\u001b\\\n",
       "\u001b[2;36m                    \u001b[0m         seconds, is too short for the current frame rate of \u001b[32m60\u001b[0m FPS. \u001b[1;33mRendering\u001b[0m    \u001b[2m             \u001b[0m\n",
       "\u001b[2;36m                    \u001b[0m         with the shortest possible total run_time of \u001b[32m0.0166667\u001b[0m seconds instead.  \u001b[2m             \u001b[0m\n"
      ]
     },
     "metadata": {},
     "output_type": "display_data"
    },
    {
     "data": {
      "text/html": [
       "<pre style=\"white-space:pre;overflow-x:auto;line-height:normal;font-family:Menlo,'DejaVu Sans Mono',consolas,'Courier New',monospace\"><span style=\"color: #7fbfbf; text-decoration-color: #7fbfbf\">[01/23/25 11:27:06] </span><span style=\"color: #800000; text-decoration-color: #800000\">WARNING </span> The original total run_time of <span style=\"color: #800080; text-decoration-color: #800080; font-weight: bold\">integration_index_Scene.play</span><span style=\"font-weight: bold\">()</span>, <span style=\"color: #008000; text-decoration-color: #008000\">0.0143885</span> <a href=\"file:///home/carlo/Desktop/single-projects/manim-demopage/.venv_demo/lib/python3.12/site-packages/manim/scene/scene.py\" target=\"_blank\"><span style=\"color: #7f7f7f; text-decoration-color: #7f7f7f\">scene.py</span></a><span style=\"color: #7f7f7f; text-decoration-color: #7f7f7f\">:</span><a href=\"file:///home/carlo/Desktop/single-projects/manim-demopage/.venv_demo/lib/python3.12/site-packages/manim/scene/scene.py#1044\" target=\"_blank\"><span style=\"color: #7f7f7f; text-decoration-color: #7f7f7f\">1044</span></a>\n",
       "<span style=\"color: #7fbfbf; text-decoration-color: #7fbfbf\">                    </span>         seconds, is too short for the current frame rate of <span style=\"color: #008000; text-decoration-color: #008000\">60</span> FPS. <span style=\"color: #808000; text-decoration-color: #808000; font-weight: bold\">Rendering</span>    <span style=\"color: #7f7f7f; text-decoration-color: #7f7f7f\">             </span>\n",
       "<span style=\"color: #7fbfbf; text-decoration-color: #7fbfbf\">                    </span>         with the shortest possible total run_time of <span style=\"color: #008000; text-decoration-color: #008000\">0.0166667</span> seconds instead.  <span style=\"color: #7f7f7f; text-decoration-color: #7f7f7f\">             </span>\n",
       "</pre>\n"
      ],
      "text/plain": [
       "\u001b[2;36m[01/23/25 11:27:06]\u001b[0m\u001b[2;36m \u001b[0m\u001b[31mWARNING \u001b[0m The original total run_time of \u001b[1;35mintegration_index_Scene.play\u001b[0m\u001b[1m(\u001b[0m\u001b[1m)\u001b[0m, \u001b[32m0.0143885\u001b[0m \u001b]8;id=217661;file:///home/carlo/Desktop/single-projects/manim-demopage/.venv_demo/lib/python3.12/site-packages/manim/scene/scene.py\u001b\\\u001b[2mscene.py\u001b[0m\u001b]8;;\u001b\\\u001b[2m:\u001b[0m\u001b]8;id=120744;file:///home/carlo/Desktop/single-projects/manim-demopage/.venv_demo/lib/python3.12/site-packages/manim/scene/scene.py#1044\u001b\\\u001b[2m1044\u001b[0m\u001b]8;;\u001b\\\n",
       "\u001b[2;36m                    \u001b[0m         seconds, is too short for the current frame rate of \u001b[32m60\u001b[0m FPS. \u001b[1;33mRendering\u001b[0m    \u001b[2m             \u001b[0m\n",
       "\u001b[2;36m                    \u001b[0m         with the shortest possible total run_time of \u001b[32m0.0166667\u001b[0m seconds instead.  \u001b[2m             \u001b[0m\n"
      ]
     },
     "metadata": {},
     "output_type": "display_data"
    },
    {
     "data": {
      "text/html": [
       "<pre style=\"white-space:pre;overflow-x:auto;line-height:normal;font-family:Menlo,'DejaVu Sans Mono',consolas,'Courier New',monospace\"><span style=\"color: #7fbfbf; text-decoration-color: #7fbfbf\">                    </span><span style=\"color: #800000; text-decoration-color: #800000\">WARNING </span> The original total run_time of <span style=\"color: #800080; text-decoration-color: #800080; font-weight: bold\">integration_index_Scene.play</span><span style=\"font-weight: bold\">()</span>, <span style=\"color: #008000; text-decoration-color: #008000\">0.0143885</span> <a href=\"file:///home/carlo/Desktop/single-projects/manim-demopage/.venv_demo/lib/python3.12/site-packages/manim/scene/scene.py\" target=\"_blank\"><span style=\"color: #7f7f7f; text-decoration-color: #7f7f7f\">scene.py</span></a><span style=\"color: #7f7f7f; text-decoration-color: #7f7f7f\">:</span><a href=\"file:///home/carlo/Desktop/single-projects/manim-demopage/.venv_demo/lib/python3.12/site-packages/manim/scene/scene.py#1044\" target=\"_blank\"><span style=\"color: #7f7f7f; text-decoration-color: #7f7f7f\">1044</span></a>\n",
       "<span style=\"color: #7fbfbf; text-decoration-color: #7fbfbf\">                    </span>         seconds, is too short for the current frame rate of <span style=\"color: #008000; text-decoration-color: #008000\">60</span> FPS. <span style=\"color: #808000; text-decoration-color: #808000; font-weight: bold\">Rendering</span>    <span style=\"color: #7f7f7f; text-decoration-color: #7f7f7f\">             </span>\n",
       "<span style=\"color: #7fbfbf; text-decoration-color: #7fbfbf\">                    </span>         with the shortest possible total run_time of <span style=\"color: #008000; text-decoration-color: #008000\">0.0166667</span> seconds instead.  <span style=\"color: #7f7f7f; text-decoration-color: #7f7f7f\">             </span>\n",
       "</pre>\n"
      ],
      "text/plain": [
       "\u001b[2;36m                   \u001b[0m\u001b[2;36m \u001b[0m\u001b[31mWARNING \u001b[0m The original total run_time of \u001b[1;35mintegration_index_Scene.play\u001b[0m\u001b[1m(\u001b[0m\u001b[1m)\u001b[0m, \u001b[32m0.0143885\u001b[0m \u001b]8;id=754185;file:///home/carlo/Desktop/single-projects/manim-demopage/.venv_demo/lib/python3.12/site-packages/manim/scene/scene.py\u001b\\\u001b[2mscene.py\u001b[0m\u001b]8;;\u001b\\\u001b[2m:\u001b[0m\u001b]8;id=167705;file:///home/carlo/Desktop/single-projects/manim-demopage/.venv_demo/lib/python3.12/site-packages/manim/scene/scene.py#1044\u001b\\\u001b[2m1044\u001b[0m\u001b]8;;\u001b\\\n",
       "\u001b[2;36m                    \u001b[0m         seconds, is too short for the current frame rate of \u001b[32m60\u001b[0m FPS. \u001b[1;33mRendering\u001b[0m    \u001b[2m             \u001b[0m\n",
       "\u001b[2;36m                    \u001b[0m         with the shortest possible total run_time of \u001b[32m0.0166667\u001b[0m seconds instead.  \u001b[2m             \u001b[0m\n"
      ]
     },
     "metadata": {},
     "output_type": "display_data"
    },
    {
     "data": {
      "text/html": [
       "<pre style=\"white-space:pre;overflow-x:auto;line-height:normal;font-family:Menlo,'DejaVu Sans Mono',consolas,'Courier New',monospace\"><span style=\"color: #7fbfbf; text-decoration-color: #7fbfbf\">                    </span><span style=\"color: #800000; text-decoration-color: #800000\">WARNING </span> The original total run_time of <span style=\"color: #800080; text-decoration-color: #800080; font-weight: bold\">integration_index_Scene.play</span><span style=\"font-weight: bold\">()</span>, <span style=\"color: #008000; text-decoration-color: #008000\">0.0142857</span> <a href=\"file:///home/carlo/Desktop/single-projects/manim-demopage/.venv_demo/lib/python3.12/site-packages/manim/scene/scene.py\" target=\"_blank\"><span style=\"color: #7f7f7f; text-decoration-color: #7f7f7f\">scene.py</span></a><span style=\"color: #7f7f7f; text-decoration-color: #7f7f7f\">:</span><a href=\"file:///home/carlo/Desktop/single-projects/manim-demopage/.venv_demo/lib/python3.12/site-packages/manim/scene/scene.py#1044\" target=\"_blank\"><span style=\"color: #7f7f7f; text-decoration-color: #7f7f7f\">1044</span></a>\n",
       "<span style=\"color: #7fbfbf; text-decoration-color: #7fbfbf\">                    </span>         seconds, is too short for the current frame rate of <span style=\"color: #008000; text-decoration-color: #008000\">60</span> FPS. <span style=\"color: #808000; text-decoration-color: #808000; font-weight: bold\">Rendering</span>    <span style=\"color: #7f7f7f; text-decoration-color: #7f7f7f\">             </span>\n",
       "<span style=\"color: #7fbfbf; text-decoration-color: #7fbfbf\">                    </span>         with the shortest possible total run_time of <span style=\"color: #008000; text-decoration-color: #008000\">0.0166667</span> seconds instead.  <span style=\"color: #7f7f7f; text-decoration-color: #7f7f7f\">             </span>\n",
       "</pre>\n"
      ],
      "text/plain": [
       "\u001b[2;36m                   \u001b[0m\u001b[2;36m \u001b[0m\u001b[31mWARNING \u001b[0m The original total run_time of \u001b[1;35mintegration_index_Scene.play\u001b[0m\u001b[1m(\u001b[0m\u001b[1m)\u001b[0m, \u001b[32m0.0142857\u001b[0m \u001b]8;id=287668;file:///home/carlo/Desktop/single-projects/manim-demopage/.venv_demo/lib/python3.12/site-packages/manim/scene/scene.py\u001b\\\u001b[2mscene.py\u001b[0m\u001b]8;;\u001b\\\u001b[2m:\u001b[0m\u001b]8;id=697158;file:///home/carlo/Desktop/single-projects/manim-demopage/.venv_demo/lib/python3.12/site-packages/manim/scene/scene.py#1044\u001b\\\u001b[2m1044\u001b[0m\u001b]8;;\u001b\\\n",
       "\u001b[2;36m                    \u001b[0m         seconds, is too short for the current frame rate of \u001b[32m60\u001b[0m FPS. \u001b[1;33mRendering\u001b[0m    \u001b[2m             \u001b[0m\n",
       "\u001b[2;36m                    \u001b[0m         with the shortest possible total run_time of \u001b[32m0.0166667\u001b[0m seconds instead.  \u001b[2m             \u001b[0m\n"
      ]
     },
     "metadata": {},
     "output_type": "display_data"
    },
    {
     "data": {
      "text/html": [
       "<pre style=\"white-space:pre;overflow-x:auto;line-height:normal;font-family:Menlo,'DejaVu Sans Mono',consolas,'Courier New',monospace\"><span style=\"color: #7fbfbf; text-decoration-color: #7fbfbf\">                    </span><span style=\"color: #800000; text-decoration-color: #800000\">WARNING </span> The original total run_time of <span style=\"color: #800080; text-decoration-color: #800080; font-weight: bold\">integration_index_Scene.play</span><span style=\"font-weight: bold\">()</span>, <span style=\"color: #008000; text-decoration-color: #008000\">0.0142857</span> <a href=\"file:///home/carlo/Desktop/single-projects/manim-demopage/.venv_demo/lib/python3.12/site-packages/manim/scene/scene.py\" target=\"_blank\"><span style=\"color: #7f7f7f; text-decoration-color: #7f7f7f\">scene.py</span></a><span style=\"color: #7f7f7f; text-decoration-color: #7f7f7f\">:</span><a href=\"file:///home/carlo/Desktop/single-projects/manim-demopage/.venv_demo/lib/python3.12/site-packages/manim/scene/scene.py#1044\" target=\"_blank\"><span style=\"color: #7f7f7f; text-decoration-color: #7f7f7f\">1044</span></a>\n",
       "<span style=\"color: #7fbfbf; text-decoration-color: #7fbfbf\">                    </span>         seconds, is too short for the current frame rate of <span style=\"color: #008000; text-decoration-color: #008000\">60</span> FPS. <span style=\"color: #808000; text-decoration-color: #808000; font-weight: bold\">Rendering</span>    <span style=\"color: #7f7f7f; text-decoration-color: #7f7f7f\">             </span>\n",
       "<span style=\"color: #7fbfbf; text-decoration-color: #7fbfbf\">                    </span>         with the shortest possible total run_time of <span style=\"color: #008000; text-decoration-color: #008000\">0.0166667</span> seconds instead.  <span style=\"color: #7f7f7f; text-decoration-color: #7f7f7f\">             </span>\n",
       "</pre>\n"
      ],
      "text/plain": [
       "\u001b[2;36m                   \u001b[0m\u001b[2;36m \u001b[0m\u001b[31mWARNING \u001b[0m The original total run_time of \u001b[1;35mintegration_index_Scene.play\u001b[0m\u001b[1m(\u001b[0m\u001b[1m)\u001b[0m, \u001b[32m0.0142857\u001b[0m \u001b]8;id=460334;file:///home/carlo/Desktop/single-projects/manim-demopage/.venv_demo/lib/python3.12/site-packages/manim/scene/scene.py\u001b\\\u001b[2mscene.py\u001b[0m\u001b]8;;\u001b\\\u001b[2m:\u001b[0m\u001b]8;id=968699;file:///home/carlo/Desktop/single-projects/manim-demopage/.venv_demo/lib/python3.12/site-packages/manim/scene/scene.py#1044\u001b\\\u001b[2m1044\u001b[0m\u001b]8;;\u001b\\\n",
       "\u001b[2;36m                    \u001b[0m         seconds, is too short for the current frame rate of \u001b[32m60\u001b[0m FPS. \u001b[1;33mRendering\u001b[0m    \u001b[2m             \u001b[0m\n",
       "\u001b[2;36m                    \u001b[0m         with the shortest possible total run_time of \u001b[32m0.0166667\u001b[0m seconds instead.  \u001b[2m             \u001b[0m\n"
      ]
     },
     "metadata": {},
     "output_type": "display_data"
    },
    {
     "data": {
      "text/html": [
       "<pre style=\"white-space:pre;overflow-x:auto;line-height:normal;font-family:Menlo,'DejaVu Sans Mono',consolas,'Courier New',monospace\"><span style=\"color: #7fbfbf; text-decoration-color: #7fbfbf\">                    </span><span style=\"color: #800000; text-decoration-color: #800000\">WARNING </span> The original total run_time of <span style=\"color: #800080; text-decoration-color: #800080; font-weight: bold\">integration_index_Scene.play</span><span style=\"font-weight: bold\">()</span>, <span style=\"color: #008000; text-decoration-color: #008000\">0.0141844</span> <a href=\"file:///home/carlo/Desktop/single-projects/manim-demopage/.venv_demo/lib/python3.12/site-packages/manim/scene/scene.py\" target=\"_blank\"><span style=\"color: #7f7f7f; text-decoration-color: #7f7f7f\">scene.py</span></a><span style=\"color: #7f7f7f; text-decoration-color: #7f7f7f\">:</span><a href=\"file:///home/carlo/Desktop/single-projects/manim-demopage/.venv_demo/lib/python3.12/site-packages/manim/scene/scene.py#1044\" target=\"_blank\"><span style=\"color: #7f7f7f; text-decoration-color: #7f7f7f\">1044</span></a>\n",
       "<span style=\"color: #7fbfbf; text-decoration-color: #7fbfbf\">                    </span>         seconds, is too short for the current frame rate of <span style=\"color: #008000; text-decoration-color: #008000\">60</span> FPS. <span style=\"color: #808000; text-decoration-color: #808000; font-weight: bold\">Rendering</span>    <span style=\"color: #7f7f7f; text-decoration-color: #7f7f7f\">             </span>\n",
       "<span style=\"color: #7fbfbf; text-decoration-color: #7fbfbf\">                    </span>         with the shortest possible total run_time of <span style=\"color: #008000; text-decoration-color: #008000\">0.0166667</span> seconds instead.  <span style=\"color: #7f7f7f; text-decoration-color: #7f7f7f\">             </span>\n",
       "</pre>\n"
      ],
      "text/plain": [
       "\u001b[2;36m                   \u001b[0m\u001b[2;36m \u001b[0m\u001b[31mWARNING \u001b[0m The original total run_time of \u001b[1;35mintegration_index_Scene.play\u001b[0m\u001b[1m(\u001b[0m\u001b[1m)\u001b[0m, \u001b[32m0.0141844\u001b[0m \u001b]8;id=984161;file:///home/carlo/Desktop/single-projects/manim-demopage/.venv_demo/lib/python3.12/site-packages/manim/scene/scene.py\u001b\\\u001b[2mscene.py\u001b[0m\u001b]8;;\u001b\\\u001b[2m:\u001b[0m\u001b]8;id=982120;file:///home/carlo/Desktop/single-projects/manim-demopage/.venv_demo/lib/python3.12/site-packages/manim/scene/scene.py#1044\u001b\\\u001b[2m1044\u001b[0m\u001b]8;;\u001b\\\n",
       "\u001b[2;36m                    \u001b[0m         seconds, is too short for the current frame rate of \u001b[32m60\u001b[0m FPS. \u001b[1;33mRendering\u001b[0m    \u001b[2m             \u001b[0m\n",
       "\u001b[2;36m                    \u001b[0m         with the shortest possible total run_time of \u001b[32m0.0166667\u001b[0m seconds instead.  \u001b[2m             \u001b[0m\n"
      ]
     },
     "metadata": {},
     "output_type": "display_data"
    },
    {
     "data": {
      "text/html": [
       "<pre style=\"white-space:pre;overflow-x:auto;line-height:normal;font-family:Menlo,'DejaVu Sans Mono',consolas,'Courier New',monospace\"><span style=\"color: #7fbfbf; text-decoration-color: #7fbfbf\">                    </span><span style=\"color: #800000; text-decoration-color: #800000\">WARNING </span> The original total run_time of <span style=\"color: #800080; text-decoration-color: #800080; font-weight: bold\">integration_index_Scene.play</span><span style=\"font-weight: bold\">()</span>, <span style=\"color: #008000; text-decoration-color: #008000\">0.0141844</span> <a href=\"file:///home/carlo/Desktop/single-projects/manim-demopage/.venv_demo/lib/python3.12/site-packages/manim/scene/scene.py\" target=\"_blank\"><span style=\"color: #7f7f7f; text-decoration-color: #7f7f7f\">scene.py</span></a><span style=\"color: #7f7f7f; text-decoration-color: #7f7f7f\">:</span><a href=\"file:///home/carlo/Desktop/single-projects/manim-demopage/.venv_demo/lib/python3.12/site-packages/manim/scene/scene.py#1044\" target=\"_blank\"><span style=\"color: #7f7f7f; text-decoration-color: #7f7f7f\">1044</span></a>\n",
       "<span style=\"color: #7fbfbf; text-decoration-color: #7fbfbf\">                    </span>         seconds, is too short for the current frame rate of <span style=\"color: #008000; text-decoration-color: #008000\">60</span> FPS. <span style=\"color: #808000; text-decoration-color: #808000; font-weight: bold\">Rendering</span>    <span style=\"color: #7f7f7f; text-decoration-color: #7f7f7f\">             </span>\n",
       "<span style=\"color: #7fbfbf; text-decoration-color: #7fbfbf\">                    </span>         with the shortest possible total run_time of <span style=\"color: #008000; text-decoration-color: #008000\">0.0166667</span> seconds instead.  <span style=\"color: #7f7f7f; text-decoration-color: #7f7f7f\">             </span>\n",
       "</pre>\n"
      ],
      "text/plain": [
       "\u001b[2;36m                   \u001b[0m\u001b[2;36m \u001b[0m\u001b[31mWARNING \u001b[0m The original total run_time of \u001b[1;35mintegration_index_Scene.play\u001b[0m\u001b[1m(\u001b[0m\u001b[1m)\u001b[0m, \u001b[32m0.0141844\u001b[0m \u001b]8;id=796666;file:///home/carlo/Desktop/single-projects/manim-demopage/.venv_demo/lib/python3.12/site-packages/manim/scene/scene.py\u001b\\\u001b[2mscene.py\u001b[0m\u001b]8;;\u001b\\\u001b[2m:\u001b[0m\u001b]8;id=810090;file:///home/carlo/Desktop/single-projects/manim-demopage/.venv_demo/lib/python3.12/site-packages/manim/scene/scene.py#1044\u001b\\\u001b[2m1044\u001b[0m\u001b]8;;\u001b\\\n",
       "\u001b[2;36m                    \u001b[0m         seconds, is too short for the current frame rate of \u001b[32m60\u001b[0m FPS. \u001b[1;33mRendering\u001b[0m    \u001b[2m             \u001b[0m\n",
       "\u001b[2;36m                    \u001b[0m         with the shortest possible total run_time of \u001b[32m0.0166667\u001b[0m seconds instead.  \u001b[2m             \u001b[0m\n"
      ]
     },
     "metadata": {},
     "output_type": "display_data"
    },
    {
     "data": {
      "text/html": [
       "<pre style=\"white-space:pre;overflow-x:auto;line-height:normal;font-family:Menlo,'DejaVu Sans Mono',consolas,'Courier New',monospace\"><span style=\"color: #7fbfbf; text-decoration-color: #7fbfbf\">                    </span><span style=\"color: #800000; text-decoration-color: #800000\">WARNING </span> The original total run_time of <span style=\"color: #800080; text-decoration-color: #800080; font-weight: bold\">integration_index_Scene.play</span><span style=\"font-weight: bold\">()</span>, <span style=\"color: #008000; text-decoration-color: #008000\">0.0140845</span> <a href=\"file:///home/carlo/Desktop/single-projects/manim-demopage/.venv_demo/lib/python3.12/site-packages/manim/scene/scene.py\" target=\"_blank\"><span style=\"color: #7f7f7f; text-decoration-color: #7f7f7f\">scene.py</span></a><span style=\"color: #7f7f7f; text-decoration-color: #7f7f7f\">:</span><a href=\"file:///home/carlo/Desktop/single-projects/manim-demopage/.venv_demo/lib/python3.12/site-packages/manim/scene/scene.py#1044\" target=\"_blank\"><span style=\"color: #7f7f7f; text-decoration-color: #7f7f7f\">1044</span></a>\n",
       "<span style=\"color: #7fbfbf; text-decoration-color: #7fbfbf\">                    </span>         seconds, is too short for the current frame rate of <span style=\"color: #008000; text-decoration-color: #008000\">60</span> FPS. <span style=\"color: #808000; text-decoration-color: #808000; font-weight: bold\">Rendering</span>    <span style=\"color: #7f7f7f; text-decoration-color: #7f7f7f\">             </span>\n",
       "<span style=\"color: #7fbfbf; text-decoration-color: #7fbfbf\">                    </span>         with the shortest possible total run_time of <span style=\"color: #008000; text-decoration-color: #008000\">0.0166667</span> seconds instead.  <span style=\"color: #7f7f7f; text-decoration-color: #7f7f7f\">             </span>\n",
       "</pre>\n"
      ],
      "text/plain": [
       "\u001b[2;36m                   \u001b[0m\u001b[2;36m \u001b[0m\u001b[31mWARNING \u001b[0m The original total run_time of \u001b[1;35mintegration_index_Scene.play\u001b[0m\u001b[1m(\u001b[0m\u001b[1m)\u001b[0m, \u001b[32m0.0140845\u001b[0m \u001b]8;id=328605;file:///home/carlo/Desktop/single-projects/manim-demopage/.venv_demo/lib/python3.12/site-packages/manim/scene/scene.py\u001b\\\u001b[2mscene.py\u001b[0m\u001b]8;;\u001b\\\u001b[2m:\u001b[0m\u001b]8;id=327195;file:///home/carlo/Desktop/single-projects/manim-demopage/.venv_demo/lib/python3.12/site-packages/manim/scene/scene.py#1044\u001b\\\u001b[2m1044\u001b[0m\u001b]8;;\u001b\\\n",
       "\u001b[2;36m                    \u001b[0m         seconds, is too short for the current frame rate of \u001b[32m60\u001b[0m FPS. \u001b[1;33mRendering\u001b[0m    \u001b[2m             \u001b[0m\n",
       "\u001b[2;36m                    \u001b[0m         with the shortest possible total run_time of \u001b[32m0.0166667\u001b[0m seconds instead.  \u001b[2m             \u001b[0m\n"
      ]
     },
     "metadata": {},
     "output_type": "display_data"
    },
    {
     "data": {
      "text/html": [
       "<pre style=\"white-space:pre;overflow-x:auto;line-height:normal;font-family:Menlo,'DejaVu Sans Mono',consolas,'Courier New',monospace\"><span style=\"color: #7fbfbf; text-decoration-color: #7fbfbf\">                    </span><span style=\"color: #800000; text-decoration-color: #800000\">WARNING </span> The original total run_time of <span style=\"color: #800080; text-decoration-color: #800080; font-weight: bold\">integration_index_Scene.play</span><span style=\"font-weight: bold\">()</span>, <span style=\"color: #008000; text-decoration-color: #008000\">0.0140845</span> <a href=\"file:///home/carlo/Desktop/single-projects/manim-demopage/.venv_demo/lib/python3.12/site-packages/manim/scene/scene.py\" target=\"_blank\"><span style=\"color: #7f7f7f; text-decoration-color: #7f7f7f\">scene.py</span></a><span style=\"color: #7f7f7f; text-decoration-color: #7f7f7f\">:</span><a href=\"file:///home/carlo/Desktop/single-projects/manim-demopage/.venv_demo/lib/python3.12/site-packages/manim/scene/scene.py#1044\" target=\"_blank\"><span style=\"color: #7f7f7f; text-decoration-color: #7f7f7f\">1044</span></a>\n",
       "<span style=\"color: #7fbfbf; text-decoration-color: #7fbfbf\">                    </span>         seconds, is too short for the current frame rate of <span style=\"color: #008000; text-decoration-color: #008000\">60</span> FPS. <span style=\"color: #808000; text-decoration-color: #808000; font-weight: bold\">Rendering</span>    <span style=\"color: #7f7f7f; text-decoration-color: #7f7f7f\">             </span>\n",
       "<span style=\"color: #7fbfbf; text-decoration-color: #7fbfbf\">                    </span>         with the shortest possible total run_time of <span style=\"color: #008000; text-decoration-color: #008000\">0.0166667</span> seconds instead.  <span style=\"color: #7f7f7f; text-decoration-color: #7f7f7f\">             </span>\n",
       "</pre>\n"
      ],
      "text/plain": [
       "\u001b[2;36m                   \u001b[0m\u001b[2;36m \u001b[0m\u001b[31mWARNING \u001b[0m The original total run_time of \u001b[1;35mintegration_index_Scene.play\u001b[0m\u001b[1m(\u001b[0m\u001b[1m)\u001b[0m, \u001b[32m0.0140845\u001b[0m \u001b]8;id=590269;file:///home/carlo/Desktop/single-projects/manim-demopage/.venv_demo/lib/python3.12/site-packages/manim/scene/scene.py\u001b\\\u001b[2mscene.py\u001b[0m\u001b]8;;\u001b\\\u001b[2m:\u001b[0m\u001b]8;id=336267;file:///home/carlo/Desktop/single-projects/manim-demopage/.venv_demo/lib/python3.12/site-packages/manim/scene/scene.py#1044\u001b\\\u001b[2m1044\u001b[0m\u001b]8;;\u001b\\\n",
       "\u001b[2;36m                    \u001b[0m         seconds, is too short for the current frame rate of \u001b[32m60\u001b[0m FPS. \u001b[1;33mRendering\u001b[0m    \u001b[2m             \u001b[0m\n",
       "\u001b[2;36m                    \u001b[0m         with the shortest possible total run_time of \u001b[32m0.0166667\u001b[0m seconds instead.  \u001b[2m             \u001b[0m\n"
      ]
     },
     "metadata": {},
     "output_type": "display_data"
    },
    {
     "data": {
      "text/html": [
       "<pre style=\"white-space:pre;overflow-x:auto;line-height:normal;font-family:Menlo,'DejaVu Sans Mono',consolas,'Courier New',monospace\"><span style=\"color: #7fbfbf; text-decoration-color: #7fbfbf\">                    </span><span style=\"color: #800000; text-decoration-color: #800000\">WARNING </span> The original total run_time of <span style=\"color: #800080; text-decoration-color: #800080; font-weight: bold\">integration_index_Scene.play</span><span style=\"font-weight: bold\">()</span>, <span style=\"color: #008000; text-decoration-color: #008000\">0.013986</span>  <a href=\"file:///home/carlo/Desktop/single-projects/manim-demopage/.venv_demo/lib/python3.12/site-packages/manim/scene/scene.py\" target=\"_blank\"><span style=\"color: #7f7f7f; text-decoration-color: #7f7f7f\">scene.py</span></a><span style=\"color: #7f7f7f; text-decoration-color: #7f7f7f\">:</span><a href=\"file:///home/carlo/Desktop/single-projects/manim-demopage/.venv_demo/lib/python3.12/site-packages/manim/scene/scene.py#1044\" target=\"_blank\"><span style=\"color: #7f7f7f; text-decoration-color: #7f7f7f\">1044</span></a>\n",
       "<span style=\"color: #7fbfbf; text-decoration-color: #7fbfbf\">                    </span>         seconds, is too short for the current frame rate of <span style=\"color: #008000; text-decoration-color: #008000\">60</span> FPS. <span style=\"color: #808000; text-decoration-color: #808000; font-weight: bold\">Rendering</span>    <span style=\"color: #7f7f7f; text-decoration-color: #7f7f7f\">             </span>\n",
       "<span style=\"color: #7fbfbf; text-decoration-color: #7fbfbf\">                    </span>         with the shortest possible total run_time of <span style=\"color: #008000; text-decoration-color: #008000\">0.0166667</span> seconds instead.  <span style=\"color: #7f7f7f; text-decoration-color: #7f7f7f\">             </span>\n",
       "</pre>\n"
      ],
      "text/plain": [
       "\u001b[2;36m                   \u001b[0m\u001b[2;36m \u001b[0m\u001b[31mWARNING \u001b[0m The original total run_time of \u001b[1;35mintegration_index_Scene.play\u001b[0m\u001b[1m(\u001b[0m\u001b[1m)\u001b[0m, \u001b[32m0.013986\u001b[0m  \u001b]8;id=477122;file:///home/carlo/Desktop/single-projects/manim-demopage/.venv_demo/lib/python3.12/site-packages/manim/scene/scene.py\u001b\\\u001b[2mscene.py\u001b[0m\u001b]8;;\u001b\\\u001b[2m:\u001b[0m\u001b]8;id=446579;file:///home/carlo/Desktop/single-projects/manim-demopage/.venv_demo/lib/python3.12/site-packages/manim/scene/scene.py#1044\u001b\\\u001b[2m1044\u001b[0m\u001b]8;;\u001b\\\n",
       "\u001b[2;36m                    \u001b[0m         seconds, is too short for the current frame rate of \u001b[32m60\u001b[0m FPS. \u001b[1;33mRendering\u001b[0m    \u001b[2m             \u001b[0m\n",
       "\u001b[2;36m                    \u001b[0m         with the shortest possible total run_time of \u001b[32m0.0166667\u001b[0m seconds instead.  \u001b[2m             \u001b[0m\n"
      ]
     },
     "metadata": {},
     "output_type": "display_data"
    },
    {
     "data": {
      "text/html": [
       "<pre style=\"white-space:pre;overflow-x:auto;line-height:normal;font-family:Menlo,'DejaVu Sans Mono',consolas,'Courier New',monospace\"><span style=\"color: #7fbfbf; text-decoration-color: #7fbfbf\">                    </span><span style=\"color: #800000; text-decoration-color: #800000\">WARNING </span> The original total run_time of <span style=\"color: #800080; text-decoration-color: #800080; font-weight: bold\">integration_index_Scene.play</span><span style=\"font-weight: bold\">()</span>, <span style=\"color: #008000; text-decoration-color: #008000\">0.013986</span>  <a href=\"file:///home/carlo/Desktop/single-projects/manim-demopage/.venv_demo/lib/python3.12/site-packages/manim/scene/scene.py\" target=\"_blank\"><span style=\"color: #7f7f7f; text-decoration-color: #7f7f7f\">scene.py</span></a><span style=\"color: #7f7f7f; text-decoration-color: #7f7f7f\">:</span><a href=\"file:///home/carlo/Desktop/single-projects/manim-demopage/.venv_demo/lib/python3.12/site-packages/manim/scene/scene.py#1044\" target=\"_blank\"><span style=\"color: #7f7f7f; text-decoration-color: #7f7f7f\">1044</span></a>\n",
       "<span style=\"color: #7fbfbf; text-decoration-color: #7fbfbf\">                    </span>         seconds, is too short for the current frame rate of <span style=\"color: #008000; text-decoration-color: #008000\">60</span> FPS. <span style=\"color: #808000; text-decoration-color: #808000; font-weight: bold\">Rendering</span>    <span style=\"color: #7f7f7f; text-decoration-color: #7f7f7f\">             </span>\n",
       "<span style=\"color: #7fbfbf; text-decoration-color: #7fbfbf\">                    </span>         with the shortest possible total run_time of <span style=\"color: #008000; text-decoration-color: #008000\">0.0166667</span> seconds instead.  <span style=\"color: #7f7f7f; text-decoration-color: #7f7f7f\">             </span>\n",
       "</pre>\n"
      ],
      "text/plain": [
       "\u001b[2;36m                   \u001b[0m\u001b[2;36m \u001b[0m\u001b[31mWARNING \u001b[0m The original total run_time of \u001b[1;35mintegration_index_Scene.play\u001b[0m\u001b[1m(\u001b[0m\u001b[1m)\u001b[0m, \u001b[32m0.013986\u001b[0m  \u001b]8;id=639415;file:///home/carlo/Desktop/single-projects/manim-demopage/.venv_demo/lib/python3.12/site-packages/manim/scene/scene.py\u001b\\\u001b[2mscene.py\u001b[0m\u001b]8;;\u001b\\\u001b[2m:\u001b[0m\u001b]8;id=482879;file:///home/carlo/Desktop/single-projects/manim-demopage/.venv_demo/lib/python3.12/site-packages/manim/scene/scene.py#1044\u001b\\\u001b[2m1044\u001b[0m\u001b]8;;\u001b\\\n",
       "\u001b[2;36m                    \u001b[0m         seconds, is too short for the current frame rate of \u001b[32m60\u001b[0m FPS. \u001b[1;33mRendering\u001b[0m    \u001b[2m             \u001b[0m\n",
       "\u001b[2;36m                    \u001b[0m         with the shortest possible total run_time of \u001b[32m0.0166667\u001b[0m seconds instead.  \u001b[2m             \u001b[0m\n"
      ]
     },
     "metadata": {},
     "output_type": "display_data"
    },
    {
     "data": {
      "text/html": [
       "<pre style=\"white-space:pre;overflow-x:auto;line-height:normal;font-family:Menlo,'DejaVu Sans Mono',consolas,'Courier New',monospace\"><span style=\"color: #7fbfbf; text-decoration-color: #7fbfbf\">                    </span><span style=\"color: #800000; text-decoration-color: #800000\">WARNING </span> The original total run_time of <span style=\"color: #800080; text-decoration-color: #800080; font-weight: bold\">integration_index_Scene.play</span><span style=\"font-weight: bold\">()</span>, <span style=\"color: #008000; text-decoration-color: #008000\">0.0138889</span> <a href=\"file:///home/carlo/Desktop/single-projects/manim-demopage/.venv_demo/lib/python3.12/site-packages/manim/scene/scene.py\" target=\"_blank\"><span style=\"color: #7f7f7f; text-decoration-color: #7f7f7f\">scene.py</span></a><span style=\"color: #7f7f7f; text-decoration-color: #7f7f7f\">:</span><a href=\"file:///home/carlo/Desktop/single-projects/manim-demopage/.venv_demo/lib/python3.12/site-packages/manim/scene/scene.py#1044\" target=\"_blank\"><span style=\"color: #7f7f7f; text-decoration-color: #7f7f7f\">1044</span></a>\n",
       "<span style=\"color: #7fbfbf; text-decoration-color: #7fbfbf\">                    </span>         seconds, is too short for the current frame rate of <span style=\"color: #008000; text-decoration-color: #008000\">60</span> FPS. <span style=\"color: #808000; text-decoration-color: #808000; font-weight: bold\">Rendering</span>    <span style=\"color: #7f7f7f; text-decoration-color: #7f7f7f\">             </span>\n",
       "<span style=\"color: #7fbfbf; text-decoration-color: #7fbfbf\">                    </span>         with the shortest possible total run_time of <span style=\"color: #008000; text-decoration-color: #008000\">0.0166667</span> seconds instead.  <span style=\"color: #7f7f7f; text-decoration-color: #7f7f7f\">             </span>\n",
       "</pre>\n"
      ],
      "text/plain": [
       "\u001b[2;36m                   \u001b[0m\u001b[2;36m \u001b[0m\u001b[31mWARNING \u001b[0m The original total run_time of \u001b[1;35mintegration_index_Scene.play\u001b[0m\u001b[1m(\u001b[0m\u001b[1m)\u001b[0m, \u001b[32m0.0138889\u001b[0m \u001b]8;id=42232;file:///home/carlo/Desktop/single-projects/manim-demopage/.venv_demo/lib/python3.12/site-packages/manim/scene/scene.py\u001b\\\u001b[2mscene.py\u001b[0m\u001b]8;;\u001b\\\u001b[2m:\u001b[0m\u001b]8;id=578689;file:///home/carlo/Desktop/single-projects/manim-demopage/.venv_demo/lib/python3.12/site-packages/manim/scene/scene.py#1044\u001b\\\u001b[2m1044\u001b[0m\u001b]8;;\u001b\\\n",
       "\u001b[2;36m                    \u001b[0m         seconds, is too short for the current frame rate of \u001b[32m60\u001b[0m FPS. \u001b[1;33mRendering\u001b[0m    \u001b[2m             \u001b[0m\n",
       "\u001b[2;36m                    \u001b[0m         with the shortest possible total run_time of \u001b[32m0.0166667\u001b[0m seconds instead.  \u001b[2m             \u001b[0m\n"
      ]
     },
     "metadata": {},
     "output_type": "display_data"
    },
    {
     "data": {
      "text/html": [
       "<pre style=\"white-space:pre;overflow-x:auto;line-height:normal;font-family:Menlo,'DejaVu Sans Mono',consolas,'Courier New',monospace\"><span style=\"color: #7fbfbf; text-decoration-color: #7fbfbf\">                    </span><span style=\"color: #800000; text-decoration-color: #800000\">WARNING </span> The original total run_time of <span style=\"color: #800080; text-decoration-color: #800080; font-weight: bold\">integration_index_Scene.play</span><span style=\"font-weight: bold\">()</span>, <span style=\"color: #008000; text-decoration-color: #008000\">0.0138889</span> <a href=\"file:///home/carlo/Desktop/single-projects/manim-demopage/.venv_demo/lib/python3.12/site-packages/manim/scene/scene.py\" target=\"_blank\"><span style=\"color: #7f7f7f; text-decoration-color: #7f7f7f\">scene.py</span></a><span style=\"color: #7f7f7f; text-decoration-color: #7f7f7f\">:</span><a href=\"file:///home/carlo/Desktop/single-projects/manim-demopage/.venv_demo/lib/python3.12/site-packages/manim/scene/scene.py#1044\" target=\"_blank\"><span style=\"color: #7f7f7f; text-decoration-color: #7f7f7f\">1044</span></a>\n",
       "<span style=\"color: #7fbfbf; text-decoration-color: #7fbfbf\">                    </span>         seconds, is too short for the current frame rate of <span style=\"color: #008000; text-decoration-color: #008000\">60</span> FPS. <span style=\"color: #808000; text-decoration-color: #808000; font-weight: bold\">Rendering</span>    <span style=\"color: #7f7f7f; text-decoration-color: #7f7f7f\">             </span>\n",
       "<span style=\"color: #7fbfbf; text-decoration-color: #7fbfbf\">                    </span>         with the shortest possible total run_time of <span style=\"color: #008000; text-decoration-color: #008000\">0.0166667</span> seconds instead.  <span style=\"color: #7f7f7f; text-decoration-color: #7f7f7f\">             </span>\n",
       "</pre>\n"
      ],
      "text/plain": [
       "\u001b[2;36m                   \u001b[0m\u001b[2;36m \u001b[0m\u001b[31mWARNING \u001b[0m The original total run_time of \u001b[1;35mintegration_index_Scene.play\u001b[0m\u001b[1m(\u001b[0m\u001b[1m)\u001b[0m, \u001b[32m0.0138889\u001b[0m \u001b]8;id=319872;file:///home/carlo/Desktop/single-projects/manim-demopage/.venv_demo/lib/python3.12/site-packages/manim/scene/scene.py\u001b\\\u001b[2mscene.py\u001b[0m\u001b]8;;\u001b\\\u001b[2m:\u001b[0m\u001b]8;id=453352;file:///home/carlo/Desktop/single-projects/manim-demopage/.venv_demo/lib/python3.12/site-packages/manim/scene/scene.py#1044\u001b\\\u001b[2m1044\u001b[0m\u001b]8;;\u001b\\\n",
       "\u001b[2;36m                    \u001b[0m         seconds, is too short for the current frame rate of \u001b[32m60\u001b[0m FPS. \u001b[1;33mRendering\u001b[0m    \u001b[2m             \u001b[0m\n",
       "\u001b[2;36m                    \u001b[0m         with the shortest possible total run_time of \u001b[32m0.0166667\u001b[0m seconds instead.  \u001b[2m             \u001b[0m\n"
      ]
     },
     "metadata": {},
     "output_type": "display_data"
    },
    {
     "data": {
      "text/html": [
       "<pre style=\"white-space:pre;overflow-x:auto;line-height:normal;font-family:Menlo,'DejaVu Sans Mono',consolas,'Courier New',monospace\"><span style=\"color: #7fbfbf; text-decoration-color: #7fbfbf\">[01/23/25 11:27:07] </span><span style=\"color: #800000; text-decoration-color: #800000\">WARNING </span> The original total run_time of <span style=\"color: #800080; text-decoration-color: #800080; font-weight: bold\">integration_index_Scene.play</span><span style=\"font-weight: bold\">()</span>, <span style=\"color: #008000; text-decoration-color: #008000\">0.0137931</span> <a href=\"file:///home/carlo/Desktop/single-projects/manim-demopage/.venv_demo/lib/python3.12/site-packages/manim/scene/scene.py\" target=\"_blank\"><span style=\"color: #7f7f7f; text-decoration-color: #7f7f7f\">scene.py</span></a><span style=\"color: #7f7f7f; text-decoration-color: #7f7f7f\">:</span><a href=\"file:///home/carlo/Desktop/single-projects/manim-demopage/.venv_demo/lib/python3.12/site-packages/manim/scene/scene.py#1044\" target=\"_blank\"><span style=\"color: #7f7f7f; text-decoration-color: #7f7f7f\">1044</span></a>\n",
       "<span style=\"color: #7fbfbf; text-decoration-color: #7fbfbf\">                    </span>         seconds, is too short for the current frame rate of <span style=\"color: #008000; text-decoration-color: #008000\">60</span> FPS. <span style=\"color: #808000; text-decoration-color: #808000; font-weight: bold\">Rendering</span>    <span style=\"color: #7f7f7f; text-decoration-color: #7f7f7f\">             </span>\n",
       "<span style=\"color: #7fbfbf; text-decoration-color: #7fbfbf\">                    </span>         with the shortest possible total run_time of <span style=\"color: #008000; text-decoration-color: #008000\">0.0166667</span> seconds instead.  <span style=\"color: #7f7f7f; text-decoration-color: #7f7f7f\">             </span>\n",
       "</pre>\n"
      ],
      "text/plain": [
       "\u001b[2;36m[01/23/25 11:27:07]\u001b[0m\u001b[2;36m \u001b[0m\u001b[31mWARNING \u001b[0m The original total run_time of \u001b[1;35mintegration_index_Scene.play\u001b[0m\u001b[1m(\u001b[0m\u001b[1m)\u001b[0m, \u001b[32m0.0137931\u001b[0m \u001b]8;id=882172;file:///home/carlo/Desktop/single-projects/manim-demopage/.venv_demo/lib/python3.12/site-packages/manim/scene/scene.py\u001b\\\u001b[2mscene.py\u001b[0m\u001b]8;;\u001b\\\u001b[2m:\u001b[0m\u001b]8;id=608829;file:///home/carlo/Desktop/single-projects/manim-demopage/.venv_demo/lib/python3.12/site-packages/manim/scene/scene.py#1044\u001b\\\u001b[2m1044\u001b[0m\u001b]8;;\u001b\\\n",
       "\u001b[2;36m                    \u001b[0m         seconds, is too short for the current frame rate of \u001b[32m60\u001b[0m FPS. \u001b[1;33mRendering\u001b[0m    \u001b[2m             \u001b[0m\n",
       "\u001b[2;36m                    \u001b[0m         with the shortest possible total run_time of \u001b[32m0.0166667\u001b[0m seconds instead.  \u001b[2m             \u001b[0m\n"
      ]
     },
     "metadata": {},
     "output_type": "display_data"
    },
    {
     "data": {
      "text/html": [
       "<pre style=\"white-space:pre;overflow-x:auto;line-height:normal;font-family:Menlo,'DejaVu Sans Mono',consolas,'Courier New',monospace\"><span style=\"color: #7fbfbf; text-decoration-color: #7fbfbf\">                    </span><span style=\"color: #800000; text-decoration-color: #800000\">WARNING </span> The original total run_time of <span style=\"color: #800080; text-decoration-color: #800080; font-weight: bold\">integration_index_Scene.play</span><span style=\"font-weight: bold\">()</span>, <span style=\"color: #008000; text-decoration-color: #008000\">0.0137931</span> <a href=\"file:///home/carlo/Desktop/single-projects/manim-demopage/.venv_demo/lib/python3.12/site-packages/manim/scene/scene.py\" target=\"_blank\"><span style=\"color: #7f7f7f; text-decoration-color: #7f7f7f\">scene.py</span></a><span style=\"color: #7f7f7f; text-decoration-color: #7f7f7f\">:</span><a href=\"file:///home/carlo/Desktop/single-projects/manim-demopage/.venv_demo/lib/python3.12/site-packages/manim/scene/scene.py#1044\" target=\"_blank\"><span style=\"color: #7f7f7f; text-decoration-color: #7f7f7f\">1044</span></a>\n",
       "<span style=\"color: #7fbfbf; text-decoration-color: #7fbfbf\">                    </span>         seconds, is too short for the current frame rate of <span style=\"color: #008000; text-decoration-color: #008000\">60</span> FPS. <span style=\"color: #808000; text-decoration-color: #808000; font-weight: bold\">Rendering</span>    <span style=\"color: #7f7f7f; text-decoration-color: #7f7f7f\">             </span>\n",
       "<span style=\"color: #7fbfbf; text-decoration-color: #7fbfbf\">                    </span>         with the shortest possible total run_time of <span style=\"color: #008000; text-decoration-color: #008000\">0.0166667</span> seconds instead.  <span style=\"color: #7f7f7f; text-decoration-color: #7f7f7f\">             </span>\n",
       "</pre>\n"
      ],
      "text/plain": [
       "\u001b[2;36m                   \u001b[0m\u001b[2;36m \u001b[0m\u001b[31mWARNING \u001b[0m The original total run_time of \u001b[1;35mintegration_index_Scene.play\u001b[0m\u001b[1m(\u001b[0m\u001b[1m)\u001b[0m, \u001b[32m0.0137931\u001b[0m \u001b]8;id=775244;file:///home/carlo/Desktop/single-projects/manim-demopage/.venv_demo/lib/python3.12/site-packages/manim/scene/scene.py\u001b\\\u001b[2mscene.py\u001b[0m\u001b]8;;\u001b\\\u001b[2m:\u001b[0m\u001b]8;id=852957;file:///home/carlo/Desktop/single-projects/manim-demopage/.venv_demo/lib/python3.12/site-packages/manim/scene/scene.py#1044\u001b\\\u001b[2m1044\u001b[0m\u001b]8;;\u001b\\\n",
       "\u001b[2;36m                    \u001b[0m         seconds, is too short for the current frame rate of \u001b[32m60\u001b[0m FPS. \u001b[1;33mRendering\u001b[0m    \u001b[2m             \u001b[0m\n",
       "\u001b[2;36m                    \u001b[0m         with the shortest possible total run_time of \u001b[32m0.0166667\u001b[0m seconds instead.  \u001b[2m             \u001b[0m\n"
      ]
     },
     "metadata": {},
     "output_type": "display_data"
    },
    {
     "data": {
      "text/html": [
       "<pre style=\"white-space:pre;overflow-x:auto;line-height:normal;font-family:Menlo,'DejaVu Sans Mono',consolas,'Courier New',monospace\"><span style=\"color: #7fbfbf; text-decoration-color: #7fbfbf\">                    </span><span style=\"color: #800000; text-decoration-color: #800000\">WARNING </span> The original total run_time of <span style=\"color: #800080; text-decoration-color: #800080; font-weight: bold\">integration_index_Scene.play</span><span style=\"font-weight: bold\">()</span>, <span style=\"color: #008000; text-decoration-color: #008000\">0.0136986</span> <a href=\"file:///home/carlo/Desktop/single-projects/manim-demopage/.venv_demo/lib/python3.12/site-packages/manim/scene/scene.py\" target=\"_blank\"><span style=\"color: #7f7f7f; text-decoration-color: #7f7f7f\">scene.py</span></a><span style=\"color: #7f7f7f; text-decoration-color: #7f7f7f\">:</span><a href=\"file:///home/carlo/Desktop/single-projects/manim-demopage/.venv_demo/lib/python3.12/site-packages/manim/scene/scene.py#1044\" target=\"_blank\"><span style=\"color: #7f7f7f; text-decoration-color: #7f7f7f\">1044</span></a>\n",
       "<span style=\"color: #7fbfbf; text-decoration-color: #7fbfbf\">                    </span>         seconds, is too short for the current frame rate of <span style=\"color: #008000; text-decoration-color: #008000\">60</span> FPS. <span style=\"color: #808000; text-decoration-color: #808000; font-weight: bold\">Rendering</span>    <span style=\"color: #7f7f7f; text-decoration-color: #7f7f7f\">             </span>\n",
       "<span style=\"color: #7fbfbf; text-decoration-color: #7fbfbf\">                    </span>         with the shortest possible total run_time of <span style=\"color: #008000; text-decoration-color: #008000\">0.0166667</span> seconds instead.  <span style=\"color: #7f7f7f; text-decoration-color: #7f7f7f\">             </span>\n",
       "</pre>\n"
      ],
      "text/plain": [
       "\u001b[2;36m                   \u001b[0m\u001b[2;36m \u001b[0m\u001b[31mWARNING \u001b[0m The original total run_time of \u001b[1;35mintegration_index_Scene.play\u001b[0m\u001b[1m(\u001b[0m\u001b[1m)\u001b[0m, \u001b[32m0.0136986\u001b[0m \u001b]8;id=341824;file:///home/carlo/Desktop/single-projects/manim-demopage/.venv_demo/lib/python3.12/site-packages/manim/scene/scene.py\u001b\\\u001b[2mscene.py\u001b[0m\u001b]8;;\u001b\\\u001b[2m:\u001b[0m\u001b]8;id=854532;file:///home/carlo/Desktop/single-projects/manim-demopage/.venv_demo/lib/python3.12/site-packages/manim/scene/scene.py#1044\u001b\\\u001b[2m1044\u001b[0m\u001b]8;;\u001b\\\n",
       "\u001b[2;36m                    \u001b[0m         seconds, is too short for the current frame rate of \u001b[32m60\u001b[0m FPS. \u001b[1;33mRendering\u001b[0m    \u001b[2m             \u001b[0m\n",
       "\u001b[2;36m                    \u001b[0m         with the shortest possible total run_time of \u001b[32m0.0166667\u001b[0m seconds instead.  \u001b[2m             \u001b[0m\n"
      ]
     },
     "metadata": {},
     "output_type": "display_data"
    },
    {
     "data": {
      "text/html": [
       "<pre style=\"white-space:pre;overflow-x:auto;line-height:normal;font-family:Menlo,'DejaVu Sans Mono',consolas,'Courier New',monospace\"><span style=\"color: #7fbfbf; text-decoration-color: #7fbfbf\">                    </span><span style=\"color: #800000; text-decoration-color: #800000\">WARNING </span> The original total run_time of <span style=\"color: #800080; text-decoration-color: #800080; font-weight: bold\">integration_index_Scene.play</span><span style=\"font-weight: bold\">()</span>, <span style=\"color: #008000; text-decoration-color: #008000\">0.0136986</span> <a href=\"file:///home/carlo/Desktop/single-projects/manim-demopage/.venv_demo/lib/python3.12/site-packages/manim/scene/scene.py\" target=\"_blank\"><span style=\"color: #7f7f7f; text-decoration-color: #7f7f7f\">scene.py</span></a><span style=\"color: #7f7f7f; text-decoration-color: #7f7f7f\">:</span><a href=\"file:///home/carlo/Desktop/single-projects/manim-demopage/.venv_demo/lib/python3.12/site-packages/manim/scene/scene.py#1044\" target=\"_blank\"><span style=\"color: #7f7f7f; text-decoration-color: #7f7f7f\">1044</span></a>\n",
       "<span style=\"color: #7fbfbf; text-decoration-color: #7fbfbf\">                    </span>         seconds, is too short for the current frame rate of <span style=\"color: #008000; text-decoration-color: #008000\">60</span> FPS. <span style=\"color: #808000; text-decoration-color: #808000; font-weight: bold\">Rendering</span>    <span style=\"color: #7f7f7f; text-decoration-color: #7f7f7f\">             </span>\n",
       "<span style=\"color: #7fbfbf; text-decoration-color: #7fbfbf\">                    </span>         with the shortest possible total run_time of <span style=\"color: #008000; text-decoration-color: #008000\">0.0166667</span> seconds instead.  <span style=\"color: #7f7f7f; text-decoration-color: #7f7f7f\">             </span>\n",
       "</pre>\n"
      ],
      "text/plain": [
       "\u001b[2;36m                   \u001b[0m\u001b[2;36m \u001b[0m\u001b[31mWARNING \u001b[0m The original total run_time of \u001b[1;35mintegration_index_Scene.play\u001b[0m\u001b[1m(\u001b[0m\u001b[1m)\u001b[0m, \u001b[32m0.0136986\u001b[0m \u001b]8;id=122166;file:///home/carlo/Desktop/single-projects/manim-demopage/.venv_demo/lib/python3.12/site-packages/manim/scene/scene.py\u001b\\\u001b[2mscene.py\u001b[0m\u001b]8;;\u001b\\\u001b[2m:\u001b[0m\u001b]8;id=1662;file:///home/carlo/Desktop/single-projects/manim-demopage/.venv_demo/lib/python3.12/site-packages/manim/scene/scene.py#1044\u001b\\\u001b[2m1044\u001b[0m\u001b]8;;\u001b\\\n",
       "\u001b[2;36m                    \u001b[0m         seconds, is too short for the current frame rate of \u001b[32m60\u001b[0m FPS. \u001b[1;33mRendering\u001b[0m    \u001b[2m             \u001b[0m\n",
       "\u001b[2;36m                    \u001b[0m         with the shortest possible total run_time of \u001b[32m0.0166667\u001b[0m seconds instead.  \u001b[2m             \u001b[0m\n"
      ]
     },
     "metadata": {},
     "output_type": "display_data"
    },
    {
     "data": {
      "text/html": [
       "<pre style=\"white-space:pre;overflow-x:auto;line-height:normal;font-family:Menlo,'DejaVu Sans Mono',consolas,'Courier New',monospace\"><span style=\"color: #7fbfbf; text-decoration-color: #7fbfbf\">                    </span><span style=\"color: #800000; text-decoration-color: #800000\">WARNING </span> The original total run_time of <span style=\"color: #800080; text-decoration-color: #800080; font-weight: bold\">integration_index_Scene.play</span><span style=\"font-weight: bold\">()</span>, <span style=\"color: #008000; text-decoration-color: #008000\">0.0136054</span> <a href=\"file:///home/carlo/Desktop/single-projects/manim-demopage/.venv_demo/lib/python3.12/site-packages/manim/scene/scene.py\" target=\"_blank\"><span style=\"color: #7f7f7f; text-decoration-color: #7f7f7f\">scene.py</span></a><span style=\"color: #7f7f7f; text-decoration-color: #7f7f7f\">:</span><a href=\"file:///home/carlo/Desktop/single-projects/manim-demopage/.venv_demo/lib/python3.12/site-packages/manim/scene/scene.py#1044\" target=\"_blank\"><span style=\"color: #7f7f7f; text-decoration-color: #7f7f7f\">1044</span></a>\n",
       "<span style=\"color: #7fbfbf; text-decoration-color: #7fbfbf\">                    </span>         seconds, is too short for the current frame rate of <span style=\"color: #008000; text-decoration-color: #008000\">60</span> FPS. <span style=\"color: #808000; text-decoration-color: #808000; font-weight: bold\">Rendering</span>    <span style=\"color: #7f7f7f; text-decoration-color: #7f7f7f\">             </span>\n",
       "<span style=\"color: #7fbfbf; text-decoration-color: #7fbfbf\">                    </span>         with the shortest possible total run_time of <span style=\"color: #008000; text-decoration-color: #008000\">0.0166667</span> seconds instead.  <span style=\"color: #7f7f7f; text-decoration-color: #7f7f7f\">             </span>\n",
       "</pre>\n"
      ],
      "text/plain": [
       "\u001b[2;36m                   \u001b[0m\u001b[2;36m \u001b[0m\u001b[31mWARNING \u001b[0m The original total run_time of \u001b[1;35mintegration_index_Scene.play\u001b[0m\u001b[1m(\u001b[0m\u001b[1m)\u001b[0m, \u001b[32m0.0136054\u001b[0m \u001b]8;id=398278;file:///home/carlo/Desktop/single-projects/manim-demopage/.venv_demo/lib/python3.12/site-packages/manim/scene/scene.py\u001b\\\u001b[2mscene.py\u001b[0m\u001b]8;;\u001b\\\u001b[2m:\u001b[0m\u001b]8;id=93233;file:///home/carlo/Desktop/single-projects/manim-demopage/.venv_demo/lib/python3.12/site-packages/manim/scene/scene.py#1044\u001b\\\u001b[2m1044\u001b[0m\u001b]8;;\u001b\\\n",
       "\u001b[2;36m                    \u001b[0m         seconds, is too short for the current frame rate of \u001b[32m60\u001b[0m FPS. \u001b[1;33mRendering\u001b[0m    \u001b[2m             \u001b[0m\n",
       "\u001b[2;36m                    \u001b[0m         with the shortest possible total run_time of \u001b[32m0.0166667\u001b[0m seconds instead.  \u001b[2m             \u001b[0m\n"
      ]
     },
     "metadata": {},
     "output_type": "display_data"
    },
    {
     "data": {
      "text/html": [
       "<pre style=\"white-space:pre;overflow-x:auto;line-height:normal;font-family:Menlo,'DejaVu Sans Mono',consolas,'Courier New',monospace\"><span style=\"color: #7fbfbf; text-decoration-color: #7fbfbf\">                    </span><span style=\"color: #800000; text-decoration-color: #800000\">WARNING </span> The original total run_time of <span style=\"color: #800080; text-decoration-color: #800080; font-weight: bold\">integration_index_Scene.play</span><span style=\"font-weight: bold\">()</span>, <span style=\"color: #008000; text-decoration-color: #008000\">0.0136054</span> <a href=\"file:///home/carlo/Desktop/single-projects/manim-demopage/.venv_demo/lib/python3.12/site-packages/manim/scene/scene.py\" target=\"_blank\"><span style=\"color: #7f7f7f; text-decoration-color: #7f7f7f\">scene.py</span></a><span style=\"color: #7f7f7f; text-decoration-color: #7f7f7f\">:</span><a href=\"file:///home/carlo/Desktop/single-projects/manim-demopage/.venv_demo/lib/python3.12/site-packages/manim/scene/scene.py#1044\" target=\"_blank\"><span style=\"color: #7f7f7f; text-decoration-color: #7f7f7f\">1044</span></a>\n",
       "<span style=\"color: #7fbfbf; text-decoration-color: #7fbfbf\">                    </span>         seconds, is too short for the current frame rate of <span style=\"color: #008000; text-decoration-color: #008000\">60</span> FPS. <span style=\"color: #808000; text-decoration-color: #808000; font-weight: bold\">Rendering</span>    <span style=\"color: #7f7f7f; text-decoration-color: #7f7f7f\">             </span>\n",
       "<span style=\"color: #7fbfbf; text-decoration-color: #7fbfbf\">                    </span>         with the shortest possible total run_time of <span style=\"color: #008000; text-decoration-color: #008000\">0.0166667</span> seconds instead.  <span style=\"color: #7f7f7f; text-decoration-color: #7f7f7f\">             </span>\n",
       "</pre>\n"
      ],
      "text/plain": [
       "\u001b[2;36m                   \u001b[0m\u001b[2;36m \u001b[0m\u001b[31mWARNING \u001b[0m The original total run_time of \u001b[1;35mintegration_index_Scene.play\u001b[0m\u001b[1m(\u001b[0m\u001b[1m)\u001b[0m, \u001b[32m0.0136054\u001b[0m \u001b]8;id=144669;file:///home/carlo/Desktop/single-projects/manim-demopage/.venv_demo/lib/python3.12/site-packages/manim/scene/scene.py\u001b\\\u001b[2mscene.py\u001b[0m\u001b]8;;\u001b\\\u001b[2m:\u001b[0m\u001b]8;id=895711;file:///home/carlo/Desktop/single-projects/manim-demopage/.venv_demo/lib/python3.12/site-packages/manim/scene/scene.py#1044\u001b\\\u001b[2m1044\u001b[0m\u001b]8;;\u001b\\\n",
       "\u001b[2;36m                    \u001b[0m         seconds, is too short for the current frame rate of \u001b[32m60\u001b[0m FPS. \u001b[1;33mRendering\u001b[0m    \u001b[2m             \u001b[0m\n",
       "\u001b[2;36m                    \u001b[0m         with the shortest possible total run_time of \u001b[32m0.0166667\u001b[0m seconds instead.  \u001b[2m             \u001b[0m\n"
      ]
     },
     "metadata": {},
     "output_type": "display_data"
    },
    {
     "data": {
      "text/html": [
       "<pre style=\"white-space:pre;overflow-x:auto;line-height:normal;font-family:Menlo,'DejaVu Sans Mono',consolas,'Courier New',monospace\"><span style=\"color: #7fbfbf; text-decoration-color: #7fbfbf\">                    </span><span style=\"color: #800000; text-decoration-color: #800000\">WARNING </span> The original total run_time of <span style=\"color: #800080; text-decoration-color: #800080; font-weight: bold\">integration_index_Scene.play</span><span style=\"font-weight: bold\">()</span>, <span style=\"color: #008000; text-decoration-color: #008000\">0.0135135</span> <a href=\"file:///home/carlo/Desktop/single-projects/manim-demopage/.venv_demo/lib/python3.12/site-packages/manim/scene/scene.py\" target=\"_blank\"><span style=\"color: #7f7f7f; text-decoration-color: #7f7f7f\">scene.py</span></a><span style=\"color: #7f7f7f; text-decoration-color: #7f7f7f\">:</span><a href=\"file:///home/carlo/Desktop/single-projects/manim-demopage/.venv_demo/lib/python3.12/site-packages/manim/scene/scene.py#1044\" target=\"_blank\"><span style=\"color: #7f7f7f; text-decoration-color: #7f7f7f\">1044</span></a>\n",
       "<span style=\"color: #7fbfbf; text-decoration-color: #7fbfbf\">                    </span>         seconds, is too short for the current frame rate of <span style=\"color: #008000; text-decoration-color: #008000\">60</span> FPS. <span style=\"color: #808000; text-decoration-color: #808000; font-weight: bold\">Rendering</span>    <span style=\"color: #7f7f7f; text-decoration-color: #7f7f7f\">             </span>\n",
       "<span style=\"color: #7fbfbf; text-decoration-color: #7fbfbf\">                    </span>         with the shortest possible total run_time of <span style=\"color: #008000; text-decoration-color: #008000\">0.0166667</span> seconds instead.  <span style=\"color: #7f7f7f; text-decoration-color: #7f7f7f\">             </span>\n",
       "</pre>\n"
      ],
      "text/plain": [
       "\u001b[2;36m                   \u001b[0m\u001b[2;36m \u001b[0m\u001b[31mWARNING \u001b[0m The original total run_time of \u001b[1;35mintegration_index_Scene.play\u001b[0m\u001b[1m(\u001b[0m\u001b[1m)\u001b[0m, \u001b[32m0.0135135\u001b[0m \u001b]8;id=630239;file:///home/carlo/Desktop/single-projects/manim-demopage/.venv_demo/lib/python3.12/site-packages/manim/scene/scene.py\u001b\\\u001b[2mscene.py\u001b[0m\u001b]8;;\u001b\\\u001b[2m:\u001b[0m\u001b]8;id=677070;file:///home/carlo/Desktop/single-projects/manim-demopage/.venv_demo/lib/python3.12/site-packages/manim/scene/scene.py#1044\u001b\\\u001b[2m1044\u001b[0m\u001b]8;;\u001b\\\n",
       "\u001b[2;36m                    \u001b[0m         seconds, is too short for the current frame rate of \u001b[32m60\u001b[0m FPS. \u001b[1;33mRendering\u001b[0m    \u001b[2m             \u001b[0m\n",
       "\u001b[2;36m                    \u001b[0m         with the shortest possible total run_time of \u001b[32m0.0166667\u001b[0m seconds instead.  \u001b[2m             \u001b[0m\n"
      ]
     },
     "metadata": {},
     "output_type": "display_data"
    },
    {
     "data": {
      "text/html": [
       "<pre style=\"white-space:pre;overflow-x:auto;line-height:normal;font-family:Menlo,'DejaVu Sans Mono',consolas,'Courier New',monospace\"><span style=\"color: #7fbfbf; text-decoration-color: #7fbfbf\">                    </span><span style=\"color: #800000; text-decoration-color: #800000\">WARNING </span> The original total run_time of <span style=\"color: #800080; text-decoration-color: #800080; font-weight: bold\">integration_index_Scene.play</span><span style=\"font-weight: bold\">()</span>, <span style=\"color: #008000; text-decoration-color: #008000\">0.0135135</span> <a href=\"file:///home/carlo/Desktop/single-projects/manim-demopage/.venv_demo/lib/python3.12/site-packages/manim/scene/scene.py\" target=\"_blank\"><span style=\"color: #7f7f7f; text-decoration-color: #7f7f7f\">scene.py</span></a><span style=\"color: #7f7f7f; text-decoration-color: #7f7f7f\">:</span><a href=\"file:///home/carlo/Desktop/single-projects/manim-demopage/.venv_demo/lib/python3.12/site-packages/manim/scene/scene.py#1044\" target=\"_blank\"><span style=\"color: #7f7f7f; text-decoration-color: #7f7f7f\">1044</span></a>\n",
       "<span style=\"color: #7fbfbf; text-decoration-color: #7fbfbf\">                    </span>         seconds, is too short for the current frame rate of <span style=\"color: #008000; text-decoration-color: #008000\">60</span> FPS. <span style=\"color: #808000; text-decoration-color: #808000; font-weight: bold\">Rendering</span>    <span style=\"color: #7f7f7f; text-decoration-color: #7f7f7f\">             </span>\n",
       "<span style=\"color: #7fbfbf; text-decoration-color: #7fbfbf\">                    </span>         with the shortest possible total run_time of <span style=\"color: #008000; text-decoration-color: #008000\">0.0166667</span> seconds instead.  <span style=\"color: #7f7f7f; text-decoration-color: #7f7f7f\">             </span>\n",
       "</pre>\n"
      ],
      "text/plain": [
       "\u001b[2;36m                   \u001b[0m\u001b[2;36m \u001b[0m\u001b[31mWARNING \u001b[0m The original total run_time of \u001b[1;35mintegration_index_Scene.play\u001b[0m\u001b[1m(\u001b[0m\u001b[1m)\u001b[0m, \u001b[32m0.0135135\u001b[0m \u001b]8;id=509794;file:///home/carlo/Desktop/single-projects/manim-demopage/.venv_demo/lib/python3.12/site-packages/manim/scene/scene.py\u001b\\\u001b[2mscene.py\u001b[0m\u001b]8;;\u001b\\\u001b[2m:\u001b[0m\u001b]8;id=404487;file:///home/carlo/Desktop/single-projects/manim-demopage/.venv_demo/lib/python3.12/site-packages/manim/scene/scene.py#1044\u001b\\\u001b[2m1044\u001b[0m\u001b]8;;\u001b\\\n",
       "\u001b[2;36m                    \u001b[0m         seconds, is too short for the current frame rate of \u001b[32m60\u001b[0m FPS. \u001b[1;33mRendering\u001b[0m    \u001b[2m             \u001b[0m\n",
       "\u001b[2;36m                    \u001b[0m         with the shortest possible total run_time of \u001b[32m0.0166667\u001b[0m seconds instead.  \u001b[2m             \u001b[0m\n"
      ]
     },
     "metadata": {},
     "output_type": "display_data"
    },
    {
     "data": {
      "text/html": [
       "<pre style=\"white-space:pre;overflow-x:auto;line-height:normal;font-family:Menlo,'DejaVu Sans Mono',consolas,'Courier New',monospace\"><span style=\"color: #7fbfbf; text-decoration-color: #7fbfbf\">                    </span><span style=\"color: #800000; text-decoration-color: #800000\">WARNING </span> The original total run_time of <span style=\"color: #800080; text-decoration-color: #800080; font-weight: bold\">integration_index_Scene.play</span><span style=\"font-weight: bold\">()</span>, <span style=\"color: #008000; text-decoration-color: #008000\">0.0134228</span> <a href=\"file:///home/carlo/Desktop/single-projects/manim-demopage/.venv_demo/lib/python3.12/site-packages/manim/scene/scene.py\" target=\"_blank\"><span style=\"color: #7f7f7f; text-decoration-color: #7f7f7f\">scene.py</span></a><span style=\"color: #7f7f7f; text-decoration-color: #7f7f7f\">:</span><a href=\"file:///home/carlo/Desktop/single-projects/manim-demopage/.venv_demo/lib/python3.12/site-packages/manim/scene/scene.py#1044\" target=\"_blank\"><span style=\"color: #7f7f7f; text-decoration-color: #7f7f7f\">1044</span></a>\n",
       "<span style=\"color: #7fbfbf; text-decoration-color: #7fbfbf\">                    </span>         seconds, is too short for the current frame rate of <span style=\"color: #008000; text-decoration-color: #008000\">60</span> FPS. <span style=\"color: #808000; text-decoration-color: #808000; font-weight: bold\">Rendering</span>    <span style=\"color: #7f7f7f; text-decoration-color: #7f7f7f\">             </span>\n",
       "<span style=\"color: #7fbfbf; text-decoration-color: #7fbfbf\">                    </span>         with the shortest possible total run_time of <span style=\"color: #008000; text-decoration-color: #008000\">0.0166667</span> seconds instead.  <span style=\"color: #7f7f7f; text-decoration-color: #7f7f7f\">             </span>\n",
       "</pre>\n"
      ],
      "text/plain": [
       "\u001b[2;36m                   \u001b[0m\u001b[2;36m \u001b[0m\u001b[31mWARNING \u001b[0m The original total run_time of \u001b[1;35mintegration_index_Scene.play\u001b[0m\u001b[1m(\u001b[0m\u001b[1m)\u001b[0m, \u001b[32m0.0134228\u001b[0m \u001b]8;id=955698;file:///home/carlo/Desktop/single-projects/manim-demopage/.venv_demo/lib/python3.12/site-packages/manim/scene/scene.py\u001b\\\u001b[2mscene.py\u001b[0m\u001b]8;;\u001b\\\u001b[2m:\u001b[0m\u001b]8;id=916852;file:///home/carlo/Desktop/single-projects/manim-demopage/.venv_demo/lib/python3.12/site-packages/manim/scene/scene.py#1044\u001b\\\u001b[2m1044\u001b[0m\u001b]8;;\u001b\\\n",
       "\u001b[2;36m                    \u001b[0m         seconds, is too short for the current frame rate of \u001b[32m60\u001b[0m FPS. \u001b[1;33mRendering\u001b[0m    \u001b[2m             \u001b[0m\n",
       "\u001b[2;36m                    \u001b[0m         with the shortest possible total run_time of \u001b[32m0.0166667\u001b[0m seconds instead.  \u001b[2m             \u001b[0m\n"
      ]
     },
     "metadata": {},
     "output_type": "display_data"
    },
    {
     "data": {
      "text/html": [
       "<pre style=\"white-space:pre;overflow-x:auto;line-height:normal;font-family:Menlo,'DejaVu Sans Mono',consolas,'Courier New',monospace\"><span style=\"color: #7fbfbf; text-decoration-color: #7fbfbf\">                    </span><span style=\"color: #800000; text-decoration-color: #800000\">WARNING </span> The original total run_time of <span style=\"color: #800080; text-decoration-color: #800080; font-weight: bold\">integration_index_Scene.play</span><span style=\"font-weight: bold\">()</span>, <span style=\"color: #008000; text-decoration-color: #008000\">0.0134228</span> <a href=\"file:///home/carlo/Desktop/single-projects/manim-demopage/.venv_demo/lib/python3.12/site-packages/manim/scene/scene.py\" target=\"_blank\"><span style=\"color: #7f7f7f; text-decoration-color: #7f7f7f\">scene.py</span></a><span style=\"color: #7f7f7f; text-decoration-color: #7f7f7f\">:</span><a href=\"file:///home/carlo/Desktop/single-projects/manim-demopage/.venv_demo/lib/python3.12/site-packages/manim/scene/scene.py#1044\" target=\"_blank\"><span style=\"color: #7f7f7f; text-decoration-color: #7f7f7f\">1044</span></a>\n",
       "<span style=\"color: #7fbfbf; text-decoration-color: #7fbfbf\">                    </span>         seconds, is too short for the current frame rate of <span style=\"color: #008000; text-decoration-color: #008000\">60</span> FPS. <span style=\"color: #808000; text-decoration-color: #808000; font-weight: bold\">Rendering</span>    <span style=\"color: #7f7f7f; text-decoration-color: #7f7f7f\">             </span>\n",
       "<span style=\"color: #7fbfbf; text-decoration-color: #7fbfbf\">                    </span>         with the shortest possible total run_time of <span style=\"color: #008000; text-decoration-color: #008000\">0.0166667</span> seconds instead.  <span style=\"color: #7f7f7f; text-decoration-color: #7f7f7f\">             </span>\n",
       "</pre>\n"
      ],
      "text/plain": [
       "\u001b[2;36m                   \u001b[0m\u001b[2;36m \u001b[0m\u001b[31mWARNING \u001b[0m The original total run_time of \u001b[1;35mintegration_index_Scene.play\u001b[0m\u001b[1m(\u001b[0m\u001b[1m)\u001b[0m, \u001b[32m0.0134228\u001b[0m \u001b]8;id=735215;file:///home/carlo/Desktop/single-projects/manim-demopage/.venv_demo/lib/python3.12/site-packages/manim/scene/scene.py\u001b\\\u001b[2mscene.py\u001b[0m\u001b]8;;\u001b\\\u001b[2m:\u001b[0m\u001b]8;id=232;file:///home/carlo/Desktop/single-projects/manim-demopage/.venv_demo/lib/python3.12/site-packages/manim/scene/scene.py#1044\u001b\\\u001b[2m1044\u001b[0m\u001b]8;;\u001b\\\n",
       "\u001b[2;36m                    \u001b[0m         seconds, is too short for the current frame rate of \u001b[32m60\u001b[0m FPS. \u001b[1;33mRendering\u001b[0m    \u001b[2m             \u001b[0m\n",
       "\u001b[2;36m                    \u001b[0m         with the shortest possible total run_time of \u001b[32m0.0166667\u001b[0m seconds instead.  \u001b[2m             \u001b[0m\n"
      ]
     },
     "metadata": {},
     "output_type": "display_data"
    },
    {
     "data": {
      "text/html": [
       "<pre style=\"white-space:pre;overflow-x:auto;line-height:normal;font-family:Menlo,'DejaVu Sans Mono',consolas,'Courier New',monospace\"><span style=\"color: #7fbfbf; text-decoration-color: #7fbfbf\">                    </span><span style=\"color: #800000; text-decoration-color: #800000\">WARNING </span> The original total run_time of <span style=\"color: #800080; text-decoration-color: #800080; font-weight: bold\">integration_index_Scene.play</span><span style=\"font-weight: bold\">()</span>, <span style=\"color: #008000; text-decoration-color: #008000\">0.0133333</span> <a href=\"file:///home/carlo/Desktop/single-projects/manim-demopage/.venv_demo/lib/python3.12/site-packages/manim/scene/scene.py\" target=\"_blank\"><span style=\"color: #7f7f7f; text-decoration-color: #7f7f7f\">scene.py</span></a><span style=\"color: #7f7f7f; text-decoration-color: #7f7f7f\">:</span><a href=\"file:///home/carlo/Desktop/single-projects/manim-demopage/.venv_demo/lib/python3.12/site-packages/manim/scene/scene.py#1044\" target=\"_blank\"><span style=\"color: #7f7f7f; text-decoration-color: #7f7f7f\">1044</span></a>\n",
       "<span style=\"color: #7fbfbf; text-decoration-color: #7fbfbf\">                    </span>         seconds, is too short for the current frame rate of <span style=\"color: #008000; text-decoration-color: #008000\">60</span> FPS. <span style=\"color: #808000; text-decoration-color: #808000; font-weight: bold\">Rendering</span>    <span style=\"color: #7f7f7f; text-decoration-color: #7f7f7f\">             </span>\n",
       "<span style=\"color: #7fbfbf; text-decoration-color: #7fbfbf\">                    </span>         with the shortest possible total run_time of <span style=\"color: #008000; text-decoration-color: #008000\">0.0166667</span> seconds instead.  <span style=\"color: #7f7f7f; text-decoration-color: #7f7f7f\">             </span>\n",
       "</pre>\n"
      ],
      "text/plain": [
       "\u001b[2;36m                   \u001b[0m\u001b[2;36m \u001b[0m\u001b[31mWARNING \u001b[0m The original total run_time of \u001b[1;35mintegration_index_Scene.play\u001b[0m\u001b[1m(\u001b[0m\u001b[1m)\u001b[0m, \u001b[32m0.0133333\u001b[0m \u001b]8;id=290337;file:///home/carlo/Desktop/single-projects/manim-demopage/.venv_demo/lib/python3.12/site-packages/manim/scene/scene.py\u001b\\\u001b[2mscene.py\u001b[0m\u001b]8;;\u001b\\\u001b[2m:\u001b[0m\u001b]8;id=49008;file:///home/carlo/Desktop/single-projects/manim-demopage/.venv_demo/lib/python3.12/site-packages/manim/scene/scene.py#1044\u001b\\\u001b[2m1044\u001b[0m\u001b]8;;\u001b\\\n",
       "\u001b[2;36m                    \u001b[0m         seconds, is too short for the current frame rate of \u001b[32m60\u001b[0m FPS. \u001b[1;33mRendering\u001b[0m    \u001b[2m             \u001b[0m\n",
       "\u001b[2;36m                    \u001b[0m         with the shortest possible total run_time of \u001b[32m0.0166667\u001b[0m seconds instead.  \u001b[2m             \u001b[0m\n"
      ]
     },
     "metadata": {},
     "output_type": "display_data"
    },
    {
     "data": {
      "text/html": [
       "<pre style=\"white-space:pre;overflow-x:auto;line-height:normal;font-family:Menlo,'DejaVu Sans Mono',consolas,'Courier New',monospace\"><span style=\"color: #7fbfbf; text-decoration-color: #7fbfbf\">[01/23/25 11:27:08] </span><span style=\"color: #800000; text-decoration-color: #800000\">WARNING </span> The original total run_time of <span style=\"color: #800080; text-decoration-color: #800080; font-weight: bold\">integration_index_Scene.play</span><span style=\"font-weight: bold\">()</span>, <span style=\"color: #008000; text-decoration-color: #008000\">0.0133333</span> <a href=\"file:///home/carlo/Desktop/single-projects/manim-demopage/.venv_demo/lib/python3.12/site-packages/manim/scene/scene.py\" target=\"_blank\"><span style=\"color: #7f7f7f; text-decoration-color: #7f7f7f\">scene.py</span></a><span style=\"color: #7f7f7f; text-decoration-color: #7f7f7f\">:</span><a href=\"file:///home/carlo/Desktop/single-projects/manim-demopage/.venv_demo/lib/python3.12/site-packages/manim/scene/scene.py#1044\" target=\"_blank\"><span style=\"color: #7f7f7f; text-decoration-color: #7f7f7f\">1044</span></a>\n",
       "<span style=\"color: #7fbfbf; text-decoration-color: #7fbfbf\">                    </span>         seconds, is too short for the current frame rate of <span style=\"color: #008000; text-decoration-color: #008000\">60</span> FPS. <span style=\"color: #808000; text-decoration-color: #808000; font-weight: bold\">Rendering</span>    <span style=\"color: #7f7f7f; text-decoration-color: #7f7f7f\">             </span>\n",
       "<span style=\"color: #7fbfbf; text-decoration-color: #7fbfbf\">                    </span>         with the shortest possible total run_time of <span style=\"color: #008000; text-decoration-color: #008000\">0.0166667</span> seconds instead.  <span style=\"color: #7f7f7f; text-decoration-color: #7f7f7f\">             </span>\n",
       "</pre>\n"
      ],
      "text/plain": [
       "\u001b[2;36m[01/23/25 11:27:08]\u001b[0m\u001b[2;36m \u001b[0m\u001b[31mWARNING \u001b[0m The original total run_time of \u001b[1;35mintegration_index_Scene.play\u001b[0m\u001b[1m(\u001b[0m\u001b[1m)\u001b[0m, \u001b[32m0.0133333\u001b[0m \u001b]8;id=289120;file:///home/carlo/Desktop/single-projects/manim-demopage/.venv_demo/lib/python3.12/site-packages/manim/scene/scene.py\u001b\\\u001b[2mscene.py\u001b[0m\u001b]8;;\u001b\\\u001b[2m:\u001b[0m\u001b]8;id=250721;file:///home/carlo/Desktop/single-projects/manim-demopage/.venv_demo/lib/python3.12/site-packages/manim/scene/scene.py#1044\u001b\\\u001b[2m1044\u001b[0m\u001b]8;;\u001b\\\n",
       "\u001b[2;36m                    \u001b[0m         seconds, is too short for the current frame rate of \u001b[32m60\u001b[0m FPS. \u001b[1;33mRendering\u001b[0m    \u001b[2m             \u001b[0m\n",
       "\u001b[2;36m                    \u001b[0m         with the shortest possible total run_time of \u001b[32m0.0166667\u001b[0m seconds instead.  \u001b[2m             \u001b[0m\n"
      ]
     },
     "metadata": {},
     "output_type": "display_data"
    },
    {
     "data": {
      "text/html": [
       "<pre style=\"white-space:pre;overflow-x:auto;line-height:normal;font-family:Menlo,'DejaVu Sans Mono',consolas,'Courier New',monospace\"><span style=\"color: #7fbfbf; text-decoration-color: #7fbfbf\">                    </span><span style=\"color: #800000; text-decoration-color: #800000\">WARNING </span> The original total run_time of <span style=\"color: #800080; text-decoration-color: #800080; font-weight: bold\">integration_index_Scene.play</span><span style=\"font-weight: bold\">()</span>, <span style=\"color: #008000; text-decoration-color: #008000\">0.013245</span>  <a href=\"file:///home/carlo/Desktop/single-projects/manim-demopage/.venv_demo/lib/python3.12/site-packages/manim/scene/scene.py\" target=\"_blank\"><span style=\"color: #7f7f7f; text-decoration-color: #7f7f7f\">scene.py</span></a><span style=\"color: #7f7f7f; text-decoration-color: #7f7f7f\">:</span><a href=\"file:///home/carlo/Desktop/single-projects/manim-demopage/.venv_demo/lib/python3.12/site-packages/manim/scene/scene.py#1044\" target=\"_blank\"><span style=\"color: #7f7f7f; text-decoration-color: #7f7f7f\">1044</span></a>\n",
       "<span style=\"color: #7fbfbf; text-decoration-color: #7fbfbf\">                    </span>         seconds, is too short for the current frame rate of <span style=\"color: #008000; text-decoration-color: #008000\">60</span> FPS. <span style=\"color: #808000; text-decoration-color: #808000; font-weight: bold\">Rendering</span>    <span style=\"color: #7f7f7f; text-decoration-color: #7f7f7f\">             </span>\n",
       "<span style=\"color: #7fbfbf; text-decoration-color: #7fbfbf\">                    </span>         with the shortest possible total run_time of <span style=\"color: #008000; text-decoration-color: #008000\">0.0166667</span> seconds instead.  <span style=\"color: #7f7f7f; text-decoration-color: #7f7f7f\">             </span>\n",
       "</pre>\n"
      ],
      "text/plain": [
       "\u001b[2;36m                   \u001b[0m\u001b[2;36m \u001b[0m\u001b[31mWARNING \u001b[0m The original total run_time of \u001b[1;35mintegration_index_Scene.play\u001b[0m\u001b[1m(\u001b[0m\u001b[1m)\u001b[0m, \u001b[32m0.013245\u001b[0m  \u001b]8;id=373736;file:///home/carlo/Desktop/single-projects/manim-demopage/.venv_demo/lib/python3.12/site-packages/manim/scene/scene.py\u001b\\\u001b[2mscene.py\u001b[0m\u001b]8;;\u001b\\\u001b[2m:\u001b[0m\u001b]8;id=235665;file:///home/carlo/Desktop/single-projects/manim-demopage/.venv_demo/lib/python3.12/site-packages/manim/scene/scene.py#1044\u001b\\\u001b[2m1044\u001b[0m\u001b]8;;\u001b\\\n",
       "\u001b[2;36m                    \u001b[0m         seconds, is too short for the current frame rate of \u001b[32m60\u001b[0m FPS. \u001b[1;33mRendering\u001b[0m    \u001b[2m             \u001b[0m\n",
       "\u001b[2;36m                    \u001b[0m         with the shortest possible total run_time of \u001b[32m0.0166667\u001b[0m seconds instead.  \u001b[2m             \u001b[0m\n"
      ]
     },
     "metadata": {},
     "output_type": "display_data"
    },
    {
     "data": {
      "text/html": [
       "<pre style=\"white-space:pre;overflow-x:auto;line-height:normal;font-family:Menlo,'DejaVu Sans Mono',consolas,'Courier New',monospace\"><span style=\"color: #7fbfbf; text-decoration-color: #7fbfbf\">                    </span><span style=\"color: #800000; text-decoration-color: #800000\">WARNING </span> The original total run_time of <span style=\"color: #800080; text-decoration-color: #800080; font-weight: bold\">integration_index_Scene.play</span><span style=\"font-weight: bold\">()</span>, <span style=\"color: #008000; text-decoration-color: #008000\">0.013245</span>  <a href=\"file:///home/carlo/Desktop/single-projects/manim-demopage/.venv_demo/lib/python3.12/site-packages/manim/scene/scene.py\" target=\"_blank\"><span style=\"color: #7f7f7f; text-decoration-color: #7f7f7f\">scene.py</span></a><span style=\"color: #7f7f7f; text-decoration-color: #7f7f7f\">:</span><a href=\"file:///home/carlo/Desktop/single-projects/manim-demopage/.venv_demo/lib/python3.12/site-packages/manim/scene/scene.py#1044\" target=\"_blank\"><span style=\"color: #7f7f7f; text-decoration-color: #7f7f7f\">1044</span></a>\n",
       "<span style=\"color: #7fbfbf; text-decoration-color: #7fbfbf\">                    </span>         seconds, is too short for the current frame rate of <span style=\"color: #008000; text-decoration-color: #008000\">60</span> FPS. <span style=\"color: #808000; text-decoration-color: #808000; font-weight: bold\">Rendering</span>    <span style=\"color: #7f7f7f; text-decoration-color: #7f7f7f\">             </span>\n",
       "<span style=\"color: #7fbfbf; text-decoration-color: #7fbfbf\">                    </span>         with the shortest possible total run_time of <span style=\"color: #008000; text-decoration-color: #008000\">0.0166667</span> seconds instead.  <span style=\"color: #7f7f7f; text-decoration-color: #7f7f7f\">             </span>\n",
       "</pre>\n"
      ],
      "text/plain": [
       "\u001b[2;36m                   \u001b[0m\u001b[2;36m \u001b[0m\u001b[31mWARNING \u001b[0m The original total run_time of \u001b[1;35mintegration_index_Scene.play\u001b[0m\u001b[1m(\u001b[0m\u001b[1m)\u001b[0m, \u001b[32m0.013245\u001b[0m  \u001b]8;id=716762;file:///home/carlo/Desktop/single-projects/manim-demopage/.venv_demo/lib/python3.12/site-packages/manim/scene/scene.py\u001b\\\u001b[2mscene.py\u001b[0m\u001b]8;;\u001b\\\u001b[2m:\u001b[0m\u001b]8;id=967185;file:///home/carlo/Desktop/single-projects/manim-demopage/.venv_demo/lib/python3.12/site-packages/manim/scene/scene.py#1044\u001b\\\u001b[2m1044\u001b[0m\u001b]8;;\u001b\\\n",
       "\u001b[2;36m                    \u001b[0m         seconds, is too short for the current frame rate of \u001b[32m60\u001b[0m FPS. \u001b[1;33mRendering\u001b[0m    \u001b[2m             \u001b[0m\n",
       "\u001b[2;36m                    \u001b[0m         with the shortest possible total run_time of \u001b[32m0.0166667\u001b[0m seconds instead.  \u001b[2m             \u001b[0m\n"
      ]
     },
     "metadata": {},
     "output_type": "display_data"
    },
    {
     "data": {
      "text/html": [
       "<pre style=\"white-space:pre;overflow-x:auto;line-height:normal;font-family:Menlo,'DejaVu Sans Mono',consolas,'Courier New',monospace\"><span style=\"color: #7fbfbf; text-decoration-color: #7fbfbf\">                    </span><span style=\"color: #800000; text-decoration-color: #800000\">WARNING </span> The original total run_time of <span style=\"color: #800080; text-decoration-color: #800080; font-weight: bold\">integration_index_Scene.play</span><span style=\"font-weight: bold\">()</span>, <span style=\"color: #008000; text-decoration-color: #008000\">0.0131579</span> <a href=\"file:///home/carlo/Desktop/single-projects/manim-demopage/.venv_demo/lib/python3.12/site-packages/manim/scene/scene.py\" target=\"_blank\"><span style=\"color: #7f7f7f; text-decoration-color: #7f7f7f\">scene.py</span></a><span style=\"color: #7f7f7f; text-decoration-color: #7f7f7f\">:</span><a href=\"file:///home/carlo/Desktop/single-projects/manim-demopage/.venv_demo/lib/python3.12/site-packages/manim/scene/scene.py#1044\" target=\"_blank\"><span style=\"color: #7f7f7f; text-decoration-color: #7f7f7f\">1044</span></a>\n",
       "<span style=\"color: #7fbfbf; text-decoration-color: #7fbfbf\">                    </span>         seconds, is too short for the current frame rate of <span style=\"color: #008000; text-decoration-color: #008000\">60</span> FPS. <span style=\"color: #808000; text-decoration-color: #808000; font-weight: bold\">Rendering</span>    <span style=\"color: #7f7f7f; text-decoration-color: #7f7f7f\">             </span>\n",
       "<span style=\"color: #7fbfbf; text-decoration-color: #7fbfbf\">                    </span>         with the shortest possible total run_time of <span style=\"color: #008000; text-decoration-color: #008000\">0.0166667</span> seconds instead.  <span style=\"color: #7f7f7f; text-decoration-color: #7f7f7f\">             </span>\n",
       "</pre>\n"
      ],
      "text/plain": [
       "\u001b[2;36m                   \u001b[0m\u001b[2;36m \u001b[0m\u001b[31mWARNING \u001b[0m The original total run_time of \u001b[1;35mintegration_index_Scene.play\u001b[0m\u001b[1m(\u001b[0m\u001b[1m)\u001b[0m, \u001b[32m0.0131579\u001b[0m \u001b]8;id=851027;file:///home/carlo/Desktop/single-projects/manim-demopage/.venv_demo/lib/python3.12/site-packages/manim/scene/scene.py\u001b\\\u001b[2mscene.py\u001b[0m\u001b]8;;\u001b\\\u001b[2m:\u001b[0m\u001b]8;id=341751;file:///home/carlo/Desktop/single-projects/manim-demopage/.venv_demo/lib/python3.12/site-packages/manim/scene/scene.py#1044\u001b\\\u001b[2m1044\u001b[0m\u001b]8;;\u001b\\\n",
       "\u001b[2;36m                    \u001b[0m         seconds, is too short for the current frame rate of \u001b[32m60\u001b[0m FPS. \u001b[1;33mRendering\u001b[0m    \u001b[2m             \u001b[0m\n",
       "\u001b[2;36m                    \u001b[0m         with the shortest possible total run_time of \u001b[32m0.0166667\u001b[0m seconds instead.  \u001b[2m             \u001b[0m\n"
      ]
     },
     "metadata": {},
     "output_type": "display_data"
    },
    {
     "data": {
      "text/html": [
       "<pre style=\"white-space:pre;overflow-x:auto;line-height:normal;font-family:Menlo,'DejaVu Sans Mono',consolas,'Courier New',monospace\"><span style=\"color: #7fbfbf; text-decoration-color: #7fbfbf\">                    </span><span style=\"color: #800000; text-decoration-color: #800000\">WARNING </span> The original total run_time of <span style=\"color: #800080; text-decoration-color: #800080; font-weight: bold\">integration_index_Scene.play</span><span style=\"font-weight: bold\">()</span>, <span style=\"color: #008000; text-decoration-color: #008000\">0.0131579</span> <a href=\"file:///home/carlo/Desktop/single-projects/manim-demopage/.venv_demo/lib/python3.12/site-packages/manim/scene/scene.py\" target=\"_blank\"><span style=\"color: #7f7f7f; text-decoration-color: #7f7f7f\">scene.py</span></a><span style=\"color: #7f7f7f; text-decoration-color: #7f7f7f\">:</span><a href=\"file:///home/carlo/Desktop/single-projects/manim-demopage/.venv_demo/lib/python3.12/site-packages/manim/scene/scene.py#1044\" target=\"_blank\"><span style=\"color: #7f7f7f; text-decoration-color: #7f7f7f\">1044</span></a>\n",
       "<span style=\"color: #7fbfbf; text-decoration-color: #7fbfbf\">                    </span>         seconds, is too short for the current frame rate of <span style=\"color: #008000; text-decoration-color: #008000\">60</span> FPS. <span style=\"color: #808000; text-decoration-color: #808000; font-weight: bold\">Rendering</span>    <span style=\"color: #7f7f7f; text-decoration-color: #7f7f7f\">             </span>\n",
       "<span style=\"color: #7fbfbf; text-decoration-color: #7fbfbf\">                    </span>         with the shortest possible total run_time of <span style=\"color: #008000; text-decoration-color: #008000\">0.0166667</span> seconds instead.  <span style=\"color: #7f7f7f; text-decoration-color: #7f7f7f\">             </span>\n",
       "</pre>\n"
      ],
      "text/plain": [
       "\u001b[2;36m                   \u001b[0m\u001b[2;36m \u001b[0m\u001b[31mWARNING \u001b[0m The original total run_time of \u001b[1;35mintegration_index_Scene.play\u001b[0m\u001b[1m(\u001b[0m\u001b[1m)\u001b[0m, \u001b[32m0.0131579\u001b[0m \u001b]8;id=549995;file:///home/carlo/Desktop/single-projects/manim-demopage/.venv_demo/lib/python3.12/site-packages/manim/scene/scene.py\u001b\\\u001b[2mscene.py\u001b[0m\u001b]8;;\u001b\\\u001b[2m:\u001b[0m\u001b]8;id=829461;file:///home/carlo/Desktop/single-projects/manim-demopage/.venv_demo/lib/python3.12/site-packages/manim/scene/scene.py#1044\u001b\\\u001b[2m1044\u001b[0m\u001b]8;;\u001b\\\n",
       "\u001b[2;36m                    \u001b[0m         seconds, is too short for the current frame rate of \u001b[32m60\u001b[0m FPS. \u001b[1;33mRendering\u001b[0m    \u001b[2m             \u001b[0m\n",
       "\u001b[2;36m                    \u001b[0m         with the shortest possible total run_time of \u001b[32m0.0166667\u001b[0m seconds instead.  \u001b[2m             \u001b[0m\n"
      ]
     },
     "metadata": {},
     "output_type": "display_data"
    },
    {
     "data": {
      "text/html": [
       "<pre style=\"white-space:pre;overflow-x:auto;line-height:normal;font-family:Menlo,'DejaVu Sans Mono',consolas,'Courier New',monospace\"><span style=\"color: #7fbfbf; text-decoration-color: #7fbfbf\">                    </span><span style=\"color: #800000; text-decoration-color: #800000\">WARNING </span> The original total run_time of <span style=\"color: #800080; text-decoration-color: #800080; font-weight: bold\">integration_index_Scene.play</span><span style=\"font-weight: bold\">()</span>, <span style=\"color: #008000; text-decoration-color: #008000\">0.0130719</span> <a href=\"file:///home/carlo/Desktop/single-projects/manim-demopage/.venv_demo/lib/python3.12/site-packages/manim/scene/scene.py\" target=\"_blank\"><span style=\"color: #7f7f7f; text-decoration-color: #7f7f7f\">scene.py</span></a><span style=\"color: #7f7f7f; text-decoration-color: #7f7f7f\">:</span><a href=\"file:///home/carlo/Desktop/single-projects/manim-demopage/.venv_demo/lib/python3.12/site-packages/manim/scene/scene.py#1044\" target=\"_blank\"><span style=\"color: #7f7f7f; text-decoration-color: #7f7f7f\">1044</span></a>\n",
       "<span style=\"color: #7fbfbf; text-decoration-color: #7fbfbf\">                    </span>         seconds, is too short for the current frame rate of <span style=\"color: #008000; text-decoration-color: #008000\">60</span> FPS. <span style=\"color: #808000; text-decoration-color: #808000; font-weight: bold\">Rendering</span>    <span style=\"color: #7f7f7f; text-decoration-color: #7f7f7f\">             </span>\n",
       "<span style=\"color: #7fbfbf; text-decoration-color: #7fbfbf\">                    </span>         with the shortest possible total run_time of <span style=\"color: #008000; text-decoration-color: #008000\">0.0166667</span> seconds instead.  <span style=\"color: #7f7f7f; text-decoration-color: #7f7f7f\">             </span>\n",
       "</pre>\n"
      ],
      "text/plain": [
       "\u001b[2;36m                   \u001b[0m\u001b[2;36m \u001b[0m\u001b[31mWARNING \u001b[0m The original total run_time of \u001b[1;35mintegration_index_Scene.play\u001b[0m\u001b[1m(\u001b[0m\u001b[1m)\u001b[0m, \u001b[32m0.0130719\u001b[0m \u001b]8;id=383522;file:///home/carlo/Desktop/single-projects/manim-demopage/.venv_demo/lib/python3.12/site-packages/manim/scene/scene.py\u001b\\\u001b[2mscene.py\u001b[0m\u001b]8;;\u001b\\\u001b[2m:\u001b[0m\u001b]8;id=829207;file:///home/carlo/Desktop/single-projects/manim-demopage/.venv_demo/lib/python3.12/site-packages/manim/scene/scene.py#1044\u001b\\\u001b[2m1044\u001b[0m\u001b]8;;\u001b\\\n",
       "\u001b[2;36m                    \u001b[0m         seconds, is too short for the current frame rate of \u001b[32m60\u001b[0m FPS. \u001b[1;33mRendering\u001b[0m    \u001b[2m             \u001b[0m\n",
       "\u001b[2;36m                    \u001b[0m         with the shortest possible total run_time of \u001b[32m0.0166667\u001b[0m seconds instead.  \u001b[2m             \u001b[0m\n"
      ]
     },
     "metadata": {},
     "output_type": "display_data"
    },
    {
     "data": {
      "text/html": [
       "<pre style=\"white-space:pre;overflow-x:auto;line-height:normal;font-family:Menlo,'DejaVu Sans Mono',consolas,'Courier New',monospace\"><span style=\"color: #7fbfbf; text-decoration-color: #7fbfbf\">                    </span><span style=\"color: #800000; text-decoration-color: #800000\">WARNING </span> The original total run_time of <span style=\"color: #800080; text-decoration-color: #800080; font-weight: bold\">integration_index_Scene.play</span><span style=\"font-weight: bold\">()</span>, <span style=\"color: #008000; text-decoration-color: #008000\">0.0130719</span> <a href=\"file:///home/carlo/Desktop/single-projects/manim-demopage/.venv_demo/lib/python3.12/site-packages/manim/scene/scene.py\" target=\"_blank\"><span style=\"color: #7f7f7f; text-decoration-color: #7f7f7f\">scene.py</span></a><span style=\"color: #7f7f7f; text-decoration-color: #7f7f7f\">:</span><a href=\"file:///home/carlo/Desktop/single-projects/manim-demopage/.venv_demo/lib/python3.12/site-packages/manim/scene/scene.py#1044\" target=\"_blank\"><span style=\"color: #7f7f7f; text-decoration-color: #7f7f7f\">1044</span></a>\n",
       "<span style=\"color: #7fbfbf; text-decoration-color: #7fbfbf\">                    </span>         seconds, is too short for the current frame rate of <span style=\"color: #008000; text-decoration-color: #008000\">60</span> FPS. <span style=\"color: #808000; text-decoration-color: #808000; font-weight: bold\">Rendering</span>    <span style=\"color: #7f7f7f; text-decoration-color: #7f7f7f\">             </span>\n",
       "<span style=\"color: #7fbfbf; text-decoration-color: #7fbfbf\">                    </span>         with the shortest possible total run_time of <span style=\"color: #008000; text-decoration-color: #008000\">0.0166667</span> seconds instead.  <span style=\"color: #7f7f7f; text-decoration-color: #7f7f7f\">             </span>\n",
       "</pre>\n"
      ],
      "text/plain": [
       "\u001b[2;36m                   \u001b[0m\u001b[2;36m \u001b[0m\u001b[31mWARNING \u001b[0m The original total run_time of \u001b[1;35mintegration_index_Scene.play\u001b[0m\u001b[1m(\u001b[0m\u001b[1m)\u001b[0m, \u001b[32m0.0130719\u001b[0m \u001b]8;id=365905;file:///home/carlo/Desktop/single-projects/manim-demopage/.venv_demo/lib/python3.12/site-packages/manim/scene/scene.py\u001b\\\u001b[2mscene.py\u001b[0m\u001b]8;;\u001b\\\u001b[2m:\u001b[0m\u001b]8;id=661073;file:///home/carlo/Desktop/single-projects/manim-demopage/.venv_demo/lib/python3.12/site-packages/manim/scene/scene.py#1044\u001b\\\u001b[2m1044\u001b[0m\u001b]8;;\u001b\\\n",
       "\u001b[2;36m                    \u001b[0m         seconds, is too short for the current frame rate of \u001b[32m60\u001b[0m FPS. \u001b[1;33mRendering\u001b[0m    \u001b[2m             \u001b[0m\n",
       "\u001b[2;36m                    \u001b[0m         with the shortest possible total run_time of \u001b[32m0.0166667\u001b[0m seconds instead.  \u001b[2m             \u001b[0m\n"
      ]
     },
     "metadata": {},
     "output_type": "display_data"
    },
    {
     "data": {
      "text/html": [
       "<pre style=\"white-space:pre;overflow-x:auto;line-height:normal;font-family:Menlo,'DejaVu Sans Mono',consolas,'Courier New',monospace\"><span style=\"color: #7fbfbf; text-decoration-color: #7fbfbf\">                    </span><span style=\"color: #800000; text-decoration-color: #800000\">WARNING </span> The original total run_time of <span style=\"color: #800080; text-decoration-color: #800080; font-weight: bold\">integration_index_Scene.play</span><span style=\"font-weight: bold\">()</span>, <span style=\"color: #008000; text-decoration-color: #008000\">0.012987</span>  <a href=\"file:///home/carlo/Desktop/single-projects/manim-demopage/.venv_demo/lib/python3.12/site-packages/manim/scene/scene.py\" target=\"_blank\"><span style=\"color: #7f7f7f; text-decoration-color: #7f7f7f\">scene.py</span></a><span style=\"color: #7f7f7f; text-decoration-color: #7f7f7f\">:</span><a href=\"file:///home/carlo/Desktop/single-projects/manim-demopage/.venv_demo/lib/python3.12/site-packages/manim/scene/scene.py#1044\" target=\"_blank\"><span style=\"color: #7f7f7f; text-decoration-color: #7f7f7f\">1044</span></a>\n",
       "<span style=\"color: #7fbfbf; text-decoration-color: #7fbfbf\">                    </span>         seconds, is too short for the current frame rate of <span style=\"color: #008000; text-decoration-color: #008000\">60</span> FPS. <span style=\"color: #808000; text-decoration-color: #808000; font-weight: bold\">Rendering</span>    <span style=\"color: #7f7f7f; text-decoration-color: #7f7f7f\">             </span>\n",
       "<span style=\"color: #7fbfbf; text-decoration-color: #7fbfbf\">                    </span>         with the shortest possible total run_time of <span style=\"color: #008000; text-decoration-color: #008000\">0.0166667</span> seconds instead.  <span style=\"color: #7f7f7f; text-decoration-color: #7f7f7f\">             </span>\n",
       "</pre>\n"
      ],
      "text/plain": [
       "\u001b[2;36m                   \u001b[0m\u001b[2;36m \u001b[0m\u001b[31mWARNING \u001b[0m The original total run_time of \u001b[1;35mintegration_index_Scene.play\u001b[0m\u001b[1m(\u001b[0m\u001b[1m)\u001b[0m, \u001b[32m0.012987\u001b[0m  \u001b]8;id=776873;file:///home/carlo/Desktop/single-projects/manim-demopage/.venv_demo/lib/python3.12/site-packages/manim/scene/scene.py\u001b\\\u001b[2mscene.py\u001b[0m\u001b]8;;\u001b\\\u001b[2m:\u001b[0m\u001b]8;id=400157;file:///home/carlo/Desktop/single-projects/manim-demopage/.venv_demo/lib/python3.12/site-packages/manim/scene/scene.py#1044\u001b\\\u001b[2m1044\u001b[0m\u001b]8;;\u001b\\\n",
       "\u001b[2;36m                    \u001b[0m         seconds, is too short for the current frame rate of \u001b[32m60\u001b[0m FPS. \u001b[1;33mRendering\u001b[0m    \u001b[2m             \u001b[0m\n",
       "\u001b[2;36m                    \u001b[0m         with the shortest possible total run_time of \u001b[32m0.0166667\u001b[0m seconds instead.  \u001b[2m             \u001b[0m\n"
      ]
     },
     "metadata": {},
     "output_type": "display_data"
    },
    {
     "data": {
      "text/html": [
       "<pre style=\"white-space:pre;overflow-x:auto;line-height:normal;font-family:Menlo,'DejaVu Sans Mono',consolas,'Courier New',monospace\"><span style=\"color: #7fbfbf; text-decoration-color: #7fbfbf\">                    </span><span style=\"color: #800000; text-decoration-color: #800000\">WARNING </span> The original total run_time of <span style=\"color: #800080; text-decoration-color: #800080; font-weight: bold\">integration_index_Scene.play</span><span style=\"font-weight: bold\">()</span>, <span style=\"color: #008000; text-decoration-color: #008000\">0.012987</span>  <a href=\"file:///home/carlo/Desktop/single-projects/manim-demopage/.venv_demo/lib/python3.12/site-packages/manim/scene/scene.py\" target=\"_blank\"><span style=\"color: #7f7f7f; text-decoration-color: #7f7f7f\">scene.py</span></a><span style=\"color: #7f7f7f; text-decoration-color: #7f7f7f\">:</span><a href=\"file:///home/carlo/Desktop/single-projects/manim-demopage/.venv_demo/lib/python3.12/site-packages/manim/scene/scene.py#1044\" target=\"_blank\"><span style=\"color: #7f7f7f; text-decoration-color: #7f7f7f\">1044</span></a>\n",
       "<span style=\"color: #7fbfbf; text-decoration-color: #7fbfbf\">                    </span>         seconds, is too short for the current frame rate of <span style=\"color: #008000; text-decoration-color: #008000\">60</span> FPS. <span style=\"color: #808000; text-decoration-color: #808000; font-weight: bold\">Rendering</span>    <span style=\"color: #7f7f7f; text-decoration-color: #7f7f7f\">             </span>\n",
       "<span style=\"color: #7fbfbf; text-decoration-color: #7fbfbf\">                    </span>         with the shortest possible total run_time of <span style=\"color: #008000; text-decoration-color: #008000\">0.0166667</span> seconds instead.  <span style=\"color: #7f7f7f; text-decoration-color: #7f7f7f\">             </span>\n",
       "</pre>\n"
      ],
      "text/plain": [
       "\u001b[2;36m                   \u001b[0m\u001b[2;36m \u001b[0m\u001b[31mWARNING \u001b[0m The original total run_time of \u001b[1;35mintegration_index_Scene.play\u001b[0m\u001b[1m(\u001b[0m\u001b[1m)\u001b[0m, \u001b[32m0.012987\u001b[0m  \u001b]8;id=73589;file:///home/carlo/Desktop/single-projects/manim-demopage/.venv_demo/lib/python3.12/site-packages/manim/scene/scene.py\u001b\\\u001b[2mscene.py\u001b[0m\u001b]8;;\u001b\\\u001b[2m:\u001b[0m\u001b]8;id=707556;file:///home/carlo/Desktop/single-projects/manim-demopage/.venv_demo/lib/python3.12/site-packages/manim/scene/scene.py#1044\u001b\\\u001b[2m1044\u001b[0m\u001b]8;;\u001b\\\n",
       "\u001b[2;36m                    \u001b[0m         seconds, is too short for the current frame rate of \u001b[32m60\u001b[0m FPS. \u001b[1;33mRendering\u001b[0m    \u001b[2m             \u001b[0m\n",
       "\u001b[2;36m                    \u001b[0m         with the shortest possible total run_time of \u001b[32m0.0166667\u001b[0m seconds instead.  \u001b[2m             \u001b[0m\n"
      ]
     },
     "metadata": {},
     "output_type": "display_data"
    },
    {
     "data": {
      "text/html": [
       "<pre style=\"white-space:pre;overflow-x:auto;line-height:normal;font-family:Menlo,'DejaVu Sans Mono',consolas,'Courier New',monospace\"><span style=\"color: #7fbfbf; text-decoration-color: #7fbfbf\">                    </span><span style=\"color: #800000; text-decoration-color: #800000\">WARNING </span> The original total run_time of <span style=\"color: #800080; text-decoration-color: #800080; font-weight: bold\">integration_index_Scene.play</span><span style=\"font-weight: bold\">()</span>, <span style=\"color: #008000; text-decoration-color: #008000\">0.0129032</span> <a href=\"file:///home/carlo/Desktop/single-projects/manim-demopage/.venv_demo/lib/python3.12/site-packages/manim/scene/scene.py\" target=\"_blank\"><span style=\"color: #7f7f7f; text-decoration-color: #7f7f7f\">scene.py</span></a><span style=\"color: #7f7f7f; text-decoration-color: #7f7f7f\">:</span><a href=\"file:///home/carlo/Desktop/single-projects/manim-demopage/.venv_demo/lib/python3.12/site-packages/manim/scene/scene.py#1044\" target=\"_blank\"><span style=\"color: #7f7f7f; text-decoration-color: #7f7f7f\">1044</span></a>\n",
       "<span style=\"color: #7fbfbf; text-decoration-color: #7fbfbf\">                    </span>         seconds, is too short for the current frame rate of <span style=\"color: #008000; text-decoration-color: #008000\">60</span> FPS. <span style=\"color: #808000; text-decoration-color: #808000; font-weight: bold\">Rendering</span>    <span style=\"color: #7f7f7f; text-decoration-color: #7f7f7f\">             </span>\n",
       "<span style=\"color: #7fbfbf; text-decoration-color: #7fbfbf\">                    </span>         with the shortest possible total run_time of <span style=\"color: #008000; text-decoration-color: #008000\">0.0166667</span> seconds instead.  <span style=\"color: #7f7f7f; text-decoration-color: #7f7f7f\">             </span>\n",
       "</pre>\n"
      ],
      "text/plain": [
       "\u001b[2;36m                   \u001b[0m\u001b[2;36m \u001b[0m\u001b[31mWARNING \u001b[0m The original total run_time of \u001b[1;35mintegration_index_Scene.play\u001b[0m\u001b[1m(\u001b[0m\u001b[1m)\u001b[0m, \u001b[32m0.0129032\u001b[0m \u001b]8;id=741920;file:///home/carlo/Desktop/single-projects/manim-demopage/.venv_demo/lib/python3.12/site-packages/manim/scene/scene.py\u001b\\\u001b[2mscene.py\u001b[0m\u001b]8;;\u001b\\\u001b[2m:\u001b[0m\u001b]8;id=6187;file:///home/carlo/Desktop/single-projects/manim-demopage/.venv_demo/lib/python3.12/site-packages/manim/scene/scene.py#1044\u001b\\\u001b[2m1044\u001b[0m\u001b]8;;\u001b\\\n",
       "\u001b[2;36m                    \u001b[0m         seconds, is too short for the current frame rate of \u001b[32m60\u001b[0m FPS. \u001b[1;33mRendering\u001b[0m    \u001b[2m             \u001b[0m\n",
       "\u001b[2;36m                    \u001b[0m         with the shortest possible total run_time of \u001b[32m0.0166667\u001b[0m seconds instead.  \u001b[2m             \u001b[0m\n"
      ]
     },
     "metadata": {},
     "output_type": "display_data"
    },
    {
     "data": {
      "text/html": [
       "<pre style=\"white-space:pre;overflow-x:auto;line-height:normal;font-family:Menlo,'DejaVu Sans Mono',consolas,'Courier New',monospace\"><span style=\"color: #7fbfbf; text-decoration-color: #7fbfbf\">                    </span><span style=\"color: #800000; text-decoration-color: #800000\">WARNING </span> The original total run_time of <span style=\"color: #800080; text-decoration-color: #800080; font-weight: bold\">integration_index_Scene.play</span><span style=\"font-weight: bold\">()</span>, <span style=\"color: #008000; text-decoration-color: #008000\">0.0129032</span> <a href=\"file:///home/carlo/Desktop/single-projects/manim-demopage/.venv_demo/lib/python3.12/site-packages/manim/scene/scene.py\" target=\"_blank\"><span style=\"color: #7f7f7f; text-decoration-color: #7f7f7f\">scene.py</span></a><span style=\"color: #7f7f7f; text-decoration-color: #7f7f7f\">:</span><a href=\"file:///home/carlo/Desktop/single-projects/manim-demopage/.venv_demo/lib/python3.12/site-packages/manim/scene/scene.py#1044\" target=\"_blank\"><span style=\"color: #7f7f7f; text-decoration-color: #7f7f7f\">1044</span></a>\n",
       "<span style=\"color: #7fbfbf; text-decoration-color: #7fbfbf\">                    </span>         seconds, is too short for the current frame rate of <span style=\"color: #008000; text-decoration-color: #008000\">60</span> FPS. <span style=\"color: #808000; text-decoration-color: #808000; font-weight: bold\">Rendering</span>    <span style=\"color: #7f7f7f; text-decoration-color: #7f7f7f\">             </span>\n",
       "<span style=\"color: #7fbfbf; text-decoration-color: #7fbfbf\">                    </span>         with the shortest possible total run_time of <span style=\"color: #008000; text-decoration-color: #008000\">0.0166667</span> seconds instead.  <span style=\"color: #7f7f7f; text-decoration-color: #7f7f7f\">             </span>\n",
       "</pre>\n"
      ],
      "text/plain": [
       "\u001b[2;36m                   \u001b[0m\u001b[2;36m \u001b[0m\u001b[31mWARNING \u001b[0m The original total run_time of \u001b[1;35mintegration_index_Scene.play\u001b[0m\u001b[1m(\u001b[0m\u001b[1m)\u001b[0m, \u001b[32m0.0129032\u001b[0m \u001b]8;id=603563;file:///home/carlo/Desktop/single-projects/manim-demopage/.venv_demo/lib/python3.12/site-packages/manim/scene/scene.py\u001b\\\u001b[2mscene.py\u001b[0m\u001b]8;;\u001b\\\u001b[2m:\u001b[0m\u001b]8;id=543939;file:///home/carlo/Desktop/single-projects/manim-demopage/.venv_demo/lib/python3.12/site-packages/manim/scene/scene.py#1044\u001b\\\u001b[2m1044\u001b[0m\u001b]8;;\u001b\\\n",
       "\u001b[2;36m                    \u001b[0m         seconds, is too short for the current frame rate of \u001b[32m60\u001b[0m FPS. \u001b[1;33mRendering\u001b[0m    \u001b[2m             \u001b[0m\n",
       "\u001b[2;36m                    \u001b[0m         with the shortest possible total run_time of \u001b[32m0.0166667\u001b[0m seconds instead.  \u001b[2m             \u001b[0m\n"
      ]
     },
     "metadata": {},
     "output_type": "display_data"
    },
    {
     "data": {
      "text/html": [
       "<pre style=\"white-space:pre;overflow-x:auto;line-height:normal;font-family:Menlo,'DejaVu Sans Mono',consolas,'Courier New',monospace\"><span style=\"color: #7fbfbf; text-decoration-color: #7fbfbf\">[01/23/25 11:27:09] </span><span style=\"color: #800000; text-decoration-color: #800000\">WARNING </span> The original total run_time of <span style=\"color: #800080; text-decoration-color: #800080; font-weight: bold\">integration_index_Scene.play</span><span style=\"font-weight: bold\">()</span>, <span style=\"color: #008000; text-decoration-color: #008000\">0.0128205</span> <a href=\"file:///home/carlo/Desktop/single-projects/manim-demopage/.venv_demo/lib/python3.12/site-packages/manim/scene/scene.py\" target=\"_blank\"><span style=\"color: #7f7f7f; text-decoration-color: #7f7f7f\">scene.py</span></a><span style=\"color: #7f7f7f; text-decoration-color: #7f7f7f\">:</span><a href=\"file:///home/carlo/Desktop/single-projects/manim-demopage/.venv_demo/lib/python3.12/site-packages/manim/scene/scene.py#1044\" target=\"_blank\"><span style=\"color: #7f7f7f; text-decoration-color: #7f7f7f\">1044</span></a>\n",
       "<span style=\"color: #7fbfbf; text-decoration-color: #7fbfbf\">                    </span>         seconds, is too short for the current frame rate of <span style=\"color: #008000; text-decoration-color: #008000\">60</span> FPS. <span style=\"color: #808000; text-decoration-color: #808000; font-weight: bold\">Rendering</span>    <span style=\"color: #7f7f7f; text-decoration-color: #7f7f7f\">             </span>\n",
       "<span style=\"color: #7fbfbf; text-decoration-color: #7fbfbf\">                    </span>         with the shortest possible total run_time of <span style=\"color: #008000; text-decoration-color: #008000\">0.0166667</span> seconds instead.  <span style=\"color: #7f7f7f; text-decoration-color: #7f7f7f\">             </span>\n",
       "</pre>\n"
      ],
      "text/plain": [
       "\u001b[2;36m[01/23/25 11:27:09]\u001b[0m\u001b[2;36m \u001b[0m\u001b[31mWARNING \u001b[0m The original total run_time of \u001b[1;35mintegration_index_Scene.play\u001b[0m\u001b[1m(\u001b[0m\u001b[1m)\u001b[0m, \u001b[32m0.0128205\u001b[0m \u001b]8;id=948153;file:///home/carlo/Desktop/single-projects/manim-demopage/.venv_demo/lib/python3.12/site-packages/manim/scene/scene.py\u001b\\\u001b[2mscene.py\u001b[0m\u001b]8;;\u001b\\\u001b[2m:\u001b[0m\u001b]8;id=239706;file:///home/carlo/Desktop/single-projects/manim-demopage/.venv_demo/lib/python3.12/site-packages/manim/scene/scene.py#1044\u001b\\\u001b[2m1044\u001b[0m\u001b]8;;\u001b\\\n",
       "\u001b[2;36m                    \u001b[0m         seconds, is too short for the current frame rate of \u001b[32m60\u001b[0m FPS. \u001b[1;33mRendering\u001b[0m    \u001b[2m             \u001b[0m\n",
       "\u001b[2;36m                    \u001b[0m         with the shortest possible total run_time of \u001b[32m0.0166667\u001b[0m seconds instead.  \u001b[2m             \u001b[0m\n"
      ]
     },
     "metadata": {},
     "output_type": "display_data"
    },
    {
     "data": {
      "text/html": [
       "<pre style=\"white-space:pre;overflow-x:auto;line-height:normal;font-family:Menlo,'DejaVu Sans Mono',consolas,'Courier New',monospace\"><span style=\"color: #7fbfbf; text-decoration-color: #7fbfbf\">                    </span><span style=\"color: #800000; text-decoration-color: #800000\">WARNING </span> The original total run_time of <span style=\"color: #800080; text-decoration-color: #800080; font-weight: bold\">integration_index_Scene.play</span><span style=\"font-weight: bold\">()</span>, <span style=\"color: #008000; text-decoration-color: #008000\">0.0128205</span> <a href=\"file:///home/carlo/Desktop/single-projects/manim-demopage/.venv_demo/lib/python3.12/site-packages/manim/scene/scene.py\" target=\"_blank\"><span style=\"color: #7f7f7f; text-decoration-color: #7f7f7f\">scene.py</span></a><span style=\"color: #7f7f7f; text-decoration-color: #7f7f7f\">:</span><a href=\"file:///home/carlo/Desktop/single-projects/manim-demopage/.venv_demo/lib/python3.12/site-packages/manim/scene/scene.py#1044\" target=\"_blank\"><span style=\"color: #7f7f7f; text-decoration-color: #7f7f7f\">1044</span></a>\n",
       "<span style=\"color: #7fbfbf; text-decoration-color: #7fbfbf\">                    </span>         seconds, is too short for the current frame rate of <span style=\"color: #008000; text-decoration-color: #008000\">60</span> FPS. <span style=\"color: #808000; text-decoration-color: #808000; font-weight: bold\">Rendering</span>    <span style=\"color: #7f7f7f; text-decoration-color: #7f7f7f\">             </span>\n",
       "<span style=\"color: #7fbfbf; text-decoration-color: #7fbfbf\">                    </span>         with the shortest possible total run_time of <span style=\"color: #008000; text-decoration-color: #008000\">0.0166667</span> seconds instead.  <span style=\"color: #7f7f7f; text-decoration-color: #7f7f7f\">             </span>\n",
       "</pre>\n"
      ],
      "text/plain": [
       "\u001b[2;36m                   \u001b[0m\u001b[2;36m \u001b[0m\u001b[31mWARNING \u001b[0m The original total run_time of \u001b[1;35mintegration_index_Scene.play\u001b[0m\u001b[1m(\u001b[0m\u001b[1m)\u001b[0m, \u001b[32m0.0128205\u001b[0m \u001b]8;id=650892;file:///home/carlo/Desktop/single-projects/manim-demopage/.venv_demo/lib/python3.12/site-packages/manim/scene/scene.py\u001b\\\u001b[2mscene.py\u001b[0m\u001b]8;;\u001b\\\u001b[2m:\u001b[0m\u001b]8;id=225517;file:///home/carlo/Desktop/single-projects/manim-demopage/.venv_demo/lib/python3.12/site-packages/manim/scene/scene.py#1044\u001b\\\u001b[2m1044\u001b[0m\u001b]8;;\u001b\\\n",
       "\u001b[2;36m                    \u001b[0m         seconds, is too short for the current frame rate of \u001b[32m60\u001b[0m FPS. \u001b[1;33mRendering\u001b[0m    \u001b[2m             \u001b[0m\n",
       "\u001b[2;36m                    \u001b[0m         with the shortest possible total run_time of \u001b[32m0.0166667\u001b[0m seconds instead.  \u001b[2m             \u001b[0m\n"
      ]
     },
     "metadata": {},
     "output_type": "display_data"
    },
    {
     "data": {
      "text/html": [
       "<pre style=\"white-space:pre;overflow-x:auto;line-height:normal;font-family:Menlo,'DejaVu Sans Mono',consolas,'Courier New',monospace\"><span style=\"color: #7fbfbf; text-decoration-color: #7fbfbf\">                    </span><span style=\"color: #800000; text-decoration-color: #800000\">WARNING </span> The original total run_time of <span style=\"color: #800080; text-decoration-color: #800080; font-weight: bold\">integration_index_Scene.play</span><span style=\"font-weight: bold\">()</span>, <span style=\"color: #008000; text-decoration-color: #008000\">0.0127389</span> <a href=\"file:///home/carlo/Desktop/single-projects/manim-demopage/.venv_demo/lib/python3.12/site-packages/manim/scene/scene.py\" target=\"_blank\"><span style=\"color: #7f7f7f; text-decoration-color: #7f7f7f\">scene.py</span></a><span style=\"color: #7f7f7f; text-decoration-color: #7f7f7f\">:</span><a href=\"file:///home/carlo/Desktop/single-projects/manim-demopage/.venv_demo/lib/python3.12/site-packages/manim/scene/scene.py#1044\" target=\"_blank\"><span style=\"color: #7f7f7f; text-decoration-color: #7f7f7f\">1044</span></a>\n",
       "<span style=\"color: #7fbfbf; text-decoration-color: #7fbfbf\">                    </span>         seconds, is too short for the current frame rate of <span style=\"color: #008000; text-decoration-color: #008000\">60</span> FPS. <span style=\"color: #808000; text-decoration-color: #808000; font-weight: bold\">Rendering</span>    <span style=\"color: #7f7f7f; text-decoration-color: #7f7f7f\">             </span>\n",
       "<span style=\"color: #7fbfbf; text-decoration-color: #7fbfbf\">                    </span>         with the shortest possible total run_time of <span style=\"color: #008000; text-decoration-color: #008000\">0.0166667</span> seconds instead.  <span style=\"color: #7f7f7f; text-decoration-color: #7f7f7f\">             </span>\n",
       "</pre>\n"
      ],
      "text/plain": [
       "\u001b[2;36m                   \u001b[0m\u001b[2;36m \u001b[0m\u001b[31mWARNING \u001b[0m The original total run_time of \u001b[1;35mintegration_index_Scene.play\u001b[0m\u001b[1m(\u001b[0m\u001b[1m)\u001b[0m, \u001b[32m0.0127389\u001b[0m \u001b]8;id=46336;file:///home/carlo/Desktop/single-projects/manim-demopage/.venv_demo/lib/python3.12/site-packages/manim/scene/scene.py\u001b\\\u001b[2mscene.py\u001b[0m\u001b]8;;\u001b\\\u001b[2m:\u001b[0m\u001b]8;id=882634;file:///home/carlo/Desktop/single-projects/manim-demopage/.venv_demo/lib/python3.12/site-packages/manim/scene/scene.py#1044\u001b\\\u001b[2m1044\u001b[0m\u001b]8;;\u001b\\\n",
       "\u001b[2;36m                    \u001b[0m         seconds, is too short for the current frame rate of \u001b[32m60\u001b[0m FPS. \u001b[1;33mRendering\u001b[0m    \u001b[2m             \u001b[0m\n",
       "\u001b[2;36m                    \u001b[0m         with the shortest possible total run_time of \u001b[32m0.0166667\u001b[0m seconds instead.  \u001b[2m             \u001b[0m\n"
      ]
     },
     "metadata": {},
     "output_type": "display_data"
    },
    {
     "data": {
      "text/html": [
       "<pre style=\"white-space:pre;overflow-x:auto;line-height:normal;font-family:Menlo,'DejaVu Sans Mono',consolas,'Courier New',monospace\"><span style=\"color: #7fbfbf; text-decoration-color: #7fbfbf\">                    </span><span style=\"color: #800000; text-decoration-color: #800000\">WARNING </span> The original total run_time of <span style=\"color: #800080; text-decoration-color: #800080; font-weight: bold\">integration_index_Scene.play</span><span style=\"font-weight: bold\">()</span>, <span style=\"color: #008000; text-decoration-color: #008000\">0.0127389</span> <a href=\"file:///home/carlo/Desktop/single-projects/manim-demopage/.venv_demo/lib/python3.12/site-packages/manim/scene/scene.py\" target=\"_blank\"><span style=\"color: #7f7f7f; text-decoration-color: #7f7f7f\">scene.py</span></a><span style=\"color: #7f7f7f; text-decoration-color: #7f7f7f\">:</span><a href=\"file:///home/carlo/Desktop/single-projects/manim-demopage/.venv_demo/lib/python3.12/site-packages/manim/scene/scene.py#1044\" target=\"_blank\"><span style=\"color: #7f7f7f; text-decoration-color: #7f7f7f\">1044</span></a>\n",
       "<span style=\"color: #7fbfbf; text-decoration-color: #7fbfbf\">                    </span>         seconds, is too short for the current frame rate of <span style=\"color: #008000; text-decoration-color: #008000\">60</span> FPS. <span style=\"color: #808000; text-decoration-color: #808000; font-weight: bold\">Rendering</span>    <span style=\"color: #7f7f7f; text-decoration-color: #7f7f7f\">             </span>\n",
       "<span style=\"color: #7fbfbf; text-decoration-color: #7fbfbf\">                    </span>         with the shortest possible total run_time of <span style=\"color: #008000; text-decoration-color: #008000\">0.0166667</span> seconds instead.  <span style=\"color: #7f7f7f; text-decoration-color: #7f7f7f\">             </span>\n",
       "</pre>\n"
      ],
      "text/plain": [
       "\u001b[2;36m                   \u001b[0m\u001b[2;36m \u001b[0m\u001b[31mWARNING \u001b[0m The original total run_time of \u001b[1;35mintegration_index_Scene.play\u001b[0m\u001b[1m(\u001b[0m\u001b[1m)\u001b[0m, \u001b[32m0.0127389\u001b[0m \u001b]8;id=709167;file:///home/carlo/Desktop/single-projects/manim-demopage/.venv_demo/lib/python3.12/site-packages/manim/scene/scene.py\u001b\\\u001b[2mscene.py\u001b[0m\u001b]8;;\u001b\\\u001b[2m:\u001b[0m\u001b]8;id=502099;file:///home/carlo/Desktop/single-projects/manim-demopage/.venv_demo/lib/python3.12/site-packages/manim/scene/scene.py#1044\u001b\\\u001b[2m1044\u001b[0m\u001b]8;;\u001b\\\n",
       "\u001b[2;36m                    \u001b[0m         seconds, is too short for the current frame rate of \u001b[32m60\u001b[0m FPS. \u001b[1;33mRendering\u001b[0m    \u001b[2m             \u001b[0m\n",
       "\u001b[2;36m                    \u001b[0m         with the shortest possible total run_time of \u001b[32m0.0166667\u001b[0m seconds instead.  \u001b[2m             \u001b[0m\n"
      ]
     },
     "metadata": {},
     "output_type": "display_data"
    },
    {
     "data": {
      "text/html": [
       "<pre style=\"white-space:pre;overflow-x:auto;line-height:normal;font-family:Menlo,'DejaVu Sans Mono',consolas,'Courier New',monospace\"><span style=\"color: #7fbfbf; text-decoration-color: #7fbfbf\">                    </span><span style=\"color: #800000; text-decoration-color: #800000\">WARNING </span> The original total run_time of <span style=\"color: #800080; text-decoration-color: #800080; font-weight: bold\">integration_index_Scene.play</span><span style=\"font-weight: bold\">()</span>, <span style=\"color: #008000; text-decoration-color: #008000\">0.0126582</span> <a href=\"file:///home/carlo/Desktop/single-projects/manim-demopage/.venv_demo/lib/python3.12/site-packages/manim/scene/scene.py\" target=\"_blank\"><span style=\"color: #7f7f7f; text-decoration-color: #7f7f7f\">scene.py</span></a><span style=\"color: #7f7f7f; text-decoration-color: #7f7f7f\">:</span><a href=\"file:///home/carlo/Desktop/single-projects/manim-demopage/.venv_demo/lib/python3.12/site-packages/manim/scene/scene.py#1044\" target=\"_blank\"><span style=\"color: #7f7f7f; text-decoration-color: #7f7f7f\">1044</span></a>\n",
       "<span style=\"color: #7fbfbf; text-decoration-color: #7fbfbf\">                    </span>         seconds, is too short for the current frame rate of <span style=\"color: #008000; text-decoration-color: #008000\">60</span> FPS. <span style=\"color: #808000; text-decoration-color: #808000; font-weight: bold\">Rendering</span>    <span style=\"color: #7f7f7f; text-decoration-color: #7f7f7f\">             </span>\n",
       "<span style=\"color: #7fbfbf; text-decoration-color: #7fbfbf\">                    </span>         with the shortest possible total run_time of <span style=\"color: #008000; text-decoration-color: #008000\">0.0166667</span> seconds instead.  <span style=\"color: #7f7f7f; text-decoration-color: #7f7f7f\">             </span>\n",
       "</pre>\n"
      ],
      "text/plain": [
       "\u001b[2;36m                   \u001b[0m\u001b[2;36m \u001b[0m\u001b[31mWARNING \u001b[0m The original total run_time of \u001b[1;35mintegration_index_Scene.play\u001b[0m\u001b[1m(\u001b[0m\u001b[1m)\u001b[0m, \u001b[32m0.0126582\u001b[0m \u001b]8;id=730578;file:///home/carlo/Desktop/single-projects/manim-demopage/.venv_demo/lib/python3.12/site-packages/manim/scene/scene.py\u001b\\\u001b[2mscene.py\u001b[0m\u001b]8;;\u001b\\\u001b[2m:\u001b[0m\u001b]8;id=2406;file:///home/carlo/Desktop/single-projects/manim-demopage/.venv_demo/lib/python3.12/site-packages/manim/scene/scene.py#1044\u001b\\\u001b[2m1044\u001b[0m\u001b]8;;\u001b\\\n",
       "\u001b[2;36m                    \u001b[0m         seconds, is too short for the current frame rate of \u001b[32m60\u001b[0m FPS. \u001b[1;33mRendering\u001b[0m    \u001b[2m             \u001b[0m\n",
       "\u001b[2;36m                    \u001b[0m         with the shortest possible total run_time of \u001b[32m0.0166667\u001b[0m seconds instead.  \u001b[2m             \u001b[0m\n"
      ]
     },
     "metadata": {},
     "output_type": "display_data"
    },
    {
     "data": {
      "text/html": [
       "<pre style=\"white-space:pre;overflow-x:auto;line-height:normal;font-family:Menlo,'DejaVu Sans Mono',consolas,'Courier New',monospace\"><span style=\"color: #7fbfbf; text-decoration-color: #7fbfbf\">                    </span><span style=\"color: #800000; text-decoration-color: #800000\">WARNING </span> The original total run_time of <span style=\"color: #800080; text-decoration-color: #800080; font-weight: bold\">integration_index_Scene.play</span><span style=\"font-weight: bold\">()</span>, <span style=\"color: #008000; text-decoration-color: #008000\">0.0126582</span> <a href=\"file:///home/carlo/Desktop/single-projects/manim-demopage/.venv_demo/lib/python3.12/site-packages/manim/scene/scene.py\" target=\"_blank\"><span style=\"color: #7f7f7f; text-decoration-color: #7f7f7f\">scene.py</span></a><span style=\"color: #7f7f7f; text-decoration-color: #7f7f7f\">:</span><a href=\"file:///home/carlo/Desktop/single-projects/manim-demopage/.venv_demo/lib/python3.12/site-packages/manim/scene/scene.py#1044\" target=\"_blank\"><span style=\"color: #7f7f7f; text-decoration-color: #7f7f7f\">1044</span></a>\n",
       "<span style=\"color: #7fbfbf; text-decoration-color: #7fbfbf\">                    </span>         seconds, is too short for the current frame rate of <span style=\"color: #008000; text-decoration-color: #008000\">60</span> FPS. <span style=\"color: #808000; text-decoration-color: #808000; font-weight: bold\">Rendering</span>    <span style=\"color: #7f7f7f; text-decoration-color: #7f7f7f\">             </span>\n",
       "<span style=\"color: #7fbfbf; text-decoration-color: #7fbfbf\">                    </span>         with the shortest possible total run_time of <span style=\"color: #008000; text-decoration-color: #008000\">0.0166667</span> seconds instead.  <span style=\"color: #7f7f7f; text-decoration-color: #7f7f7f\">             </span>\n",
       "</pre>\n"
      ],
      "text/plain": [
       "\u001b[2;36m                   \u001b[0m\u001b[2;36m \u001b[0m\u001b[31mWARNING \u001b[0m The original total run_time of \u001b[1;35mintegration_index_Scene.play\u001b[0m\u001b[1m(\u001b[0m\u001b[1m)\u001b[0m, \u001b[32m0.0126582\u001b[0m \u001b]8;id=811779;file:///home/carlo/Desktop/single-projects/manim-demopage/.venv_demo/lib/python3.12/site-packages/manim/scene/scene.py\u001b\\\u001b[2mscene.py\u001b[0m\u001b]8;;\u001b\\\u001b[2m:\u001b[0m\u001b]8;id=387673;file:///home/carlo/Desktop/single-projects/manim-demopage/.venv_demo/lib/python3.12/site-packages/manim/scene/scene.py#1044\u001b\\\u001b[2m1044\u001b[0m\u001b]8;;\u001b\\\n",
       "\u001b[2;36m                    \u001b[0m         seconds, is too short for the current frame rate of \u001b[32m60\u001b[0m FPS. \u001b[1;33mRendering\u001b[0m    \u001b[2m             \u001b[0m\n",
       "\u001b[2;36m                    \u001b[0m         with the shortest possible total run_time of \u001b[32m0.0166667\u001b[0m seconds instead.  \u001b[2m             \u001b[0m\n"
      ]
     },
     "metadata": {},
     "output_type": "display_data"
    },
    {
     "data": {
      "text/html": [
       "<pre style=\"white-space:pre;overflow-x:auto;line-height:normal;font-family:Menlo,'DejaVu Sans Mono',consolas,'Courier New',monospace\"><span style=\"color: #7fbfbf; text-decoration-color: #7fbfbf\">                    </span><span style=\"color: #800000; text-decoration-color: #800000\">WARNING </span> The original total run_time of <span style=\"color: #800080; text-decoration-color: #800080; font-weight: bold\">integration_index_Scene.play</span><span style=\"font-weight: bold\">()</span>, <span style=\"color: #008000; text-decoration-color: #008000\">0.0125786</span> <a href=\"file:///home/carlo/Desktop/single-projects/manim-demopage/.venv_demo/lib/python3.12/site-packages/manim/scene/scene.py\" target=\"_blank\"><span style=\"color: #7f7f7f; text-decoration-color: #7f7f7f\">scene.py</span></a><span style=\"color: #7f7f7f; text-decoration-color: #7f7f7f\">:</span><a href=\"file:///home/carlo/Desktop/single-projects/manim-demopage/.venv_demo/lib/python3.12/site-packages/manim/scene/scene.py#1044\" target=\"_blank\"><span style=\"color: #7f7f7f; text-decoration-color: #7f7f7f\">1044</span></a>\n",
       "<span style=\"color: #7fbfbf; text-decoration-color: #7fbfbf\">                    </span>         seconds, is too short for the current frame rate of <span style=\"color: #008000; text-decoration-color: #008000\">60</span> FPS. <span style=\"color: #808000; text-decoration-color: #808000; font-weight: bold\">Rendering</span>    <span style=\"color: #7f7f7f; text-decoration-color: #7f7f7f\">             </span>\n",
       "<span style=\"color: #7fbfbf; text-decoration-color: #7fbfbf\">                    </span>         with the shortest possible total run_time of <span style=\"color: #008000; text-decoration-color: #008000\">0.0166667</span> seconds instead.  <span style=\"color: #7f7f7f; text-decoration-color: #7f7f7f\">             </span>\n",
       "</pre>\n"
      ],
      "text/plain": [
       "\u001b[2;36m                   \u001b[0m\u001b[2;36m \u001b[0m\u001b[31mWARNING \u001b[0m The original total run_time of \u001b[1;35mintegration_index_Scene.play\u001b[0m\u001b[1m(\u001b[0m\u001b[1m)\u001b[0m, \u001b[32m0.0125786\u001b[0m \u001b]8;id=628578;file:///home/carlo/Desktop/single-projects/manim-demopage/.venv_demo/lib/python3.12/site-packages/manim/scene/scene.py\u001b\\\u001b[2mscene.py\u001b[0m\u001b]8;;\u001b\\\u001b[2m:\u001b[0m\u001b]8;id=983726;file:///home/carlo/Desktop/single-projects/manim-demopage/.venv_demo/lib/python3.12/site-packages/manim/scene/scene.py#1044\u001b\\\u001b[2m1044\u001b[0m\u001b]8;;\u001b\\\n",
       "\u001b[2;36m                    \u001b[0m         seconds, is too short for the current frame rate of \u001b[32m60\u001b[0m FPS. \u001b[1;33mRendering\u001b[0m    \u001b[2m             \u001b[0m\n",
       "\u001b[2;36m                    \u001b[0m         with the shortest possible total run_time of \u001b[32m0.0166667\u001b[0m seconds instead.  \u001b[2m             \u001b[0m\n"
      ]
     },
     "metadata": {},
     "output_type": "display_data"
    },
    {
     "data": {
      "text/html": [
       "<pre style=\"white-space:pre;overflow-x:auto;line-height:normal;font-family:Menlo,'DejaVu Sans Mono',consolas,'Courier New',monospace\"><span style=\"color: #7fbfbf; text-decoration-color: #7fbfbf\">                    </span><span style=\"color: #800000; text-decoration-color: #800000\">WARNING </span> The original total run_time of <span style=\"color: #800080; text-decoration-color: #800080; font-weight: bold\">integration_index_Scene.play</span><span style=\"font-weight: bold\">()</span>, <span style=\"color: #008000; text-decoration-color: #008000\">0.0125786</span> <a href=\"file:///home/carlo/Desktop/single-projects/manim-demopage/.venv_demo/lib/python3.12/site-packages/manim/scene/scene.py\" target=\"_blank\"><span style=\"color: #7f7f7f; text-decoration-color: #7f7f7f\">scene.py</span></a><span style=\"color: #7f7f7f; text-decoration-color: #7f7f7f\">:</span><a href=\"file:///home/carlo/Desktop/single-projects/manim-demopage/.venv_demo/lib/python3.12/site-packages/manim/scene/scene.py#1044\" target=\"_blank\"><span style=\"color: #7f7f7f; text-decoration-color: #7f7f7f\">1044</span></a>\n",
       "<span style=\"color: #7fbfbf; text-decoration-color: #7fbfbf\">                    </span>         seconds, is too short for the current frame rate of <span style=\"color: #008000; text-decoration-color: #008000\">60</span> FPS. <span style=\"color: #808000; text-decoration-color: #808000; font-weight: bold\">Rendering</span>    <span style=\"color: #7f7f7f; text-decoration-color: #7f7f7f\">             </span>\n",
       "<span style=\"color: #7fbfbf; text-decoration-color: #7fbfbf\">                    </span>         with the shortest possible total run_time of <span style=\"color: #008000; text-decoration-color: #008000\">0.0166667</span> seconds instead.  <span style=\"color: #7f7f7f; text-decoration-color: #7f7f7f\">             </span>\n",
       "</pre>\n"
      ],
      "text/plain": [
       "\u001b[2;36m                   \u001b[0m\u001b[2;36m \u001b[0m\u001b[31mWARNING \u001b[0m The original total run_time of \u001b[1;35mintegration_index_Scene.play\u001b[0m\u001b[1m(\u001b[0m\u001b[1m)\u001b[0m, \u001b[32m0.0125786\u001b[0m \u001b]8;id=351683;file:///home/carlo/Desktop/single-projects/manim-demopage/.venv_demo/lib/python3.12/site-packages/manim/scene/scene.py\u001b\\\u001b[2mscene.py\u001b[0m\u001b]8;;\u001b\\\u001b[2m:\u001b[0m\u001b]8;id=704272;file:///home/carlo/Desktop/single-projects/manim-demopage/.venv_demo/lib/python3.12/site-packages/manim/scene/scene.py#1044\u001b\\\u001b[2m1044\u001b[0m\u001b]8;;\u001b\\\n",
       "\u001b[2;36m                    \u001b[0m         seconds, is too short for the current frame rate of \u001b[32m60\u001b[0m FPS. \u001b[1;33mRendering\u001b[0m    \u001b[2m             \u001b[0m\n",
       "\u001b[2;36m                    \u001b[0m         with the shortest possible total run_time of \u001b[32m0.0166667\u001b[0m seconds instead.  \u001b[2m             \u001b[0m\n"
      ]
     },
     "metadata": {},
     "output_type": "display_data"
    },
    {
     "data": {
      "text/html": [
       "<pre style=\"white-space:pre;overflow-x:auto;line-height:normal;font-family:Menlo,'DejaVu Sans Mono',consolas,'Courier New',monospace\"><span style=\"color: #7fbfbf; text-decoration-color: #7fbfbf\">                    </span><span style=\"color: #800000; text-decoration-color: #800000\">WARNING </span> The original total run_time of <span style=\"color: #800080; text-decoration-color: #800080; font-weight: bold\">integration_index_Scene.play</span><span style=\"font-weight: bold\">()</span>, <span style=\"color: #008000; text-decoration-color: #008000\">0.0125</span>    <a href=\"file:///home/carlo/Desktop/single-projects/manim-demopage/.venv_demo/lib/python3.12/site-packages/manim/scene/scene.py\" target=\"_blank\"><span style=\"color: #7f7f7f; text-decoration-color: #7f7f7f\">scene.py</span></a><span style=\"color: #7f7f7f; text-decoration-color: #7f7f7f\">:</span><a href=\"file:///home/carlo/Desktop/single-projects/manim-demopage/.venv_demo/lib/python3.12/site-packages/manim/scene/scene.py#1044\" target=\"_blank\"><span style=\"color: #7f7f7f; text-decoration-color: #7f7f7f\">1044</span></a>\n",
       "<span style=\"color: #7fbfbf; text-decoration-color: #7fbfbf\">                    </span>         seconds, is too short for the current frame rate of <span style=\"color: #008000; text-decoration-color: #008000\">60</span> FPS. <span style=\"color: #808000; text-decoration-color: #808000; font-weight: bold\">Rendering</span>    <span style=\"color: #7f7f7f; text-decoration-color: #7f7f7f\">             </span>\n",
       "<span style=\"color: #7fbfbf; text-decoration-color: #7fbfbf\">                    </span>         with the shortest possible total run_time of <span style=\"color: #008000; text-decoration-color: #008000\">0.0166667</span> seconds instead.  <span style=\"color: #7f7f7f; text-decoration-color: #7f7f7f\">             </span>\n",
       "</pre>\n"
      ],
      "text/plain": [
       "\u001b[2;36m                   \u001b[0m\u001b[2;36m \u001b[0m\u001b[31mWARNING \u001b[0m The original total run_time of \u001b[1;35mintegration_index_Scene.play\u001b[0m\u001b[1m(\u001b[0m\u001b[1m)\u001b[0m, \u001b[32m0.0125\u001b[0m    \u001b]8;id=916525;file:///home/carlo/Desktop/single-projects/manim-demopage/.venv_demo/lib/python3.12/site-packages/manim/scene/scene.py\u001b\\\u001b[2mscene.py\u001b[0m\u001b]8;;\u001b\\\u001b[2m:\u001b[0m\u001b]8;id=48383;file:///home/carlo/Desktop/single-projects/manim-demopage/.venv_demo/lib/python3.12/site-packages/manim/scene/scene.py#1044\u001b\\\u001b[2m1044\u001b[0m\u001b]8;;\u001b\\\n",
       "\u001b[2;36m                    \u001b[0m         seconds, is too short for the current frame rate of \u001b[32m60\u001b[0m FPS. \u001b[1;33mRendering\u001b[0m    \u001b[2m             \u001b[0m\n",
       "\u001b[2;36m                    \u001b[0m         with the shortest possible total run_time of \u001b[32m0.0166667\u001b[0m seconds instead.  \u001b[2m             \u001b[0m\n"
      ]
     },
     "metadata": {},
     "output_type": "display_data"
    },
    {
     "data": {
      "text/html": [
       "<pre style=\"white-space:pre;overflow-x:auto;line-height:normal;font-family:Menlo,'DejaVu Sans Mono',consolas,'Courier New',monospace\"><span style=\"color: #7fbfbf; text-decoration-color: #7fbfbf\">                    </span><span style=\"color: #800000; text-decoration-color: #800000\">WARNING </span> The original total run_time of <span style=\"color: #800080; text-decoration-color: #800080; font-weight: bold\">integration_index_Scene.play</span><span style=\"font-weight: bold\">()</span>, <span style=\"color: #008000; text-decoration-color: #008000\">0.0125</span>    <a href=\"file:///home/carlo/Desktop/single-projects/manim-demopage/.venv_demo/lib/python3.12/site-packages/manim/scene/scene.py\" target=\"_blank\"><span style=\"color: #7f7f7f; text-decoration-color: #7f7f7f\">scene.py</span></a><span style=\"color: #7f7f7f; text-decoration-color: #7f7f7f\">:</span><a href=\"file:///home/carlo/Desktop/single-projects/manim-demopage/.venv_demo/lib/python3.12/site-packages/manim/scene/scene.py#1044\" target=\"_blank\"><span style=\"color: #7f7f7f; text-decoration-color: #7f7f7f\">1044</span></a>\n",
       "<span style=\"color: #7fbfbf; text-decoration-color: #7fbfbf\">                    </span>         seconds, is too short for the current frame rate of <span style=\"color: #008000; text-decoration-color: #008000\">60</span> FPS. <span style=\"color: #808000; text-decoration-color: #808000; font-weight: bold\">Rendering</span>    <span style=\"color: #7f7f7f; text-decoration-color: #7f7f7f\">             </span>\n",
       "<span style=\"color: #7fbfbf; text-decoration-color: #7fbfbf\">                    </span>         with the shortest possible total run_time of <span style=\"color: #008000; text-decoration-color: #008000\">0.0166667</span> seconds instead.  <span style=\"color: #7f7f7f; text-decoration-color: #7f7f7f\">             </span>\n",
       "</pre>\n"
      ],
      "text/plain": [
       "\u001b[2;36m                   \u001b[0m\u001b[2;36m \u001b[0m\u001b[31mWARNING \u001b[0m The original total run_time of \u001b[1;35mintegration_index_Scene.play\u001b[0m\u001b[1m(\u001b[0m\u001b[1m)\u001b[0m, \u001b[32m0.0125\u001b[0m    \u001b]8;id=779866;file:///home/carlo/Desktop/single-projects/manim-demopage/.venv_demo/lib/python3.12/site-packages/manim/scene/scene.py\u001b\\\u001b[2mscene.py\u001b[0m\u001b]8;;\u001b\\\u001b[2m:\u001b[0m\u001b]8;id=507747;file:///home/carlo/Desktop/single-projects/manim-demopage/.venv_demo/lib/python3.12/site-packages/manim/scene/scene.py#1044\u001b\\\u001b[2m1044\u001b[0m\u001b]8;;\u001b\\\n",
       "\u001b[2;36m                    \u001b[0m         seconds, is too short for the current frame rate of \u001b[32m60\u001b[0m FPS. \u001b[1;33mRendering\u001b[0m    \u001b[2m             \u001b[0m\n",
       "\u001b[2;36m                    \u001b[0m         with the shortest possible total run_time of \u001b[32m0.0166667\u001b[0m seconds instead.  \u001b[2m             \u001b[0m\n"
      ]
     },
     "metadata": {},
     "output_type": "display_data"
    },
    {
     "data": {
      "text/html": [
       "<pre style=\"white-space:pre;overflow-x:auto;line-height:normal;font-family:Menlo,'DejaVu Sans Mono',consolas,'Courier New',monospace\"><span style=\"color: #7fbfbf; text-decoration-color: #7fbfbf\">                    </span><span style=\"color: #800000; text-decoration-color: #800000\">WARNING </span> The original total run_time of <span style=\"color: #800080; text-decoration-color: #800080; font-weight: bold\">integration_index_Scene.play</span><span style=\"font-weight: bold\">()</span>, <span style=\"color: #008000; text-decoration-color: #008000\">0.0124224</span> <a href=\"file:///home/carlo/Desktop/single-projects/manim-demopage/.venv_demo/lib/python3.12/site-packages/manim/scene/scene.py\" target=\"_blank\"><span style=\"color: #7f7f7f; text-decoration-color: #7f7f7f\">scene.py</span></a><span style=\"color: #7f7f7f; text-decoration-color: #7f7f7f\">:</span><a href=\"file:///home/carlo/Desktop/single-projects/manim-demopage/.venv_demo/lib/python3.12/site-packages/manim/scene/scene.py#1044\" target=\"_blank\"><span style=\"color: #7f7f7f; text-decoration-color: #7f7f7f\">1044</span></a>\n",
       "<span style=\"color: #7fbfbf; text-decoration-color: #7fbfbf\">                    </span>         seconds, is too short for the current frame rate of <span style=\"color: #008000; text-decoration-color: #008000\">60</span> FPS. <span style=\"color: #808000; text-decoration-color: #808000; font-weight: bold\">Rendering</span>    <span style=\"color: #7f7f7f; text-decoration-color: #7f7f7f\">             </span>\n",
       "<span style=\"color: #7fbfbf; text-decoration-color: #7fbfbf\">                    </span>         with the shortest possible total run_time of <span style=\"color: #008000; text-decoration-color: #008000\">0.0166667</span> seconds instead.  <span style=\"color: #7f7f7f; text-decoration-color: #7f7f7f\">             </span>\n",
       "</pre>\n"
      ],
      "text/plain": [
       "\u001b[2;36m                   \u001b[0m\u001b[2;36m \u001b[0m\u001b[31mWARNING \u001b[0m The original total run_time of \u001b[1;35mintegration_index_Scene.play\u001b[0m\u001b[1m(\u001b[0m\u001b[1m)\u001b[0m, \u001b[32m0.0124224\u001b[0m \u001b]8;id=984390;file:///home/carlo/Desktop/single-projects/manim-demopage/.venv_demo/lib/python3.12/site-packages/manim/scene/scene.py\u001b\\\u001b[2mscene.py\u001b[0m\u001b]8;;\u001b\\\u001b[2m:\u001b[0m\u001b]8;id=880930;file:///home/carlo/Desktop/single-projects/manim-demopage/.venv_demo/lib/python3.12/site-packages/manim/scene/scene.py#1044\u001b\\\u001b[2m1044\u001b[0m\u001b]8;;\u001b\\\n",
       "\u001b[2;36m                    \u001b[0m         seconds, is too short for the current frame rate of \u001b[32m60\u001b[0m FPS. \u001b[1;33mRendering\u001b[0m    \u001b[2m             \u001b[0m\n",
       "\u001b[2;36m                    \u001b[0m         with the shortest possible total run_time of \u001b[32m0.0166667\u001b[0m seconds instead.  \u001b[2m             \u001b[0m\n"
      ]
     },
     "metadata": {},
     "output_type": "display_data"
    },
    {
     "data": {
      "text/html": [
       "<pre style=\"white-space:pre;overflow-x:auto;line-height:normal;font-family:Menlo,'DejaVu Sans Mono',consolas,'Courier New',monospace\"><span style=\"color: #7fbfbf; text-decoration-color: #7fbfbf\">                    </span><span style=\"color: #800000; text-decoration-color: #800000\">WARNING </span> The original total run_time of <span style=\"color: #800080; text-decoration-color: #800080; font-weight: bold\">integration_index_Scene.play</span><span style=\"font-weight: bold\">()</span>, <span style=\"color: #008000; text-decoration-color: #008000\">0.0124224</span> <a href=\"file:///home/carlo/Desktop/single-projects/manim-demopage/.venv_demo/lib/python3.12/site-packages/manim/scene/scene.py\" target=\"_blank\"><span style=\"color: #7f7f7f; text-decoration-color: #7f7f7f\">scene.py</span></a><span style=\"color: #7f7f7f; text-decoration-color: #7f7f7f\">:</span><a href=\"file:///home/carlo/Desktop/single-projects/manim-demopage/.venv_demo/lib/python3.12/site-packages/manim/scene/scene.py#1044\" target=\"_blank\"><span style=\"color: #7f7f7f; text-decoration-color: #7f7f7f\">1044</span></a>\n",
       "<span style=\"color: #7fbfbf; text-decoration-color: #7fbfbf\">                    </span>         seconds, is too short for the current frame rate of <span style=\"color: #008000; text-decoration-color: #008000\">60</span> FPS. <span style=\"color: #808000; text-decoration-color: #808000; font-weight: bold\">Rendering</span>    <span style=\"color: #7f7f7f; text-decoration-color: #7f7f7f\">             </span>\n",
       "<span style=\"color: #7fbfbf; text-decoration-color: #7fbfbf\">                    </span>         with the shortest possible total run_time of <span style=\"color: #008000; text-decoration-color: #008000\">0.0166667</span> seconds instead.  <span style=\"color: #7f7f7f; text-decoration-color: #7f7f7f\">             </span>\n",
       "</pre>\n"
      ],
      "text/plain": [
       "\u001b[2;36m                   \u001b[0m\u001b[2;36m \u001b[0m\u001b[31mWARNING \u001b[0m The original total run_time of \u001b[1;35mintegration_index_Scene.play\u001b[0m\u001b[1m(\u001b[0m\u001b[1m)\u001b[0m, \u001b[32m0.0124224\u001b[0m \u001b]8;id=219948;file:///home/carlo/Desktop/single-projects/manim-demopage/.venv_demo/lib/python3.12/site-packages/manim/scene/scene.py\u001b\\\u001b[2mscene.py\u001b[0m\u001b]8;;\u001b\\\u001b[2m:\u001b[0m\u001b]8;id=40353;file:///home/carlo/Desktop/single-projects/manim-demopage/.venv_demo/lib/python3.12/site-packages/manim/scene/scene.py#1044\u001b\\\u001b[2m1044\u001b[0m\u001b]8;;\u001b\\\n",
       "\u001b[2;36m                    \u001b[0m         seconds, is too short for the current frame rate of \u001b[32m60\u001b[0m FPS. \u001b[1;33mRendering\u001b[0m    \u001b[2m             \u001b[0m\n",
       "\u001b[2;36m                    \u001b[0m         with the shortest possible total run_time of \u001b[32m0.0166667\u001b[0m seconds instead.  \u001b[2m             \u001b[0m\n"
      ]
     },
     "metadata": {},
     "output_type": "display_data"
    },
    {
     "data": {
      "text/html": [
       "<pre style=\"white-space:pre;overflow-x:auto;line-height:normal;font-family:Menlo,'DejaVu Sans Mono',consolas,'Courier New',monospace\"><span style=\"color: #7fbfbf; text-decoration-color: #7fbfbf\">[01/23/25 11:27:10] </span><span style=\"color: #800000; text-decoration-color: #800000\">WARNING </span> The original total run_time of <span style=\"color: #800080; text-decoration-color: #800080; font-weight: bold\">integration_index_Scene.play</span><span style=\"font-weight: bold\">()</span>, <span style=\"color: #008000; text-decoration-color: #008000\">0.0123457</span> <a href=\"file:///home/carlo/Desktop/single-projects/manim-demopage/.venv_demo/lib/python3.12/site-packages/manim/scene/scene.py\" target=\"_blank\"><span style=\"color: #7f7f7f; text-decoration-color: #7f7f7f\">scene.py</span></a><span style=\"color: #7f7f7f; text-decoration-color: #7f7f7f\">:</span><a href=\"file:///home/carlo/Desktop/single-projects/manim-demopage/.venv_demo/lib/python3.12/site-packages/manim/scene/scene.py#1044\" target=\"_blank\"><span style=\"color: #7f7f7f; text-decoration-color: #7f7f7f\">1044</span></a>\n",
       "<span style=\"color: #7fbfbf; text-decoration-color: #7fbfbf\">                    </span>         seconds, is too short for the current frame rate of <span style=\"color: #008000; text-decoration-color: #008000\">60</span> FPS. <span style=\"color: #808000; text-decoration-color: #808000; font-weight: bold\">Rendering</span>    <span style=\"color: #7f7f7f; text-decoration-color: #7f7f7f\">             </span>\n",
       "<span style=\"color: #7fbfbf; text-decoration-color: #7fbfbf\">                    </span>         with the shortest possible total run_time of <span style=\"color: #008000; text-decoration-color: #008000\">0.0166667</span> seconds instead.  <span style=\"color: #7f7f7f; text-decoration-color: #7f7f7f\">             </span>\n",
       "</pre>\n"
      ],
      "text/plain": [
       "\u001b[2;36m[01/23/25 11:27:10]\u001b[0m\u001b[2;36m \u001b[0m\u001b[31mWARNING \u001b[0m The original total run_time of \u001b[1;35mintegration_index_Scene.play\u001b[0m\u001b[1m(\u001b[0m\u001b[1m)\u001b[0m, \u001b[32m0.0123457\u001b[0m \u001b]8;id=896590;file:///home/carlo/Desktop/single-projects/manim-demopage/.venv_demo/lib/python3.12/site-packages/manim/scene/scene.py\u001b\\\u001b[2mscene.py\u001b[0m\u001b]8;;\u001b\\\u001b[2m:\u001b[0m\u001b]8;id=236842;file:///home/carlo/Desktop/single-projects/manim-demopage/.venv_demo/lib/python3.12/site-packages/manim/scene/scene.py#1044\u001b\\\u001b[2m1044\u001b[0m\u001b]8;;\u001b\\\n",
       "\u001b[2;36m                    \u001b[0m         seconds, is too short for the current frame rate of \u001b[32m60\u001b[0m FPS. \u001b[1;33mRendering\u001b[0m    \u001b[2m             \u001b[0m\n",
       "\u001b[2;36m                    \u001b[0m         with the shortest possible total run_time of \u001b[32m0.0166667\u001b[0m seconds instead.  \u001b[2m             \u001b[0m\n"
      ]
     },
     "metadata": {},
     "output_type": "display_data"
    },
    {
     "data": {
      "text/html": [
       "<pre style=\"white-space:pre;overflow-x:auto;line-height:normal;font-family:Menlo,'DejaVu Sans Mono',consolas,'Courier New',monospace\"><span style=\"color: #7fbfbf; text-decoration-color: #7fbfbf\">                    </span><span style=\"color: #800000; text-decoration-color: #800000\">WARNING </span> The original total run_time of <span style=\"color: #800080; text-decoration-color: #800080; font-weight: bold\">integration_index_Scene.play</span><span style=\"font-weight: bold\">()</span>, <span style=\"color: #008000; text-decoration-color: #008000\">0.0123457</span> <a href=\"file:///home/carlo/Desktop/single-projects/manim-demopage/.venv_demo/lib/python3.12/site-packages/manim/scene/scene.py\" target=\"_blank\"><span style=\"color: #7f7f7f; text-decoration-color: #7f7f7f\">scene.py</span></a><span style=\"color: #7f7f7f; text-decoration-color: #7f7f7f\">:</span><a href=\"file:///home/carlo/Desktop/single-projects/manim-demopage/.venv_demo/lib/python3.12/site-packages/manim/scene/scene.py#1044\" target=\"_blank\"><span style=\"color: #7f7f7f; text-decoration-color: #7f7f7f\">1044</span></a>\n",
       "<span style=\"color: #7fbfbf; text-decoration-color: #7fbfbf\">                    </span>         seconds, is too short for the current frame rate of <span style=\"color: #008000; text-decoration-color: #008000\">60</span> FPS. <span style=\"color: #808000; text-decoration-color: #808000; font-weight: bold\">Rendering</span>    <span style=\"color: #7f7f7f; text-decoration-color: #7f7f7f\">             </span>\n",
       "<span style=\"color: #7fbfbf; text-decoration-color: #7fbfbf\">                    </span>         with the shortest possible total run_time of <span style=\"color: #008000; text-decoration-color: #008000\">0.0166667</span> seconds instead.  <span style=\"color: #7f7f7f; text-decoration-color: #7f7f7f\">             </span>\n",
       "</pre>\n"
      ],
      "text/plain": [
       "\u001b[2;36m                   \u001b[0m\u001b[2;36m \u001b[0m\u001b[31mWARNING \u001b[0m The original total run_time of \u001b[1;35mintegration_index_Scene.play\u001b[0m\u001b[1m(\u001b[0m\u001b[1m)\u001b[0m, \u001b[32m0.0123457\u001b[0m \u001b]8;id=201180;file:///home/carlo/Desktop/single-projects/manim-demopage/.venv_demo/lib/python3.12/site-packages/manim/scene/scene.py\u001b\\\u001b[2mscene.py\u001b[0m\u001b]8;;\u001b\\\u001b[2m:\u001b[0m\u001b]8;id=323698;file:///home/carlo/Desktop/single-projects/manim-demopage/.venv_demo/lib/python3.12/site-packages/manim/scene/scene.py#1044\u001b\\\u001b[2m1044\u001b[0m\u001b]8;;\u001b\\\n",
       "\u001b[2;36m                    \u001b[0m         seconds, is too short for the current frame rate of \u001b[32m60\u001b[0m FPS. \u001b[1;33mRendering\u001b[0m    \u001b[2m             \u001b[0m\n",
       "\u001b[2;36m                    \u001b[0m         with the shortest possible total run_time of \u001b[32m0.0166667\u001b[0m seconds instead.  \u001b[2m             \u001b[0m\n"
      ]
     },
     "metadata": {},
     "output_type": "display_data"
    },
    {
     "data": {
      "text/html": [
       "<pre style=\"white-space:pre;overflow-x:auto;line-height:normal;font-family:Menlo,'DejaVu Sans Mono',consolas,'Courier New',monospace\"><span style=\"color: #7fbfbf; text-decoration-color: #7fbfbf\">                    </span><span style=\"color: #800000; text-decoration-color: #800000\">WARNING </span> The original total run_time of <span style=\"color: #800080; text-decoration-color: #800080; font-weight: bold\">integration_index_Scene.play</span><span style=\"font-weight: bold\">()</span>, <span style=\"color: #008000; text-decoration-color: #008000\">0.0122699</span> <a href=\"file:///home/carlo/Desktop/single-projects/manim-demopage/.venv_demo/lib/python3.12/site-packages/manim/scene/scene.py\" target=\"_blank\"><span style=\"color: #7f7f7f; text-decoration-color: #7f7f7f\">scene.py</span></a><span style=\"color: #7f7f7f; text-decoration-color: #7f7f7f\">:</span><a href=\"file:///home/carlo/Desktop/single-projects/manim-demopage/.venv_demo/lib/python3.12/site-packages/manim/scene/scene.py#1044\" target=\"_blank\"><span style=\"color: #7f7f7f; text-decoration-color: #7f7f7f\">1044</span></a>\n",
       "<span style=\"color: #7fbfbf; text-decoration-color: #7fbfbf\">                    </span>         seconds, is too short for the current frame rate of <span style=\"color: #008000; text-decoration-color: #008000\">60</span> FPS. <span style=\"color: #808000; text-decoration-color: #808000; font-weight: bold\">Rendering</span>    <span style=\"color: #7f7f7f; text-decoration-color: #7f7f7f\">             </span>\n",
       "<span style=\"color: #7fbfbf; text-decoration-color: #7fbfbf\">                    </span>         with the shortest possible total run_time of <span style=\"color: #008000; text-decoration-color: #008000\">0.0166667</span> seconds instead.  <span style=\"color: #7f7f7f; text-decoration-color: #7f7f7f\">             </span>\n",
       "</pre>\n"
      ],
      "text/plain": [
       "\u001b[2;36m                   \u001b[0m\u001b[2;36m \u001b[0m\u001b[31mWARNING \u001b[0m The original total run_time of \u001b[1;35mintegration_index_Scene.play\u001b[0m\u001b[1m(\u001b[0m\u001b[1m)\u001b[0m, \u001b[32m0.0122699\u001b[0m \u001b]8;id=552073;file:///home/carlo/Desktop/single-projects/manim-demopage/.venv_demo/lib/python3.12/site-packages/manim/scene/scene.py\u001b\\\u001b[2mscene.py\u001b[0m\u001b]8;;\u001b\\\u001b[2m:\u001b[0m\u001b]8;id=921021;file:///home/carlo/Desktop/single-projects/manim-demopage/.venv_demo/lib/python3.12/site-packages/manim/scene/scene.py#1044\u001b\\\u001b[2m1044\u001b[0m\u001b]8;;\u001b\\\n",
       "\u001b[2;36m                    \u001b[0m         seconds, is too short for the current frame rate of \u001b[32m60\u001b[0m FPS. \u001b[1;33mRendering\u001b[0m    \u001b[2m             \u001b[0m\n",
       "\u001b[2;36m                    \u001b[0m         with the shortest possible total run_time of \u001b[32m0.0166667\u001b[0m seconds instead.  \u001b[2m             \u001b[0m\n"
      ]
     },
     "metadata": {},
     "output_type": "display_data"
    },
    {
     "data": {
      "text/html": [
       "<pre style=\"white-space:pre;overflow-x:auto;line-height:normal;font-family:Menlo,'DejaVu Sans Mono',consolas,'Courier New',monospace\"><span style=\"color: #7fbfbf; text-decoration-color: #7fbfbf\">                    </span><span style=\"color: #800000; text-decoration-color: #800000\">WARNING </span> The original total run_time of <span style=\"color: #800080; text-decoration-color: #800080; font-weight: bold\">integration_index_Scene.play</span><span style=\"font-weight: bold\">()</span>, <span style=\"color: #008000; text-decoration-color: #008000\">0.0122699</span> <a href=\"file:///home/carlo/Desktop/single-projects/manim-demopage/.venv_demo/lib/python3.12/site-packages/manim/scene/scene.py\" target=\"_blank\"><span style=\"color: #7f7f7f; text-decoration-color: #7f7f7f\">scene.py</span></a><span style=\"color: #7f7f7f; text-decoration-color: #7f7f7f\">:</span><a href=\"file:///home/carlo/Desktop/single-projects/manim-demopage/.venv_demo/lib/python3.12/site-packages/manim/scene/scene.py#1044\" target=\"_blank\"><span style=\"color: #7f7f7f; text-decoration-color: #7f7f7f\">1044</span></a>\n",
       "<span style=\"color: #7fbfbf; text-decoration-color: #7fbfbf\">                    </span>         seconds, is too short for the current frame rate of <span style=\"color: #008000; text-decoration-color: #008000\">60</span> FPS. <span style=\"color: #808000; text-decoration-color: #808000; font-weight: bold\">Rendering</span>    <span style=\"color: #7f7f7f; text-decoration-color: #7f7f7f\">             </span>\n",
       "<span style=\"color: #7fbfbf; text-decoration-color: #7fbfbf\">                    </span>         with the shortest possible total run_time of <span style=\"color: #008000; text-decoration-color: #008000\">0.0166667</span> seconds instead.  <span style=\"color: #7f7f7f; text-decoration-color: #7f7f7f\">             </span>\n",
       "</pre>\n"
      ],
      "text/plain": [
       "\u001b[2;36m                   \u001b[0m\u001b[2;36m \u001b[0m\u001b[31mWARNING \u001b[0m The original total run_time of \u001b[1;35mintegration_index_Scene.play\u001b[0m\u001b[1m(\u001b[0m\u001b[1m)\u001b[0m, \u001b[32m0.0122699\u001b[0m \u001b]8;id=477710;file:///home/carlo/Desktop/single-projects/manim-demopage/.venv_demo/lib/python3.12/site-packages/manim/scene/scene.py\u001b\\\u001b[2mscene.py\u001b[0m\u001b]8;;\u001b\\\u001b[2m:\u001b[0m\u001b]8;id=759968;file:///home/carlo/Desktop/single-projects/manim-demopage/.venv_demo/lib/python3.12/site-packages/manim/scene/scene.py#1044\u001b\\\u001b[2m1044\u001b[0m\u001b]8;;\u001b\\\n",
       "\u001b[2;36m                    \u001b[0m         seconds, is too short for the current frame rate of \u001b[32m60\u001b[0m FPS. \u001b[1;33mRendering\u001b[0m    \u001b[2m             \u001b[0m\n",
       "\u001b[2;36m                    \u001b[0m         with the shortest possible total run_time of \u001b[32m0.0166667\u001b[0m seconds instead.  \u001b[2m             \u001b[0m\n"
      ]
     },
     "metadata": {},
     "output_type": "display_data"
    },
    {
     "data": {
      "text/html": [
       "<pre style=\"white-space:pre;overflow-x:auto;line-height:normal;font-family:Menlo,'DejaVu Sans Mono',consolas,'Courier New',monospace\"><span style=\"color: #7fbfbf; text-decoration-color: #7fbfbf\">                    </span><span style=\"color: #800000; text-decoration-color: #800000\">WARNING </span> The original total run_time of <span style=\"color: #800080; text-decoration-color: #800080; font-weight: bold\">integration_index_Scene.play</span><span style=\"font-weight: bold\">()</span>, <span style=\"color: #008000; text-decoration-color: #008000\">0.0121951</span> <a href=\"file:///home/carlo/Desktop/single-projects/manim-demopage/.venv_demo/lib/python3.12/site-packages/manim/scene/scene.py\" target=\"_blank\"><span style=\"color: #7f7f7f; text-decoration-color: #7f7f7f\">scene.py</span></a><span style=\"color: #7f7f7f; text-decoration-color: #7f7f7f\">:</span><a href=\"file:///home/carlo/Desktop/single-projects/manim-demopage/.venv_demo/lib/python3.12/site-packages/manim/scene/scene.py#1044\" target=\"_blank\"><span style=\"color: #7f7f7f; text-decoration-color: #7f7f7f\">1044</span></a>\n",
       "<span style=\"color: #7fbfbf; text-decoration-color: #7fbfbf\">                    </span>         seconds, is too short for the current frame rate of <span style=\"color: #008000; text-decoration-color: #008000\">60</span> FPS. <span style=\"color: #808000; text-decoration-color: #808000; font-weight: bold\">Rendering</span>    <span style=\"color: #7f7f7f; text-decoration-color: #7f7f7f\">             </span>\n",
       "<span style=\"color: #7fbfbf; text-decoration-color: #7fbfbf\">                    </span>         with the shortest possible total run_time of <span style=\"color: #008000; text-decoration-color: #008000\">0.0166667</span> seconds instead.  <span style=\"color: #7f7f7f; text-decoration-color: #7f7f7f\">             </span>\n",
       "</pre>\n"
      ],
      "text/plain": [
       "\u001b[2;36m                   \u001b[0m\u001b[2;36m \u001b[0m\u001b[31mWARNING \u001b[0m The original total run_time of \u001b[1;35mintegration_index_Scene.play\u001b[0m\u001b[1m(\u001b[0m\u001b[1m)\u001b[0m, \u001b[32m0.0121951\u001b[0m \u001b]8;id=580417;file:///home/carlo/Desktop/single-projects/manim-demopage/.venv_demo/lib/python3.12/site-packages/manim/scene/scene.py\u001b\\\u001b[2mscene.py\u001b[0m\u001b]8;;\u001b\\\u001b[2m:\u001b[0m\u001b]8;id=315123;file:///home/carlo/Desktop/single-projects/manim-demopage/.venv_demo/lib/python3.12/site-packages/manim/scene/scene.py#1044\u001b\\\u001b[2m1044\u001b[0m\u001b]8;;\u001b\\\n",
       "\u001b[2;36m                    \u001b[0m         seconds, is too short for the current frame rate of \u001b[32m60\u001b[0m FPS. \u001b[1;33mRendering\u001b[0m    \u001b[2m             \u001b[0m\n",
       "\u001b[2;36m                    \u001b[0m         with the shortest possible total run_time of \u001b[32m0.0166667\u001b[0m seconds instead.  \u001b[2m             \u001b[0m\n"
      ]
     },
     "metadata": {},
     "output_type": "display_data"
    },
    {
     "data": {
      "text/html": [
       "<pre style=\"white-space:pre;overflow-x:auto;line-height:normal;font-family:Menlo,'DejaVu Sans Mono',consolas,'Courier New',monospace\"><span style=\"color: #7fbfbf; text-decoration-color: #7fbfbf\">                    </span><span style=\"color: #800000; text-decoration-color: #800000\">WARNING </span> The original total run_time of <span style=\"color: #800080; text-decoration-color: #800080; font-weight: bold\">integration_index_Scene.play</span><span style=\"font-weight: bold\">()</span>, <span style=\"color: #008000; text-decoration-color: #008000\">0.0121951</span> <a href=\"file:///home/carlo/Desktop/single-projects/manim-demopage/.venv_demo/lib/python3.12/site-packages/manim/scene/scene.py\" target=\"_blank\"><span style=\"color: #7f7f7f; text-decoration-color: #7f7f7f\">scene.py</span></a><span style=\"color: #7f7f7f; text-decoration-color: #7f7f7f\">:</span><a href=\"file:///home/carlo/Desktop/single-projects/manim-demopage/.venv_demo/lib/python3.12/site-packages/manim/scene/scene.py#1044\" target=\"_blank\"><span style=\"color: #7f7f7f; text-decoration-color: #7f7f7f\">1044</span></a>\n",
       "<span style=\"color: #7fbfbf; text-decoration-color: #7fbfbf\">                    </span>         seconds, is too short for the current frame rate of <span style=\"color: #008000; text-decoration-color: #008000\">60</span> FPS. <span style=\"color: #808000; text-decoration-color: #808000; font-weight: bold\">Rendering</span>    <span style=\"color: #7f7f7f; text-decoration-color: #7f7f7f\">             </span>\n",
       "<span style=\"color: #7fbfbf; text-decoration-color: #7fbfbf\">                    </span>         with the shortest possible total run_time of <span style=\"color: #008000; text-decoration-color: #008000\">0.0166667</span> seconds instead.  <span style=\"color: #7f7f7f; text-decoration-color: #7f7f7f\">             </span>\n",
       "</pre>\n"
      ],
      "text/plain": [
       "\u001b[2;36m                   \u001b[0m\u001b[2;36m \u001b[0m\u001b[31mWARNING \u001b[0m The original total run_time of \u001b[1;35mintegration_index_Scene.play\u001b[0m\u001b[1m(\u001b[0m\u001b[1m)\u001b[0m, \u001b[32m0.0121951\u001b[0m \u001b]8;id=227981;file:///home/carlo/Desktop/single-projects/manim-demopage/.venv_demo/lib/python3.12/site-packages/manim/scene/scene.py\u001b\\\u001b[2mscene.py\u001b[0m\u001b]8;;\u001b\\\u001b[2m:\u001b[0m\u001b]8;id=834710;file:///home/carlo/Desktop/single-projects/manim-demopage/.venv_demo/lib/python3.12/site-packages/manim/scene/scene.py#1044\u001b\\\u001b[2m1044\u001b[0m\u001b]8;;\u001b\\\n",
       "\u001b[2;36m                    \u001b[0m         seconds, is too short for the current frame rate of \u001b[32m60\u001b[0m FPS. \u001b[1;33mRendering\u001b[0m    \u001b[2m             \u001b[0m\n",
       "\u001b[2;36m                    \u001b[0m         with the shortest possible total run_time of \u001b[32m0.0166667\u001b[0m seconds instead.  \u001b[2m             \u001b[0m\n"
      ]
     },
     "metadata": {},
     "output_type": "display_data"
    },
    {
     "data": {
      "text/html": [
       "<pre style=\"white-space:pre;overflow-x:auto;line-height:normal;font-family:Menlo,'DejaVu Sans Mono',consolas,'Courier New',monospace\"><span style=\"color: #7fbfbf; text-decoration-color: #7fbfbf\">                    </span><span style=\"color: #800000; text-decoration-color: #800000\">WARNING </span> The original total run_time of <span style=\"color: #800080; text-decoration-color: #800080; font-weight: bold\">integration_index_Scene.play</span><span style=\"font-weight: bold\">()</span>, <span style=\"color: #008000; text-decoration-color: #008000\">0.0121212</span> <a href=\"file:///home/carlo/Desktop/single-projects/manim-demopage/.venv_demo/lib/python3.12/site-packages/manim/scene/scene.py\" target=\"_blank\"><span style=\"color: #7f7f7f; text-decoration-color: #7f7f7f\">scene.py</span></a><span style=\"color: #7f7f7f; text-decoration-color: #7f7f7f\">:</span><a href=\"file:///home/carlo/Desktop/single-projects/manim-demopage/.venv_demo/lib/python3.12/site-packages/manim/scene/scene.py#1044\" target=\"_blank\"><span style=\"color: #7f7f7f; text-decoration-color: #7f7f7f\">1044</span></a>\n",
       "<span style=\"color: #7fbfbf; text-decoration-color: #7fbfbf\">                    </span>         seconds, is too short for the current frame rate of <span style=\"color: #008000; text-decoration-color: #008000\">60</span> FPS. <span style=\"color: #808000; text-decoration-color: #808000; font-weight: bold\">Rendering</span>    <span style=\"color: #7f7f7f; text-decoration-color: #7f7f7f\">             </span>\n",
       "<span style=\"color: #7fbfbf; text-decoration-color: #7fbfbf\">                    </span>         with the shortest possible total run_time of <span style=\"color: #008000; text-decoration-color: #008000\">0.0166667</span> seconds instead.  <span style=\"color: #7f7f7f; text-decoration-color: #7f7f7f\">             </span>\n",
       "</pre>\n"
      ],
      "text/plain": [
       "\u001b[2;36m                   \u001b[0m\u001b[2;36m \u001b[0m\u001b[31mWARNING \u001b[0m The original total run_time of \u001b[1;35mintegration_index_Scene.play\u001b[0m\u001b[1m(\u001b[0m\u001b[1m)\u001b[0m, \u001b[32m0.0121212\u001b[0m \u001b]8;id=915278;file:///home/carlo/Desktop/single-projects/manim-demopage/.venv_demo/lib/python3.12/site-packages/manim/scene/scene.py\u001b\\\u001b[2mscene.py\u001b[0m\u001b]8;;\u001b\\\u001b[2m:\u001b[0m\u001b]8;id=805612;file:///home/carlo/Desktop/single-projects/manim-demopage/.venv_demo/lib/python3.12/site-packages/manim/scene/scene.py#1044\u001b\\\u001b[2m1044\u001b[0m\u001b]8;;\u001b\\\n",
       "\u001b[2;36m                    \u001b[0m         seconds, is too short for the current frame rate of \u001b[32m60\u001b[0m FPS. \u001b[1;33mRendering\u001b[0m    \u001b[2m             \u001b[0m\n",
       "\u001b[2;36m                    \u001b[0m         with the shortest possible total run_time of \u001b[32m0.0166667\u001b[0m seconds instead.  \u001b[2m             \u001b[0m\n"
      ]
     },
     "metadata": {},
     "output_type": "display_data"
    },
    {
     "data": {
      "text/html": [
       "<pre style=\"white-space:pre;overflow-x:auto;line-height:normal;font-family:Menlo,'DejaVu Sans Mono',consolas,'Courier New',monospace\"><span style=\"color: #7fbfbf; text-decoration-color: #7fbfbf\">                    </span><span style=\"color: #800000; text-decoration-color: #800000\">WARNING </span> The original total run_time of <span style=\"color: #800080; text-decoration-color: #800080; font-weight: bold\">integration_index_Scene.play</span><span style=\"font-weight: bold\">()</span>, <span style=\"color: #008000; text-decoration-color: #008000\">0.0121212</span> <a href=\"file:///home/carlo/Desktop/single-projects/manim-demopage/.venv_demo/lib/python3.12/site-packages/manim/scene/scene.py\" target=\"_blank\"><span style=\"color: #7f7f7f; text-decoration-color: #7f7f7f\">scene.py</span></a><span style=\"color: #7f7f7f; text-decoration-color: #7f7f7f\">:</span><a href=\"file:///home/carlo/Desktop/single-projects/manim-demopage/.venv_demo/lib/python3.12/site-packages/manim/scene/scene.py#1044\" target=\"_blank\"><span style=\"color: #7f7f7f; text-decoration-color: #7f7f7f\">1044</span></a>\n",
       "<span style=\"color: #7fbfbf; text-decoration-color: #7fbfbf\">                    </span>         seconds, is too short for the current frame rate of <span style=\"color: #008000; text-decoration-color: #008000\">60</span> FPS. <span style=\"color: #808000; text-decoration-color: #808000; font-weight: bold\">Rendering</span>    <span style=\"color: #7f7f7f; text-decoration-color: #7f7f7f\">             </span>\n",
       "<span style=\"color: #7fbfbf; text-decoration-color: #7fbfbf\">                    </span>         with the shortest possible total run_time of <span style=\"color: #008000; text-decoration-color: #008000\">0.0166667</span> seconds instead.  <span style=\"color: #7f7f7f; text-decoration-color: #7f7f7f\">             </span>\n",
       "</pre>\n"
      ],
      "text/plain": [
       "\u001b[2;36m                   \u001b[0m\u001b[2;36m \u001b[0m\u001b[31mWARNING \u001b[0m The original total run_time of \u001b[1;35mintegration_index_Scene.play\u001b[0m\u001b[1m(\u001b[0m\u001b[1m)\u001b[0m, \u001b[32m0.0121212\u001b[0m \u001b]8;id=86037;file:///home/carlo/Desktop/single-projects/manim-demopage/.venv_demo/lib/python3.12/site-packages/manim/scene/scene.py\u001b\\\u001b[2mscene.py\u001b[0m\u001b]8;;\u001b\\\u001b[2m:\u001b[0m\u001b]8;id=618882;file:///home/carlo/Desktop/single-projects/manim-demopage/.venv_demo/lib/python3.12/site-packages/manim/scene/scene.py#1044\u001b\\\u001b[2m1044\u001b[0m\u001b]8;;\u001b\\\n",
       "\u001b[2;36m                    \u001b[0m         seconds, is too short for the current frame rate of \u001b[32m60\u001b[0m FPS. \u001b[1;33mRendering\u001b[0m    \u001b[2m             \u001b[0m\n",
       "\u001b[2;36m                    \u001b[0m         with the shortest possible total run_time of \u001b[32m0.0166667\u001b[0m seconds instead.  \u001b[2m             \u001b[0m\n"
      ]
     },
     "metadata": {},
     "output_type": "display_data"
    },
    {
     "data": {
      "text/html": [
       "<pre style=\"white-space:pre;overflow-x:auto;line-height:normal;font-family:Menlo,'DejaVu Sans Mono',consolas,'Courier New',monospace\"><span style=\"color: #7fbfbf; text-decoration-color: #7fbfbf\">                    </span><span style=\"color: #800000; text-decoration-color: #800000\">WARNING </span> The original total run_time of <span style=\"color: #800080; text-decoration-color: #800080; font-weight: bold\">integration_index_Scene.play</span><span style=\"font-weight: bold\">()</span>, <span style=\"color: #008000; text-decoration-color: #008000\">0.0120482</span> <a href=\"file:///home/carlo/Desktop/single-projects/manim-demopage/.venv_demo/lib/python3.12/site-packages/manim/scene/scene.py\" target=\"_blank\"><span style=\"color: #7f7f7f; text-decoration-color: #7f7f7f\">scene.py</span></a><span style=\"color: #7f7f7f; text-decoration-color: #7f7f7f\">:</span><a href=\"file:///home/carlo/Desktop/single-projects/manim-demopage/.venv_demo/lib/python3.12/site-packages/manim/scene/scene.py#1044\" target=\"_blank\"><span style=\"color: #7f7f7f; text-decoration-color: #7f7f7f\">1044</span></a>\n",
       "<span style=\"color: #7fbfbf; text-decoration-color: #7fbfbf\">                    </span>         seconds, is too short for the current frame rate of <span style=\"color: #008000; text-decoration-color: #008000\">60</span> FPS. <span style=\"color: #808000; text-decoration-color: #808000; font-weight: bold\">Rendering</span>    <span style=\"color: #7f7f7f; text-decoration-color: #7f7f7f\">             </span>\n",
       "<span style=\"color: #7fbfbf; text-decoration-color: #7fbfbf\">                    </span>         with the shortest possible total run_time of <span style=\"color: #008000; text-decoration-color: #008000\">0.0166667</span> seconds instead.  <span style=\"color: #7f7f7f; text-decoration-color: #7f7f7f\">             </span>\n",
       "</pre>\n"
      ],
      "text/plain": [
       "\u001b[2;36m                   \u001b[0m\u001b[2;36m \u001b[0m\u001b[31mWARNING \u001b[0m The original total run_time of \u001b[1;35mintegration_index_Scene.play\u001b[0m\u001b[1m(\u001b[0m\u001b[1m)\u001b[0m, \u001b[32m0.0120482\u001b[0m \u001b]8;id=825479;file:///home/carlo/Desktop/single-projects/manim-demopage/.venv_demo/lib/python3.12/site-packages/manim/scene/scene.py\u001b\\\u001b[2mscene.py\u001b[0m\u001b]8;;\u001b\\\u001b[2m:\u001b[0m\u001b]8;id=301162;file:///home/carlo/Desktop/single-projects/manim-demopage/.venv_demo/lib/python3.12/site-packages/manim/scene/scene.py#1044\u001b\\\u001b[2m1044\u001b[0m\u001b]8;;\u001b\\\n",
       "\u001b[2;36m                    \u001b[0m         seconds, is too short for the current frame rate of \u001b[32m60\u001b[0m FPS. \u001b[1;33mRendering\u001b[0m    \u001b[2m             \u001b[0m\n",
       "\u001b[2;36m                    \u001b[0m         with the shortest possible total run_time of \u001b[32m0.0166667\u001b[0m seconds instead.  \u001b[2m             \u001b[0m\n"
      ]
     },
     "metadata": {},
     "output_type": "display_data"
    },
    {
     "data": {
      "text/html": [
       "<pre style=\"white-space:pre;overflow-x:auto;line-height:normal;font-family:Menlo,'DejaVu Sans Mono',consolas,'Courier New',monospace\"><span style=\"color: #7fbfbf; text-decoration-color: #7fbfbf\">                    </span><span style=\"color: #800000; text-decoration-color: #800000\">WARNING </span> The original total run_time of <span style=\"color: #800080; text-decoration-color: #800080; font-weight: bold\">integration_index_Scene.play</span><span style=\"font-weight: bold\">()</span>, <span style=\"color: #008000; text-decoration-color: #008000\">0.0120482</span> <a href=\"file:///home/carlo/Desktop/single-projects/manim-demopage/.venv_demo/lib/python3.12/site-packages/manim/scene/scene.py\" target=\"_blank\"><span style=\"color: #7f7f7f; text-decoration-color: #7f7f7f\">scene.py</span></a><span style=\"color: #7f7f7f; text-decoration-color: #7f7f7f\">:</span><a href=\"file:///home/carlo/Desktop/single-projects/manim-demopage/.venv_demo/lib/python3.12/site-packages/manim/scene/scene.py#1044\" target=\"_blank\"><span style=\"color: #7f7f7f; text-decoration-color: #7f7f7f\">1044</span></a>\n",
       "<span style=\"color: #7fbfbf; text-decoration-color: #7fbfbf\">                    </span>         seconds, is too short for the current frame rate of <span style=\"color: #008000; text-decoration-color: #008000\">60</span> FPS. <span style=\"color: #808000; text-decoration-color: #808000; font-weight: bold\">Rendering</span>    <span style=\"color: #7f7f7f; text-decoration-color: #7f7f7f\">             </span>\n",
       "<span style=\"color: #7fbfbf; text-decoration-color: #7fbfbf\">                    </span>         with the shortest possible total run_time of <span style=\"color: #008000; text-decoration-color: #008000\">0.0166667</span> seconds instead.  <span style=\"color: #7f7f7f; text-decoration-color: #7f7f7f\">             </span>\n",
       "</pre>\n"
      ],
      "text/plain": [
       "\u001b[2;36m                   \u001b[0m\u001b[2;36m \u001b[0m\u001b[31mWARNING \u001b[0m The original total run_time of \u001b[1;35mintegration_index_Scene.play\u001b[0m\u001b[1m(\u001b[0m\u001b[1m)\u001b[0m, \u001b[32m0.0120482\u001b[0m \u001b]8;id=66625;file:///home/carlo/Desktop/single-projects/manim-demopage/.venv_demo/lib/python3.12/site-packages/manim/scene/scene.py\u001b\\\u001b[2mscene.py\u001b[0m\u001b]8;;\u001b\\\u001b[2m:\u001b[0m\u001b]8;id=509365;file:///home/carlo/Desktop/single-projects/manim-demopage/.venv_demo/lib/python3.12/site-packages/manim/scene/scene.py#1044\u001b\\\u001b[2m1044\u001b[0m\u001b]8;;\u001b\\\n",
       "\u001b[2;36m                    \u001b[0m         seconds, is too short for the current frame rate of \u001b[32m60\u001b[0m FPS. \u001b[1;33mRendering\u001b[0m    \u001b[2m             \u001b[0m\n",
       "\u001b[2;36m                    \u001b[0m         with the shortest possible total run_time of \u001b[32m0.0166667\u001b[0m seconds instead.  \u001b[2m             \u001b[0m\n"
      ]
     },
     "metadata": {},
     "output_type": "display_data"
    },
    {
     "data": {
      "text/html": [
       "<pre style=\"white-space:pre;overflow-x:auto;line-height:normal;font-family:Menlo,'DejaVu Sans Mono',consolas,'Courier New',monospace\"><span style=\"color: #7fbfbf; text-decoration-color: #7fbfbf\">                    </span><span style=\"color: #800000; text-decoration-color: #800000\">WARNING </span> The original total run_time of <span style=\"color: #800080; text-decoration-color: #800080; font-weight: bold\">integration_index_Scene.play</span><span style=\"font-weight: bold\">()</span>, <span style=\"color: #008000; text-decoration-color: #008000\">0.011976</span>  <a href=\"file:///home/carlo/Desktop/single-projects/manim-demopage/.venv_demo/lib/python3.12/site-packages/manim/scene/scene.py\" target=\"_blank\"><span style=\"color: #7f7f7f; text-decoration-color: #7f7f7f\">scene.py</span></a><span style=\"color: #7f7f7f; text-decoration-color: #7f7f7f\">:</span><a href=\"file:///home/carlo/Desktop/single-projects/manim-demopage/.venv_demo/lib/python3.12/site-packages/manim/scene/scene.py#1044\" target=\"_blank\"><span style=\"color: #7f7f7f; text-decoration-color: #7f7f7f\">1044</span></a>\n",
       "<span style=\"color: #7fbfbf; text-decoration-color: #7fbfbf\">                    </span>         seconds, is too short for the current frame rate of <span style=\"color: #008000; text-decoration-color: #008000\">60</span> FPS. <span style=\"color: #808000; text-decoration-color: #808000; font-weight: bold\">Rendering</span>    <span style=\"color: #7f7f7f; text-decoration-color: #7f7f7f\">             </span>\n",
       "<span style=\"color: #7fbfbf; text-decoration-color: #7fbfbf\">                    </span>         with the shortest possible total run_time of <span style=\"color: #008000; text-decoration-color: #008000\">0.0166667</span> seconds instead.  <span style=\"color: #7f7f7f; text-decoration-color: #7f7f7f\">             </span>\n",
       "</pre>\n"
      ],
      "text/plain": [
       "\u001b[2;36m                   \u001b[0m\u001b[2;36m \u001b[0m\u001b[31mWARNING \u001b[0m The original total run_time of \u001b[1;35mintegration_index_Scene.play\u001b[0m\u001b[1m(\u001b[0m\u001b[1m)\u001b[0m, \u001b[32m0.011976\u001b[0m  \u001b]8;id=48653;file:///home/carlo/Desktop/single-projects/manim-demopage/.venv_demo/lib/python3.12/site-packages/manim/scene/scene.py\u001b\\\u001b[2mscene.py\u001b[0m\u001b]8;;\u001b\\\u001b[2m:\u001b[0m\u001b]8;id=509498;file:///home/carlo/Desktop/single-projects/manim-demopage/.venv_demo/lib/python3.12/site-packages/manim/scene/scene.py#1044\u001b\\\u001b[2m1044\u001b[0m\u001b]8;;\u001b\\\n",
       "\u001b[2;36m                    \u001b[0m         seconds, is too short for the current frame rate of \u001b[32m60\u001b[0m FPS. \u001b[1;33mRendering\u001b[0m    \u001b[2m             \u001b[0m\n",
       "\u001b[2;36m                    \u001b[0m         with the shortest possible total run_time of \u001b[32m0.0166667\u001b[0m seconds instead.  \u001b[2m             \u001b[0m\n"
      ]
     },
     "metadata": {},
     "output_type": "display_data"
    },
    {
     "data": {
      "text/html": [
       "<pre style=\"white-space:pre;overflow-x:auto;line-height:normal;font-family:Menlo,'DejaVu Sans Mono',consolas,'Courier New',monospace\"><span style=\"color: #7fbfbf; text-decoration-color: #7fbfbf\">[01/23/25 11:27:11] </span><span style=\"color: #800000; text-decoration-color: #800000\">WARNING </span> The original total run_time of <span style=\"color: #800080; text-decoration-color: #800080; font-weight: bold\">integration_index_Scene.play</span><span style=\"font-weight: bold\">()</span>, <span style=\"color: #008000; text-decoration-color: #008000\">0.011976</span>  <a href=\"file:///home/carlo/Desktop/single-projects/manim-demopage/.venv_demo/lib/python3.12/site-packages/manim/scene/scene.py\" target=\"_blank\"><span style=\"color: #7f7f7f; text-decoration-color: #7f7f7f\">scene.py</span></a><span style=\"color: #7f7f7f; text-decoration-color: #7f7f7f\">:</span><a href=\"file:///home/carlo/Desktop/single-projects/manim-demopage/.venv_demo/lib/python3.12/site-packages/manim/scene/scene.py#1044\" target=\"_blank\"><span style=\"color: #7f7f7f; text-decoration-color: #7f7f7f\">1044</span></a>\n",
       "<span style=\"color: #7fbfbf; text-decoration-color: #7fbfbf\">                    </span>         seconds, is too short for the current frame rate of <span style=\"color: #008000; text-decoration-color: #008000\">60</span> FPS. <span style=\"color: #808000; text-decoration-color: #808000; font-weight: bold\">Rendering</span>    <span style=\"color: #7f7f7f; text-decoration-color: #7f7f7f\">             </span>\n",
       "<span style=\"color: #7fbfbf; text-decoration-color: #7fbfbf\">                    </span>         with the shortest possible total run_time of <span style=\"color: #008000; text-decoration-color: #008000\">0.0166667</span> seconds instead.  <span style=\"color: #7f7f7f; text-decoration-color: #7f7f7f\">             </span>\n",
       "</pre>\n"
      ],
      "text/plain": [
       "\u001b[2;36m[01/23/25 11:27:11]\u001b[0m\u001b[2;36m \u001b[0m\u001b[31mWARNING \u001b[0m The original total run_time of \u001b[1;35mintegration_index_Scene.play\u001b[0m\u001b[1m(\u001b[0m\u001b[1m)\u001b[0m, \u001b[32m0.011976\u001b[0m  \u001b]8;id=394589;file:///home/carlo/Desktop/single-projects/manim-demopage/.venv_demo/lib/python3.12/site-packages/manim/scene/scene.py\u001b\\\u001b[2mscene.py\u001b[0m\u001b]8;;\u001b\\\u001b[2m:\u001b[0m\u001b]8;id=292482;file:///home/carlo/Desktop/single-projects/manim-demopage/.venv_demo/lib/python3.12/site-packages/manim/scene/scene.py#1044\u001b\\\u001b[2m1044\u001b[0m\u001b]8;;\u001b\\\n",
       "\u001b[2;36m                    \u001b[0m         seconds, is too short for the current frame rate of \u001b[32m60\u001b[0m FPS. \u001b[1;33mRendering\u001b[0m    \u001b[2m             \u001b[0m\n",
       "\u001b[2;36m                    \u001b[0m         with the shortest possible total run_time of \u001b[32m0.0166667\u001b[0m seconds instead.  \u001b[2m             \u001b[0m\n"
      ]
     },
     "metadata": {},
     "output_type": "display_data"
    },
    {
     "data": {
      "text/html": [
       "<pre style=\"white-space:pre;overflow-x:auto;line-height:normal;font-family:Menlo,'DejaVu Sans Mono',consolas,'Courier New',monospace\"><span style=\"color: #7fbfbf; text-decoration-color: #7fbfbf\">                    </span><span style=\"color: #800000; text-decoration-color: #800000\">WARNING </span> The original total run_time of <span style=\"color: #800080; text-decoration-color: #800080; font-weight: bold\">integration_index_Scene.play</span><span style=\"font-weight: bold\">()</span>, <span style=\"color: #008000; text-decoration-color: #008000\">0.0119048</span> <a href=\"file:///home/carlo/Desktop/single-projects/manim-demopage/.venv_demo/lib/python3.12/site-packages/manim/scene/scene.py\" target=\"_blank\"><span style=\"color: #7f7f7f; text-decoration-color: #7f7f7f\">scene.py</span></a><span style=\"color: #7f7f7f; text-decoration-color: #7f7f7f\">:</span><a href=\"file:///home/carlo/Desktop/single-projects/manim-demopage/.venv_demo/lib/python3.12/site-packages/manim/scene/scene.py#1044\" target=\"_blank\"><span style=\"color: #7f7f7f; text-decoration-color: #7f7f7f\">1044</span></a>\n",
       "<span style=\"color: #7fbfbf; text-decoration-color: #7fbfbf\">                    </span>         seconds, is too short for the current frame rate of <span style=\"color: #008000; text-decoration-color: #008000\">60</span> FPS. <span style=\"color: #808000; text-decoration-color: #808000; font-weight: bold\">Rendering</span>    <span style=\"color: #7f7f7f; text-decoration-color: #7f7f7f\">             </span>\n",
       "<span style=\"color: #7fbfbf; text-decoration-color: #7fbfbf\">                    </span>         with the shortest possible total run_time of <span style=\"color: #008000; text-decoration-color: #008000\">0.0166667</span> seconds instead.  <span style=\"color: #7f7f7f; text-decoration-color: #7f7f7f\">             </span>\n",
       "</pre>\n"
      ],
      "text/plain": [
       "\u001b[2;36m                   \u001b[0m\u001b[2;36m \u001b[0m\u001b[31mWARNING \u001b[0m The original total run_time of \u001b[1;35mintegration_index_Scene.play\u001b[0m\u001b[1m(\u001b[0m\u001b[1m)\u001b[0m, \u001b[32m0.0119048\u001b[0m \u001b]8;id=498035;file:///home/carlo/Desktop/single-projects/manim-demopage/.venv_demo/lib/python3.12/site-packages/manim/scene/scene.py\u001b\\\u001b[2mscene.py\u001b[0m\u001b]8;;\u001b\\\u001b[2m:\u001b[0m\u001b]8;id=366267;file:///home/carlo/Desktop/single-projects/manim-demopage/.venv_demo/lib/python3.12/site-packages/manim/scene/scene.py#1044\u001b\\\u001b[2m1044\u001b[0m\u001b]8;;\u001b\\\n",
       "\u001b[2;36m                    \u001b[0m         seconds, is too short for the current frame rate of \u001b[32m60\u001b[0m FPS. \u001b[1;33mRendering\u001b[0m    \u001b[2m             \u001b[0m\n",
       "\u001b[2;36m                    \u001b[0m         with the shortest possible total run_time of \u001b[32m0.0166667\u001b[0m seconds instead.  \u001b[2m             \u001b[0m\n"
      ]
     },
     "metadata": {},
     "output_type": "display_data"
    },
    {
     "data": {
      "text/html": [
       "<pre style=\"white-space:pre;overflow-x:auto;line-height:normal;font-family:Menlo,'DejaVu Sans Mono',consolas,'Courier New',monospace\"><span style=\"color: #7fbfbf; text-decoration-color: #7fbfbf\">                    </span><span style=\"color: #800000; text-decoration-color: #800000\">WARNING </span> The original total run_time of <span style=\"color: #800080; text-decoration-color: #800080; font-weight: bold\">integration_index_Scene.play</span><span style=\"font-weight: bold\">()</span>, <span style=\"color: #008000; text-decoration-color: #008000\">0.0119048</span> <a href=\"file:///home/carlo/Desktop/single-projects/manim-demopage/.venv_demo/lib/python3.12/site-packages/manim/scene/scene.py\" target=\"_blank\"><span style=\"color: #7f7f7f; text-decoration-color: #7f7f7f\">scene.py</span></a><span style=\"color: #7f7f7f; text-decoration-color: #7f7f7f\">:</span><a href=\"file:///home/carlo/Desktop/single-projects/manim-demopage/.venv_demo/lib/python3.12/site-packages/manim/scene/scene.py#1044\" target=\"_blank\"><span style=\"color: #7f7f7f; text-decoration-color: #7f7f7f\">1044</span></a>\n",
       "<span style=\"color: #7fbfbf; text-decoration-color: #7fbfbf\">                    </span>         seconds, is too short for the current frame rate of <span style=\"color: #008000; text-decoration-color: #008000\">60</span> FPS. <span style=\"color: #808000; text-decoration-color: #808000; font-weight: bold\">Rendering</span>    <span style=\"color: #7f7f7f; text-decoration-color: #7f7f7f\">             </span>\n",
       "<span style=\"color: #7fbfbf; text-decoration-color: #7fbfbf\">                    </span>         with the shortest possible total run_time of <span style=\"color: #008000; text-decoration-color: #008000\">0.0166667</span> seconds instead.  <span style=\"color: #7f7f7f; text-decoration-color: #7f7f7f\">             </span>\n",
       "</pre>\n"
      ],
      "text/plain": [
       "\u001b[2;36m                   \u001b[0m\u001b[2;36m \u001b[0m\u001b[31mWARNING \u001b[0m The original total run_time of \u001b[1;35mintegration_index_Scene.play\u001b[0m\u001b[1m(\u001b[0m\u001b[1m)\u001b[0m, \u001b[32m0.0119048\u001b[0m \u001b]8;id=766728;file:///home/carlo/Desktop/single-projects/manim-demopage/.venv_demo/lib/python3.12/site-packages/manim/scene/scene.py\u001b\\\u001b[2mscene.py\u001b[0m\u001b]8;;\u001b\\\u001b[2m:\u001b[0m\u001b]8;id=645796;file:///home/carlo/Desktop/single-projects/manim-demopage/.venv_demo/lib/python3.12/site-packages/manim/scene/scene.py#1044\u001b\\\u001b[2m1044\u001b[0m\u001b]8;;\u001b\\\n",
       "\u001b[2;36m                    \u001b[0m         seconds, is too short for the current frame rate of \u001b[32m60\u001b[0m FPS. \u001b[1;33mRendering\u001b[0m    \u001b[2m             \u001b[0m\n",
       "\u001b[2;36m                    \u001b[0m         with the shortest possible total run_time of \u001b[32m0.0166667\u001b[0m seconds instead.  \u001b[2m             \u001b[0m\n"
      ]
     },
     "metadata": {},
     "output_type": "display_data"
    },
    {
     "data": {
      "text/html": [
       "<pre style=\"white-space:pre;overflow-x:auto;line-height:normal;font-family:Menlo,'DejaVu Sans Mono',consolas,'Courier New',monospace\"><span style=\"color: #7fbfbf; text-decoration-color: #7fbfbf\">                    </span><span style=\"color: #800000; text-decoration-color: #800000\">WARNING </span> The original total run_time of <span style=\"color: #800080; text-decoration-color: #800080; font-weight: bold\">integration_index_Scene.play</span><span style=\"font-weight: bold\">()</span>, <span style=\"color: #008000; text-decoration-color: #008000\">0.0118343</span> <a href=\"file:///home/carlo/Desktop/single-projects/manim-demopage/.venv_demo/lib/python3.12/site-packages/manim/scene/scene.py\" target=\"_blank\"><span style=\"color: #7f7f7f; text-decoration-color: #7f7f7f\">scene.py</span></a><span style=\"color: #7f7f7f; text-decoration-color: #7f7f7f\">:</span><a href=\"file:///home/carlo/Desktop/single-projects/manim-demopage/.venv_demo/lib/python3.12/site-packages/manim/scene/scene.py#1044\" target=\"_blank\"><span style=\"color: #7f7f7f; text-decoration-color: #7f7f7f\">1044</span></a>\n",
       "<span style=\"color: #7fbfbf; text-decoration-color: #7fbfbf\">                    </span>         seconds, is too short for the current frame rate of <span style=\"color: #008000; text-decoration-color: #008000\">60</span> FPS. <span style=\"color: #808000; text-decoration-color: #808000; font-weight: bold\">Rendering</span>    <span style=\"color: #7f7f7f; text-decoration-color: #7f7f7f\">             </span>\n",
       "<span style=\"color: #7fbfbf; text-decoration-color: #7fbfbf\">                    </span>         with the shortest possible total run_time of <span style=\"color: #008000; text-decoration-color: #008000\">0.0166667</span> seconds instead.  <span style=\"color: #7f7f7f; text-decoration-color: #7f7f7f\">             </span>\n",
       "</pre>\n"
      ],
      "text/plain": [
       "\u001b[2;36m                   \u001b[0m\u001b[2;36m \u001b[0m\u001b[31mWARNING \u001b[0m The original total run_time of \u001b[1;35mintegration_index_Scene.play\u001b[0m\u001b[1m(\u001b[0m\u001b[1m)\u001b[0m, \u001b[32m0.0118343\u001b[0m \u001b]8;id=235134;file:///home/carlo/Desktop/single-projects/manim-demopage/.venv_demo/lib/python3.12/site-packages/manim/scene/scene.py\u001b\\\u001b[2mscene.py\u001b[0m\u001b]8;;\u001b\\\u001b[2m:\u001b[0m\u001b]8;id=488418;file:///home/carlo/Desktop/single-projects/manim-demopage/.venv_demo/lib/python3.12/site-packages/manim/scene/scene.py#1044\u001b\\\u001b[2m1044\u001b[0m\u001b]8;;\u001b\\\n",
       "\u001b[2;36m                    \u001b[0m         seconds, is too short for the current frame rate of \u001b[32m60\u001b[0m FPS. \u001b[1;33mRendering\u001b[0m    \u001b[2m             \u001b[0m\n",
       "\u001b[2;36m                    \u001b[0m         with the shortest possible total run_time of \u001b[32m0.0166667\u001b[0m seconds instead.  \u001b[2m             \u001b[0m\n"
      ]
     },
     "metadata": {},
     "output_type": "display_data"
    },
    {
     "data": {
      "text/html": [
       "<pre style=\"white-space:pre;overflow-x:auto;line-height:normal;font-family:Menlo,'DejaVu Sans Mono',consolas,'Courier New',monospace\"><span style=\"color: #7fbfbf; text-decoration-color: #7fbfbf\">                    </span><span style=\"color: #800000; text-decoration-color: #800000\">WARNING </span> The original total run_time of <span style=\"color: #800080; text-decoration-color: #800080; font-weight: bold\">integration_index_Scene.play</span><span style=\"font-weight: bold\">()</span>, <span style=\"color: #008000; text-decoration-color: #008000\">0.0118343</span> <a href=\"file:///home/carlo/Desktop/single-projects/manim-demopage/.venv_demo/lib/python3.12/site-packages/manim/scene/scene.py\" target=\"_blank\"><span style=\"color: #7f7f7f; text-decoration-color: #7f7f7f\">scene.py</span></a><span style=\"color: #7f7f7f; text-decoration-color: #7f7f7f\">:</span><a href=\"file:///home/carlo/Desktop/single-projects/manim-demopage/.venv_demo/lib/python3.12/site-packages/manim/scene/scene.py#1044\" target=\"_blank\"><span style=\"color: #7f7f7f; text-decoration-color: #7f7f7f\">1044</span></a>\n",
       "<span style=\"color: #7fbfbf; text-decoration-color: #7fbfbf\">                    </span>         seconds, is too short for the current frame rate of <span style=\"color: #008000; text-decoration-color: #008000\">60</span> FPS. <span style=\"color: #808000; text-decoration-color: #808000; font-weight: bold\">Rendering</span>    <span style=\"color: #7f7f7f; text-decoration-color: #7f7f7f\">             </span>\n",
       "<span style=\"color: #7fbfbf; text-decoration-color: #7fbfbf\">                    </span>         with the shortest possible total run_time of <span style=\"color: #008000; text-decoration-color: #008000\">0.0166667</span> seconds instead.  <span style=\"color: #7f7f7f; text-decoration-color: #7f7f7f\">             </span>\n",
       "</pre>\n"
      ],
      "text/plain": [
       "\u001b[2;36m                   \u001b[0m\u001b[2;36m \u001b[0m\u001b[31mWARNING \u001b[0m The original total run_time of \u001b[1;35mintegration_index_Scene.play\u001b[0m\u001b[1m(\u001b[0m\u001b[1m)\u001b[0m, \u001b[32m0.0118343\u001b[0m \u001b]8;id=765464;file:///home/carlo/Desktop/single-projects/manim-demopage/.venv_demo/lib/python3.12/site-packages/manim/scene/scene.py\u001b\\\u001b[2mscene.py\u001b[0m\u001b]8;;\u001b\\\u001b[2m:\u001b[0m\u001b]8;id=308460;file:///home/carlo/Desktop/single-projects/manim-demopage/.venv_demo/lib/python3.12/site-packages/manim/scene/scene.py#1044\u001b\\\u001b[2m1044\u001b[0m\u001b]8;;\u001b\\\n",
       "\u001b[2;36m                    \u001b[0m         seconds, is too short for the current frame rate of \u001b[32m60\u001b[0m FPS. \u001b[1;33mRendering\u001b[0m    \u001b[2m             \u001b[0m\n",
       "\u001b[2;36m                    \u001b[0m         with the shortest possible total run_time of \u001b[32m0.0166667\u001b[0m seconds instead.  \u001b[2m             \u001b[0m\n"
      ]
     },
     "metadata": {},
     "output_type": "display_data"
    },
    {
     "data": {
      "text/html": [
       "<pre style=\"white-space:pre;overflow-x:auto;line-height:normal;font-family:Menlo,'DejaVu Sans Mono',consolas,'Courier New',monospace\"><span style=\"color: #7fbfbf; text-decoration-color: #7fbfbf\">                    </span><span style=\"color: #800000; text-decoration-color: #800000\">WARNING </span> The original total run_time of <span style=\"color: #800080; text-decoration-color: #800080; font-weight: bold\">integration_index_Scene.play</span><span style=\"font-weight: bold\">()</span>, <span style=\"color: #008000; text-decoration-color: #008000\">0.0117647</span> <a href=\"file:///home/carlo/Desktop/single-projects/manim-demopage/.venv_demo/lib/python3.12/site-packages/manim/scene/scene.py\" target=\"_blank\"><span style=\"color: #7f7f7f; text-decoration-color: #7f7f7f\">scene.py</span></a><span style=\"color: #7f7f7f; text-decoration-color: #7f7f7f\">:</span><a href=\"file:///home/carlo/Desktop/single-projects/manim-demopage/.venv_demo/lib/python3.12/site-packages/manim/scene/scene.py#1044\" target=\"_blank\"><span style=\"color: #7f7f7f; text-decoration-color: #7f7f7f\">1044</span></a>\n",
       "<span style=\"color: #7fbfbf; text-decoration-color: #7fbfbf\">                    </span>         seconds, is too short for the current frame rate of <span style=\"color: #008000; text-decoration-color: #008000\">60</span> FPS. <span style=\"color: #808000; text-decoration-color: #808000; font-weight: bold\">Rendering</span>    <span style=\"color: #7f7f7f; text-decoration-color: #7f7f7f\">             </span>\n",
       "<span style=\"color: #7fbfbf; text-decoration-color: #7fbfbf\">                    </span>         with the shortest possible total run_time of <span style=\"color: #008000; text-decoration-color: #008000\">0.0166667</span> seconds instead.  <span style=\"color: #7f7f7f; text-decoration-color: #7f7f7f\">             </span>\n",
       "</pre>\n"
      ],
      "text/plain": [
       "\u001b[2;36m                   \u001b[0m\u001b[2;36m \u001b[0m\u001b[31mWARNING \u001b[0m The original total run_time of \u001b[1;35mintegration_index_Scene.play\u001b[0m\u001b[1m(\u001b[0m\u001b[1m)\u001b[0m, \u001b[32m0.0117647\u001b[0m \u001b]8;id=28796;file:///home/carlo/Desktop/single-projects/manim-demopage/.venv_demo/lib/python3.12/site-packages/manim/scene/scene.py\u001b\\\u001b[2mscene.py\u001b[0m\u001b]8;;\u001b\\\u001b[2m:\u001b[0m\u001b]8;id=230755;file:///home/carlo/Desktop/single-projects/manim-demopage/.venv_demo/lib/python3.12/site-packages/manim/scene/scene.py#1044\u001b\\\u001b[2m1044\u001b[0m\u001b]8;;\u001b\\\n",
       "\u001b[2;36m                    \u001b[0m         seconds, is too short for the current frame rate of \u001b[32m60\u001b[0m FPS. \u001b[1;33mRendering\u001b[0m    \u001b[2m             \u001b[0m\n",
       "\u001b[2;36m                    \u001b[0m         with the shortest possible total run_time of \u001b[32m0.0166667\u001b[0m seconds instead.  \u001b[2m             \u001b[0m\n"
      ]
     },
     "metadata": {},
     "output_type": "display_data"
    },
    {
     "data": {
      "text/html": [
       "<pre style=\"white-space:pre;overflow-x:auto;line-height:normal;font-family:Menlo,'DejaVu Sans Mono',consolas,'Courier New',monospace\"><span style=\"color: #7fbfbf; text-decoration-color: #7fbfbf\">                    </span><span style=\"color: #800000; text-decoration-color: #800000\">WARNING </span> The original total run_time of <span style=\"color: #800080; text-decoration-color: #800080; font-weight: bold\">integration_index_Scene.play</span><span style=\"font-weight: bold\">()</span>, <span style=\"color: #008000; text-decoration-color: #008000\">0.0117647</span> <a href=\"file:///home/carlo/Desktop/single-projects/manim-demopage/.venv_demo/lib/python3.12/site-packages/manim/scene/scene.py\" target=\"_blank\"><span style=\"color: #7f7f7f; text-decoration-color: #7f7f7f\">scene.py</span></a><span style=\"color: #7f7f7f; text-decoration-color: #7f7f7f\">:</span><a href=\"file:///home/carlo/Desktop/single-projects/manim-demopage/.venv_demo/lib/python3.12/site-packages/manim/scene/scene.py#1044\" target=\"_blank\"><span style=\"color: #7f7f7f; text-decoration-color: #7f7f7f\">1044</span></a>\n",
       "<span style=\"color: #7fbfbf; text-decoration-color: #7fbfbf\">                    </span>         seconds, is too short for the current frame rate of <span style=\"color: #008000; text-decoration-color: #008000\">60</span> FPS. <span style=\"color: #808000; text-decoration-color: #808000; font-weight: bold\">Rendering</span>    <span style=\"color: #7f7f7f; text-decoration-color: #7f7f7f\">             </span>\n",
       "<span style=\"color: #7fbfbf; text-decoration-color: #7fbfbf\">                    </span>         with the shortest possible total run_time of <span style=\"color: #008000; text-decoration-color: #008000\">0.0166667</span> seconds instead.  <span style=\"color: #7f7f7f; text-decoration-color: #7f7f7f\">             </span>\n",
       "</pre>\n"
      ],
      "text/plain": [
       "\u001b[2;36m                   \u001b[0m\u001b[2;36m \u001b[0m\u001b[31mWARNING \u001b[0m The original total run_time of \u001b[1;35mintegration_index_Scene.play\u001b[0m\u001b[1m(\u001b[0m\u001b[1m)\u001b[0m, \u001b[32m0.0117647\u001b[0m \u001b]8;id=170581;file:///home/carlo/Desktop/single-projects/manim-demopage/.venv_demo/lib/python3.12/site-packages/manim/scene/scene.py\u001b\\\u001b[2mscene.py\u001b[0m\u001b]8;;\u001b\\\u001b[2m:\u001b[0m\u001b]8;id=321253;file:///home/carlo/Desktop/single-projects/manim-demopage/.venv_demo/lib/python3.12/site-packages/manim/scene/scene.py#1044\u001b\\\u001b[2m1044\u001b[0m\u001b]8;;\u001b\\\n",
       "\u001b[2;36m                    \u001b[0m         seconds, is too short for the current frame rate of \u001b[32m60\u001b[0m FPS. \u001b[1;33mRendering\u001b[0m    \u001b[2m             \u001b[0m\n",
       "\u001b[2;36m                    \u001b[0m         with the shortest possible total run_time of \u001b[32m0.0166667\u001b[0m seconds instead.  \u001b[2m             \u001b[0m\n"
      ]
     },
     "metadata": {},
     "output_type": "display_data"
    },
    {
     "data": {
      "text/html": [
       "<pre style=\"white-space:pre;overflow-x:auto;line-height:normal;font-family:Menlo,'DejaVu Sans Mono',consolas,'Courier New',monospace\"><span style=\"color: #7fbfbf; text-decoration-color: #7fbfbf\">                    </span><span style=\"color: #800000; text-decoration-color: #800000\">WARNING </span> The original total run_time of <span style=\"color: #800080; text-decoration-color: #800080; font-weight: bold\">integration_index_Scene.play</span><span style=\"font-weight: bold\">()</span>, <span style=\"color: #008000; text-decoration-color: #008000\">0.0116959</span> <a href=\"file:///home/carlo/Desktop/single-projects/manim-demopage/.venv_demo/lib/python3.12/site-packages/manim/scene/scene.py\" target=\"_blank\"><span style=\"color: #7f7f7f; text-decoration-color: #7f7f7f\">scene.py</span></a><span style=\"color: #7f7f7f; text-decoration-color: #7f7f7f\">:</span><a href=\"file:///home/carlo/Desktop/single-projects/manim-demopage/.venv_demo/lib/python3.12/site-packages/manim/scene/scene.py#1044\" target=\"_blank\"><span style=\"color: #7f7f7f; text-decoration-color: #7f7f7f\">1044</span></a>\n",
       "<span style=\"color: #7fbfbf; text-decoration-color: #7fbfbf\">                    </span>         seconds, is too short for the current frame rate of <span style=\"color: #008000; text-decoration-color: #008000\">60</span> FPS. <span style=\"color: #808000; text-decoration-color: #808000; font-weight: bold\">Rendering</span>    <span style=\"color: #7f7f7f; text-decoration-color: #7f7f7f\">             </span>\n",
       "<span style=\"color: #7fbfbf; text-decoration-color: #7fbfbf\">                    </span>         with the shortest possible total run_time of <span style=\"color: #008000; text-decoration-color: #008000\">0.0166667</span> seconds instead.  <span style=\"color: #7f7f7f; text-decoration-color: #7f7f7f\">             </span>\n",
       "</pre>\n"
      ],
      "text/plain": [
       "\u001b[2;36m                   \u001b[0m\u001b[2;36m \u001b[0m\u001b[31mWARNING \u001b[0m The original total run_time of \u001b[1;35mintegration_index_Scene.play\u001b[0m\u001b[1m(\u001b[0m\u001b[1m)\u001b[0m, \u001b[32m0.0116959\u001b[0m \u001b]8;id=564852;file:///home/carlo/Desktop/single-projects/manim-demopage/.venv_demo/lib/python3.12/site-packages/manim/scene/scene.py\u001b\\\u001b[2mscene.py\u001b[0m\u001b]8;;\u001b\\\u001b[2m:\u001b[0m\u001b]8;id=427532;file:///home/carlo/Desktop/single-projects/manim-demopage/.venv_demo/lib/python3.12/site-packages/manim/scene/scene.py#1044\u001b\\\u001b[2m1044\u001b[0m\u001b]8;;\u001b\\\n",
       "\u001b[2;36m                    \u001b[0m         seconds, is too short for the current frame rate of \u001b[32m60\u001b[0m FPS. \u001b[1;33mRendering\u001b[0m    \u001b[2m             \u001b[0m\n",
       "\u001b[2;36m                    \u001b[0m         with the shortest possible total run_time of \u001b[32m0.0166667\u001b[0m seconds instead.  \u001b[2m             \u001b[0m\n"
      ]
     },
     "metadata": {},
     "output_type": "display_data"
    },
    {
     "data": {
      "text/html": [
       "<pre style=\"white-space:pre;overflow-x:auto;line-height:normal;font-family:Menlo,'DejaVu Sans Mono',consolas,'Courier New',monospace\"><span style=\"color: #7fbfbf; text-decoration-color: #7fbfbf\">                    </span><span style=\"color: #800000; text-decoration-color: #800000\">WARNING </span> The original total run_time of <span style=\"color: #800080; text-decoration-color: #800080; font-weight: bold\">integration_index_Scene.play</span><span style=\"font-weight: bold\">()</span>, <span style=\"color: #008000; text-decoration-color: #008000\">0.0116959</span> <a href=\"file:///home/carlo/Desktop/single-projects/manim-demopage/.venv_demo/lib/python3.12/site-packages/manim/scene/scene.py\" target=\"_blank\"><span style=\"color: #7f7f7f; text-decoration-color: #7f7f7f\">scene.py</span></a><span style=\"color: #7f7f7f; text-decoration-color: #7f7f7f\">:</span><a href=\"file:///home/carlo/Desktop/single-projects/manim-demopage/.venv_demo/lib/python3.12/site-packages/manim/scene/scene.py#1044\" target=\"_blank\"><span style=\"color: #7f7f7f; text-decoration-color: #7f7f7f\">1044</span></a>\n",
       "<span style=\"color: #7fbfbf; text-decoration-color: #7fbfbf\">                    </span>         seconds, is too short for the current frame rate of <span style=\"color: #008000; text-decoration-color: #008000\">60</span> FPS. <span style=\"color: #808000; text-decoration-color: #808000; font-weight: bold\">Rendering</span>    <span style=\"color: #7f7f7f; text-decoration-color: #7f7f7f\">             </span>\n",
       "<span style=\"color: #7fbfbf; text-decoration-color: #7fbfbf\">                    </span>         with the shortest possible total run_time of <span style=\"color: #008000; text-decoration-color: #008000\">0.0166667</span> seconds instead.  <span style=\"color: #7f7f7f; text-decoration-color: #7f7f7f\">             </span>\n",
       "</pre>\n"
      ],
      "text/plain": [
       "\u001b[2;36m                   \u001b[0m\u001b[2;36m \u001b[0m\u001b[31mWARNING \u001b[0m The original total run_time of \u001b[1;35mintegration_index_Scene.play\u001b[0m\u001b[1m(\u001b[0m\u001b[1m)\u001b[0m, \u001b[32m0.0116959\u001b[0m \u001b]8;id=623843;file:///home/carlo/Desktop/single-projects/manim-demopage/.venv_demo/lib/python3.12/site-packages/manim/scene/scene.py\u001b\\\u001b[2mscene.py\u001b[0m\u001b]8;;\u001b\\\u001b[2m:\u001b[0m\u001b]8;id=280391;file:///home/carlo/Desktop/single-projects/manim-demopage/.venv_demo/lib/python3.12/site-packages/manim/scene/scene.py#1044\u001b\\\u001b[2m1044\u001b[0m\u001b]8;;\u001b\\\n",
       "\u001b[2;36m                    \u001b[0m         seconds, is too short for the current frame rate of \u001b[32m60\u001b[0m FPS. \u001b[1;33mRendering\u001b[0m    \u001b[2m             \u001b[0m\n",
       "\u001b[2;36m                    \u001b[0m         with the shortest possible total run_time of \u001b[32m0.0166667\u001b[0m seconds instead.  \u001b[2m             \u001b[0m\n"
      ]
     },
     "metadata": {},
     "output_type": "display_data"
    },
    {
     "data": {
      "text/html": [
       "<pre style=\"white-space:pre;overflow-x:auto;line-height:normal;font-family:Menlo,'DejaVu Sans Mono',consolas,'Courier New',monospace\"><span style=\"color: #7fbfbf; text-decoration-color: #7fbfbf\">                    </span><span style=\"color: #800000; text-decoration-color: #800000\">WARNING </span> The original total run_time of <span style=\"color: #800080; text-decoration-color: #800080; font-weight: bold\">integration_index_Scene.play</span><span style=\"font-weight: bold\">()</span>, <span style=\"color: #008000; text-decoration-color: #008000\">0.0116279</span> <a href=\"file:///home/carlo/Desktop/single-projects/manim-demopage/.venv_demo/lib/python3.12/site-packages/manim/scene/scene.py\" target=\"_blank\"><span style=\"color: #7f7f7f; text-decoration-color: #7f7f7f\">scene.py</span></a><span style=\"color: #7f7f7f; text-decoration-color: #7f7f7f\">:</span><a href=\"file:///home/carlo/Desktop/single-projects/manim-demopage/.venv_demo/lib/python3.12/site-packages/manim/scene/scene.py#1044\" target=\"_blank\"><span style=\"color: #7f7f7f; text-decoration-color: #7f7f7f\">1044</span></a>\n",
       "<span style=\"color: #7fbfbf; text-decoration-color: #7fbfbf\">                    </span>         seconds, is too short for the current frame rate of <span style=\"color: #008000; text-decoration-color: #008000\">60</span> FPS. <span style=\"color: #808000; text-decoration-color: #808000; font-weight: bold\">Rendering</span>    <span style=\"color: #7f7f7f; text-decoration-color: #7f7f7f\">             </span>\n",
       "<span style=\"color: #7fbfbf; text-decoration-color: #7fbfbf\">                    </span>         with the shortest possible total run_time of <span style=\"color: #008000; text-decoration-color: #008000\">0.0166667</span> seconds instead.  <span style=\"color: #7f7f7f; text-decoration-color: #7f7f7f\">             </span>\n",
       "</pre>\n"
      ],
      "text/plain": [
       "\u001b[2;36m                   \u001b[0m\u001b[2;36m \u001b[0m\u001b[31mWARNING \u001b[0m The original total run_time of \u001b[1;35mintegration_index_Scene.play\u001b[0m\u001b[1m(\u001b[0m\u001b[1m)\u001b[0m, \u001b[32m0.0116279\u001b[0m \u001b]8;id=288325;file:///home/carlo/Desktop/single-projects/manim-demopage/.venv_demo/lib/python3.12/site-packages/manim/scene/scene.py\u001b\\\u001b[2mscene.py\u001b[0m\u001b]8;;\u001b\\\u001b[2m:\u001b[0m\u001b]8;id=83117;file:///home/carlo/Desktop/single-projects/manim-demopage/.venv_demo/lib/python3.12/site-packages/manim/scene/scene.py#1044\u001b\\\u001b[2m1044\u001b[0m\u001b]8;;\u001b\\\n",
       "\u001b[2;36m                    \u001b[0m         seconds, is too short for the current frame rate of \u001b[32m60\u001b[0m FPS. \u001b[1;33mRendering\u001b[0m    \u001b[2m             \u001b[0m\n",
       "\u001b[2;36m                    \u001b[0m         with the shortest possible total run_time of \u001b[32m0.0166667\u001b[0m seconds instead.  \u001b[2m             \u001b[0m\n"
      ]
     },
     "metadata": {},
     "output_type": "display_data"
    },
    {
     "data": {
      "text/html": [
       "<pre style=\"white-space:pre;overflow-x:auto;line-height:normal;font-family:Menlo,'DejaVu Sans Mono',consolas,'Courier New',monospace\"><span style=\"color: #7fbfbf; text-decoration-color: #7fbfbf\">                    </span><span style=\"color: #800000; text-decoration-color: #800000\">WARNING </span> The original total run_time of <span style=\"color: #800080; text-decoration-color: #800080; font-weight: bold\">integration_index_Scene.play</span><span style=\"font-weight: bold\">()</span>, <span style=\"color: #008000; text-decoration-color: #008000\">0.0116279</span> <a href=\"file:///home/carlo/Desktop/single-projects/manim-demopage/.venv_demo/lib/python3.12/site-packages/manim/scene/scene.py\" target=\"_blank\"><span style=\"color: #7f7f7f; text-decoration-color: #7f7f7f\">scene.py</span></a><span style=\"color: #7f7f7f; text-decoration-color: #7f7f7f\">:</span><a href=\"file:///home/carlo/Desktop/single-projects/manim-demopage/.venv_demo/lib/python3.12/site-packages/manim/scene/scene.py#1044\" target=\"_blank\"><span style=\"color: #7f7f7f; text-decoration-color: #7f7f7f\">1044</span></a>\n",
       "<span style=\"color: #7fbfbf; text-decoration-color: #7fbfbf\">                    </span>         seconds, is too short for the current frame rate of <span style=\"color: #008000; text-decoration-color: #008000\">60</span> FPS. <span style=\"color: #808000; text-decoration-color: #808000; font-weight: bold\">Rendering</span>    <span style=\"color: #7f7f7f; text-decoration-color: #7f7f7f\">             </span>\n",
       "<span style=\"color: #7fbfbf; text-decoration-color: #7fbfbf\">                    </span>         with the shortest possible total run_time of <span style=\"color: #008000; text-decoration-color: #008000\">0.0166667</span> seconds instead.  <span style=\"color: #7f7f7f; text-decoration-color: #7f7f7f\">             </span>\n",
       "</pre>\n"
      ],
      "text/plain": [
       "\u001b[2;36m                   \u001b[0m\u001b[2;36m \u001b[0m\u001b[31mWARNING \u001b[0m The original total run_time of \u001b[1;35mintegration_index_Scene.play\u001b[0m\u001b[1m(\u001b[0m\u001b[1m)\u001b[0m, \u001b[32m0.0116279\u001b[0m \u001b]8;id=779666;file:///home/carlo/Desktop/single-projects/manim-demopage/.venv_demo/lib/python3.12/site-packages/manim/scene/scene.py\u001b\\\u001b[2mscene.py\u001b[0m\u001b]8;;\u001b\\\u001b[2m:\u001b[0m\u001b]8;id=575694;file:///home/carlo/Desktop/single-projects/manim-demopage/.venv_demo/lib/python3.12/site-packages/manim/scene/scene.py#1044\u001b\\\u001b[2m1044\u001b[0m\u001b]8;;\u001b\\\n",
       "\u001b[2;36m                    \u001b[0m         seconds, is too short for the current frame rate of \u001b[32m60\u001b[0m FPS. \u001b[1;33mRendering\u001b[0m    \u001b[2m             \u001b[0m\n",
       "\u001b[2;36m                    \u001b[0m         with the shortest possible total run_time of \u001b[32m0.0166667\u001b[0m seconds instead.  \u001b[2m             \u001b[0m\n"
      ]
     },
     "metadata": {},
     "output_type": "display_data"
    },
    {
     "data": {
      "text/html": [
       "<pre style=\"white-space:pre;overflow-x:auto;line-height:normal;font-family:Menlo,'DejaVu Sans Mono',consolas,'Courier New',monospace\"><span style=\"color: #7fbfbf; text-decoration-color: #7fbfbf\">[01/23/25 11:27:12] </span><span style=\"color: #800000; text-decoration-color: #800000\">WARNING </span> The original total run_time of <span style=\"color: #800080; text-decoration-color: #800080; font-weight: bold\">integration_index_Scene.play</span><span style=\"font-weight: bold\">()</span>, <span style=\"color: #008000; text-decoration-color: #008000\">0.0115607</span> <a href=\"file:///home/carlo/Desktop/single-projects/manim-demopage/.venv_demo/lib/python3.12/site-packages/manim/scene/scene.py\" target=\"_blank\"><span style=\"color: #7f7f7f; text-decoration-color: #7f7f7f\">scene.py</span></a><span style=\"color: #7f7f7f; text-decoration-color: #7f7f7f\">:</span><a href=\"file:///home/carlo/Desktop/single-projects/manim-demopage/.venv_demo/lib/python3.12/site-packages/manim/scene/scene.py#1044\" target=\"_blank\"><span style=\"color: #7f7f7f; text-decoration-color: #7f7f7f\">1044</span></a>\n",
       "<span style=\"color: #7fbfbf; text-decoration-color: #7fbfbf\">                    </span>         seconds, is too short for the current frame rate of <span style=\"color: #008000; text-decoration-color: #008000\">60</span> FPS. <span style=\"color: #808000; text-decoration-color: #808000; font-weight: bold\">Rendering</span>    <span style=\"color: #7f7f7f; text-decoration-color: #7f7f7f\">             </span>\n",
       "<span style=\"color: #7fbfbf; text-decoration-color: #7fbfbf\">                    </span>         with the shortest possible total run_time of <span style=\"color: #008000; text-decoration-color: #008000\">0.0166667</span> seconds instead.  <span style=\"color: #7f7f7f; text-decoration-color: #7f7f7f\">             </span>\n",
       "</pre>\n"
      ],
      "text/plain": [
       "\u001b[2;36m[01/23/25 11:27:12]\u001b[0m\u001b[2;36m \u001b[0m\u001b[31mWARNING \u001b[0m The original total run_time of \u001b[1;35mintegration_index_Scene.play\u001b[0m\u001b[1m(\u001b[0m\u001b[1m)\u001b[0m, \u001b[32m0.0115607\u001b[0m \u001b]8;id=76715;file:///home/carlo/Desktop/single-projects/manim-demopage/.venv_demo/lib/python3.12/site-packages/manim/scene/scene.py\u001b\\\u001b[2mscene.py\u001b[0m\u001b]8;;\u001b\\\u001b[2m:\u001b[0m\u001b]8;id=998264;file:///home/carlo/Desktop/single-projects/manim-demopage/.venv_demo/lib/python3.12/site-packages/manim/scene/scene.py#1044\u001b\\\u001b[2m1044\u001b[0m\u001b]8;;\u001b\\\n",
       "\u001b[2;36m                    \u001b[0m         seconds, is too short for the current frame rate of \u001b[32m60\u001b[0m FPS. \u001b[1;33mRendering\u001b[0m    \u001b[2m             \u001b[0m\n",
       "\u001b[2;36m                    \u001b[0m         with the shortest possible total run_time of \u001b[32m0.0166667\u001b[0m seconds instead.  \u001b[2m             \u001b[0m\n"
      ]
     },
     "metadata": {},
     "output_type": "display_data"
    },
    {
     "data": {
      "text/html": [
       "<pre style=\"white-space:pre;overflow-x:auto;line-height:normal;font-family:Menlo,'DejaVu Sans Mono',consolas,'Courier New',monospace\"><span style=\"color: #7fbfbf; text-decoration-color: #7fbfbf\">                    </span><span style=\"color: #800000; text-decoration-color: #800000\">WARNING </span> The original total run_time of <span style=\"color: #800080; text-decoration-color: #800080; font-weight: bold\">integration_index_Scene.play</span><span style=\"font-weight: bold\">()</span>, <span style=\"color: #008000; text-decoration-color: #008000\">0.0115607</span> <a href=\"file:///home/carlo/Desktop/single-projects/manim-demopage/.venv_demo/lib/python3.12/site-packages/manim/scene/scene.py\" target=\"_blank\"><span style=\"color: #7f7f7f; text-decoration-color: #7f7f7f\">scene.py</span></a><span style=\"color: #7f7f7f; text-decoration-color: #7f7f7f\">:</span><a href=\"file:///home/carlo/Desktop/single-projects/manim-demopage/.venv_demo/lib/python3.12/site-packages/manim/scene/scene.py#1044\" target=\"_blank\"><span style=\"color: #7f7f7f; text-decoration-color: #7f7f7f\">1044</span></a>\n",
       "<span style=\"color: #7fbfbf; text-decoration-color: #7fbfbf\">                    </span>         seconds, is too short for the current frame rate of <span style=\"color: #008000; text-decoration-color: #008000\">60</span> FPS. <span style=\"color: #808000; text-decoration-color: #808000; font-weight: bold\">Rendering</span>    <span style=\"color: #7f7f7f; text-decoration-color: #7f7f7f\">             </span>\n",
       "<span style=\"color: #7fbfbf; text-decoration-color: #7fbfbf\">                    </span>         with the shortest possible total run_time of <span style=\"color: #008000; text-decoration-color: #008000\">0.0166667</span> seconds instead.  <span style=\"color: #7f7f7f; text-decoration-color: #7f7f7f\">             </span>\n",
       "</pre>\n"
      ],
      "text/plain": [
       "\u001b[2;36m                   \u001b[0m\u001b[2;36m \u001b[0m\u001b[31mWARNING \u001b[0m The original total run_time of \u001b[1;35mintegration_index_Scene.play\u001b[0m\u001b[1m(\u001b[0m\u001b[1m)\u001b[0m, \u001b[32m0.0115607\u001b[0m \u001b]8;id=706095;file:///home/carlo/Desktop/single-projects/manim-demopage/.venv_demo/lib/python3.12/site-packages/manim/scene/scene.py\u001b\\\u001b[2mscene.py\u001b[0m\u001b]8;;\u001b\\\u001b[2m:\u001b[0m\u001b]8;id=436416;file:///home/carlo/Desktop/single-projects/manim-demopage/.venv_demo/lib/python3.12/site-packages/manim/scene/scene.py#1044\u001b\\\u001b[2m1044\u001b[0m\u001b]8;;\u001b\\\n",
       "\u001b[2;36m                    \u001b[0m         seconds, is too short for the current frame rate of \u001b[32m60\u001b[0m FPS. \u001b[1;33mRendering\u001b[0m    \u001b[2m             \u001b[0m\n",
       "\u001b[2;36m                    \u001b[0m         with the shortest possible total run_time of \u001b[32m0.0166667\u001b[0m seconds instead.  \u001b[2m             \u001b[0m\n"
      ]
     },
     "metadata": {},
     "output_type": "display_data"
    },
    {
     "data": {
      "text/html": [
       "<pre style=\"white-space:pre;overflow-x:auto;line-height:normal;font-family:Menlo,'DejaVu Sans Mono',consolas,'Courier New',monospace\"><span style=\"color: #7fbfbf; text-decoration-color: #7fbfbf\">                    </span><span style=\"color: #800000; text-decoration-color: #800000\">WARNING </span> The original total run_time of <span style=\"color: #800080; text-decoration-color: #800080; font-weight: bold\">integration_index_Scene.play</span><span style=\"font-weight: bold\">()</span>, <span style=\"color: #008000; text-decoration-color: #008000\">0.0114943</span> <a href=\"file:///home/carlo/Desktop/single-projects/manim-demopage/.venv_demo/lib/python3.12/site-packages/manim/scene/scene.py\" target=\"_blank\"><span style=\"color: #7f7f7f; text-decoration-color: #7f7f7f\">scene.py</span></a><span style=\"color: #7f7f7f; text-decoration-color: #7f7f7f\">:</span><a href=\"file:///home/carlo/Desktop/single-projects/manim-demopage/.venv_demo/lib/python3.12/site-packages/manim/scene/scene.py#1044\" target=\"_blank\"><span style=\"color: #7f7f7f; text-decoration-color: #7f7f7f\">1044</span></a>\n",
       "<span style=\"color: #7fbfbf; text-decoration-color: #7fbfbf\">                    </span>         seconds, is too short for the current frame rate of <span style=\"color: #008000; text-decoration-color: #008000\">60</span> FPS. <span style=\"color: #808000; text-decoration-color: #808000; font-weight: bold\">Rendering</span>    <span style=\"color: #7f7f7f; text-decoration-color: #7f7f7f\">             </span>\n",
       "<span style=\"color: #7fbfbf; text-decoration-color: #7fbfbf\">                    </span>         with the shortest possible total run_time of <span style=\"color: #008000; text-decoration-color: #008000\">0.0166667</span> seconds instead.  <span style=\"color: #7f7f7f; text-decoration-color: #7f7f7f\">             </span>\n",
       "</pre>\n"
      ],
      "text/plain": [
       "\u001b[2;36m                   \u001b[0m\u001b[2;36m \u001b[0m\u001b[31mWARNING \u001b[0m The original total run_time of \u001b[1;35mintegration_index_Scene.play\u001b[0m\u001b[1m(\u001b[0m\u001b[1m)\u001b[0m, \u001b[32m0.0114943\u001b[0m \u001b]8;id=841165;file:///home/carlo/Desktop/single-projects/manim-demopage/.venv_demo/lib/python3.12/site-packages/manim/scene/scene.py\u001b\\\u001b[2mscene.py\u001b[0m\u001b]8;;\u001b\\\u001b[2m:\u001b[0m\u001b]8;id=803711;file:///home/carlo/Desktop/single-projects/manim-demopage/.venv_demo/lib/python3.12/site-packages/manim/scene/scene.py#1044\u001b\\\u001b[2m1044\u001b[0m\u001b]8;;\u001b\\\n",
       "\u001b[2;36m                    \u001b[0m         seconds, is too short for the current frame rate of \u001b[32m60\u001b[0m FPS. \u001b[1;33mRendering\u001b[0m    \u001b[2m             \u001b[0m\n",
       "\u001b[2;36m                    \u001b[0m         with the shortest possible total run_time of \u001b[32m0.0166667\u001b[0m seconds instead.  \u001b[2m             \u001b[0m\n"
      ]
     },
     "metadata": {},
     "output_type": "display_data"
    },
    {
     "data": {
      "text/html": [
       "<pre style=\"white-space:pre;overflow-x:auto;line-height:normal;font-family:Menlo,'DejaVu Sans Mono',consolas,'Courier New',monospace\"><span style=\"color: #7fbfbf; text-decoration-color: #7fbfbf\">                    </span><span style=\"color: #800000; text-decoration-color: #800000\">WARNING </span> The original total run_time of <span style=\"color: #800080; text-decoration-color: #800080; font-weight: bold\">integration_index_Scene.play</span><span style=\"font-weight: bold\">()</span>, <span style=\"color: #008000; text-decoration-color: #008000\">0.0114943</span> <a href=\"file:///home/carlo/Desktop/single-projects/manim-demopage/.venv_demo/lib/python3.12/site-packages/manim/scene/scene.py\" target=\"_blank\"><span style=\"color: #7f7f7f; text-decoration-color: #7f7f7f\">scene.py</span></a><span style=\"color: #7f7f7f; text-decoration-color: #7f7f7f\">:</span><a href=\"file:///home/carlo/Desktop/single-projects/manim-demopage/.venv_demo/lib/python3.12/site-packages/manim/scene/scene.py#1044\" target=\"_blank\"><span style=\"color: #7f7f7f; text-decoration-color: #7f7f7f\">1044</span></a>\n",
       "<span style=\"color: #7fbfbf; text-decoration-color: #7fbfbf\">                    </span>         seconds, is too short for the current frame rate of <span style=\"color: #008000; text-decoration-color: #008000\">60</span> FPS. <span style=\"color: #808000; text-decoration-color: #808000; font-weight: bold\">Rendering</span>    <span style=\"color: #7f7f7f; text-decoration-color: #7f7f7f\">             </span>\n",
       "<span style=\"color: #7fbfbf; text-decoration-color: #7fbfbf\">                    </span>         with the shortest possible total run_time of <span style=\"color: #008000; text-decoration-color: #008000\">0.0166667</span> seconds instead.  <span style=\"color: #7f7f7f; text-decoration-color: #7f7f7f\">             </span>\n",
       "</pre>\n"
      ],
      "text/plain": [
       "\u001b[2;36m                   \u001b[0m\u001b[2;36m \u001b[0m\u001b[31mWARNING \u001b[0m The original total run_time of \u001b[1;35mintegration_index_Scene.play\u001b[0m\u001b[1m(\u001b[0m\u001b[1m)\u001b[0m, \u001b[32m0.0114943\u001b[0m \u001b]8;id=486077;file:///home/carlo/Desktop/single-projects/manim-demopage/.venv_demo/lib/python3.12/site-packages/manim/scene/scene.py\u001b\\\u001b[2mscene.py\u001b[0m\u001b]8;;\u001b\\\u001b[2m:\u001b[0m\u001b]8;id=825557;file:///home/carlo/Desktop/single-projects/manim-demopage/.venv_demo/lib/python3.12/site-packages/manim/scene/scene.py#1044\u001b\\\u001b[2m1044\u001b[0m\u001b]8;;\u001b\\\n",
       "\u001b[2;36m                    \u001b[0m         seconds, is too short for the current frame rate of \u001b[32m60\u001b[0m FPS. \u001b[1;33mRendering\u001b[0m    \u001b[2m             \u001b[0m\n",
       "\u001b[2;36m                    \u001b[0m         with the shortest possible total run_time of \u001b[32m0.0166667\u001b[0m seconds instead.  \u001b[2m             \u001b[0m\n"
      ]
     },
     "metadata": {},
     "output_type": "display_data"
    },
    {
     "data": {
      "text/html": [
       "<pre style=\"white-space:pre;overflow-x:auto;line-height:normal;font-family:Menlo,'DejaVu Sans Mono',consolas,'Courier New',monospace\"><span style=\"color: #7fbfbf; text-decoration-color: #7fbfbf\">                    </span><span style=\"color: #800000; text-decoration-color: #800000\">WARNING </span> The original total run_time of <span style=\"color: #800080; text-decoration-color: #800080; font-weight: bold\">integration_index_Scene.play</span><span style=\"font-weight: bold\">()</span>, <span style=\"color: #008000; text-decoration-color: #008000\">0.0114286</span> <a href=\"file:///home/carlo/Desktop/single-projects/manim-demopage/.venv_demo/lib/python3.12/site-packages/manim/scene/scene.py\" target=\"_blank\"><span style=\"color: #7f7f7f; text-decoration-color: #7f7f7f\">scene.py</span></a><span style=\"color: #7f7f7f; text-decoration-color: #7f7f7f\">:</span><a href=\"file:///home/carlo/Desktop/single-projects/manim-demopage/.venv_demo/lib/python3.12/site-packages/manim/scene/scene.py#1044\" target=\"_blank\"><span style=\"color: #7f7f7f; text-decoration-color: #7f7f7f\">1044</span></a>\n",
       "<span style=\"color: #7fbfbf; text-decoration-color: #7fbfbf\">                    </span>         seconds, is too short for the current frame rate of <span style=\"color: #008000; text-decoration-color: #008000\">60</span> FPS. <span style=\"color: #808000; text-decoration-color: #808000; font-weight: bold\">Rendering</span>    <span style=\"color: #7f7f7f; text-decoration-color: #7f7f7f\">             </span>\n",
       "<span style=\"color: #7fbfbf; text-decoration-color: #7fbfbf\">                    </span>         with the shortest possible total run_time of <span style=\"color: #008000; text-decoration-color: #008000\">0.0166667</span> seconds instead.  <span style=\"color: #7f7f7f; text-decoration-color: #7f7f7f\">             </span>\n",
       "</pre>\n"
      ],
      "text/plain": [
       "\u001b[2;36m                   \u001b[0m\u001b[2;36m \u001b[0m\u001b[31mWARNING \u001b[0m The original total run_time of \u001b[1;35mintegration_index_Scene.play\u001b[0m\u001b[1m(\u001b[0m\u001b[1m)\u001b[0m, \u001b[32m0.0114286\u001b[0m \u001b]8;id=21193;file:///home/carlo/Desktop/single-projects/manim-demopage/.venv_demo/lib/python3.12/site-packages/manim/scene/scene.py\u001b\\\u001b[2mscene.py\u001b[0m\u001b]8;;\u001b\\\u001b[2m:\u001b[0m\u001b]8;id=430593;file:///home/carlo/Desktop/single-projects/manim-demopage/.venv_demo/lib/python3.12/site-packages/manim/scene/scene.py#1044\u001b\\\u001b[2m1044\u001b[0m\u001b]8;;\u001b\\\n",
       "\u001b[2;36m                    \u001b[0m         seconds, is too short for the current frame rate of \u001b[32m60\u001b[0m FPS. \u001b[1;33mRendering\u001b[0m    \u001b[2m             \u001b[0m\n",
       "\u001b[2;36m                    \u001b[0m         with the shortest possible total run_time of \u001b[32m0.0166667\u001b[0m seconds instead.  \u001b[2m             \u001b[0m\n"
      ]
     },
     "metadata": {},
     "output_type": "display_data"
    },
    {
     "data": {
      "text/html": [
       "<pre style=\"white-space:pre;overflow-x:auto;line-height:normal;font-family:Menlo,'DejaVu Sans Mono',consolas,'Courier New',monospace\"><span style=\"color: #7fbfbf; text-decoration-color: #7fbfbf\">                    </span><span style=\"color: #800000; text-decoration-color: #800000\">WARNING </span> The original total run_time of <span style=\"color: #800080; text-decoration-color: #800080; font-weight: bold\">integration_index_Scene.play</span><span style=\"font-weight: bold\">()</span>, <span style=\"color: #008000; text-decoration-color: #008000\">0.0114286</span> <a href=\"file:///home/carlo/Desktop/single-projects/manim-demopage/.venv_demo/lib/python3.12/site-packages/manim/scene/scene.py\" target=\"_blank\"><span style=\"color: #7f7f7f; text-decoration-color: #7f7f7f\">scene.py</span></a><span style=\"color: #7f7f7f; text-decoration-color: #7f7f7f\">:</span><a href=\"file:///home/carlo/Desktop/single-projects/manim-demopage/.venv_demo/lib/python3.12/site-packages/manim/scene/scene.py#1044\" target=\"_blank\"><span style=\"color: #7f7f7f; text-decoration-color: #7f7f7f\">1044</span></a>\n",
       "<span style=\"color: #7fbfbf; text-decoration-color: #7fbfbf\">                    </span>         seconds, is too short for the current frame rate of <span style=\"color: #008000; text-decoration-color: #008000\">60</span> FPS. <span style=\"color: #808000; text-decoration-color: #808000; font-weight: bold\">Rendering</span>    <span style=\"color: #7f7f7f; text-decoration-color: #7f7f7f\">             </span>\n",
       "<span style=\"color: #7fbfbf; text-decoration-color: #7fbfbf\">                    </span>         with the shortest possible total run_time of <span style=\"color: #008000; text-decoration-color: #008000\">0.0166667</span> seconds instead.  <span style=\"color: #7f7f7f; text-decoration-color: #7f7f7f\">             </span>\n",
       "</pre>\n"
      ],
      "text/plain": [
       "\u001b[2;36m                   \u001b[0m\u001b[2;36m \u001b[0m\u001b[31mWARNING \u001b[0m The original total run_time of \u001b[1;35mintegration_index_Scene.play\u001b[0m\u001b[1m(\u001b[0m\u001b[1m)\u001b[0m, \u001b[32m0.0114286\u001b[0m \u001b]8;id=747423;file:///home/carlo/Desktop/single-projects/manim-demopage/.venv_demo/lib/python3.12/site-packages/manim/scene/scene.py\u001b\\\u001b[2mscene.py\u001b[0m\u001b]8;;\u001b\\\u001b[2m:\u001b[0m\u001b]8;id=471957;file:///home/carlo/Desktop/single-projects/manim-demopage/.venv_demo/lib/python3.12/site-packages/manim/scene/scene.py#1044\u001b\\\u001b[2m1044\u001b[0m\u001b]8;;\u001b\\\n",
       "\u001b[2;36m                    \u001b[0m         seconds, is too short for the current frame rate of \u001b[32m60\u001b[0m FPS. \u001b[1;33mRendering\u001b[0m    \u001b[2m             \u001b[0m\n",
       "\u001b[2;36m                    \u001b[0m         with the shortest possible total run_time of \u001b[32m0.0166667\u001b[0m seconds instead.  \u001b[2m             \u001b[0m\n"
      ]
     },
     "metadata": {},
     "output_type": "display_data"
    },
    {
     "data": {
      "text/html": [
       "<pre style=\"white-space:pre;overflow-x:auto;line-height:normal;font-family:Menlo,'DejaVu Sans Mono',consolas,'Courier New',monospace\"><span style=\"color: #7fbfbf; text-decoration-color: #7fbfbf\">                    </span><span style=\"color: #800000; text-decoration-color: #800000\">WARNING </span> The original total run_time of <span style=\"color: #800080; text-decoration-color: #800080; font-weight: bold\">integration_index_Scene.play</span><span style=\"font-weight: bold\">()</span>, <span style=\"color: #008000; text-decoration-color: #008000\">0.0113636</span> <a href=\"file:///home/carlo/Desktop/single-projects/manim-demopage/.venv_demo/lib/python3.12/site-packages/manim/scene/scene.py\" target=\"_blank\"><span style=\"color: #7f7f7f; text-decoration-color: #7f7f7f\">scene.py</span></a><span style=\"color: #7f7f7f; text-decoration-color: #7f7f7f\">:</span><a href=\"file:///home/carlo/Desktop/single-projects/manim-demopage/.venv_demo/lib/python3.12/site-packages/manim/scene/scene.py#1044\" target=\"_blank\"><span style=\"color: #7f7f7f; text-decoration-color: #7f7f7f\">1044</span></a>\n",
       "<span style=\"color: #7fbfbf; text-decoration-color: #7fbfbf\">                    </span>         seconds, is too short for the current frame rate of <span style=\"color: #008000; text-decoration-color: #008000\">60</span> FPS. <span style=\"color: #808000; text-decoration-color: #808000; font-weight: bold\">Rendering</span>    <span style=\"color: #7f7f7f; text-decoration-color: #7f7f7f\">             </span>\n",
       "<span style=\"color: #7fbfbf; text-decoration-color: #7fbfbf\">                    </span>         with the shortest possible total run_time of <span style=\"color: #008000; text-decoration-color: #008000\">0.0166667</span> seconds instead.  <span style=\"color: #7f7f7f; text-decoration-color: #7f7f7f\">             </span>\n",
       "</pre>\n"
      ],
      "text/plain": [
       "\u001b[2;36m                   \u001b[0m\u001b[2;36m \u001b[0m\u001b[31mWARNING \u001b[0m The original total run_time of \u001b[1;35mintegration_index_Scene.play\u001b[0m\u001b[1m(\u001b[0m\u001b[1m)\u001b[0m, \u001b[32m0.0113636\u001b[0m \u001b]8;id=906319;file:///home/carlo/Desktop/single-projects/manim-demopage/.venv_demo/lib/python3.12/site-packages/manim/scene/scene.py\u001b\\\u001b[2mscene.py\u001b[0m\u001b]8;;\u001b\\\u001b[2m:\u001b[0m\u001b]8;id=412793;file:///home/carlo/Desktop/single-projects/manim-demopage/.venv_demo/lib/python3.12/site-packages/manim/scene/scene.py#1044\u001b\\\u001b[2m1044\u001b[0m\u001b]8;;\u001b\\\n",
       "\u001b[2;36m                    \u001b[0m         seconds, is too short for the current frame rate of \u001b[32m60\u001b[0m FPS. \u001b[1;33mRendering\u001b[0m    \u001b[2m             \u001b[0m\n",
       "\u001b[2;36m                    \u001b[0m         with the shortest possible total run_time of \u001b[32m0.0166667\u001b[0m seconds instead.  \u001b[2m             \u001b[0m\n"
      ]
     },
     "metadata": {},
     "output_type": "display_data"
    },
    {
     "data": {
      "text/html": [
       "<pre style=\"white-space:pre;overflow-x:auto;line-height:normal;font-family:Menlo,'DejaVu Sans Mono',consolas,'Courier New',monospace\"><span style=\"color: #7fbfbf; text-decoration-color: #7fbfbf\">                    </span><span style=\"color: #800000; text-decoration-color: #800000\">WARNING </span> The original total run_time of <span style=\"color: #800080; text-decoration-color: #800080; font-weight: bold\">integration_index_Scene.play</span><span style=\"font-weight: bold\">()</span>, <span style=\"color: #008000; text-decoration-color: #008000\">0.0113636</span> <a href=\"file:///home/carlo/Desktop/single-projects/manim-demopage/.venv_demo/lib/python3.12/site-packages/manim/scene/scene.py\" target=\"_blank\"><span style=\"color: #7f7f7f; text-decoration-color: #7f7f7f\">scene.py</span></a><span style=\"color: #7f7f7f; text-decoration-color: #7f7f7f\">:</span><a href=\"file:///home/carlo/Desktop/single-projects/manim-demopage/.venv_demo/lib/python3.12/site-packages/manim/scene/scene.py#1044\" target=\"_blank\"><span style=\"color: #7f7f7f; text-decoration-color: #7f7f7f\">1044</span></a>\n",
       "<span style=\"color: #7fbfbf; text-decoration-color: #7fbfbf\">                    </span>         seconds, is too short for the current frame rate of <span style=\"color: #008000; text-decoration-color: #008000\">60</span> FPS. <span style=\"color: #808000; text-decoration-color: #808000; font-weight: bold\">Rendering</span>    <span style=\"color: #7f7f7f; text-decoration-color: #7f7f7f\">             </span>\n",
       "<span style=\"color: #7fbfbf; text-decoration-color: #7fbfbf\">                    </span>         with the shortest possible total run_time of <span style=\"color: #008000; text-decoration-color: #008000\">0.0166667</span> seconds instead.  <span style=\"color: #7f7f7f; text-decoration-color: #7f7f7f\">             </span>\n",
       "</pre>\n"
      ],
      "text/plain": [
       "\u001b[2;36m                   \u001b[0m\u001b[2;36m \u001b[0m\u001b[31mWARNING \u001b[0m The original total run_time of \u001b[1;35mintegration_index_Scene.play\u001b[0m\u001b[1m(\u001b[0m\u001b[1m)\u001b[0m, \u001b[32m0.0113636\u001b[0m \u001b]8;id=471156;file:///home/carlo/Desktop/single-projects/manim-demopage/.venv_demo/lib/python3.12/site-packages/manim/scene/scene.py\u001b\\\u001b[2mscene.py\u001b[0m\u001b]8;;\u001b\\\u001b[2m:\u001b[0m\u001b]8;id=380664;file:///home/carlo/Desktop/single-projects/manim-demopage/.venv_demo/lib/python3.12/site-packages/manim/scene/scene.py#1044\u001b\\\u001b[2m1044\u001b[0m\u001b]8;;\u001b\\\n",
       "\u001b[2;36m                    \u001b[0m         seconds, is too short for the current frame rate of \u001b[32m60\u001b[0m FPS. \u001b[1;33mRendering\u001b[0m    \u001b[2m             \u001b[0m\n",
       "\u001b[2;36m                    \u001b[0m         with the shortest possible total run_time of \u001b[32m0.0166667\u001b[0m seconds instead.  \u001b[2m             \u001b[0m\n"
      ]
     },
     "metadata": {},
     "output_type": "display_data"
    },
    {
     "data": {
      "text/html": [
       "<pre style=\"white-space:pre;overflow-x:auto;line-height:normal;font-family:Menlo,'DejaVu Sans Mono',consolas,'Courier New',monospace\"><span style=\"color: #7fbfbf; text-decoration-color: #7fbfbf\">                    </span><span style=\"color: #800000; text-decoration-color: #800000\">WARNING </span> The original total run_time of <span style=\"color: #800080; text-decoration-color: #800080; font-weight: bold\">integration_index_Scene.play</span><span style=\"font-weight: bold\">()</span>, <span style=\"color: #008000; text-decoration-color: #008000\">0.0112994</span> <a href=\"file:///home/carlo/Desktop/single-projects/manim-demopage/.venv_demo/lib/python3.12/site-packages/manim/scene/scene.py\" target=\"_blank\"><span style=\"color: #7f7f7f; text-decoration-color: #7f7f7f\">scene.py</span></a><span style=\"color: #7f7f7f; text-decoration-color: #7f7f7f\">:</span><a href=\"file:///home/carlo/Desktop/single-projects/manim-demopage/.venv_demo/lib/python3.12/site-packages/manim/scene/scene.py#1044\" target=\"_blank\"><span style=\"color: #7f7f7f; text-decoration-color: #7f7f7f\">1044</span></a>\n",
       "<span style=\"color: #7fbfbf; text-decoration-color: #7fbfbf\">                    </span>         seconds, is too short for the current frame rate of <span style=\"color: #008000; text-decoration-color: #008000\">60</span> FPS. <span style=\"color: #808000; text-decoration-color: #808000; font-weight: bold\">Rendering</span>    <span style=\"color: #7f7f7f; text-decoration-color: #7f7f7f\">             </span>\n",
       "<span style=\"color: #7fbfbf; text-decoration-color: #7fbfbf\">                    </span>         with the shortest possible total run_time of <span style=\"color: #008000; text-decoration-color: #008000\">0.0166667</span> seconds instead.  <span style=\"color: #7f7f7f; text-decoration-color: #7f7f7f\">             </span>\n",
       "</pre>\n"
      ],
      "text/plain": [
       "\u001b[2;36m                   \u001b[0m\u001b[2;36m \u001b[0m\u001b[31mWARNING \u001b[0m The original total run_time of \u001b[1;35mintegration_index_Scene.play\u001b[0m\u001b[1m(\u001b[0m\u001b[1m)\u001b[0m, \u001b[32m0.0112994\u001b[0m \u001b]8;id=135160;file:///home/carlo/Desktop/single-projects/manim-demopage/.venv_demo/lib/python3.12/site-packages/manim/scene/scene.py\u001b\\\u001b[2mscene.py\u001b[0m\u001b]8;;\u001b\\\u001b[2m:\u001b[0m\u001b]8;id=353238;file:///home/carlo/Desktop/single-projects/manim-demopage/.venv_demo/lib/python3.12/site-packages/manim/scene/scene.py#1044\u001b\\\u001b[2m1044\u001b[0m\u001b]8;;\u001b\\\n",
       "\u001b[2;36m                    \u001b[0m         seconds, is too short for the current frame rate of \u001b[32m60\u001b[0m FPS. \u001b[1;33mRendering\u001b[0m    \u001b[2m             \u001b[0m\n",
       "\u001b[2;36m                    \u001b[0m         with the shortest possible total run_time of \u001b[32m0.0166667\u001b[0m seconds instead.  \u001b[2m             \u001b[0m\n"
      ]
     },
     "metadata": {},
     "output_type": "display_data"
    },
    {
     "data": {
      "text/html": [
       "<pre style=\"white-space:pre;overflow-x:auto;line-height:normal;font-family:Menlo,'DejaVu Sans Mono',consolas,'Courier New',monospace\"><span style=\"color: #7fbfbf; text-decoration-color: #7fbfbf\">                    </span><span style=\"color: #800000; text-decoration-color: #800000\">WARNING </span> The original total run_time of <span style=\"color: #800080; text-decoration-color: #800080; font-weight: bold\">integration_index_Scene.play</span><span style=\"font-weight: bold\">()</span>, <span style=\"color: #008000; text-decoration-color: #008000\">0.0112994</span> <a href=\"file:///home/carlo/Desktop/single-projects/manim-demopage/.venv_demo/lib/python3.12/site-packages/manim/scene/scene.py\" target=\"_blank\"><span style=\"color: #7f7f7f; text-decoration-color: #7f7f7f\">scene.py</span></a><span style=\"color: #7f7f7f; text-decoration-color: #7f7f7f\">:</span><a href=\"file:///home/carlo/Desktop/single-projects/manim-demopage/.venv_demo/lib/python3.12/site-packages/manim/scene/scene.py#1044\" target=\"_blank\"><span style=\"color: #7f7f7f; text-decoration-color: #7f7f7f\">1044</span></a>\n",
       "<span style=\"color: #7fbfbf; text-decoration-color: #7fbfbf\">                    </span>         seconds, is too short for the current frame rate of <span style=\"color: #008000; text-decoration-color: #008000\">60</span> FPS. <span style=\"color: #808000; text-decoration-color: #808000; font-weight: bold\">Rendering</span>    <span style=\"color: #7f7f7f; text-decoration-color: #7f7f7f\">             </span>\n",
       "<span style=\"color: #7fbfbf; text-decoration-color: #7fbfbf\">                    </span>         with the shortest possible total run_time of <span style=\"color: #008000; text-decoration-color: #008000\">0.0166667</span> seconds instead.  <span style=\"color: #7f7f7f; text-decoration-color: #7f7f7f\">             </span>\n",
       "</pre>\n"
      ],
      "text/plain": [
       "\u001b[2;36m                   \u001b[0m\u001b[2;36m \u001b[0m\u001b[31mWARNING \u001b[0m The original total run_time of \u001b[1;35mintegration_index_Scene.play\u001b[0m\u001b[1m(\u001b[0m\u001b[1m)\u001b[0m, \u001b[32m0.0112994\u001b[0m \u001b]8;id=434170;file:///home/carlo/Desktop/single-projects/manim-demopage/.venv_demo/lib/python3.12/site-packages/manim/scene/scene.py\u001b\\\u001b[2mscene.py\u001b[0m\u001b]8;;\u001b\\\u001b[2m:\u001b[0m\u001b]8;id=606996;file:///home/carlo/Desktop/single-projects/manim-demopage/.venv_demo/lib/python3.12/site-packages/manim/scene/scene.py#1044\u001b\\\u001b[2m1044\u001b[0m\u001b]8;;\u001b\\\n",
       "\u001b[2;36m                    \u001b[0m         seconds, is too short for the current frame rate of \u001b[32m60\u001b[0m FPS. \u001b[1;33mRendering\u001b[0m    \u001b[2m             \u001b[0m\n",
       "\u001b[2;36m                    \u001b[0m         with the shortest possible total run_time of \u001b[32m0.0166667\u001b[0m seconds instead.  \u001b[2m             \u001b[0m\n"
      ]
     },
     "metadata": {},
     "output_type": "display_data"
    },
    {
     "data": {
      "text/html": [
       "<pre style=\"white-space:pre;overflow-x:auto;line-height:normal;font-family:Menlo,'DejaVu Sans Mono',consolas,'Courier New',monospace\"><span style=\"color: #7fbfbf; text-decoration-color: #7fbfbf\">                    </span><span style=\"color: #800000; text-decoration-color: #800000\">WARNING </span> The original total run_time of <span style=\"color: #800080; text-decoration-color: #800080; font-weight: bold\">integration_index_Scene.play</span><span style=\"font-weight: bold\">()</span>, <span style=\"color: #008000; text-decoration-color: #008000\">0.011236</span>  <a href=\"file:///home/carlo/Desktop/single-projects/manim-demopage/.venv_demo/lib/python3.12/site-packages/manim/scene/scene.py\" target=\"_blank\"><span style=\"color: #7f7f7f; text-decoration-color: #7f7f7f\">scene.py</span></a><span style=\"color: #7f7f7f; text-decoration-color: #7f7f7f\">:</span><a href=\"file:///home/carlo/Desktop/single-projects/manim-demopage/.venv_demo/lib/python3.12/site-packages/manim/scene/scene.py#1044\" target=\"_blank\"><span style=\"color: #7f7f7f; text-decoration-color: #7f7f7f\">1044</span></a>\n",
       "<span style=\"color: #7fbfbf; text-decoration-color: #7fbfbf\">                    </span>         seconds, is too short for the current frame rate of <span style=\"color: #008000; text-decoration-color: #008000\">60</span> FPS. <span style=\"color: #808000; text-decoration-color: #808000; font-weight: bold\">Rendering</span>    <span style=\"color: #7f7f7f; text-decoration-color: #7f7f7f\">             </span>\n",
       "<span style=\"color: #7fbfbf; text-decoration-color: #7fbfbf\">                    </span>         with the shortest possible total run_time of <span style=\"color: #008000; text-decoration-color: #008000\">0.0166667</span> seconds instead.  <span style=\"color: #7f7f7f; text-decoration-color: #7f7f7f\">             </span>\n",
       "</pre>\n"
      ],
      "text/plain": [
       "\u001b[2;36m                   \u001b[0m\u001b[2;36m \u001b[0m\u001b[31mWARNING \u001b[0m The original total run_time of \u001b[1;35mintegration_index_Scene.play\u001b[0m\u001b[1m(\u001b[0m\u001b[1m)\u001b[0m, \u001b[32m0.011236\u001b[0m  \u001b]8;id=788931;file:///home/carlo/Desktop/single-projects/manim-demopage/.venv_demo/lib/python3.12/site-packages/manim/scene/scene.py\u001b\\\u001b[2mscene.py\u001b[0m\u001b]8;;\u001b\\\u001b[2m:\u001b[0m\u001b]8;id=325542;file:///home/carlo/Desktop/single-projects/manim-demopage/.venv_demo/lib/python3.12/site-packages/manim/scene/scene.py#1044\u001b\\\u001b[2m1044\u001b[0m\u001b]8;;\u001b\\\n",
       "\u001b[2;36m                    \u001b[0m         seconds, is too short for the current frame rate of \u001b[32m60\u001b[0m FPS. \u001b[1;33mRendering\u001b[0m    \u001b[2m             \u001b[0m\n",
       "\u001b[2;36m                    \u001b[0m         with the shortest possible total run_time of \u001b[32m0.0166667\u001b[0m seconds instead.  \u001b[2m             \u001b[0m\n"
      ]
     },
     "metadata": {},
     "output_type": "display_data"
    },
    {
     "data": {
      "text/html": [
       "<pre style=\"white-space:pre;overflow-x:auto;line-height:normal;font-family:Menlo,'DejaVu Sans Mono',consolas,'Courier New',monospace\"><span style=\"color: #7fbfbf; text-decoration-color: #7fbfbf\">[01/23/25 11:27:13] </span><span style=\"color: #800000; text-decoration-color: #800000\">WARNING </span> The original total run_time of <span style=\"color: #800080; text-decoration-color: #800080; font-weight: bold\">integration_index_Scene.play</span><span style=\"font-weight: bold\">()</span>, <span style=\"color: #008000; text-decoration-color: #008000\">0.011236</span>  <a href=\"file:///home/carlo/Desktop/single-projects/manim-demopage/.venv_demo/lib/python3.12/site-packages/manim/scene/scene.py\" target=\"_blank\"><span style=\"color: #7f7f7f; text-decoration-color: #7f7f7f\">scene.py</span></a><span style=\"color: #7f7f7f; text-decoration-color: #7f7f7f\">:</span><a href=\"file:///home/carlo/Desktop/single-projects/manim-demopage/.venv_demo/lib/python3.12/site-packages/manim/scene/scene.py#1044\" target=\"_blank\"><span style=\"color: #7f7f7f; text-decoration-color: #7f7f7f\">1044</span></a>\n",
       "<span style=\"color: #7fbfbf; text-decoration-color: #7fbfbf\">                    </span>         seconds, is too short for the current frame rate of <span style=\"color: #008000; text-decoration-color: #008000\">60</span> FPS. <span style=\"color: #808000; text-decoration-color: #808000; font-weight: bold\">Rendering</span>    <span style=\"color: #7f7f7f; text-decoration-color: #7f7f7f\">             </span>\n",
       "<span style=\"color: #7fbfbf; text-decoration-color: #7fbfbf\">                    </span>         with the shortest possible total run_time of <span style=\"color: #008000; text-decoration-color: #008000\">0.0166667</span> seconds instead.  <span style=\"color: #7f7f7f; text-decoration-color: #7f7f7f\">             </span>\n",
       "</pre>\n"
      ],
      "text/plain": [
       "\u001b[2;36m[01/23/25 11:27:13]\u001b[0m\u001b[2;36m \u001b[0m\u001b[31mWARNING \u001b[0m The original total run_time of \u001b[1;35mintegration_index_Scene.play\u001b[0m\u001b[1m(\u001b[0m\u001b[1m)\u001b[0m, \u001b[32m0.011236\u001b[0m  \u001b]8;id=187396;file:///home/carlo/Desktop/single-projects/manim-demopage/.venv_demo/lib/python3.12/site-packages/manim/scene/scene.py\u001b\\\u001b[2mscene.py\u001b[0m\u001b]8;;\u001b\\\u001b[2m:\u001b[0m\u001b]8;id=312288;file:///home/carlo/Desktop/single-projects/manim-demopage/.venv_demo/lib/python3.12/site-packages/manim/scene/scene.py#1044\u001b\\\u001b[2m1044\u001b[0m\u001b]8;;\u001b\\\n",
       "\u001b[2;36m                    \u001b[0m         seconds, is too short for the current frame rate of \u001b[32m60\u001b[0m FPS. \u001b[1;33mRendering\u001b[0m    \u001b[2m             \u001b[0m\n",
       "\u001b[2;36m                    \u001b[0m         with the shortest possible total run_time of \u001b[32m0.0166667\u001b[0m seconds instead.  \u001b[2m             \u001b[0m\n"
      ]
     },
     "metadata": {},
     "output_type": "display_data"
    },
    {
     "data": {
      "text/html": [
       "<pre style=\"white-space:pre;overflow-x:auto;line-height:normal;font-family:Menlo,'DejaVu Sans Mono',consolas,'Courier New',monospace\"><span style=\"color: #7fbfbf; text-decoration-color: #7fbfbf\">                    </span><span style=\"color: #800000; text-decoration-color: #800000\">WARNING </span> The original total run_time of <span style=\"color: #800080; text-decoration-color: #800080; font-weight: bold\">integration_index_Scene.play</span><span style=\"font-weight: bold\">()</span>, <span style=\"color: #008000; text-decoration-color: #008000\">0.0111732</span> <a href=\"file:///home/carlo/Desktop/single-projects/manim-demopage/.venv_demo/lib/python3.12/site-packages/manim/scene/scene.py\" target=\"_blank\"><span style=\"color: #7f7f7f; text-decoration-color: #7f7f7f\">scene.py</span></a><span style=\"color: #7f7f7f; text-decoration-color: #7f7f7f\">:</span><a href=\"file:///home/carlo/Desktop/single-projects/manim-demopage/.venv_demo/lib/python3.12/site-packages/manim/scene/scene.py#1044\" target=\"_blank\"><span style=\"color: #7f7f7f; text-decoration-color: #7f7f7f\">1044</span></a>\n",
       "<span style=\"color: #7fbfbf; text-decoration-color: #7fbfbf\">                    </span>         seconds, is too short for the current frame rate of <span style=\"color: #008000; text-decoration-color: #008000\">60</span> FPS. <span style=\"color: #808000; text-decoration-color: #808000; font-weight: bold\">Rendering</span>    <span style=\"color: #7f7f7f; text-decoration-color: #7f7f7f\">             </span>\n",
       "<span style=\"color: #7fbfbf; text-decoration-color: #7fbfbf\">                    </span>         with the shortest possible total run_time of <span style=\"color: #008000; text-decoration-color: #008000\">0.0166667</span> seconds instead.  <span style=\"color: #7f7f7f; text-decoration-color: #7f7f7f\">             </span>\n",
       "</pre>\n"
      ],
      "text/plain": [
       "\u001b[2;36m                   \u001b[0m\u001b[2;36m \u001b[0m\u001b[31mWARNING \u001b[0m The original total run_time of \u001b[1;35mintegration_index_Scene.play\u001b[0m\u001b[1m(\u001b[0m\u001b[1m)\u001b[0m, \u001b[32m0.0111732\u001b[0m \u001b]8;id=848629;file:///home/carlo/Desktop/single-projects/manim-demopage/.venv_demo/lib/python3.12/site-packages/manim/scene/scene.py\u001b\\\u001b[2mscene.py\u001b[0m\u001b]8;;\u001b\\\u001b[2m:\u001b[0m\u001b]8;id=324643;file:///home/carlo/Desktop/single-projects/manim-demopage/.venv_demo/lib/python3.12/site-packages/manim/scene/scene.py#1044\u001b\\\u001b[2m1044\u001b[0m\u001b]8;;\u001b\\\n",
       "\u001b[2;36m                    \u001b[0m         seconds, is too short for the current frame rate of \u001b[32m60\u001b[0m FPS. \u001b[1;33mRendering\u001b[0m    \u001b[2m             \u001b[0m\n",
       "\u001b[2;36m                    \u001b[0m         with the shortest possible total run_time of \u001b[32m0.0166667\u001b[0m seconds instead.  \u001b[2m             \u001b[0m\n"
      ]
     },
     "metadata": {},
     "output_type": "display_data"
    },
    {
     "data": {
      "text/html": [
       "<pre style=\"white-space:pre;overflow-x:auto;line-height:normal;font-family:Menlo,'DejaVu Sans Mono',consolas,'Courier New',monospace\"><span style=\"color: #7fbfbf; text-decoration-color: #7fbfbf\">                    </span><span style=\"color: #800000; text-decoration-color: #800000\">WARNING </span> The original total run_time of <span style=\"color: #800080; text-decoration-color: #800080; font-weight: bold\">integration_index_Scene.play</span><span style=\"font-weight: bold\">()</span>, <span style=\"color: #008000; text-decoration-color: #008000\">0.0111732</span> <a href=\"file:///home/carlo/Desktop/single-projects/manim-demopage/.venv_demo/lib/python3.12/site-packages/manim/scene/scene.py\" target=\"_blank\"><span style=\"color: #7f7f7f; text-decoration-color: #7f7f7f\">scene.py</span></a><span style=\"color: #7f7f7f; text-decoration-color: #7f7f7f\">:</span><a href=\"file:///home/carlo/Desktop/single-projects/manim-demopage/.venv_demo/lib/python3.12/site-packages/manim/scene/scene.py#1044\" target=\"_blank\"><span style=\"color: #7f7f7f; text-decoration-color: #7f7f7f\">1044</span></a>\n",
       "<span style=\"color: #7fbfbf; text-decoration-color: #7fbfbf\">                    </span>         seconds, is too short for the current frame rate of <span style=\"color: #008000; text-decoration-color: #008000\">60</span> FPS. <span style=\"color: #808000; text-decoration-color: #808000; font-weight: bold\">Rendering</span>    <span style=\"color: #7f7f7f; text-decoration-color: #7f7f7f\">             </span>\n",
       "<span style=\"color: #7fbfbf; text-decoration-color: #7fbfbf\">                    </span>         with the shortest possible total run_time of <span style=\"color: #008000; text-decoration-color: #008000\">0.0166667</span> seconds instead.  <span style=\"color: #7f7f7f; text-decoration-color: #7f7f7f\">             </span>\n",
       "</pre>\n"
      ],
      "text/plain": [
       "\u001b[2;36m                   \u001b[0m\u001b[2;36m \u001b[0m\u001b[31mWARNING \u001b[0m The original total run_time of \u001b[1;35mintegration_index_Scene.play\u001b[0m\u001b[1m(\u001b[0m\u001b[1m)\u001b[0m, \u001b[32m0.0111732\u001b[0m \u001b]8;id=438947;file:///home/carlo/Desktop/single-projects/manim-demopage/.venv_demo/lib/python3.12/site-packages/manim/scene/scene.py\u001b\\\u001b[2mscene.py\u001b[0m\u001b]8;;\u001b\\\u001b[2m:\u001b[0m\u001b]8;id=520575;file:///home/carlo/Desktop/single-projects/manim-demopage/.venv_demo/lib/python3.12/site-packages/manim/scene/scene.py#1044\u001b\\\u001b[2m1044\u001b[0m\u001b]8;;\u001b\\\n",
       "\u001b[2;36m                    \u001b[0m         seconds, is too short for the current frame rate of \u001b[32m60\u001b[0m FPS. \u001b[1;33mRendering\u001b[0m    \u001b[2m             \u001b[0m\n",
       "\u001b[2;36m                    \u001b[0m         with the shortest possible total run_time of \u001b[32m0.0166667\u001b[0m seconds instead.  \u001b[2m             \u001b[0m\n"
      ]
     },
     "metadata": {},
     "output_type": "display_data"
    },
    {
     "data": {
      "text/html": [
       "<pre style=\"white-space:pre;overflow-x:auto;line-height:normal;font-family:Menlo,'DejaVu Sans Mono',consolas,'Courier New',monospace\"><span style=\"color: #7fbfbf; text-decoration-color: #7fbfbf\">                    </span><span style=\"color: #800000; text-decoration-color: #800000\">WARNING </span> The original total run_time of <span style=\"color: #800080; text-decoration-color: #800080; font-weight: bold\">integration_index_Scene.play</span><span style=\"font-weight: bold\">()</span>, <span style=\"color: #008000; text-decoration-color: #008000\">0.0111111</span> <a href=\"file:///home/carlo/Desktop/single-projects/manim-demopage/.venv_demo/lib/python3.12/site-packages/manim/scene/scene.py\" target=\"_blank\"><span style=\"color: #7f7f7f; text-decoration-color: #7f7f7f\">scene.py</span></a><span style=\"color: #7f7f7f; text-decoration-color: #7f7f7f\">:</span><a href=\"file:///home/carlo/Desktop/single-projects/manim-demopage/.venv_demo/lib/python3.12/site-packages/manim/scene/scene.py#1044\" target=\"_blank\"><span style=\"color: #7f7f7f; text-decoration-color: #7f7f7f\">1044</span></a>\n",
       "<span style=\"color: #7fbfbf; text-decoration-color: #7fbfbf\">                    </span>         seconds, is too short for the current frame rate of <span style=\"color: #008000; text-decoration-color: #008000\">60</span> FPS. <span style=\"color: #808000; text-decoration-color: #808000; font-weight: bold\">Rendering</span>    <span style=\"color: #7f7f7f; text-decoration-color: #7f7f7f\">             </span>\n",
       "<span style=\"color: #7fbfbf; text-decoration-color: #7fbfbf\">                    </span>         with the shortest possible total run_time of <span style=\"color: #008000; text-decoration-color: #008000\">0.0166667</span> seconds instead.  <span style=\"color: #7f7f7f; text-decoration-color: #7f7f7f\">             </span>\n",
       "</pre>\n"
      ],
      "text/plain": [
       "\u001b[2;36m                   \u001b[0m\u001b[2;36m \u001b[0m\u001b[31mWARNING \u001b[0m The original total run_time of \u001b[1;35mintegration_index_Scene.play\u001b[0m\u001b[1m(\u001b[0m\u001b[1m)\u001b[0m, \u001b[32m0.0111111\u001b[0m \u001b]8;id=869725;file:///home/carlo/Desktop/single-projects/manim-demopage/.venv_demo/lib/python3.12/site-packages/manim/scene/scene.py\u001b\\\u001b[2mscene.py\u001b[0m\u001b]8;;\u001b\\\u001b[2m:\u001b[0m\u001b]8;id=252591;file:///home/carlo/Desktop/single-projects/manim-demopage/.venv_demo/lib/python3.12/site-packages/manim/scene/scene.py#1044\u001b\\\u001b[2m1044\u001b[0m\u001b]8;;\u001b\\\n",
       "\u001b[2;36m                    \u001b[0m         seconds, is too short for the current frame rate of \u001b[32m60\u001b[0m FPS. \u001b[1;33mRendering\u001b[0m    \u001b[2m             \u001b[0m\n",
       "\u001b[2;36m                    \u001b[0m         with the shortest possible total run_time of \u001b[32m0.0166667\u001b[0m seconds instead.  \u001b[2m             \u001b[0m\n"
      ]
     },
     "metadata": {},
     "output_type": "display_data"
    },
    {
     "data": {
      "text/html": [
       "<pre style=\"white-space:pre;overflow-x:auto;line-height:normal;font-family:Menlo,'DejaVu Sans Mono',consolas,'Courier New',monospace\"><span style=\"color: #7fbfbf; text-decoration-color: #7fbfbf\">                    </span><span style=\"color: #800000; text-decoration-color: #800000\">WARNING </span> The original total run_time of <span style=\"color: #800080; text-decoration-color: #800080; font-weight: bold\">integration_index_Scene.play</span><span style=\"font-weight: bold\">()</span>, <span style=\"color: #008000; text-decoration-color: #008000\">0.0111111</span> <a href=\"file:///home/carlo/Desktop/single-projects/manim-demopage/.venv_demo/lib/python3.12/site-packages/manim/scene/scene.py\" target=\"_blank\"><span style=\"color: #7f7f7f; text-decoration-color: #7f7f7f\">scene.py</span></a><span style=\"color: #7f7f7f; text-decoration-color: #7f7f7f\">:</span><a href=\"file:///home/carlo/Desktop/single-projects/manim-demopage/.venv_demo/lib/python3.12/site-packages/manim/scene/scene.py#1044\" target=\"_blank\"><span style=\"color: #7f7f7f; text-decoration-color: #7f7f7f\">1044</span></a>\n",
       "<span style=\"color: #7fbfbf; text-decoration-color: #7fbfbf\">                    </span>         seconds, is too short for the current frame rate of <span style=\"color: #008000; text-decoration-color: #008000\">60</span> FPS. <span style=\"color: #808000; text-decoration-color: #808000; font-weight: bold\">Rendering</span>    <span style=\"color: #7f7f7f; text-decoration-color: #7f7f7f\">             </span>\n",
       "<span style=\"color: #7fbfbf; text-decoration-color: #7fbfbf\">                    </span>         with the shortest possible total run_time of <span style=\"color: #008000; text-decoration-color: #008000\">0.0166667</span> seconds instead.  <span style=\"color: #7f7f7f; text-decoration-color: #7f7f7f\">             </span>\n",
       "</pre>\n"
      ],
      "text/plain": [
       "\u001b[2;36m                   \u001b[0m\u001b[2;36m \u001b[0m\u001b[31mWARNING \u001b[0m The original total run_time of \u001b[1;35mintegration_index_Scene.play\u001b[0m\u001b[1m(\u001b[0m\u001b[1m)\u001b[0m, \u001b[32m0.0111111\u001b[0m \u001b]8;id=759837;file:///home/carlo/Desktop/single-projects/manim-demopage/.venv_demo/lib/python3.12/site-packages/manim/scene/scene.py\u001b\\\u001b[2mscene.py\u001b[0m\u001b]8;;\u001b\\\u001b[2m:\u001b[0m\u001b]8;id=464551;file:///home/carlo/Desktop/single-projects/manim-demopage/.venv_demo/lib/python3.12/site-packages/manim/scene/scene.py#1044\u001b\\\u001b[2m1044\u001b[0m\u001b]8;;\u001b\\\n",
       "\u001b[2;36m                    \u001b[0m         seconds, is too short for the current frame rate of \u001b[32m60\u001b[0m FPS. \u001b[1;33mRendering\u001b[0m    \u001b[2m             \u001b[0m\n",
       "\u001b[2;36m                    \u001b[0m         with the shortest possible total run_time of \u001b[32m0.0166667\u001b[0m seconds instead.  \u001b[2m             \u001b[0m\n"
      ]
     },
     "metadata": {},
     "output_type": "display_data"
    },
    {
     "data": {
      "text/html": [
       "<pre style=\"white-space:pre;overflow-x:auto;line-height:normal;font-family:Menlo,'DejaVu Sans Mono',consolas,'Courier New',monospace\"><span style=\"color: #7fbfbf; text-decoration-color: #7fbfbf\">                    </span><span style=\"color: #800000; text-decoration-color: #800000\">WARNING </span> The original total run_time of <span style=\"color: #800080; text-decoration-color: #800080; font-weight: bold\">integration_index_Scene.play</span><span style=\"font-weight: bold\">()</span>, <span style=\"color: #008000; text-decoration-color: #008000\">0.0110497</span> <a href=\"file:///home/carlo/Desktop/single-projects/manim-demopage/.venv_demo/lib/python3.12/site-packages/manim/scene/scene.py\" target=\"_blank\"><span style=\"color: #7f7f7f; text-decoration-color: #7f7f7f\">scene.py</span></a><span style=\"color: #7f7f7f; text-decoration-color: #7f7f7f\">:</span><a href=\"file:///home/carlo/Desktop/single-projects/manim-demopage/.venv_demo/lib/python3.12/site-packages/manim/scene/scene.py#1044\" target=\"_blank\"><span style=\"color: #7f7f7f; text-decoration-color: #7f7f7f\">1044</span></a>\n",
       "<span style=\"color: #7fbfbf; text-decoration-color: #7fbfbf\">                    </span>         seconds, is too short for the current frame rate of <span style=\"color: #008000; text-decoration-color: #008000\">60</span> FPS. <span style=\"color: #808000; text-decoration-color: #808000; font-weight: bold\">Rendering</span>    <span style=\"color: #7f7f7f; text-decoration-color: #7f7f7f\">             </span>\n",
       "<span style=\"color: #7fbfbf; text-decoration-color: #7fbfbf\">                    </span>         with the shortest possible total run_time of <span style=\"color: #008000; text-decoration-color: #008000\">0.0166667</span> seconds instead.  <span style=\"color: #7f7f7f; text-decoration-color: #7f7f7f\">             </span>\n",
       "</pre>\n"
      ],
      "text/plain": [
       "\u001b[2;36m                   \u001b[0m\u001b[2;36m \u001b[0m\u001b[31mWARNING \u001b[0m The original total run_time of \u001b[1;35mintegration_index_Scene.play\u001b[0m\u001b[1m(\u001b[0m\u001b[1m)\u001b[0m, \u001b[32m0.0110497\u001b[0m \u001b]8;id=961575;file:///home/carlo/Desktop/single-projects/manim-demopage/.venv_demo/lib/python3.12/site-packages/manim/scene/scene.py\u001b\\\u001b[2mscene.py\u001b[0m\u001b]8;;\u001b\\\u001b[2m:\u001b[0m\u001b]8;id=129683;file:///home/carlo/Desktop/single-projects/manim-demopage/.venv_demo/lib/python3.12/site-packages/manim/scene/scene.py#1044\u001b\\\u001b[2m1044\u001b[0m\u001b]8;;\u001b\\\n",
       "\u001b[2;36m                    \u001b[0m         seconds, is too short for the current frame rate of \u001b[32m60\u001b[0m FPS. \u001b[1;33mRendering\u001b[0m    \u001b[2m             \u001b[0m\n",
       "\u001b[2;36m                    \u001b[0m         with the shortest possible total run_time of \u001b[32m0.0166667\u001b[0m seconds instead.  \u001b[2m             \u001b[0m\n"
      ]
     },
     "metadata": {},
     "output_type": "display_data"
    },
    {
     "data": {
      "text/html": [
       "<pre style=\"white-space:pre;overflow-x:auto;line-height:normal;font-family:Menlo,'DejaVu Sans Mono',consolas,'Courier New',monospace\"><span style=\"color: #7fbfbf; text-decoration-color: #7fbfbf\">                    </span><span style=\"color: #800000; text-decoration-color: #800000\">WARNING </span> The original total run_time of <span style=\"color: #800080; text-decoration-color: #800080; font-weight: bold\">integration_index_Scene.play</span><span style=\"font-weight: bold\">()</span>, <span style=\"color: #008000; text-decoration-color: #008000\">0.0110497</span> <a href=\"file:///home/carlo/Desktop/single-projects/manim-demopage/.venv_demo/lib/python3.12/site-packages/manim/scene/scene.py\" target=\"_blank\"><span style=\"color: #7f7f7f; text-decoration-color: #7f7f7f\">scene.py</span></a><span style=\"color: #7f7f7f; text-decoration-color: #7f7f7f\">:</span><a href=\"file:///home/carlo/Desktop/single-projects/manim-demopage/.venv_demo/lib/python3.12/site-packages/manim/scene/scene.py#1044\" target=\"_blank\"><span style=\"color: #7f7f7f; text-decoration-color: #7f7f7f\">1044</span></a>\n",
       "<span style=\"color: #7fbfbf; text-decoration-color: #7fbfbf\">                    </span>         seconds, is too short for the current frame rate of <span style=\"color: #008000; text-decoration-color: #008000\">60</span> FPS. <span style=\"color: #808000; text-decoration-color: #808000; font-weight: bold\">Rendering</span>    <span style=\"color: #7f7f7f; text-decoration-color: #7f7f7f\">             </span>\n",
       "<span style=\"color: #7fbfbf; text-decoration-color: #7fbfbf\">                    </span>         with the shortest possible total run_time of <span style=\"color: #008000; text-decoration-color: #008000\">0.0166667</span> seconds instead.  <span style=\"color: #7f7f7f; text-decoration-color: #7f7f7f\">             </span>\n",
       "</pre>\n"
      ],
      "text/plain": [
       "\u001b[2;36m                   \u001b[0m\u001b[2;36m \u001b[0m\u001b[31mWARNING \u001b[0m The original total run_time of \u001b[1;35mintegration_index_Scene.play\u001b[0m\u001b[1m(\u001b[0m\u001b[1m)\u001b[0m, \u001b[32m0.0110497\u001b[0m \u001b]8;id=17425;file:///home/carlo/Desktop/single-projects/manim-demopage/.venv_demo/lib/python3.12/site-packages/manim/scene/scene.py\u001b\\\u001b[2mscene.py\u001b[0m\u001b]8;;\u001b\\\u001b[2m:\u001b[0m\u001b]8;id=233356;file:///home/carlo/Desktop/single-projects/manim-demopage/.venv_demo/lib/python3.12/site-packages/manim/scene/scene.py#1044\u001b\\\u001b[2m1044\u001b[0m\u001b]8;;\u001b\\\n",
       "\u001b[2;36m                    \u001b[0m         seconds, is too short for the current frame rate of \u001b[32m60\u001b[0m FPS. \u001b[1;33mRendering\u001b[0m    \u001b[2m             \u001b[0m\n",
       "\u001b[2;36m                    \u001b[0m         with the shortest possible total run_time of \u001b[32m0.0166667\u001b[0m seconds instead.  \u001b[2m             \u001b[0m\n"
      ]
     },
     "metadata": {},
     "output_type": "display_data"
    },
    {
     "data": {
      "text/html": [
       "<pre style=\"white-space:pre;overflow-x:auto;line-height:normal;font-family:Menlo,'DejaVu Sans Mono',consolas,'Courier New',monospace\"><span style=\"color: #7fbfbf; text-decoration-color: #7fbfbf\">                    </span><span style=\"color: #800000; text-decoration-color: #800000\">WARNING </span> The original total run_time of <span style=\"color: #800080; text-decoration-color: #800080; font-weight: bold\">integration_index_Scene.play</span><span style=\"font-weight: bold\">()</span>, <span style=\"color: #008000; text-decoration-color: #008000\">0.010989</span>  <a href=\"file:///home/carlo/Desktop/single-projects/manim-demopage/.venv_demo/lib/python3.12/site-packages/manim/scene/scene.py\" target=\"_blank\"><span style=\"color: #7f7f7f; text-decoration-color: #7f7f7f\">scene.py</span></a><span style=\"color: #7f7f7f; text-decoration-color: #7f7f7f\">:</span><a href=\"file:///home/carlo/Desktop/single-projects/manim-demopage/.venv_demo/lib/python3.12/site-packages/manim/scene/scene.py#1044\" target=\"_blank\"><span style=\"color: #7f7f7f; text-decoration-color: #7f7f7f\">1044</span></a>\n",
       "<span style=\"color: #7fbfbf; text-decoration-color: #7fbfbf\">                    </span>         seconds, is too short for the current frame rate of <span style=\"color: #008000; text-decoration-color: #008000\">60</span> FPS. <span style=\"color: #808000; text-decoration-color: #808000; font-weight: bold\">Rendering</span>    <span style=\"color: #7f7f7f; text-decoration-color: #7f7f7f\">             </span>\n",
       "<span style=\"color: #7fbfbf; text-decoration-color: #7fbfbf\">                    </span>         with the shortest possible total run_time of <span style=\"color: #008000; text-decoration-color: #008000\">0.0166667</span> seconds instead.  <span style=\"color: #7f7f7f; text-decoration-color: #7f7f7f\">             </span>\n",
       "</pre>\n"
      ],
      "text/plain": [
       "\u001b[2;36m                   \u001b[0m\u001b[2;36m \u001b[0m\u001b[31mWARNING \u001b[0m The original total run_time of \u001b[1;35mintegration_index_Scene.play\u001b[0m\u001b[1m(\u001b[0m\u001b[1m)\u001b[0m, \u001b[32m0.010989\u001b[0m  \u001b]8;id=51045;file:///home/carlo/Desktop/single-projects/manim-demopage/.venv_demo/lib/python3.12/site-packages/manim/scene/scene.py\u001b\\\u001b[2mscene.py\u001b[0m\u001b]8;;\u001b\\\u001b[2m:\u001b[0m\u001b]8;id=691486;file:///home/carlo/Desktop/single-projects/manim-demopage/.venv_demo/lib/python3.12/site-packages/manim/scene/scene.py#1044\u001b\\\u001b[2m1044\u001b[0m\u001b]8;;\u001b\\\n",
       "\u001b[2;36m                    \u001b[0m         seconds, is too short for the current frame rate of \u001b[32m60\u001b[0m FPS. \u001b[1;33mRendering\u001b[0m    \u001b[2m             \u001b[0m\n",
       "\u001b[2;36m                    \u001b[0m         with the shortest possible total run_time of \u001b[32m0.0166667\u001b[0m seconds instead.  \u001b[2m             \u001b[0m\n"
      ]
     },
     "metadata": {},
     "output_type": "display_data"
    },
    {
     "data": {
      "text/html": [
       "<pre style=\"white-space:pre;overflow-x:auto;line-height:normal;font-family:Menlo,'DejaVu Sans Mono',consolas,'Courier New',monospace\"><span style=\"color: #7fbfbf; text-decoration-color: #7fbfbf\">                    </span><span style=\"color: #800000; text-decoration-color: #800000\">WARNING </span> The original total run_time of <span style=\"color: #800080; text-decoration-color: #800080; font-weight: bold\">integration_index_Scene.play</span><span style=\"font-weight: bold\">()</span>, <span style=\"color: #008000; text-decoration-color: #008000\">0.010989</span>  <a href=\"file:///home/carlo/Desktop/single-projects/manim-demopage/.venv_demo/lib/python3.12/site-packages/manim/scene/scene.py\" target=\"_blank\"><span style=\"color: #7f7f7f; text-decoration-color: #7f7f7f\">scene.py</span></a><span style=\"color: #7f7f7f; text-decoration-color: #7f7f7f\">:</span><a href=\"file:///home/carlo/Desktop/single-projects/manim-demopage/.venv_demo/lib/python3.12/site-packages/manim/scene/scene.py#1044\" target=\"_blank\"><span style=\"color: #7f7f7f; text-decoration-color: #7f7f7f\">1044</span></a>\n",
       "<span style=\"color: #7fbfbf; text-decoration-color: #7fbfbf\">                    </span>         seconds, is too short for the current frame rate of <span style=\"color: #008000; text-decoration-color: #008000\">60</span> FPS. <span style=\"color: #808000; text-decoration-color: #808000; font-weight: bold\">Rendering</span>    <span style=\"color: #7f7f7f; text-decoration-color: #7f7f7f\">             </span>\n",
       "<span style=\"color: #7fbfbf; text-decoration-color: #7fbfbf\">                    </span>         with the shortest possible total run_time of <span style=\"color: #008000; text-decoration-color: #008000\">0.0166667</span> seconds instead.  <span style=\"color: #7f7f7f; text-decoration-color: #7f7f7f\">             </span>\n",
       "</pre>\n"
      ],
      "text/plain": [
       "\u001b[2;36m                   \u001b[0m\u001b[2;36m \u001b[0m\u001b[31mWARNING \u001b[0m The original total run_time of \u001b[1;35mintegration_index_Scene.play\u001b[0m\u001b[1m(\u001b[0m\u001b[1m)\u001b[0m, \u001b[32m0.010989\u001b[0m  \u001b]8;id=472117;file:///home/carlo/Desktop/single-projects/manim-demopage/.venv_demo/lib/python3.12/site-packages/manim/scene/scene.py\u001b\\\u001b[2mscene.py\u001b[0m\u001b]8;;\u001b\\\u001b[2m:\u001b[0m\u001b]8;id=976961;file:///home/carlo/Desktop/single-projects/manim-demopage/.venv_demo/lib/python3.12/site-packages/manim/scene/scene.py#1044\u001b\\\u001b[2m1044\u001b[0m\u001b]8;;\u001b\\\n",
       "\u001b[2;36m                    \u001b[0m         seconds, is too short for the current frame rate of \u001b[32m60\u001b[0m FPS. \u001b[1;33mRendering\u001b[0m    \u001b[2m             \u001b[0m\n",
       "\u001b[2;36m                    \u001b[0m         with the shortest possible total run_time of \u001b[32m0.0166667\u001b[0m seconds instead.  \u001b[2m             \u001b[0m\n"
      ]
     },
     "metadata": {},
     "output_type": "display_data"
    },
    {
     "data": {
      "text/html": [
       "<pre style=\"white-space:pre;overflow-x:auto;line-height:normal;font-family:Menlo,'DejaVu Sans Mono',consolas,'Courier New',monospace\"><span style=\"color: #7fbfbf; text-decoration-color: #7fbfbf\">                    </span><span style=\"color: #800000; text-decoration-color: #800000\">WARNING </span> The original total run_time of <span style=\"color: #800080; text-decoration-color: #800080; font-weight: bold\">integration_index_Scene.play</span><span style=\"font-weight: bold\">()</span>, <span style=\"color: #008000; text-decoration-color: #008000\">0.010929</span>  <a href=\"file:///home/carlo/Desktop/single-projects/manim-demopage/.venv_demo/lib/python3.12/site-packages/manim/scene/scene.py\" target=\"_blank\"><span style=\"color: #7f7f7f; text-decoration-color: #7f7f7f\">scene.py</span></a><span style=\"color: #7f7f7f; text-decoration-color: #7f7f7f\">:</span><a href=\"file:///home/carlo/Desktop/single-projects/manim-demopage/.venv_demo/lib/python3.12/site-packages/manim/scene/scene.py#1044\" target=\"_blank\"><span style=\"color: #7f7f7f; text-decoration-color: #7f7f7f\">1044</span></a>\n",
       "<span style=\"color: #7fbfbf; text-decoration-color: #7fbfbf\">                    </span>         seconds, is too short for the current frame rate of <span style=\"color: #008000; text-decoration-color: #008000\">60</span> FPS. <span style=\"color: #808000; text-decoration-color: #808000; font-weight: bold\">Rendering</span>    <span style=\"color: #7f7f7f; text-decoration-color: #7f7f7f\">             </span>\n",
       "<span style=\"color: #7fbfbf; text-decoration-color: #7fbfbf\">                    </span>         with the shortest possible total run_time of <span style=\"color: #008000; text-decoration-color: #008000\">0.0166667</span> seconds instead.  <span style=\"color: #7f7f7f; text-decoration-color: #7f7f7f\">             </span>\n",
       "</pre>\n"
      ],
      "text/plain": [
       "\u001b[2;36m                   \u001b[0m\u001b[2;36m \u001b[0m\u001b[31mWARNING \u001b[0m The original total run_time of \u001b[1;35mintegration_index_Scene.play\u001b[0m\u001b[1m(\u001b[0m\u001b[1m)\u001b[0m, \u001b[32m0.010929\u001b[0m  \u001b]8;id=349585;file:///home/carlo/Desktop/single-projects/manim-demopage/.venv_demo/lib/python3.12/site-packages/manim/scene/scene.py\u001b\\\u001b[2mscene.py\u001b[0m\u001b]8;;\u001b\\\u001b[2m:\u001b[0m\u001b]8;id=998944;file:///home/carlo/Desktop/single-projects/manim-demopage/.venv_demo/lib/python3.12/site-packages/manim/scene/scene.py#1044\u001b\\\u001b[2m1044\u001b[0m\u001b]8;;\u001b\\\n",
       "\u001b[2;36m                    \u001b[0m         seconds, is too short for the current frame rate of \u001b[32m60\u001b[0m FPS. \u001b[1;33mRendering\u001b[0m    \u001b[2m             \u001b[0m\n",
       "\u001b[2;36m                    \u001b[0m         with the shortest possible total run_time of \u001b[32m0.0166667\u001b[0m seconds instead.  \u001b[2m             \u001b[0m\n"
      ]
     },
     "metadata": {},
     "output_type": "display_data"
    },
    {
     "data": {
      "text/html": [
       "<pre style=\"white-space:pre;overflow-x:auto;line-height:normal;font-family:Menlo,'DejaVu Sans Mono',consolas,'Courier New',monospace\"><span style=\"color: #7fbfbf; text-decoration-color: #7fbfbf\">                    </span><span style=\"color: #800000; text-decoration-color: #800000\">WARNING </span> The original total run_time of <span style=\"color: #800080; text-decoration-color: #800080; font-weight: bold\">integration_index_Scene.play</span><span style=\"font-weight: bold\">()</span>, <span style=\"color: #008000; text-decoration-color: #008000\">0.010929</span>  <a href=\"file:///home/carlo/Desktop/single-projects/manim-demopage/.venv_demo/lib/python3.12/site-packages/manim/scene/scene.py\" target=\"_blank\"><span style=\"color: #7f7f7f; text-decoration-color: #7f7f7f\">scene.py</span></a><span style=\"color: #7f7f7f; text-decoration-color: #7f7f7f\">:</span><a href=\"file:///home/carlo/Desktop/single-projects/manim-demopage/.venv_demo/lib/python3.12/site-packages/manim/scene/scene.py#1044\" target=\"_blank\"><span style=\"color: #7f7f7f; text-decoration-color: #7f7f7f\">1044</span></a>\n",
       "<span style=\"color: #7fbfbf; text-decoration-color: #7fbfbf\">                    </span>         seconds, is too short for the current frame rate of <span style=\"color: #008000; text-decoration-color: #008000\">60</span> FPS. <span style=\"color: #808000; text-decoration-color: #808000; font-weight: bold\">Rendering</span>    <span style=\"color: #7f7f7f; text-decoration-color: #7f7f7f\">             </span>\n",
       "<span style=\"color: #7fbfbf; text-decoration-color: #7fbfbf\">                    </span>         with the shortest possible total run_time of <span style=\"color: #008000; text-decoration-color: #008000\">0.0166667</span> seconds instead.  <span style=\"color: #7f7f7f; text-decoration-color: #7f7f7f\">             </span>\n",
       "</pre>\n"
      ],
      "text/plain": [
       "\u001b[2;36m                   \u001b[0m\u001b[2;36m \u001b[0m\u001b[31mWARNING \u001b[0m The original total run_time of \u001b[1;35mintegration_index_Scene.play\u001b[0m\u001b[1m(\u001b[0m\u001b[1m)\u001b[0m, \u001b[32m0.010929\u001b[0m  \u001b]8;id=763468;file:///home/carlo/Desktop/single-projects/manim-demopage/.venv_demo/lib/python3.12/site-packages/manim/scene/scene.py\u001b\\\u001b[2mscene.py\u001b[0m\u001b]8;;\u001b\\\u001b[2m:\u001b[0m\u001b]8;id=336956;file:///home/carlo/Desktop/single-projects/manim-demopage/.venv_demo/lib/python3.12/site-packages/manim/scene/scene.py#1044\u001b\\\u001b[2m1044\u001b[0m\u001b]8;;\u001b\\\n",
       "\u001b[2;36m                    \u001b[0m         seconds, is too short for the current frame rate of \u001b[32m60\u001b[0m FPS. \u001b[1;33mRendering\u001b[0m    \u001b[2m             \u001b[0m\n",
       "\u001b[2;36m                    \u001b[0m         with the shortest possible total run_time of \u001b[32m0.0166667\u001b[0m seconds instead.  \u001b[2m             \u001b[0m\n"
      ]
     },
     "metadata": {},
     "output_type": "display_data"
    },
    {
     "data": {
      "text/html": [
       "<pre style=\"white-space:pre;overflow-x:auto;line-height:normal;font-family:Menlo,'DejaVu Sans Mono',consolas,'Courier New',monospace\"><span style=\"color: #7fbfbf; text-decoration-color: #7fbfbf\">[01/23/25 11:27:14] </span><span style=\"color: #800000; text-decoration-color: #800000\">WARNING </span> The original total run_time of <span style=\"color: #800080; text-decoration-color: #800080; font-weight: bold\">integration_index_Scene.play</span><span style=\"font-weight: bold\">()</span>, <span style=\"color: #008000; text-decoration-color: #008000\">0.0108696</span> <a href=\"file:///home/carlo/Desktop/single-projects/manim-demopage/.venv_demo/lib/python3.12/site-packages/manim/scene/scene.py\" target=\"_blank\"><span style=\"color: #7f7f7f; text-decoration-color: #7f7f7f\">scene.py</span></a><span style=\"color: #7f7f7f; text-decoration-color: #7f7f7f\">:</span><a href=\"file:///home/carlo/Desktop/single-projects/manim-demopage/.venv_demo/lib/python3.12/site-packages/manim/scene/scene.py#1044\" target=\"_blank\"><span style=\"color: #7f7f7f; text-decoration-color: #7f7f7f\">1044</span></a>\n",
       "<span style=\"color: #7fbfbf; text-decoration-color: #7fbfbf\">                    </span>         seconds, is too short for the current frame rate of <span style=\"color: #008000; text-decoration-color: #008000\">60</span> FPS. <span style=\"color: #808000; text-decoration-color: #808000; font-weight: bold\">Rendering</span>    <span style=\"color: #7f7f7f; text-decoration-color: #7f7f7f\">             </span>\n",
       "<span style=\"color: #7fbfbf; text-decoration-color: #7fbfbf\">                    </span>         with the shortest possible total run_time of <span style=\"color: #008000; text-decoration-color: #008000\">0.0166667</span> seconds instead.  <span style=\"color: #7f7f7f; text-decoration-color: #7f7f7f\">             </span>\n",
       "</pre>\n"
      ],
      "text/plain": [
       "\u001b[2;36m[01/23/25 11:27:14]\u001b[0m\u001b[2;36m \u001b[0m\u001b[31mWARNING \u001b[0m The original total run_time of \u001b[1;35mintegration_index_Scene.play\u001b[0m\u001b[1m(\u001b[0m\u001b[1m)\u001b[0m, \u001b[32m0.0108696\u001b[0m \u001b]8;id=992102;file:///home/carlo/Desktop/single-projects/manim-demopage/.venv_demo/lib/python3.12/site-packages/manim/scene/scene.py\u001b\\\u001b[2mscene.py\u001b[0m\u001b]8;;\u001b\\\u001b[2m:\u001b[0m\u001b]8;id=895244;file:///home/carlo/Desktop/single-projects/manim-demopage/.venv_demo/lib/python3.12/site-packages/manim/scene/scene.py#1044\u001b\\\u001b[2m1044\u001b[0m\u001b]8;;\u001b\\\n",
       "\u001b[2;36m                    \u001b[0m         seconds, is too short for the current frame rate of \u001b[32m60\u001b[0m FPS. \u001b[1;33mRendering\u001b[0m    \u001b[2m             \u001b[0m\n",
       "\u001b[2;36m                    \u001b[0m         with the shortest possible total run_time of \u001b[32m0.0166667\u001b[0m seconds instead.  \u001b[2m             \u001b[0m\n"
      ]
     },
     "metadata": {},
     "output_type": "display_data"
    },
    {
     "data": {
      "text/html": [
       "<pre style=\"white-space:pre;overflow-x:auto;line-height:normal;font-family:Menlo,'DejaVu Sans Mono',consolas,'Courier New',monospace\"><span style=\"color: #7fbfbf; text-decoration-color: #7fbfbf\">                    </span><span style=\"color: #800000; text-decoration-color: #800000\">WARNING </span> The original total run_time of <span style=\"color: #800080; text-decoration-color: #800080; font-weight: bold\">integration_index_Scene.play</span><span style=\"font-weight: bold\">()</span>, <span style=\"color: #008000; text-decoration-color: #008000\">0.0108696</span> <a href=\"file:///home/carlo/Desktop/single-projects/manim-demopage/.venv_demo/lib/python3.12/site-packages/manim/scene/scene.py\" target=\"_blank\"><span style=\"color: #7f7f7f; text-decoration-color: #7f7f7f\">scene.py</span></a><span style=\"color: #7f7f7f; text-decoration-color: #7f7f7f\">:</span><a href=\"file:///home/carlo/Desktop/single-projects/manim-demopage/.venv_demo/lib/python3.12/site-packages/manim/scene/scene.py#1044\" target=\"_blank\"><span style=\"color: #7f7f7f; text-decoration-color: #7f7f7f\">1044</span></a>\n",
       "<span style=\"color: #7fbfbf; text-decoration-color: #7fbfbf\">                    </span>         seconds, is too short for the current frame rate of <span style=\"color: #008000; text-decoration-color: #008000\">60</span> FPS. <span style=\"color: #808000; text-decoration-color: #808000; font-weight: bold\">Rendering</span>    <span style=\"color: #7f7f7f; text-decoration-color: #7f7f7f\">             </span>\n",
       "<span style=\"color: #7fbfbf; text-decoration-color: #7fbfbf\">                    </span>         with the shortest possible total run_time of <span style=\"color: #008000; text-decoration-color: #008000\">0.0166667</span> seconds instead.  <span style=\"color: #7f7f7f; text-decoration-color: #7f7f7f\">             </span>\n",
       "</pre>\n"
      ],
      "text/plain": [
       "\u001b[2;36m                   \u001b[0m\u001b[2;36m \u001b[0m\u001b[31mWARNING \u001b[0m The original total run_time of \u001b[1;35mintegration_index_Scene.play\u001b[0m\u001b[1m(\u001b[0m\u001b[1m)\u001b[0m, \u001b[32m0.0108696\u001b[0m \u001b]8;id=745616;file:///home/carlo/Desktop/single-projects/manim-demopage/.venv_demo/lib/python3.12/site-packages/manim/scene/scene.py\u001b\\\u001b[2mscene.py\u001b[0m\u001b]8;;\u001b\\\u001b[2m:\u001b[0m\u001b]8;id=847864;file:///home/carlo/Desktop/single-projects/manim-demopage/.venv_demo/lib/python3.12/site-packages/manim/scene/scene.py#1044\u001b\\\u001b[2m1044\u001b[0m\u001b]8;;\u001b\\\n",
       "\u001b[2;36m                    \u001b[0m         seconds, is too short for the current frame rate of \u001b[32m60\u001b[0m FPS. \u001b[1;33mRendering\u001b[0m    \u001b[2m             \u001b[0m\n",
       "\u001b[2;36m                    \u001b[0m         with the shortest possible total run_time of \u001b[32m0.0166667\u001b[0m seconds instead.  \u001b[2m             \u001b[0m\n"
      ]
     },
     "metadata": {},
     "output_type": "display_data"
    },
    {
     "data": {
      "text/html": [
       "<pre style=\"white-space:pre;overflow-x:auto;line-height:normal;font-family:Menlo,'DejaVu Sans Mono',consolas,'Courier New',monospace\"><span style=\"color: #7fbfbf; text-decoration-color: #7fbfbf\">                    </span><span style=\"color: #800000; text-decoration-color: #800000\">WARNING </span> The original total run_time of <span style=\"color: #800080; text-decoration-color: #800080; font-weight: bold\">integration_index_Scene.play</span><span style=\"font-weight: bold\">()</span>, <span style=\"color: #008000; text-decoration-color: #008000\">0.0108108</span> <a href=\"file:///home/carlo/Desktop/single-projects/manim-demopage/.venv_demo/lib/python3.12/site-packages/manim/scene/scene.py\" target=\"_blank\"><span style=\"color: #7f7f7f; text-decoration-color: #7f7f7f\">scene.py</span></a><span style=\"color: #7f7f7f; text-decoration-color: #7f7f7f\">:</span><a href=\"file:///home/carlo/Desktop/single-projects/manim-demopage/.venv_demo/lib/python3.12/site-packages/manim/scene/scene.py#1044\" target=\"_blank\"><span style=\"color: #7f7f7f; text-decoration-color: #7f7f7f\">1044</span></a>\n",
       "<span style=\"color: #7fbfbf; text-decoration-color: #7fbfbf\">                    </span>         seconds, is too short for the current frame rate of <span style=\"color: #008000; text-decoration-color: #008000\">60</span> FPS. <span style=\"color: #808000; text-decoration-color: #808000; font-weight: bold\">Rendering</span>    <span style=\"color: #7f7f7f; text-decoration-color: #7f7f7f\">             </span>\n",
       "<span style=\"color: #7fbfbf; text-decoration-color: #7fbfbf\">                    </span>         with the shortest possible total run_time of <span style=\"color: #008000; text-decoration-color: #008000\">0.0166667</span> seconds instead.  <span style=\"color: #7f7f7f; text-decoration-color: #7f7f7f\">             </span>\n",
       "</pre>\n"
      ],
      "text/plain": [
       "\u001b[2;36m                   \u001b[0m\u001b[2;36m \u001b[0m\u001b[31mWARNING \u001b[0m The original total run_time of \u001b[1;35mintegration_index_Scene.play\u001b[0m\u001b[1m(\u001b[0m\u001b[1m)\u001b[0m, \u001b[32m0.0108108\u001b[0m \u001b]8;id=473569;file:///home/carlo/Desktop/single-projects/manim-demopage/.venv_demo/lib/python3.12/site-packages/manim/scene/scene.py\u001b\\\u001b[2mscene.py\u001b[0m\u001b]8;;\u001b\\\u001b[2m:\u001b[0m\u001b]8;id=244010;file:///home/carlo/Desktop/single-projects/manim-demopage/.venv_demo/lib/python3.12/site-packages/manim/scene/scene.py#1044\u001b\\\u001b[2m1044\u001b[0m\u001b]8;;\u001b\\\n",
       "\u001b[2;36m                    \u001b[0m         seconds, is too short for the current frame rate of \u001b[32m60\u001b[0m FPS. \u001b[1;33mRendering\u001b[0m    \u001b[2m             \u001b[0m\n",
       "\u001b[2;36m                    \u001b[0m         with the shortest possible total run_time of \u001b[32m0.0166667\u001b[0m seconds instead.  \u001b[2m             \u001b[0m\n"
      ]
     },
     "metadata": {},
     "output_type": "display_data"
    },
    {
     "data": {
      "text/html": [
       "<pre style=\"white-space:pre;overflow-x:auto;line-height:normal;font-family:Menlo,'DejaVu Sans Mono',consolas,'Courier New',monospace\"><span style=\"color: #7fbfbf; text-decoration-color: #7fbfbf\">                    </span><span style=\"color: #800000; text-decoration-color: #800000\">WARNING </span> The original total run_time of <span style=\"color: #800080; text-decoration-color: #800080; font-weight: bold\">integration_index_Scene.play</span><span style=\"font-weight: bold\">()</span>, <span style=\"color: #008000; text-decoration-color: #008000\">0.0108108</span> <a href=\"file:///home/carlo/Desktop/single-projects/manim-demopage/.venv_demo/lib/python3.12/site-packages/manim/scene/scene.py\" target=\"_blank\"><span style=\"color: #7f7f7f; text-decoration-color: #7f7f7f\">scene.py</span></a><span style=\"color: #7f7f7f; text-decoration-color: #7f7f7f\">:</span><a href=\"file:///home/carlo/Desktop/single-projects/manim-demopage/.venv_demo/lib/python3.12/site-packages/manim/scene/scene.py#1044\" target=\"_blank\"><span style=\"color: #7f7f7f; text-decoration-color: #7f7f7f\">1044</span></a>\n",
       "<span style=\"color: #7fbfbf; text-decoration-color: #7fbfbf\">                    </span>         seconds, is too short for the current frame rate of <span style=\"color: #008000; text-decoration-color: #008000\">60</span> FPS. <span style=\"color: #808000; text-decoration-color: #808000; font-weight: bold\">Rendering</span>    <span style=\"color: #7f7f7f; text-decoration-color: #7f7f7f\">             </span>\n",
       "<span style=\"color: #7fbfbf; text-decoration-color: #7fbfbf\">                    </span>         with the shortest possible total run_time of <span style=\"color: #008000; text-decoration-color: #008000\">0.0166667</span> seconds instead.  <span style=\"color: #7f7f7f; text-decoration-color: #7f7f7f\">             </span>\n",
       "</pre>\n"
      ],
      "text/plain": [
       "\u001b[2;36m                   \u001b[0m\u001b[2;36m \u001b[0m\u001b[31mWARNING \u001b[0m The original total run_time of \u001b[1;35mintegration_index_Scene.play\u001b[0m\u001b[1m(\u001b[0m\u001b[1m)\u001b[0m, \u001b[32m0.0108108\u001b[0m \u001b]8;id=990999;file:///home/carlo/Desktop/single-projects/manim-demopage/.venv_demo/lib/python3.12/site-packages/manim/scene/scene.py\u001b\\\u001b[2mscene.py\u001b[0m\u001b]8;;\u001b\\\u001b[2m:\u001b[0m\u001b]8;id=650985;file:///home/carlo/Desktop/single-projects/manim-demopage/.venv_demo/lib/python3.12/site-packages/manim/scene/scene.py#1044\u001b\\\u001b[2m1044\u001b[0m\u001b]8;;\u001b\\\n",
       "\u001b[2;36m                    \u001b[0m         seconds, is too short for the current frame rate of \u001b[32m60\u001b[0m FPS. \u001b[1;33mRendering\u001b[0m    \u001b[2m             \u001b[0m\n",
       "\u001b[2;36m                    \u001b[0m         with the shortest possible total run_time of \u001b[32m0.0166667\u001b[0m seconds instead.  \u001b[2m             \u001b[0m\n"
      ]
     },
     "metadata": {},
     "output_type": "display_data"
    },
    {
     "data": {
      "text/html": [
       "<pre style=\"white-space:pre;overflow-x:auto;line-height:normal;font-family:Menlo,'DejaVu Sans Mono',consolas,'Courier New',monospace\"><span style=\"color: #7fbfbf; text-decoration-color: #7fbfbf\">                    </span><span style=\"color: #800000; text-decoration-color: #800000\">WARNING </span> The original total run_time of <span style=\"color: #800080; text-decoration-color: #800080; font-weight: bold\">integration_index_Scene.play</span><span style=\"font-weight: bold\">()</span>, <span style=\"color: #008000; text-decoration-color: #008000\">0.0107527</span> <a href=\"file:///home/carlo/Desktop/single-projects/manim-demopage/.venv_demo/lib/python3.12/site-packages/manim/scene/scene.py\" target=\"_blank\"><span style=\"color: #7f7f7f; text-decoration-color: #7f7f7f\">scene.py</span></a><span style=\"color: #7f7f7f; text-decoration-color: #7f7f7f\">:</span><a href=\"file:///home/carlo/Desktop/single-projects/manim-demopage/.venv_demo/lib/python3.12/site-packages/manim/scene/scene.py#1044\" target=\"_blank\"><span style=\"color: #7f7f7f; text-decoration-color: #7f7f7f\">1044</span></a>\n",
       "<span style=\"color: #7fbfbf; text-decoration-color: #7fbfbf\">                    </span>         seconds, is too short for the current frame rate of <span style=\"color: #008000; text-decoration-color: #008000\">60</span> FPS. <span style=\"color: #808000; text-decoration-color: #808000; font-weight: bold\">Rendering</span>    <span style=\"color: #7f7f7f; text-decoration-color: #7f7f7f\">             </span>\n",
       "<span style=\"color: #7fbfbf; text-decoration-color: #7fbfbf\">                    </span>         with the shortest possible total run_time of <span style=\"color: #008000; text-decoration-color: #008000\">0.0166667</span> seconds instead.  <span style=\"color: #7f7f7f; text-decoration-color: #7f7f7f\">             </span>\n",
       "</pre>\n"
      ],
      "text/plain": [
       "\u001b[2;36m                   \u001b[0m\u001b[2;36m \u001b[0m\u001b[31mWARNING \u001b[0m The original total run_time of \u001b[1;35mintegration_index_Scene.play\u001b[0m\u001b[1m(\u001b[0m\u001b[1m)\u001b[0m, \u001b[32m0.0107527\u001b[0m \u001b]8;id=299976;file:///home/carlo/Desktop/single-projects/manim-demopage/.venv_demo/lib/python3.12/site-packages/manim/scene/scene.py\u001b\\\u001b[2mscene.py\u001b[0m\u001b]8;;\u001b\\\u001b[2m:\u001b[0m\u001b]8;id=169231;file:///home/carlo/Desktop/single-projects/manim-demopage/.venv_demo/lib/python3.12/site-packages/manim/scene/scene.py#1044\u001b\\\u001b[2m1044\u001b[0m\u001b]8;;\u001b\\\n",
       "\u001b[2;36m                    \u001b[0m         seconds, is too short for the current frame rate of \u001b[32m60\u001b[0m FPS. \u001b[1;33mRendering\u001b[0m    \u001b[2m             \u001b[0m\n",
       "\u001b[2;36m                    \u001b[0m         with the shortest possible total run_time of \u001b[32m0.0166667\u001b[0m seconds instead.  \u001b[2m             \u001b[0m\n"
      ]
     },
     "metadata": {},
     "output_type": "display_data"
    },
    {
     "data": {
      "text/html": [
       "<pre style=\"white-space:pre;overflow-x:auto;line-height:normal;font-family:Menlo,'DejaVu Sans Mono',consolas,'Courier New',monospace\"><span style=\"color: #7fbfbf; text-decoration-color: #7fbfbf\">                    </span><span style=\"color: #800000; text-decoration-color: #800000\">WARNING </span> The original total run_time of <span style=\"color: #800080; text-decoration-color: #800080; font-weight: bold\">integration_index_Scene.play</span><span style=\"font-weight: bold\">()</span>, <span style=\"color: #008000; text-decoration-color: #008000\">0.0107527</span> <a href=\"file:///home/carlo/Desktop/single-projects/manim-demopage/.venv_demo/lib/python3.12/site-packages/manim/scene/scene.py\" target=\"_blank\"><span style=\"color: #7f7f7f; text-decoration-color: #7f7f7f\">scene.py</span></a><span style=\"color: #7f7f7f; text-decoration-color: #7f7f7f\">:</span><a href=\"file:///home/carlo/Desktop/single-projects/manim-demopage/.venv_demo/lib/python3.12/site-packages/manim/scene/scene.py#1044\" target=\"_blank\"><span style=\"color: #7f7f7f; text-decoration-color: #7f7f7f\">1044</span></a>\n",
       "<span style=\"color: #7fbfbf; text-decoration-color: #7fbfbf\">                    </span>         seconds, is too short for the current frame rate of <span style=\"color: #008000; text-decoration-color: #008000\">60</span> FPS. <span style=\"color: #808000; text-decoration-color: #808000; font-weight: bold\">Rendering</span>    <span style=\"color: #7f7f7f; text-decoration-color: #7f7f7f\">             </span>\n",
       "<span style=\"color: #7fbfbf; text-decoration-color: #7fbfbf\">                    </span>         with the shortest possible total run_time of <span style=\"color: #008000; text-decoration-color: #008000\">0.0166667</span> seconds instead.  <span style=\"color: #7f7f7f; text-decoration-color: #7f7f7f\">             </span>\n",
       "</pre>\n"
      ],
      "text/plain": [
       "\u001b[2;36m                   \u001b[0m\u001b[2;36m \u001b[0m\u001b[31mWARNING \u001b[0m The original total run_time of \u001b[1;35mintegration_index_Scene.play\u001b[0m\u001b[1m(\u001b[0m\u001b[1m)\u001b[0m, \u001b[32m0.0107527\u001b[0m \u001b]8;id=197302;file:///home/carlo/Desktop/single-projects/manim-demopage/.venv_demo/lib/python3.12/site-packages/manim/scene/scene.py\u001b\\\u001b[2mscene.py\u001b[0m\u001b]8;;\u001b\\\u001b[2m:\u001b[0m\u001b]8;id=818656;file:///home/carlo/Desktop/single-projects/manim-demopage/.venv_demo/lib/python3.12/site-packages/manim/scene/scene.py#1044\u001b\\\u001b[2m1044\u001b[0m\u001b]8;;\u001b\\\n",
       "\u001b[2;36m                    \u001b[0m         seconds, is too short for the current frame rate of \u001b[32m60\u001b[0m FPS. \u001b[1;33mRendering\u001b[0m    \u001b[2m             \u001b[0m\n",
       "\u001b[2;36m                    \u001b[0m         with the shortest possible total run_time of \u001b[32m0.0166667\u001b[0m seconds instead.  \u001b[2m             \u001b[0m\n"
      ]
     },
     "metadata": {},
     "output_type": "display_data"
    },
    {
     "data": {
      "text/html": [
       "<pre style=\"white-space:pre;overflow-x:auto;line-height:normal;font-family:Menlo,'DejaVu Sans Mono',consolas,'Courier New',monospace\"><span style=\"color: #7fbfbf; text-decoration-color: #7fbfbf\">                    </span><span style=\"color: #800000; text-decoration-color: #800000\">WARNING </span> The original total run_time of <span style=\"color: #800080; text-decoration-color: #800080; font-weight: bold\">integration_index_Scene.play</span><span style=\"font-weight: bold\">()</span>, <span style=\"color: #008000; text-decoration-color: #008000\">0.0106952</span> <a href=\"file:///home/carlo/Desktop/single-projects/manim-demopage/.venv_demo/lib/python3.12/site-packages/manim/scene/scene.py\" target=\"_blank\"><span style=\"color: #7f7f7f; text-decoration-color: #7f7f7f\">scene.py</span></a><span style=\"color: #7f7f7f; text-decoration-color: #7f7f7f\">:</span><a href=\"file:///home/carlo/Desktop/single-projects/manim-demopage/.venv_demo/lib/python3.12/site-packages/manim/scene/scene.py#1044\" target=\"_blank\"><span style=\"color: #7f7f7f; text-decoration-color: #7f7f7f\">1044</span></a>\n",
       "<span style=\"color: #7fbfbf; text-decoration-color: #7fbfbf\">                    </span>         seconds, is too short for the current frame rate of <span style=\"color: #008000; text-decoration-color: #008000\">60</span> FPS. <span style=\"color: #808000; text-decoration-color: #808000; font-weight: bold\">Rendering</span>    <span style=\"color: #7f7f7f; text-decoration-color: #7f7f7f\">             </span>\n",
       "<span style=\"color: #7fbfbf; text-decoration-color: #7fbfbf\">                    </span>         with the shortest possible total run_time of <span style=\"color: #008000; text-decoration-color: #008000\">0.0166667</span> seconds instead.  <span style=\"color: #7f7f7f; text-decoration-color: #7f7f7f\">             </span>\n",
       "</pre>\n"
      ],
      "text/plain": [
       "\u001b[2;36m                   \u001b[0m\u001b[2;36m \u001b[0m\u001b[31mWARNING \u001b[0m The original total run_time of \u001b[1;35mintegration_index_Scene.play\u001b[0m\u001b[1m(\u001b[0m\u001b[1m)\u001b[0m, \u001b[32m0.0106952\u001b[0m \u001b]8;id=775078;file:///home/carlo/Desktop/single-projects/manim-demopage/.venv_demo/lib/python3.12/site-packages/manim/scene/scene.py\u001b\\\u001b[2mscene.py\u001b[0m\u001b]8;;\u001b\\\u001b[2m:\u001b[0m\u001b]8;id=568775;file:///home/carlo/Desktop/single-projects/manim-demopage/.venv_demo/lib/python3.12/site-packages/manim/scene/scene.py#1044\u001b\\\u001b[2m1044\u001b[0m\u001b]8;;\u001b\\\n",
       "\u001b[2;36m                    \u001b[0m         seconds, is too short for the current frame rate of \u001b[32m60\u001b[0m FPS. \u001b[1;33mRendering\u001b[0m    \u001b[2m             \u001b[0m\n",
       "\u001b[2;36m                    \u001b[0m         with the shortest possible total run_time of \u001b[32m0.0166667\u001b[0m seconds instead.  \u001b[2m             \u001b[0m\n"
      ]
     },
     "metadata": {},
     "output_type": "display_data"
    },
    {
     "data": {
      "text/html": [
       "<pre style=\"white-space:pre;overflow-x:auto;line-height:normal;font-family:Menlo,'DejaVu Sans Mono',consolas,'Courier New',monospace\"><span style=\"color: #7fbfbf; text-decoration-color: #7fbfbf\">                    </span><span style=\"color: #800000; text-decoration-color: #800000\">WARNING </span> The original total run_time of <span style=\"color: #800080; text-decoration-color: #800080; font-weight: bold\">integration_index_Scene.play</span><span style=\"font-weight: bold\">()</span>, <span style=\"color: #008000; text-decoration-color: #008000\">0.0106952</span> <a href=\"file:///home/carlo/Desktop/single-projects/manim-demopage/.venv_demo/lib/python3.12/site-packages/manim/scene/scene.py\" target=\"_blank\"><span style=\"color: #7f7f7f; text-decoration-color: #7f7f7f\">scene.py</span></a><span style=\"color: #7f7f7f; text-decoration-color: #7f7f7f\">:</span><a href=\"file:///home/carlo/Desktop/single-projects/manim-demopage/.venv_demo/lib/python3.12/site-packages/manim/scene/scene.py#1044\" target=\"_blank\"><span style=\"color: #7f7f7f; text-decoration-color: #7f7f7f\">1044</span></a>\n",
       "<span style=\"color: #7fbfbf; text-decoration-color: #7fbfbf\">                    </span>         seconds, is too short for the current frame rate of <span style=\"color: #008000; text-decoration-color: #008000\">60</span> FPS. <span style=\"color: #808000; text-decoration-color: #808000; font-weight: bold\">Rendering</span>    <span style=\"color: #7f7f7f; text-decoration-color: #7f7f7f\">             </span>\n",
       "<span style=\"color: #7fbfbf; text-decoration-color: #7fbfbf\">                    </span>         with the shortest possible total run_time of <span style=\"color: #008000; text-decoration-color: #008000\">0.0166667</span> seconds instead.  <span style=\"color: #7f7f7f; text-decoration-color: #7f7f7f\">             </span>\n",
       "</pre>\n"
      ],
      "text/plain": [
       "\u001b[2;36m                   \u001b[0m\u001b[2;36m \u001b[0m\u001b[31mWARNING \u001b[0m The original total run_time of \u001b[1;35mintegration_index_Scene.play\u001b[0m\u001b[1m(\u001b[0m\u001b[1m)\u001b[0m, \u001b[32m0.0106952\u001b[0m \u001b]8;id=608265;file:///home/carlo/Desktop/single-projects/manim-demopage/.venv_demo/lib/python3.12/site-packages/manim/scene/scene.py\u001b\\\u001b[2mscene.py\u001b[0m\u001b]8;;\u001b\\\u001b[2m:\u001b[0m\u001b]8;id=366427;file:///home/carlo/Desktop/single-projects/manim-demopage/.venv_demo/lib/python3.12/site-packages/manim/scene/scene.py#1044\u001b\\\u001b[2m1044\u001b[0m\u001b]8;;\u001b\\\n",
       "\u001b[2;36m                    \u001b[0m         seconds, is too short for the current frame rate of \u001b[32m60\u001b[0m FPS. \u001b[1;33mRendering\u001b[0m    \u001b[2m             \u001b[0m\n",
       "\u001b[2;36m                    \u001b[0m         with the shortest possible total run_time of \u001b[32m0.0166667\u001b[0m seconds instead.  \u001b[2m             \u001b[0m\n"
      ]
     },
     "metadata": {},
     "output_type": "display_data"
    },
    {
     "data": {
      "text/html": [
       "<pre style=\"white-space:pre;overflow-x:auto;line-height:normal;font-family:Menlo,'DejaVu Sans Mono',consolas,'Courier New',monospace\"><span style=\"color: #7fbfbf; text-decoration-color: #7fbfbf\">                    </span><span style=\"color: #800000; text-decoration-color: #800000\">WARNING </span> The original total run_time of <span style=\"color: #800080; text-decoration-color: #800080; font-weight: bold\">integration_index_Scene.play</span><span style=\"font-weight: bold\">()</span>, <span style=\"color: #008000; text-decoration-color: #008000\">0.0106383</span> <a href=\"file:///home/carlo/Desktop/single-projects/manim-demopage/.venv_demo/lib/python3.12/site-packages/manim/scene/scene.py\" target=\"_blank\"><span style=\"color: #7f7f7f; text-decoration-color: #7f7f7f\">scene.py</span></a><span style=\"color: #7f7f7f; text-decoration-color: #7f7f7f\">:</span><a href=\"file:///home/carlo/Desktop/single-projects/manim-demopage/.venv_demo/lib/python3.12/site-packages/manim/scene/scene.py#1044\" target=\"_blank\"><span style=\"color: #7f7f7f; text-decoration-color: #7f7f7f\">1044</span></a>\n",
       "<span style=\"color: #7fbfbf; text-decoration-color: #7fbfbf\">                    </span>         seconds, is too short for the current frame rate of <span style=\"color: #008000; text-decoration-color: #008000\">60</span> FPS. <span style=\"color: #808000; text-decoration-color: #808000; font-weight: bold\">Rendering</span>    <span style=\"color: #7f7f7f; text-decoration-color: #7f7f7f\">             </span>\n",
       "<span style=\"color: #7fbfbf; text-decoration-color: #7fbfbf\">                    </span>         with the shortest possible total run_time of <span style=\"color: #008000; text-decoration-color: #008000\">0.0166667</span> seconds instead.  <span style=\"color: #7f7f7f; text-decoration-color: #7f7f7f\">             </span>\n",
       "</pre>\n"
      ],
      "text/plain": [
       "\u001b[2;36m                   \u001b[0m\u001b[2;36m \u001b[0m\u001b[31mWARNING \u001b[0m The original total run_time of \u001b[1;35mintegration_index_Scene.play\u001b[0m\u001b[1m(\u001b[0m\u001b[1m)\u001b[0m, \u001b[32m0.0106383\u001b[0m \u001b]8;id=898795;file:///home/carlo/Desktop/single-projects/manim-demopage/.venv_demo/lib/python3.12/site-packages/manim/scene/scene.py\u001b\\\u001b[2mscene.py\u001b[0m\u001b]8;;\u001b\\\u001b[2m:\u001b[0m\u001b]8;id=590313;file:///home/carlo/Desktop/single-projects/manim-demopage/.venv_demo/lib/python3.12/site-packages/manim/scene/scene.py#1044\u001b\\\u001b[2m1044\u001b[0m\u001b]8;;\u001b\\\n",
       "\u001b[2;36m                    \u001b[0m         seconds, is too short for the current frame rate of \u001b[32m60\u001b[0m FPS. \u001b[1;33mRendering\u001b[0m    \u001b[2m             \u001b[0m\n",
       "\u001b[2;36m                    \u001b[0m         with the shortest possible total run_time of \u001b[32m0.0166667\u001b[0m seconds instead.  \u001b[2m             \u001b[0m\n"
      ]
     },
     "metadata": {},
     "output_type": "display_data"
    },
    {
     "data": {
      "text/html": [
       "<pre style=\"white-space:pre;overflow-x:auto;line-height:normal;font-family:Menlo,'DejaVu Sans Mono',consolas,'Courier New',monospace\"><span style=\"color: #7fbfbf; text-decoration-color: #7fbfbf\">                    </span><span style=\"color: #800000; text-decoration-color: #800000\">WARNING </span> The original total run_time of <span style=\"color: #800080; text-decoration-color: #800080; font-weight: bold\">integration_index_Scene.play</span><span style=\"font-weight: bold\">()</span>, <span style=\"color: #008000; text-decoration-color: #008000\">0.0106383</span> <a href=\"file:///home/carlo/Desktop/single-projects/manim-demopage/.venv_demo/lib/python3.12/site-packages/manim/scene/scene.py\" target=\"_blank\"><span style=\"color: #7f7f7f; text-decoration-color: #7f7f7f\">scene.py</span></a><span style=\"color: #7f7f7f; text-decoration-color: #7f7f7f\">:</span><a href=\"file:///home/carlo/Desktop/single-projects/manim-demopage/.venv_demo/lib/python3.12/site-packages/manim/scene/scene.py#1044\" target=\"_blank\"><span style=\"color: #7f7f7f; text-decoration-color: #7f7f7f\">1044</span></a>\n",
       "<span style=\"color: #7fbfbf; text-decoration-color: #7fbfbf\">                    </span>         seconds, is too short for the current frame rate of <span style=\"color: #008000; text-decoration-color: #008000\">60</span> FPS. <span style=\"color: #808000; text-decoration-color: #808000; font-weight: bold\">Rendering</span>    <span style=\"color: #7f7f7f; text-decoration-color: #7f7f7f\">             </span>\n",
       "<span style=\"color: #7fbfbf; text-decoration-color: #7fbfbf\">                    </span>         with the shortest possible total run_time of <span style=\"color: #008000; text-decoration-color: #008000\">0.0166667</span> seconds instead.  <span style=\"color: #7f7f7f; text-decoration-color: #7f7f7f\">             </span>\n",
       "</pre>\n"
      ],
      "text/plain": [
       "\u001b[2;36m                   \u001b[0m\u001b[2;36m \u001b[0m\u001b[31mWARNING \u001b[0m The original total run_time of \u001b[1;35mintegration_index_Scene.play\u001b[0m\u001b[1m(\u001b[0m\u001b[1m)\u001b[0m, \u001b[32m0.0106383\u001b[0m \u001b]8;id=446555;file:///home/carlo/Desktop/single-projects/manim-demopage/.venv_demo/lib/python3.12/site-packages/manim/scene/scene.py\u001b\\\u001b[2mscene.py\u001b[0m\u001b]8;;\u001b\\\u001b[2m:\u001b[0m\u001b]8;id=10805;file:///home/carlo/Desktop/single-projects/manim-demopage/.venv_demo/lib/python3.12/site-packages/manim/scene/scene.py#1044\u001b\\\u001b[2m1044\u001b[0m\u001b]8;;\u001b\\\n",
       "\u001b[2;36m                    \u001b[0m         seconds, is too short for the current frame rate of \u001b[32m60\u001b[0m FPS. \u001b[1;33mRendering\u001b[0m    \u001b[2m             \u001b[0m\n",
       "\u001b[2;36m                    \u001b[0m         with the shortest possible total run_time of \u001b[32m0.0166667\u001b[0m seconds instead.  \u001b[2m             \u001b[0m\n"
      ]
     },
     "metadata": {},
     "output_type": "display_data"
    },
    {
     "data": {
      "text/html": [
       "<pre style=\"white-space:pre;overflow-x:auto;line-height:normal;font-family:Menlo,'DejaVu Sans Mono',consolas,'Courier New',monospace\"><span style=\"color: #7fbfbf; text-decoration-color: #7fbfbf\">[01/23/25 11:27:15] </span><span style=\"color: #800000; text-decoration-color: #800000\">WARNING </span> The original total run_time of <span style=\"color: #800080; text-decoration-color: #800080; font-weight: bold\">integration_index_Scene.play</span><span style=\"font-weight: bold\">()</span>, <span style=\"color: #008000; text-decoration-color: #008000\">0.010582</span>  <a href=\"file:///home/carlo/Desktop/single-projects/manim-demopage/.venv_demo/lib/python3.12/site-packages/manim/scene/scene.py\" target=\"_blank\"><span style=\"color: #7f7f7f; text-decoration-color: #7f7f7f\">scene.py</span></a><span style=\"color: #7f7f7f; text-decoration-color: #7f7f7f\">:</span><a href=\"file:///home/carlo/Desktop/single-projects/manim-demopage/.venv_demo/lib/python3.12/site-packages/manim/scene/scene.py#1044\" target=\"_blank\"><span style=\"color: #7f7f7f; text-decoration-color: #7f7f7f\">1044</span></a>\n",
       "<span style=\"color: #7fbfbf; text-decoration-color: #7fbfbf\">                    </span>         seconds, is too short for the current frame rate of <span style=\"color: #008000; text-decoration-color: #008000\">60</span> FPS. <span style=\"color: #808000; text-decoration-color: #808000; font-weight: bold\">Rendering</span>    <span style=\"color: #7f7f7f; text-decoration-color: #7f7f7f\">             </span>\n",
       "<span style=\"color: #7fbfbf; text-decoration-color: #7fbfbf\">                    </span>         with the shortest possible total run_time of <span style=\"color: #008000; text-decoration-color: #008000\">0.0166667</span> seconds instead.  <span style=\"color: #7f7f7f; text-decoration-color: #7f7f7f\">             </span>\n",
       "</pre>\n"
      ],
      "text/plain": [
       "\u001b[2;36m[01/23/25 11:27:15]\u001b[0m\u001b[2;36m \u001b[0m\u001b[31mWARNING \u001b[0m The original total run_time of \u001b[1;35mintegration_index_Scene.play\u001b[0m\u001b[1m(\u001b[0m\u001b[1m)\u001b[0m, \u001b[32m0.010582\u001b[0m  \u001b]8;id=40614;file:///home/carlo/Desktop/single-projects/manim-demopage/.venv_demo/lib/python3.12/site-packages/manim/scene/scene.py\u001b\\\u001b[2mscene.py\u001b[0m\u001b]8;;\u001b\\\u001b[2m:\u001b[0m\u001b]8;id=695754;file:///home/carlo/Desktop/single-projects/manim-demopage/.venv_demo/lib/python3.12/site-packages/manim/scene/scene.py#1044\u001b\\\u001b[2m1044\u001b[0m\u001b]8;;\u001b\\\n",
       "\u001b[2;36m                    \u001b[0m         seconds, is too short for the current frame rate of \u001b[32m60\u001b[0m FPS. \u001b[1;33mRendering\u001b[0m    \u001b[2m             \u001b[0m\n",
       "\u001b[2;36m                    \u001b[0m         with the shortest possible total run_time of \u001b[32m0.0166667\u001b[0m seconds instead.  \u001b[2m             \u001b[0m\n"
      ]
     },
     "metadata": {},
     "output_type": "display_data"
    },
    {
     "data": {
      "text/html": [
       "<pre style=\"white-space:pre;overflow-x:auto;line-height:normal;font-family:Menlo,'DejaVu Sans Mono',consolas,'Courier New',monospace\"><span style=\"color: #7fbfbf; text-decoration-color: #7fbfbf\">                    </span><span style=\"color: #800000; text-decoration-color: #800000\">WARNING </span> The original total run_time of <span style=\"color: #800080; text-decoration-color: #800080; font-weight: bold\">integration_index_Scene.play</span><span style=\"font-weight: bold\">()</span>, <span style=\"color: #008000; text-decoration-color: #008000\">0.010582</span>  <a href=\"file:///home/carlo/Desktop/single-projects/manim-demopage/.venv_demo/lib/python3.12/site-packages/manim/scene/scene.py\" target=\"_blank\"><span style=\"color: #7f7f7f; text-decoration-color: #7f7f7f\">scene.py</span></a><span style=\"color: #7f7f7f; text-decoration-color: #7f7f7f\">:</span><a href=\"file:///home/carlo/Desktop/single-projects/manim-demopage/.venv_demo/lib/python3.12/site-packages/manim/scene/scene.py#1044\" target=\"_blank\"><span style=\"color: #7f7f7f; text-decoration-color: #7f7f7f\">1044</span></a>\n",
       "<span style=\"color: #7fbfbf; text-decoration-color: #7fbfbf\">                    </span>         seconds, is too short for the current frame rate of <span style=\"color: #008000; text-decoration-color: #008000\">60</span> FPS. <span style=\"color: #808000; text-decoration-color: #808000; font-weight: bold\">Rendering</span>    <span style=\"color: #7f7f7f; text-decoration-color: #7f7f7f\">             </span>\n",
       "<span style=\"color: #7fbfbf; text-decoration-color: #7fbfbf\">                    </span>         with the shortest possible total run_time of <span style=\"color: #008000; text-decoration-color: #008000\">0.0166667</span> seconds instead.  <span style=\"color: #7f7f7f; text-decoration-color: #7f7f7f\">             </span>\n",
       "</pre>\n"
      ],
      "text/plain": [
       "\u001b[2;36m                   \u001b[0m\u001b[2;36m \u001b[0m\u001b[31mWARNING \u001b[0m The original total run_time of \u001b[1;35mintegration_index_Scene.play\u001b[0m\u001b[1m(\u001b[0m\u001b[1m)\u001b[0m, \u001b[32m0.010582\u001b[0m  \u001b]8;id=299444;file:///home/carlo/Desktop/single-projects/manim-demopage/.venv_demo/lib/python3.12/site-packages/manim/scene/scene.py\u001b\\\u001b[2mscene.py\u001b[0m\u001b]8;;\u001b\\\u001b[2m:\u001b[0m\u001b]8;id=239051;file:///home/carlo/Desktop/single-projects/manim-demopage/.venv_demo/lib/python3.12/site-packages/manim/scene/scene.py#1044\u001b\\\u001b[2m1044\u001b[0m\u001b]8;;\u001b\\\n",
       "\u001b[2;36m                    \u001b[0m         seconds, is too short for the current frame rate of \u001b[32m60\u001b[0m FPS. \u001b[1;33mRendering\u001b[0m    \u001b[2m             \u001b[0m\n",
       "\u001b[2;36m                    \u001b[0m         with the shortest possible total run_time of \u001b[32m0.0166667\u001b[0m seconds instead.  \u001b[2m             \u001b[0m\n"
      ]
     },
     "metadata": {},
     "output_type": "display_data"
    },
    {
     "data": {
      "text/html": [
       "<pre style=\"white-space:pre;overflow-x:auto;line-height:normal;font-family:Menlo,'DejaVu Sans Mono',consolas,'Courier New',monospace\"><span style=\"color: #7fbfbf; text-decoration-color: #7fbfbf\">                    </span><span style=\"color: #800000; text-decoration-color: #800000\">WARNING </span> The original total run_time of <span style=\"color: #800080; text-decoration-color: #800080; font-weight: bold\">integration_index_Scene.play</span><span style=\"font-weight: bold\">()</span>, <span style=\"color: #008000; text-decoration-color: #008000\">0.0105263</span> <a href=\"file:///home/carlo/Desktop/single-projects/manim-demopage/.venv_demo/lib/python3.12/site-packages/manim/scene/scene.py\" target=\"_blank\"><span style=\"color: #7f7f7f; text-decoration-color: #7f7f7f\">scene.py</span></a><span style=\"color: #7f7f7f; text-decoration-color: #7f7f7f\">:</span><a href=\"file:///home/carlo/Desktop/single-projects/manim-demopage/.venv_demo/lib/python3.12/site-packages/manim/scene/scene.py#1044\" target=\"_blank\"><span style=\"color: #7f7f7f; text-decoration-color: #7f7f7f\">1044</span></a>\n",
       "<span style=\"color: #7fbfbf; text-decoration-color: #7fbfbf\">                    </span>         seconds, is too short for the current frame rate of <span style=\"color: #008000; text-decoration-color: #008000\">60</span> FPS. <span style=\"color: #808000; text-decoration-color: #808000; font-weight: bold\">Rendering</span>    <span style=\"color: #7f7f7f; text-decoration-color: #7f7f7f\">             </span>\n",
       "<span style=\"color: #7fbfbf; text-decoration-color: #7fbfbf\">                    </span>         with the shortest possible total run_time of <span style=\"color: #008000; text-decoration-color: #008000\">0.0166667</span> seconds instead.  <span style=\"color: #7f7f7f; text-decoration-color: #7f7f7f\">             </span>\n",
       "</pre>\n"
      ],
      "text/plain": [
       "\u001b[2;36m                   \u001b[0m\u001b[2;36m \u001b[0m\u001b[31mWARNING \u001b[0m The original total run_time of \u001b[1;35mintegration_index_Scene.play\u001b[0m\u001b[1m(\u001b[0m\u001b[1m)\u001b[0m, \u001b[32m0.0105263\u001b[0m \u001b]8;id=227396;file:///home/carlo/Desktop/single-projects/manim-demopage/.venv_demo/lib/python3.12/site-packages/manim/scene/scene.py\u001b\\\u001b[2mscene.py\u001b[0m\u001b]8;;\u001b\\\u001b[2m:\u001b[0m\u001b]8;id=73556;file:///home/carlo/Desktop/single-projects/manim-demopage/.venv_demo/lib/python3.12/site-packages/manim/scene/scene.py#1044\u001b\\\u001b[2m1044\u001b[0m\u001b]8;;\u001b\\\n",
       "\u001b[2;36m                    \u001b[0m         seconds, is too short for the current frame rate of \u001b[32m60\u001b[0m FPS. \u001b[1;33mRendering\u001b[0m    \u001b[2m             \u001b[0m\n",
       "\u001b[2;36m                    \u001b[0m         with the shortest possible total run_time of \u001b[32m0.0166667\u001b[0m seconds instead.  \u001b[2m             \u001b[0m\n"
      ]
     },
     "metadata": {},
     "output_type": "display_data"
    },
    {
     "data": {
      "text/html": [
       "<pre style=\"white-space:pre;overflow-x:auto;line-height:normal;font-family:Menlo,'DejaVu Sans Mono',consolas,'Courier New',monospace\"><span style=\"color: #7fbfbf; text-decoration-color: #7fbfbf\">                    </span><span style=\"color: #800000; text-decoration-color: #800000\">WARNING </span> The original total run_time of <span style=\"color: #800080; text-decoration-color: #800080; font-weight: bold\">integration_index_Scene.play</span><span style=\"font-weight: bold\">()</span>, <span style=\"color: #008000; text-decoration-color: #008000\">0.0105263</span> <a href=\"file:///home/carlo/Desktop/single-projects/manim-demopage/.venv_demo/lib/python3.12/site-packages/manim/scene/scene.py\" target=\"_blank\"><span style=\"color: #7f7f7f; text-decoration-color: #7f7f7f\">scene.py</span></a><span style=\"color: #7f7f7f; text-decoration-color: #7f7f7f\">:</span><a href=\"file:///home/carlo/Desktop/single-projects/manim-demopage/.venv_demo/lib/python3.12/site-packages/manim/scene/scene.py#1044\" target=\"_blank\"><span style=\"color: #7f7f7f; text-decoration-color: #7f7f7f\">1044</span></a>\n",
       "<span style=\"color: #7fbfbf; text-decoration-color: #7fbfbf\">                    </span>         seconds, is too short for the current frame rate of <span style=\"color: #008000; text-decoration-color: #008000\">60</span> FPS. <span style=\"color: #808000; text-decoration-color: #808000; font-weight: bold\">Rendering</span>    <span style=\"color: #7f7f7f; text-decoration-color: #7f7f7f\">             </span>\n",
       "<span style=\"color: #7fbfbf; text-decoration-color: #7fbfbf\">                    </span>         with the shortest possible total run_time of <span style=\"color: #008000; text-decoration-color: #008000\">0.0166667</span> seconds instead.  <span style=\"color: #7f7f7f; text-decoration-color: #7f7f7f\">             </span>\n",
       "</pre>\n"
      ],
      "text/plain": [
       "\u001b[2;36m                   \u001b[0m\u001b[2;36m \u001b[0m\u001b[31mWARNING \u001b[0m The original total run_time of \u001b[1;35mintegration_index_Scene.play\u001b[0m\u001b[1m(\u001b[0m\u001b[1m)\u001b[0m, \u001b[32m0.0105263\u001b[0m \u001b]8;id=129571;file:///home/carlo/Desktop/single-projects/manim-demopage/.venv_demo/lib/python3.12/site-packages/manim/scene/scene.py\u001b\\\u001b[2mscene.py\u001b[0m\u001b]8;;\u001b\\\u001b[2m:\u001b[0m\u001b]8;id=274037;file:///home/carlo/Desktop/single-projects/manim-demopage/.venv_demo/lib/python3.12/site-packages/manim/scene/scene.py#1044\u001b\\\u001b[2m1044\u001b[0m\u001b]8;;\u001b\\\n",
       "\u001b[2;36m                    \u001b[0m         seconds, is too short for the current frame rate of \u001b[32m60\u001b[0m FPS. \u001b[1;33mRendering\u001b[0m    \u001b[2m             \u001b[0m\n",
       "\u001b[2;36m                    \u001b[0m         with the shortest possible total run_time of \u001b[32m0.0166667\u001b[0m seconds instead.  \u001b[2m             \u001b[0m\n"
      ]
     },
     "metadata": {},
     "output_type": "display_data"
    },
    {
     "data": {
      "text/html": [
       "<pre style=\"white-space:pre;overflow-x:auto;line-height:normal;font-family:Menlo,'DejaVu Sans Mono',consolas,'Courier New',monospace\"><span style=\"color: #7fbfbf; text-decoration-color: #7fbfbf\">                    </span><span style=\"color: #800000; text-decoration-color: #800000\">WARNING </span> The original total run_time of <span style=\"color: #800080; text-decoration-color: #800080; font-weight: bold\">integration_index_Scene.play</span><span style=\"font-weight: bold\">()</span>, <span style=\"color: #008000; text-decoration-color: #008000\">0.0104712</span> <a href=\"file:///home/carlo/Desktop/single-projects/manim-demopage/.venv_demo/lib/python3.12/site-packages/manim/scene/scene.py\" target=\"_blank\"><span style=\"color: #7f7f7f; text-decoration-color: #7f7f7f\">scene.py</span></a><span style=\"color: #7f7f7f; text-decoration-color: #7f7f7f\">:</span><a href=\"file:///home/carlo/Desktop/single-projects/manim-demopage/.venv_demo/lib/python3.12/site-packages/manim/scene/scene.py#1044\" target=\"_blank\"><span style=\"color: #7f7f7f; text-decoration-color: #7f7f7f\">1044</span></a>\n",
       "<span style=\"color: #7fbfbf; text-decoration-color: #7fbfbf\">                    </span>         seconds, is too short for the current frame rate of <span style=\"color: #008000; text-decoration-color: #008000\">60</span> FPS. <span style=\"color: #808000; text-decoration-color: #808000; font-weight: bold\">Rendering</span>    <span style=\"color: #7f7f7f; text-decoration-color: #7f7f7f\">             </span>\n",
       "<span style=\"color: #7fbfbf; text-decoration-color: #7fbfbf\">                    </span>         with the shortest possible total run_time of <span style=\"color: #008000; text-decoration-color: #008000\">0.0166667</span> seconds instead.  <span style=\"color: #7f7f7f; text-decoration-color: #7f7f7f\">             </span>\n",
       "</pre>\n"
      ],
      "text/plain": [
       "\u001b[2;36m                   \u001b[0m\u001b[2;36m \u001b[0m\u001b[31mWARNING \u001b[0m The original total run_time of \u001b[1;35mintegration_index_Scene.play\u001b[0m\u001b[1m(\u001b[0m\u001b[1m)\u001b[0m, \u001b[32m0.0104712\u001b[0m \u001b]8;id=472360;file:///home/carlo/Desktop/single-projects/manim-demopage/.venv_demo/lib/python3.12/site-packages/manim/scene/scene.py\u001b\\\u001b[2mscene.py\u001b[0m\u001b]8;;\u001b\\\u001b[2m:\u001b[0m\u001b]8;id=854578;file:///home/carlo/Desktop/single-projects/manim-demopage/.venv_demo/lib/python3.12/site-packages/manim/scene/scene.py#1044\u001b\\\u001b[2m1044\u001b[0m\u001b]8;;\u001b\\\n",
       "\u001b[2;36m                    \u001b[0m         seconds, is too short for the current frame rate of \u001b[32m60\u001b[0m FPS. \u001b[1;33mRendering\u001b[0m    \u001b[2m             \u001b[0m\n",
       "\u001b[2;36m                    \u001b[0m         with the shortest possible total run_time of \u001b[32m0.0166667\u001b[0m seconds instead.  \u001b[2m             \u001b[0m\n"
      ]
     },
     "metadata": {},
     "output_type": "display_data"
    },
    {
     "data": {
      "text/html": [
       "<pre style=\"white-space:pre;overflow-x:auto;line-height:normal;font-family:Menlo,'DejaVu Sans Mono',consolas,'Courier New',monospace\"><span style=\"color: #7fbfbf; text-decoration-color: #7fbfbf\">                    </span><span style=\"color: #800000; text-decoration-color: #800000\">WARNING </span> The original total run_time of <span style=\"color: #800080; text-decoration-color: #800080; font-weight: bold\">integration_index_Scene.play</span><span style=\"font-weight: bold\">()</span>, <span style=\"color: #008000; text-decoration-color: #008000\">0.0104712</span> <a href=\"file:///home/carlo/Desktop/single-projects/manim-demopage/.venv_demo/lib/python3.12/site-packages/manim/scene/scene.py\" target=\"_blank\"><span style=\"color: #7f7f7f; text-decoration-color: #7f7f7f\">scene.py</span></a><span style=\"color: #7f7f7f; text-decoration-color: #7f7f7f\">:</span><a href=\"file:///home/carlo/Desktop/single-projects/manim-demopage/.venv_demo/lib/python3.12/site-packages/manim/scene/scene.py#1044\" target=\"_blank\"><span style=\"color: #7f7f7f; text-decoration-color: #7f7f7f\">1044</span></a>\n",
       "<span style=\"color: #7fbfbf; text-decoration-color: #7fbfbf\">                    </span>         seconds, is too short for the current frame rate of <span style=\"color: #008000; text-decoration-color: #008000\">60</span> FPS. <span style=\"color: #808000; text-decoration-color: #808000; font-weight: bold\">Rendering</span>    <span style=\"color: #7f7f7f; text-decoration-color: #7f7f7f\">             </span>\n",
       "<span style=\"color: #7fbfbf; text-decoration-color: #7fbfbf\">                    </span>         with the shortest possible total run_time of <span style=\"color: #008000; text-decoration-color: #008000\">0.0166667</span> seconds instead.  <span style=\"color: #7f7f7f; text-decoration-color: #7f7f7f\">             </span>\n",
       "</pre>\n"
      ],
      "text/plain": [
       "\u001b[2;36m                   \u001b[0m\u001b[2;36m \u001b[0m\u001b[31mWARNING \u001b[0m The original total run_time of \u001b[1;35mintegration_index_Scene.play\u001b[0m\u001b[1m(\u001b[0m\u001b[1m)\u001b[0m, \u001b[32m0.0104712\u001b[0m \u001b]8;id=187456;file:///home/carlo/Desktop/single-projects/manim-demopage/.venv_demo/lib/python3.12/site-packages/manim/scene/scene.py\u001b\\\u001b[2mscene.py\u001b[0m\u001b]8;;\u001b\\\u001b[2m:\u001b[0m\u001b]8;id=256606;file:///home/carlo/Desktop/single-projects/manim-demopage/.venv_demo/lib/python3.12/site-packages/manim/scene/scene.py#1044\u001b\\\u001b[2m1044\u001b[0m\u001b]8;;\u001b\\\n",
       "\u001b[2;36m                    \u001b[0m         seconds, is too short for the current frame rate of \u001b[32m60\u001b[0m FPS. \u001b[1;33mRendering\u001b[0m    \u001b[2m             \u001b[0m\n",
       "\u001b[2;36m                    \u001b[0m         with the shortest possible total run_time of \u001b[32m0.0166667\u001b[0m seconds instead.  \u001b[2m             \u001b[0m\n"
      ]
     },
     "metadata": {},
     "output_type": "display_data"
    },
    {
     "data": {
      "text/html": [
       "<pre style=\"white-space:pre;overflow-x:auto;line-height:normal;font-family:Menlo,'DejaVu Sans Mono',consolas,'Courier New',monospace\"><span style=\"color: #7fbfbf; text-decoration-color: #7fbfbf\">                    </span><span style=\"color: #800000; text-decoration-color: #800000\">WARNING </span> The original total run_time of <span style=\"color: #800080; text-decoration-color: #800080; font-weight: bold\">integration_index_Scene.play</span><span style=\"font-weight: bold\">()</span>, <span style=\"color: #008000; text-decoration-color: #008000\">0.0104167</span> <a href=\"file:///home/carlo/Desktop/single-projects/manim-demopage/.venv_demo/lib/python3.12/site-packages/manim/scene/scene.py\" target=\"_blank\"><span style=\"color: #7f7f7f; text-decoration-color: #7f7f7f\">scene.py</span></a><span style=\"color: #7f7f7f; text-decoration-color: #7f7f7f\">:</span><a href=\"file:///home/carlo/Desktop/single-projects/manim-demopage/.venv_demo/lib/python3.12/site-packages/manim/scene/scene.py#1044\" target=\"_blank\"><span style=\"color: #7f7f7f; text-decoration-color: #7f7f7f\">1044</span></a>\n",
       "<span style=\"color: #7fbfbf; text-decoration-color: #7fbfbf\">                    </span>         seconds, is too short for the current frame rate of <span style=\"color: #008000; text-decoration-color: #008000\">60</span> FPS. <span style=\"color: #808000; text-decoration-color: #808000; font-weight: bold\">Rendering</span>    <span style=\"color: #7f7f7f; text-decoration-color: #7f7f7f\">             </span>\n",
       "<span style=\"color: #7fbfbf; text-decoration-color: #7fbfbf\">                    </span>         with the shortest possible total run_time of <span style=\"color: #008000; text-decoration-color: #008000\">0.0166667</span> seconds instead.  <span style=\"color: #7f7f7f; text-decoration-color: #7f7f7f\">             </span>\n",
       "</pre>\n"
      ],
      "text/plain": [
       "\u001b[2;36m                   \u001b[0m\u001b[2;36m \u001b[0m\u001b[31mWARNING \u001b[0m The original total run_time of \u001b[1;35mintegration_index_Scene.play\u001b[0m\u001b[1m(\u001b[0m\u001b[1m)\u001b[0m, \u001b[32m0.0104167\u001b[0m \u001b]8;id=557168;file:///home/carlo/Desktop/single-projects/manim-demopage/.venv_demo/lib/python3.12/site-packages/manim/scene/scene.py\u001b\\\u001b[2mscene.py\u001b[0m\u001b]8;;\u001b\\\u001b[2m:\u001b[0m\u001b]8;id=869709;file:///home/carlo/Desktop/single-projects/manim-demopage/.venv_demo/lib/python3.12/site-packages/manim/scene/scene.py#1044\u001b\\\u001b[2m1044\u001b[0m\u001b]8;;\u001b\\\n",
       "\u001b[2;36m                    \u001b[0m         seconds, is too short for the current frame rate of \u001b[32m60\u001b[0m FPS. \u001b[1;33mRendering\u001b[0m    \u001b[2m             \u001b[0m\n",
       "\u001b[2;36m                    \u001b[0m         with the shortest possible total run_time of \u001b[32m0.0166667\u001b[0m seconds instead.  \u001b[2m             \u001b[0m\n"
      ]
     },
     "metadata": {},
     "output_type": "display_data"
    },
    {
     "data": {
      "text/html": [
       "<pre style=\"white-space:pre;overflow-x:auto;line-height:normal;font-family:Menlo,'DejaVu Sans Mono',consolas,'Courier New',monospace\"><span style=\"color: #7fbfbf; text-decoration-color: #7fbfbf\">                    </span><span style=\"color: #800000; text-decoration-color: #800000\">WARNING </span> The original total run_time of <span style=\"color: #800080; text-decoration-color: #800080; font-weight: bold\">integration_index_Scene.play</span><span style=\"font-weight: bold\">()</span>, <span style=\"color: #008000; text-decoration-color: #008000\">0.0104167</span> <a href=\"file:///home/carlo/Desktop/single-projects/manim-demopage/.venv_demo/lib/python3.12/site-packages/manim/scene/scene.py\" target=\"_blank\"><span style=\"color: #7f7f7f; text-decoration-color: #7f7f7f\">scene.py</span></a><span style=\"color: #7f7f7f; text-decoration-color: #7f7f7f\">:</span><a href=\"file:///home/carlo/Desktop/single-projects/manim-demopage/.venv_demo/lib/python3.12/site-packages/manim/scene/scene.py#1044\" target=\"_blank\"><span style=\"color: #7f7f7f; text-decoration-color: #7f7f7f\">1044</span></a>\n",
       "<span style=\"color: #7fbfbf; text-decoration-color: #7fbfbf\">                    </span>         seconds, is too short for the current frame rate of <span style=\"color: #008000; text-decoration-color: #008000\">60</span> FPS. <span style=\"color: #808000; text-decoration-color: #808000; font-weight: bold\">Rendering</span>    <span style=\"color: #7f7f7f; text-decoration-color: #7f7f7f\">             </span>\n",
       "<span style=\"color: #7fbfbf; text-decoration-color: #7fbfbf\">                    </span>         with the shortest possible total run_time of <span style=\"color: #008000; text-decoration-color: #008000\">0.0166667</span> seconds instead.  <span style=\"color: #7f7f7f; text-decoration-color: #7f7f7f\">             </span>\n",
       "</pre>\n"
      ],
      "text/plain": [
       "\u001b[2;36m                   \u001b[0m\u001b[2;36m \u001b[0m\u001b[31mWARNING \u001b[0m The original total run_time of \u001b[1;35mintegration_index_Scene.play\u001b[0m\u001b[1m(\u001b[0m\u001b[1m)\u001b[0m, \u001b[32m0.0104167\u001b[0m \u001b]8;id=508917;file:///home/carlo/Desktop/single-projects/manim-demopage/.venv_demo/lib/python3.12/site-packages/manim/scene/scene.py\u001b\\\u001b[2mscene.py\u001b[0m\u001b]8;;\u001b\\\u001b[2m:\u001b[0m\u001b]8;id=27855;file:///home/carlo/Desktop/single-projects/manim-demopage/.venv_demo/lib/python3.12/site-packages/manim/scene/scene.py#1044\u001b\\\u001b[2m1044\u001b[0m\u001b]8;;\u001b\\\n",
       "\u001b[2;36m                    \u001b[0m         seconds, is too short for the current frame rate of \u001b[32m60\u001b[0m FPS. \u001b[1;33mRendering\u001b[0m    \u001b[2m             \u001b[0m\n",
       "\u001b[2;36m                    \u001b[0m         with the shortest possible total run_time of \u001b[32m0.0166667\u001b[0m seconds instead.  \u001b[2m             \u001b[0m\n"
      ]
     },
     "metadata": {},
     "output_type": "display_data"
    },
    {
     "data": {
      "text/html": [
       "<pre style=\"white-space:pre;overflow-x:auto;line-height:normal;font-family:Menlo,'DejaVu Sans Mono',consolas,'Courier New',monospace\"><span style=\"color: #7fbfbf; text-decoration-color: #7fbfbf\">                    </span><span style=\"color: #800000; text-decoration-color: #800000\">WARNING </span> The original total run_time of <span style=\"color: #800080; text-decoration-color: #800080; font-weight: bold\">integration_index_Scene.play</span><span style=\"font-weight: bold\">()</span>, <span style=\"color: #008000; text-decoration-color: #008000\">0.0103627</span> <a href=\"file:///home/carlo/Desktop/single-projects/manim-demopage/.venv_demo/lib/python3.12/site-packages/manim/scene/scene.py\" target=\"_blank\"><span style=\"color: #7f7f7f; text-decoration-color: #7f7f7f\">scene.py</span></a><span style=\"color: #7f7f7f; text-decoration-color: #7f7f7f\">:</span><a href=\"file:///home/carlo/Desktop/single-projects/manim-demopage/.venv_demo/lib/python3.12/site-packages/manim/scene/scene.py#1044\" target=\"_blank\"><span style=\"color: #7f7f7f; text-decoration-color: #7f7f7f\">1044</span></a>\n",
       "<span style=\"color: #7fbfbf; text-decoration-color: #7fbfbf\">                    </span>         seconds, is too short for the current frame rate of <span style=\"color: #008000; text-decoration-color: #008000\">60</span> FPS. <span style=\"color: #808000; text-decoration-color: #808000; font-weight: bold\">Rendering</span>    <span style=\"color: #7f7f7f; text-decoration-color: #7f7f7f\">             </span>\n",
       "<span style=\"color: #7fbfbf; text-decoration-color: #7fbfbf\">                    </span>         with the shortest possible total run_time of <span style=\"color: #008000; text-decoration-color: #008000\">0.0166667</span> seconds instead.  <span style=\"color: #7f7f7f; text-decoration-color: #7f7f7f\">             </span>\n",
       "</pre>\n"
      ],
      "text/plain": [
       "\u001b[2;36m                   \u001b[0m\u001b[2;36m \u001b[0m\u001b[31mWARNING \u001b[0m The original total run_time of \u001b[1;35mintegration_index_Scene.play\u001b[0m\u001b[1m(\u001b[0m\u001b[1m)\u001b[0m, \u001b[32m0.0103627\u001b[0m \u001b]8;id=695565;file:///home/carlo/Desktop/single-projects/manim-demopage/.venv_demo/lib/python3.12/site-packages/manim/scene/scene.py\u001b\\\u001b[2mscene.py\u001b[0m\u001b]8;;\u001b\\\u001b[2m:\u001b[0m\u001b]8;id=603454;file:///home/carlo/Desktop/single-projects/manim-demopage/.venv_demo/lib/python3.12/site-packages/manim/scene/scene.py#1044\u001b\\\u001b[2m1044\u001b[0m\u001b]8;;\u001b\\\n",
       "\u001b[2;36m                    \u001b[0m         seconds, is too short for the current frame rate of \u001b[32m60\u001b[0m FPS. \u001b[1;33mRendering\u001b[0m    \u001b[2m             \u001b[0m\n",
       "\u001b[2;36m                    \u001b[0m         with the shortest possible total run_time of \u001b[32m0.0166667\u001b[0m seconds instead.  \u001b[2m             \u001b[0m\n"
      ]
     },
     "metadata": {},
     "output_type": "display_data"
    },
    {
     "data": {
      "text/html": [
       "<pre style=\"white-space:pre;overflow-x:auto;line-height:normal;font-family:Menlo,'DejaVu Sans Mono',consolas,'Courier New',monospace\"><span style=\"color: #7fbfbf; text-decoration-color: #7fbfbf\">                    </span><span style=\"color: #800000; text-decoration-color: #800000\">WARNING </span> The original total run_time of <span style=\"color: #800080; text-decoration-color: #800080; font-weight: bold\">integration_index_Scene.play</span><span style=\"font-weight: bold\">()</span>, <span style=\"color: #008000; text-decoration-color: #008000\">0.0103627</span> <a href=\"file:///home/carlo/Desktop/single-projects/manim-demopage/.venv_demo/lib/python3.12/site-packages/manim/scene/scene.py\" target=\"_blank\"><span style=\"color: #7f7f7f; text-decoration-color: #7f7f7f\">scene.py</span></a><span style=\"color: #7f7f7f; text-decoration-color: #7f7f7f\">:</span><a href=\"file:///home/carlo/Desktop/single-projects/manim-demopage/.venv_demo/lib/python3.12/site-packages/manim/scene/scene.py#1044\" target=\"_blank\"><span style=\"color: #7f7f7f; text-decoration-color: #7f7f7f\">1044</span></a>\n",
       "<span style=\"color: #7fbfbf; text-decoration-color: #7fbfbf\">                    </span>         seconds, is too short for the current frame rate of <span style=\"color: #008000; text-decoration-color: #008000\">60</span> FPS. <span style=\"color: #808000; text-decoration-color: #808000; font-weight: bold\">Rendering</span>    <span style=\"color: #7f7f7f; text-decoration-color: #7f7f7f\">             </span>\n",
       "<span style=\"color: #7fbfbf; text-decoration-color: #7fbfbf\">                    </span>         with the shortest possible total run_time of <span style=\"color: #008000; text-decoration-color: #008000\">0.0166667</span> seconds instead.  <span style=\"color: #7f7f7f; text-decoration-color: #7f7f7f\">             </span>\n",
       "</pre>\n"
      ],
      "text/plain": [
       "\u001b[2;36m                   \u001b[0m\u001b[2;36m \u001b[0m\u001b[31mWARNING \u001b[0m The original total run_time of \u001b[1;35mintegration_index_Scene.play\u001b[0m\u001b[1m(\u001b[0m\u001b[1m)\u001b[0m, \u001b[32m0.0103627\u001b[0m \u001b]8;id=377655;file:///home/carlo/Desktop/single-projects/manim-demopage/.venv_demo/lib/python3.12/site-packages/manim/scene/scene.py\u001b\\\u001b[2mscene.py\u001b[0m\u001b]8;;\u001b\\\u001b[2m:\u001b[0m\u001b]8;id=811230;file:///home/carlo/Desktop/single-projects/manim-demopage/.venv_demo/lib/python3.12/site-packages/manim/scene/scene.py#1044\u001b\\\u001b[2m1044\u001b[0m\u001b]8;;\u001b\\\n",
       "\u001b[2;36m                    \u001b[0m         seconds, is too short for the current frame rate of \u001b[32m60\u001b[0m FPS. \u001b[1;33mRendering\u001b[0m    \u001b[2m             \u001b[0m\n",
       "\u001b[2;36m                    \u001b[0m         with the shortest possible total run_time of \u001b[32m0.0166667\u001b[0m seconds instead.  \u001b[2m             \u001b[0m\n"
      ]
     },
     "metadata": {},
     "output_type": "display_data"
    },
    {
     "data": {
      "text/html": [
       "<pre style=\"white-space:pre;overflow-x:auto;line-height:normal;font-family:Menlo,'DejaVu Sans Mono',consolas,'Courier New',monospace\"><span style=\"color: #7fbfbf; text-decoration-color: #7fbfbf\">[01/23/25 11:27:16] </span><span style=\"color: #800000; text-decoration-color: #800000\">WARNING </span> The original total run_time of <span style=\"color: #800080; text-decoration-color: #800080; font-weight: bold\">integration_index_Scene.play</span><span style=\"font-weight: bold\">()</span>, <span style=\"color: #008000; text-decoration-color: #008000\">0.0103093</span> <a href=\"file:///home/carlo/Desktop/single-projects/manim-demopage/.venv_demo/lib/python3.12/site-packages/manim/scene/scene.py\" target=\"_blank\"><span style=\"color: #7f7f7f; text-decoration-color: #7f7f7f\">scene.py</span></a><span style=\"color: #7f7f7f; text-decoration-color: #7f7f7f\">:</span><a href=\"file:///home/carlo/Desktop/single-projects/manim-demopage/.venv_demo/lib/python3.12/site-packages/manim/scene/scene.py#1044\" target=\"_blank\"><span style=\"color: #7f7f7f; text-decoration-color: #7f7f7f\">1044</span></a>\n",
       "<span style=\"color: #7fbfbf; text-decoration-color: #7fbfbf\">                    </span>         seconds, is too short for the current frame rate of <span style=\"color: #008000; text-decoration-color: #008000\">60</span> FPS. <span style=\"color: #808000; text-decoration-color: #808000; font-weight: bold\">Rendering</span>    <span style=\"color: #7f7f7f; text-decoration-color: #7f7f7f\">             </span>\n",
       "<span style=\"color: #7fbfbf; text-decoration-color: #7fbfbf\">                    </span>         with the shortest possible total run_time of <span style=\"color: #008000; text-decoration-color: #008000\">0.0166667</span> seconds instead.  <span style=\"color: #7f7f7f; text-decoration-color: #7f7f7f\">             </span>\n",
       "</pre>\n"
      ],
      "text/plain": [
       "\u001b[2;36m[01/23/25 11:27:16]\u001b[0m\u001b[2;36m \u001b[0m\u001b[31mWARNING \u001b[0m The original total run_time of \u001b[1;35mintegration_index_Scene.play\u001b[0m\u001b[1m(\u001b[0m\u001b[1m)\u001b[0m, \u001b[32m0.0103093\u001b[0m \u001b]8;id=325968;file:///home/carlo/Desktop/single-projects/manim-demopage/.venv_demo/lib/python3.12/site-packages/manim/scene/scene.py\u001b\\\u001b[2mscene.py\u001b[0m\u001b]8;;\u001b\\\u001b[2m:\u001b[0m\u001b]8;id=701089;file:///home/carlo/Desktop/single-projects/manim-demopage/.venv_demo/lib/python3.12/site-packages/manim/scene/scene.py#1044\u001b\\\u001b[2m1044\u001b[0m\u001b]8;;\u001b\\\n",
       "\u001b[2;36m                    \u001b[0m         seconds, is too short for the current frame rate of \u001b[32m60\u001b[0m FPS. \u001b[1;33mRendering\u001b[0m    \u001b[2m             \u001b[0m\n",
       "\u001b[2;36m                    \u001b[0m         with the shortest possible total run_time of \u001b[32m0.0166667\u001b[0m seconds instead.  \u001b[2m             \u001b[0m\n"
      ]
     },
     "metadata": {},
     "output_type": "display_data"
    },
    {
     "data": {
      "text/html": [
       "<pre style=\"white-space:pre;overflow-x:auto;line-height:normal;font-family:Menlo,'DejaVu Sans Mono',consolas,'Courier New',monospace\"><span style=\"color: #7fbfbf; text-decoration-color: #7fbfbf\">                    </span><span style=\"color: #800000; text-decoration-color: #800000\">WARNING </span> The original total run_time of <span style=\"color: #800080; text-decoration-color: #800080; font-weight: bold\">integration_index_Scene.play</span><span style=\"font-weight: bold\">()</span>, <span style=\"color: #008000; text-decoration-color: #008000\">0.0103093</span> <a href=\"file:///home/carlo/Desktop/single-projects/manim-demopage/.venv_demo/lib/python3.12/site-packages/manim/scene/scene.py\" target=\"_blank\"><span style=\"color: #7f7f7f; text-decoration-color: #7f7f7f\">scene.py</span></a><span style=\"color: #7f7f7f; text-decoration-color: #7f7f7f\">:</span><a href=\"file:///home/carlo/Desktop/single-projects/manim-demopage/.venv_demo/lib/python3.12/site-packages/manim/scene/scene.py#1044\" target=\"_blank\"><span style=\"color: #7f7f7f; text-decoration-color: #7f7f7f\">1044</span></a>\n",
       "<span style=\"color: #7fbfbf; text-decoration-color: #7fbfbf\">                    </span>         seconds, is too short for the current frame rate of <span style=\"color: #008000; text-decoration-color: #008000\">60</span> FPS. <span style=\"color: #808000; text-decoration-color: #808000; font-weight: bold\">Rendering</span>    <span style=\"color: #7f7f7f; text-decoration-color: #7f7f7f\">             </span>\n",
       "<span style=\"color: #7fbfbf; text-decoration-color: #7fbfbf\">                    </span>         with the shortest possible total run_time of <span style=\"color: #008000; text-decoration-color: #008000\">0.0166667</span> seconds instead.  <span style=\"color: #7f7f7f; text-decoration-color: #7f7f7f\">             </span>\n",
       "</pre>\n"
      ],
      "text/plain": [
       "\u001b[2;36m                   \u001b[0m\u001b[2;36m \u001b[0m\u001b[31mWARNING \u001b[0m The original total run_time of \u001b[1;35mintegration_index_Scene.play\u001b[0m\u001b[1m(\u001b[0m\u001b[1m)\u001b[0m, \u001b[32m0.0103093\u001b[0m \u001b]8;id=924140;file:///home/carlo/Desktop/single-projects/manim-demopage/.venv_demo/lib/python3.12/site-packages/manim/scene/scene.py\u001b\\\u001b[2mscene.py\u001b[0m\u001b]8;;\u001b\\\u001b[2m:\u001b[0m\u001b]8;id=420812;file:///home/carlo/Desktop/single-projects/manim-demopage/.venv_demo/lib/python3.12/site-packages/manim/scene/scene.py#1044\u001b\\\u001b[2m1044\u001b[0m\u001b]8;;\u001b\\\n",
       "\u001b[2;36m                    \u001b[0m         seconds, is too short for the current frame rate of \u001b[32m60\u001b[0m FPS. \u001b[1;33mRendering\u001b[0m    \u001b[2m             \u001b[0m\n",
       "\u001b[2;36m                    \u001b[0m         with the shortest possible total run_time of \u001b[32m0.0166667\u001b[0m seconds instead.  \u001b[2m             \u001b[0m\n"
      ]
     },
     "metadata": {},
     "output_type": "display_data"
    },
    {
     "data": {
      "text/html": [
       "<pre style=\"white-space:pre;overflow-x:auto;line-height:normal;font-family:Menlo,'DejaVu Sans Mono',consolas,'Courier New',monospace\"><span style=\"color: #7fbfbf; text-decoration-color: #7fbfbf\">                    </span><span style=\"color: #800000; text-decoration-color: #800000\">WARNING </span> The original total run_time of <span style=\"color: #800080; text-decoration-color: #800080; font-weight: bold\">integration_index_Scene.play</span><span style=\"font-weight: bold\">()</span>, <span style=\"color: #008000; text-decoration-color: #008000\">0.0102564</span> <a href=\"file:///home/carlo/Desktop/single-projects/manim-demopage/.venv_demo/lib/python3.12/site-packages/manim/scene/scene.py\" target=\"_blank\"><span style=\"color: #7f7f7f; text-decoration-color: #7f7f7f\">scene.py</span></a><span style=\"color: #7f7f7f; text-decoration-color: #7f7f7f\">:</span><a href=\"file:///home/carlo/Desktop/single-projects/manim-demopage/.venv_demo/lib/python3.12/site-packages/manim/scene/scene.py#1044\" target=\"_blank\"><span style=\"color: #7f7f7f; text-decoration-color: #7f7f7f\">1044</span></a>\n",
       "<span style=\"color: #7fbfbf; text-decoration-color: #7fbfbf\">                    </span>         seconds, is too short for the current frame rate of <span style=\"color: #008000; text-decoration-color: #008000\">60</span> FPS. <span style=\"color: #808000; text-decoration-color: #808000; font-weight: bold\">Rendering</span>    <span style=\"color: #7f7f7f; text-decoration-color: #7f7f7f\">             </span>\n",
       "<span style=\"color: #7fbfbf; text-decoration-color: #7fbfbf\">                    </span>         with the shortest possible total run_time of <span style=\"color: #008000; text-decoration-color: #008000\">0.0166667</span> seconds instead.  <span style=\"color: #7f7f7f; text-decoration-color: #7f7f7f\">             </span>\n",
       "</pre>\n"
      ],
      "text/plain": [
       "\u001b[2;36m                   \u001b[0m\u001b[2;36m \u001b[0m\u001b[31mWARNING \u001b[0m The original total run_time of \u001b[1;35mintegration_index_Scene.play\u001b[0m\u001b[1m(\u001b[0m\u001b[1m)\u001b[0m, \u001b[32m0.0102564\u001b[0m \u001b]8;id=636949;file:///home/carlo/Desktop/single-projects/manim-demopage/.venv_demo/lib/python3.12/site-packages/manim/scene/scene.py\u001b\\\u001b[2mscene.py\u001b[0m\u001b]8;;\u001b\\\u001b[2m:\u001b[0m\u001b]8;id=112623;file:///home/carlo/Desktop/single-projects/manim-demopage/.venv_demo/lib/python3.12/site-packages/manim/scene/scene.py#1044\u001b\\\u001b[2m1044\u001b[0m\u001b]8;;\u001b\\\n",
       "\u001b[2;36m                    \u001b[0m         seconds, is too short for the current frame rate of \u001b[32m60\u001b[0m FPS. \u001b[1;33mRendering\u001b[0m    \u001b[2m             \u001b[0m\n",
       "\u001b[2;36m                    \u001b[0m         with the shortest possible total run_time of \u001b[32m0.0166667\u001b[0m seconds instead.  \u001b[2m             \u001b[0m\n"
      ]
     },
     "metadata": {},
     "output_type": "display_data"
    },
    {
     "data": {
      "text/html": [
       "<pre style=\"white-space:pre;overflow-x:auto;line-height:normal;font-family:Menlo,'DejaVu Sans Mono',consolas,'Courier New',monospace\"><span style=\"color: #7fbfbf; text-decoration-color: #7fbfbf\">                    </span><span style=\"color: #800000; text-decoration-color: #800000\">WARNING </span> The original total run_time of <span style=\"color: #800080; text-decoration-color: #800080; font-weight: bold\">integration_index_Scene.play</span><span style=\"font-weight: bold\">()</span>, <span style=\"color: #008000; text-decoration-color: #008000\">0.0102564</span> <a href=\"file:///home/carlo/Desktop/single-projects/manim-demopage/.venv_demo/lib/python3.12/site-packages/manim/scene/scene.py\" target=\"_blank\"><span style=\"color: #7f7f7f; text-decoration-color: #7f7f7f\">scene.py</span></a><span style=\"color: #7f7f7f; text-decoration-color: #7f7f7f\">:</span><a href=\"file:///home/carlo/Desktop/single-projects/manim-demopage/.venv_demo/lib/python3.12/site-packages/manim/scene/scene.py#1044\" target=\"_blank\"><span style=\"color: #7f7f7f; text-decoration-color: #7f7f7f\">1044</span></a>\n",
       "<span style=\"color: #7fbfbf; text-decoration-color: #7fbfbf\">                    </span>         seconds, is too short for the current frame rate of <span style=\"color: #008000; text-decoration-color: #008000\">60</span> FPS. <span style=\"color: #808000; text-decoration-color: #808000; font-weight: bold\">Rendering</span>    <span style=\"color: #7f7f7f; text-decoration-color: #7f7f7f\">             </span>\n",
       "<span style=\"color: #7fbfbf; text-decoration-color: #7fbfbf\">                    </span>         with the shortest possible total run_time of <span style=\"color: #008000; text-decoration-color: #008000\">0.0166667</span> seconds instead.  <span style=\"color: #7f7f7f; text-decoration-color: #7f7f7f\">             </span>\n",
       "</pre>\n"
      ],
      "text/plain": [
       "\u001b[2;36m                   \u001b[0m\u001b[2;36m \u001b[0m\u001b[31mWARNING \u001b[0m The original total run_time of \u001b[1;35mintegration_index_Scene.play\u001b[0m\u001b[1m(\u001b[0m\u001b[1m)\u001b[0m, \u001b[32m0.0102564\u001b[0m \u001b]8;id=635395;file:///home/carlo/Desktop/single-projects/manim-demopage/.venv_demo/lib/python3.12/site-packages/manim/scene/scene.py\u001b\\\u001b[2mscene.py\u001b[0m\u001b]8;;\u001b\\\u001b[2m:\u001b[0m\u001b]8;id=503598;file:///home/carlo/Desktop/single-projects/manim-demopage/.venv_demo/lib/python3.12/site-packages/manim/scene/scene.py#1044\u001b\\\u001b[2m1044\u001b[0m\u001b]8;;\u001b\\\n",
       "\u001b[2;36m                    \u001b[0m         seconds, is too short for the current frame rate of \u001b[32m60\u001b[0m FPS. \u001b[1;33mRendering\u001b[0m    \u001b[2m             \u001b[0m\n",
       "\u001b[2;36m                    \u001b[0m         with the shortest possible total run_time of \u001b[32m0.0166667\u001b[0m seconds instead.  \u001b[2m             \u001b[0m\n"
      ]
     },
     "metadata": {},
     "output_type": "display_data"
    },
    {
     "data": {
      "text/html": [
       "<pre style=\"white-space:pre;overflow-x:auto;line-height:normal;font-family:Menlo,'DejaVu Sans Mono',consolas,'Courier New',monospace\"><span style=\"color: #7fbfbf; text-decoration-color: #7fbfbf\">                    </span><span style=\"color: #800000; text-decoration-color: #800000\">WARNING </span> The original total run_time of <span style=\"color: #800080; text-decoration-color: #800080; font-weight: bold\">integration_index_Scene.play</span><span style=\"font-weight: bold\">()</span>, <span style=\"color: #008000; text-decoration-color: #008000\">0.0102041</span> <a href=\"file:///home/carlo/Desktop/single-projects/manim-demopage/.venv_demo/lib/python3.12/site-packages/manim/scene/scene.py\" target=\"_blank\"><span style=\"color: #7f7f7f; text-decoration-color: #7f7f7f\">scene.py</span></a><span style=\"color: #7f7f7f; text-decoration-color: #7f7f7f\">:</span><a href=\"file:///home/carlo/Desktop/single-projects/manim-demopage/.venv_demo/lib/python3.12/site-packages/manim/scene/scene.py#1044\" target=\"_blank\"><span style=\"color: #7f7f7f; text-decoration-color: #7f7f7f\">1044</span></a>\n",
       "<span style=\"color: #7fbfbf; text-decoration-color: #7fbfbf\">                    </span>         seconds, is too short for the current frame rate of <span style=\"color: #008000; text-decoration-color: #008000\">60</span> FPS. <span style=\"color: #808000; text-decoration-color: #808000; font-weight: bold\">Rendering</span>    <span style=\"color: #7f7f7f; text-decoration-color: #7f7f7f\">             </span>\n",
       "<span style=\"color: #7fbfbf; text-decoration-color: #7fbfbf\">                    </span>         with the shortest possible total run_time of <span style=\"color: #008000; text-decoration-color: #008000\">0.0166667</span> seconds instead.  <span style=\"color: #7f7f7f; text-decoration-color: #7f7f7f\">             </span>\n",
       "</pre>\n"
      ],
      "text/plain": [
       "\u001b[2;36m                   \u001b[0m\u001b[2;36m \u001b[0m\u001b[31mWARNING \u001b[0m The original total run_time of \u001b[1;35mintegration_index_Scene.play\u001b[0m\u001b[1m(\u001b[0m\u001b[1m)\u001b[0m, \u001b[32m0.0102041\u001b[0m \u001b]8;id=754314;file:///home/carlo/Desktop/single-projects/manim-demopage/.venv_demo/lib/python3.12/site-packages/manim/scene/scene.py\u001b\\\u001b[2mscene.py\u001b[0m\u001b]8;;\u001b\\\u001b[2m:\u001b[0m\u001b]8;id=807022;file:///home/carlo/Desktop/single-projects/manim-demopage/.venv_demo/lib/python3.12/site-packages/manim/scene/scene.py#1044\u001b\\\u001b[2m1044\u001b[0m\u001b]8;;\u001b\\\n",
       "\u001b[2;36m                    \u001b[0m         seconds, is too short for the current frame rate of \u001b[32m60\u001b[0m FPS. \u001b[1;33mRendering\u001b[0m    \u001b[2m             \u001b[0m\n",
       "\u001b[2;36m                    \u001b[0m         with the shortest possible total run_time of \u001b[32m0.0166667\u001b[0m seconds instead.  \u001b[2m             \u001b[0m\n"
      ]
     },
     "metadata": {},
     "output_type": "display_data"
    },
    {
     "data": {
      "text/html": [
       "<pre style=\"white-space:pre;overflow-x:auto;line-height:normal;font-family:Menlo,'DejaVu Sans Mono',consolas,'Courier New',monospace\"><span style=\"color: #7fbfbf; text-decoration-color: #7fbfbf\">                    </span><span style=\"color: #800000; text-decoration-color: #800000\">WARNING </span> The original total run_time of <span style=\"color: #800080; text-decoration-color: #800080; font-weight: bold\">integration_index_Scene.play</span><span style=\"font-weight: bold\">()</span>, <span style=\"color: #008000; text-decoration-color: #008000\">0.0102041</span> <a href=\"file:///home/carlo/Desktop/single-projects/manim-demopage/.venv_demo/lib/python3.12/site-packages/manim/scene/scene.py\" target=\"_blank\"><span style=\"color: #7f7f7f; text-decoration-color: #7f7f7f\">scene.py</span></a><span style=\"color: #7f7f7f; text-decoration-color: #7f7f7f\">:</span><a href=\"file:///home/carlo/Desktop/single-projects/manim-demopage/.venv_demo/lib/python3.12/site-packages/manim/scene/scene.py#1044\" target=\"_blank\"><span style=\"color: #7f7f7f; text-decoration-color: #7f7f7f\">1044</span></a>\n",
       "<span style=\"color: #7fbfbf; text-decoration-color: #7fbfbf\">                    </span>         seconds, is too short for the current frame rate of <span style=\"color: #008000; text-decoration-color: #008000\">60</span> FPS. <span style=\"color: #808000; text-decoration-color: #808000; font-weight: bold\">Rendering</span>    <span style=\"color: #7f7f7f; text-decoration-color: #7f7f7f\">             </span>\n",
       "<span style=\"color: #7fbfbf; text-decoration-color: #7fbfbf\">                    </span>         with the shortest possible total run_time of <span style=\"color: #008000; text-decoration-color: #008000\">0.0166667</span> seconds instead.  <span style=\"color: #7f7f7f; text-decoration-color: #7f7f7f\">             </span>\n",
       "</pre>\n"
      ],
      "text/plain": [
       "\u001b[2;36m                   \u001b[0m\u001b[2;36m \u001b[0m\u001b[31mWARNING \u001b[0m The original total run_time of \u001b[1;35mintegration_index_Scene.play\u001b[0m\u001b[1m(\u001b[0m\u001b[1m)\u001b[0m, \u001b[32m0.0102041\u001b[0m \u001b]8;id=479294;file:///home/carlo/Desktop/single-projects/manim-demopage/.venv_demo/lib/python3.12/site-packages/manim/scene/scene.py\u001b\\\u001b[2mscene.py\u001b[0m\u001b]8;;\u001b\\\u001b[2m:\u001b[0m\u001b]8;id=586671;file:///home/carlo/Desktop/single-projects/manim-demopage/.venv_demo/lib/python3.12/site-packages/manim/scene/scene.py#1044\u001b\\\u001b[2m1044\u001b[0m\u001b]8;;\u001b\\\n",
       "\u001b[2;36m                    \u001b[0m         seconds, is too short for the current frame rate of \u001b[32m60\u001b[0m FPS. \u001b[1;33mRendering\u001b[0m    \u001b[2m             \u001b[0m\n",
       "\u001b[2;36m                    \u001b[0m         with the shortest possible total run_time of \u001b[32m0.0166667\u001b[0m seconds instead.  \u001b[2m             \u001b[0m\n"
      ]
     },
     "metadata": {},
     "output_type": "display_data"
    },
    {
     "data": {
      "text/html": [
       "<pre style=\"white-space:pre;overflow-x:auto;line-height:normal;font-family:Menlo,'DejaVu Sans Mono',consolas,'Courier New',monospace\"><span style=\"color: #7fbfbf; text-decoration-color: #7fbfbf\">                    </span><span style=\"color: #800000; text-decoration-color: #800000\">WARNING </span> The original total run_time of <span style=\"color: #800080; text-decoration-color: #800080; font-weight: bold\">integration_index_Scene.play</span><span style=\"font-weight: bold\">()</span>, <span style=\"color: #008000; text-decoration-color: #008000\">0.0101523</span> <a href=\"file:///home/carlo/Desktop/single-projects/manim-demopage/.venv_demo/lib/python3.12/site-packages/manim/scene/scene.py\" target=\"_blank\"><span style=\"color: #7f7f7f; text-decoration-color: #7f7f7f\">scene.py</span></a><span style=\"color: #7f7f7f; text-decoration-color: #7f7f7f\">:</span><a href=\"file:///home/carlo/Desktop/single-projects/manim-demopage/.venv_demo/lib/python3.12/site-packages/manim/scene/scene.py#1044\" target=\"_blank\"><span style=\"color: #7f7f7f; text-decoration-color: #7f7f7f\">1044</span></a>\n",
       "<span style=\"color: #7fbfbf; text-decoration-color: #7fbfbf\">                    </span>         seconds, is too short for the current frame rate of <span style=\"color: #008000; text-decoration-color: #008000\">60</span> FPS. <span style=\"color: #808000; text-decoration-color: #808000; font-weight: bold\">Rendering</span>    <span style=\"color: #7f7f7f; text-decoration-color: #7f7f7f\">             </span>\n",
       "<span style=\"color: #7fbfbf; text-decoration-color: #7fbfbf\">                    </span>         with the shortest possible total run_time of <span style=\"color: #008000; text-decoration-color: #008000\">0.0166667</span> seconds instead.  <span style=\"color: #7f7f7f; text-decoration-color: #7f7f7f\">             </span>\n",
       "</pre>\n"
      ],
      "text/plain": [
       "\u001b[2;36m                   \u001b[0m\u001b[2;36m \u001b[0m\u001b[31mWARNING \u001b[0m The original total run_time of \u001b[1;35mintegration_index_Scene.play\u001b[0m\u001b[1m(\u001b[0m\u001b[1m)\u001b[0m, \u001b[32m0.0101523\u001b[0m \u001b]8;id=498895;file:///home/carlo/Desktop/single-projects/manim-demopage/.venv_demo/lib/python3.12/site-packages/manim/scene/scene.py\u001b\\\u001b[2mscene.py\u001b[0m\u001b]8;;\u001b\\\u001b[2m:\u001b[0m\u001b]8;id=283876;file:///home/carlo/Desktop/single-projects/manim-demopage/.venv_demo/lib/python3.12/site-packages/manim/scene/scene.py#1044\u001b\\\u001b[2m1044\u001b[0m\u001b]8;;\u001b\\\n",
       "\u001b[2;36m                    \u001b[0m         seconds, is too short for the current frame rate of \u001b[32m60\u001b[0m FPS. \u001b[1;33mRendering\u001b[0m    \u001b[2m             \u001b[0m\n",
       "\u001b[2;36m                    \u001b[0m         with the shortest possible total run_time of \u001b[32m0.0166667\u001b[0m seconds instead.  \u001b[2m             \u001b[0m\n"
      ]
     },
     "metadata": {},
     "output_type": "display_data"
    },
    {
     "data": {
      "text/html": [
       "<pre style=\"white-space:pre;overflow-x:auto;line-height:normal;font-family:Menlo,'DejaVu Sans Mono',consolas,'Courier New',monospace\"><span style=\"color: #7fbfbf; text-decoration-color: #7fbfbf\">                    </span><span style=\"color: #800000; text-decoration-color: #800000\">WARNING </span> The original total run_time of <span style=\"color: #800080; text-decoration-color: #800080; font-weight: bold\">integration_index_Scene.play</span><span style=\"font-weight: bold\">()</span>, <span style=\"color: #008000; text-decoration-color: #008000\">0.0101523</span> <a href=\"file:///home/carlo/Desktop/single-projects/manim-demopage/.venv_demo/lib/python3.12/site-packages/manim/scene/scene.py\" target=\"_blank\"><span style=\"color: #7f7f7f; text-decoration-color: #7f7f7f\">scene.py</span></a><span style=\"color: #7f7f7f; text-decoration-color: #7f7f7f\">:</span><a href=\"file:///home/carlo/Desktop/single-projects/manim-demopage/.venv_demo/lib/python3.12/site-packages/manim/scene/scene.py#1044\" target=\"_blank\"><span style=\"color: #7f7f7f; text-decoration-color: #7f7f7f\">1044</span></a>\n",
       "<span style=\"color: #7fbfbf; text-decoration-color: #7fbfbf\">                    </span>         seconds, is too short for the current frame rate of <span style=\"color: #008000; text-decoration-color: #008000\">60</span> FPS. <span style=\"color: #808000; text-decoration-color: #808000; font-weight: bold\">Rendering</span>    <span style=\"color: #7f7f7f; text-decoration-color: #7f7f7f\">             </span>\n",
       "<span style=\"color: #7fbfbf; text-decoration-color: #7fbfbf\">                    </span>         with the shortest possible total run_time of <span style=\"color: #008000; text-decoration-color: #008000\">0.0166667</span> seconds instead.  <span style=\"color: #7f7f7f; text-decoration-color: #7f7f7f\">             </span>\n",
       "</pre>\n"
      ],
      "text/plain": [
       "\u001b[2;36m                   \u001b[0m\u001b[2;36m \u001b[0m\u001b[31mWARNING \u001b[0m The original total run_time of \u001b[1;35mintegration_index_Scene.play\u001b[0m\u001b[1m(\u001b[0m\u001b[1m)\u001b[0m, \u001b[32m0.0101523\u001b[0m \u001b]8;id=808599;file:///home/carlo/Desktop/single-projects/manim-demopage/.venv_demo/lib/python3.12/site-packages/manim/scene/scene.py\u001b\\\u001b[2mscene.py\u001b[0m\u001b]8;;\u001b\\\u001b[2m:\u001b[0m\u001b]8;id=556624;file:///home/carlo/Desktop/single-projects/manim-demopage/.venv_demo/lib/python3.12/site-packages/manim/scene/scene.py#1044\u001b\\\u001b[2m1044\u001b[0m\u001b]8;;\u001b\\\n",
       "\u001b[2;36m                    \u001b[0m         seconds, is too short for the current frame rate of \u001b[32m60\u001b[0m FPS. \u001b[1;33mRendering\u001b[0m    \u001b[2m             \u001b[0m\n",
       "\u001b[2;36m                    \u001b[0m         with the shortest possible total run_time of \u001b[32m0.0166667\u001b[0m seconds instead.  \u001b[2m             \u001b[0m\n"
      ]
     },
     "metadata": {},
     "output_type": "display_data"
    },
    {
     "data": {
      "text/html": [
       "<pre style=\"white-space:pre;overflow-x:auto;line-height:normal;font-family:Menlo,'DejaVu Sans Mono',consolas,'Courier New',monospace\"><span style=\"color: #7fbfbf; text-decoration-color: #7fbfbf\">                    </span><span style=\"color: #800000; text-decoration-color: #800000\">WARNING </span> The original total run_time of <span style=\"color: #800080; text-decoration-color: #800080; font-weight: bold\">integration_index_Scene.play</span><span style=\"font-weight: bold\">()</span>, <span style=\"color: #008000; text-decoration-color: #008000\">0.010101</span>  <a href=\"file:///home/carlo/Desktop/single-projects/manim-demopage/.venv_demo/lib/python3.12/site-packages/manim/scene/scene.py\" target=\"_blank\"><span style=\"color: #7f7f7f; text-decoration-color: #7f7f7f\">scene.py</span></a><span style=\"color: #7f7f7f; text-decoration-color: #7f7f7f\">:</span><a href=\"file:///home/carlo/Desktop/single-projects/manim-demopage/.venv_demo/lib/python3.12/site-packages/manim/scene/scene.py#1044\" target=\"_blank\"><span style=\"color: #7f7f7f; text-decoration-color: #7f7f7f\">1044</span></a>\n",
       "<span style=\"color: #7fbfbf; text-decoration-color: #7fbfbf\">                    </span>         seconds, is too short for the current frame rate of <span style=\"color: #008000; text-decoration-color: #008000\">60</span> FPS. <span style=\"color: #808000; text-decoration-color: #808000; font-weight: bold\">Rendering</span>    <span style=\"color: #7f7f7f; text-decoration-color: #7f7f7f\">             </span>\n",
       "<span style=\"color: #7fbfbf; text-decoration-color: #7fbfbf\">                    </span>         with the shortest possible total run_time of <span style=\"color: #008000; text-decoration-color: #008000\">0.0166667</span> seconds instead.  <span style=\"color: #7f7f7f; text-decoration-color: #7f7f7f\">             </span>\n",
       "</pre>\n"
      ],
      "text/plain": [
       "\u001b[2;36m                   \u001b[0m\u001b[2;36m \u001b[0m\u001b[31mWARNING \u001b[0m The original total run_time of \u001b[1;35mintegration_index_Scene.play\u001b[0m\u001b[1m(\u001b[0m\u001b[1m)\u001b[0m, \u001b[32m0.010101\u001b[0m  \u001b]8;id=480332;file:///home/carlo/Desktop/single-projects/manim-demopage/.venv_demo/lib/python3.12/site-packages/manim/scene/scene.py\u001b\\\u001b[2mscene.py\u001b[0m\u001b]8;;\u001b\\\u001b[2m:\u001b[0m\u001b]8;id=496527;file:///home/carlo/Desktop/single-projects/manim-demopage/.venv_demo/lib/python3.12/site-packages/manim/scene/scene.py#1044\u001b\\\u001b[2m1044\u001b[0m\u001b]8;;\u001b\\\n",
       "\u001b[2;36m                    \u001b[0m         seconds, is too short for the current frame rate of \u001b[32m60\u001b[0m FPS. \u001b[1;33mRendering\u001b[0m    \u001b[2m             \u001b[0m\n",
       "\u001b[2;36m                    \u001b[0m         with the shortest possible total run_time of \u001b[32m0.0166667\u001b[0m seconds instead.  \u001b[2m             \u001b[0m\n"
      ]
     },
     "metadata": {},
     "output_type": "display_data"
    },
    {
     "data": {
      "text/html": [
       "<pre style=\"white-space:pre;overflow-x:auto;line-height:normal;font-family:Menlo,'DejaVu Sans Mono',consolas,'Courier New',monospace\"><span style=\"color: #7fbfbf; text-decoration-color: #7fbfbf\">                    </span><span style=\"color: #800000; text-decoration-color: #800000\">WARNING </span> The original total run_time of <span style=\"color: #800080; text-decoration-color: #800080; font-weight: bold\">integration_index_Scene.play</span><span style=\"font-weight: bold\">()</span>, <span style=\"color: #008000; text-decoration-color: #008000\">0.010101</span>  <a href=\"file:///home/carlo/Desktop/single-projects/manim-demopage/.venv_demo/lib/python3.12/site-packages/manim/scene/scene.py\" target=\"_blank\"><span style=\"color: #7f7f7f; text-decoration-color: #7f7f7f\">scene.py</span></a><span style=\"color: #7f7f7f; text-decoration-color: #7f7f7f\">:</span><a href=\"file:///home/carlo/Desktop/single-projects/manim-demopage/.venv_demo/lib/python3.12/site-packages/manim/scene/scene.py#1044\" target=\"_blank\"><span style=\"color: #7f7f7f; text-decoration-color: #7f7f7f\">1044</span></a>\n",
       "<span style=\"color: #7fbfbf; text-decoration-color: #7fbfbf\">                    </span>         seconds, is too short for the current frame rate of <span style=\"color: #008000; text-decoration-color: #008000\">60</span> FPS. <span style=\"color: #808000; text-decoration-color: #808000; font-weight: bold\">Rendering</span>    <span style=\"color: #7f7f7f; text-decoration-color: #7f7f7f\">             </span>\n",
       "<span style=\"color: #7fbfbf; text-decoration-color: #7fbfbf\">                    </span>         with the shortest possible total run_time of <span style=\"color: #008000; text-decoration-color: #008000\">0.0166667</span> seconds instead.  <span style=\"color: #7f7f7f; text-decoration-color: #7f7f7f\">             </span>\n",
       "</pre>\n"
      ],
      "text/plain": [
       "\u001b[2;36m                   \u001b[0m\u001b[2;36m \u001b[0m\u001b[31mWARNING \u001b[0m The original total run_time of \u001b[1;35mintegration_index_Scene.play\u001b[0m\u001b[1m(\u001b[0m\u001b[1m)\u001b[0m, \u001b[32m0.010101\u001b[0m  \u001b]8;id=866632;file:///home/carlo/Desktop/single-projects/manim-demopage/.venv_demo/lib/python3.12/site-packages/manim/scene/scene.py\u001b\\\u001b[2mscene.py\u001b[0m\u001b]8;;\u001b\\\u001b[2m:\u001b[0m\u001b]8;id=278237;file:///home/carlo/Desktop/single-projects/manim-demopage/.venv_demo/lib/python3.12/site-packages/manim/scene/scene.py#1044\u001b\\\u001b[2m1044\u001b[0m\u001b]8;;\u001b\\\n",
       "\u001b[2;36m                    \u001b[0m         seconds, is too short for the current frame rate of \u001b[32m60\u001b[0m FPS. \u001b[1;33mRendering\u001b[0m    \u001b[2m             \u001b[0m\n",
       "\u001b[2;36m                    \u001b[0m         with the shortest possible total run_time of \u001b[32m0.0166667\u001b[0m seconds instead.  \u001b[2m             \u001b[0m\n"
      ]
     },
     "metadata": {},
     "output_type": "display_data"
    },
    {
     "data": {
      "text/html": [
       "<pre style=\"white-space:pre;overflow-x:auto;line-height:normal;font-family:Menlo,'DejaVu Sans Mono',consolas,'Courier New',monospace\"><span style=\"color: #7fbfbf; text-decoration-color: #7fbfbf\">[01/23/25 11:27:17] </span><span style=\"color: #800000; text-decoration-color: #800000\">WARNING </span> The original total run_time of <span style=\"color: #800080; text-decoration-color: #800080; font-weight: bold\">integration_index_Scene.play</span><span style=\"font-weight: bold\">()</span>, <span style=\"color: #008000; text-decoration-color: #008000\">0.0100503</span> <a href=\"file:///home/carlo/Desktop/single-projects/manim-demopage/.venv_demo/lib/python3.12/site-packages/manim/scene/scene.py\" target=\"_blank\"><span style=\"color: #7f7f7f; text-decoration-color: #7f7f7f\">scene.py</span></a><span style=\"color: #7f7f7f; text-decoration-color: #7f7f7f\">:</span><a href=\"file:///home/carlo/Desktop/single-projects/manim-demopage/.venv_demo/lib/python3.12/site-packages/manim/scene/scene.py#1044\" target=\"_blank\"><span style=\"color: #7f7f7f; text-decoration-color: #7f7f7f\">1044</span></a>\n",
       "<span style=\"color: #7fbfbf; text-decoration-color: #7fbfbf\">                    </span>         seconds, is too short for the current frame rate of <span style=\"color: #008000; text-decoration-color: #008000\">60</span> FPS. <span style=\"color: #808000; text-decoration-color: #808000; font-weight: bold\">Rendering</span>    <span style=\"color: #7f7f7f; text-decoration-color: #7f7f7f\">             </span>\n",
       "<span style=\"color: #7fbfbf; text-decoration-color: #7fbfbf\">                    </span>         with the shortest possible total run_time of <span style=\"color: #008000; text-decoration-color: #008000\">0.0166667</span> seconds instead.  <span style=\"color: #7f7f7f; text-decoration-color: #7f7f7f\">             </span>\n",
       "</pre>\n"
      ],
      "text/plain": [
       "\u001b[2;36m[01/23/25 11:27:17]\u001b[0m\u001b[2;36m \u001b[0m\u001b[31mWARNING \u001b[0m The original total run_time of \u001b[1;35mintegration_index_Scene.play\u001b[0m\u001b[1m(\u001b[0m\u001b[1m)\u001b[0m, \u001b[32m0.0100503\u001b[0m \u001b]8;id=383836;file:///home/carlo/Desktop/single-projects/manim-demopage/.venv_demo/lib/python3.12/site-packages/manim/scene/scene.py\u001b\\\u001b[2mscene.py\u001b[0m\u001b]8;;\u001b\\\u001b[2m:\u001b[0m\u001b]8;id=593710;file:///home/carlo/Desktop/single-projects/manim-demopage/.venv_demo/lib/python3.12/site-packages/manim/scene/scene.py#1044\u001b\\\u001b[2m1044\u001b[0m\u001b]8;;\u001b\\\n",
       "\u001b[2;36m                    \u001b[0m         seconds, is too short for the current frame rate of \u001b[32m60\u001b[0m FPS. \u001b[1;33mRendering\u001b[0m    \u001b[2m             \u001b[0m\n",
       "\u001b[2;36m                    \u001b[0m         with the shortest possible total run_time of \u001b[32m0.0166667\u001b[0m seconds instead.  \u001b[2m             \u001b[0m\n"
      ]
     },
     "metadata": {},
     "output_type": "display_data"
    },
    {
     "data": {
      "text/html": [
       "<pre style=\"white-space:pre;overflow-x:auto;line-height:normal;font-family:Menlo,'DejaVu Sans Mono',consolas,'Courier New',monospace\"><span style=\"color: #7fbfbf; text-decoration-color: #7fbfbf\">                    </span><span style=\"color: #800000; text-decoration-color: #800000\">WARNING </span> The original total run_time of <span style=\"color: #800080; text-decoration-color: #800080; font-weight: bold\">integration_index_Scene.play</span><span style=\"font-weight: bold\">()</span>, <span style=\"color: #008000; text-decoration-color: #008000\">0.0100503</span> <a href=\"file:///home/carlo/Desktop/single-projects/manim-demopage/.venv_demo/lib/python3.12/site-packages/manim/scene/scene.py\" target=\"_blank\"><span style=\"color: #7f7f7f; text-decoration-color: #7f7f7f\">scene.py</span></a><span style=\"color: #7f7f7f; text-decoration-color: #7f7f7f\">:</span><a href=\"file:///home/carlo/Desktop/single-projects/manim-demopage/.venv_demo/lib/python3.12/site-packages/manim/scene/scene.py#1044\" target=\"_blank\"><span style=\"color: #7f7f7f; text-decoration-color: #7f7f7f\">1044</span></a>\n",
       "<span style=\"color: #7fbfbf; text-decoration-color: #7fbfbf\">                    </span>         seconds, is too short for the current frame rate of <span style=\"color: #008000; text-decoration-color: #008000\">60</span> FPS. <span style=\"color: #808000; text-decoration-color: #808000; font-weight: bold\">Rendering</span>    <span style=\"color: #7f7f7f; text-decoration-color: #7f7f7f\">             </span>\n",
       "<span style=\"color: #7fbfbf; text-decoration-color: #7fbfbf\">                    </span>         with the shortest possible total run_time of <span style=\"color: #008000; text-decoration-color: #008000\">0.0166667</span> seconds instead.  <span style=\"color: #7f7f7f; text-decoration-color: #7f7f7f\">             </span>\n",
       "</pre>\n"
      ],
      "text/plain": [
       "\u001b[2;36m                   \u001b[0m\u001b[2;36m \u001b[0m\u001b[31mWARNING \u001b[0m The original total run_time of \u001b[1;35mintegration_index_Scene.play\u001b[0m\u001b[1m(\u001b[0m\u001b[1m)\u001b[0m, \u001b[32m0.0100503\u001b[0m \u001b]8;id=201088;file:///home/carlo/Desktop/single-projects/manim-demopage/.venv_demo/lib/python3.12/site-packages/manim/scene/scene.py\u001b\\\u001b[2mscene.py\u001b[0m\u001b]8;;\u001b\\\u001b[2m:\u001b[0m\u001b]8;id=274596;file:///home/carlo/Desktop/single-projects/manim-demopage/.venv_demo/lib/python3.12/site-packages/manim/scene/scene.py#1044\u001b\\\u001b[2m1044\u001b[0m\u001b]8;;\u001b\\\n",
       "\u001b[2;36m                    \u001b[0m         seconds, is too short for the current frame rate of \u001b[32m60\u001b[0m FPS. \u001b[1;33mRendering\u001b[0m    \u001b[2m             \u001b[0m\n",
       "\u001b[2;36m                    \u001b[0m         with the shortest possible total run_time of \u001b[32m0.0166667\u001b[0m seconds instead.  \u001b[2m             \u001b[0m\n"
      ]
     },
     "metadata": {},
     "output_type": "display_data"
    },
    {
     "data": {
      "text/html": [
       "<video src=\"media/jupyter/integration_index_Scene@2025-01-23@11-27-20.mp4\" controls autoplay loop style=\"max-width: 60%;\"  >\n",
       "      Your browser does not support the <code>video</code> element.\n",
       "    </video>"
      ],
      "text/plain": [
       "<IPython.core.display.Video object>"
      ]
     },
     "metadata": {},
     "output_type": "display_data"
    }
   ],
   "source": [
    "%%manim -qh --fps 60 $int_video_index_scene\n",
    "\n",
    "class integration_index_Scene(Scene):\n",
    "    def construct(self):\n",
    "        CVC = Text('CVC', font_size = 12, weight = BOLD, color = WHITE, font = 'Latin Modern Sans').align_on_border(RIGHT + DOWN, buff = 0.2)\n",
    "        self.add(CVC)\n",
    "\n",
    "        text_riemann = Tex(r\"Riemann Sum: $\\int_a^bf(x)dx\\approx\\sum_{i=1}^nf(x_i)\\Delta x$\", font_size = 48).align_on_border(UP + LEFT, buff = 0.5).shift(0.5 * RIGHT)\n",
    "        text_riemann[0][21:33].set_color(BLUE)\n",
    "        # text_riemann[0][34:46].set_color(BLUE)\n",
    "\n",
    "        fxi_box = SurroundingRectangle(text_riemann[0][26:31], buff = .1, color = BLUE)\n",
    "        dx_box = SurroundingRectangle(text_riemann[0][31:33], buff = .1, color = BLUE)\n",
    "\n",
    "\n",
    "        # Integrierbare Funktion (abhängig von x)\n",
    "        func_range = [2, 11]\n",
    "        def integrable_function(x):\n",
    "            return -1 + 3*x - 14*(x/4)**2 + 3.8*(x/4)**3\n",
    "\n",
    "        \n",
    "        # Riemann-Summe (abhängig von n)\n",
    "        def riemann_squares(n):\n",
    "            a = func_range[0]\n",
    "            b = func_range[1]\n",
    "            delta_x = (b - a) / n\n",
    "            riemann_group = VGroup()\n",
    "            for i in range(n):\n",
    "                left = a + i * delta_x\n",
    "                right = a + (i+1) * delta_x\n",
    "                upper = integrable_function(right)\n",
    "                polygon = Polygon(ax.c2p(left, 0), ax.c2p(left, upper), ax.c2p(right, upper), ax.c2p(right, 0), stroke_width = 1.5, color = BLUE, fill_color = BLUE, fill_opacity = 0.25, stroke_opacity = 1)\n",
    "                riemann_group.add(polygon)\n",
    "                #self.add(polygon)\n",
    "            return riemann_group\n",
    "\n",
    "\n",
    "        # Main: Coordinate System\n",
    "        origin = [0, -0.5, 0]\n",
    "\n",
    "        x_range = [-0.5, 3.75*PI, 1]\n",
    "        y_range = [-4, 6, 1]\n",
    "\n",
    "        x_length = 11\n",
    "        y_length = 5.5\n",
    "\n",
    "        x_dict = dict(zip([func_range[0], func_range[1]], [r\"a\", r\"b\"]))\n",
    "\n",
    "        npla = NumberPlane(\n",
    "            x_range = x_range, y_range = y_range, x_length = x_length, y_length = y_length, \n",
    "            axis_config = {\"include_numbers\": False, \"stroke_opacity\": 0.25}, background_line_style = {\"stroke_opacity\": 0.25}, ).move_to(origin)\n",
    "        ax = Axes(x_range = x_range, y_range = y_range, x_length = x_length, y_length = y_length, axis_config = {\"stroke_width\": 1, \"stroke_opacity\": 0.75}).move_to(origin).add_coordinates(x_dict)\n",
    "\n",
    "        ax_xlabel = ax.get_x_axis_label(Tex(r\"x\", font_size = 36)).shift(0.25*DOWN + 0.125*RIGHT)\n",
    "        ax_ylabel = ax.get_y_axis_label(Tex(r\"y\", font_size = 36)).shift(0.8125*LEFT + 0.5*DOWN)\n",
    "\n",
    "        coordinate_system = VGroup(npla, ax, ax_xlabel, ax_ylabel)\n",
    "        func = ax.plot(integrable_function, color = WHITE, stroke_width = 1.5, stroke_opacity = 1, x_range = [0, func_range[1]])\n",
    "\n",
    "        fa_connect = DashedLine(ax.c2p(func_range[0], 0), ax.c2p(func_range[0], integrable_function(func_range[0])), stroke_color = WHITE, stroke_width = 1.5, stroke_opacity = 1)\n",
    "        fb_connect = DashedLine(ax.c2p(func_range[1], 0), ax.c2p(func_range[1], integrable_function(func_range[1])), stroke_color = WHITE, stroke_width = 1.5, stroke_opacity = 1)\n",
    "\n",
    "        # braces\n",
    "        brace_rect = Polygon(\n",
    "            ax.c2p(func_range[0], 0), \n",
    "            ax.c2p(func_range[0], integrable_function(func_range[0] + (func_range[1] - func_range[0]) / 10)), \n",
    "            ax.c2p(func_range[0] + (func_range[1] - func_range[0]) / 10, integrable_function(func_range[0] + (func_range[1] - func_range[0]) / 10)), \n",
    "            ax.c2p(func_range[0] + (func_range[1] - func_range[0]) / 10, 0))\n",
    "\n",
    "        fxi_brace = Brace(brace_rect, color = BLUE, direction = np.array([-1, 0, 0]), buff = 0.2, sharpness = 2)\n",
    "        dx_brace = Brace(brace_rect, color = BLUE, direction = np.array([0, -1, 0]), buff = 0.2, sharpness = 2)\n",
    "        fxi_text = Tex(r\"$f(x_1)$\", font_size = 36, color = BLUE).next_to(fxi_brace, LEFT, buff = 0.2)\n",
    "        dx_text = Tex(r\"$\\Delta x$\", font_size = 36, color = BLUE).next_to(dx_brace, DOWN, buff = 0.1)\n",
    "        fxi_brace_group = VGroup(fxi_brace, fxi_text)\n",
    "        dx_brace_group = VGroup(dx_brace, dx_text)\n",
    "\n",
    "\n",
    "        self.add(text_riemann, coordinate_system, func, fa_connect, fb_connect)\n",
    "        self.wait(0.5)\n",
    "        riemann_squares_pre = riemann_squares(10)\n",
    "        self.play(Create(riemann_squares_pre), run_time = 1.5)\n",
    "        self.wait(0.5)\n",
    "        self.play(Create(fxi_box), Create(dx_box), run_time = 1.5)\n",
    "        self.play(TransformFromCopy(fxi_box, fxi_brace_group), TransformFromCopy(dx_box, dx_brace_group), run_time = 1.5)\n",
    "        self.wait(1.5)\n",
    "        self.play(Uncreate(fxi_box), Uncreate(dx_box), FadeOut(fxi_brace_group), FadeOut(dx_brace_group), run_time = 1.5)\n",
    "        self.wait(0.5)\n",
    "\n",
    "        for i in range(11, 200, 1):\n",
    "            riemann_squares_post = riemann_squares(i)\n",
    "            self.play(FadeTransform(riemann_squares_pre, riemann_squares_post), run_time = 2 / i)\n",
    "            riemann_squares_pre = riemann_squares_post\n",
    "\n",
    "        self.wait(3)"
   ]
  }
 ],
 "metadata": {
  "kernelspec": {
   "display_name": ".venv_demo",
   "language": "python",
   "name": "python3"
  },
  "language_info": {
   "codemirror_mode": {
    "name": "ipython",
    "version": 3
   },
   "file_extension": ".py",
   "mimetype": "text/x-python",
   "name": "python",
   "nbconvert_exporter": "python",
   "pygments_lexer": "ipython3",
   "version": "3.12.3"
  },
  "orig_nbformat": 4
 },
 "nbformat": 4,
 "nbformat_minor": 2
}
