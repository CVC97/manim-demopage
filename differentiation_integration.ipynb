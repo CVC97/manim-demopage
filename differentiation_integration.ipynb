{
 "cells": [
  {
   "cell_type": "code",
   "execution_count": 2,
   "metadata": {},
   "outputs": [
    {
     "name": "stdout",
     "output_type": "stream",
     "text": [
      "Jupyter Capture Output v0.0.11\n"
     ]
    }
   ],
   "source": [
    "from manim import *\n",
    "from numpy import linalg as npl\n",
    "import math\n",
    "import jupyter_capture_output\n",
    "\n",
    "int_video_scene = \" -v WARNING --progress_bar None --disable_caching integration_Scene\"\n",
    "int_image_scene = f\" -v WARNING --progress_bar None --disable_caching -r {2*427},{2*240}  -s integration_Scene\"\n",
    "\n",
    "int_video_index_scene = \" -v WARNING --progress_bar None --disable_caching integration_index_Scene\"\n",
    "int_image_index_scene = f\" -v WARNING --progress_bar None --disable_caching -r {2*427},{2*240}  -s integration_index_Scene\""
   ]
  },
  {
   "cell_type": "code",
   "execution_count": 3,
   "metadata": {},
   "outputs": [
    {
     "data": {
      "text/html": [
       "<pre style=\"white-space:pre;overflow-x:auto;line-height:normal;font-family:Menlo,'DejaVu Sans Mono',consolas,'Courier New',monospace\">Manim Community <span style=\"color: #008000; text-decoration-color: #008000\">v0.19.0</span>\n",
       "\n",
       "</pre>\n"
      ],
      "text/plain": [
       "Manim Community \u001b[32mv0.\u001b[0m\u001b[32m19.0\u001b[0m\n",
       "\n"
      ]
     },
     "metadata": {},
     "output_type": "display_data"
    },
    {
     "data": {
      "text/html": [
       "<pre style=\"white-space:pre;overflow-x:auto;line-height:normal;font-family:Menlo,'DejaVu Sans Mono',consolas,'Courier New',monospace\"><span style=\"color: #7fbfbf; text-decoration-color: #7fbfbf\">[01/24/25 14:36:13] </span><span style=\"color: #800000; text-decoration-color: #800000\">WARNING </span> The original total run_time of <span style=\"color: #800080; text-decoration-color: #800080; font-weight: bold\">integration_index_Scene.play</span><span style=\"font-weight: bold\">()</span>, <span style=\"color: #008000; text-decoration-color: #008000\">0.0165289</span> <a href=\"file:///home/carlo/Desktop/single-projects/manim-demopage/.venv_demo/lib/python3.12/site-packages/manim/scene/scene.py\" target=\"_blank\"><span style=\"color: #7f7f7f; text-decoration-color: #7f7f7f\">scene.py</span></a><span style=\"color: #7f7f7f; text-decoration-color: #7f7f7f\">:</span><a href=\"file:///home/carlo/Desktop/single-projects/manim-demopage/.venv_demo/lib/python3.12/site-packages/manim/scene/scene.py#1044\" target=\"_blank\"><span style=\"color: #7f7f7f; text-decoration-color: #7f7f7f\">1044</span></a>\n",
       "<span style=\"color: #7fbfbf; text-decoration-color: #7fbfbf\">                    </span>         seconds, is too short for the current frame rate of <span style=\"color: #008000; text-decoration-color: #008000\">60</span> FPS. <span style=\"color: #808000; text-decoration-color: #808000; font-weight: bold\">Rendering</span>    <span style=\"color: #7f7f7f; text-decoration-color: #7f7f7f\">             </span>\n",
       "<span style=\"color: #7fbfbf; text-decoration-color: #7fbfbf\">                    </span>         with the shortest possible total run_time of <span style=\"color: #008000; text-decoration-color: #008000\">0.0166667</span> seconds instead.  <span style=\"color: #7f7f7f; text-decoration-color: #7f7f7f\">             </span>\n",
       "</pre>\n"
      ],
      "text/plain": [
       "\u001b[2;36m[01/24/25 14:36:13]\u001b[0m\u001b[2;36m \u001b[0m\u001b[31mWARNING \u001b[0m The original total run_time of \u001b[1;35mintegration_index_Scene.play\u001b[0m\u001b[1m(\u001b[0m\u001b[1m)\u001b[0m, \u001b[32m0.0165289\u001b[0m \u001b]8;id=27766;file:///home/carlo/Desktop/single-projects/manim-demopage/.venv_demo/lib/python3.12/site-packages/manim/scene/scene.py\u001b\\\u001b[2mscene.py\u001b[0m\u001b]8;;\u001b\\\u001b[2m:\u001b[0m\u001b]8;id=620070;file:///home/carlo/Desktop/single-projects/manim-demopage/.venv_demo/lib/python3.12/site-packages/manim/scene/scene.py#1044\u001b\\\u001b[2m1044\u001b[0m\u001b]8;;\u001b\\\n",
       "\u001b[2;36m                    \u001b[0m         seconds, is too short for the current frame rate of \u001b[32m60\u001b[0m FPS. \u001b[1;33mRendering\u001b[0m    \u001b[2m             \u001b[0m\n",
       "\u001b[2;36m                    \u001b[0m         with the shortest possible total run_time of \u001b[32m0.0166667\u001b[0m seconds instead.  \u001b[2m             \u001b[0m\n"
      ]
     },
     "metadata": {},
     "output_type": "display_data"
    },
    {
     "data": {
      "text/html": [
       "<pre style=\"white-space:pre;overflow-x:auto;line-height:normal;font-family:Menlo,'DejaVu Sans Mono',consolas,'Courier New',monospace\"><span style=\"color: #7fbfbf; text-decoration-color: #7fbfbf\">                    </span><span style=\"color: #800000; text-decoration-color: #800000\">WARNING </span> The original total run_time of <span style=\"color: #800080; text-decoration-color: #800080; font-weight: bold\">integration_index_Scene.play</span><span style=\"font-weight: bold\">()</span>, <span style=\"color: #008000; text-decoration-color: #008000\">0.0165289</span> <a href=\"file:///home/carlo/Desktop/single-projects/manim-demopage/.venv_demo/lib/python3.12/site-packages/manim/scene/scene.py\" target=\"_blank\"><span style=\"color: #7f7f7f; text-decoration-color: #7f7f7f\">scene.py</span></a><span style=\"color: #7f7f7f; text-decoration-color: #7f7f7f\">:</span><a href=\"file:///home/carlo/Desktop/single-projects/manim-demopage/.venv_demo/lib/python3.12/site-packages/manim/scene/scene.py#1044\" target=\"_blank\"><span style=\"color: #7f7f7f; text-decoration-color: #7f7f7f\">1044</span></a>\n",
       "<span style=\"color: #7fbfbf; text-decoration-color: #7fbfbf\">                    </span>         seconds, is too short for the current frame rate of <span style=\"color: #008000; text-decoration-color: #008000\">60</span> FPS. <span style=\"color: #808000; text-decoration-color: #808000; font-weight: bold\">Rendering</span>    <span style=\"color: #7f7f7f; text-decoration-color: #7f7f7f\">             </span>\n",
       "<span style=\"color: #7fbfbf; text-decoration-color: #7fbfbf\">                    </span>         with the shortest possible total run_time of <span style=\"color: #008000; text-decoration-color: #008000\">0.0166667</span> seconds instead.  <span style=\"color: #7f7f7f; text-decoration-color: #7f7f7f\">             </span>\n",
       "</pre>\n"
      ],
      "text/plain": [
       "\u001b[2;36m                   \u001b[0m\u001b[2;36m \u001b[0m\u001b[31mWARNING \u001b[0m The original total run_time of \u001b[1;35mintegration_index_Scene.play\u001b[0m\u001b[1m(\u001b[0m\u001b[1m)\u001b[0m, \u001b[32m0.0165289\u001b[0m \u001b]8;id=630117;file:///home/carlo/Desktop/single-projects/manim-demopage/.venv_demo/lib/python3.12/site-packages/manim/scene/scene.py\u001b\\\u001b[2mscene.py\u001b[0m\u001b]8;;\u001b\\\u001b[2m:\u001b[0m\u001b]8;id=32885;file:///home/carlo/Desktop/single-projects/manim-demopage/.venv_demo/lib/python3.12/site-packages/manim/scene/scene.py#1044\u001b\\\u001b[2m1044\u001b[0m\u001b]8;;\u001b\\\n",
       "\u001b[2;36m                    \u001b[0m         seconds, is too short for the current frame rate of \u001b[32m60\u001b[0m FPS. \u001b[1;33mRendering\u001b[0m    \u001b[2m             \u001b[0m\n",
       "\u001b[2;36m                    \u001b[0m         with the shortest possible total run_time of \u001b[32m0.0166667\u001b[0m seconds instead.  \u001b[2m             \u001b[0m\n"
      ]
     },
     "metadata": {},
     "output_type": "display_data"
    },
    {
     "data": {
      "text/html": [
       "<pre style=\"white-space:pre;overflow-x:auto;line-height:normal;font-family:Menlo,'DejaVu Sans Mono',consolas,'Courier New',monospace\"><span style=\"color: #7fbfbf; text-decoration-color: #7fbfbf\">                    </span><span style=\"color: #800000; text-decoration-color: #800000\">WARNING </span> The original total run_time of <span style=\"color: #800080; text-decoration-color: #800080; font-weight: bold\">integration_index_Scene.play</span><span style=\"font-weight: bold\">()</span>, <span style=\"color: #008000; text-decoration-color: #008000\">0.0163934</span> <a href=\"file:///home/carlo/Desktop/single-projects/manim-demopage/.venv_demo/lib/python3.12/site-packages/manim/scene/scene.py\" target=\"_blank\"><span style=\"color: #7f7f7f; text-decoration-color: #7f7f7f\">scene.py</span></a><span style=\"color: #7f7f7f; text-decoration-color: #7f7f7f\">:</span><a href=\"file:///home/carlo/Desktop/single-projects/manim-demopage/.venv_demo/lib/python3.12/site-packages/manim/scene/scene.py#1044\" target=\"_blank\"><span style=\"color: #7f7f7f; text-decoration-color: #7f7f7f\">1044</span></a>\n",
       "<span style=\"color: #7fbfbf; text-decoration-color: #7fbfbf\">                    </span>         seconds, is too short for the current frame rate of <span style=\"color: #008000; text-decoration-color: #008000\">60</span> FPS. <span style=\"color: #808000; text-decoration-color: #808000; font-weight: bold\">Rendering</span>    <span style=\"color: #7f7f7f; text-decoration-color: #7f7f7f\">             </span>\n",
       "<span style=\"color: #7fbfbf; text-decoration-color: #7fbfbf\">                    </span>         with the shortest possible total run_time of <span style=\"color: #008000; text-decoration-color: #008000\">0.0166667</span> seconds instead.  <span style=\"color: #7f7f7f; text-decoration-color: #7f7f7f\">             </span>\n",
       "</pre>\n"
      ],
      "text/plain": [
       "\u001b[2;36m                   \u001b[0m\u001b[2;36m \u001b[0m\u001b[31mWARNING \u001b[0m The original total run_time of \u001b[1;35mintegration_index_Scene.play\u001b[0m\u001b[1m(\u001b[0m\u001b[1m)\u001b[0m, \u001b[32m0.0163934\u001b[0m \u001b]8;id=567474;file:///home/carlo/Desktop/single-projects/manim-demopage/.venv_demo/lib/python3.12/site-packages/manim/scene/scene.py\u001b\\\u001b[2mscene.py\u001b[0m\u001b]8;;\u001b\\\u001b[2m:\u001b[0m\u001b]8;id=708918;file:///home/carlo/Desktop/single-projects/manim-demopage/.venv_demo/lib/python3.12/site-packages/manim/scene/scene.py#1044\u001b\\\u001b[2m1044\u001b[0m\u001b]8;;\u001b\\\n",
       "\u001b[2;36m                    \u001b[0m         seconds, is too short for the current frame rate of \u001b[32m60\u001b[0m FPS. \u001b[1;33mRendering\u001b[0m    \u001b[2m             \u001b[0m\n",
       "\u001b[2;36m                    \u001b[0m         with the shortest possible total run_time of \u001b[32m0.0166667\u001b[0m seconds instead.  \u001b[2m             \u001b[0m\n"
      ]
     },
     "metadata": {},
     "output_type": "display_data"
    },
    {
     "data": {
      "text/html": [
       "<pre style=\"white-space:pre;overflow-x:auto;line-height:normal;font-family:Menlo,'DejaVu Sans Mono',consolas,'Courier New',monospace\"><span style=\"color: #7fbfbf; text-decoration-color: #7fbfbf\">                    </span><span style=\"color: #800000; text-decoration-color: #800000\">WARNING </span> The original total run_time of <span style=\"color: #800080; text-decoration-color: #800080; font-weight: bold\">integration_index_Scene.play</span><span style=\"font-weight: bold\">()</span>, <span style=\"color: #008000; text-decoration-color: #008000\">0.0163934</span> <a href=\"file:///home/carlo/Desktop/single-projects/manim-demopage/.venv_demo/lib/python3.12/site-packages/manim/scene/scene.py\" target=\"_blank\"><span style=\"color: #7f7f7f; text-decoration-color: #7f7f7f\">scene.py</span></a><span style=\"color: #7f7f7f; text-decoration-color: #7f7f7f\">:</span><a href=\"file:///home/carlo/Desktop/single-projects/manim-demopage/.venv_demo/lib/python3.12/site-packages/manim/scene/scene.py#1044\" target=\"_blank\"><span style=\"color: #7f7f7f; text-decoration-color: #7f7f7f\">1044</span></a>\n",
       "<span style=\"color: #7fbfbf; text-decoration-color: #7fbfbf\">                    </span>         seconds, is too short for the current frame rate of <span style=\"color: #008000; text-decoration-color: #008000\">60</span> FPS. <span style=\"color: #808000; text-decoration-color: #808000; font-weight: bold\">Rendering</span>    <span style=\"color: #7f7f7f; text-decoration-color: #7f7f7f\">             </span>\n",
       "<span style=\"color: #7fbfbf; text-decoration-color: #7fbfbf\">                    </span>         with the shortest possible total run_time of <span style=\"color: #008000; text-decoration-color: #008000\">0.0166667</span> seconds instead.  <span style=\"color: #7f7f7f; text-decoration-color: #7f7f7f\">             </span>\n",
       "</pre>\n"
      ],
      "text/plain": [
       "\u001b[2;36m                   \u001b[0m\u001b[2;36m \u001b[0m\u001b[31mWARNING \u001b[0m The original total run_time of \u001b[1;35mintegration_index_Scene.play\u001b[0m\u001b[1m(\u001b[0m\u001b[1m)\u001b[0m, \u001b[32m0.0163934\u001b[0m \u001b]8;id=182846;file:///home/carlo/Desktop/single-projects/manim-demopage/.venv_demo/lib/python3.12/site-packages/manim/scene/scene.py\u001b\\\u001b[2mscene.py\u001b[0m\u001b]8;;\u001b\\\u001b[2m:\u001b[0m\u001b]8;id=537500;file:///home/carlo/Desktop/single-projects/manim-demopage/.venv_demo/lib/python3.12/site-packages/manim/scene/scene.py#1044\u001b\\\u001b[2m1044\u001b[0m\u001b]8;;\u001b\\\n",
       "\u001b[2;36m                    \u001b[0m         seconds, is too short for the current frame rate of \u001b[32m60\u001b[0m FPS. \u001b[1;33mRendering\u001b[0m    \u001b[2m             \u001b[0m\n",
       "\u001b[2;36m                    \u001b[0m         with the shortest possible total run_time of \u001b[32m0.0166667\u001b[0m seconds instead.  \u001b[2m             \u001b[0m\n"
      ]
     },
     "metadata": {},
     "output_type": "display_data"
    },
    {
     "data": {
      "text/html": [
       "<pre style=\"white-space:pre;overflow-x:auto;line-height:normal;font-family:Menlo,'DejaVu Sans Mono',consolas,'Courier New',monospace\"><span style=\"color: #7fbfbf; text-decoration-color: #7fbfbf\">                    </span><span style=\"color: #800000; text-decoration-color: #800000\">WARNING </span> The original total run_time of <span style=\"color: #800080; text-decoration-color: #800080; font-weight: bold\">integration_index_Scene.play</span><span style=\"font-weight: bold\">()</span>, <span style=\"color: #008000; text-decoration-color: #008000\">0.0162602</span> <a href=\"file:///home/carlo/Desktop/single-projects/manim-demopage/.venv_demo/lib/python3.12/site-packages/manim/scene/scene.py\" target=\"_blank\"><span style=\"color: #7f7f7f; text-decoration-color: #7f7f7f\">scene.py</span></a><span style=\"color: #7f7f7f; text-decoration-color: #7f7f7f\">:</span><a href=\"file:///home/carlo/Desktop/single-projects/manim-demopage/.venv_demo/lib/python3.12/site-packages/manim/scene/scene.py#1044\" target=\"_blank\"><span style=\"color: #7f7f7f; text-decoration-color: #7f7f7f\">1044</span></a>\n",
       "<span style=\"color: #7fbfbf; text-decoration-color: #7fbfbf\">                    </span>         seconds, is too short for the current frame rate of <span style=\"color: #008000; text-decoration-color: #008000\">60</span> FPS. <span style=\"color: #808000; text-decoration-color: #808000; font-weight: bold\">Rendering</span>    <span style=\"color: #7f7f7f; text-decoration-color: #7f7f7f\">             </span>\n",
       "<span style=\"color: #7fbfbf; text-decoration-color: #7fbfbf\">                    </span>         with the shortest possible total run_time of <span style=\"color: #008000; text-decoration-color: #008000\">0.0166667</span> seconds instead.  <span style=\"color: #7f7f7f; text-decoration-color: #7f7f7f\">             </span>\n",
       "</pre>\n"
      ],
      "text/plain": [
       "\u001b[2;36m                   \u001b[0m\u001b[2;36m \u001b[0m\u001b[31mWARNING \u001b[0m The original total run_time of \u001b[1;35mintegration_index_Scene.play\u001b[0m\u001b[1m(\u001b[0m\u001b[1m)\u001b[0m, \u001b[32m0.0162602\u001b[0m \u001b]8;id=586611;file:///home/carlo/Desktop/single-projects/manim-demopage/.venv_demo/lib/python3.12/site-packages/manim/scene/scene.py\u001b\\\u001b[2mscene.py\u001b[0m\u001b]8;;\u001b\\\u001b[2m:\u001b[0m\u001b]8;id=581805;file:///home/carlo/Desktop/single-projects/manim-demopage/.venv_demo/lib/python3.12/site-packages/manim/scene/scene.py#1044\u001b\\\u001b[2m1044\u001b[0m\u001b]8;;\u001b\\\n",
       "\u001b[2;36m                    \u001b[0m         seconds, is too short for the current frame rate of \u001b[32m60\u001b[0m FPS. \u001b[1;33mRendering\u001b[0m    \u001b[2m             \u001b[0m\n",
       "\u001b[2;36m                    \u001b[0m         with the shortest possible total run_time of \u001b[32m0.0166667\u001b[0m seconds instead.  \u001b[2m             \u001b[0m\n"
      ]
     },
     "metadata": {},
     "output_type": "display_data"
    },
    {
     "data": {
      "text/html": [
       "<pre style=\"white-space:pre;overflow-x:auto;line-height:normal;font-family:Menlo,'DejaVu Sans Mono',consolas,'Courier New',monospace\"><span style=\"color: #7fbfbf; text-decoration-color: #7fbfbf\">                    </span><span style=\"color: #800000; text-decoration-color: #800000\">WARNING </span> The original total run_time of <span style=\"color: #800080; text-decoration-color: #800080; font-weight: bold\">integration_index_Scene.play</span><span style=\"font-weight: bold\">()</span>, <span style=\"color: #008000; text-decoration-color: #008000\">0.0162602</span> <a href=\"file:///home/carlo/Desktop/single-projects/manim-demopage/.venv_demo/lib/python3.12/site-packages/manim/scene/scene.py\" target=\"_blank\"><span style=\"color: #7f7f7f; text-decoration-color: #7f7f7f\">scene.py</span></a><span style=\"color: #7f7f7f; text-decoration-color: #7f7f7f\">:</span><a href=\"file:///home/carlo/Desktop/single-projects/manim-demopage/.venv_demo/lib/python3.12/site-packages/manim/scene/scene.py#1044\" target=\"_blank\"><span style=\"color: #7f7f7f; text-decoration-color: #7f7f7f\">1044</span></a>\n",
       "<span style=\"color: #7fbfbf; text-decoration-color: #7fbfbf\">                    </span>         seconds, is too short for the current frame rate of <span style=\"color: #008000; text-decoration-color: #008000\">60</span> FPS. <span style=\"color: #808000; text-decoration-color: #808000; font-weight: bold\">Rendering</span>    <span style=\"color: #7f7f7f; text-decoration-color: #7f7f7f\">             </span>\n",
       "<span style=\"color: #7fbfbf; text-decoration-color: #7fbfbf\">                    </span>         with the shortest possible total run_time of <span style=\"color: #008000; text-decoration-color: #008000\">0.0166667</span> seconds instead.  <span style=\"color: #7f7f7f; text-decoration-color: #7f7f7f\">             </span>\n",
       "</pre>\n"
      ],
      "text/plain": [
       "\u001b[2;36m                   \u001b[0m\u001b[2;36m \u001b[0m\u001b[31mWARNING \u001b[0m The original total run_time of \u001b[1;35mintegration_index_Scene.play\u001b[0m\u001b[1m(\u001b[0m\u001b[1m)\u001b[0m, \u001b[32m0.0162602\u001b[0m \u001b]8;id=116130;file:///home/carlo/Desktop/single-projects/manim-demopage/.venv_demo/lib/python3.12/site-packages/manim/scene/scene.py\u001b\\\u001b[2mscene.py\u001b[0m\u001b]8;;\u001b\\\u001b[2m:\u001b[0m\u001b]8;id=816094;file:///home/carlo/Desktop/single-projects/manim-demopage/.venv_demo/lib/python3.12/site-packages/manim/scene/scene.py#1044\u001b\\\u001b[2m1044\u001b[0m\u001b]8;;\u001b\\\n",
       "\u001b[2;36m                    \u001b[0m         seconds, is too short for the current frame rate of \u001b[32m60\u001b[0m FPS. \u001b[1;33mRendering\u001b[0m    \u001b[2m             \u001b[0m\n",
       "\u001b[2;36m                    \u001b[0m         with the shortest possible total run_time of \u001b[32m0.0166667\u001b[0m seconds instead.  \u001b[2m             \u001b[0m\n"
      ]
     },
     "metadata": {},
     "output_type": "display_data"
    },
    {
     "data": {
      "text/html": [
       "<pre style=\"white-space:pre;overflow-x:auto;line-height:normal;font-family:Menlo,'DejaVu Sans Mono',consolas,'Courier New',monospace\"><span style=\"color: #7fbfbf; text-decoration-color: #7fbfbf\">                    </span><span style=\"color: #800000; text-decoration-color: #800000\">WARNING </span> The original total run_time of <span style=\"color: #800080; text-decoration-color: #800080; font-weight: bold\">integration_index_Scene.play</span><span style=\"font-weight: bold\">()</span>, <span style=\"color: #008000; text-decoration-color: #008000\">0.016129</span>  <a href=\"file:///home/carlo/Desktop/single-projects/manim-demopage/.venv_demo/lib/python3.12/site-packages/manim/scene/scene.py\" target=\"_blank\"><span style=\"color: #7f7f7f; text-decoration-color: #7f7f7f\">scene.py</span></a><span style=\"color: #7f7f7f; text-decoration-color: #7f7f7f\">:</span><a href=\"file:///home/carlo/Desktop/single-projects/manim-demopage/.venv_demo/lib/python3.12/site-packages/manim/scene/scene.py#1044\" target=\"_blank\"><span style=\"color: #7f7f7f; text-decoration-color: #7f7f7f\">1044</span></a>\n",
       "<span style=\"color: #7fbfbf; text-decoration-color: #7fbfbf\">                    </span>         seconds, is too short for the current frame rate of <span style=\"color: #008000; text-decoration-color: #008000\">60</span> FPS. <span style=\"color: #808000; text-decoration-color: #808000; font-weight: bold\">Rendering</span>    <span style=\"color: #7f7f7f; text-decoration-color: #7f7f7f\">             </span>\n",
       "<span style=\"color: #7fbfbf; text-decoration-color: #7fbfbf\">                    </span>         with the shortest possible total run_time of <span style=\"color: #008000; text-decoration-color: #008000\">0.0166667</span> seconds instead.  <span style=\"color: #7f7f7f; text-decoration-color: #7f7f7f\">             </span>\n",
       "</pre>\n"
      ],
      "text/plain": [
       "\u001b[2;36m                   \u001b[0m\u001b[2;36m \u001b[0m\u001b[31mWARNING \u001b[0m The original total run_time of \u001b[1;35mintegration_index_Scene.play\u001b[0m\u001b[1m(\u001b[0m\u001b[1m)\u001b[0m, \u001b[32m0.016129\u001b[0m  \u001b]8;id=870820;file:///home/carlo/Desktop/single-projects/manim-demopage/.venv_demo/lib/python3.12/site-packages/manim/scene/scene.py\u001b\\\u001b[2mscene.py\u001b[0m\u001b]8;;\u001b\\\u001b[2m:\u001b[0m\u001b]8;id=50185;file:///home/carlo/Desktop/single-projects/manim-demopage/.venv_demo/lib/python3.12/site-packages/manim/scene/scene.py#1044\u001b\\\u001b[2m1044\u001b[0m\u001b]8;;\u001b\\\n",
       "\u001b[2;36m                    \u001b[0m         seconds, is too short for the current frame rate of \u001b[32m60\u001b[0m FPS. \u001b[1;33mRendering\u001b[0m    \u001b[2m             \u001b[0m\n",
       "\u001b[2;36m                    \u001b[0m         with the shortest possible total run_time of \u001b[32m0.0166667\u001b[0m seconds instead.  \u001b[2m             \u001b[0m\n"
      ]
     },
     "metadata": {},
     "output_type": "display_data"
    },
    {
     "data": {
      "text/html": [
       "<pre style=\"white-space:pre;overflow-x:auto;line-height:normal;font-family:Menlo,'DejaVu Sans Mono',consolas,'Courier New',monospace\"><span style=\"color: #7fbfbf; text-decoration-color: #7fbfbf\">                    </span><span style=\"color: #800000; text-decoration-color: #800000\">WARNING </span> The original total run_time of <span style=\"color: #800080; text-decoration-color: #800080; font-weight: bold\">integration_index_Scene.play</span><span style=\"font-weight: bold\">()</span>, <span style=\"color: #008000; text-decoration-color: #008000\">0.016129</span>  <a href=\"file:///home/carlo/Desktop/single-projects/manim-demopage/.venv_demo/lib/python3.12/site-packages/manim/scene/scene.py\" target=\"_blank\"><span style=\"color: #7f7f7f; text-decoration-color: #7f7f7f\">scene.py</span></a><span style=\"color: #7f7f7f; text-decoration-color: #7f7f7f\">:</span><a href=\"file:///home/carlo/Desktop/single-projects/manim-demopage/.venv_demo/lib/python3.12/site-packages/manim/scene/scene.py#1044\" target=\"_blank\"><span style=\"color: #7f7f7f; text-decoration-color: #7f7f7f\">1044</span></a>\n",
       "<span style=\"color: #7fbfbf; text-decoration-color: #7fbfbf\">                    </span>         seconds, is too short for the current frame rate of <span style=\"color: #008000; text-decoration-color: #008000\">60</span> FPS. <span style=\"color: #808000; text-decoration-color: #808000; font-weight: bold\">Rendering</span>    <span style=\"color: #7f7f7f; text-decoration-color: #7f7f7f\">             </span>\n",
       "<span style=\"color: #7fbfbf; text-decoration-color: #7fbfbf\">                    </span>         with the shortest possible total run_time of <span style=\"color: #008000; text-decoration-color: #008000\">0.0166667</span> seconds instead.  <span style=\"color: #7f7f7f; text-decoration-color: #7f7f7f\">             </span>\n",
       "</pre>\n"
      ],
      "text/plain": [
       "\u001b[2;36m                   \u001b[0m\u001b[2;36m \u001b[0m\u001b[31mWARNING \u001b[0m The original total run_time of \u001b[1;35mintegration_index_Scene.play\u001b[0m\u001b[1m(\u001b[0m\u001b[1m)\u001b[0m, \u001b[32m0.016129\u001b[0m  \u001b]8;id=940228;file:///home/carlo/Desktop/single-projects/manim-demopage/.venv_demo/lib/python3.12/site-packages/manim/scene/scene.py\u001b\\\u001b[2mscene.py\u001b[0m\u001b]8;;\u001b\\\u001b[2m:\u001b[0m\u001b]8;id=863434;file:///home/carlo/Desktop/single-projects/manim-demopage/.venv_demo/lib/python3.12/site-packages/manim/scene/scene.py#1044\u001b\\\u001b[2m1044\u001b[0m\u001b]8;;\u001b\\\n",
       "\u001b[2;36m                    \u001b[0m         seconds, is too short for the current frame rate of \u001b[32m60\u001b[0m FPS. \u001b[1;33mRendering\u001b[0m    \u001b[2m             \u001b[0m\n",
       "\u001b[2;36m                    \u001b[0m         with the shortest possible total run_time of \u001b[32m0.0166667\u001b[0m seconds instead.  \u001b[2m             \u001b[0m\n"
      ]
     },
     "metadata": {},
     "output_type": "display_data"
    },
    {
     "data": {
      "text/html": [
       "<pre style=\"white-space:pre;overflow-x:auto;line-height:normal;font-family:Menlo,'DejaVu Sans Mono',consolas,'Courier New',monospace\"><span style=\"color: #7fbfbf; text-decoration-color: #7fbfbf\">[01/24/25 14:36:14] </span><span style=\"color: #800000; text-decoration-color: #800000\">WARNING </span> The original total run_time of <span style=\"color: #800080; text-decoration-color: #800080; font-weight: bold\">integration_index_Scene.play</span><span style=\"font-weight: bold\">()</span>, <span style=\"color: #008000; text-decoration-color: #008000\">0.016</span>     <a href=\"file:///home/carlo/Desktop/single-projects/manim-demopage/.venv_demo/lib/python3.12/site-packages/manim/scene/scene.py\" target=\"_blank\"><span style=\"color: #7f7f7f; text-decoration-color: #7f7f7f\">scene.py</span></a><span style=\"color: #7f7f7f; text-decoration-color: #7f7f7f\">:</span><a href=\"file:///home/carlo/Desktop/single-projects/manim-demopage/.venv_demo/lib/python3.12/site-packages/manim/scene/scene.py#1044\" target=\"_blank\"><span style=\"color: #7f7f7f; text-decoration-color: #7f7f7f\">1044</span></a>\n",
       "<span style=\"color: #7fbfbf; text-decoration-color: #7fbfbf\">                    </span>         seconds, is too short for the current frame rate of <span style=\"color: #008000; text-decoration-color: #008000\">60</span> FPS. <span style=\"color: #808000; text-decoration-color: #808000; font-weight: bold\">Rendering</span>    <span style=\"color: #7f7f7f; text-decoration-color: #7f7f7f\">             </span>\n",
       "<span style=\"color: #7fbfbf; text-decoration-color: #7fbfbf\">                    </span>         with the shortest possible total run_time of <span style=\"color: #008000; text-decoration-color: #008000\">0.0166667</span> seconds instead.  <span style=\"color: #7f7f7f; text-decoration-color: #7f7f7f\">             </span>\n",
       "</pre>\n"
      ],
      "text/plain": [
       "\u001b[2;36m[01/24/25 14:36:14]\u001b[0m\u001b[2;36m \u001b[0m\u001b[31mWARNING \u001b[0m The original total run_time of \u001b[1;35mintegration_index_Scene.play\u001b[0m\u001b[1m(\u001b[0m\u001b[1m)\u001b[0m, \u001b[32m0.016\u001b[0m     \u001b]8;id=846311;file:///home/carlo/Desktop/single-projects/manim-demopage/.venv_demo/lib/python3.12/site-packages/manim/scene/scene.py\u001b\\\u001b[2mscene.py\u001b[0m\u001b]8;;\u001b\\\u001b[2m:\u001b[0m\u001b]8;id=267088;file:///home/carlo/Desktop/single-projects/manim-demopage/.venv_demo/lib/python3.12/site-packages/manim/scene/scene.py#1044\u001b\\\u001b[2m1044\u001b[0m\u001b]8;;\u001b\\\n",
       "\u001b[2;36m                    \u001b[0m         seconds, is too short for the current frame rate of \u001b[32m60\u001b[0m FPS. \u001b[1;33mRendering\u001b[0m    \u001b[2m             \u001b[0m\n",
       "\u001b[2;36m                    \u001b[0m         with the shortest possible total run_time of \u001b[32m0.0166667\u001b[0m seconds instead.  \u001b[2m             \u001b[0m\n"
      ]
     },
     "metadata": {},
     "output_type": "display_data"
    },
    {
     "data": {
      "text/html": [
       "<pre style=\"white-space:pre;overflow-x:auto;line-height:normal;font-family:Menlo,'DejaVu Sans Mono',consolas,'Courier New',monospace\"><span style=\"color: #7fbfbf; text-decoration-color: #7fbfbf\">                    </span><span style=\"color: #800000; text-decoration-color: #800000\">WARNING </span> The original total run_time of <span style=\"color: #800080; text-decoration-color: #800080; font-weight: bold\">integration_index_Scene.play</span><span style=\"font-weight: bold\">()</span>, <span style=\"color: #008000; text-decoration-color: #008000\">0.016</span>     <a href=\"file:///home/carlo/Desktop/single-projects/manim-demopage/.venv_demo/lib/python3.12/site-packages/manim/scene/scene.py\" target=\"_blank\"><span style=\"color: #7f7f7f; text-decoration-color: #7f7f7f\">scene.py</span></a><span style=\"color: #7f7f7f; text-decoration-color: #7f7f7f\">:</span><a href=\"file:///home/carlo/Desktop/single-projects/manim-demopage/.venv_demo/lib/python3.12/site-packages/manim/scene/scene.py#1044\" target=\"_blank\"><span style=\"color: #7f7f7f; text-decoration-color: #7f7f7f\">1044</span></a>\n",
       "<span style=\"color: #7fbfbf; text-decoration-color: #7fbfbf\">                    </span>         seconds, is too short for the current frame rate of <span style=\"color: #008000; text-decoration-color: #008000\">60</span> FPS. <span style=\"color: #808000; text-decoration-color: #808000; font-weight: bold\">Rendering</span>    <span style=\"color: #7f7f7f; text-decoration-color: #7f7f7f\">             </span>\n",
       "<span style=\"color: #7fbfbf; text-decoration-color: #7fbfbf\">                    </span>         with the shortest possible total run_time of <span style=\"color: #008000; text-decoration-color: #008000\">0.0166667</span> seconds instead.  <span style=\"color: #7f7f7f; text-decoration-color: #7f7f7f\">             </span>\n",
       "</pre>\n"
      ],
      "text/plain": [
       "\u001b[2;36m                   \u001b[0m\u001b[2;36m \u001b[0m\u001b[31mWARNING \u001b[0m The original total run_time of \u001b[1;35mintegration_index_Scene.play\u001b[0m\u001b[1m(\u001b[0m\u001b[1m)\u001b[0m, \u001b[32m0.016\u001b[0m     \u001b]8;id=688465;file:///home/carlo/Desktop/single-projects/manim-demopage/.venv_demo/lib/python3.12/site-packages/manim/scene/scene.py\u001b\\\u001b[2mscene.py\u001b[0m\u001b]8;;\u001b\\\u001b[2m:\u001b[0m\u001b]8;id=892643;file:///home/carlo/Desktop/single-projects/manim-demopage/.venv_demo/lib/python3.12/site-packages/manim/scene/scene.py#1044\u001b\\\u001b[2m1044\u001b[0m\u001b]8;;\u001b\\\n",
       "\u001b[2;36m                    \u001b[0m         seconds, is too short for the current frame rate of \u001b[32m60\u001b[0m FPS. \u001b[1;33mRendering\u001b[0m    \u001b[2m             \u001b[0m\n",
       "\u001b[2;36m                    \u001b[0m         with the shortest possible total run_time of \u001b[32m0.0166667\u001b[0m seconds instead.  \u001b[2m             \u001b[0m\n"
      ]
     },
     "metadata": {},
     "output_type": "display_data"
    },
    {
     "data": {
      "text/html": [
       "<pre style=\"white-space:pre;overflow-x:auto;line-height:normal;font-family:Menlo,'DejaVu Sans Mono',consolas,'Courier New',monospace\"><span style=\"color: #7fbfbf; text-decoration-color: #7fbfbf\">                    </span><span style=\"color: #800000; text-decoration-color: #800000\">WARNING </span> The original total run_time of <span style=\"color: #800080; text-decoration-color: #800080; font-weight: bold\">integration_index_Scene.play</span><span style=\"font-weight: bold\">()</span>, <span style=\"color: #008000; text-decoration-color: #008000\">0.015873</span>  <a href=\"file:///home/carlo/Desktop/single-projects/manim-demopage/.venv_demo/lib/python3.12/site-packages/manim/scene/scene.py\" target=\"_blank\"><span style=\"color: #7f7f7f; text-decoration-color: #7f7f7f\">scene.py</span></a><span style=\"color: #7f7f7f; text-decoration-color: #7f7f7f\">:</span><a href=\"file:///home/carlo/Desktop/single-projects/manim-demopage/.venv_demo/lib/python3.12/site-packages/manim/scene/scene.py#1044\" target=\"_blank\"><span style=\"color: #7f7f7f; text-decoration-color: #7f7f7f\">1044</span></a>\n",
       "<span style=\"color: #7fbfbf; text-decoration-color: #7fbfbf\">                    </span>         seconds, is too short for the current frame rate of <span style=\"color: #008000; text-decoration-color: #008000\">60</span> FPS. <span style=\"color: #808000; text-decoration-color: #808000; font-weight: bold\">Rendering</span>    <span style=\"color: #7f7f7f; text-decoration-color: #7f7f7f\">             </span>\n",
       "<span style=\"color: #7fbfbf; text-decoration-color: #7fbfbf\">                    </span>         with the shortest possible total run_time of <span style=\"color: #008000; text-decoration-color: #008000\">0.0166667</span> seconds instead.  <span style=\"color: #7f7f7f; text-decoration-color: #7f7f7f\">             </span>\n",
       "</pre>\n"
      ],
      "text/plain": [
       "\u001b[2;36m                   \u001b[0m\u001b[2;36m \u001b[0m\u001b[31mWARNING \u001b[0m The original total run_time of \u001b[1;35mintegration_index_Scene.play\u001b[0m\u001b[1m(\u001b[0m\u001b[1m)\u001b[0m, \u001b[32m0.015873\u001b[0m  \u001b]8;id=56944;file:///home/carlo/Desktop/single-projects/manim-demopage/.venv_demo/lib/python3.12/site-packages/manim/scene/scene.py\u001b\\\u001b[2mscene.py\u001b[0m\u001b]8;;\u001b\\\u001b[2m:\u001b[0m\u001b]8;id=509012;file:///home/carlo/Desktop/single-projects/manim-demopage/.venv_demo/lib/python3.12/site-packages/manim/scene/scene.py#1044\u001b\\\u001b[2m1044\u001b[0m\u001b]8;;\u001b\\\n",
       "\u001b[2;36m                    \u001b[0m         seconds, is too short for the current frame rate of \u001b[32m60\u001b[0m FPS. \u001b[1;33mRendering\u001b[0m    \u001b[2m             \u001b[0m\n",
       "\u001b[2;36m                    \u001b[0m         with the shortest possible total run_time of \u001b[32m0.0166667\u001b[0m seconds instead.  \u001b[2m             \u001b[0m\n"
      ]
     },
     "metadata": {},
     "output_type": "display_data"
    },
    {
     "data": {
      "text/html": [
       "<pre style=\"white-space:pre;overflow-x:auto;line-height:normal;font-family:Menlo,'DejaVu Sans Mono',consolas,'Courier New',monospace\"><span style=\"color: #7fbfbf; text-decoration-color: #7fbfbf\">                    </span><span style=\"color: #800000; text-decoration-color: #800000\">WARNING </span> The original total run_time of <span style=\"color: #800080; text-decoration-color: #800080; font-weight: bold\">integration_index_Scene.play</span><span style=\"font-weight: bold\">()</span>, <span style=\"color: #008000; text-decoration-color: #008000\">0.015873</span>  <a href=\"file:///home/carlo/Desktop/single-projects/manim-demopage/.venv_demo/lib/python3.12/site-packages/manim/scene/scene.py\" target=\"_blank\"><span style=\"color: #7f7f7f; text-decoration-color: #7f7f7f\">scene.py</span></a><span style=\"color: #7f7f7f; text-decoration-color: #7f7f7f\">:</span><a href=\"file:///home/carlo/Desktop/single-projects/manim-demopage/.venv_demo/lib/python3.12/site-packages/manim/scene/scene.py#1044\" target=\"_blank\"><span style=\"color: #7f7f7f; text-decoration-color: #7f7f7f\">1044</span></a>\n",
       "<span style=\"color: #7fbfbf; text-decoration-color: #7fbfbf\">                    </span>         seconds, is too short for the current frame rate of <span style=\"color: #008000; text-decoration-color: #008000\">60</span> FPS. <span style=\"color: #808000; text-decoration-color: #808000; font-weight: bold\">Rendering</span>    <span style=\"color: #7f7f7f; text-decoration-color: #7f7f7f\">             </span>\n",
       "<span style=\"color: #7fbfbf; text-decoration-color: #7fbfbf\">                    </span>         with the shortest possible total run_time of <span style=\"color: #008000; text-decoration-color: #008000\">0.0166667</span> seconds instead.  <span style=\"color: #7f7f7f; text-decoration-color: #7f7f7f\">             </span>\n",
       "</pre>\n"
      ],
      "text/plain": [
       "\u001b[2;36m                   \u001b[0m\u001b[2;36m \u001b[0m\u001b[31mWARNING \u001b[0m The original total run_time of \u001b[1;35mintegration_index_Scene.play\u001b[0m\u001b[1m(\u001b[0m\u001b[1m)\u001b[0m, \u001b[32m0.015873\u001b[0m  \u001b]8;id=980459;file:///home/carlo/Desktop/single-projects/manim-demopage/.venv_demo/lib/python3.12/site-packages/manim/scene/scene.py\u001b\\\u001b[2mscene.py\u001b[0m\u001b]8;;\u001b\\\u001b[2m:\u001b[0m\u001b]8;id=164574;file:///home/carlo/Desktop/single-projects/manim-demopage/.venv_demo/lib/python3.12/site-packages/manim/scene/scene.py#1044\u001b\\\u001b[2m1044\u001b[0m\u001b]8;;\u001b\\\n",
       "\u001b[2;36m                    \u001b[0m         seconds, is too short for the current frame rate of \u001b[32m60\u001b[0m FPS. \u001b[1;33mRendering\u001b[0m    \u001b[2m             \u001b[0m\n",
       "\u001b[2;36m                    \u001b[0m         with the shortest possible total run_time of \u001b[32m0.0166667\u001b[0m seconds instead.  \u001b[2m             \u001b[0m\n"
      ]
     },
     "metadata": {},
     "output_type": "display_data"
    },
    {
     "data": {
      "text/html": [
       "<pre style=\"white-space:pre;overflow-x:auto;line-height:normal;font-family:Menlo,'DejaVu Sans Mono',consolas,'Courier New',monospace\"><span style=\"color: #7fbfbf; text-decoration-color: #7fbfbf\">                    </span><span style=\"color: #800000; text-decoration-color: #800000\">WARNING </span> The original total run_time of <span style=\"color: #800080; text-decoration-color: #800080; font-weight: bold\">integration_index_Scene.play</span><span style=\"font-weight: bold\">()</span>, <span style=\"color: #008000; text-decoration-color: #008000\">0.015748</span>  <a href=\"file:///home/carlo/Desktop/single-projects/manim-demopage/.venv_demo/lib/python3.12/site-packages/manim/scene/scene.py\" target=\"_blank\"><span style=\"color: #7f7f7f; text-decoration-color: #7f7f7f\">scene.py</span></a><span style=\"color: #7f7f7f; text-decoration-color: #7f7f7f\">:</span><a href=\"file:///home/carlo/Desktop/single-projects/manim-demopage/.venv_demo/lib/python3.12/site-packages/manim/scene/scene.py#1044\" target=\"_blank\"><span style=\"color: #7f7f7f; text-decoration-color: #7f7f7f\">1044</span></a>\n",
       "<span style=\"color: #7fbfbf; text-decoration-color: #7fbfbf\">                    </span>         seconds, is too short for the current frame rate of <span style=\"color: #008000; text-decoration-color: #008000\">60</span> FPS. <span style=\"color: #808000; text-decoration-color: #808000; font-weight: bold\">Rendering</span>    <span style=\"color: #7f7f7f; text-decoration-color: #7f7f7f\">             </span>\n",
       "<span style=\"color: #7fbfbf; text-decoration-color: #7fbfbf\">                    </span>         with the shortest possible total run_time of <span style=\"color: #008000; text-decoration-color: #008000\">0.0166667</span> seconds instead.  <span style=\"color: #7f7f7f; text-decoration-color: #7f7f7f\">             </span>\n",
       "</pre>\n"
      ],
      "text/plain": [
       "\u001b[2;36m                   \u001b[0m\u001b[2;36m \u001b[0m\u001b[31mWARNING \u001b[0m The original total run_time of \u001b[1;35mintegration_index_Scene.play\u001b[0m\u001b[1m(\u001b[0m\u001b[1m)\u001b[0m, \u001b[32m0.015748\u001b[0m  \u001b]8;id=806001;file:///home/carlo/Desktop/single-projects/manim-demopage/.venv_demo/lib/python3.12/site-packages/manim/scene/scene.py\u001b\\\u001b[2mscene.py\u001b[0m\u001b]8;;\u001b\\\u001b[2m:\u001b[0m\u001b]8;id=436503;file:///home/carlo/Desktop/single-projects/manim-demopage/.venv_demo/lib/python3.12/site-packages/manim/scene/scene.py#1044\u001b\\\u001b[2m1044\u001b[0m\u001b]8;;\u001b\\\n",
       "\u001b[2;36m                    \u001b[0m         seconds, is too short for the current frame rate of \u001b[32m60\u001b[0m FPS. \u001b[1;33mRendering\u001b[0m    \u001b[2m             \u001b[0m\n",
       "\u001b[2;36m                    \u001b[0m         with the shortest possible total run_time of \u001b[32m0.0166667\u001b[0m seconds instead.  \u001b[2m             \u001b[0m\n"
      ]
     },
     "metadata": {},
     "output_type": "display_data"
    },
    {
     "data": {
      "text/html": [
       "<pre style=\"white-space:pre;overflow-x:auto;line-height:normal;font-family:Menlo,'DejaVu Sans Mono',consolas,'Courier New',monospace\"><span style=\"color: #7fbfbf; text-decoration-color: #7fbfbf\">                    </span><span style=\"color: #800000; text-decoration-color: #800000\">WARNING </span> The original total run_time of <span style=\"color: #800080; text-decoration-color: #800080; font-weight: bold\">integration_index_Scene.play</span><span style=\"font-weight: bold\">()</span>, <span style=\"color: #008000; text-decoration-color: #008000\">0.015748</span>  <a href=\"file:///home/carlo/Desktop/single-projects/manim-demopage/.venv_demo/lib/python3.12/site-packages/manim/scene/scene.py\" target=\"_blank\"><span style=\"color: #7f7f7f; text-decoration-color: #7f7f7f\">scene.py</span></a><span style=\"color: #7f7f7f; text-decoration-color: #7f7f7f\">:</span><a href=\"file:///home/carlo/Desktop/single-projects/manim-demopage/.venv_demo/lib/python3.12/site-packages/manim/scene/scene.py#1044\" target=\"_blank\"><span style=\"color: #7f7f7f; text-decoration-color: #7f7f7f\">1044</span></a>\n",
       "<span style=\"color: #7fbfbf; text-decoration-color: #7fbfbf\">                    </span>         seconds, is too short for the current frame rate of <span style=\"color: #008000; text-decoration-color: #008000\">60</span> FPS. <span style=\"color: #808000; text-decoration-color: #808000; font-weight: bold\">Rendering</span>    <span style=\"color: #7f7f7f; text-decoration-color: #7f7f7f\">             </span>\n",
       "<span style=\"color: #7fbfbf; text-decoration-color: #7fbfbf\">                    </span>         with the shortest possible total run_time of <span style=\"color: #008000; text-decoration-color: #008000\">0.0166667</span> seconds instead.  <span style=\"color: #7f7f7f; text-decoration-color: #7f7f7f\">             </span>\n",
       "</pre>\n"
      ],
      "text/plain": [
       "\u001b[2;36m                   \u001b[0m\u001b[2;36m \u001b[0m\u001b[31mWARNING \u001b[0m The original total run_time of \u001b[1;35mintegration_index_Scene.play\u001b[0m\u001b[1m(\u001b[0m\u001b[1m)\u001b[0m, \u001b[32m0.015748\u001b[0m  \u001b]8;id=796255;file:///home/carlo/Desktop/single-projects/manim-demopage/.venv_demo/lib/python3.12/site-packages/manim/scene/scene.py\u001b\\\u001b[2mscene.py\u001b[0m\u001b]8;;\u001b\\\u001b[2m:\u001b[0m\u001b]8;id=300901;file:///home/carlo/Desktop/single-projects/manim-demopage/.venv_demo/lib/python3.12/site-packages/manim/scene/scene.py#1044\u001b\\\u001b[2m1044\u001b[0m\u001b]8;;\u001b\\\n",
       "\u001b[2;36m                    \u001b[0m         seconds, is too short for the current frame rate of \u001b[32m60\u001b[0m FPS. \u001b[1;33mRendering\u001b[0m    \u001b[2m             \u001b[0m\n",
       "\u001b[2;36m                    \u001b[0m         with the shortest possible total run_time of \u001b[32m0.0166667\u001b[0m seconds instead.  \u001b[2m             \u001b[0m\n"
      ]
     },
     "metadata": {},
     "output_type": "display_data"
    },
    {
     "data": {
      "text/html": [
       "<pre style=\"white-space:pre;overflow-x:auto;line-height:normal;font-family:Menlo,'DejaVu Sans Mono',consolas,'Courier New',monospace\"><span style=\"color: #7fbfbf; text-decoration-color: #7fbfbf\">                    </span><span style=\"color: #800000; text-decoration-color: #800000\">WARNING </span> The original total run_time of <span style=\"color: #800080; text-decoration-color: #800080; font-weight: bold\">integration_index_Scene.play</span><span style=\"font-weight: bold\">()</span>, <span style=\"color: #008000; text-decoration-color: #008000\">0.015625</span>  <a href=\"file:///home/carlo/Desktop/single-projects/manim-demopage/.venv_demo/lib/python3.12/site-packages/manim/scene/scene.py\" target=\"_blank\"><span style=\"color: #7f7f7f; text-decoration-color: #7f7f7f\">scene.py</span></a><span style=\"color: #7f7f7f; text-decoration-color: #7f7f7f\">:</span><a href=\"file:///home/carlo/Desktop/single-projects/manim-demopage/.venv_demo/lib/python3.12/site-packages/manim/scene/scene.py#1044\" target=\"_blank\"><span style=\"color: #7f7f7f; text-decoration-color: #7f7f7f\">1044</span></a>\n",
       "<span style=\"color: #7fbfbf; text-decoration-color: #7fbfbf\">                    </span>         seconds, is too short for the current frame rate of <span style=\"color: #008000; text-decoration-color: #008000\">60</span> FPS. <span style=\"color: #808000; text-decoration-color: #808000; font-weight: bold\">Rendering</span>    <span style=\"color: #7f7f7f; text-decoration-color: #7f7f7f\">             </span>\n",
       "<span style=\"color: #7fbfbf; text-decoration-color: #7fbfbf\">                    </span>         with the shortest possible total run_time of <span style=\"color: #008000; text-decoration-color: #008000\">0.0166667</span> seconds instead.  <span style=\"color: #7f7f7f; text-decoration-color: #7f7f7f\">             </span>\n",
       "</pre>\n"
      ],
      "text/plain": [
       "\u001b[2;36m                   \u001b[0m\u001b[2;36m \u001b[0m\u001b[31mWARNING \u001b[0m The original total run_time of \u001b[1;35mintegration_index_Scene.play\u001b[0m\u001b[1m(\u001b[0m\u001b[1m)\u001b[0m, \u001b[32m0.015625\u001b[0m  \u001b]8;id=992778;file:///home/carlo/Desktop/single-projects/manim-demopage/.venv_demo/lib/python3.12/site-packages/manim/scene/scene.py\u001b\\\u001b[2mscene.py\u001b[0m\u001b]8;;\u001b\\\u001b[2m:\u001b[0m\u001b]8;id=613364;file:///home/carlo/Desktop/single-projects/manim-demopage/.venv_demo/lib/python3.12/site-packages/manim/scene/scene.py#1044\u001b\\\u001b[2m1044\u001b[0m\u001b]8;;\u001b\\\n",
       "\u001b[2;36m                    \u001b[0m         seconds, is too short for the current frame rate of \u001b[32m60\u001b[0m FPS. \u001b[1;33mRendering\u001b[0m    \u001b[2m             \u001b[0m\n",
       "\u001b[2;36m                    \u001b[0m         with the shortest possible total run_time of \u001b[32m0.0166667\u001b[0m seconds instead.  \u001b[2m             \u001b[0m\n"
      ]
     },
     "metadata": {},
     "output_type": "display_data"
    },
    {
     "data": {
      "text/html": [
       "<pre style=\"white-space:pre;overflow-x:auto;line-height:normal;font-family:Menlo,'DejaVu Sans Mono',consolas,'Courier New',monospace\"><span style=\"color: #7fbfbf; text-decoration-color: #7fbfbf\">                    </span><span style=\"color: #800000; text-decoration-color: #800000\">WARNING </span> The original total run_time of <span style=\"color: #800080; text-decoration-color: #800080; font-weight: bold\">integration_index_Scene.play</span><span style=\"font-weight: bold\">()</span>, <span style=\"color: #008000; text-decoration-color: #008000\">0.015625</span>  <a href=\"file:///home/carlo/Desktop/single-projects/manim-demopage/.venv_demo/lib/python3.12/site-packages/manim/scene/scene.py\" target=\"_blank\"><span style=\"color: #7f7f7f; text-decoration-color: #7f7f7f\">scene.py</span></a><span style=\"color: #7f7f7f; text-decoration-color: #7f7f7f\">:</span><a href=\"file:///home/carlo/Desktop/single-projects/manim-demopage/.venv_demo/lib/python3.12/site-packages/manim/scene/scene.py#1044\" target=\"_blank\"><span style=\"color: #7f7f7f; text-decoration-color: #7f7f7f\">1044</span></a>\n",
       "<span style=\"color: #7fbfbf; text-decoration-color: #7fbfbf\">                    </span>         seconds, is too short for the current frame rate of <span style=\"color: #008000; text-decoration-color: #008000\">60</span> FPS. <span style=\"color: #808000; text-decoration-color: #808000; font-weight: bold\">Rendering</span>    <span style=\"color: #7f7f7f; text-decoration-color: #7f7f7f\">             </span>\n",
       "<span style=\"color: #7fbfbf; text-decoration-color: #7fbfbf\">                    </span>         with the shortest possible total run_time of <span style=\"color: #008000; text-decoration-color: #008000\">0.0166667</span> seconds instead.  <span style=\"color: #7f7f7f; text-decoration-color: #7f7f7f\">             </span>\n",
       "</pre>\n"
      ],
      "text/plain": [
       "\u001b[2;36m                   \u001b[0m\u001b[2;36m \u001b[0m\u001b[31mWARNING \u001b[0m The original total run_time of \u001b[1;35mintegration_index_Scene.play\u001b[0m\u001b[1m(\u001b[0m\u001b[1m)\u001b[0m, \u001b[32m0.015625\u001b[0m  \u001b]8;id=787949;file:///home/carlo/Desktop/single-projects/manim-demopage/.venv_demo/lib/python3.12/site-packages/manim/scene/scene.py\u001b\\\u001b[2mscene.py\u001b[0m\u001b]8;;\u001b\\\u001b[2m:\u001b[0m\u001b]8;id=164237;file:///home/carlo/Desktop/single-projects/manim-demopage/.venv_demo/lib/python3.12/site-packages/manim/scene/scene.py#1044\u001b\\\u001b[2m1044\u001b[0m\u001b]8;;\u001b\\\n",
       "\u001b[2;36m                    \u001b[0m         seconds, is too short for the current frame rate of \u001b[32m60\u001b[0m FPS. \u001b[1;33mRendering\u001b[0m    \u001b[2m             \u001b[0m\n",
       "\u001b[2;36m                    \u001b[0m         with the shortest possible total run_time of \u001b[32m0.0166667\u001b[0m seconds instead.  \u001b[2m             \u001b[0m\n"
      ]
     },
     "metadata": {},
     "output_type": "display_data"
    },
    {
     "data": {
      "text/html": [
       "<pre style=\"white-space:pre;overflow-x:auto;line-height:normal;font-family:Menlo,'DejaVu Sans Mono',consolas,'Courier New',monospace\"><span style=\"color: #7fbfbf; text-decoration-color: #7fbfbf\">                    </span><span style=\"color: #800000; text-decoration-color: #800000\">WARNING </span> The original total run_time of <span style=\"color: #800080; text-decoration-color: #800080; font-weight: bold\">integration_index_Scene.play</span><span style=\"font-weight: bold\">()</span>, <span style=\"color: #008000; text-decoration-color: #008000\">0.0155039</span> <a href=\"file:///home/carlo/Desktop/single-projects/manim-demopage/.venv_demo/lib/python3.12/site-packages/manim/scene/scene.py\" target=\"_blank\"><span style=\"color: #7f7f7f; text-decoration-color: #7f7f7f\">scene.py</span></a><span style=\"color: #7f7f7f; text-decoration-color: #7f7f7f\">:</span><a href=\"file:///home/carlo/Desktop/single-projects/manim-demopage/.venv_demo/lib/python3.12/site-packages/manim/scene/scene.py#1044\" target=\"_blank\"><span style=\"color: #7f7f7f; text-decoration-color: #7f7f7f\">1044</span></a>\n",
       "<span style=\"color: #7fbfbf; text-decoration-color: #7fbfbf\">                    </span>         seconds, is too short for the current frame rate of <span style=\"color: #008000; text-decoration-color: #008000\">60</span> FPS. <span style=\"color: #808000; text-decoration-color: #808000; font-weight: bold\">Rendering</span>    <span style=\"color: #7f7f7f; text-decoration-color: #7f7f7f\">             </span>\n",
       "<span style=\"color: #7fbfbf; text-decoration-color: #7fbfbf\">                    </span>         with the shortest possible total run_time of <span style=\"color: #008000; text-decoration-color: #008000\">0.0166667</span> seconds instead.  <span style=\"color: #7f7f7f; text-decoration-color: #7f7f7f\">             </span>\n",
       "</pre>\n"
      ],
      "text/plain": [
       "\u001b[2;36m                   \u001b[0m\u001b[2;36m \u001b[0m\u001b[31mWARNING \u001b[0m The original total run_time of \u001b[1;35mintegration_index_Scene.play\u001b[0m\u001b[1m(\u001b[0m\u001b[1m)\u001b[0m, \u001b[32m0.0155039\u001b[0m \u001b]8;id=288142;file:///home/carlo/Desktop/single-projects/manim-demopage/.venv_demo/lib/python3.12/site-packages/manim/scene/scene.py\u001b\\\u001b[2mscene.py\u001b[0m\u001b]8;;\u001b\\\u001b[2m:\u001b[0m\u001b]8;id=485575;file:///home/carlo/Desktop/single-projects/manim-demopage/.venv_demo/lib/python3.12/site-packages/manim/scene/scene.py#1044\u001b\\\u001b[2m1044\u001b[0m\u001b]8;;\u001b\\\n",
       "\u001b[2;36m                    \u001b[0m         seconds, is too short for the current frame rate of \u001b[32m60\u001b[0m FPS. \u001b[1;33mRendering\u001b[0m    \u001b[2m             \u001b[0m\n",
       "\u001b[2;36m                    \u001b[0m         with the shortest possible total run_time of \u001b[32m0.0166667\u001b[0m seconds instead.  \u001b[2m             \u001b[0m\n"
      ]
     },
     "metadata": {},
     "output_type": "display_data"
    },
    {
     "data": {
      "text/html": [
       "<pre style=\"white-space:pre;overflow-x:auto;line-height:normal;font-family:Menlo,'DejaVu Sans Mono',consolas,'Courier New',monospace\"><span style=\"color: #7fbfbf; text-decoration-color: #7fbfbf\">                    </span><span style=\"color: #800000; text-decoration-color: #800000\">WARNING </span> The original total run_time of <span style=\"color: #800080; text-decoration-color: #800080; font-weight: bold\">integration_index_Scene.play</span><span style=\"font-weight: bold\">()</span>, <span style=\"color: #008000; text-decoration-color: #008000\">0.0155039</span> <a href=\"file:///home/carlo/Desktop/single-projects/manim-demopage/.venv_demo/lib/python3.12/site-packages/manim/scene/scene.py\" target=\"_blank\"><span style=\"color: #7f7f7f; text-decoration-color: #7f7f7f\">scene.py</span></a><span style=\"color: #7f7f7f; text-decoration-color: #7f7f7f\">:</span><a href=\"file:///home/carlo/Desktop/single-projects/manim-demopage/.venv_demo/lib/python3.12/site-packages/manim/scene/scene.py#1044\" target=\"_blank\"><span style=\"color: #7f7f7f; text-decoration-color: #7f7f7f\">1044</span></a>\n",
       "<span style=\"color: #7fbfbf; text-decoration-color: #7fbfbf\">                    </span>         seconds, is too short for the current frame rate of <span style=\"color: #008000; text-decoration-color: #008000\">60</span> FPS. <span style=\"color: #808000; text-decoration-color: #808000; font-weight: bold\">Rendering</span>    <span style=\"color: #7f7f7f; text-decoration-color: #7f7f7f\">             </span>\n",
       "<span style=\"color: #7fbfbf; text-decoration-color: #7fbfbf\">                    </span>         with the shortest possible total run_time of <span style=\"color: #008000; text-decoration-color: #008000\">0.0166667</span> seconds instead.  <span style=\"color: #7f7f7f; text-decoration-color: #7f7f7f\">             </span>\n",
       "</pre>\n"
      ],
      "text/plain": [
       "\u001b[2;36m                   \u001b[0m\u001b[2;36m \u001b[0m\u001b[31mWARNING \u001b[0m The original total run_time of \u001b[1;35mintegration_index_Scene.play\u001b[0m\u001b[1m(\u001b[0m\u001b[1m)\u001b[0m, \u001b[32m0.0155039\u001b[0m \u001b]8;id=470214;file:///home/carlo/Desktop/single-projects/manim-demopage/.venv_demo/lib/python3.12/site-packages/manim/scene/scene.py\u001b\\\u001b[2mscene.py\u001b[0m\u001b]8;;\u001b\\\u001b[2m:\u001b[0m\u001b]8;id=566708;file:///home/carlo/Desktop/single-projects/manim-demopage/.venv_demo/lib/python3.12/site-packages/manim/scene/scene.py#1044\u001b\\\u001b[2m1044\u001b[0m\u001b]8;;\u001b\\\n",
       "\u001b[2;36m                    \u001b[0m         seconds, is too short for the current frame rate of \u001b[32m60\u001b[0m FPS. \u001b[1;33mRendering\u001b[0m    \u001b[2m             \u001b[0m\n",
       "\u001b[2;36m                    \u001b[0m         with the shortest possible total run_time of \u001b[32m0.0166667\u001b[0m seconds instead.  \u001b[2m             \u001b[0m\n"
      ]
     },
     "metadata": {},
     "output_type": "display_data"
    },
    {
     "data": {
      "text/html": [
       "<pre style=\"white-space:pre;overflow-x:auto;line-height:normal;font-family:Menlo,'DejaVu Sans Mono',consolas,'Courier New',monospace\"><span style=\"color: #7fbfbf; text-decoration-color: #7fbfbf\">                    </span><span style=\"color: #800000; text-decoration-color: #800000\">WARNING </span> The original total run_time of <span style=\"color: #800080; text-decoration-color: #800080; font-weight: bold\">integration_index_Scene.play</span><span style=\"font-weight: bold\">()</span>, <span style=\"color: #008000; text-decoration-color: #008000\">0.0153846</span> <a href=\"file:///home/carlo/Desktop/single-projects/manim-demopage/.venv_demo/lib/python3.12/site-packages/manim/scene/scene.py\" target=\"_blank\"><span style=\"color: #7f7f7f; text-decoration-color: #7f7f7f\">scene.py</span></a><span style=\"color: #7f7f7f; text-decoration-color: #7f7f7f\">:</span><a href=\"file:///home/carlo/Desktop/single-projects/manim-demopage/.venv_demo/lib/python3.12/site-packages/manim/scene/scene.py#1044\" target=\"_blank\"><span style=\"color: #7f7f7f; text-decoration-color: #7f7f7f\">1044</span></a>\n",
       "<span style=\"color: #7fbfbf; text-decoration-color: #7fbfbf\">                    </span>         seconds, is too short for the current frame rate of <span style=\"color: #008000; text-decoration-color: #008000\">60</span> FPS. <span style=\"color: #808000; text-decoration-color: #808000; font-weight: bold\">Rendering</span>    <span style=\"color: #7f7f7f; text-decoration-color: #7f7f7f\">             </span>\n",
       "<span style=\"color: #7fbfbf; text-decoration-color: #7fbfbf\">                    </span>         with the shortest possible total run_time of <span style=\"color: #008000; text-decoration-color: #008000\">0.0166667</span> seconds instead.  <span style=\"color: #7f7f7f; text-decoration-color: #7f7f7f\">             </span>\n",
       "</pre>\n"
      ],
      "text/plain": [
       "\u001b[2;36m                   \u001b[0m\u001b[2;36m \u001b[0m\u001b[31mWARNING \u001b[0m The original total run_time of \u001b[1;35mintegration_index_Scene.play\u001b[0m\u001b[1m(\u001b[0m\u001b[1m)\u001b[0m, \u001b[32m0.0153846\u001b[0m \u001b]8;id=73105;file:///home/carlo/Desktop/single-projects/manim-demopage/.venv_demo/lib/python3.12/site-packages/manim/scene/scene.py\u001b\\\u001b[2mscene.py\u001b[0m\u001b]8;;\u001b\\\u001b[2m:\u001b[0m\u001b]8;id=511150;file:///home/carlo/Desktop/single-projects/manim-demopage/.venv_demo/lib/python3.12/site-packages/manim/scene/scene.py#1044\u001b\\\u001b[2m1044\u001b[0m\u001b]8;;\u001b\\\n",
       "\u001b[2;36m                    \u001b[0m         seconds, is too short for the current frame rate of \u001b[32m60\u001b[0m FPS. \u001b[1;33mRendering\u001b[0m    \u001b[2m             \u001b[0m\n",
       "\u001b[2;36m                    \u001b[0m         with the shortest possible total run_time of \u001b[32m0.0166667\u001b[0m seconds instead.  \u001b[2m             \u001b[0m\n"
      ]
     },
     "metadata": {},
     "output_type": "display_data"
    },
    {
     "data": {
      "text/html": [
       "<pre style=\"white-space:pre;overflow-x:auto;line-height:normal;font-family:Menlo,'DejaVu Sans Mono',consolas,'Courier New',monospace\"><span style=\"color: #7fbfbf; text-decoration-color: #7fbfbf\">                    </span><span style=\"color: #800000; text-decoration-color: #800000\">WARNING </span> The original total run_time of <span style=\"color: #800080; text-decoration-color: #800080; font-weight: bold\">integration_index_Scene.play</span><span style=\"font-weight: bold\">()</span>, <span style=\"color: #008000; text-decoration-color: #008000\">0.0153846</span> <a href=\"file:///home/carlo/Desktop/single-projects/manim-demopage/.venv_demo/lib/python3.12/site-packages/manim/scene/scene.py\" target=\"_blank\"><span style=\"color: #7f7f7f; text-decoration-color: #7f7f7f\">scene.py</span></a><span style=\"color: #7f7f7f; text-decoration-color: #7f7f7f\">:</span><a href=\"file:///home/carlo/Desktop/single-projects/manim-demopage/.venv_demo/lib/python3.12/site-packages/manim/scene/scene.py#1044\" target=\"_blank\"><span style=\"color: #7f7f7f; text-decoration-color: #7f7f7f\">1044</span></a>\n",
       "<span style=\"color: #7fbfbf; text-decoration-color: #7fbfbf\">                    </span>         seconds, is too short for the current frame rate of <span style=\"color: #008000; text-decoration-color: #008000\">60</span> FPS. <span style=\"color: #808000; text-decoration-color: #808000; font-weight: bold\">Rendering</span>    <span style=\"color: #7f7f7f; text-decoration-color: #7f7f7f\">             </span>\n",
       "<span style=\"color: #7fbfbf; text-decoration-color: #7fbfbf\">                    </span>         with the shortest possible total run_time of <span style=\"color: #008000; text-decoration-color: #008000\">0.0166667</span> seconds instead.  <span style=\"color: #7f7f7f; text-decoration-color: #7f7f7f\">             </span>\n",
       "</pre>\n"
      ],
      "text/plain": [
       "\u001b[2;36m                   \u001b[0m\u001b[2;36m \u001b[0m\u001b[31mWARNING \u001b[0m The original total run_time of \u001b[1;35mintegration_index_Scene.play\u001b[0m\u001b[1m(\u001b[0m\u001b[1m)\u001b[0m, \u001b[32m0.0153846\u001b[0m \u001b]8;id=357887;file:///home/carlo/Desktop/single-projects/manim-demopage/.venv_demo/lib/python3.12/site-packages/manim/scene/scene.py\u001b\\\u001b[2mscene.py\u001b[0m\u001b]8;;\u001b\\\u001b[2m:\u001b[0m\u001b]8;id=527092;file:///home/carlo/Desktop/single-projects/manim-demopage/.venv_demo/lib/python3.12/site-packages/manim/scene/scene.py#1044\u001b\\\u001b[2m1044\u001b[0m\u001b]8;;\u001b\\\n",
       "\u001b[2;36m                    \u001b[0m         seconds, is too short for the current frame rate of \u001b[32m60\u001b[0m FPS. \u001b[1;33mRendering\u001b[0m    \u001b[2m             \u001b[0m\n",
       "\u001b[2;36m                    \u001b[0m         with the shortest possible total run_time of \u001b[32m0.0166667\u001b[0m seconds instead.  \u001b[2m             \u001b[0m\n"
      ]
     },
     "metadata": {},
     "output_type": "display_data"
    },
    {
     "data": {
      "text/html": [
       "<pre style=\"white-space:pre;overflow-x:auto;line-height:normal;font-family:Menlo,'DejaVu Sans Mono',consolas,'Courier New',monospace\"><span style=\"color: #7fbfbf; text-decoration-color: #7fbfbf\">                    </span><span style=\"color: #800000; text-decoration-color: #800000\">WARNING </span> The original total run_time of <span style=\"color: #800080; text-decoration-color: #800080; font-weight: bold\">integration_index_Scene.play</span><span style=\"font-weight: bold\">()</span>, <span style=\"color: #008000; text-decoration-color: #008000\">0.0152672</span> <a href=\"file:///home/carlo/Desktop/single-projects/manim-demopage/.venv_demo/lib/python3.12/site-packages/manim/scene/scene.py\" target=\"_blank\"><span style=\"color: #7f7f7f; text-decoration-color: #7f7f7f\">scene.py</span></a><span style=\"color: #7f7f7f; text-decoration-color: #7f7f7f\">:</span><a href=\"file:///home/carlo/Desktop/single-projects/manim-demopage/.venv_demo/lib/python3.12/site-packages/manim/scene/scene.py#1044\" target=\"_blank\"><span style=\"color: #7f7f7f; text-decoration-color: #7f7f7f\">1044</span></a>\n",
       "<span style=\"color: #7fbfbf; text-decoration-color: #7fbfbf\">                    </span>         seconds, is too short for the current frame rate of <span style=\"color: #008000; text-decoration-color: #008000\">60</span> FPS. <span style=\"color: #808000; text-decoration-color: #808000; font-weight: bold\">Rendering</span>    <span style=\"color: #7f7f7f; text-decoration-color: #7f7f7f\">             </span>\n",
       "<span style=\"color: #7fbfbf; text-decoration-color: #7fbfbf\">                    </span>         with the shortest possible total run_time of <span style=\"color: #008000; text-decoration-color: #008000\">0.0166667</span> seconds instead.  <span style=\"color: #7f7f7f; text-decoration-color: #7f7f7f\">             </span>\n",
       "</pre>\n"
      ],
      "text/plain": [
       "\u001b[2;36m                   \u001b[0m\u001b[2;36m \u001b[0m\u001b[31mWARNING \u001b[0m The original total run_time of \u001b[1;35mintegration_index_Scene.play\u001b[0m\u001b[1m(\u001b[0m\u001b[1m)\u001b[0m, \u001b[32m0.0152672\u001b[0m \u001b]8;id=786814;file:///home/carlo/Desktop/single-projects/manim-demopage/.venv_demo/lib/python3.12/site-packages/manim/scene/scene.py\u001b\\\u001b[2mscene.py\u001b[0m\u001b]8;;\u001b\\\u001b[2m:\u001b[0m\u001b]8;id=350468;file:///home/carlo/Desktop/single-projects/manim-demopage/.venv_demo/lib/python3.12/site-packages/manim/scene/scene.py#1044\u001b\\\u001b[2m1044\u001b[0m\u001b]8;;\u001b\\\n",
       "\u001b[2;36m                    \u001b[0m         seconds, is too short for the current frame rate of \u001b[32m60\u001b[0m FPS. \u001b[1;33mRendering\u001b[0m    \u001b[2m             \u001b[0m\n",
       "\u001b[2;36m                    \u001b[0m         with the shortest possible total run_time of \u001b[32m0.0166667\u001b[0m seconds instead.  \u001b[2m             \u001b[0m\n"
      ]
     },
     "metadata": {},
     "output_type": "display_data"
    },
    {
     "data": {
      "text/html": [
       "<pre style=\"white-space:pre;overflow-x:auto;line-height:normal;font-family:Menlo,'DejaVu Sans Mono',consolas,'Courier New',monospace\"><span style=\"color: #7fbfbf; text-decoration-color: #7fbfbf\">[01/24/25 14:36:15] </span><span style=\"color: #800000; text-decoration-color: #800000\">WARNING </span> The original total run_time of <span style=\"color: #800080; text-decoration-color: #800080; font-weight: bold\">integration_index_Scene.play</span><span style=\"font-weight: bold\">()</span>, <span style=\"color: #008000; text-decoration-color: #008000\">0.0152672</span> <a href=\"file:///home/carlo/Desktop/single-projects/manim-demopage/.venv_demo/lib/python3.12/site-packages/manim/scene/scene.py\" target=\"_blank\"><span style=\"color: #7f7f7f; text-decoration-color: #7f7f7f\">scene.py</span></a><span style=\"color: #7f7f7f; text-decoration-color: #7f7f7f\">:</span><a href=\"file:///home/carlo/Desktop/single-projects/manim-demopage/.venv_demo/lib/python3.12/site-packages/manim/scene/scene.py#1044\" target=\"_blank\"><span style=\"color: #7f7f7f; text-decoration-color: #7f7f7f\">1044</span></a>\n",
       "<span style=\"color: #7fbfbf; text-decoration-color: #7fbfbf\">                    </span>         seconds, is too short for the current frame rate of <span style=\"color: #008000; text-decoration-color: #008000\">60</span> FPS. <span style=\"color: #808000; text-decoration-color: #808000; font-weight: bold\">Rendering</span>    <span style=\"color: #7f7f7f; text-decoration-color: #7f7f7f\">             </span>\n",
       "<span style=\"color: #7fbfbf; text-decoration-color: #7fbfbf\">                    </span>         with the shortest possible total run_time of <span style=\"color: #008000; text-decoration-color: #008000\">0.0166667</span> seconds instead.  <span style=\"color: #7f7f7f; text-decoration-color: #7f7f7f\">             </span>\n",
       "</pre>\n"
      ],
      "text/plain": [
       "\u001b[2;36m[01/24/25 14:36:15]\u001b[0m\u001b[2;36m \u001b[0m\u001b[31mWARNING \u001b[0m The original total run_time of \u001b[1;35mintegration_index_Scene.play\u001b[0m\u001b[1m(\u001b[0m\u001b[1m)\u001b[0m, \u001b[32m0.0152672\u001b[0m \u001b]8;id=974848;file:///home/carlo/Desktop/single-projects/manim-demopage/.venv_demo/lib/python3.12/site-packages/manim/scene/scene.py\u001b\\\u001b[2mscene.py\u001b[0m\u001b]8;;\u001b\\\u001b[2m:\u001b[0m\u001b]8;id=137615;file:///home/carlo/Desktop/single-projects/manim-demopage/.venv_demo/lib/python3.12/site-packages/manim/scene/scene.py#1044\u001b\\\u001b[2m1044\u001b[0m\u001b]8;;\u001b\\\n",
       "\u001b[2;36m                    \u001b[0m         seconds, is too short for the current frame rate of \u001b[32m60\u001b[0m FPS. \u001b[1;33mRendering\u001b[0m    \u001b[2m             \u001b[0m\n",
       "\u001b[2;36m                    \u001b[0m         with the shortest possible total run_time of \u001b[32m0.0166667\u001b[0m seconds instead.  \u001b[2m             \u001b[0m\n"
      ]
     },
     "metadata": {},
     "output_type": "display_data"
    },
    {
     "data": {
      "text/html": [
       "<pre style=\"white-space:pre;overflow-x:auto;line-height:normal;font-family:Menlo,'DejaVu Sans Mono',consolas,'Courier New',monospace\"><span style=\"color: #7fbfbf; text-decoration-color: #7fbfbf\">                    </span><span style=\"color: #800000; text-decoration-color: #800000\">WARNING </span> The original total run_time of <span style=\"color: #800080; text-decoration-color: #800080; font-weight: bold\">integration_index_Scene.play</span><span style=\"font-weight: bold\">()</span>, <span style=\"color: #008000; text-decoration-color: #008000\">0.0151515</span> <a href=\"file:///home/carlo/Desktop/single-projects/manim-demopage/.venv_demo/lib/python3.12/site-packages/manim/scene/scene.py\" target=\"_blank\"><span style=\"color: #7f7f7f; text-decoration-color: #7f7f7f\">scene.py</span></a><span style=\"color: #7f7f7f; text-decoration-color: #7f7f7f\">:</span><a href=\"file:///home/carlo/Desktop/single-projects/manim-demopage/.venv_demo/lib/python3.12/site-packages/manim/scene/scene.py#1044\" target=\"_blank\"><span style=\"color: #7f7f7f; text-decoration-color: #7f7f7f\">1044</span></a>\n",
       "<span style=\"color: #7fbfbf; text-decoration-color: #7fbfbf\">                    </span>         seconds, is too short for the current frame rate of <span style=\"color: #008000; text-decoration-color: #008000\">60</span> FPS. <span style=\"color: #808000; text-decoration-color: #808000; font-weight: bold\">Rendering</span>    <span style=\"color: #7f7f7f; text-decoration-color: #7f7f7f\">             </span>\n",
       "<span style=\"color: #7fbfbf; text-decoration-color: #7fbfbf\">                    </span>         with the shortest possible total run_time of <span style=\"color: #008000; text-decoration-color: #008000\">0.0166667</span> seconds instead.  <span style=\"color: #7f7f7f; text-decoration-color: #7f7f7f\">             </span>\n",
       "</pre>\n"
      ],
      "text/plain": [
       "\u001b[2;36m                   \u001b[0m\u001b[2;36m \u001b[0m\u001b[31mWARNING \u001b[0m The original total run_time of \u001b[1;35mintegration_index_Scene.play\u001b[0m\u001b[1m(\u001b[0m\u001b[1m)\u001b[0m, \u001b[32m0.0151515\u001b[0m \u001b]8;id=324154;file:///home/carlo/Desktop/single-projects/manim-demopage/.venv_demo/lib/python3.12/site-packages/manim/scene/scene.py\u001b\\\u001b[2mscene.py\u001b[0m\u001b]8;;\u001b\\\u001b[2m:\u001b[0m\u001b]8;id=100772;file:///home/carlo/Desktop/single-projects/manim-demopage/.venv_demo/lib/python3.12/site-packages/manim/scene/scene.py#1044\u001b\\\u001b[2m1044\u001b[0m\u001b]8;;\u001b\\\n",
       "\u001b[2;36m                    \u001b[0m         seconds, is too short for the current frame rate of \u001b[32m60\u001b[0m FPS. \u001b[1;33mRendering\u001b[0m    \u001b[2m             \u001b[0m\n",
       "\u001b[2;36m                    \u001b[0m         with the shortest possible total run_time of \u001b[32m0.0166667\u001b[0m seconds instead.  \u001b[2m             \u001b[0m\n"
      ]
     },
     "metadata": {},
     "output_type": "display_data"
    },
    {
     "data": {
      "text/html": [
       "<pre style=\"white-space:pre;overflow-x:auto;line-height:normal;font-family:Menlo,'DejaVu Sans Mono',consolas,'Courier New',monospace\"><span style=\"color: #7fbfbf; text-decoration-color: #7fbfbf\">                    </span><span style=\"color: #800000; text-decoration-color: #800000\">WARNING </span> The original total run_time of <span style=\"color: #800080; text-decoration-color: #800080; font-weight: bold\">integration_index_Scene.play</span><span style=\"font-weight: bold\">()</span>, <span style=\"color: #008000; text-decoration-color: #008000\">0.0151515</span> <a href=\"file:///home/carlo/Desktop/single-projects/manim-demopage/.venv_demo/lib/python3.12/site-packages/manim/scene/scene.py\" target=\"_blank\"><span style=\"color: #7f7f7f; text-decoration-color: #7f7f7f\">scene.py</span></a><span style=\"color: #7f7f7f; text-decoration-color: #7f7f7f\">:</span><a href=\"file:///home/carlo/Desktop/single-projects/manim-demopage/.venv_demo/lib/python3.12/site-packages/manim/scene/scene.py#1044\" target=\"_blank\"><span style=\"color: #7f7f7f; text-decoration-color: #7f7f7f\">1044</span></a>\n",
       "<span style=\"color: #7fbfbf; text-decoration-color: #7fbfbf\">                    </span>         seconds, is too short for the current frame rate of <span style=\"color: #008000; text-decoration-color: #008000\">60</span> FPS. <span style=\"color: #808000; text-decoration-color: #808000; font-weight: bold\">Rendering</span>    <span style=\"color: #7f7f7f; text-decoration-color: #7f7f7f\">             </span>\n",
       "<span style=\"color: #7fbfbf; text-decoration-color: #7fbfbf\">                    </span>         with the shortest possible total run_time of <span style=\"color: #008000; text-decoration-color: #008000\">0.0166667</span> seconds instead.  <span style=\"color: #7f7f7f; text-decoration-color: #7f7f7f\">             </span>\n",
       "</pre>\n"
      ],
      "text/plain": [
       "\u001b[2;36m                   \u001b[0m\u001b[2;36m \u001b[0m\u001b[31mWARNING \u001b[0m The original total run_time of \u001b[1;35mintegration_index_Scene.play\u001b[0m\u001b[1m(\u001b[0m\u001b[1m)\u001b[0m, \u001b[32m0.0151515\u001b[0m \u001b]8;id=661288;file:///home/carlo/Desktop/single-projects/manim-demopage/.venv_demo/lib/python3.12/site-packages/manim/scene/scene.py\u001b\\\u001b[2mscene.py\u001b[0m\u001b]8;;\u001b\\\u001b[2m:\u001b[0m\u001b]8;id=396648;file:///home/carlo/Desktop/single-projects/manim-demopage/.venv_demo/lib/python3.12/site-packages/manim/scene/scene.py#1044\u001b\\\u001b[2m1044\u001b[0m\u001b]8;;\u001b\\\n",
       "\u001b[2;36m                    \u001b[0m         seconds, is too short for the current frame rate of \u001b[32m60\u001b[0m FPS. \u001b[1;33mRendering\u001b[0m    \u001b[2m             \u001b[0m\n",
       "\u001b[2;36m                    \u001b[0m         with the shortest possible total run_time of \u001b[32m0.0166667\u001b[0m seconds instead.  \u001b[2m             \u001b[0m\n"
      ]
     },
     "metadata": {},
     "output_type": "display_data"
    },
    {
     "data": {
      "text/html": [
       "<pre style=\"white-space:pre;overflow-x:auto;line-height:normal;font-family:Menlo,'DejaVu Sans Mono',consolas,'Courier New',monospace\"><span style=\"color: #7fbfbf; text-decoration-color: #7fbfbf\">                    </span><span style=\"color: #800000; text-decoration-color: #800000\">WARNING </span> The original total run_time of <span style=\"color: #800080; text-decoration-color: #800080; font-weight: bold\">integration_index_Scene.play</span><span style=\"font-weight: bold\">()</span>, <span style=\"color: #008000; text-decoration-color: #008000\">0.0150376</span> <a href=\"file:///home/carlo/Desktop/single-projects/manim-demopage/.venv_demo/lib/python3.12/site-packages/manim/scene/scene.py\" target=\"_blank\"><span style=\"color: #7f7f7f; text-decoration-color: #7f7f7f\">scene.py</span></a><span style=\"color: #7f7f7f; text-decoration-color: #7f7f7f\">:</span><a href=\"file:///home/carlo/Desktop/single-projects/manim-demopage/.venv_demo/lib/python3.12/site-packages/manim/scene/scene.py#1044\" target=\"_blank\"><span style=\"color: #7f7f7f; text-decoration-color: #7f7f7f\">1044</span></a>\n",
       "<span style=\"color: #7fbfbf; text-decoration-color: #7fbfbf\">                    </span>         seconds, is too short for the current frame rate of <span style=\"color: #008000; text-decoration-color: #008000\">60</span> FPS. <span style=\"color: #808000; text-decoration-color: #808000; font-weight: bold\">Rendering</span>    <span style=\"color: #7f7f7f; text-decoration-color: #7f7f7f\">             </span>\n",
       "<span style=\"color: #7fbfbf; text-decoration-color: #7fbfbf\">                    </span>         with the shortest possible total run_time of <span style=\"color: #008000; text-decoration-color: #008000\">0.0166667</span> seconds instead.  <span style=\"color: #7f7f7f; text-decoration-color: #7f7f7f\">             </span>\n",
       "</pre>\n"
      ],
      "text/plain": [
       "\u001b[2;36m                   \u001b[0m\u001b[2;36m \u001b[0m\u001b[31mWARNING \u001b[0m The original total run_time of \u001b[1;35mintegration_index_Scene.play\u001b[0m\u001b[1m(\u001b[0m\u001b[1m)\u001b[0m, \u001b[32m0.0150376\u001b[0m \u001b]8;id=654813;file:///home/carlo/Desktop/single-projects/manim-demopage/.venv_demo/lib/python3.12/site-packages/manim/scene/scene.py\u001b\\\u001b[2mscene.py\u001b[0m\u001b]8;;\u001b\\\u001b[2m:\u001b[0m\u001b]8;id=524791;file:///home/carlo/Desktop/single-projects/manim-demopage/.venv_demo/lib/python3.12/site-packages/manim/scene/scene.py#1044\u001b\\\u001b[2m1044\u001b[0m\u001b]8;;\u001b\\\n",
       "\u001b[2;36m                    \u001b[0m         seconds, is too short for the current frame rate of \u001b[32m60\u001b[0m FPS. \u001b[1;33mRendering\u001b[0m    \u001b[2m             \u001b[0m\n",
       "\u001b[2;36m                    \u001b[0m         with the shortest possible total run_time of \u001b[32m0.0166667\u001b[0m seconds instead.  \u001b[2m             \u001b[0m\n"
      ]
     },
     "metadata": {},
     "output_type": "display_data"
    },
    {
     "data": {
      "text/html": [
       "<pre style=\"white-space:pre;overflow-x:auto;line-height:normal;font-family:Menlo,'DejaVu Sans Mono',consolas,'Courier New',monospace\"><span style=\"color: #7fbfbf; text-decoration-color: #7fbfbf\">                    </span><span style=\"color: #800000; text-decoration-color: #800000\">WARNING </span> The original total run_time of <span style=\"color: #800080; text-decoration-color: #800080; font-weight: bold\">integration_index_Scene.play</span><span style=\"font-weight: bold\">()</span>, <span style=\"color: #008000; text-decoration-color: #008000\">0.0150376</span> <a href=\"file:///home/carlo/Desktop/single-projects/manim-demopage/.venv_demo/lib/python3.12/site-packages/manim/scene/scene.py\" target=\"_blank\"><span style=\"color: #7f7f7f; text-decoration-color: #7f7f7f\">scene.py</span></a><span style=\"color: #7f7f7f; text-decoration-color: #7f7f7f\">:</span><a href=\"file:///home/carlo/Desktop/single-projects/manim-demopage/.venv_demo/lib/python3.12/site-packages/manim/scene/scene.py#1044\" target=\"_blank\"><span style=\"color: #7f7f7f; text-decoration-color: #7f7f7f\">1044</span></a>\n",
       "<span style=\"color: #7fbfbf; text-decoration-color: #7fbfbf\">                    </span>         seconds, is too short for the current frame rate of <span style=\"color: #008000; text-decoration-color: #008000\">60</span> FPS. <span style=\"color: #808000; text-decoration-color: #808000; font-weight: bold\">Rendering</span>    <span style=\"color: #7f7f7f; text-decoration-color: #7f7f7f\">             </span>\n",
       "<span style=\"color: #7fbfbf; text-decoration-color: #7fbfbf\">                    </span>         with the shortest possible total run_time of <span style=\"color: #008000; text-decoration-color: #008000\">0.0166667</span> seconds instead.  <span style=\"color: #7f7f7f; text-decoration-color: #7f7f7f\">             </span>\n",
       "</pre>\n"
      ],
      "text/plain": [
       "\u001b[2;36m                   \u001b[0m\u001b[2;36m \u001b[0m\u001b[31mWARNING \u001b[0m The original total run_time of \u001b[1;35mintegration_index_Scene.play\u001b[0m\u001b[1m(\u001b[0m\u001b[1m)\u001b[0m, \u001b[32m0.0150376\u001b[0m \u001b]8;id=248395;file:///home/carlo/Desktop/single-projects/manim-demopage/.venv_demo/lib/python3.12/site-packages/manim/scene/scene.py\u001b\\\u001b[2mscene.py\u001b[0m\u001b]8;;\u001b\\\u001b[2m:\u001b[0m\u001b]8;id=23499;file:///home/carlo/Desktop/single-projects/manim-demopage/.venv_demo/lib/python3.12/site-packages/manim/scene/scene.py#1044\u001b\\\u001b[2m1044\u001b[0m\u001b]8;;\u001b\\\n",
       "\u001b[2;36m                    \u001b[0m         seconds, is too short for the current frame rate of \u001b[32m60\u001b[0m FPS. \u001b[1;33mRendering\u001b[0m    \u001b[2m             \u001b[0m\n",
       "\u001b[2;36m                    \u001b[0m         with the shortest possible total run_time of \u001b[32m0.0166667\u001b[0m seconds instead.  \u001b[2m             \u001b[0m\n"
      ]
     },
     "metadata": {},
     "output_type": "display_data"
    },
    {
     "data": {
      "text/html": [
       "<pre style=\"white-space:pre;overflow-x:auto;line-height:normal;font-family:Menlo,'DejaVu Sans Mono',consolas,'Courier New',monospace\"><span style=\"color: #7fbfbf; text-decoration-color: #7fbfbf\">                    </span><span style=\"color: #800000; text-decoration-color: #800000\">WARNING </span> The original total run_time of <span style=\"color: #800080; text-decoration-color: #800080; font-weight: bold\">integration_index_Scene.play</span><span style=\"font-weight: bold\">()</span>, <span style=\"color: #008000; text-decoration-color: #008000\">0.0149254</span> <a href=\"file:///home/carlo/Desktop/single-projects/manim-demopage/.venv_demo/lib/python3.12/site-packages/manim/scene/scene.py\" target=\"_blank\"><span style=\"color: #7f7f7f; text-decoration-color: #7f7f7f\">scene.py</span></a><span style=\"color: #7f7f7f; text-decoration-color: #7f7f7f\">:</span><a href=\"file:///home/carlo/Desktop/single-projects/manim-demopage/.venv_demo/lib/python3.12/site-packages/manim/scene/scene.py#1044\" target=\"_blank\"><span style=\"color: #7f7f7f; text-decoration-color: #7f7f7f\">1044</span></a>\n",
       "<span style=\"color: #7fbfbf; text-decoration-color: #7fbfbf\">                    </span>         seconds, is too short for the current frame rate of <span style=\"color: #008000; text-decoration-color: #008000\">60</span> FPS. <span style=\"color: #808000; text-decoration-color: #808000; font-weight: bold\">Rendering</span>    <span style=\"color: #7f7f7f; text-decoration-color: #7f7f7f\">             </span>\n",
       "<span style=\"color: #7fbfbf; text-decoration-color: #7fbfbf\">                    </span>         with the shortest possible total run_time of <span style=\"color: #008000; text-decoration-color: #008000\">0.0166667</span> seconds instead.  <span style=\"color: #7f7f7f; text-decoration-color: #7f7f7f\">             </span>\n",
       "</pre>\n"
      ],
      "text/plain": [
       "\u001b[2;36m                   \u001b[0m\u001b[2;36m \u001b[0m\u001b[31mWARNING \u001b[0m The original total run_time of \u001b[1;35mintegration_index_Scene.play\u001b[0m\u001b[1m(\u001b[0m\u001b[1m)\u001b[0m, \u001b[32m0.0149254\u001b[0m \u001b]8;id=384475;file:///home/carlo/Desktop/single-projects/manim-demopage/.venv_demo/lib/python3.12/site-packages/manim/scene/scene.py\u001b\\\u001b[2mscene.py\u001b[0m\u001b]8;;\u001b\\\u001b[2m:\u001b[0m\u001b]8;id=385558;file:///home/carlo/Desktop/single-projects/manim-demopage/.venv_demo/lib/python3.12/site-packages/manim/scene/scene.py#1044\u001b\\\u001b[2m1044\u001b[0m\u001b]8;;\u001b\\\n",
       "\u001b[2;36m                    \u001b[0m         seconds, is too short for the current frame rate of \u001b[32m60\u001b[0m FPS. \u001b[1;33mRendering\u001b[0m    \u001b[2m             \u001b[0m\n",
       "\u001b[2;36m                    \u001b[0m         with the shortest possible total run_time of \u001b[32m0.0166667\u001b[0m seconds instead.  \u001b[2m             \u001b[0m\n"
      ]
     },
     "metadata": {},
     "output_type": "display_data"
    },
    {
     "data": {
      "text/html": [
       "<pre style=\"white-space:pre;overflow-x:auto;line-height:normal;font-family:Menlo,'DejaVu Sans Mono',consolas,'Courier New',monospace\"><span style=\"color: #7fbfbf; text-decoration-color: #7fbfbf\">                    </span><span style=\"color: #800000; text-decoration-color: #800000\">WARNING </span> The original total run_time of <span style=\"color: #800080; text-decoration-color: #800080; font-weight: bold\">integration_index_Scene.play</span><span style=\"font-weight: bold\">()</span>, <span style=\"color: #008000; text-decoration-color: #008000\">0.0149254</span> <a href=\"file:///home/carlo/Desktop/single-projects/manim-demopage/.venv_demo/lib/python3.12/site-packages/manim/scene/scene.py\" target=\"_blank\"><span style=\"color: #7f7f7f; text-decoration-color: #7f7f7f\">scene.py</span></a><span style=\"color: #7f7f7f; text-decoration-color: #7f7f7f\">:</span><a href=\"file:///home/carlo/Desktop/single-projects/manim-demopage/.venv_demo/lib/python3.12/site-packages/manim/scene/scene.py#1044\" target=\"_blank\"><span style=\"color: #7f7f7f; text-decoration-color: #7f7f7f\">1044</span></a>\n",
       "<span style=\"color: #7fbfbf; text-decoration-color: #7fbfbf\">                    </span>         seconds, is too short for the current frame rate of <span style=\"color: #008000; text-decoration-color: #008000\">60</span> FPS. <span style=\"color: #808000; text-decoration-color: #808000; font-weight: bold\">Rendering</span>    <span style=\"color: #7f7f7f; text-decoration-color: #7f7f7f\">             </span>\n",
       "<span style=\"color: #7fbfbf; text-decoration-color: #7fbfbf\">                    </span>         with the shortest possible total run_time of <span style=\"color: #008000; text-decoration-color: #008000\">0.0166667</span> seconds instead.  <span style=\"color: #7f7f7f; text-decoration-color: #7f7f7f\">             </span>\n",
       "</pre>\n"
      ],
      "text/plain": [
       "\u001b[2;36m                   \u001b[0m\u001b[2;36m \u001b[0m\u001b[31mWARNING \u001b[0m The original total run_time of \u001b[1;35mintegration_index_Scene.play\u001b[0m\u001b[1m(\u001b[0m\u001b[1m)\u001b[0m, \u001b[32m0.0149254\u001b[0m \u001b]8;id=207257;file:///home/carlo/Desktop/single-projects/manim-demopage/.venv_demo/lib/python3.12/site-packages/manim/scene/scene.py\u001b\\\u001b[2mscene.py\u001b[0m\u001b]8;;\u001b\\\u001b[2m:\u001b[0m\u001b]8;id=512350;file:///home/carlo/Desktop/single-projects/manim-demopage/.venv_demo/lib/python3.12/site-packages/manim/scene/scene.py#1044\u001b\\\u001b[2m1044\u001b[0m\u001b]8;;\u001b\\\n",
       "\u001b[2;36m                    \u001b[0m         seconds, is too short for the current frame rate of \u001b[32m60\u001b[0m FPS. \u001b[1;33mRendering\u001b[0m    \u001b[2m             \u001b[0m\n",
       "\u001b[2;36m                    \u001b[0m         with the shortest possible total run_time of \u001b[32m0.0166667\u001b[0m seconds instead.  \u001b[2m             \u001b[0m\n"
      ]
     },
     "metadata": {},
     "output_type": "display_data"
    },
    {
     "data": {
      "text/html": [
       "<pre style=\"white-space:pre;overflow-x:auto;line-height:normal;font-family:Menlo,'DejaVu Sans Mono',consolas,'Courier New',monospace\"><span style=\"color: #7fbfbf; text-decoration-color: #7fbfbf\">                    </span><span style=\"color: #800000; text-decoration-color: #800000\">WARNING </span> The original total run_time of <span style=\"color: #800080; text-decoration-color: #800080; font-weight: bold\">integration_index_Scene.play</span><span style=\"font-weight: bold\">()</span>, <span style=\"color: #008000; text-decoration-color: #008000\">0.0148148</span> <a href=\"file:///home/carlo/Desktop/single-projects/manim-demopage/.venv_demo/lib/python3.12/site-packages/manim/scene/scene.py\" target=\"_blank\"><span style=\"color: #7f7f7f; text-decoration-color: #7f7f7f\">scene.py</span></a><span style=\"color: #7f7f7f; text-decoration-color: #7f7f7f\">:</span><a href=\"file:///home/carlo/Desktop/single-projects/manim-demopage/.venv_demo/lib/python3.12/site-packages/manim/scene/scene.py#1044\" target=\"_blank\"><span style=\"color: #7f7f7f; text-decoration-color: #7f7f7f\">1044</span></a>\n",
       "<span style=\"color: #7fbfbf; text-decoration-color: #7fbfbf\">                    </span>         seconds, is too short for the current frame rate of <span style=\"color: #008000; text-decoration-color: #008000\">60</span> FPS. <span style=\"color: #808000; text-decoration-color: #808000; font-weight: bold\">Rendering</span>    <span style=\"color: #7f7f7f; text-decoration-color: #7f7f7f\">             </span>\n",
       "<span style=\"color: #7fbfbf; text-decoration-color: #7fbfbf\">                    </span>         with the shortest possible total run_time of <span style=\"color: #008000; text-decoration-color: #008000\">0.0166667</span> seconds instead.  <span style=\"color: #7f7f7f; text-decoration-color: #7f7f7f\">             </span>\n",
       "</pre>\n"
      ],
      "text/plain": [
       "\u001b[2;36m                   \u001b[0m\u001b[2;36m \u001b[0m\u001b[31mWARNING \u001b[0m The original total run_time of \u001b[1;35mintegration_index_Scene.play\u001b[0m\u001b[1m(\u001b[0m\u001b[1m)\u001b[0m, \u001b[32m0.0148148\u001b[0m \u001b]8;id=997688;file:///home/carlo/Desktop/single-projects/manim-demopage/.venv_demo/lib/python3.12/site-packages/manim/scene/scene.py\u001b\\\u001b[2mscene.py\u001b[0m\u001b]8;;\u001b\\\u001b[2m:\u001b[0m\u001b]8;id=964722;file:///home/carlo/Desktop/single-projects/manim-demopage/.venv_demo/lib/python3.12/site-packages/manim/scene/scene.py#1044\u001b\\\u001b[2m1044\u001b[0m\u001b]8;;\u001b\\\n",
       "\u001b[2;36m                    \u001b[0m         seconds, is too short for the current frame rate of \u001b[32m60\u001b[0m FPS. \u001b[1;33mRendering\u001b[0m    \u001b[2m             \u001b[0m\n",
       "\u001b[2;36m                    \u001b[0m         with the shortest possible total run_time of \u001b[32m0.0166667\u001b[0m seconds instead.  \u001b[2m             \u001b[0m\n"
      ]
     },
     "metadata": {},
     "output_type": "display_data"
    },
    {
     "data": {
      "text/html": [
       "<pre style=\"white-space:pre;overflow-x:auto;line-height:normal;font-family:Menlo,'DejaVu Sans Mono',consolas,'Courier New',monospace\"><span style=\"color: #7fbfbf; text-decoration-color: #7fbfbf\">                    </span><span style=\"color: #800000; text-decoration-color: #800000\">WARNING </span> The original total run_time of <span style=\"color: #800080; text-decoration-color: #800080; font-weight: bold\">integration_index_Scene.play</span><span style=\"font-weight: bold\">()</span>, <span style=\"color: #008000; text-decoration-color: #008000\">0.0148148</span> <a href=\"file:///home/carlo/Desktop/single-projects/manim-demopage/.venv_demo/lib/python3.12/site-packages/manim/scene/scene.py\" target=\"_blank\"><span style=\"color: #7f7f7f; text-decoration-color: #7f7f7f\">scene.py</span></a><span style=\"color: #7f7f7f; text-decoration-color: #7f7f7f\">:</span><a href=\"file:///home/carlo/Desktop/single-projects/manim-demopage/.venv_demo/lib/python3.12/site-packages/manim/scene/scene.py#1044\" target=\"_blank\"><span style=\"color: #7f7f7f; text-decoration-color: #7f7f7f\">1044</span></a>\n",
       "<span style=\"color: #7fbfbf; text-decoration-color: #7fbfbf\">                    </span>         seconds, is too short for the current frame rate of <span style=\"color: #008000; text-decoration-color: #008000\">60</span> FPS. <span style=\"color: #808000; text-decoration-color: #808000; font-weight: bold\">Rendering</span>    <span style=\"color: #7f7f7f; text-decoration-color: #7f7f7f\">             </span>\n",
       "<span style=\"color: #7fbfbf; text-decoration-color: #7fbfbf\">                    </span>         with the shortest possible total run_time of <span style=\"color: #008000; text-decoration-color: #008000\">0.0166667</span> seconds instead.  <span style=\"color: #7f7f7f; text-decoration-color: #7f7f7f\">             </span>\n",
       "</pre>\n"
      ],
      "text/plain": [
       "\u001b[2;36m                   \u001b[0m\u001b[2;36m \u001b[0m\u001b[31mWARNING \u001b[0m The original total run_time of \u001b[1;35mintegration_index_Scene.play\u001b[0m\u001b[1m(\u001b[0m\u001b[1m)\u001b[0m, \u001b[32m0.0148148\u001b[0m \u001b]8;id=984188;file:///home/carlo/Desktop/single-projects/manim-demopage/.venv_demo/lib/python3.12/site-packages/manim/scene/scene.py\u001b\\\u001b[2mscene.py\u001b[0m\u001b]8;;\u001b\\\u001b[2m:\u001b[0m\u001b]8;id=625672;file:///home/carlo/Desktop/single-projects/manim-demopage/.venv_demo/lib/python3.12/site-packages/manim/scene/scene.py#1044\u001b\\\u001b[2m1044\u001b[0m\u001b]8;;\u001b\\\n",
       "\u001b[2;36m                    \u001b[0m         seconds, is too short for the current frame rate of \u001b[32m60\u001b[0m FPS. \u001b[1;33mRendering\u001b[0m    \u001b[2m             \u001b[0m\n",
       "\u001b[2;36m                    \u001b[0m         with the shortest possible total run_time of \u001b[32m0.0166667\u001b[0m seconds instead.  \u001b[2m             \u001b[0m\n"
      ]
     },
     "metadata": {},
     "output_type": "display_data"
    },
    {
     "data": {
      "text/html": [
       "<pre style=\"white-space:pre;overflow-x:auto;line-height:normal;font-family:Menlo,'DejaVu Sans Mono',consolas,'Courier New',monospace\"><span style=\"color: #7fbfbf; text-decoration-color: #7fbfbf\">                    </span><span style=\"color: #800000; text-decoration-color: #800000\">WARNING </span> The original total run_time of <span style=\"color: #800080; text-decoration-color: #800080; font-weight: bold\">integration_index_Scene.play</span><span style=\"font-weight: bold\">()</span>, <span style=\"color: #008000; text-decoration-color: #008000\">0.0147059</span> <a href=\"file:///home/carlo/Desktop/single-projects/manim-demopage/.venv_demo/lib/python3.12/site-packages/manim/scene/scene.py\" target=\"_blank\"><span style=\"color: #7f7f7f; text-decoration-color: #7f7f7f\">scene.py</span></a><span style=\"color: #7f7f7f; text-decoration-color: #7f7f7f\">:</span><a href=\"file:///home/carlo/Desktop/single-projects/manim-demopage/.venv_demo/lib/python3.12/site-packages/manim/scene/scene.py#1044\" target=\"_blank\"><span style=\"color: #7f7f7f; text-decoration-color: #7f7f7f\">1044</span></a>\n",
       "<span style=\"color: #7fbfbf; text-decoration-color: #7fbfbf\">                    </span>         seconds, is too short for the current frame rate of <span style=\"color: #008000; text-decoration-color: #008000\">60</span> FPS. <span style=\"color: #808000; text-decoration-color: #808000; font-weight: bold\">Rendering</span>    <span style=\"color: #7f7f7f; text-decoration-color: #7f7f7f\">             </span>\n",
       "<span style=\"color: #7fbfbf; text-decoration-color: #7fbfbf\">                    </span>         with the shortest possible total run_time of <span style=\"color: #008000; text-decoration-color: #008000\">0.0166667</span> seconds instead.  <span style=\"color: #7f7f7f; text-decoration-color: #7f7f7f\">             </span>\n",
       "</pre>\n"
      ],
      "text/plain": [
       "\u001b[2;36m                   \u001b[0m\u001b[2;36m \u001b[0m\u001b[31mWARNING \u001b[0m The original total run_time of \u001b[1;35mintegration_index_Scene.play\u001b[0m\u001b[1m(\u001b[0m\u001b[1m)\u001b[0m, \u001b[32m0.0147059\u001b[0m \u001b]8;id=340851;file:///home/carlo/Desktop/single-projects/manim-demopage/.venv_demo/lib/python3.12/site-packages/manim/scene/scene.py\u001b\\\u001b[2mscene.py\u001b[0m\u001b]8;;\u001b\\\u001b[2m:\u001b[0m\u001b]8;id=806299;file:///home/carlo/Desktop/single-projects/manim-demopage/.venv_demo/lib/python3.12/site-packages/manim/scene/scene.py#1044\u001b\\\u001b[2m1044\u001b[0m\u001b]8;;\u001b\\\n",
       "\u001b[2;36m                    \u001b[0m         seconds, is too short for the current frame rate of \u001b[32m60\u001b[0m FPS. \u001b[1;33mRendering\u001b[0m    \u001b[2m             \u001b[0m\n",
       "\u001b[2;36m                    \u001b[0m         with the shortest possible total run_time of \u001b[32m0.0166667\u001b[0m seconds instead.  \u001b[2m             \u001b[0m\n"
      ]
     },
     "metadata": {},
     "output_type": "display_data"
    },
    {
     "data": {
      "text/html": [
       "<pre style=\"white-space:pre;overflow-x:auto;line-height:normal;font-family:Menlo,'DejaVu Sans Mono',consolas,'Courier New',monospace\"><span style=\"color: #7fbfbf; text-decoration-color: #7fbfbf\">                    </span><span style=\"color: #800000; text-decoration-color: #800000\">WARNING </span> The original total run_time of <span style=\"color: #800080; text-decoration-color: #800080; font-weight: bold\">integration_index_Scene.play</span><span style=\"font-weight: bold\">()</span>, <span style=\"color: #008000; text-decoration-color: #008000\">0.0147059</span> <a href=\"file:///home/carlo/Desktop/single-projects/manim-demopage/.venv_demo/lib/python3.12/site-packages/manim/scene/scene.py\" target=\"_blank\"><span style=\"color: #7f7f7f; text-decoration-color: #7f7f7f\">scene.py</span></a><span style=\"color: #7f7f7f; text-decoration-color: #7f7f7f\">:</span><a href=\"file:///home/carlo/Desktop/single-projects/manim-demopage/.venv_demo/lib/python3.12/site-packages/manim/scene/scene.py#1044\" target=\"_blank\"><span style=\"color: #7f7f7f; text-decoration-color: #7f7f7f\">1044</span></a>\n",
       "<span style=\"color: #7fbfbf; text-decoration-color: #7fbfbf\">                    </span>         seconds, is too short for the current frame rate of <span style=\"color: #008000; text-decoration-color: #008000\">60</span> FPS. <span style=\"color: #808000; text-decoration-color: #808000; font-weight: bold\">Rendering</span>    <span style=\"color: #7f7f7f; text-decoration-color: #7f7f7f\">             </span>\n",
       "<span style=\"color: #7fbfbf; text-decoration-color: #7fbfbf\">                    </span>         with the shortest possible total run_time of <span style=\"color: #008000; text-decoration-color: #008000\">0.0166667</span> seconds instead.  <span style=\"color: #7f7f7f; text-decoration-color: #7f7f7f\">             </span>\n",
       "</pre>\n"
      ],
      "text/plain": [
       "\u001b[2;36m                   \u001b[0m\u001b[2;36m \u001b[0m\u001b[31mWARNING \u001b[0m The original total run_time of \u001b[1;35mintegration_index_Scene.play\u001b[0m\u001b[1m(\u001b[0m\u001b[1m)\u001b[0m, \u001b[32m0.0147059\u001b[0m \u001b]8;id=503934;file:///home/carlo/Desktop/single-projects/manim-demopage/.venv_demo/lib/python3.12/site-packages/manim/scene/scene.py\u001b\\\u001b[2mscene.py\u001b[0m\u001b]8;;\u001b\\\u001b[2m:\u001b[0m\u001b]8;id=837942;file:///home/carlo/Desktop/single-projects/manim-demopage/.venv_demo/lib/python3.12/site-packages/manim/scene/scene.py#1044\u001b\\\u001b[2m1044\u001b[0m\u001b]8;;\u001b\\\n",
       "\u001b[2;36m                    \u001b[0m         seconds, is too short for the current frame rate of \u001b[32m60\u001b[0m FPS. \u001b[1;33mRendering\u001b[0m    \u001b[2m             \u001b[0m\n",
       "\u001b[2;36m                    \u001b[0m         with the shortest possible total run_time of \u001b[32m0.0166667\u001b[0m seconds instead.  \u001b[2m             \u001b[0m\n"
      ]
     },
     "metadata": {},
     "output_type": "display_data"
    },
    {
     "data": {
      "text/html": [
       "<pre style=\"white-space:pre;overflow-x:auto;line-height:normal;font-family:Menlo,'DejaVu Sans Mono',consolas,'Courier New',monospace\"><span style=\"color: #7fbfbf; text-decoration-color: #7fbfbf\">                    </span><span style=\"color: #800000; text-decoration-color: #800000\">WARNING </span> The original total run_time of <span style=\"color: #800080; text-decoration-color: #800080; font-weight: bold\">integration_index_Scene.play</span><span style=\"font-weight: bold\">()</span>, <span style=\"color: #008000; text-decoration-color: #008000\">0.0145985</span> <a href=\"file:///home/carlo/Desktop/single-projects/manim-demopage/.venv_demo/lib/python3.12/site-packages/manim/scene/scene.py\" target=\"_blank\"><span style=\"color: #7f7f7f; text-decoration-color: #7f7f7f\">scene.py</span></a><span style=\"color: #7f7f7f; text-decoration-color: #7f7f7f\">:</span><a href=\"file:///home/carlo/Desktop/single-projects/manim-demopage/.venv_demo/lib/python3.12/site-packages/manim/scene/scene.py#1044\" target=\"_blank\"><span style=\"color: #7f7f7f; text-decoration-color: #7f7f7f\">1044</span></a>\n",
       "<span style=\"color: #7fbfbf; text-decoration-color: #7fbfbf\">                    </span>         seconds, is too short for the current frame rate of <span style=\"color: #008000; text-decoration-color: #008000\">60</span> FPS. <span style=\"color: #808000; text-decoration-color: #808000; font-weight: bold\">Rendering</span>    <span style=\"color: #7f7f7f; text-decoration-color: #7f7f7f\">             </span>\n",
       "<span style=\"color: #7fbfbf; text-decoration-color: #7fbfbf\">                    </span>         with the shortest possible total run_time of <span style=\"color: #008000; text-decoration-color: #008000\">0.0166667</span> seconds instead.  <span style=\"color: #7f7f7f; text-decoration-color: #7f7f7f\">             </span>\n",
       "</pre>\n"
      ],
      "text/plain": [
       "\u001b[2;36m                   \u001b[0m\u001b[2;36m \u001b[0m\u001b[31mWARNING \u001b[0m The original total run_time of \u001b[1;35mintegration_index_Scene.play\u001b[0m\u001b[1m(\u001b[0m\u001b[1m)\u001b[0m, \u001b[32m0.0145985\u001b[0m \u001b]8;id=340769;file:///home/carlo/Desktop/single-projects/manim-demopage/.venv_demo/lib/python3.12/site-packages/manim/scene/scene.py\u001b\\\u001b[2mscene.py\u001b[0m\u001b]8;;\u001b\\\u001b[2m:\u001b[0m\u001b]8;id=151462;file:///home/carlo/Desktop/single-projects/manim-demopage/.venv_demo/lib/python3.12/site-packages/manim/scene/scene.py#1044\u001b\\\u001b[2m1044\u001b[0m\u001b]8;;\u001b\\\n",
       "\u001b[2;36m                    \u001b[0m         seconds, is too short for the current frame rate of \u001b[32m60\u001b[0m FPS. \u001b[1;33mRendering\u001b[0m    \u001b[2m             \u001b[0m\n",
       "\u001b[2;36m                    \u001b[0m         with the shortest possible total run_time of \u001b[32m0.0166667\u001b[0m seconds instead.  \u001b[2m             \u001b[0m\n"
      ]
     },
     "metadata": {},
     "output_type": "display_data"
    },
    {
     "data": {
      "text/html": [
       "<pre style=\"white-space:pre;overflow-x:auto;line-height:normal;font-family:Menlo,'DejaVu Sans Mono',consolas,'Courier New',monospace\"><span style=\"color: #7fbfbf; text-decoration-color: #7fbfbf\">                    </span><span style=\"color: #800000; text-decoration-color: #800000\">WARNING </span> The original total run_time of <span style=\"color: #800080; text-decoration-color: #800080; font-weight: bold\">integration_index_Scene.play</span><span style=\"font-weight: bold\">()</span>, <span style=\"color: #008000; text-decoration-color: #008000\">0.0145985</span> <a href=\"file:///home/carlo/Desktop/single-projects/manim-demopage/.venv_demo/lib/python3.12/site-packages/manim/scene/scene.py\" target=\"_blank\"><span style=\"color: #7f7f7f; text-decoration-color: #7f7f7f\">scene.py</span></a><span style=\"color: #7f7f7f; text-decoration-color: #7f7f7f\">:</span><a href=\"file:///home/carlo/Desktop/single-projects/manim-demopage/.venv_demo/lib/python3.12/site-packages/manim/scene/scene.py#1044\" target=\"_blank\"><span style=\"color: #7f7f7f; text-decoration-color: #7f7f7f\">1044</span></a>\n",
       "<span style=\"color: #7fbfbf; text-decoration-color: #7fbfbf\">                    </span>         seconds, is too short for the current frame rate of <span style=\"color: #008000; text-decoration-color: #008000\">60</span> FPS. <span style=\"color: #808000; text-decoration-color: #808000; font-weight: bold\">Rendering</span>    <span style=\"color: #7f7f7f; text-decoration-color: #7f7f7f\">             </span>\n",
       "<span style=\"color: #7fbfbf; text-decoration-color: #7fbfbf\">                    </span>         with the shortest possible total run_time of <span style=\"color: #008000; text-decoration-color: #008000\">0.0166667</span> seconds instead.  <span style=\"color: #7f7f7f; text-decoration-color: #7f7f7f\">             </span>\n",
       "</pre>\n"
      ],
      "text/plain": [
       "\u001b[2;36m                   \u001b[0m\u001b[2;36m \u001b[0m\u001b[31mWARNING \u001b[0m The original total run_time of \u001b[1;35mintegration_index_Scene.play\u001b[0m\u001b[1m(\u001b[0m\u001b[1m)\u001b[0m, \u001b[32m0.0145985\u001b[0m \u001b]8;id=140556;file:///home/carlo/Desktop/single-projects/manim-demopage/.venv_demo/lib/python3.12/site-packages/manim/scene/scene.py\u001b\\\u001b[2mscene.py\u001b[0m\u001b]8;;\u001b\\\u001b[2m:\u001b[0m\u001b]8;id=135802;file:///home/carlo/Desktop/single-projects/manim-demopage/.venv_demo/lib/python3.12/site-packages/manim/scene/scene.py#1044\u001b\\\u001b[2m1044\u001b[0m\u001b]8;;\u001b\\\n",
       "\u001b[2;36m                    \u001b[0m         seconds, is too short for the current frame rate of \u001b[32m60\u001b[0m FPS. \u001b[1;33mRendering\u001b[0m    \u001b[2m             \u001b[0m\n",
       "\u001b[2;36m                    \u001b[0m         with the shortest possible total run_time of \u001b[32m0.0166667\u001b[0m seconds instead.  \u001b[2m             \u001b[0m\n"
      ]
     },
     "metadata": {},
     "output_type": "display_data"
    },
    {
     "data": {
      "text/html": [
       "<pre style=\"white-space:pre;overflow-x:auto;line-height:normal;font-family:Menlo,'DejaVu Sans Mono',consolas,'Courier New',monospace\"><span style=\"color: #7fbfbf; text-decoration-color: #7fbfbf\">[01/24/25 14:36:16] </span><span style=\"color: #800000; text-decoration-color: #800000\">WARNING </span> The original total run_time of <span style=\"color: #800080; text-decoration-color: #800080; font-weight: bold\">integration_index_Scene.play</span><span style=\"font-weight: bold\">()</span>, <span style=\"color: #008000; text-decoration-color: #008000\">0.0144928</span> <a href=\"file:///home/carlo/Desktop/single-projects/manim-demopage/.venv_demo/lib/python3.12/site-packages/manim/scene/scene.py\" target=\"_blank\"><span style=\"color: #7f7f7f; text-decoration-color: #7f7f7f\">scene.py</span></a><span style=\"color: #7f7f7f; text-decoration-color: #7f7f7f\">:</span><a href=\"file:///home/carlo/Desktop/single-projects/manim-demopage/.venv_demo/lib/python3.12/site-packages/manim/scene/scene.py#1044\" target=\"_blank\"><span style=\"color: #7f7f7f; text-decoration-color: #7f7f7f\">1044</span></a>\n",
       "<span style=\"color: #7fbfbf; text-decoration-color: #7fbfbf\">                    </span>         seconds, is too short for the current frame rate of <span style=\"color: #008000; text-decoration-color: #008000\">60</span> FPS. <span style=\"color: #808000; text-decoration-color: #808000; font-weight: bold\">Rendering</span>    <span style=\"color: #7f7f7f; text-decoration-color: #7f7f7f\">             </span>\n",
       "<span style=\"color: #7fbfbf; text-decoration-color: #7fbfbf\">                    </span>         with the shortest possible total run_time of <span style=\"color: #008000; text-decoration-color: #008000\">0.0166667</span> seconds instead.  <span style=\"color: #7f7f7f; text-decoration-color: #7f7f7f\">             </span>\n",
       "</pre>\n"
      ],
      "text/plain": [
       "\u001b[2;36m[01/24/25 14:36:16]\u001b[0m\u001b[2;36m \u001b[0m\u001b[31mWARNING \u001b[0m The original total run_time of \u001b[1;35mintegration_index_Scene.play\u001b[0m\u001b[1m(\u001b[0m\u001b[1m)\u001b[0m, \u001b[32m0.0144928\u001b[0m \u001b]8;id=78279;file:///home/carlo/Desktop/single-projects/manim-demopage/.venv_demo/lib/python3.12/site-packages/manim/scene/scene.py\u001b\\\u001b[2mscene.py\u001b[0m\u001b]8;;\u001b\\\u001b[2m:\u001b[0m\u001b]8;id=127405;file:///home/carlo/Desktop/single-projects/manim-demopage/.venv_demo/lib/python3.12/site-packages/manim/scene/scene.py#1044\u001b\\\u001b[2m1044\u001b[0m\u001b]8;;\u001b\\\n",
       "\u001b[2;36m                    \u001b[0m         seconds, is too short for the current frame rate of \u001b[32m60\u001b[0m FPS. \u001b[1;33mRendering\u001b[0m    \u001b[2m             \u001b[0m\n",
       "\u001b[2;36m                    \u001b[0m         with the shortest possible total run_time of \u001b[32m0.0166667\u001b[0m seconds instead.  \u001b[2m             \u001b[0m\n"
      ]
     },
     "metadata": {},
     "output_type": "display_data"
    },
    {
     "data": {
      "text/html": [
       "<pre style=\"white-space:pre;overflow-x:auto;line-height:normal;font-family:Menlo,'DejaVu Sans Mono',consolas,'Courier New',monospace\"><span style=\"color: #7fbfbf; text-decoration-color: #7fbfbf\">                    </span><span style=\"color: #800000; text-decoration-color: #800000\">WARNING </span> The original total run_time of <span style=\"color: #800080; text-decoration-color: #800080; font-weight: bold\">integration_index_Scene.play</span><span style=\"font-weight: bold\">()</span>, <span style=\"color: #008000; text-decoration-color: #008000\">0.0144928</span> <a href=\"file:///home/carlo/Desktop/single-projects/manim-demopage/.venv_demo/lib/python3.12/site-packages/manim/scene/scene.py\" target=\"_blank\"><span style=\"color: #7f7f7f; text-decoration-color: #7f7f7f\">scene.py</span></a><span style=\"color: #7f7f7f; text-decoration-color: #7f7f7f\">:</span><a href=\"file:///home/carlo/Desktop/single-projects/manim-demopage/.venv_demo/lib/python3.12/site-packages/manim/scene/scene.py#1044\" target=\"_blank\"><span style=\"color: #7f7f7f; text-decoration-color: #7f7f7f\">1044</span></a>\n",
       "<span style=\"color: #7fbfbf; text-decoration-color: #7fbfbf\">                    </span>         seconds, is too short for the current frame rate of <span style=\"color: #008000; text-decoration-color: #008000\">60</span> FPS. <span style=\"color: #808000; text-decoration-color: #808000; font-weight: bold\">Rendering</span>    <span style=\"color: #7f7f7f; text-decoration-color: #7f7f7f\">             </span>\n",
       "<span style=\"color: #7fbfbf; text-decoration-color: #7fbfbf\">                    </span>         with the shortest possible total run_time of <span style=\"color: #008000; text-decoration-color: #008000\">0.0166667</span> seconds instead.  <span style=\"color: #7f7f7f; text-decoration-color: #7f7f7f\">             </span>\n",
       "</pre>\n"
      ],
      "text/plain": [
       "\u001b[2;36m                   \u001b[0m\u001b[2;36m \u001b[0m\u001b[31mWARNING \u001b[0m The original total run_time of \u001b[1;35mintegration_index_Scene.play\u001b[0m\u001b[1m(\u001b[0m\u001b[1m)\u001b[0m, \u001b[32m0.0144928\u001b[0m \u001b]8;id=118148;file:///home/carlo/Desktop/single-projects/manim-demopage/.venv_demo/lib/python3.12/site-packages/manim/scene/scene.py\u001b\\\u001b[2mscene.py\u001b[0m\u001b]8;;\u001b\\\u001b[2m:\u001b[0m\u001b]8;id=373122;file:///home/carlo/Desktop/single-projects/manim-demopage/.venv_demo/lib/python3.12/site-packages/manim/scene/scene.py#1044\u001b\\\u001b[2m1044\u001b[0m\u001b]8;;\u001b\\\n",
       "\u001b[2;36m                    \u001b[0m         seconds, is too short for the current frame rate of \u001b[32m60\u001b[0m FPS. \u001b[1;33mRendering\u001b[0m    \u001b[2m             \u001b[0m\n",
       "\u001b[2;36m                    \u001b[0m         with the shortest possible total run_time of \u001b[32m0.0166667\u001b[0m seconds instead.  \u001b[2m             \u001b[0m\n"
      ]
     },
     "metadata": {},
     "output_type": "display_data"
    },
    {
     "data": {
      "text/html": [
       "<pre style=\"white-space:pre;overflow-x:auto;line-height:normal;font-family:Menlo,'DejaVu Sans Mono',consolas,'Courier New',monospace\"><span style=\"color: #7fbfbf; text-decoration-color: #7fbfbf\">                    </span><span style=\"color: #800000; text-decoration-color: #800000\">WARNING </span> The original total run_time of <span style=\"color: #800080; text-decoration-color: #800080; font-weight: bold\">integration_index_Scene.play</span><span style=\"font-weight: bold\">()</span>, <span style=\"color: #008000; text-decoration-color: #008000\">0.0143885</span> <a href=\"file:///home/carlo/Desktop/single-projects/manim-demopage/.venv_demo/lib/python3.12/site-packages/manim/scene/scene.py\" target=\"_blank\"><span style=\"color: #7f7f7f; text-decoration-color: #7f7f7f\">scene.py</span></a><span style=\"color: #7f7f7f; text-decoration-color: #7f7f7f\">:</span><a href=\"file:///home/carlo/Desktop/single-projects/manim-demopage/.venv_demo/lib/python3.12/site-packages/manim/scene/scene.py#1044\" target=\"_blank\"><span style=\"color: #7f7f7f; text-decoration-color: #7f7f7f\">1044</span></a>\n",
       "<span style=\"color: #7fbfbf; text-decoration-color: #7fbfbf\">                    </span>         seconds, is too short for the current frame rate of <span style=\"color: #008000; text-decoration-color: #008000\">60</span> FPS. <span style=\"color: #808000; text-decoration-color: #808000; font-weight: bold\">Rendering</span>    <span style=\"color: #7f7f7f; text-decoration-color: #7f7f7f\">             </span>\n",
       "<span style=\"color: #7fbfbf; text-decoration-color: #7fbfbf\">                    </span>         with the shortest possible total run_time of <span style=\"color: #008000; text-decoration-color: #008000\">0.0166667</span> seconds instead.  <span style=\"color: #7f7f7f; text-decoration-color: #7f7f7f\">             </span>\n",
       "</pre>\n"
      ],
      "text/plain": [
       "\u001b[2;36m                   \u001b[0m\u001b[2;36m \u001b[0m\u001b[31mWARNING \u001b[0m The original total run_time of \u001b[1;35mintegration_index_Scene.play\u001b[0m\u001b[1m(\u001b[0m\u001b[1m)\u001b[0m, \u001b[32m0.0143885\u001b[0m \u001b]8;id=293165;file:///home/carlo/Desktop/single-projects/manim-demopage/.venv_demo/lib/python3.12/site-packages/manim/scene/scene.py\u001b\\\u001b[2mscene.py\u001b[0m\u001b]8;;\u001b\\\u001b[2m:\u001b[0m\u001b]8;id=584810;file:///home/carlo/Desktop/single-projects/manim-demopage/.venv_demo/lib/python3.12/site-packages/manim/scene/scene.py#1044\u001b\\\u001b[2m1044\u001b[0m\u001b]8;;\u001b\\\n",
       "\u001b[2;36m                    \u001b[0m         seconds, is too short for the current frame rate of \u001b[32m60\u001b[0m FPS. \u001b[1;33mRendering\u001b[0m    \u001b[2m             \u001b[0m\n",
       "\u001b[2;36m                    \u001b[0m         with the shortest possible total run_time of \u001b[32m0.0166667\u001b[0m seconds instead.  \u001b[2m             \u001b[0m\n"
      ]
     },
     "metadata": {},
     "output_type": "display_data"
    },
    {
     "data": {
      "text/html": [
       "<pre style=\"white-space:pre;overflow-x:auto;line-height:normal;font-family:Menlo,'DejaVu Sans Mono',consolas,'Courier New',monospace\"><span style=\"color: #7fbfbf; text-decoration-color: #7fbfbf\">                    </span><span style=\"color: #800000; text-decoration-color: #800000\">WARNING </span> The original total run_time of <span style=\"color: #800080; text-decoration-color: #800080; font-weight: bold\">integration_index_Scene.play</span><span style=\"font-weight: bold\">()</span>, <span style=\"color: #008000; text-decoration-color: #008000\">0.0143885</span> <a href=\"file:///home/carlo/Desktop/single-projects/manim-demopage/.venv_demo/lib/python3.12/site-packages/manim/scene/scene.py\" target=\"_blank\"><span style=\"color: #7f7f7f; text-decoration-color: #7f7f7f\">scene.py</span></a><span style=\"color: #7f7f7f; text-decoration-color: #7f7f7f\">:</span><a href=\"file:///home/carlo/Desktop/single-projects/manim-demopage/.venv_demo/lib/python3.12/site-packages/manim/scene/scene.py#1044\" target=\"_blank\"><span style=\"color: #7f7f7f; text-decoration-color: #7f7f7f\">1044</span></a>\n",
       "<span style=\"color: #7fbfbf; text-decoration-color: #7fbfbf\">                    </span>         seconds, is too short for the current frame rate of <span style=\"color: #008000; text-decoration-color: #008000\">60</span> FPS. <span style=\"color: #808000; text-decoration-color: #808000; font-weight: bold\">Rendering</span>    <span style=\"color: #7f7f7f; text-decoration-color: #7f7f7f\">             </span>\n",
       "<span style=\"color: #7fbfbf; text-decoration-color: #7fbfbf\">                    </span>         with the shortest possible total run_time of <span style=\"color: #008000; text-decoration-color: #008000\">0.0166667</span> seconds instead.  <span style=\"color: #7f7f7f; text-decoration-color: #7f7f7f\">             </span>\n",
       "</pre>\n"
      ],
      "text/plain": [
       "\u001b[2;36m                   \u001b[0m\u001b[2;36m \u001b[0m\u001b[31mWARNING \u001b[0m The original total run_time of \u001b[1;35mintegration_index_Scene.play\u001b[0m\u001b[1m(\u001b[0m\u001b[1m)\u001b[0m, \u001b[32m0.0143885\u001b[0m \u001b]8;id=326149;file:///home/carlo/Desktop/single-projects/manim-demopage/.venv_demo/lib/python3.12/site-packages/manim/scene/scene.py\u001b\\\u001b[2mscene.py\u001b[0m\u001b]8;;\u001b\\\u001b[2m:\u001b[0m\u001b]8;id=107139;file:///home/carlo/Desktop/single-projects/manim-demopage/.venv_demo/lib/python3.12/site-packages/manim/scene/scene.py#1044\u001b\\\u001b[2m1044\u001b[0m\u001b]8;;\u001b\\\n",
       "\u001b[2;36m                    \u001b[0m         seconds, is too short for the current frame rate of \u001b[32m60\u001b[0m FPS. \u001b[1;33mRendering\u001b[0m    \u001b[2m             \u001b[0m\n",
       "\u001b[2;36m                    \u001b[0m         with the shortest possible total run_time of \u001b[32m0.0166667\u001b[0m seconds instead.  \u001b[2m             \u001b[0m\n"
      ]
     },
     "metadata": {},
     "output_type": "display_data"
    },
    {
     "data": {
      "text/html": [
       "<pre style=\"white-space:pre;overflow-x:auto;line-height:normal;font-family:Menlo,'DejaVu Sans Mono',consolas,'Courier New',monospace\"><span style=\"color: #7fbfbf; text-decoration-color: #7fbfbf\">                    </span><span style=\"color: #800000; text-decoration-color: #800000\">WARNING </span> The original total run_time of <span style=\"color: #800080; text-decoration-color: #800080; font-weight: bold\">integration_index_Scene.play</span><span style=\"font-weight: bold\">()</span>, <span style=\"color: #008000; text-decoration-color: #008000\">0.0142857</span> <a href=\"file:///home/carlo/Desktop/single-projects/manim-demopage/.venv_demo/lib/python3.12/site-packages/manim/scene/scene.py\" target=\"_blank\"><span style=\"color: #7f7f7f; text-decoration-color: #7f7f7f\">scene.py</span></a><span style=\"color: #7f7f7f; text-decoration-color: #7f7f7f\">:</span><a href=\"file:///home/carlo/Desktop/single-projects/manim-demopage/.venv_demo/lib/python3.12/site-packages/manim/scene/scene.py#1044\" target=\"_blank\"><span style=\"color: #7f7f7f; text-decoration-color: #7f7f7f\">1044</span></a>\n",
       "<span style=\"color: #7fbfbf; text-decoration-color: #7fbfbf\">                    </span>         seconds, is too short for the current frame rate of <span style=\"color: #008000; text-decoration-color: #008000\">60</span> FPS. <span style=\"color: #808000; text-decoration-color: #808000; font-weight: bold\">Rendering</span>    <span style=\"color: #7f7f7f; text-decoration-color: #7f7f7f\">             </span>\n",
       "<span style=\"color: #7fbfbf; text-decoration-color: #7fbfbf\">                    </span>         with the shortest possible total run_time of <span style=\"color: #008000; text-decoration-color: #008000\">0.0166667</span> seconds instead.  <span style=\"color: #7f7f7f; text-decoration-color: #7f7f7f\">             </span>\n",
       "</pre>\n"
      ],
      "text/plain": [
       "\u001b[2;36m                   \u001b[0m\u001b[2;36m \u001b[0m\u001b[31mWARNING \u001b[0m The original total run_time of \u001b[1;35mintegration_index_Scene.play\u001b[0m\u001b[1m(\u001b[0m\u001b[1m)\u001b[0m, \u001b[32m0.0142857\u001b[0m \u001b]8;id=79573;file:///home/carlo/Desktop/single-projects/manim-demopage/.venv_demo/lib/python3.12/site-packages/manim/scene/scene.py\u001b\\\u001b[2mscene.py\u001b[0m\u001b]8;;\u001b\\\u001b[2m:\u001b[0m\u001b]8;id=26948;file:///home/carlo/Desktop/single-projects/manim-demopage/.venv_demo/lib/python3.12/site-packages/manim/scene/scene.py#1044\u001b\\\u001b[2m1044\u001b[0m\u001b]8;;\u001b\\\n",
       "\u001b[2;36m                    \u001b[0m         seconds, is too short for the current frame rate of \u001b[32m60\u001b[0m FPS. \u001b[1;33mRendering\u001b[0m    \u001b[2m             \u001b[0m\n",
       "\u001b[2;36m                    \u001b[0m         with the shortest possible total run_time of \u001b[32m0.0166667\u001b[0m seconds instead.  \u001b[2m             \u001b[0m\n"
      ]
     },
     "metadata": {},
     "output_type": "display_data"
    },
    {
     "data": {
      "text/html": [
       "<pre style=\"white-space:pre;overflow-x:auto;line-height:normal;font-family:Menlo,'DejaVu Sans Mono',consolas,'Courier New',monospace\"><span style=\"color: #7fbfbf; text-decoration-color: #7fbfbf\">                    </span><span style=\"color: #800000; text-decoration-color: #800000\">WARNING </span> The original total run_time of <span style=\"color: #800080; text-decoration-color: #800080; font-weight: bold\">integration_index_Scene.play</span><span style=\"font-weight: bold\">()</span>, <span style=\"color: #008000; text-decoration-color: #008000\">0.0142857</span> <a href=\"file:///home/carlo/Desktop/single-projects/manim-demopage/.venv_demo/lib/python3.12/site-packages/manim/scene/scene.py\" target=\"_blank\"><span style=\"color: #7f7f7f; text-decoration-color: #7f7f7f\">scene.py</span></a><span style=\"color: #7f7f7f; text-decoration-color: #7f7f7f\">:</span><a href=\"file:///home/carlo/Desktop/single-projects/manim-demopage/.venv_demo/lib/python3.12/site-packages/manim/scene/scene.py#1044\" target=\"_blank\"><span style=\"color: #7f7f7f; text-decoration-color: #7f7f7f\">1044</span></a>\n",
       "<span style=\"color: #7fbfbf; text-decoration-color: #7fbfbf\">                    </span>         seconds, is too short for the current frame rate of <span style=\"color: #008000; text-decoration-color: #008000\">60</span> FPS. <span style=\"color: #808000; text-decoration-color: #808000; font-weight: bold\">Rendering</span>    <span style=\"color: #7f7f7f; text-decoration-color: #7f7f7f\">             </span>\n",
       "<span style=\"color: #7fbfbf; text-decoration-color: #7fbfbf\">                    </span>         with the shortest possible total run_time of <span style=\"color: #008000; text-decoration-color: #008000\">0.0166667</span> seconds instead.  <span style=\"color: #7f7f7f; text-decoration-color: #7f7f7f\">             </span>\n",
       "</pre>\n"
      ],
      "text/plain": [
       "\u001b[2;36m                   \u001b[0m\u001b[2;36m \u001b[0m\u001b[31mWARNING \u001b[0m The original total run_time of \u001b[1;35mintegration_index_Scene.play\u001b[0m\u001b[1m(\u001b[0m\u001b[1m)\u001b[0m, \u001b[32m0.0142857\u001b[0m \u001b]8;id=143116;file:///home/carlo/Desktop/single-projects/manim-demopage/.venv_demo/lib/python3.12/site-packages/manim/scene/scene.py\u001b\\\u001b[2mscene.py\u001b[0m\u001b]8;;\u001b\\\u001b[2m:\u001b[0m\u001b]8;id=496786;file:///home/carlo/Desktop/single-projects/manim-demopage/.venv_demo/lib/python3.12/site-packages/manim/scene/scene.py#1044\u001b\\\u001b[2m1044\u001b[0m\u001b]8;;\u001b\\\n",
       "\u001b[2;36m                    \u001b[0m         seconds, is too short for the current frame rate of \u001b[32m60\u001b[0m FPS. \u001b[1;33mRendering\u001b[0m    \u001b[2m             \u001b[0m\n",
       "\u001b[2;36m                    \u001b[0m         with the shortest possible total run_time of \u001b[32m0.0166667\u001b[0m seconds instead.  \u001b[2m             \u001b[0m\n"
      ]
     },
     "metadata": {},
     "output_type": "display_data"
    },
    {
     "data": {
      "text/html": [
       "<pre style=\"white-space:pre;overflow-x:auto;line-height:normal;font-family:Menlo,'DejaVu Sans Mono',consolas,'Courier New',monospace\"><span style=\"color: #7fbfbf; text-decoration-color: #7fbfbf\">                    </span><span style=\"color: #800000; text-decoration-color: #800000\">WARNING </span> The original total run_time of <span style=\"color: #800080; text-decoration-color: #800080; font-weight: bold\">integration_index_Scene.play</span><span style=\"font-weight: bold\">()</span>, <span style=\"color: #008000; text-decoration-color: #008000\">0.0141844</span> <a href=\"file:///home/carlo/Desktop/single-projects/manim-demopage/.venv_demo/lib/python3.12/site-packages/manim/scene/scene.py\" target=\"_blank\"><span style=\"color: #7f7f7f; text-decoration-color: #7f7f7f\">scene.py</span></a><span style=\"color: #7f7f7f; text-decoration-color: #7f7f7f\">:</span><a href=\"file:///home/carlo/Desktop/single-projects/manim-demopage/.venv_demo/lib/python3.12/site-packages/manim/scene/scene.py#1044\" target=\"_blank\"><span style=\"color: #7f7f7f; text-decoration-color: #7f7f7f\">1044</span></a>\n",
       "<span style=\"color: #7fbfbf; text-decoration-color: #7fbfbf\">                    </span>         seconds, is too short for the current frame rate of <span style=\"color: #008000; text-decoration-color: #008000\">60</span> FPS. <span style=\"color: #808000; text-decoration-color: #808000; font-weight: bold\">Rendering</span>    <span style=\"color: #7f7f7f; text-decoration-color: #7f7f7f\">             </span>\n",
       "<span style=\"color: #7fbfbf; text-decoration-color: #7fbfbf\">                    </span>         with the shortest possible total run_time of <span style=\"color: #008000; text-decoration-color: #008000\">0.0166667</span> seconds instead.  <span style=\"color: #7f7f7f; text-decoration-color: #7f7f7f\">             </span>\n",
       "</pre>\n"
      ],
      "text/plain": [
       "\u001b[2;36m                   \u001b[0m\u001b[2;36m \u001b[0m\u001b[31mWARNING \u001b[0m The original total run_time of \u001b[1;35mintegration_index_Scene.play\u001b[0m\u001b[1m(\u001b[0m\u001b[1m)\u001b[0m, \u001b[32m0.0141844\u001b[0m \u001b]8;id=428634;file:///home/carlo/Desktop/single-projects/manim-demopage/.venv_demo/lib/python3.12/site-packages/manim/scene/scene.py\u001b\\\u001b[2mscene.py\u001b[0m\u001b]8;;\u001b\\\u001b[2m:\u001b[0m\u001b]8;id=226178;file:///home/carlo/Desktop/single-projects/manim-demopage/.venv_demo/lib/python3.12/site-packages/manim/scene/scene.py#1044\u001b\\\u001b[2m1044\u001b[0m\u001b]8;;\u001b\\\n",
       "\u001b[2;36m                    \u001b[0m         seconds, is too short for the current frame rate of \u001b[32m60\u001b[0m FPS. \u001b[1;33mRendering\u001b[0m    \u001b[2m             \u001b[0m\n",
       "\u001b[2;36m                    \u001b[0m         with the shortest possible total run_time of \u001b[32m0.0166667\u001b[0m seconds instead.  \u001b[2m             \u001b[0m\n"
      ]
     },
     "metadata": {},
     "output_type": "display_data"
    },
    {
     "data": {
      "text/html": [
       "<pre style=\"white-space:pre;overflow-x:auto;line-height:normal;font-family:Menlo,'DejaVu Sans Mono',consolas,'Courier New',monospace\"><span style=\"color: #7fbfbf; text-decoration-color: #7fbfbf\">                    </span><span style=\"color: #800000; text-decoration-color: #800000\">WARNING </span> The original total run_time of <span style=\"color: #800080; text-decoration-color: #800080; font-weight: bold\">integration_index_Scene.play</span><span style=\"font-weight: bold\">()</span>, <span style=\"color: #008000; text-decoration-color: #008000\">0.0141844</span> <a href=\"file:///home/carlo/Desktop/single-projects/manim-demopage/.venv_demo/lib/python3.12/site-packages/manim/scene/scene.py\" target=\"_blank\"><span style=\"color: #7f7f7f; text-decoration-color: #7f7f7f\">scene.py</span></a><span style=\"color: #7f7f7f; text-decoration-color: #7f7f7f\">:</span><a href=\"file:///home/carlo/Desktop/single-projects/manim-demopage/.venv_demo/lib/python3.12/site-packages/manim/scene/scene.py#1044\" target=\"_blank\"><span style=\"color: #7f7f7f; text-decoration-color: #7f7f7f\">1044</span></a>\n",
       "<span style=\"color: #7fbfbf; text-decoration-color: #7fbfbf\">                    </span>         seconds, is too short for the current frame rate of <span style=\"color: #008000; text-decoration-color: #008000\">60</span> FPS. <span style=\"color: #808000; text-decoration-color: #808000; font-weight: bold\">Rendering</span>    <span style=\"color: #7f7f7f; text-decoration-color: #7f7f7f\">             </span>\n",
       "<span style=\"color: #7fbfbf; text-decoration-color: #7fbfbf\">                    </span>         with the shortest possible total run_time of <span style=\"color: #008000; text-decoration-color: #008000\">0.0166667</span> seconds instead.  <span style=\"color: #7f7f7f; text-decoration-color: #7f7f7f\">             </span>\n",
       "</pre>\n"
      ],
      "text/plain": [
       "\u001b[2;36m                   \u001b[0m\u001b[2;36m \u001b[0m\u001b[31mWARNING \u001b[0m The original total run_time of \u001b[1;35mintegration_index_Scene.play\u001b[0m\u001b[1m(\u001b[0m\u001b[1m)\u001b[0m, \u001b[32m0.0141844\u001b[0m \u001b]8;id=944380;file:///home/carlo/Desktop/single-projects/manim-demopage/.venv_demo/lib/python3.12/site-packages/manim/scene/scene.py\u001b\\\u001b[2mscene.py\u001b[0m\u001b]8;;\u001b\\\u001b[2m:\u001b[0m\u001b]8;id=919558;file:///home/carlo/Desktop/single-projects/manim-demopage/.venv_demo/lib/python3.12/site-packages/manim/scene/scene.py#1044\u001b\\\u001b[2m1044\u001b[0m\u001b]8;;\u001b\\\n",
       "\u001b[2;36m                    \u001b[0m         seconds, is too short for the current frame rate of \u001b[32m60\u001b[0m FPS. \u001b[1;33mRendering\u001b[0m    \u001b[2m             \u001b[0m\n",
       "\u001b[2;36m                    \u001b[0m         with the shortest possible total run_time of \u001b[32m0.0166667\u001b[0m seconds instead.  \u001b[2m             \u001b[0m\n"
      ]
     },
     "metadata": {},
     "output_type": "display_data"
    },
    {
     "data": {
      "text/html": [
       "<pre style=\"white-space:pre;overflow-x:auto;line-height:normal;font-family:Menlo,'DejaVu Sans Mono',consolas,'Courier New',monospace\"><span style=\"color: #7fbfbf; text-decoration-color: #7fbfbf\">                    </span><span style=\"color: #800000; text-decoration-color: #800000\">WARNING </span> The original total run_time of <span style=\"color: #800080; text-decoration-color: #800080; font-weight: bold\">integration_index_Scene.play</span><span style=\"font-weight: bold\">()</span>, <span style=\"color: #008000; text-decoration-color: #008000\">0.0140845</span> <a href=\"file:///home/carlo/Desktop/single-projects/manim-demopage/.venv_demo/lib/python3.12/site-packages/manim/scene/scene.py\" target=\"_blank\"><span style=\"color: #7f7f7f; text-decoration-color: #7f7f7f\">scene.py</span></a><span style=\"color: #7f7f7f; text-decoration-color: #7f7f7f\">:</span><a href=\"file:///home/carlo/Desktop/single-projects/manim-demopage/.venv_demo/lib/python3.12/site-packages/manim/scene/scene.py#1044\" target=\"_blank\"><span style=\"color: #7f7f7f; text-decoration-color: #7f7f7f\">1044</span></a>\n",
       "<span style=\"color: #7fbfbf; text-decoration-color: #7fbfbf\">                    </span>         seconds, is too short for the current frame rate of <span style=\"color: #008000; text-decoration-color: #008000\">60</span> FPS. <span style=\"color: #808000; text-decoration-color: #808000; font-weight: bold\">Rendering</span>    <span style=\"color: #7f7f7f; text-decoration-color: #7f7f7f\">             </span>\n",
       "<span style=\"color: #7fbfbf; text-decoration-color: #7fbfbf\">                    </span>         with the shortest possible total run_time of <span style=\"color: #008000; text-decoration-color: #008000\">0.0166667</span> seconds instead.  <span style=\"color: #7f7f7f; text-decoration-color: #7f7f7f\">             </span>\n",
       "</pre>\n"
      ],
      "text/plain": [
       "\u001b[2;36m                   \u001b[0m\u001b[2;36m \u001b[0m\u001b[31mWARNING \u001b[0m The original total run_time of \u001b[1;35mintegration_index_Scene.play\u001b[0m\u001b[1m(\u001b[0m\u001b[1m)\u001b[0m, \u001b[32m0.0140845\u001b[0m \u001b]8;id=622771;file:///home/carlo/Desktop/single-projects/manim-demopage/.venv_demo/lib/python3.12/site-packages/manim/scene/scene.py\u001b\\\u001b[2mscene.py\u001b[0m\u001b]8;;\u001b\\\u001b[2m:\u001b[0m\u001b]8;id=820143;file:///home/carlo/Desktop/single-projects/manim-demopage/.venv_demo/lib/python3.12/site-packages/manim/scene/scene.py#1044\u001b\\\u001b[2m1044\u001b[0m\u001b]8;;\u001b\\\n",
       "\u001b[2;36m                    \u001b[0m         seconds, is too short for the current frame rate of \u001b[32m60\u001b[0m FPS. \u001b[1;33mRendering\u001b[0m    \u001b[2m             \u001b[0m\n",
       "\u001b[2;36m                    \u001b[0m         with the shortest possible total run_time of \u001b[32m0.0166667\u001b[0m seconds instead.  \u001b[2m             \u001b[0m\n"
      ]
     },
     "metadata": {},
     "output_type": "display_data"
    },
    {
     "data": {
      "text/html": [
       "<pre style=\"white-space:pre;overflow-x:auto;line-height:normal;font-family:Menlo,'DejaVu Sans Mono',consolas,'Courier New',monospace\"><span style=\"color: #7fbfbf; text-decoration-color: #7fbfbf\">                    </span><span style=\"color: #800000; text-decoration-color: #800000\">WARNING </span> The original total run_time of <span style=\"color: #800080; text-decoration-color: #800080; font-weight: bold\">integration_index_Scene.play</span><span style=\"font-weight: bold\">()</span>, <span style=\"color: #008000; text-decoration-color: #008000\">0.0140845</span> <a href=\"file:///home/carlo/Desktop/single-projects/manim-demopage/.venv_demo/lib/python3.12/site-packages/manim/scene/scene.py\" target=\"_blank\"><span style=\"color: #7f7f7f; text-decoration-color: #7f7f7f\">scene.py</span></a><span style=\"color: #7f7f7f; text-decoration-color: #7f7f7f\">:</span><a href=\"file:///home/carlo/Desktop/single-projects/manim-demopage/.venv_demo/lib/python3.12/site-packages/manim/scene/scene.py#1044\" target=\"_blank\"><span style=\"color: #7f7f7f; text-decoration-color: #7f7f7f\">1044</span></a>\n",
       "<span style=\"color: #7fbfbf; text-decoration-color: #7fbfbf\">                    </span>         seconds, is too short for the current frame rate of <span style=\"color: #008000; text-decoration-color: #008000\">60</span> FPS. <span style=\"color: #808000; text-decoration-color: #808000; font-weight: bold\">Rendering</span>    <span style=\"color: #7f7f7f; text-decoration-color: #7f7f7f\">             </span>\n",
       "<span style=\"color: #7fbfbf; text-decoration-color: #7fbfbf\">                    </span>         with the shortest possible total run_time of <span style=\"color: #008000; text-decoration-color: #008000\">0.0166667</span> seconds instead.  <span style=\"color: #7f7f7f; text-decoration-color: #7f7f7f\">             </span>\n",
       "</pre>\n"
      ],
      "text/plain": [
       "\u001b[2;36m                   \u001b[0m\u001b[2;36m \u001b[0m\u001b[31mWARNING \u001b[0m The original total run_time of \u001b[1;35mintegration_index_Scene.play\u001b[0m\u001b[1m(\u001b[0m\u001b[1m)\u001b[0m, \u001b[32m0.0140845\u001b[0m \u001b]8;id=675755;file:///home/carlo/Desktop/single-projects/manim-demopage/.venv_demo/lib/python3.12/site-packages/manim/scene/scene.py\u001b\\\u001b[2mscene.py\u001b[0m\u001b]8;;\u001b\\\u001b[2m:\u001b[0m\u001b]8;id=877832;file:///home/carlo/Desktop/single-projects/manim-demopage/.venv_demo/lib/python3.12/site-packages/manim/scene/scene.py#1044\u001b\\\u001b[2m1044\u001b[0m\u001b]8;;\u001b\\\n",
       "\u001b[2;36m                    \u001b[0m         seconds, is too short for the current frame rate of \u001b[32m60\u001b[0m FPS. \u001b[1;33mRendering\u001b[0m    \u001b[2m             \u001b[0m\n",
       "\u001b[2;36m                    \u001b[0m         with the shortest possible total run_time of \u001b[32m0.0166667\u001b[0m seconds instead.  \u001b[2m             \u001b[0m\n"
      ]
     },
     "metadata": {},
     "output_type": "display_data"
    },
    {
     "data": {
      "text/html": [
       "<pre style=\"white-space:pre;overflow-x:auto;line-height:normal;font-family:Menlo,'DejaVu Sans Mono',consolas,'Courier New',monospace\"><span style=\"color: #7fbfbf; text-decoration-color: #7fbfbf\">                    </span><span style=\"color: #800000; text-decoration-color: #800000\">WARNING </span> The original total run_time of <span style=\"color: #800080; text-decoration-color: #800080; font-weight: bold\">integration_index_Scene.play</span><span style=\"font-weight: bold\">()</span>, <span style=\"color: #008000; text-decoration-color: #008000\">0.013986</span>  <a href=\"file:///home/carlo/Desktop/single-projects/manim-demopage/.venv_demo/lib/python3.12/site-packages/manim/scene/scene.py\" target=\"_blank\"><span style=\"color: #7f7f7f; text-decoration-color: #7f7f7f\">scene.py</span></a><span style=\"color: #7f7f7f; text-decoration-color: #7f7f7f\">:</span><a href=\"file:///home/carlo/Desktop/single-projects/manim-demopage/.venv_demo/lib/python3.12/site-packages/manim/scene/scene.py#1044\" target=\"_blank\"><span style=\"color: #7f7f7f; text-decoration-color: #7f7f7f\">1044</span></a>\n",
       "<span style=\"color: #7fbfbf; text-decoration-color: #7fbfbf\">                    </span>         seconds, is too short for the current frame rate of <span style=\"color: #008000; text-decoration-color: #008000\">60</span> FPS. <span style=\"color: #808000; text-decoration-color: #808000; font-weight: bold\">Rendering</span>    <span style=\"color: #7f7f7f; text-decoration-color: #7f7f7f\">             </span>\n",
       "<span style=\"color: #7fbfbf; text-decoration-color: #7fbfbf\">                    </span>         with the shortest possible total run_time of <span style=\"color: #008000; text-decoration-color: #008000\">0.0166667</span> seconds instead.  <span style=\"color: #7f7f7f; text-decoration-color: #7f7f7f\">             </span>\n",
       "</pre>\n"
      ],
      "text/plain": [
       "\u001b[2;36m                   \u001b[0m\u001b[2;36m \u001b[0m\u001b[31mWARNING \u001b[0m The original total run_time of \u001b[1;35mintegration_index_Scene.play\u001b[0m\u001b[1m(\u001b[0m\u001b[1m)\u001b[0m, \u001b[32m0.013986\u001b[0m  \u001b]8;id=67387;file:///home/carlo/Desktop/single-projects/manim-demopage/.venv_demo/lib/python3.12/site-packages/manim/scene/scene.py\u001b\\\u001b[2mscene.py\u001b[0m\u001b]8;;\u001b\\\u001b[2m:\u001b[0m\u001b]8;id=129440;file:///home/carlo/Desktop/single-projects/manim-demopage/.venv_demo/lib/python3.12/site-packages/manim/scene/scene.py#1044\u001b\\\u001b[2m1044\u001b[0m\u001b]8;;\u001b\\\n",
       "\u001b[2;36m                    \u001b[0m         seconds, is too short for the current frame rate of \u001b[32m60\u001b[0m FPS. \u001b[1;33mRendering\u001b[0m    \u001b[2m             \u001b[0m\n",
       "\u001b[2;36m                    \u001b[0m         with the shortest possible total run_time of \u001b[32m0.0166667\u001b[0m seconds instead.  \u001b[2m             \u001b[0m\n"
      ]
     },
     "metadata": {},
     "output_type": "display_data"
    },
    {
     "data": {
      "text/html": [
       "<pre style=\"white-space:pre;overflow-x:auto;line-height:normal;font-family:Menlo,'DejaVu Sans Mono',consolas,'Courier New',monospace\"><span style=\"color: #7fbfbf; text-decoration-color: #7fbfbf\">                    </span><span style=\"color: #800000; text-decoration-color: #800000\">WARNING </span> The original total run_time of <span style=\"color: #800080; text-decoration-color: #800080; font-weight: bold\">integration_index_Scene.play</span><span style=\"font-weight: bold\">()</span>, <span style=\"color: #008000; text-decoration-color: #008000\">0.013986</span>  <a href=\"file:///home/carlo/Desktop/single-projects/manim-demopage/.venv_demo/lib/python3.12/site-packages/manim/scene/scene.py\" target=\"_blank\"><span style=\"color: #7f7f7f; text-decoration-color: #7f7f7f\">scene.py</span></a><span style=\"color: #7f7f7f; text-decoration-color: #7f7f7f\">:</span><a href=\"file:///home/carlo/Desktop/single-projects/manim-demopage/.venv_demo/lib/python3.12/site-packages/manim/scene/scene.py#1044\" target=\"_blank\"><span style=\"color: #7f7f7f; text-decoration-color: #7f7f7f\">1044</span></a>\n",
       "<span style=\"color: #7fbfbf; text-decoration-color: #7fbfbf\">                    </span>         seconds, is too short for the current frame rate of <span style=\"color: #008000; text-decoration-color: #008000\">60</span> FPS. <span style=\"color: #808000; text-decoration-color: #808000; font-weight: bold\">Rendering</span>    <span style=\"color: #7f7f7f; text-decoration-color: #7f7f7f\">             </span>\n",
       "<span style=\"color: #7fbfbf; text-decoration-color: #7fbfbf\">                    </span>         with the shortest possible total run_time of <span style=\"color: #008000; text-decoration-color: #008000\">0.0166667</span> seconds instead.  <span style=\"color: #7f7f7f; text-decoration-color: #7f7f7f\">             </span>\n",
       "</pre>\n"
      ],
      "text/plain": [
       "\u001b[2;36m                   \u001b[0m\u001b[2;36m \u001b[0m\u001b[31mWARNING \u001b[0m The original total run_time of \u001b[1;35mintegration_index_Scene.play\u001b[0m\u001b[1m(\u001b[0m\u001b[1m)\u001b[0m, \u001b[32m0.013986\u001b[0m  \u001b]8;id=127666;file:///home/carlo/Desktop/single-projects/manim-demopage/.venv_demo/lib/python3.12/site-packages/manim/scene/scene.py\u001b\\\u001b[2mscene.py\u001b[0m\u001b]8;;\u001b\\\u001b[2m:\u001b[0m\u001b]8;id=814242;file:///home/carlo/Desktop/single-projects/manim-demopage/.venv_demo/lib/python3.12/site-packages/manim/scene/scene.py#1044\u001b\\\u001b[2m1044\u001b[0m\u001b]8;;\u001b\\\n",
       "\u001b[2;36m                    \u001b[0m         seconds, is too short for the current frame rate of \u001b[32m60\u001b[0m FPS. \u001b[1;33mRendering\u001b[0m    \u001b[2m             \u001b[0m\n",
       "\u001b[2;36m                    \u001b[0m         with the shortest possible total run_time of \u001b[32m0.0166667\u001b[0m seconds instead.  \u001b[2m             \u001b[0m\n"
      ]
     },
     "metadata": {},
     "output_type": "display_data"
    },
    {
     "data": {
      "text/html": [
       "<pre style=\"white-space:pre;overflow-x:auto;line-height:normal;font-family:Menlo,'DejaVu Sans Mono',consolas,'Courier New',monospace\"><span style=\"color: #7fbfbf; text-decoration-color: #7fbfbf\">[01/24/25 14:36:17] </span><span style=\"color: #800000; text-decoration-color: #800000\">WARNING </span> The original total run_time of <span style=\"color: #800080; text-decoration-color: #800080; font-weight: bold\">integration_index_Scene.play</span><span style=\"font-weight: bold\">()</span>, <span style=\"color: #008000; text-decoration-color: #008000\">0.0138889</span> <a href=\"file:///home/carlo/Desktop/single-projects/manim-demopage/.venv_demo/lib/python3.12/site-packages/manim/scene/scene.py\" target=\"_blank\"><span style=\"color: #7f7f7f; text-decoration-color: #7f7f7f\">scene.py</span></a><span style=\"color: #7f7f7f; text-decoration-color: #7f7f7f\">:</span><a href=\"file:///home/carlo/Desktop/single-projects/manim-demopage/.venv_demo/lib/python3.12/site-packages/manim/scene/scene.py#1044\" target=\"_blank\"><span style=\"color: #7f7f7f; text-decoration-color: #7f7f7f\">1044</span></a>\n",
       "<span style=\"color: #7fbfbf; text-decoration-color: #7fbfbf\">                    </span>         seconds, is too short for the current frame rate of <span style=\"color: #008000; text-decoration-color: #008000\">60</span> FPS. <span style=\"color: #808000; text-decoration-color: #808000; font-weight: bold\">Rendering</span>    <span style=\"color: #7f7f7f; text-decoration-color: #7f7f7f\">             </span>\n",
       "<span style=\"color: #7fbfbf; text-decoration-color: #7fbfbf\">                    </span>         with the shortest possible total run_time of <span style=\"color: #008000; text-decoration-color: #008000\">0.0166667</span> seconds instead.  <span style=\"color: #7f7f7f; text-decoration-color: #7f7f7f\">             </span>\n",
       "</pre>\n"
      ],
      "text/plain": [
       "\u001b[2;36m[01/24/25 14:36:17]\u001b[0m\u001b[2;36m \u001b[0m\u001b[31mWARNING \u001b[0m The original total run_time of \u001b[1;35mintegration_index_Scene.play\u001b[0m\u001b[1m(\u001b[0m\u001b[1m)\u001b[0m, \u001b[32m0.0138889\u001b[0m \u001b]8;id=769933;file:///home/carlo/Desktop/single-projects/manim-demopage/.venv_demo/lib/python3.12/site-packages/manim/scene/scene.py\u001b\\\u001b[2mscene.py\u001b[0m\u001b]8;;\u001b\\\u001b[2m:\u001b[0m\u001b]8;id=497560;file:///home/carlo/Desktop/single-projects/manim-demopage/.venv_demo/lib/python3.12/site-packages/manim/scene/scene.py#1044\u001b\\\u001b[2m1044\u001b[0m\u001b]8;;\u001b\\\n",
       "\u001b[2;36m                    \u001b[0m         seconds, is too short for the current frame rate of \u001b[32m60\u001b[0m FPS. \u001b[1;33mRendering\u001b[0m    \u001b[2m             \u001b[0m\n",
       "\u001b[2;36m                    \u001b[0m         with the shortest possible total run_time of \u001b[32m0.0166667\u001b[0m seconds instead.  \u001b[2m             \u001b[0m\n"
      ]
     },
     "metadata": {},
     "output_type": "display_data"
    },
    {
     "data": {
      "text/html": [
       "<pre style=\"white-space:pre;overflow-x:auto;line-height:normal;font-family:Menlo,'DejaVu Sans Mono',consolas,'Courier New',monospace\"><span style=\"color: #7fbfbf; text-decoration-color: #7fbfbf\">                    </span><span style=\"color: #800000; text-decoration-color: #800000\">WARNING </span> The original total run_time of <span style=\"color: #800080; text-decoration-color: #800080; font-weight: bold\">integration_index_Scene.play</span><span style=\"font-weight: bold\">()</span>, <span style=\"color: #008000; text-decoration-color: #008000\">0.0138889</span> <a href=\"file:///home/carlo/Desktop/single-projects/manim-demopage/.venv_demo/lib/python3.12/site-packages/manim/scene/scene.py\" target=\"_blank\"><span style=\"color: #7f7f7f; text-decoration-color: #7f7f7f\">scene.py</span></a><span style=\"color: #7f7f7f; text-decoration-color: #7f7f7f\">:</span><a href=\"file:///home/carlo/Desktop/single-projects/manim-demopage/.venv_demo/lib/python3.12/site-packages/manim/scene/scene.py#1044\" target=\"_blank\"><span style=\"color: #7f7f7f; text-decoration-color: #7f7f7f\">1044</span></a>\n",
       "<span style=\"color: #7fbfbf; text-decoration-color: #7fbfbf\">                    </span>         seconds, is too short for the current frame rate of <span style=\"color: #008000; text-decoration-color: #008000\">60</span> FPS. <span style=\"color: #808000; text-decoration-color: #808000; font-weight: bold\">Rendering</span>    <span style=\"color: #7f7f7f; text-decoration-color: #7f7f7f\">             </span>\n",
       "<span style=\"color: #7fbfbf; text-decoration-color: #7fbfbf\">                    </span>         with the shortest possible total run_time of <span style=\"color: #008000; text-decoration-color: #008000\">0.0166667</span> seconds instead.  <span style=\"color: #7f7f7f; text-decoration-color: #7f7f7f\">             </span>\n",
       "</pre>\n"
      ],
      "text/plain": [
       "\u001b[2;36m                   \u001b[0m\u001b[2;36m \u001b[0m\u001b[31mWARNING \u001b[0m The original total run_time of \u001b[1;35mintegration_index_Scene.play\u001b[0m\u001b[1m(\u001b[0m\u001b[1m)\u001b[0m, \u001b[32m0.0138889\u001b[0m \u001b]8;id=974536;file:///home/carlo/Desktop/single-projects/manim-demopage/.venv_demo/lib/python3.12/site-packages/manim/scene/scene.py\u001b\\\u001b[2mscene.py\u001b[0m\u001b]8;;\u001b\\\u001b[2m:\u001b[0m\u001b]8;id=416520;file:///home/carlo/Desktop/single-projects/manim-demopage/.venv_demo/lib/python3.12/site-packages/manim/scene/scene.py#1044\u001b\\\u001b[2m1044\u001b[0m\u001b]8;;\u001b\\\n",
       "\u001b[2;36m                    \u001b[0m         seconds, is too short for the current frame rate of \u001b[32m60\u001b[0m FPS. \u001b[1;33mRendering\u001b[0m    \u001b[2m             \u001b[0m\n",
       "\u001b[2;36m                    \u001b[0m         with the shortest possible total run_time of \u001b[32m0.0166667\u001b[0m seconds instead.  \u001b[2m             \u001b[0m\n"
      ]
     },
     "metadata": {},
     "output_type": "display_data"
    },
    {
     "data": {
      "text/html": [
       "<pre style=\"white-space:pre;overflow-x:auto;line-height:normal;font-family:Menlo,'DejaVu Sans Mono',consolas,'Courier New',monospace\"><span style=\"color: #7fbfbf; text-decoration-color: #7fbfbf\">                    </span><span style=\"color: #800000; text-decoration-color: #800000\">WARNING </span> The original total run_time of <span style=\"color: #800080; text-decoration-color: #800080; font-weight: bold\">integration_index_Scene.play</span><span style=\"font-weight: bold\">()</span>, <span style=\"color: #008000; text-decoration-color: #008000\">0.0137931</span> <a href=\"file:///home/carlo/Desktop/single-projects/manim-demopage/.venv_demo/lib/python3.12/site-packages/manim/scene/scene.py\" target=\"_blank\"><span style=\"color: #7f7f7f; text-decoration-color: #7f7f7f\">scene.py</span></a><span style=\"color: #7f7f7f; text-decoration-color: #7f7f7f\">:</span><a href=\"file:///home/carlo/Desktop/single-projects/manim-demopage/.venv_demo/lib/python3.12/site-packages/manim/scene/scene.py#1044\" target=\"_blank\"><span style=\"color: #7f7f7f; text-decoration-color: #7f7f7f\">1044</span></a>\n",
       "<span style=\"color: #7fbfbf; text-decoration-color: #7fbfbf\">                    </span>         seconds, is too short for the current frame rate of <span style=\"color: #008000; text-decoration-color: #008000\">60</span> FPS. <span style=\"color: #808000; text-decoration-color: #808000; font-weight: bold\">Rendering</span>    <span style=\"color: #7f7f7f; text-decoration-color: #7f7f7f\">             </span>\n",
       "<span style=\"color: #7fbfbf; text-decoration-color: #7fbfbf\">                    </span>         with the shortest possible total run_time of <span style=\"color: #008000; text-decoration-color: #008000\">0.0166667</span> seconds instead.  <span style=\"color: #7f7f7f; text-decoration-color: #7f7f7f\">             </span>\n",
       "</pre>\n"
      ],
      "text/plain": [
       "\u001b[2;36m                   \u001b[0m\u001b[2;36m \u001b[0m\u001b[31mWARNING \u001b[0m The original total run_time of \u001b[1;35mintegration_index_Scene.play\u001b[0m\u001b[1m(\u001b[0m\u001b[1m)\u001b[0m, \u001b[32m0.0137931\u001b[0m \u001b]8;id=658909;file:///home/carlo/Desktop/single-projects/manim-demopage/.venv_demo/lib/python3.12/site-packages/manim/scene/scene.py\u001b\\\u001b[2mscene.py\u001b[0m\u001b]8;;\u001b\\\u001b[2m:\u001b[0m\u001b]8;id=496546;file:///home/carlo/Desktop/single-projects/manim-demopage/.venv_demo/lib/python3.12/site-packages/manim/scene/scene.py#1044\u001b\\\u001b[2m1044\u001b[0m\u001b]8;;\u001b\\\n",
       "\u001b[2;36m                    \u001b[0m         seconds, is too short for the current frame rate of \u001b[32m60\u001b[0m FPS. \u001b[1;33mRendering\u001b[0m    \u001b[2m             \u001b[0m\n",
       "\u001b[2;36m                    \u001b[0m         with the shortest possible total run_time of \u001b[32m0.0166667\u001b[0m seconds instead.  \u001b[2m             \u001b[0m\n"
      ]
     },
     "metadata": {},
     "output_type": "display_data"
    },
    {
     "data": {
      "text/html": [
       "<pre style=\"white-space:pre;overflow-x:auto;line-height:normal;font-family:Menlo,'DejaVu Sans Mono',consolas,'Courier New',monospace\"><span style=\"color: #7fbfbf; text-decoration-color: #7fbfbf\">                    </span><span style=\"color: #800000; text-decoration-color: #800000\">WARNING </span> The original total run_time of <span style=\"color: #800080; text-decoration-color: #800080; font-weight: bold\">integration_index_Scene.play</span><span style=\"font-weight: bold\">()</span>, <span style=\"color: #008000; text-decoration-color: #008000\">0.0137931</span> <a href=\"file:///home/carlo/Desktop/single-projects/manim-demopage/.venv_demo/lib/python3.12/site-packages/manim/scene/scene.py\" target=\"_blank\"><span style=\"color: #7f7f7f; text-decoration-color: #7f7f7f\">scene.py</span></a><span style=\"color: #7f7f7f; text-decoration-color: #7f7f7f\">:</span><a href=\"file:///home/carlo/Desktop/single-projects/manim-demopage/.venv_demo/lib/python3.12/site-packages/manim/scene/scene.py#1044\" target=\"_blank\"><span style=\"color: #7f7f7f; text-decoration-color: #7f7f7f\">1044</span></a>\n",
       "<span style=\"color: #7fbfbf; text-decoration-color: #7fbfbf\">                    </span>         seconds, is too short for the current frame rate of <span style=\"color: #008000; text-decoration-color: #008000\">60</span> FPS. <span style=\"color: #808000; text-decoration-color: #808000; font-weight: bold\">Rendering</span>    <span style=\"color: #7f7f7f; text-decoration-color: #7f7f7f\">             </span>\n",
       "<span style=\"color: #7fbfbf; text-decoration-color: #7fbfbf\">                    </span>         with the shortest possible total run_time of <span style=\"color: #008000; text-decoration-color: #008000\">0.0166667</span> seconds instead.  <span style=\"color: #7f7f7f; text-decoration-color: #7f7f7f\">             </span>\n",
       "</pre>\n"
      ],
      "text/plain": [
       "\u001b[2;36m                   \u001b[0m\u001b[2;36m \u001b[0m\u001b[31mWARNING \u001b[0m The original total run_time of \u001b[1;35mintegration_index_Scene.play\u001b[0m\u001b[1m(\u001b[0m\u001b[1m)\u001b[0m, \u001b[32m0.0137931\u001b[0m \u001b]8;id=6358;file:///home/carlo/Desktop/single-projects/manim-demopage/.venv_demo/lib/python3.12/site-packages/manim/scene/scene.py\u001b\\\u001b[2mscene.py\u001b[0m\u001b]8;;\u001b\\\u001b[2m:\u001b[0m\u001b]8;id=922342;file:///home/carlo/Desktop/single-projects/manim-demopage/.venv_demo/lib/python3.12/site-packages/manim/scene/scene.py#1044\u001b\\\u001b[2m1044\u001b[0m\u001b]8;;\u001b\\\n",
       "\u001b[2;36m                    \u001b[0m         seconds, is too short for the current frame rate of \u001b[32m60\u001b[0m FPS. \u001b[1;33mRendering\u001b[0m    \u001b[2m             \u001b[0m\n",
       "\u001b[2;36m                    \u001b[0m         with the shortest possible total run_time of \u001b[32m0.0166667\u001b[0m seconds instead.  \u001b[2m             \u001b[0m\n"
      ]
     },
     "metadata": {},
     "output_type": "display_data"
    },
    {
     "data": {
      "text/html": [
       "<pre style=\"white-space:pre;overflow-x:auto;line-height:normal;font-family:Menlo,'DejaVu Sans Mono',consolas,'Courier New',monospace\"><span style=\"color: #7fbfbf; text-decoration-color: #7fbfbf\">                    </span><span style=\"color: #800000; text-decoration-color: #800000\">WARNING </span> The original total run_time of <span style=\"color: #800080; text-decoration-color: #800080; font-weight: bold\">integration_index_Scene.play</span><span style=\"font-weight: bold\">()</span>, <span style=\"color: #008000; text-decoration-color: #008000\">0.0136986</span> <a href=\"file:///home/carlo/Desktop/single-projects/manim-demopage/.venv_demo/lib/python3.12/site-packages/manim/scene/scene.py\" target=\"_blank\"><span style=\"color: #7f7f7f; text-decoration-color: #7f7f7f\">scene.py</span></a><span style=\"color: #7f7f7f; text-decoration-color: #7f7f7f\">:</span><a href=\"file:///home/carlo/Desktop/single-projects/manim-demopage/.venv_demo/lib/python3.12/site-packages/manim/scene/scene.py#1044\" target=\"_blank\"><span style=\"color: #7f7f7f; text-decoration-color: #7f7f7f\">1044</span></a>\n",
       "<span style=\"color: #7fbfbf; text-decoration-color: #7fbfbf\">                    </span>         seconds, is too short for the current frame rate of <span style=\"color: #008000; text-decoration-color: #008000\">60</span> FPS. <span style=\"color: #808000; text-decoration-color: #808000; font-weight: bold\">Rendering</span>    <span style=\"color: #7f7f7f; text-decoration-color: #7f7f7f\">             </span>\n",
       "<span style=\"color: #7fbfbf; text-decoration-color: #7fbfbf\">                    </span>         with the shortest possible total run_time of <span style=\"color: #008000; text-decoration-color: #008000\">0.0166667</span> seconds instead.  <span style=\"color: #7f7f7f; text-decoration-color: #7f7f7f\">             </span>\n",
       "</pre>\n"
      ],
      "text/plain": [
       "\u001b[2;36m                   \u001b[0m\u001b[2;36m \u001b[0m\u001b[31mWARNING \u001b[0m The original total run_time of \u001b[1;35mintegration_index_Scene.play\u001b[0m\u001b[1m(\u001b[0m\u001b[1m)\u001b[0m, \u001b[32m0.0136986\u001b[0m \u001b]8;id=714098;file:///home/carlo/Desktop/single-projects/manim-demopage/.venv_demo/lib/python3.12/site-packages/manim/scene/scene.py\u001b\\\u001b[2mscene.py\u001b[0m\u001b]8;;\u001b\\\u001b[2m:\u001b[0m\u001b]8;id=562805;file:///home/carlo/Desktop/single-projects/manim-demopage/.venv_demo/lib/python3.12/site-packages/manim/scene/scene.py#1044\u001b\\\u001b[2m1044\u001b[0m\u001b]8;;\u001b\\\n",
       "\u001b[2;36m                    \u001b[0m         seconds, is too short for the current frame rate of \u001b[32m60\u001b[0m FPS. \u001b[1;33mRendering\u001b[0m    \u001b[2m             \u001b[0m\n",
       "\u001b[2;36m                    \u001b[0m         with the shortest possible total run_time of \u001b[32m0.0166667\u001b[0m seconds instead.  \u001b[2m             \u001b[0m\n"
      ]
     },
     "metadata": {},
     "output_type": "display_data"
    },
    {
     "data": {
      "text/html": [
       "<pre style=\"white-space:pre;overflow-x:auto;line-height:normal;font-family:Menlo,'DejaVu Sans Mono',consolas,'Courier New',monospace\"><span style=\"color: #7fbfbf; text-decoration-color: #7fbfbf\">                    </span><span style=\"color: #800000; text-decoration-color: #800000\">WARNING </span> The original total run_time of <span style=\"color: #800080; text-decoration-color: #800080; font-weight: bold\">integration_index_Scene.play</span><span style=\"font-weight: bold\">()</span>, <span style=\"color: #008000; text-decoration-color: #008000\">0.0136986</span> <a href=\"file:///home/carlo/Desktop/single-projects/manim-demopage/.venv_demo/lib/python3.12/site-packages/manim/scene/scene.py\" target=\"_blank\"><span style=\"color: #7f7f7f; text-decoration-color: #7f7f7f\">scene.py</span></a><span style=\"color: #7f7f7f; text-decoration-color: #7f7f7f\">:</span><a href=\"file:///home/carlo/Desktop/single-projects/manim-demopage/.venv_demo/lib/python3.12/site-packages/manim/scene/scene.py#1044\" target=\"_blank\"><span style=\"color: #7f7f7f; text-decoration-color: #7f7f7f\">1044</span></a>\n",
       "<span style=\"color: #7fbfbf; text-decoration-color: #7fbfbf\">                    </span>         seconds, is too short for the current frame rate of <span style=\"color: #008000; text-decoration-color: #008000\">60</span> FPS. <span style=\"color: #808000; text-decoration-color: #808000; font-weight: bold\">Rendering</span>    <span style=\"color: #7f7f7f; text-decoration-color: #7f7f7f\">             </span>\n",
       "<span style=\"color: #7fbfbf; text-decoration-color: #7fbfbf\">                    </span>         with the shortest possible total run_time of <span style=\"color: #008000; text-decoration-color: #008000\">0.0166667</span> seconds instead.  <span style=\"color: #7f7f7f; text-decoration-color: #7f7f7f\">             </span>\n",
       "</pre>\n"
      ],
      "text/plain": [
       "\u001b[2;36m                   \u001b[0m\u001b[2;36m \u001b[0m\u001b[31mWARNING \u001b[0m The original total run_time of \u001b[1;35mintegration_index_Scene.play\u001b[0m\u001b[1m(\u001b[0m\u001b[1m)\u001b[0m, \u001b[32m0.0136986\u001b[0m \u001b]8;id=171796;file:///home/carlo/Desktop/single-projects/manim-demopage/.venv_demo/lib/python3.12/site-packages/manim/scene/scene.py\u001b\\\u001b[2mscene.py\u001b[0m\u001b]8;;\u001b\\\u001b[2m:\u001b[0m\u001b]8;id=662271;file:///home/carlo/Desktop/single-projects/manim-demopage/.venv_demo/lib/python3.12/site-packages/manim/scene/scene.py#1044\u001b\\\u001b[2m1044\u001b[0m\u001b]8;;\u001b\\\n",
       "\u001b[2;36m                    \u001b[0m         seconds, is too short for the current frame rate of \u001b[32m60\u001b[0m FPS. \u001b[1;33mRendering\u001b[0m    \u001b[2m             \u001b[0m\n",
       "\u001b[2;36m                    \u001b[0m         with the shortest possible total run_time of \u001b[32m0.0166667\u001b[0m seconds instead.  \u001b[2m             \u001b[0m\n"
      ]
     },
     "metadata": {},
     "output_type": "display_data"
    },
    {
     "data": {
      "text/html": [
       "<pre style=\"white-space:pre;overflow-x:auto;line-height:normal;font-family:Menlo,'DejaVu Sans Mono',consolas,'Courier New',monospace\"><span style=\"color: #7fbfbf; text-decoration-color: #7fbfbf\">                    </span><span style=\"color: #800000; text-decoration-color: #800000\">WARNING </span> The original total run_time of <span style=\"color: #800080; text-decoration-color: #800080; font-weight: bold\">integration_index_Scene.play</span><span style=\"font-weight: bold\">()</span>, <span style=\"color: #008000; text-decoration-color: #008000\">0.0136054</span> <a href=\"file:///home/carlo/Desktop/single-projects/manim-demopage/.venv_demo/lib/python3.12/site-packages/manim/scene/scene.py\" target=\"_blank\"><span style=\"color: #7f7f7f; text-decoration-color: #7f7f7f\">scene.py</span></a><span style=\"color: #7f7f7f; text-decoration-color: #7f7f7f\">:</span><a href=\"file:///home/carlo/Desktop/single-projects/manim-demopage/.venv_demo/lib/python3.12/site-packages/manim/scene/scene.py#1044\" target=\"_blank\"><span style=\"color: #7f7f7f; text-decoration-color: #7f7f7f\">1044</span></a>\n",
       "<span style=\"color: #7fbfbf; text-decoration-color: #7fbfbf\">                    </span>         seconds, is too short for the current frame rate of <span style=\"color: #008000; text-decoration-color: #008000\">60</span> FPS. <span style=\"color: #808000; text-decoration-color: #808000; font-weight: bold\">Rendering</span>    <span style=\"color: #7f7f7f; text-decoration-color: #7f7f7f\">             </span>\n",
       "<span style=\"color: #7fbfbf; text-decoration-color: #7fbfbf\">                    </span>         with the shortest possible total run_time of <span style=\"color: #008000; text-decoration-color: #008000\">0.0166667</span> seconds instead.  <span style=\"color: #7f7f7f; text-decoration-color: #7f7f7f\">             </span>\n",
       "</pre>\n"
      ],
      "text/plain": [
       "\u001b[2;36m                   \u001b[0m\u001b[2;36m \u001b[0m\u001b[31mWARNING \u001b[0m The original total run_time of \u001b[1;35mintegration_index_Scene.play\u001b[0m\u001b[1m(\u001b[0m\u001b[1m)\u001b[0m, \u001b[32m0.0136054\u001b[0m \u001b]8;id=191853;file:///home/carlo/Desktop/single-projects/manim-demopage/.venv_demo/lib/python3.12/site-packages/manim/scene/scene.py\u001b\\\u001b[2mscene.py\u001b[0m\u001b]8;;\u001b\\\u001b[2m:\u001b[0m\u001b]8;id=641061;file:///home/carlo/Desktop/single-projects/manim-demopage/.venv_demo/lib/python3.12/site-packages/manim/scene/scene.py#1044\u001b\\\u001b[2m1044\u001b[0m\u001b]8;;\u001b\\\n",
       "\u001b[2;36m                    \u001b[0m         seconds, is too short for the current frame rate of \u001b[32m60\u001b[0m FPS. \u001b[1;33mRendering\u001b[0m    \u001b[2m             \u001b[0m\n",
       "\u001b[2;36m                    \u001b[0m         with the shortest possible total run_time of \u001b[32m0.0166667\u001b[0m seconds instead.  \u001b[2m             \u001b[0m\n"
      ]
     },
     "metadata": {},
     "output_type": "display_data"
    },
    {
     "data": {
      "text/html": [
       "<pre style=\"white-space:pre;overflow-x:auto;line-height:normal;font-family:Menlo,'DejaVu Sans Mono',consolas,'Courier New',monospace\"><span style=\"color: #7fbfbf; text-decoration-color: #7fbfbf\">                    </span><span style=\"color: #800000; text-decoration-color: #800000\">WARNING </span> The original total run_time of <span style=\"color: #800080; text-decoration-color: #800080; font-weight: bold\">integration_index_Scene.play</span><span style=\"font-weight: bold\">()</span>, <span style=\"color: #008000; text-decoration-color: #008000\">0.0136054</span> <a href=\"file:///home/carlo/Desktop/single-projects/manim-demopage/.venv_demo/lib/python3.12/site-packages/manim/scene/scene.py\" target=\"_blank\"><span style=\"color: #7f7f7f; text-decoration-color: #7f7f7f\">scene.py</span></a><span style=\"color: #7f7f7f; text-decoration-color: #7f7f7f\">:</span><a href=\"file:///home/carlo/Desktop/single-projects/manim-demopage/.venv_demo/lib/python3.12/site-packages/manim/scene/scene.py#1044\" target=\"_blank\"><span style=\"color: #7f7f7f; text-decoration-color: #7f7f7f\">1044</span></a>\n",
       "<span style=\"color: #7fbfbf; text-decoration-color: #7fbfbf\">                    </span>         seconds, is too short for the current frame rate of <span style=\"color: #008000; text-decoration-color: #008000\">60</span> FPS. <span style=\"color: #808000; text-decoration-color: #808000; font-weight: bold\">Rendering</span>    <span style=\"color: #7f7f7f; text-decoration-color: #7f7f7f\">             </span>\n",
       "<span style=\"color: #7fbfbf; text-decoration-color: #7fbfbf\">                    </span>         with the shortest possible total run_time of <span style=\"color: #008000; text-decoration-color: #008000\">0.0166667</span> seconds instead.  <span style=\"color: #7f7f7f; text-decoration-color: #7f7f7f\">             </span>\n",
       "</pre>\n"
      ],
      "text/plain": [
       "\u001b[2;36m                   \u001b[0m\u001b[2;36m \u001b[0m\u001b[31mWARNING \u001b[0m The original total run_time of \u001b[1;35mintegration_index_Scene.play\u001b[0m\u001b[1m(\u001b[0m\u001b[1m)\u001b[0m, \u001b[32m0.0136054\u001b[0m \u001b]8;id=924303;file:///home/carlo/Desktop/single-projects/manim-demopage/.venv_demo/lib/python3.12/site-packages/manim/scene/scene.py\u001b\\\u001b[2mscene.py\u001b[0m\u001b]8;;\u001b\\\u001b[2m:\u001b[0m\u001b]8;id=61607;file:///home/carlo/Desktop/single-projects/manim-demopage/.venv_demo/lib/python3.12/site-packages/manim/scene/scene.py#1044\u001b\\\u001b[2m1044\u001b[0m\u001b]8;;\u001b\\\n",
       "\u001b[2;36m                    \u001b[0m         seconds, is too short for the current frame rate of \u001b[32m60\u001b[0m FPS. \u001b[1;33mRendering\u001b[0m    \u001b[2m             \u001b[0m\n",
       "\u001b[2;36m                    \u001b[0m         with the shortest possible total run_time of \u001b[32m0.0166667\u001b[0m seconds instead.  \u001b[2m             \u001b[0m\n"
      ]
     },
     "metadata": {},
     "output_type": "display_data"
    },
    {
     "data": {
      "text/html": [
       "<pre style=\"white-space:pre;overflow-x:auto;line-height:normal;font-family:Menlo,'DejaVu Sans Mono',consolas,'Courier New',monospace\"><span style=\"color: #7fbfbf; text-decoration-color: #7fbfbf\">                    </span><span style=\"color: #800000; text-decoration-color: #800000\">WARNING </span> The original total run_time of <span style=\"color: #800080; text-decoration-color: #800080; font-weight: bold\">integration_index_Scene.play</span><span style=\"font-weight: bold\">()</span>, <span style=\"color: #008000; text-decoration-color: #008000\">0.0135135</span> <a href=\"file:///home/carlo/Desktop/single-projects/manim-demopage/.venv_demo/lib/python3.12/site-packages/manim/scene/scene.py\" target=\"_blank\"><span style=\"color: #7f7f7f; text-decoration-color: #7f7f7f\">scene.py</span></a><span style=\"color: #7f7f7f; text-decoration-color: #7f7f7f\">:</span><a href=\"file:///home/carlo/Desktop/single-projects/manim-demopage/.venv_demo/lib/python3.12/site-packages/manim/scene/scene.py#1044\" target=\"_blank\"><span style=\"color: #7f7f7f; text-decoration-color: #7f7f7f\">1044</span></a>\n",
       "<span style=\"color: #7fbfbf; text-decoration-color: #7fbfbf\">                    </span>         seconds, is too short for the current frame rate of <span style=\"color: #008000; text-decoration-color: #008000\">60</span> FPS. <span style=\"color: #808000; text-decoration-color: #808000; font-weight: bold\">Rendering</span>    <span style=\"color: #7f7f7f; text-decoration-color: #7f7f7f\">             </span>\n",
       "<span style=\"color: #7fbfbf; text-decoration-color: #7fbfbf\">                    </span>         with the shortest possible total run_time of <span style=\"color: #008000; text-decoration-color: #008000\">0.0166667</span> seconds instead.  <span style=\"color: #7f7f7f; text-decoration-color: #7f7f7f\">             </span>\n",
       "</pre>\n"
      ],
      "text/plain": [
       "\u001b[2;36m                   \u001b[0m\u001b[2;36m \u001b[0m\u001b[31mWARNING \u001b[0m The original total run_time of \u001b[1;35mintegration_index_Scene.play\u001b[0m\u001b[1m(\u001b[0m\u001b[1m)\u001b[0m, \u001b[32m0.0135135\u001b[0m \u001b]8;id=445225;file:///home/carlo/Desktop/single-projects/manim-demopage/.venv_demo/lib/python3.12/site-packages/manim/scene/scene.py\u001b\\\u001b[2mscene.py\u001b[0m\u001b]8;;\u001b\\\u001b[2m:\u001b[0m\u001b]8;id=875556;file:///home/carlo/Desktop/single-projects/manim-demopage/.venv_demo/lib/python3.12/site-packages/manim/scene/scene.py#1044\u001b\\\u001b[2m1044\u001b[0m\u001b]8;;\u001b\\\n",
       "\u001b[2;36m                    \u001b[0m         seconds, is too short for the current frame rate of \u001b[32m60\u001b[0m FPS. \u001b[1;33mRendering\u001b[0m    \u001b[2m             \u001b[0m\n",
       "\u001b[2;36m                    \u001b[0m         with the shortest possible total run_time of \u001b[32m0.0166667\u001b[0m seconds instead.  \u001b[2m             \u001b[0m\n"
      ]
     },
     "metadata": {},
     "output_type": "display_data"
    },
    {
     "data": {
      "text/html": [
       "<pre style=\"white-space:pre;overflow-x:auto;line-height:normal;font-family:Menlo,'DejaVu Sans Mono',consolas,'Courier New',monospace\"><span style=\"color: #7fbfbf; text-decoration-color: #7fbfbf\">                    </span><span style=\"color: #800000; text-decoration-color: #800000\">WARNING </span> The original total run_time of <span style=\"color: #800080; text-decoration-color: #800080; font-weight: bold\">integration_index_Scene.play</span><span style=\"font-weight: bold\">()</span>, <span style=\"color: #008000; text-decoration-color: #008000\">0.0135135</span> <a href=\"file:///home/carlo/Desktop/single-projects/manim-demopage/.venv_demo/lib/python3.12/site-packages/manim/scene/scene.py\" target=\"_blank\"><span style=\"color: #7f7f7f; text-decoration-color: #7f7f7f\">scene.py</span></a><span style=\"color: #7f7f7f; text-decoration-color: #7f7f7f\">:</span><a href=\"file:///home/carlo/Desktop/single-projects/manim-demopage/.venv_demo/lib/python3.12/site-packages/manim/scene/scene.py#1044\" target=\"_blank\"><span style=\"color: #7f7f7f; text-decoration-color: #7f7f7f\">1044</span></a>\n",
       "<span style=\"color: #7fbfbf; text-decoration-color: #7fbfbf\">                    </span>         seconds, is too short for the current frame rate of <span style=\"color: #008000; text-decoration-color: #008000\">60</span> FPS. <span style=\"color: #808000; text-decoration-color: #808000; font-weight: bold\">Rendering</span>    <span style=\"color: #7f7f7f; text-decoration-color: #7f7f7f\">             </span>\n",
       "<span style=\"color: #7fbfbf; text-decoration-color: #7fbfbf\">                    </span>         with the shortest possible total run_time of <span style=\"color: #008000; text-decoration-color: #008000\">0.0166667</span> seconds instead.  <span style=\"color: #7f7f7f; text-decoration-color: #7f7f7f\">             </span>\n",
       "</pre>\n"
      ],
      "text/plain": [
       "\u001b[2;36m                   \u001b[0m\u001b[2;36m \u001b[0m\u001b[31mWARNING \u001b[0m The original total run_time of \u001b[1;35mintegration_index_Scene.play\u001b[0m\u001b[1m(\u001b[0m\u001b[1m)\u001b[0m, \u001b[32m0.0135135\u001b[0m \u001b]8;id=236954;file:///home/carlo/Desktop/single-projects/manim-demopage/.venv_demo/lib/python3.12/site-packages/manim/scene/scene.py\u001b\\\u001b[2mscene.py\u001b[0m\u001b]8;;\u001b\\\u001b[2m:\u001b[0m\u001b]8;id=857757;file:///home/carlo/Desktop/single-projects/manim-demopage/.venv_demo/lib/python3.12/site-packages/manim/scene/scene.py#1044\u001b\\\u001b[2m1044\u001b[0m\u001b]8;;\u001b\\\n",
       "\u001b[2;36m                    \u001b[0m         seconds, is too short for the current frame rate of \u001b[32m60\u001b[0m FPS. \u001b[1;33mRendering\u001b[0m    \u001b[2m             \u001b[0m\n",
       "\u001b[2;36m                    \u001b[0m         with the shortest possible total run_time of \u001b[32m0.0166667\u001b[0m seconds instead.  \u001b[2m             \u001b[0m\n"
      ]
     },
     "metadata": {},
     "output_type": "display_data"
    },
    {
     "data": {
      "text/html": [
       "<pre style=\"white-space:pre;overflow-x:auto;line-height:normal;font-family:Menlo,'DejaVu Sans Mono',consolas,'Courier New',monospace\"><span style=\"color: #7fbfbf; text-decoration-color: #7fbfbf\">                    </span><span style=\"color: #800000; text-decoration-color: #800000\">WARNING </span> The original total run_time of <span style=\"color: #800080; text-decoration-color: #800080; font-weight: bold\">integration_index_Scene.play</span><span style=\"font-weight: bold\">()</span>, <span style=\"color: #008000; text-decoration-color: #008000\">0.0134228</span> <a href=\"file:///home/carlo/Desktop/single-projects/manim-demopage/.venv_demo/lib/python3.12/site-packages/manim/scene/scene.py\" target=\"_blank\"><span style=\"color: #7f7f7f; text-decoration-color: #7f7f7f\">scene.py</span></a><span style=\"color: #7f7f7f; text-decoration-color: #7f7f7f\">:</span><a href=\"file:///home/carlo/Desktop/single-projects/manim-demopage/.venv_demo/lib/python3.12/site-packages/manim/scene/scene.py#1044\" target=\"_blank\"><span style=\"color: #7f7f7f; text-decoration-color: #7f7f7f\">1044</span></a>\n",
       "<span style=\"color: #7fbfbf; text-decoration-color: #7fbfbf\">                    </span>         seconds, is too short for the current frame rate of <span style=\"color: #008000; text-decoration-color: #008000\">60</span> FPS. <span style=\"color: #808000; text-decoration-color: #808000; font-weight: bold\">Rendering</span>    <span style=\"color: #7f7f7f; text-decoration-color: #7f7f7f\">             </span>\n",
       "<span style=\"color: #7fbfbf; text-decoration-color: #7fbfbf\">                    </span>         with the shortest possible total run_time of <span style=\"color: #008000; text-decoration-color: #008000\">0.0166667</span> seconds instead.  <span style=\"color: #7f7f7f; text-decoration-color: #7f7f7f\">             </span>\n",
       "</pre>\n"
      ],
      "text/plain": [
       "\u001b[2;36m                   \u001b[0m\u001b[2;36m \u001b[0m\u001b[31mWARNING \u001b[0m The original total run_time of \u001b[1;35mintegration_index_Scene.play\u001b[0m\u001b[1m(\u001b[0m\u001b[1m)\u001b[0m, \u001b[32m0.0134228\u001b[0m \u001b]8;id=693954;file:///home/carlo/Desktop/single-projects/manim-demopage/.venv_demo/lib/python3.12/site-packages/manim/scene/scene.py\u001b\\\u001b[2mscene.py\u001b[0m\u001b]8;;\u001b\\\u001b[2m:\u001b[0m\u001b]8;id=138322;file:///home/carlo/Desktop/single-projects/manim-demopage/.venv_demo/lib/python3.12/site-packages/manim/scene/scene.py#1044\u001b\\\u001b[2m1044\u001b[0m\u001b]8;;\u001b\\\n",
       "\u001b[2;36m                    \u001b[0m         seconds, is too short for the current frame rate of \u001b[32m60\u001b[0m FPS. \u001b[1;33mRendering\u001b[0m    \u001b[2m             \u001b[0m\n",
       "\u001b[2;36m                    \u001b[0m         with the shortest possible total run_time of \u001b[32m0.0166667\u001b[0m seconds instead.  \u001b[2m             \u001b[0m\n"
      ]
     },
     "metadata": {},
     "output_type": "display_data"
    },
    {
     "data": {
      "text/html": [
       "<pre style=\"white-space:pre;overflow-x:auto;line-height:normal;font-family:Menlo,'DejaVu Sans Mono',consolas,'Courier New',monospace\"><span style=\"color: #7fbfbf; text-decoration-color: #7fbfbf\">                    </span><span style=\"color: #800000; text-decoration-color: #800000\">WARNING </span> The original total run_time of <span style=\"color: #800080; text-decoration-color: #800080; font-weight: bold\">integration_index_Scene.play</span><span style=\"font-weight: bold\">()</span>, <span style=\"color: #008000; text-decoration-color: #008000\">0.0134228</span> <a href=\"file:///home/carlo/Desktop/single-projects/manim-demopage/.venv_demo/lib/python3.12/site-packages/manim/scene/scene.py\" target=\"_blank\"><span style=\"color: #7f7f7f; text-decoration-color: #7f7f7f\">scene.py</span></a><span style=\"color: #7f7f7f; text-decoration-color: #7f7f7f\">:</span><a href=\"file:///home/carlo/Desktop/single-projects/manim-demopage/.venv_demo/lib/python3.12/site-packages/manim/scene/scene.py#1044\" target=\"_blank\"><span style=\"color: #7f7f7f; text-decoration-color: #7f7f7f\">1044</span></a>\n",
       "<span style=\"color: #7fbfbf; text-decoration-color: #7fbfbf\">                    </span>         seconds, is too short for the current frame rate of <span style=\"color: #008000; text-decoration-color: #008000\">60</span> FPS. <span style=\"color: #808000; text-decoration-color: #808000; font-weight: bold\">Rendering</span>    <span style=\"color: #7f7f7f; text-decoration-color: #7f7f7f\">             </span>\n",
       "<span style=\"color: #7fbfbf; text-decoration-color: #7fbfbf\">                    </span>         with the shortest possible total run_time of <span style=\"color: #008000; text-decoration-color: #008000\">0.0166667</span> seconds instead.  <span style=\"color: #7f7f7f; text-decoration-color: #7f7f7f\">             </span>\n",
       "</pre>\n"
      ],
      "text/plain": [
       "\u001b[2;36m                   \u001b[0m\u001b[2;36m \u001b[0m\u001b[31mWARNING \u001b[0m The original total run_time of \u001b[1;35mintegration_index_Scene.play\u001b[0m\u001b[1m(\u001b[0m\u001b[1m)\u001b[0m, \u001b[32m0.0134228\u001b[0m \u001b]8;id=672172;file:///home/carlo/Desktop/single-projects/manim-demopage/.venv_demo/lib/python3.12/site-packages/manim/scene/scene.py\u001b\\\u001b[2mscene.py\u001b[0m\u001b]8;;\u001b\\\u001b[2m:\u001b[0m\u001b]8;id=462225;file:///home/carlo/Desktop/single-projects/manim-demopage/.venv_demo/lib/python3.12/site-packages/manim/scene/scene.py#1044\u001b\\\u001b[2m1044\u001b[0m\u001b]8;;\u001b\\\n",
       "\u001b[2;36m                    \u001b[0m         seconds, is too short for the current frame rate of \u001b[32m60\u001b[0m FPS. \u001b[1;33mRendering\u001b[0m    \u001b[2m             \u001b[0m\n",
       "\u001b[2;36m                    \u001b[0m         with the shortest possible total run_time of \u001b[32m0.0166667\u001b[0m seconds instead.  \u001b[2m             \u001b[0m\n"
      ]
     },
     "metadata": {},
     "output_type": "display_data"
    },
    {
     "data": {
      "text/html": [
       "<pre style=\"white-space:pre;overflow-x:auto;line-height:normal;font-family:Menlo,'DejaVu Sans Mono',consolas,'Courier New',monospace\"><span style=\"color: #7fbfbf; text-decoration-color: #7fbfbf\">                    </span><span style=\"color: #800000; text-decoration-color: #800000\">WARNING </span> The original total run_time of <span style=\"color: #800080; text-decoration-color: #800080; font-weight: bold\">integration_index_Scene.play</span><span style=\"font-weight: bold\">()</span>, <span style=\"color: #008000; text-decoration-color: #008000\">0.0133333</span> <a href=\"file:///home/carlo/Desktop/single-projects/manim-demopage/.venv_demo/lib/python3.12/site-packages/manim/scene/scene.py\" target=\"_blank\"><span style=\"color: #7f7f7f; text-decoration-color: #7f7f7f\">scene.py</span></a><span style=\"color: #7f7f7f; text-decoration-color: #7f7f7f\">:</span><a href=\"file:///home/carlo/Desktop/single-projects/manim-demopage/.venv_demo/lib/python3.12/site-packages/manim/scene/scene.py#1044\" target=\"_blank\"><span style=\"color: #7f7f7f; text-decoration-color: #7f7f7f\">1044</span></a>\n",
       "<span style=\"color: #7fbfbf; text-decoration-color: #7fbfbf\">                    </span>         seconds, is too short for the current frame rate of <span style=\"color: #008000; text-decoration-color: #008000\">60</span> FPS. <span style=\"color: #808000; text-decoration-color: #808000; font-weight: bold\">Rendering</span>    <span style=\"color: #7f7f7f; text-decoration-color: #7f7f7f\">             </span>\n",
       "<span style=\"color: #7fbfbf; text-decoration-color: #7fbfbf\">                    </span>         with the shortest possible total run_time of <span style=\"color: #008000; text-decoration-color: #008000\">0.0166667</span> seconds instead.  <span style=\"color: #7f7f7f; text-decoration-color: #7f7f7f\">             </span>\n",
       "</pre>\n"
      ],
      "text/plain": [
       "\u001b[2;36m                   \u001b[0m\u001b[2;36m \u001b[0m\u001b[31mWARNING \u001b[0m The original total run_time of \u001b[1;35mintegration_index_Scene.play\u001b[0m\u001b[1m(\u001b[0m\u001b[1m)\u001b[0m, \u001b[32m0.0133333\u001b[0m \u001b]8;id=674066;file:///home/carlo/Desktop/single-projects/manim-demopage/.venv_demo/lib/python3.12/site-packages/manim/scene/scene.py\u001b\\\u001b[2mscene.py\u001b[0m\u001b]8;;\u001b\\\u001b[2m:\u001b[0m\u001b]8;id=115990;file:///home/carlo/Desktop/single-projects/manim-demopage/.venv_demo/lib/python3.12/site-packages/manim/scene/scene.py#1044\u001b\\\u001b[2m1044\u001b[0m\u001b]8;;\u001b\\\n",
       "\u001b[2;36m                    \u001b[0m         seconds, is too short for the current frame rate of \u001b[32m60\u001b[0m FPS. \u001b[1;33mRendering\u001b[0m    \u001b[2m             \u001b[0m\n",
       "\u001b[2;36m                    \u001b[0m         with the shortest possible total run_time of \u001b[32m0.0166667\u001b[0m seconds instead.  \u001b[2m             \u001b[0m\n"
      ]
     },
     "metadata": {},
     "output_type": "display_data"
    },
    {
     "data": {
      "text/html": [
       "<pre style=\"white-space:pre;overflow-x:auto;line-height:normal;font-family:Menlo,'DejaVu Sans Mono',consolas,'Courier New',monospace\"><span style=\"color: #7fbfbf; text-decoration-color: #7fbfbf\">[01/24/25 14:36:18] </span><span style=\"color: #800000; text-decoration-color: #800000\">WARNING </span> The original total run_time of <span style=\"color: #800080; text-decoration-color: #800080; font-weight: bold\">integration_index_Scene.play</span><span style=\"font-weight: bold\">()</span>, <span style=\"color: #008000; text-decoration-color: #008000\">0.0133333</span> <a href=\"file:///home/carlo/Desktop/single-projects/manim-demopage/.venv_demo/lib/python3.12/site-packages/manim/scene/scene.py\" target=\"_blank\"><span style=\"color: #7f7f7f; text-decoration-color: #7f7f7f\">scene.py</span></a><span style=\"color: #7f7f7f; text-decoration-color: #7f7f7f\">:</span><a href=\"file:///home/carlo/Desktop/single-projects/manim-demopage/.venv_demo/lib/python3.12/site-packages/manim/scene/scene.py#1044\" target=\"_blank\"><span style=\"color: #7f7f7f; text-decoration-color: #7f7f7f\">1044</span></a>\n",
       "<span style=\"color: #7fbfbf; text-decoration-color: #7fbfbf\">                    </span>         seconds, is too short for the current frame rate of <span style=\"color: #008000; text-decoration-color: #008000\">60</span> FPS. <span style=\"color: #808000; text-decoration-color: #808000; font-weight: bold\">Rendering</span>    <span style=\"color: #7f7f7f; text-decoration-color: #7f7f7f\">             </span>\n",
       "<span style=\"color: #7fbfbf; text-decoration-color: #7fbfbf\">                    </span>         with the shortest possible total run_time of <span style=\"color: #008000; text-decoration-color: #008000\">0.0166667</span> seconds instead.  <span style=\"color: #7f7f7f; text-decoration-color: #7f7f7f\">             </span>\n",
       "</pre>\n"
      ],
      "text/plain": [
       "\u001b[2;36m[01/24/25 14:36:18]\u001b[0m\u001b[2;36m \u001b[0m\u001b[31mWARNING \u001b[0m The original total run_time of \u001b[1;35mintegration_index_Scene.play\u001b[0m\u001b[1m(\u001b[0m\u001b[1m)\u001b[0m, \u001b[32m0.0133333\u001b[0m \u001b]8;id=590576;file:///home/carlo/Desktop/single-projects/manim-demopage/.venv_demo/lib/python3.12/site-packages/manim/scene/scene.py\u001b\\\u001b[2mscene.py\u001b[0m\u001b]8;;\u001b\\\u001b[2m:\u001b[0m\u001b]8;id=937779;file:///home/carlo/Desktop/single-projects/manim-demopage/.venv_demo/lib/python3.12/site-packages/manim/scene/scene.py#1044\u001b\\\u001b[2m1044\u001b[0m\u001b]8;;\u001b\\\n",
       "\u001b[2;36m                    \u001b[0m         seconds, is too short for the current frame rate of \u001b[32m60\u001b[0m FPS. \u001b[1;33mRendering\u001b[0m    \u001b[2m             \u001b[0m\n",
       "\u001b[2;36m                    \u001b[0m         with the shortest possible total run_time of \u001b[32m0.0166667\u001b[0m seconds instead.  \u001b[2m             \u001b[0m\n"
      ]
     },
     "metadata": {},
     "output_type": "display_data"
    },
    {
     "data": {
      "text/html": [
       "<pre style=\"white-space:pre;overflow-x:auto;line-height:normal;font-family:Menlo,'DejaVu Sans Mono',consolas,'Courier New',monospace\"><span style=\"color: #7fbfbf; text-decoration-color: #7fbfbf\">                    </span><span style=\"color: #800000; text-decoration-color: #800000\">WARNING </span> The original total run_time of <span style=\"color: #800080; text-decoration-color: #800080; font-weight: bold\">integration_index_Scene.play</span><span style=\"font-weight: bold\">()</span>, <span style=\"color: #008000; text-decoration-color: #008000\">0.013245</span>  <a href=\"file:///home/carlo/Desktop/single-projects/manim-demopage/.venv_demo/lib/python3.12/site-packages/manim/scene/scene.py\" target=\"_blank\"><span style=\"color: #7f7f7f; text-decoration-color: #7f7f7f\">scene.py</span></a><span style=\"color: #7f7f7f; text-decoration-color: #7f7f7f\">:</span><a href=\"file:///home/carlo/Desktop/single-projects/manim-demopage/.venv_demo/lib/python3.12/site-packages/manim/scene/scene.py#1044\" target=\"_blank\"><span style=\"color: #7f7f7f; text-decoration-color: #7f7f7f\">1044</span></a>\n",
       "<span style=\"color: #7fbfbf; text-decoration-color: #7fbfbf\">                    </span>         seconds, is too short for the current frame rate of <span style=\"color: #008000; text-decoration-color: #008000\">60</span> FPS. <span style=\"color: #808000; text-decoration-color: #808000; font-weight: bold\">Rendering</span>    <span style=\"color: #7f7f7f; text-decoration-color: #7f7f7f\">             </span>\n",
       "<span style=\"color: #7fbfbf; text-decoration-color: #7fbfbf\">                    </span>         with the shortest possible total run_time of <span style=\"color: #008000; text-decoration-color: #008000\">0.0166667</span> seconds instead.  <span style=\"color: #7f7f7f; text-decoration-color: #7f7f7f\">             </span>\n",
       "</pre>\n"
      ],
      "text/plain": [
       "\u001b[2;36m                   \u001b[0m\u001b[2;36m \u001b[0m\u001b[31mWARNING \u001b[0m The original total run_time of \u001b[1;35mintegration_index_Scene.play\u001b[0m\u001b[1m(\u001b[0m\u001b[1m)\u001b[0m, \u001b[32m0.013245\u001b[0m  \u001b]8;id=443336;file:///home/carlo/Desktop/single-projects/manim-demopage/.venv_demo/lib/python3.12/site-packages/manim/scene/scene.py\u001b\\\u001b[2mscene.py\u001b[0m\u001b]8;;\u001b\\\u001b[2m:\u001b[0m\u001b]8;id=81892;file:///home/carlo/Desktop/single-projects/manim-demopage/.venv_demo/lib/python3.12/site-packages/manim/scene/scene.py#1044\u001b\\\u001b[2m1044\u001b[0m\u001b]8;;\u001b\\\n",
       "\u001b[2;36m                    \u001b[0m         seconds, is too short for the current frame rate of \u001b[32m60\u001b[0m FPS. \u001b[1;33mRendering\u001b[0m    \u001b[2m             \u001b[0m\n",
       "\u001b[2;36m                    \u001b[0m         with the shortest possible total run_time of \u001b[32m0.0166667\u001b[0m seconds instead.  \u001b[2m             \u001b[0m\n"
      ]
     },
     "metadata": {},
     "output_type": "display_data"
    },
    {
     "data": {
      "text/html": [
       "<pre style=\"white-space:pre;overflow-x:auto;line-height:normal;font-family:Menlo,'DejaVu Sans Mono',consolas,'Courier New',monospace\"><span style=\"color: #7fbfbf; text-decoration-color: #7fbfbf\">                    </span><span style=\"color: #800000; text-decoration-color: #800000\">WARNING </span> The original total run_time of <span style=\"color: #800080; text-decoration-color: #800080; font-weight: bold\">integration_index_Scene.play</span><span style=\"font-weight: bold\">()</span>, <span style=\"color: #008000; text-decoration-color: #008000\">0.013245</span>  <a href=\"file:///home/carlo/Desktop/single-projects/manim-demopage/.venv_demo/lib/python3.12/site-packages/manim/scene/scene.py\" target=\"_blank\"><span style=\"color: #7f7f7f; text-decoration-color: #7f7f7f\">scene.py</span></a><span style=\"color: #7f7f7f; text-decoration-color: #7f7f7f\">:</span><a href=\"file:///home/carlo/Desktop/single-projects/manim-demopage/.venv_demo/lib/python3.12/site-packages/manim/scene/scene.py#1044\" target=\"_blank\"><span style=\"color: #7f7f7f; text-decoration-color: #7f7f7f\">1044</span></a>\n",
       "<span style=\"color: #7fbfbf; text-decoration-color: #7fbfbf\">                    </span>         seconds, is too short for the current frame rate of <span style=\"color: #008000; text-decoration-color: #008000\">60</span> FPS. <span style=\"color: #808000; text-decoration-color: #808000; font-weight: bold\">Rendering</span>    <span style=\"color: #7f7f7f; text-decoration-color: #7f7f7f\">             </span>\n",
       "<span style=\"color: #7fbfbf; text-decoration-color: #7fbfbf\">                    </span>         with the shortest possible total run_time of <span style=\"color: #008000; text-decoration-color: #008000\">0.0166667</span> seconds instead.  <span style=\"color: #7f7f7f; text-decoration-color: #7f7f7f\">             </span>\n",
       "</pre>\n"
      ],
      "text/plain": [
       "\u001b[2;36m                   \u001b[0m\u001b[2;36m \u001b[0m\u001b[31mWARNING \u001b[0m The original total run_time of \u001b[1;35mintegration_index_Scene.play\u001b[0m\u001b[1m(\u001b[0m\u001b[1m)\u001b[0m, \u001b[32m0.013245\u001b[0m  \u001b]8;id=389746;file:///home/carlo/Desktop/single-projects/manim-demopage/.venv_demo/lib/python3.12/site-packages/manim/scene/scene.py\u001b\\\u001b[2mscene.py\u001b[0m\u001b]8;;\u001b\\\u001b[2m:\u001b[0m\u001b]8;id=695050;file:///home/carlo/Desktop/single-projects/manim-demopage/.venv_demo/lib/python3.12/site-packages/manim/scene/scene.py#1044\u001b\\\u001b[2m1044\u001b[0m\u001b]8;;\u001b\\\n",
       "\u001b[2;36m                    \u001b[0m         seconds, is too short for the current frame rate of \u001b[32m60\u001b[0m FPS. \u001b[1;33mRendering\u001b[0m    \u001b[2m             \u001b[0m\n",
       "\u001b[2;36m                    \u001b[0m         with the shortest possible total run_time of \u001b[32m0.0166667\u001b[0m seconds instead.  \u001b[2m             \u001b[0m\n"
      ]
     },
     "metadata": {},
     "output_type": "display_data"
    },
    {
     "data": {
      "text/html": [
       "<pre style=\"white-space:pre;overflow-x:auto;line-height:normal;font-family:Menlo,'DejaVu Sans Mono',consolas,'Courier New',monospace\"><span style=\"color: #7fbfbf; text-decoration-color: #7fbfbf\">                    </span><span style=\"color: #800000; text-decoration-color: #800000\">WARNING </span> The original total run_time of <span style=\"color: #800080; text-decoration-color: #800080; font-weight: bold\">integration_index_Scene.play</span><span style=\"font-weight: bold\">()</span>, <span style=\"color: #008000; text-decoration-color: #008000\">0.0131579</span> <a href=\"file:///home/carlo/Desktop/single-projects/manim-demopage/.venv_demo/lib/python3.12/site-packages/manim/scene/scene.py\" target=\"_blank\"><span style=\"color: #7f7f7f; text-decoration-color: #7f7f7f\">scene.py</span></a><span style=\"color: #7f7f7f; text-decoration-color: #7f7f7f\">:</span><a href=\"file:///home/carlo/Desktop/single-projects/manim-demopage/.venv_demo/lib/python3.12/site-packages/manim/scene/scene.py#1044\" target=\"_blank\"><span style=\"color: #7f7f7f; text-decoration-color: #7f7f7f\">1044</span></a>\n",
       "<span style=\"color: #7fbfbf; text-decoration-color: #7fbfbf\">                    </span>         seconds, is too short for the current frame rate of <span style=\"color: #008000; text-decoration-color: #008000\">60</span> FPS. <span style=\"color: #808000; text-decoration-color: #808000; font-weight: bold\">Rendering</span>    <span style=\"color: #7f7f7f; text-decoration-color: #7f7f7f\">             </span>\n",
       "<span style=\"color: #7fbfbf; text-decoration-color: #7fbfbf\">                    </span>         with the shortest possible total run_time of <span style=\"color: #008000; text-decoration-color: #008000\">0.0166667</span> seconds instead.  <span style=\"color: #7f7f7f; text-decoration-color: #7f7f7f\">             </span>\n",
       "</pre>\n"
      ],
      "text/plain": [
       "\u001b[2;36m                   \u001b[0m\u001b[2;36m \u001b[0m\u001b[31mWARNING \u001b[0m The original total run_time of \u001b[1;35mintegration_index_Scene.play\u001b[0m\u001b[1m(\u001b[0m\u001b[1m)\u001b[0m, \u001b[32m0.0131579\u001b[0m \u001b]8;id=198955;file:///home/carlo/Desktop/single-projects/manim-demopage/.venv_demo/lib/python3.12/site-packages/manim/scene/scene.py\u001b\\\u001b[2mscene.py\u001b[0m\u001b]8;;\u001b\\\u001b[2m:\u001b[0m\u001b]8;id=511336;file:///home/carlo/Desktop/single-projects/manim-demopage/.venv_demo/lib/python3.12/site-packages/manim/scene/scene.py#1044\u001b\\\u001b[2m1044\u001b[0m\u001b]8;;\u001b\\\n",
       "\u001b[2;36m                    \u001b[0m         seconds, is too short for the current frame rate of \u001b[32m60\u001b[0m FPS. \u001b[1;33mRendering\u001b[0m    \u001b[2m             \u001b[0m\n",
       "\u001b[2;36m                    \u001b[0m         with the shortest possible total run_time of \u001b[32m0.0166667\u001b[0m seconds instead.  \u001b[2m             \u001b[0m\n"
      ]
     },
     "metadata": {},
     "output_type": "display_data"
    },
    {
     "data": {
      "text/html": [
       "<pre style=\"white-space:pre;overflow-x:auto;line-height:normal;font-family:Menlo,'DejaVu Sans Mono',consolas,'Courier New',monospace\"><span style=\"color: #7fbfbf; text-decoration-color: #7fbfbf\">                    </span><span style=\"color: #800000; text-decoration-color: #800000\">WARNING </span> The original total run_time of <span style=\"color: #800080; text-decoration-color: #800080; font-weight: bold\">integration_index_Scene.play</span><span style=\"font-weight: bold\">()</span>, <span style=\"color: #008000; text-decoration-color: #008000\">0.0131579</span> <a href=\"file:///home/carlo/Desktop/single-projects/manim-demopage/.venv_demo/lib/python3.12/site-packages/manim/scene/scene.py\" target=\"_blank\"><span style=\"color: #7f7f7f; text-decoration-color: #7f7f7f\">scene.py</span></a><span style=\"color: #7f7f7f; text-decoration-color: #7f7f7f\">:</span><a href=\"file:///home/carlo/Desktop/single-projects/manim-demopage/.venv_demo/lib/python3.12/site-packages/manim/scene/scene.py#1044\" target=\"_blank\"><span style=\"color: #7f7f7f; text-decoration-color: #7f7f7f\">1044</span></a>\n",
       "<span style=\"color: #7fbfbf; text-decoration-color: #7fbfbf\">                    </span>         seconds, is too short for the current frame rate of <span style=\"color: #008000; text-decoration-color: #008000\">60</span> FPS. <span style=\"color: #808000; text-decoration-color: #808000; font-weight: bold\">Rendering</span>    <span style=\"color: #7f7f7f; text-decoration-color: #7f7f7f\">             </span>\n",
       "<span style=\"color: #7fbfbf; text-decoration-color: #7fbfbf\">                    </span>         with the shortest possible total run_time of <span style=\"color: #008000; text-decoration-color: #008000\">0.0166667</span> seconds instead.  <span style=\"color: #7f7f7f; text-decoration-color: #7f7f7f\">             </span>\n",
       "</pre>\n"
      ],
      "text/plain": [
       "\u001b[2;36m                   \u001b[0m\u001b[2;36m \u001b[0m\u001b[31mWARNING \u001b[0m The original total run_time of \u001b[1;35mintegration_index_Scene.play\u001b[0m\u001b[1m(\u001b[0m\u001b[1m)\u001b[0m, \u001b[32m0.0131579\u001b[0m \u001b]8;id=181170;file:///home/carlo/Desktop/single-projects/manim-demopage/.venv_demo/lib/python3.12/site-packages/manim/scene/scene.py\u001b\\\u001b[2mscene.py\u001b[0m\u001b]8;;\u001b\\\u001b[2m:\u001b[0m\u001b]8;id=794722;file:///home/carlo/Desktop/single-projects/manim-demopage/.venv_demo/lib/python3.12/site-packages/manim/scene/scene.py#1044\u001b\\\u001b[2m1044\u001b[0m\u001b]8;;\u001b\\\n",
       "\u001b[2;36m                    \u001b[0m         seconds, is too short for the current frame rate of \u001b[32m60\u001b[0m FPS. \u001b[1;33mRendering\u001b[0m    \u001b[2m             \u001b[0m\n",
       "\u001b[2;36m                    \u001b[0m         with the shortest possible total run_time of \u001b[32m0.0166667\u001b[0m seconds instead.  \u001b[2m             \u001b[0m\n"
      ]
     },
     "metadata": {},
     "output_type": "display_data"
    },
    {
     "data": {
      "text/html": [
       "<pre style=\"white-space:pre;overflow-x:auto;line-height:normal;font-family:Menlo,'DejaVu Sans Mono',consolas,'Courier New',monospace\"><span style=\"color: #7fbfbf; text-decoration-color: #7fbfbf\">                    </span><span style=\"color: #800000; text-decoration-color: #800000\">WARNING </span> The original total run_time of <span style=\"color: #800080; text-decoration-color: #800080; font-weight: bold\">integration_index_Scene.play</span><span style=\"font-weight: bold\">()</span>, <span style=\"color: #008000; text-decoration-color: #008000\">0.0130719</span> <a href=\"file:///home/carlo/Desktop/single-projects/manim-demopage/.venv_demo/lib/python3.12/site-packages/manim/scene/scene.py\" target=\"_blank\"><span style=\"color: #7f7f7f; text-decoration-color: #7f7f7f\">scene.py</span></a><span style=\"color: #7f7f7f; text-decoration-color: #7f7f7f\">:</span><a href=\"file:///home/carlo/Desktop/single-projects/manim-demopage/.venv_demo/lib/python3.12/site-packages/manim/scene/scene.py#1044\" target=\"_blank\"><span style=\"color: #7f7f7f; text-decoration-color: #7f7f7f\">1044</span></a>\n",
       "<span style=\"color: #7fbfbf; text-decoration-color: #7fbfbf\">                    </span>         seconds, is too short for the current frame rate of <span style=\"color: #008000; text-decoration-color: #008000\">60</span> FPS. <span style=\"color: #808000; text-decoration-color: #808000; font-weight: bold\">Rendering</span>    <span style=\"color: #7f7f7f; text-decoration-color: #7f7f7f\">             </span>\n",
       "<span style=\"color: #7fbfbf; text-decoration-color: #7fbfbf\">                    </span>         with the shortest possible total run_time of <span style=\"color: #008000; text-decoration-color: #008000\">0.0166667</span> seconds instead.  <span style=\"color: #7f7f7f; text-decoration-color: #7f7f7f\">             </span>\n",
       "</pre>\n"
      ],
      "text/plain": [
       "\u001b[2;36m                   \u001b[0m\u001b[2;36m \u001b[0m\u001b[31mWARNING \u001b[0m The original total run_time of \u001b[1;35mintegration_index_Scene.play\u001b[0m\u001b[1m(\u001b[0m\u001b[1m)\u001b[0m, \u001b[32m0.0130719\u001b[0m \u001b]8;id=282925;file:///home/carlo/Desktop/single-projects/manim-demopage/.venv_demo/lib/python3.12/site-packages/manim/scene/scene.py\u001b\\\u001b[2mscene.py\u001b[0m\u001b]8;;\u001b\\\u001b[2m:\u001b[0m\u001b]8;id=913801;file:///home/carlo/Desktop/single-projects/manim-demopage/.venv_demo/lib/python3.12/site-packages/manim/scene/scene.py#1044\u001b\\\u001b[2m1044\u001b[0m\u001b]8;;\u001b\\\n",
       "\u001b[2;36m                    \u001b[0m         seconds, is too short for the current frame rate of \u001b[32m60\u001b[0m FPS. \u001b[1;33mRendering\u001b[0m    \u001b[2m             \u001b[0m\n",
       "\u001b[2;36m                    \u001b[0m         with the shortest possible total run_time of \u001b[32m0.0166667\u001b[0m seconds instead.  \u001b[2m             \u001b[0m\n"
      ]
     },
     "metadata": {},
     "output_type": "display_data"
    },
    {
     "data": {
      "text/html": [
       "<pre style=\"white-space:pre;overflow-x:auto;line-height:normal;font-family:Menlo,'DejaVu Sans Mono',consolas,'Courier New',monospace\"><span style=\"color: #7fbfbf; text-decoration-color: #7fbfbf\">                    </span><span style=\"color: #800000; text-decoration-color: #800000\">WARNING </span> The original total run_time of <span style=\"color: #800080; text-decoration-color: #800080; font-weight: bold\">integration_index_Scene.play</span><span style=\"font-weight: bold\">()</span>, <span style=\"color: #008000; text-decoration-color: #008000\">0.0130719</span> <a href=\"file:///home/carlo/Desktop/single-projects/manim-demopage/.venv_demo/lib/python3.12/site-packages/manim/scene/scene.py\" target=\"_blank\"><span style=\"color: #7f7f7f; text-decoration-color: #7f7f7f\">scene.py</span></a><span style=\"color: #7f7f7f; text-decoration-color: #7f7f7f\">:</span><a href=\"file:///home/carlo/Desktop/single-projects/manim-demopage/.venv_demo/lib/python3.12/site-packages/manim/scene/scene.py#1044\" target=\"_blank\"><span style=\"color: #7f7f7f; text-decoration-color: #7f7f7f\">1044</span></a>\n",
       "<span style=\"color: #7fbfbf; text-decoration-color: #7fbfbf\">                    </span>         seconds, is too short for the current frame rate of <span style=\"color: #008000; text-decoration-color: #008000\">60</span> FPS. <span style=\"color: #808000; text-decoration-color: #808000; font-weight: bold\">Rendering</span>    <span style=\"color: #7f7f7f; text-decoration-color: #7f7f7f\">             </span>\n",
       "<span style=\"color: #7fbfbf; text-decoration-color: #7fbfbf\">                    </span>         with the shortest possible total run_time of <span style=\"color: #008000; text-decoration-color: #008000\">0.0166667</span> seconds instead.  <span style=\"color: #7f7f7f; text-decoration-color: #7f7f7f\">             </span>\n",
       "</pre>\n"
      ],
      "text/plain": [
       "\u001b[2;36m                   \u001b[0m\u001b[2;36m \u001b[0m\u001b[31mWARNING \u001b[0m The original total run_time of \u001b[1;35mintegration_index_Scene.play\u001b[0m\u001b[1m(\u001b[0m\u001b[1m)\u001b[0m, \u001b[32m0.0130719\u001b[0m \u001b]8;id=669634;file:///home/carlo/Desktop/single-projects/manim-demopage/.venv_demo/lib/python3.12/site-packages/manim/scene/scene.py\u001b\\\u001b[2mscene.py\u001b[0m\u001b]8;;\u001b\\\u001b[2m:\u001b[0m\u001b]8;id=306436;file:///home/carlo/Desktop/single-projects/manim-demopage/.venv_demo/lib/python3.12/site-packages/manim/scene/scene.py#1044\u001b\\\u001b[2m1044\u001b[0m\u001b]8;;\u001b\\\n",
       "\u001b[2;36m                    \u001b[0m         seconds, is too short for the current frame rate of \u001b[32m60\u001b[0m FPS. \u001b[1;33mRendering\u001b[0m    \u001b[2m             \u001b[0m\n",
       "\u001b[2;36m                    \u001b[0m         with the shortest possible total run_time of \u001b[32m0.0166667\u001b[0m seconds instead.  \u001b[2m             \u001b[0m\n"
      ]
     },
     "metadata": {},
     "output_type": "display_data"
    },
    {
     "data": {
      "text/html": [
       "<pre style=\"white-space:pre;overflow-x:auto;line-height:normal;font-family:Menlo,'DejaVu Sans Mono',consolas,'Courier New',monospace\"><span style=\"color: #7fbfbf; text-decoration-color: #7fbfbf\">                    </span><span style=\"color: #800000; text-decoration-color: #800000\">WARNING </span> The original total run_time of <span style=\"color: #800080; text-decoration-color: #800080; font-weight: bold\">integration_index_Scene.play</span><span style=\"font-weight: bold\">()</span>, <span style=\"color: #008000; text-decoration-color: #008000\">0.012987</span>  <a href=\"file:///home/carlo/Desktop/single-projects/manim-demopage/.venv_demo/lib/python3.12/site-packages/manim/scene/scene.py\" target=\"_blank\"><span style=\"color: #7f7f7f; text-decoration-color: #7f7f7f\">scene.py</span></a><span style=\"color: #7f7f7f; text-decoration-color: #7f7f7f\">:</span><a href=\"file:///home/carlo/Desktop/single-projects/manim-demopage/.venv_demo/lib/python3.12/site-packages/manim/scene/scene.py#1044\" target=\"_blank\"><span style=\"color: #7f7f7f; text-decoration-color: #7f7f7f\">1044</span></a>\n",
       "<span style=\"color: #7fbfbf; text-decoration-color: #7fbfbf\">                    </span>         seconds, is too short for the current frame rate of <span style=\"color: #008000; text-decoration-color: #008000\">60</span> FPS. <span style=\"color: #808000; text-decoration-color: #808000; font-weight: bold\">Rendering</span>    <span style=\"color: #7f7f7f; text-decoration-color: #7f7f7f\">             </span>\n",
       "<span style=\"color: #7fbfbf; text-decoration-color: #7fbfbf\">                    </span>         with the shortest possible total run_time of <span style=\"color: #008000; text-decoration-color: #008000\">0.0166667</span> seconds instead.  <span style=\"color: #7f7f7f; text-decoration-color: #7f7f7f\">             </span>\n",
       "</pre>\n"
      ],
      "text/plain": [
       "\u001b[2;36m                   \u001b[0m\u001b[2;36m \u001b[0m\u001b[31mWARNING \u001b[0m The original total run_time of \u001b[1;35mintegration_index_Scene.play\u001b[0m\u001b[1m(\u001b[0m\u001b[1m)\u001b[0m, \u001b[32m0.012987\u001b[0m  \u001b]8;id=614526;file:///home/carlo/Desktop/single-projects/manim-demopage/.venv_demo/lib/python3.12/site-packages/manim/scene/scene.py\u001b\\\u001b[2mscene.py\u001b[0m\u001b]8;;\u001b\\\u001b[2m:\u001b[0m\u001b]8;id=938941;file:///home/carlo/Desktop/single-projects/manim-demopage/.venv_demo/lib/python3.12/site-packages/manim/scene/scene.py#1044\u001b\\\u001b[2m1044\u001b[0m\u001b]8;;\u001b\\\n",
       "\u001b[2;36m                    \u001b[0m         seconds, is too short for the current frame rate of \u001b[32m60\u001b[0m FPS. \u001b[1;33mRendering\u001b[0m    \u001b[2m             \u001b[0m\n",
       "\u001b[2;36m                    \u001b[0m         with the shortest possible total run_time of \u001b[32m0.0166667\u001b[0m seconds instead.  \u001b[2m             \u001b[0m\n"
      ]
     },
     "metadata": {},
     "output_type": "display_data"
    },
    {
     "data": {
      "text/html": [
       "<pre style=\"white-space:pre;overflow-x:auto;line-height:normal;font-family:Menlo,'DejaVu Sans Mono',consolas,'Courier New',monospace\"><span style=\"color: #7fbfbf; text-decoration-color: #7fbfbf\">                    </span><span style=\"color: #800000; text-decoration-color: #800000\">WARNING </span> The original total run_time of <span style=\"color: #800080; text-decoration-color: #800080; font-weight: bold\">integration_index_Scene.play</span><span style=\"font-weight: bold\">()</span>, <span style=\"color: #008000; text-decoration-color: #008000\">0.012987</span>  <a href=\"file:///home/carlo/Desktop/single-projects/manim-demopage/.venv_demo/lib/python3.12/site-packages/manim/scene/scene.py\" target=\"_blank\"><span style=\"color: #7f7f7f; text-decoration-color: #7f7f7f\">scene.py</span></a><span style=\"color: #7f7f7f; text-decoration-color: #7f7f7f\">:</span><a href=\"file:///home/carlo/Desktop/single-projects/manim-demopage/.venv_demo/lib/python3.12/site-packages/manim/scene/scene.py#1044\" target=\"_blank\"><span style=\"color: #7f7f7f; text-decoration-color: #7f7f7f\">1044</span></a>\n",
       "<span style=\"color: #7fbfbf; text-decoration-color: #7fbfbf\">                    </span>         seconds, is too short for the current frame rate of <span style=\"color: #008000; text-decoration-color: #008000\">60</span> FPS. <span style=\"color: #808000; text-decoration-color: #808000; font-weight: bold\">Rendering</span>    <span style=\"color: #7f7f7f; text-decoration-color: #7f7f7f\">             </span>\n",
       "<span style=\"color: #7fbfbf; text-decoration-color: #7fbfbf\">                    </span>         with the shortest possible total run_time of <span style=\"color: #008000; text-decoration-color: #008000\">0.0166667</span> seconds instead.  <span style=\"color: #7f7f7f; text-decoration-color: #7f7f7f\">             </span>\n",
       "</pre>\n"
      ],
      "text/plain": [
       "\u001b[2;36m                   \u001b[0m\u001b[2;36m \u001b[0m\u001b[31mWARNING \u001b[0m The original total run_time of \u001b[1;35mintegration_index_Scene.play\u001b[0m\u001b[1m(\u001b[0m\u001b[1m)\u001b[0m, \u001b[32m0.012987\u001b[0m  \u001b]8;id=492051;file:///home/carlo/Desktop/single-projects/manim-demopage/.venv_demo/lib/python3.12/site-packages/manim/scene/scene.py\u001b\\\u001b[2mscene.py\u001b[0m\u001b]8;;\u001b\\\u001b[2m:\u001b[0m\u001b]8;id=681394;file:///home/carlo/Desktop/single-projects/manim-demopage/.venv_demo/lib/python3.12/site-packages/manim/scene/scene.py#1044\u001b\\\u001b[2m1044\u001b[0m\u001b]8;;\u001b\\\n",
       "\u001b[2;36m                    \u001b[0m         seconds, is too short for the current frame rate of \u001b[32m60\u001b[0m FPS. \u001b[1;33mRendering\u001b[0m    \u001b[2m             \u001b[0m\n",
       "\u001b[2;36m                    \u001b[0m         with the shortest possible total run_time of \u001b[32m0.0166667\u001b[0m seconds instead.  \u001b[2m             \u001b[0m\n"
      ]
     },
     "metadata": {},
     "output_type": "display_data"
    },
    {
     "data": {
      "text/html": [
       "<pre style=\"white-space:pre;overflow-x:auto;line-height:normal;font-family:Menlo,'DejaVu Sans Mono',consolas,'Courier New',monospace\"><span style=\"color: #7fbfbf; text-decoration-color: #7fbfbf\">                    </span><span style=\"color: #800000; text-decoration-color: #800000\">WARNING </span> The original total run_time of <span style=\"color: #800080; text-decoration-color: #800080; font-weight: bold\">integration_index_Scene.play</span><span style=\"font-weight: bold\">()</span>, <span style=\"color: #008000; text-decoration-color: #008000\">0.0129032</span> <a href=\"file:///home/carlo/Desktop/single-projects/manim-demopage/.venv_demo/lib/python3.12/site-packages/manim/scene/scene.py\" target=\"_blank\"><span style=\"color: #7f7f7f; text-decoration-color: #7f7f7f\">scene.py</span></a><span style=\"color: #7f7f7f; text-decoration-color: #7f7f7f\">:</span><a href=\"file:///home/carlo/Desktop/single-projects/manim-demopage/.venv_demo/lib/python3.12/site-packages/manim/scene/scene.py#1044\" target=\"_blank\"><span style=\"color: #7f7f7f; text-decoration-color: #7f7f7f\">1044</span></a>\n",
       "<span style=\"color: #7fbfbf; text-decoration-color: #7fbfbf\">                    </span>         seconds, is too short for the current frame rate of <span style=\"color: #008000; text-decoration-color: #008000\">60</span> FPS. <span style=\"color: #808000; text-decoration-color: #808000; font-weight: bold\">Rendering</span>    <span style=\"color: #7f7f7f; text-decoration-color: #7f7f7f\">             </span>\n",
       "<span style=\"color: #7fbfbf; text-decoration-color: #7fbfbf\">                    </span>         with the shortest possible total run_time of <span style=\"color: #008000; text-decoration-color: #008000\">0.0166667</span> seconds instead.  <span style=\"color: #7f7f7f; text-decoration-color: #7f7f7f\">             </span>\n",
       "</pre>\n"
      ],
      "text/plain": [
       "\u001b[2;36m                   \u001b[0m\u001b[2;36m \u001b[0m\u001b[31mWARNING \u001b[0m The original total run_time of \u001b[1;35mintegration_index_Scene.play\u001b[0m\u001b[1m(\u001b[0m\u001b[1m)\u001b[0m, \u001b[32m0.0129032\u001b[0m \u001b]8;id=869180;file:///home/carlo/Desktop/single-projects/manim-demopage/.venv_demo/lib/python3.12/site-packages/manim/scene/scene.py\u001b\\\u001b[2mscene.py\u001b[0m\u001b]8;;\u001b\\\u001b[2m:\u001b[0m\u001b]8;id=399642;file:///home/carlo/Desktop/single-projects/manim-demopage/.venv_demo/lib/python3.12/site-packages/manim/scene/scene.py#1044\u001b\\\u001b[2m1044\u001b[0m\u001b]8;;\u001b\\\n",
       "\u001b[2;36m                    \u001b[0m         seconds, is too short for the current frame rate of \u001b[32m60\u001b[0m FPS. \u001b[1;33mRendering\u001b[0m    \u001b[2m             \u001b[0m\n",
       "\u001b[2;36m                    \u001b[0m         with the shortest possible total run_time of \u001b[32m0.0166667\u001b[0m seconds instead.  \u001b[2m             \u001b[0m\n"
      ]
     },
     "metadata": {},
     "output_type": "display_data"
    },
    {
     "data": {
      "text/html": [
       "<pre style=\"white-space:pre;overflow-x:auto;line-height:normal;font-family:Menlo,'DejaVu Sans Mono',consolas,'Courier New',monospace\"><span style=\"color: #7fbfbf; text-decoration-color: #7fbfbf\">                    </span><span style=\"color: #800000; text-decoration-color: #800000\">WARNING </span> The original total run_time of <span style=\"color: #800080; text-decoration-color: #800080; font-weight: bold\">integration_index_Scene.play</span><span style=\"font-weight: bold\">()</span>, <span style=\"color: #008000; text-decoration-color: #008000\">0.0129032</span> <a href=\"file:///home/carlo/Desktop/single-projects/manim-demopage/.venv_demo/lib/python3.12/site-packages/manim/scene/scene.py\" target=\"_blank\"><span style=\"color: #7f7f7f; text-decoration-color: #7f7f7f\">scene.py</span></a><span style=\"color: #7f7f7f; text-decoration-color: #7f7f7f\">:</span><a href=\"file:///home/carlo/Desktop/single-projects/manim-demopage/.venv_demo/lib/python3.12/site-packages/manim/scene/scene.py#1044\" target=\"_blank\"><span style=\"color: #7f7f7f; text-decoration-color: #7f7f7f\">1044</span></a>\n",
       "<span style=\"color: #7fbfbf; text-decoration-color: #7fbfbf\">                    </span>         seconds, is too short for the current frame rate of <span style=\"color: #008000; text-decoration-color: #008000\">60</span> FPS. <span style=\"color: #808000; text-decoration-color: #808000; font-weight: bold\">Rendering</span>    <span style=\"color: #7f7f7f; text-decoration-color: #7f7f7f\">             </span>\n",
       "<span style=\"color: #7fbfbf; text-decoration-color: #7fbfbf\">                    </span>         with the shortest possible total run_time of <span style=\"color: #008000; text-decoration-color: #008000\">0.0166667</span> seconds instead.  <span style=\"color: #7f7f7f; text-decoration-color: #7f7f7f\">             </span>\n",
       "</pre>\n"
      ],
      "text/plain": [
       "\u001b[2;36m                   \u001b[0m\u001b[2;36m \u001b[0m\u001b[31mWARNING \u001b[0m The original total run_time of \u001b[1;35mintegration_index_Scene.play\u001b[0m\u001b[1m(\u001b[0m\u001b[1m)\u001b[0m, \u001b[32m0.0129032\u001b[0m \u001b]8;id=823914;file:///home/carlo/Desktop/single-projects/manim-demopage/.venv_demo/lib/python3.12/site-packages/manim/scene/scene.py\u001b\\\u001b[2mscene.py\u001b[0m\u001b]8;;\u001b\\\u001b[2m:\u001b[0m\u001b]8;id=510378;file:///home/carlo/Desktop/single-projects/manim-demopage/.venv_demo/lib/python3.12/site-packages/manim/scene/scene.py#1044\u001b\\\u001b[2m1044\u001b[0m\u001b]8;;\u001b\\\n",
       "\u001b[2;36m                    \u001b[0m         seconds, is too short for the current frame rate of \u001b[32m60\u001b[0m FPS. \u001b[1;33mRendering\u001b[0m    \u001b[2m             \u001b[0m\n",
       "\u001b[2;36m                    \u001b[0m         with the shortest possible total run_time of \u001b[32m0.0166667\u001b[0m seconds instead.  \u001b[2m             \u001b[0m\n"
      ]
     },
     "metadata": {},
     "output_type": "display_data"
    },
    {
     "data": {
      "text/html": [
       "<pre style=\"white-space:pre;overflow-x:auto;line-height:normal;font-family:Menlo,'DejaVu Sans Mono',consolas,'Courier New',monospace\"><span style=\"color: #7fbfbf; text-decoration-color: #7fbfbf\">[01/24/25 14:36:19] </span><span style=\"color: #800000; text-decoration-color: #800000\">WARNING </span> The original total run_time of <span style=\"color: #800080; text-decoration-color: #800080; font-weight: bold\">integration_index_Scene.play</span><span style=\"font-weight: bold\">()</span>, <span style=\"color: #008000; text-decoration-color: #008000\">0.0128205</span> <a href=\"file:///home/carlo/Desktop/single-projects/manim-demopage/.venv_demo/lib/python3.12/site-packages/manim/scene/scene.py\" target=\"_blank\"><span style=\"color: #7f7f7f; text-decoration-color: #7f7f7f\">scene.py</span></a><span style=\"color: #7f7f7f; text-decoration-color: #7f7f7f\">:</span><a href=\"file:///home/carlo/Desktop/single-projects/manim-demopage/.venv_demo/lib/python3.12/site-packages/manim/scene/scene.py#1044\" target=\"_blank\"><span style=\"color: #7f7f7f; text-decoration-color: #7f7f7f\">1044</span></a>\n",
       "<span style=\"color: #7fbfbf; text-decoration-color: #7fbfbf\">                    </span>         seconds, is too short for the current frame rate of <span style=\"color: #008000; text-decoration-color: #008000\">60</span> FPS. <span style=\"color: #808000; text-decoration-color: #808000; font-weight: bold\">Rendering</span>    <span style=\"color: #7f7f7f; text-decoration-color: #7f7f7f\">             </span>\n",
       "<span style=\"color: #7fbfbf; text-decoration-color: #7fbfbf\">                    </span>         with the shortest possible total run_time of <span style=\"color: #008000; text-decoration-color: #008000\">0.0166667</span> seconds instead.  <span style=\"color: #7f7f7f; text-decoration-color: #7f7f7f\">             </span>\n",
       "</pre>\n"
      ],
      "text/plain": [
       "\u001b[2;36m[01/24/25 14:36:19]\u001b[0m\u001b[2;36m \u001b[0m\u001b[31mWARNING \u001b[0m The original total run_time of \u001b[1;35mintegration_index_Scene.play\u001b[0m\u001b[1m(\u001b[0m\u001b[1m)\u001b[0m, \u001b[32m0.0128205\u001b[0m \u001b]8;id=418681;file:///home/carlo/Desktop/single-projects/manim-demopage/.venv_demo/lib/python3.12/site-packages/manim/scene/scene.py\u001b\\\u001b[2mscene.py\u001b[0m\u001b]8;;\u001b\\\u001b[2m:\u001b[0m\u001b]8;id=763797;file:///home/carlo/Desktop/single-projects/manim-demopage/.venv_demo/lib/python3.12/site-packages/manim/scene/scene.py#1044\u001b\\\u001b[2m1044\u001b[0m\u001b]8;;\u001b\\\n",
       "\u001b[2;36m                    \u001b[0m         seconds, is too short for the current frame rate of \u001b[32m60\u001b[0m FPS. \u001b[1;33mRendering\u001b[0m    \u001b[2m             \u001b[0m\n",
       "\u001b[2;36m                    \u001b[0m         with the shortest possible total run_time of \u001b[32m0.0166667\u001b[0m seconds instead.  \u001b[2m             \u001b[0m\n"
      ]
     },
     "metadata": {},
     "output_type": "display_data"
    },
    {
     "data": {
      "text/html": [
       "<pre style=\"white-space:pre;overflow-x:auto;line-height:normal;font-family:Menlo,'DejaVu Sans Mono',consolas,'Courier New',monospace\"><span style=\"color: #7fbfbf; text-decoration-color: #7fbfbf\">                    </span><span style=\"color: #800000; text-decoration-color: #800000\">WARNING </span> The original total run_time of <span style=\"color: #800080; text-decoration-color: #800080; font-weight: bold\">integration_index_Scene.play</span><span style=\"font-weight: bold\">()</span>, <span style=\"color: #008000; text-decoration-color: #008000\">0.0128205</span> <a href=\"file:///home/carlo/Desktop/single-projects/manim-demopage/.venv_demo/lib/python3.12/site-packages/manim/scene/scene.py\" target=\"_blank\"><span style=\"color: #7f7f7f; text-decoration-color: #7f7f7f\">scene.py</span></a><span style=\"color: #7f7f7f; text-decoration-color: #7f7f7f\">:</span><a href=\"file:///home/carlo/Desktop/single-projects/manim-demopage/.venv_demo/lib/python3.12/site-packages/manim/scene/scene.py#1044\" target=\"_blank\"><span style=\"color: #7f7f7f; text-decoration-color: #7f7f7f\">1044</span></a>\n",
       "<span style=\"color: #7fbfbf; text-decoration-color: #7fbfbf\">                    </span>         seconds, is too short for the current frame rate of <span style=\"color: #008000; text-decoration-color: #008000\">60</span> FPS. <span style=\"color: #808000; text-decoration-color: #808000; font-weight: bold\">Rendering</span>    <span style=\"color: #7f7f7f; text-decoration-color: #7f7f7f\">             </span>\n",
       "<span style=\"color: #7fbfbf; text-decoration-color: #7fbfbf\">                    </span>         with the shortest possible total run_time of <span style=\"color: #008000; text-decoration-color: #008000\">0.0166667</span> seconds instead.  <span style=\"color: #7f7f7f; text-decoration-color: #7f7f7f\">             </span>\n",
       "</pre>\n"
      ],
      "text/plain": [
       "\u001b[2;36m                   \u001b[0m\u001b[2;36m \u001b[0m\u001b[31mWARNING \u001b[0m The original total run_time of \u001b[1;35mintegration_index_Scene.play\u001b[0m\u001b[1m(\u001b[0m\u001b[1m)\u001b[0m, \u001b[32m0.0128205\u001b[0m \u001b]8;id=952915;file:///home/carlo/Desktop/single-projects/manim-demopage/.venv_demo/lib/python3.12/site-packages/manim/scene/scene.py\u001b\\\u001b[2mscene.py\u001b[0m\u001b]8;;\u001b\\\u001b[2m:\u001b[0m\u001b]8;id=738248;file:///home/carlo/Desktop/single-projects/manim-demopage/.venv_demo/lib/python3.12/site-packages/manim/scene/scene.py#1044\u001b\\\u001b[2m1044\u001b[0m\u001b]8;;\u001b\\\n",
       "\u001b[2;36m                    \u001b[0m         seconds, is too short for the current frame rate of \u001b[32m60\u001b[0m FPS. \u001b[1;33mRendering\u001b[0m    \u001b[2m             \u001b[0m\n",
       "\u001b[2;36m                    \u001b[0m         with the shortest possible total run_time of \u001b[32m0.0166667\u001b[0m seconds instead.  \u001b[2m             \u001b[0m\n"
      ]
     },
     "metadata": {},
     "output_type": "display_data"
    },
    {
     "data": {
      "text/html": [
       "<pre style=\"white-space:pre;overflow-x:auto;line-height:normal;font-family:Menlo,'DejaVu Sans Mono',consolas,'Courier New',monospace\"><span style=\"color: #7fbfbf; text-decoration-color: #7fbfbf\">                    </span><span style=\"color: #800000; text-decoration-color: #800000\">WARNING </span> The original total run_time of <span style=\"color: #800080; text-decoration-color: #800080; font-weight: bold\">integration_index_Scene.play</span><span style=\"font-weight: bold\">()</span>, <span style=\"color: #008000; text-decoration-color: #008000\">0.0127389</span> <a href=\"file:///home/carlo/Desktop/single-projects/manim-demopage/.venv_demo/lib/python3.12/site-packages/manim/scene/scene.py\" target=\"_blank\"><span style=\"color: #7f7f7f; text-decoration-color: #7f7f7f\">scene.py</span></a><span style=\"color: #7f7f7f; text-decoration-color: #7f7f7f\">:</span><a href=\"file:///home/carlo/Desktop/single-projects/manim-demopage/.venv_demo/lib/python3.12/site-packages/manim/scene/scene.py#1044\" target=\"_blank\"><span style=\"color: #7f7f7f; text-decoration-color: #7f7f7f\">1044</span></a>\n",
       "<span style=\"color: #7fbfbf; text-decoration-color: #7fbfbf\">                    </span>         seconds, is too short for the current frame rate of <span style=\"color: #008000; text-decoration-color: #008000\">60</span> FPS. <span style=\"color: #808000; text-decoration-color: #808000; font-weight: bold\">Rendering</span>    <span style=\"color: #7f7f7f; text-decoration-color: #7f7f7f\">             </span>\n",
       "<span style=\"color: #7fbfbf; text-decoration-color: #7fbfbf\">                    </span>         with the shortest possible total run_time of <span style=\"color: #008000; text-decoration-color: #008000\">0.0166667</span> seconds instead.  <span style=\"color: #7f7f7f; text-decoration-color: #7f7f7f\">             </span>\n",
       "</pre>\n"
      ],
      "text/plain": [
       "\u001b[2;36m                   \u001b[0m\u001b[2;36m \u001b[0m\u001b[31mWARNING \u001b[0m The original total run_time of \u001b[1;35mintegration_index_Scene.play\u001b[0m\u001b[1m(\u001b[0m\u001b[1m)\u001b[0m, \u001b[32m0.0127389\u001b[0m \u001b]8;id=297584;file:///home/carlo/Desktop/single-projects/manim-demopage/.venv_demo/lib/python3.12/site-packages/manim/scene/scene.py\u001b\\\u001b[2mscene.py\u001b[0m\u001b]8;;\u001b\\\u001b[2m:\u001b[0m\u001b]8;id=101542;file:///home/carlo/Desktop/single-projects/manim-demopage/.venv_demo/lib/python3.12/site-packages/manim/scene/scene.py#1044\u001b\\\u001b[2m1044\u001b[0m\u001b]8;;\u001b\\\n",
       "\u001b[2;36m                    \u001b[0m         seconds, is too short for the current frame rate of \u001b[32m60\u001b[0m FPS. \u001b[1;33mRendering\u001b[0m    \u001b[2m             \u001b[0m\n",
       "\u001b[2;36m                    \u001b[0m         with the shortest possible total run_time of \u001b[32m0.0166667\u001b[0m seconds instead.  \u001b[2m             \u001b[0m\n"
      ]
     },
     "metadata": {},
     "output_type": "display_data"
    },
    {
     "data": {
      "text/html": [
       "<pre style=\"white-space:pre;overflow-x:auto;line-height:normal;font-family:Menlo,'DejaVu Sans Mono',consolas,'Courier New',monospace\"><span style=\"color: #7fbfbf; text-decoration-color: #7fbfbf\">                    </span><span style=\"color: #800000; text-decoration-color: #800000\">WARNING </span> The original total run_time of <span style=\"color: #800080; text-decoration-color: #800080; font-weight: bold\">integration_index_Scene.play</span><span style=\"font-weight: bold\">()</span>, <span style=\"color: #008000; text-decoration-color: #008000\">0.0127389</span> <a href=\"file:///home/carlo/Desktop/single-projects/manim-demopage/.venv_demo/lib/python3.12/site-packages/manim/scene/scene.py\" target=\"_blank\"><span style=\"color: #7f7f7f; text-decoration-color: #7f7f7f\">scene.py</span></a><span style=\"color: #7f7f7f; text-decoration-color: #7f7f7f\">:</span><a href=\"file:///home/carlo/Desktop/single-projects/manim-demopage/.venv_demo/lib/python3.12/site-packages/manim/scene/scene.py#1044\" target=\"_blank\"><span style=\"color: #7f7f7f; text-decoration-color: #7f7f7f\">1044</span></a>\n",
       "<span style=\"color: #7fbfbf; text-decoration-color: #7fbfbf\">                    </span>         seconds, is too short for the current frame rate of <span style=\"color: #008000; text-decoration-color: #008000\">60</span> FPS. <span style=\"color: #808000; text-decoration-color: #808000; font-weight: bold\">Rendering</span>    <span style=\"color: #7f7f7f; text-decoration-color: #7f7f7f\">             </span>\n",
       "<span style=\"color: #7fbfbf; text-decoration-color: #7fbfbf\">                    </span>         with the shortest possible total run_time of <span style=\"color: #008000; text-decoration-color: #008000\">0.0166667</span> seconds instead.  <span style=\"color: #7f7f7f; text-decoration-color: #7f7f7f\">             </span>\n",
       "</pre>\n"
      ],
      "text/plain": [
       "\u001b[2;36m                   \u001b[0m\u001b[2;36m \u001b[0m\u001b[31mWARNING \u001b[0m The original total run_time of \u001b[1;35mintegration_index_Scene.play\u001b[0m\u001b[1m(\u001b[0m\u001b[1m)\u001b[0m, \u001b[32m0.0127389\u001b[0m \u001b]8;id=916834;file:///home/carlo/Desktop/single-projects/manim-demopage/.venv_demo/lib/python3.12/site-packages/manim/scene/scene.py\u001b\\\u001b[2mscene.py\u001b[0m\u001b]8;;\u001b\\\u001b[2m:\u001b[0m\u001b]8;id=323875;file:///home/carlo/Desktop/single-projects/manim-demopage/.venv_demo/lib/python3.12/site-packages/manim/scene/scene.py#1044\u001b\\\u001b[2m1044\u001b[0m\u001b]8;;\u001b\\\n",
       "\u001b[2;36m                    \u001b[0m         seconds, is too short for the current frame rate of \u001b[32m60\u001b[0m FPS. \u001b[1;33mRendering\u001b[0m    \u001b[2m             \u001b[0m\n",
       "\u001b[2;36m                    \u001b[0m         with the shortest possible total run_time of \u001b[32m0.0166667\u001b[0m seconds instead.  \u001b[2m             \u001b[0m\n"
      ]
     },
     "metadata": {},
     "output_type": "display_data"
    },
    {
     "data": {
      "text/html": [
       "<pre style=\"white-space:pre;overflow-x:auto;line-height:normal;font-family:Menlo,'DejaVu Sans Mono',consolas,'Courier New',monospace\"><span style=\"color: #7fbfbf; text-decoration-color: #7fbfbf\">                    </span><span style=\"color: #800000; text-decoration-color: #800000\">WARNING </span> The original total run_time of <span style=\"color: #800080; text-decoration-color: #800080; font-weight: bold\">integration_index_Scene.play</span><span style=\"font-weight: bold\">()</span>, <span style=\"color: #008000; text-decoration-color: #008000\">0.0126582</span> <a href=\"file:///home/carlo/Desktop/single-projects/manim-demopage/.venv_demo/lib/python3.12/site-packages/manim/scene/scene.py\" target=\"_blank\"><span style=\"color: #7f7f7f; text-decoration-color: #7f7f7f\">scene.py</span></a><span style=\"color: #7f7f7f; text-decoration-color: #7f7f7f\">:</span><a href=\"file:///home/carlo/Desktop/single-projects/manim-demopage/.venv_demo/lib/python3.12/site-packages/manim/scene/scene.py#1044\" target=\"_blank\"><span style=\"color: #7f7f7f; text-decoration-color: #7f7f7f\">1044</span></a>\n",
       "<span style=\"color: #7fbfbf; text-decoration-color: #7fbfbf\">                    </span>         seconds, is too short for the current frame rate of <span style=\"color: #008000; text-decoration-color: #008000\">60</span> FPS. <span style=\"color: #808000; text-decoration-color: #808000; font-weight: bold\">Rendering</span>    <span style=\"color: #7f7f7f; text-decoration-color: #7f7f7f\">             </span>\n",
       "<span style=\"color: #7fbfbf; text-decoration-color: #7fbfbf\">                    </span>         with the shortest possible total run_time of <span style=\"color: #008000; text-decoration-color: #008000\">0.0166667</span> seconds instead.  <span style=\"color: #7f7f7f; text-decoration-color: #7f7f7f\">             </span>\n",
       "</pre>\n"
      ],
      "text/plain": [
       "\u001b[2;36m                   \u001b[0m\u001b[2;36m \u001b[0m\u001b[31mWARNING \u001b[0m The original total run_time of \u001b[1;35mintegration_index_Scene.play\u001b[0m\u001b[1m(\u001b[0m\u001b[1m)\u001b[0m, \u001b[32m0.0126582\u001b[0m \u001b]8;id=87710;file:///home/carlo/Desktop/single-projects/manim-demopage/.venv_demo/lib/python3.12/site-packages/manim/scene/scene.py\u001b\\\u001b[2mscene.py\u001b[0m\u001b]8;;\u001b\\\u001b[2m:\u001b[0m\u001b]8;id=681455;file:///home/carlo/Desktop/single-projects/manim-demopage/.venv_demo/lib/python3.12/site-packages/manim/scene/scene.py#1044\u001b\\\u001b[2m1044\u001b[0m\u001b]8;;\u001b\\\n",
       "\u001b[2;36m                    \u001b[0m         seconds, is too short for the current frame rate of \u001b[32m60\u001b[0m FPS. \u001b[1;33mRendering\u001b[0m    \u001b[2m             \u001b[0m\n",
       "\u001b[2;36m                    \u001b[0m         with the shortest possible total run_time of \u001b[32m0.0166667\u001b[0m seconds instead.  \u001b[2m             \u001b[0m\n"
      ]
     },
     "metadata": {},
     "output_type": "display_data"
    },
    {
     "data": {
      "text/html": [
       "<pre style=\"white-space:pre;overflow-x:auto;line-height:normal;font-family:Menlo,'DejaVu Sans Mono',consolas,'Courier New',monospace\"><span style=\"color: #7fbfbf; text-decoration-color: #7fbfbf\">                    </span><span style=\"color: #800000; text-decoration-color: #800000\">WARNING </span> The original total run_time of <span style=\"color: #800080; text-decoration-color: #800080; font-weight: bold\">integration_index_Scene.play</span><span style=\"font-weight: bold\">()</span>, <span style=\"color: #008000; text-decoration-color: #008000\">0.0126582</span> <a href=\"file:///home/carlo/Desktop/single-projects/manim-demopage/.venv_demo/lib/python3.12/site-packages/manim/scene/scene.py\" target=\"_blank\"><span style=\"color: #7f7f7f; text-decoration-color: #7f7f7f\">scene.py</span></a><span style=\"color: #7f7f7f; text-decoration-color: #7f7f7f\">:</span><a href=\"file:///home/carlo/Desktop/single-projects/manim-demopage/.venv_demo/lib/python3.12/site-packages/manim/scene/scene.py#1044\" target=\"_blank\"><span style=\"color: #7f7f7f; text-decoration-color: #7f7f7f\">1044</span></a>\n",
       "<span style=\"color: #7fbfbf; text-decoration-color: #7fbfbf\">                    </span>         seconds, is too short for the current frame rate of <span style=\"color: #008000; text-decoration-color: #008000\">60</span> FPS. <span style=\"color: #808000; text-decoration-color: #808000; font-weight: bold\">Rendering</span>    <span style=\"color: #7f7f7f; text-decoration-color: #7f7f7f\">             </span>\n",
       "<span style=\"color: #7fbfbf; text-decoration-color: #7fbfbf\">                    </span>         with the shortest possible total run_time of <span style=\"color: #008000; text-decoration-color: #008000\">0.0166667</span> seconds instead.  <span style=\"color: #7f7f7f; text-decoration-color: #7f7f7f\">             </span>\n",
       "</pre>\n"
      ],
      "text/plain": [
       "\u001b[2;36m                   \u001b[0m\u001b[2;36m \u001b[0m\u001b[31mWARNING \u001b[0m The original total run_time of \u001b[1;35mintegration_index_Scene.play\u001b[0m\u001b[1m(\u001b[0m\u001b[1m)\u001b[0m, \u001b[32m0.0126582\u001b[0m \u001b]8;id=678939;file:///home/carlo/Desktop/single-projects/manim-demopage/.venv_demo/lib/python3.12/site-packages/manim/scene/scene.py\u001b\\\u001b[2mscene.py\u001b[0m\u001b]8;;\u001b\\\u001b[2m:\u001b[0m\u001b]8;id=633093;file:///home/carlo/Desktop/single-projects/manim-demopage/.venv_demo/lib/python3.12/site-packages/manim/scene/scene.py#1044\u001b\\\u001b[2m1044\u001b[0m\u001b]8;;\u001b\\\n",
       "\u001b[2;36m                    \u001b[0m         seconds, is too short for the current frame rate of \u001b[32m60\u001b[0m FPS. \u001b[1;33mRendering\u001b[0m    \u001b[2m             \u001b[0m\n",
       "\u001b[2;36m                    \u001b[0m         with the shortest possible total run_time of \u001b[32m0.0166667\u001b[0m seconds instead.  \u001b[2m             \u001b[0m\n"
      ]
     },
     "metadata": {},
     "output_type": "display_data"
    },
    {
     "data": {
      "text/html": [
       "<pre style=\"white-space:pre;overflow-x:auto;line-height:normal;font-family:Menlo,'DejaVu Sans Mono',consolas,'Courier New',monospace\"><span style=\"color: #7fbfbf; text-decoration-color: #7fbfbf\">                    </span><span style=\"color: #800000; text-decoration-color: #800000\">WARNING </span> The original total run_time of <span style=\"color: #800080; text-decoration-color: #800080; font-weight: bold\">integration_index_Scene.play</span><span style=\"font-weight: bold\">()</span>, <span style=\"color: #008000; text-decoration-color: #008000\">0.0125786</span> <a href=\"file:///home/carlo/Desktop/single-projects/manim-demopage/.venv_demo/lib/python3.12/site-packages/manim/scene/scene.py\" target=\"_blank\"><span style=\"color: #7f7f7f; text-decoration-color: #7f7f7f\">scene.py</span></a><span style=\"color: #7f7f7f; text-decoration-color: #7f7f7f\">:</span><a href=\"file:///home/carlo/Desktop/single-projects/manim-demopage/.venv_demo/lib/python3.12/site-packages/manim/scene/scene.py#1044\" target=\"_blank\"><span style=\"color: #7f7f7f; text-decoration-color: #7f7f7f\">1044</span></a>\n",
       "<span style=\"color: #7fbfbf; text-decoration-color: #7fbfbf\">                    </span>         seconds, is too short for the current frame rate of <span style=\"color: #008000; text-decoration-color: #008000\">60</span> FPS. <span style=\"color: #808000; text-decoration-color: #808000; font-weight: bold\">Rendering</span>    <span style=\"color: #7f7f7f; text-decoration-color: #7f7f7f\">             </span>\n",
       "<span style=\"color: #7fbfbf; text-decoration-color: #7fbfbf\">                    </span>         with the shortest possible total run_time of <span style=\"color: #008000; text-decoration-color: #008000\">0.0166667</span> seconds instead.  <span style=\"color: #7f7f7f; text-decoration-color: #7f7f7f\">             </span>\n",
       "</pre>\n"
      ],
      "text/plain": [
       "\u001b[2;36m                   \u001b[0m\u001b[2;36m \u001b[0m\u001b[31mWARNING \u001b[0m The original total run_time of \u001b[1;35mintegration_index_Scene.play\u001b[0m\u001b[1m(\u001b[0m\u001b[1m)\u001b[0m, \u001b[32m0.0125786\u001b[0m \u001b]8;id=475488;file:///home/carlo/Desktop/single-projects/manim-demopage/.venv_demo/lib/python3.12/site-packages/manim/scene/scene.py\u001b\\\u001b[2mscene.py\u001b[0m\u001b]8;;\u001b\\\u001b[2m:\u001b[0m\u001b]8;id=836864;file:///home/carlo/Desktop/single-projects/manim-demopage/.venv_demo/lib/python3.12/site-packages/manim/scene/scene.py#1044\u001b\\\u001b[2m1044\u001b[0m\u001b]8;;\u001b\\\n",
       "\u001b[2;36m                    \u001b[0m         seconds, is too short for the current frame rate of \u001b[32m60\u001b[0m FPS. \u001b[1;33mRendering\u001b[0m    \u001b[2m             \u001b[0m\n",
       "\u001b[2;36m                    \u001b[0m         with the shortest possible total run_time of \u001b[32m0.0166667\u001b[0m seconds instead.  \u001b[2m             \u001b[0m\n"
      ]
     },
     "metadata": {},
     "output_type": "display_data"
    },
    {
     "data": {
      "text/html": [
       "<pre style=\"white-space:pre;overflow-x:auto;line-height:normal;font-family:Menlo,'DejaVu Sans Mono',consolas,'Courier New',monospace\"><span style=\"color: #7fbfbf; text-decoration-color: #7fbfbf\">                    </span><span style=\"color: #800000; text-decoration-color: #800000\">WARNING </span> The original total run_time of <span style=\"color: #800080; text-decoration-color: #800080; font-weight: bold\">integration_index_Scene.play</span><span style=\"font-weight: bold\">()</span>, <span style=\"color: #008000; text-decoration-color: #008000\">0.0125786</span> <a href=\"file:///home/carlo/Desktop/single-projects/manim-demopage/.venv_demo/lib/python3.12/site-packages/manim/scene/scene.py\" target=\"_blank\"><span style=\"color: #7f7f7f; text-decoration-color: #7f7f7f\">scene.py</span></a><span style=\"color: #7f7f7f; text-decoration-color: #7f7f7f\">:</span><a href=\"file:///home/carlo/Desktop/single-projects/manim-demopage/.venv_demo/lib/python3.12/site-packages/manim/scene/scene.py#1044\" target=\"_blank\"><span style=\"color: #7f7f7f; text-decoration-color: #7f7f7f\">1044</span></a>\n",
       "<span style=\"color: #7fbfbf; text-decoration-color: #7fbfbf\">                    </span>         seconds, is too short for the current frame rate of <span style=\"color: #008000; text-decoration-color: #008000\">60</span> FPS. <span style=\"color: #808000; text-decoration-color: #808000; font-weight: bold\">Rendering</span>    <span style=\"color: #7f7f7f; text-decoration-color: #7f7f7f\">             </span>\n",
       "<span style=\"color: #7fbfbf; text-decoration-color: #7fbfbf\">                    </span>         with the shortest possible total run_time of <span style=\"color: #008000; text-decoration-color: #008000\">0.0166667</span> seconds instead.  <span style=\"color: #7f7f7f; text-decoration-color: #7f7f7f\">             </span>\n",
       "</pre>\n"
      ],
      "text/plain": [
       "\u001b[2;36m                   \u001b[0m\u001b[2;36m \u001b[0m\u001b[31mWARNING \u001b[0m The original total run_time of \u001b[1;35mintegration_index_Scene.play\u001b[0m\u001b[1m(\u001b[0m\u001b[1m)\u001b[0m, \u001b[32m0.0125786\u001b[0m \u001b]8;id=773697;file:///home/carlo/Desktop/single-projects/manim-demopage/.venv_demo/lib/python3.12/site-packages/manim/scene/scene.py\u001b\\\u001b[2mscene.py\u001b[0m\u001b]8;;\u001b\\\u001b[2m:\u001b[0m\u001b]8;id=1441;file:///home/carlo/Desktop/single-projects/manim-demopage/.venv_demo/lib/python3.12/site-packages/manim/scene/scene.py#1044\u001b\\\u001b[2m1044\u001b[0m\u001b]8;;\u001b\\\n",
       "\u001b[2;36m                    \u001b[0m         seconds, is too short for the current frame rate of \u001b[32m60\u001b[0m FPS. \u001b[1;33mRendering\u001b[0m    \u001b[2m             \u001b[0m\n",
       "\u001b[2;36m                    \u001b[0m         with the shortest possible total run_time of \u001b[32m0.0166667\u001b[0m seconds instead.  \u001b[2m             \u001b[0m\n"
      ]
     },
     "metadata": {},
     "output_type": "display_data"
    },
    {
     "data": {
      "text/html": [
       "<pre style=\"white-space:pre;overflow-x:auto;line-height:normal;font-family:Menlo,'DejaVu Sans Mono',consolas,'Courier New',monospace\"><span style=\"color: #7fbfbf; text-decoration-color: #7fbfbf\">                    </span><span style=\"color: #800000; text-decoration-color: #800000\">WARNING </span> The original total run_time of <span style=\"color: #800080; text-decoration-color: #800080; font-weight: bold\">integration_index_Scene.play</span><span style=\"font-weight: bold\">()</span>, <span style=\"color: #008000; text-decoration-color: #008000\">0.0125</span>    <a href=\"file:///home/carlo/Desktop/single-projects/manim-demopage/.venv_demo/lib/python3.12/site-packages/manim/scene/scene.py\" target=\"_blank\"><span style=\"color: #7f7f7f; text-decoration-color: #7f7f7f\">scene.py</span></a><span style=\"color: #7f7f7f; text-decoration-color: #7f7f7f\">:</span><a href=\"file:///home/carlo/Desktop/single-projects/manim-demopage/.venv_demo/lib/python3.12/site-packages/manim/scene/scene.py#1044\" target=\"_blank\"><span style=\"color: #7f7f7f; text-decoration-color: #7f7f7f\">1044</span></a>\n",
       "<span style=\"color: #7fbfbf; text-decoration-color: #7fbfbf\">                    </span>         seconds, is too short for the current frame rate of <span style=\"color: #008000; text-decoration-color: #008000\">60</span> FPS. <span style=\"color: #808000; text-decoration-color: #808000; font-weight: bold\">Rendering</span>    <span style=\"color: #7f7f7f; text-decoration-color: #7f7f7f\">             </span>\n",
       "<span style=\"color: #7fbfbf; text-decoration-color: #7fbfbf\">                    </span>         with the shortest possible total run_time of <span style=\"color: #008000; text-decoration-color: #008000\">0.0166667</span> seconds instead.  <span style=\"color: #7f7f7f; text-decoration-color: #7f7f7f\">             </span>\n",
       "</pre>\n"
      ],
      "text/plain": [
       "\u001b[2;36m                   \u001b[0m\u001b[2;36m \u001b[0m\u001b[31mWARNING \u001b[0m The original total run_time of \u001b[1;35mintegration_index_Scene.play\u001b[0m\u001b[1m(\u001b[0m\u001b[1m)\u001b[0m, \u001b[32m0.0125\u001b[0m    \u001b]8;id=12682;file:///home/carlo/Desktop/single-projects/manim-demopage/.venv_demo/lib/python3.12/site-packages/manim/scene/scene.py\u001b\\\u001b[2mscene.py\u001b[0m\u001b]8;;\u001b\\\u001b[2m:\u001b[0m\u001b]8;id=441914;file:///home/carlo/Desktop/single-projects/manim-demopage/.venv_demo/lib/python3.12/site-packages/manim/scene/scene.py#1044\u001b\\\u001b[2m1044\u001b[0m\u001b]8;;\u001b\\\n",
       "\u001b[2;36m                    \u001b[0m         seconds, is too short for the current frame rate of \u001b[32m60\u001b[0m FPS. \u001b[1;33mRendering\u001b[0m    \u001b[2m             \u001b[0m\n",
       "\u001b[2;36m                    \u001b[0m         with the shortest possible total run_time of \u001b[32m0.0166667\u001b[0m seconds instead.  \u001b[2m             \u001b[0m\n"
      ]
     },
     "metadata": {},
     "output_type": "display_data"
    },
    {
     "data": {
      "text/html": [
       "<pre style=\"white-space:pre;overflow-x:auto;line-height:normal;font-family:Menlo,'DejaVu Sans Mono',consolas,'Courier New',monospace\"><span style=\"color: #7fbfbf; text-decoration-color: #7fbfbf\">                    </span><span style=\"color: #800000; text-decoration-color: #800000\">WARNING </span> The original total run_time of <span style=\"color: #800080; text-decoration-color: #800080; font-weight: bold\">integration_index_Scene.play</span><span style=\"font-weight: bold\">()</span>, <span style=\"color: #008000; text-decoration-color: #008000\">0.0125</span>    <a href=\"file:///home/carlo/Desktop/single-projects/manim-demopage/.venv_demo/lib/python3.12/site-packages/manim/scene/scene.py\" target=\"_blank\"><span style=\"color: #7f7f7f; text-decoration-color: #7f7f7f\">scene.py</span></a><span style=\"color: #7f7f7f; text-decoration-color: #7f7f7f\">:</span><a href=\"file:///home/carlo/Desktop/single-projects/manim-demopage/.venv_demo/lib/python3.12/site-packages/manim/scene/scene.py#1044\" target=\"_blank\"><span style=\"color: #7f7f7f; text-decoration-color: #7f7f7f\">1044</span></a>\n",
       "<span style=\"color: #7fbfbf; text-decoration-color: #7fbfbf\">                    </span>         seconds, is too short for the current frame rate of <span style=\"color: #008000; text-decoration-color: #008000\">60</span> FPS. <span style=\"color: #808000; text-decoration-color: #808000; font-weight: bold\">Rendering</span>    <span style=\"color: #7f7f7f; text-decoration-color: #7f7f7f\">             </span>\n",
       "<span style=\"color: #7fbfbf; text-decoration-color: #7fbfbf\">                    </span>         with the shortest possible total run_time of <span style=\"color: #008000; text-decoration-color: #008000\">0.0166667</span> seconds instead.  <span style=\"color: #7f7f7f; text-decoration-color: #7f7f7f\">             </span>\n",
       "</pre>\n"
      ],
      "text/plain": [
       "\u001b[2;36m                   \u001b[0m\u001b[2;36m \u001b[0m\u001b[31mWARNING \u001b[0m The original total run_time of \u001b[1;35mintegration_index_Scene.play\u001b[0m\u001b[1m(\u001b[0m\u001b[1m)\u001b[0m, \u001b[32m0.0125\u001b[0m    \u001b]8;id=882727;file:///home/carlo/Desktop/single-projects/manim-demopage/.venv_demo/lib/python3.12/site-packages/manim/scene/scene.py\u001b\\\u001b[2mscene.py\u001b[0m\u001b]8;;\u001b\\\u001b[2m:\u001b[0m\u001b]8;id=992586;file:///home/carlo/Desktop/single-projects/manim-demopage/.venv_demo/lib/python3.12/site-packages/manim/scene/scene.py#1044\u001b\\\u001b[2m1044\u001b[0m\u001b]8;;\u001b\\\n",
       "\u001b[2;36m                    \u001b[0m         seconds, is too short for the current frame rate of \u001b[32m60\u001b[0m FPS. \u001b[1;33mRendering\u001b[0m    \u001b[2m             \u001b[0m\n",
       "\u001b[2;36m                    \u001b[0m         with the shortest possible total run_time of \u001b[32m0.0166667\u001b[0m seconds instead.  \u001b[2m             \u001b[0m\n"
      ]
     },
     "metadata": {},
     "output_type": "display_data"
    },
    {
     "data": {
      "text/html": [
       "<pre style=\"white-space:pre;overflow-x:auto;line-height:normal;font-family:Menlo,'DejaVu Sans Mono',consolas,'Courier New',monospace\"><span style=\"color: #7fbfbf; text-decoration-color: #7fbfbf\">                    </span><span style=\"color: #800000; text-decoration-color: #800000\">WARNING </span> The original total run_time of <span style=\"color: #800080; text-decoration-color: #800080; font-weight: bold\">integration_index_Scene.play</span><span style=\"font-weight: bold\">()</span>, <span style=\"color: #008000; text-decoration-color: #008000\">0.0124224</span> <a href=\"file:///home/carlo/Desktop/single-projects/manim-demopage/.venv_demo/lib/python3.12/site-packages/manim/scene/scene.py\" target=\"_blank\"><span style=\"color: #7f7f7f; text-decoration-color: #7f7f7f\">scene.py</span></a><span style=\"color: #7f7f7f; text-decoration-color: #7f7f7f\">:</span><a href=\"file:///home/carlo/Desktop/single-projects/manim-demopage/.venv_demo/lib/python3.12/site-packages/manim/scene/scene.py#1044\" target=\"_blank\"><span style=\"color: #7f7f7f; text-decoration-color: #7f7f7f\">1044</span></a>\n",
       "<span style=\"color: #7fbfbf; text-decoration-color: #7fbfbf\">                    </span>         seconds, is too short for the current frame rate of <span style=\"color: #008000; text-decoration-color: #008000\">60</span> FPS. <span style=\"color: #808000; text-decoration-color: #808000; font-weight: bold\">Rendering</span>    <span style=\"color: #7f7f7f; text-decoration-color: #7f7f7f\">             </span>\n",
       "<span style=\"color: #7fbfbf; text-decoration-color: #7fbfbf\">                    </span>         with the shortest possible total run_time of <span style=\"color: #008000; text-decoration-color: #008000\">0.0166667</span> seconds instead.  <span style=\"color: #7f7f7f; text-decoration-color: #7f7f7f\">             </span>\n",
       "</pre>\n"
      ],
      "text/plain": [
       "\u001b[2;36m                   \u001b[0m\u001b[2;36m \u001b[0m\u001b[31mWARNING \u001b[0m The original total run_time of \u001b[1;35mintegration_index_Scene.play\u001b[0m\u001b[1m(\u001b[0m\u001b[1m)\u001b[0m, \u001b[32m0.0124224\u001b[0m \u001b]8;id=903905;file:///home/carlo/Desktop/single-projects/manim-demopage/.venv_demo/lib/python3.12/site-packages/manim/scene/scene.py\u001b\\\u001b[2mscene.py\u001b[0m\u001b]8;;\u001b\\\u001b[2m:\u001b[0m\u001b]8;id=543136;file:///home/carlo/Desktop/single-projects/manim-demopage/.venv_demo/lib/python3.12/site-packages/manim/scene/scene.py#1044\u001b\\\u001b[2m1044\u001b[0m\u001b]8;;\u001b\\\n",
       "\u001b[2;36m                    \u001b[0m         seconds, is too short for the current frame rate of \u001b[32m60\u001b[0m FPS. \u001b[1;33mRendering\u001b[0m    \u001b[2m             \u001b[0m\n",
       "\u001b[2;36m                    \u001b[0m         with the shortest possible total run_time of \u001b[32m0.0166667\u001b[0m seconds instead.  \u001b[2m             \u001b[0m\n"
      ]
     },
     "metadata": {},
     "output_type": "display_data"
    },
    {
     "data": {
      "text/html": [
       "<pre style=\"white-space:pre;overflow-x:auto;line-height:normal;font-family:Menlo,'DejaVu Sans Mono',consolas,'Courier New',monospace\"><span style=\"color: #7fbfbf; text-decoration-color: #7fbfbf\">[01/24/25 14:36:20] </span><span style=\"color: #800000; text-decoration-color: #800000\">WARNING </span> The original total run_time of <span style=\"color: #800080; text-decoration-color: #800080; font-weight: bold\">integration_index_Scene.play</span><span style=\"font-weight: bold\">()</span>, <span style=\"color: #008000; text-decoration-color: #008000\">0.0124224</span> <a href=\"file:///home/carlo/Desktop/single-projects/manim-demopage/.venv_demo/lib/python3.12/site-packages/manim/scene/scene.py\" target=\"_blank\"><span style=\"color: #7f7f7f; text-decoration-color: #7f7f7f\">scene.py</span></a><span style=\"color: #7f7f7f; text-decoration-color: #7f7f7f\">:</span><a href=\"file:///home/carlo/Desktop/single-projects/manim-demopage/.venv_demo/lib/python3.12/site-packages/manim/scene/scene.py#1044\" target=\"_blank\"><span style=\"color: #7f7f7f; text-decoration-color: #7f7f7f\">1044</span></a>\n",
       "<span style=\"color: #7fbfbf; text-decoration-color: #7fbfbf\">                    </span>         seconds, is too short for the current frame rate of <span style=\"color: #008000; text-decoration-color: #008000\">60</span> FPS. <span style=\"color: #808000; text-decoration-color: #808000; font-weight: bold\">Rendering</span>    <span style=\"color: #7f7f7f; text-decoration-color: #7f7f7f\">             </span>\n",
       "<span style=\"color: #7fbfbf; text-decoration-color: #7fbfbf\">                    </span>         with the shortest possible total run_time of <span style=\"color: #008000; text-decoration-color: #008000\">0.0166667</span> seconds instead.  <span style=\"color: #7f7f7f; text-decoration-color: #7f7f7f\">             </span>\n",
       "</pre>\n"
      ],
      "text/plain": [
       "\u001b[2;36m[01/24/25 14:36:20]\u001b[0m\u001b[2;36m \u001b[0m\u001b[31mWARNING \u001b[0m The original total run_time of \u001b[1;35mintegration_index_Scene.play\u001b[0m\u001b[1m(\u001b[0m\u001b[1m)\u001b[0m, \u001b[32m0.0124224\u001b[0m \u001b]8;id=195794;file:///home/carlo/Desktop/single-projects/manim-demopage/.venv_demo/lib/python3.12/site-packages/manim/scene/scene.py\u001b\\\u001b[2mscene.py\u001b[0m\u001b]8;;\u001b\\\u001b[2m:\u001b[0m\u001b]8;id=327693;file:///home/carlo/Desktop/single-projects/manim-demopage/.venv_demo/lib/python3.12/site-packages/manim/scene/scene.py#1044\u001b\\\u001b[2m1044\u001b[0m\u001b]8;;\u001b\\\n",
       "\u001b[2;36m                    \u001b[0m         seconds, is too short for the current frame rate of \u001b[32m60\u001b[0m FPS. \u001b[1;33mRendering\u001b[0m    \u001b[2m             \u001b[0m\n",
       "\u001b[2;36m                    \u001b[0m         with the shortest possible total run_time of \u001b[32m0.0166667\u001b[0m seconds instead.  \u001b[2m             \u001b[0m\n"
      ]
     },
     "metadata": {},
     "output_type": "display_data"
    },
    {
     "data": {
      "text/html": [
       "<pre style=\"white-space:pre;overflow-x:auto;line-height:normal;font-family:Menlo,'DejaVu Sans Mono',consolas,'Courier New',monospace\"><span style=\"color: #7fbfbf; text-decoration-color: #7fbfbf\">                    </span><span style=\"color: #800000; text-decoration-color: #800000\">WARNING </span> The original total run_time of <span style=\"color: #800080; text-decoration-color: #800080; font-weight: bold\">integration_index_Scene.play</span><span style=\"font-weight: bold\">()</span>, <span style=\"color: #008000; text-decoration-color: #008000\">0.0123457</span> <a href=\"file:///home/carlo/Desktop/single-projects/manim-demopage/.venv_demo/lib/python3.12/site-packages/manim/scene/scene.py\" target=\"_blank\"><span style=\"color: #7f7f7f; text-decoration-color: #7f7f7f\">scene.py</span></a><span style=\"color: #7f7f7f; text-decoration-color: #7f7f7f\">:</span><a href=\"file:///home/carlo/Desktop/single-projects/manim-demopage/.venv_demo/lib/python3.12/site-packages/manim/scene/scene.py#1044\" target=\"_blank\"><span style=\"color: #7f7f7f; text-decoration-color: #7f7f7f\">1044</span></a>\n",
       "<span style=\"color: #7fbfbf; text-decoration-color: #7fbfbf\">                    </span>         seconds, is too short for the current frame rate of <span style=\"color: #008000; text-decoration-color: #008000\">60</span> FPS. <span style=\"color: #808000; text-decoration-color: #808000; font-weight: bold\">Rendering</span>    <span style=\"color: #7f7f7f; text-decoration-color: #7f7f7f\">             </span>\n",
       "<span style=\"color: #7fbfbf; text-decoration-color: #7fbfbf\">                    </span>         with the shortest possible total run_time of <span style=\"color: #008000; text-decoration-color: #008000\">0.0166667</span> seconds instead.  <span style=\"color: #7f7f7f; text-decoration-color: #7f7f7f\">             </span>\n",
       "</pre>\n"
      ],
      "text/plain": [
       "\u001b[2;36m                   \u001b[0m\u001b[2;36m \u001b[0m\u001b[31mWARNING \u001b[0m The original total run_time of \u001b[1;35mintegration_index_Scene.play\u001b[0m\u001b[1m(\u001b[0m\u001b[1m)\u001b[0m, \u001b[32m0.0123457\u001b[0m \u001b]8;id=593561;file:///home/carlo/Desktop/single-projects/manim-demopage/.venv_demo/lib/python3.12/site-packages/manim/scene/scene.py\u001b\\\u001b[2mscene.py\u001b[0m\u001b]8;;\u001b\\\u001b[2m:\u001b[0m\u001b]8;id=445059;file:///home/carlo/Desktop/single-projects/manim-demopage/.venv_demo/lib/python3.12/site-packages/manim/scene/scene.py#1044\u001b\\\u001b[2m1044\u001b[0m\u001b]8;;\u001b\\\n",
       "\u001b[2;36m                    \u001b[0m         seconds, is too short for the current frame rate of \u001b[32m60\u001b[0m FPS. \u001b[1;33mRendering\u001b[0m    \u001b[2m             \u001b[0m\n",
       "\u001b[2;36m                    \u001b[0m         with the shortest possible total run_time of \u001b[32m0.0166667\u001b[0m seconds instead.  \u001b[2m             \u001b[0m\n"
      ]
     },
     "metadata": {},
     "output_type": "display_data"
    },
    {
     "data": {
      "text/html": [
       "<pre style=\"white-space:pre;overflow-x:auto;line-height:normal;font-family:Menlo,'DejaVu Sans Mono',consolas,'Courier New',monospace\"><span style=\"color: #7fbfbf; text-decoration-color: #7fbfbf\">                    </span><span style=\"color: #800000; text-decoration-color: #800000\">WARNING </span> The original total run_time of <span style=\"color: #800080; text-decoration-color: #800080; font-weight: bold\">integration_index_Scene.play</span><span style=\"font-weight: bold\">()</span>, <span style=\"color: #008000; text-decoration-color: #008000\">0.0123457</span> <a href=\"file:///home/carlo/Desktop/single-projects/manim-demopage/.venv_demo/lib/python3.12/site-packages/manim/scene/scene.py\" target=\"_blank\"><span style=\"color: #7f7f7f; text-decoration-color: #7f7f7f\">scene.py</span></a><span style=\"color: #7f7f7f; text-decoration-color: #7f7f7f\">:</span><a href=\"file:///home/carlo/Desktop/single-projects/manim-demopage/.venv_demo/lib/python3.12/site-packages/manim/scene/scene.py#1044\" target=\"_blank\"><span style=\"color: #7f7f7f; text-decoration-color: #7f7f7f\">1044</span></a>\n",
       "<span style=\"color: #7fbfbf; text-decoration-color: #7fbfbf\">                    </span>         seconds, is too short for the current frame rate of <span style=\"color: #008000; text-decoration-color: #008000\">60</span> FPS. <span style=\"color: #808000; text-decoration-color: #808000; font-weight: bold\">Rendering</span>    <span style=\"color: #7f7f7f; text-decoration-color: #7f7f7f\">             </span>\n",
       "<span style=\"color: #7fbfbf; text-decoration-color: #7fbfbf\">                    </span>         with the shortest possible total run_time of <span style=\"color: #008000; text-decoration-color: #008000\">0.0166667</span> seconds instead.  <span style=\"color: #7f7f7f; text-decoration-color: #7f7f7f\">             </span>\n",
       "</pre>\n"
      ],
      "text/plain": [
       "\u001b[2;36m                   \u001b[0m\u001b[2;36m \u001b[0m\u001b[31mWARNING \u001b[0m The original total run_time of \u001b[1;35mintegration_index_Scene.play\u001b[0m\u001b[1m(\u001b[0m\u001b[1m)\u001b[0m, \u001b[32m0.0123457\u001b[0m \u001b]8;id=762607;file:///home/carlo/Desktop/single-projects/manim-demopage/.venv_demo/lib/python3.12/site-packages/manim/scene/scene.py\u001b\\\u001b[2mscene.py\u001b[0m\u001b]8;;\u001b\\\u001b[2m:\u001b[0m\u001b]8;id=184806;file:///home/carlo/Desktop/single-projects/manim-demopage/.venv_demo/lib/python3.12/site-packages/manim/scene/scene.py#1044\u001b\\\u001b[2m1044\u001b[0m\u001b]8;;\u001b\\\n",
       "\u001b[2;36m                    \u001b[0m         seconds, is too short for the current frame rate of \u001b[32m60\u001b[0m FPS. \u001b[1;33mRendering\u001b[0m    \u001b[2m             \u001b[0m\n",
       "\u001b[2;36m                    \u001b[0m         with the shortest possible total run_time of \u001b[32m0.0166667\u001b[0m seconds instead.  \u001b[2m             \u001b[0m\n"
      ]
     },
     "metadata": {},
     "output_type": "display_data"
    },
    {
     "data": {
      "text/html": [
       "<pre style=\"white-space:pre;overflow-x:auto;line-height:normal;font-family:Menlo,'DejaVu Sans Mono',consolas,'Courier New',monospace\"><span style=\"color: #7fbfbf; text-decoration-color: #7fbfbf\">                    </span><span style=\"color: #800000; text-decoration-color: #800000\">WARNING </span> The original total run_time of <span style=\"color: #800080; text-decoration-color: #800080; font-weight: bold\">integration_index_Scene.play</span><span style=\"font-weight: bold\">()</span>, <span style=\"color: #008000; text-decoration-color: #008000\">0.0122699</span> <a href=\"file:///home/carlo/Desktop/single-projects/manim-demopage/.venv_demo/lib/python3.12/site-packages/manim/scene/scene.py\" target=\"_blank\"><span style=\"color: #7f7f7f; text-decoration-color: #7f7f7f\">scene.py</span></a><span style=\"color: #7f7f7f; text-decoration-color: #7f7f7f\">:</span><a href=\"file:///home/carlo/Desktop/single-projects/manim-demopage/.venv_demo/lib/python3.12/site-packages/manim/scene/scene.py#1044\" target=\"_blank\"><span style=\"color: #7f7f7f; text-decoration-color: #7f7f7f\">1044</span></a>\n",
       "<span style=\"color: #7fbfbf; text-decoration-color: #7fbfbf\">                    </span>         seconds, is too short for the current frame rate of <span style=\"color: #008000; text-decoration-color: #008000\">60</span> FPS. <span style=\"color: #808000; text-decoration-color: #808000; font-weight: bold\">Rendering</span>    <span style=\"color: #7f7f7f; text-decoration-color: #7f7f7f\">             </span>\n",
       "<span style=\"color: #7fbfbf; text-decoration-color: #7fbfbf\">                    </span>         with the shortest possible total run_time of <span style=\"color: #008000; text-decoration-color: #008000\">0.0166667</span> seconds instead.  <span style=\"color: #7f7f7f; text-decoration-color: #7f7f7f\">             </span>\n",
       "</pre>\n"
      ],
      "text/plain": [
       "\u001b[2;36m                   \u001b[0m\u001b[2;36m \u001b[0m\u001b[31mWARNING \u001b[0m The original total run_time of \u001b[1;35mintegration_index_Scene.play\u001b[0m\u001b[1m(\u001b[0m\u001b[1m)\u001b[0m, \u001b[32m0.0122699\u001b[0m \u001b]8;id=757893;file:///home/carlo/Desktop/single-projects/manim-demopage/.venv_demo/lib/python3.12/site-packages/manim/scene/scene.py\u001b\\\u001b[2mscene.py\u001b[0m\u001b]8;;\u001b\\\u001b[2m:\u001b[0m\u001b]8;id=638270;file:///home/carlo/Desktop/single-projects/manim-demopage/.venv_demo/lib/python3.12/site-packages/manim/scene/scene.py#1044\u001b\\\u001b[2m1044\u001b[0m\u001b]8;;\u001b\\\n",
       "\u001b[2;36m                    \u001b[0m         seconds, is too short for the current frame rate of \u001b[32m60\u001b[0m FPS. \u001b[1;33mRendering\u001b[0m    \u001b[2m             \u001b[0m\n",
       "\u001b[2;36m                    \u001b[0m         with the shortest possible total run_time of \u001b[32m0.0166667\u001b[0m seconds instead.  \u001b[2m             \u001b[0m\n"
      ]
     },
     "metadata": {},
     "output_type": "display_data"
    },
    {
     "data": {
      "text/html": [
       "<pre style=\"white-space:pre;overflow-x:auto;line-height:normal;font-family:Menlo,'DejaVu Sans Mono',consolas,'Courier New',monospace\"><span style=\"color: #7fbfbf; text-decoration-color: #7fbfbf\">                    </span><span style=\"color: #800000; text-decoration-color: #800000\">WARNING </span> The original total run_time of <span style=\"color: #800080; text-decoration-color: #800080; font-weight: bold\">integration_index_Scene.play</span><span style=\"font-weight: bold\">()</span>, <span style=\"color: #008000; text-decoration-color: #008000\">0.0122699</span> <a href=\"file:///home/carlo/Desktop/single-projects/manim-demopage/.venv_demo/lib/python3.12/site-packages/manim/scene/scene.py\" target=\"_blank\"><span style=\"color: #7f7f7f; text-decoration-color: #7f7f7f\">scene.py</span></a><span style=\"color: #7f7f7f; text-decoration-color: #7f7f7f\">:</span><a href=\"file:///home/carlo/Desktop/single-projects/manim-demopage/.venv_demo/lib/python3.12/site-packages/manim/scene/scene.py#1044\" target=\"_blank\"><span style=\"color: #7f7f7f; text-decoration-color: #7f7f7f\">1044</span></a>\n",
       "<span style=\"color: #7fbfbf; text-decoration-color: #7fbfbf\">                    </span>         seconds, is too short for the current frame rate of <span style=\"color: #008000; text-decoration-color: #008000\">60</span> FPS. <span style=\"color: #808000; text-decoration-color: #808000; font-weight: bold\">Rendering</span>    <span style=\"color: #7f7f7f; text-decoration-color: #7f7f7f\">             </span>\n",
       "<span style=\"color: #7fbfbf; text-decoration-color: #7fbfbf\">                    </span>         with the shortest possible total run_time of <span style=\"color: #008000; text-decoration-color: #008000\">0.0166667</span> seconds instead.  <span style=\"color: #7f7f7f; text-decoration-color: #7f7f7f\">             </span>\n",
       "</pre>\n"
      ],
      "text/plain": [
       "\u001b[2;36m                   \u001b[0m\u001b[2;36m \u001b[0m\u001b[31mWARNING \u001b[0m The original total run_time of \u001b[1;35mintegration_index_Scene.play\u001b[0m\u001b[1m(\u001b[0m\u001b[1m)\u001b[0m, \u001b[32m0.0122699\u001b[0m \u001b]8;id=142113;file:///home/carlo/Desktop/single-projects/manim-demopage/.venv_demo/lib/python3.12/site-packages/manim/scene/scene.py\u001b\\\u001b[2mscene.py\u001b[0m\u001b]8;;\u001b\\\u001b[2m:\u001b[0m\u001b]8;id=182718;file:///home/carlo/Desktop/single-projects/manim-demopage/.venv_demo/lib/python3.12/site-packages/manim/scene/scene.py#1044\u001b\\\u001b[2m1044\u001b[0m\u001b]8;;\u001b\\\n",
       "\u001b[2;36m                    \u001b[0m         seconds, is too short for the current frame rate of \u001b[32m60\u001b[0m FPS. \u001b[1;33mRendering\u001b[0m    \u001b[2m             \u001b[0m\n",
       "\u001b[2;36m                    \u001b[0m         with the shortest possible total run_time of \u001b[32m0.0166667\u001b[0m seconds instead.  \u001b[2m             \u001b[0m\n"
      ]
     },
     "metadata": {},
     "output_type": "display_data"
    },
    {
     "data": {
      "text/html": [
       "<pre style=\"white-space:pre;overflow-x:auto;line-height:normal;font-family:Menlo,'DejaVu Sans Mono',consolas,'Courier New',monospace\"><span style=\"color: #7fbfbf; text-decoration-color: #7fbfbf\">                    </span><span style=\"color: #800000; text-decoration-color: #800000\">WARNING </span> The original total run_time of <span style=\"color: #800080; text-decoration-color: #800080; font-weight: bold\">integration_index_Scene.play</span><span style=\"font-weight: bold\">()</span>, <span style=\"color: #008000; text-decoration-color: #008000\">0.0121951</span> <a href=\"file:///home/carlo/Desktop/single-projects/manim-demopage/.venv_demo/lib/python3.12/site-packages/manim/scene/scene.py\" target=\"_blank\"><span style=\"color: #7f7f7f; text-decoration-color: #7f7f7f\">scene.py</span></a><span style=\"color: #7f7f7f; text-decoration-color: #7f7f7f\">:</span><a href=\"file:///home/carlo/Desktop/single-projects/manim-demopage/.venv_demo/lib/python3.12/site-packages/manim/scene/scene.py#1044\" target=\"_blank\"><span style=\"color: #7f7f7f; text-decoration-color: #7f7f7f\">1044</span></a>\n",
       "<span style=\"color: #7fbfbf; text-decoration-color: #7fbfbf\">                    </span>         seconds, is too short for the current frame rate of <span style=\"color: #008000; text-decoration-color: #008000\">60</span> FPS. <span style=\"color: #808000; text-decoration-color: #808000; font-weight: bold\">Rendering</span>    <span style=\"color: #7f7f7f; text-decoration-color: #7f7f7f\">             </span>\n",
       "<span style=\"color: #7fbfbf; text-decoration-color: #7fbfbf\">                    </span>         with the shortest possible total run_time of <span style=\"color: #008000; text-decoration-color: #008000\">0.0166667</span> seconds instead.  <span style=\"color: #7f7f7f; text-decoration-color: #7f7f7f\">             </span>\n",
       "</pre>\n"
      ],
      "text/plain": [
       "\u001b[2;36m                   \u001b[0m\u001b[2;36m \u001b[0m\u001b[31mWARNING \u001b[0m The original total run_time of \u001b[1;35mintegration_index_Scene.play\u001b[0m\u001b[1m(\u001b[0m\u001b[1m)\u001b[0m, \u001b[32m0.0121951\u001b[0m \u001b]8;id=722480;file:///home/carlo/Desktop/single-projects/manim-demopage/.venv_demo/lib/python3.12/site-packages/manim/scene/scene.py\u001b\\\u001b[2mscene.py\u001b[0m\u001b]8;;\u001b\\\u001b[2m:\u001b[0m\u001b]8;id=548005;file:///home/carlo/Desktop/single-projects/manim-demopage/.venv_demo/lib/python3.12/site-packages/manim/scene/scene.py#1044\u001b\\\u001b[2m1044\u001b[0m\u001b]8;;\u001b\\\n",
       "\u001b[2;36m                    \u001b[0m         seconds, is too short for the current frame rate of \u001b[32m60\u001b[0m FPS. \u001b[1;33mRendering\u001b[0m    \u001b[2m             \u001b[0m\n",
       "\u001b[2;36m                    \u001b[0m         with the shortest possible total run_time of \u001b[32m0.0166667\u001b[0m seconds instead.  \u001b[2m             \u001b[0m\n"
      ]
     },
     "metadata": {},
     "output_type": "display_data"
    },
    {
     "data": {
      "text/html": [
       "<pre style=\"white-space:pre;overflow-x:auto;line-height:normal;font-family:Menlo,'DejaVu Sans Mono',consolas,'Courier New',monospace\"><span style=\"color: #7fbfbf; text-decoration-color: #7fbfbf\">                    </span><span style=\"color: #800000; text-decoration-color: #800000\">WARNING </span> The original total run_time of <span style=\"color: #800080; text-decoration-color: #800080; font-weight: bold\">integration_index_Scene.play</span><span style=\"font-weight: bold\">()</span>, <span style=\"color: #008000; text-decoration-color: #008000\">0.0121951</span> <a href=\"file:///home/carlo/Desktop/single-projects/manim-demopage/.venv_demo/lib/python3.12/site-packages/manim/scene/scene.py\" target=\"_blank\"><span style=\"color: #7f7f7f; text-decoration-color: #7f7f7f\">scene.py</span></a><span style=\"color: #7f7f7f; text-decoration-color: #7f7f7f\">:</span><a href=\"file:///home/carlo/Desktop/single-projects/manim-demopage/.venv_demo/lib/python3.12/site-packages/manim/scene/scene.py#1044\" target=\"_blank\"><span style=\"color: #7f7f7f; text-decoration-color: #7f7f7f\">1044</span></a>\n",
       "<span style=\"color: #7fbfbf; text-decoration-color: #7fbfbf\">                    </span>         seconds, is too short for the current frame rate of <span style=\"color: #008000; text-decoration-color: #008000\">60</span> FPS. <span style=\"color: #808000; text-decoration-color: #808000; font-weight: bold\">Rendering</span>    <span style=\"color: #7f7f7f; text-decoration-color: #7f7f7f\">             </span>\n",
       "<span style=\"color: #7fbfbf; text-decoration-color: #7fbfbf\">                    </span>         with the shortest possible total run_time of <span style=\"color: #008000; text-decoration-color: #008000\">0.0166667</span> seconds instead.  <span style=\"color: #7f7f7f; text-decoration-color: #7f7f7f\">             </span>\n",
       "</pre>\n"
      ],
      "text/plain": [
       "\u001b[2;36m                   \u001b[0m\u001b[2;36m \u001b[0m\u001b[31mWARNING \u001b[0m The original total run_time of \u001b[1;35mintegration_index_Scene.play\u001b[0m\u001b[1m(\u001b[0m\u001b[1m)\u001b[0m, \u001b[32m0.0121951\u001b[0m \u001b]8;id=510187;file:///home/carlo/Desktop/single-projects/manim-demopage/.venv_demo/lib/python3.12/site-packages/manim/scene/scene.py\u001b\\\u001b[2mscene.py\u001b[0m\u001b]8;;\u001b\\\u001b[2m:\u001b[0m\u001b]8;id=948610;file:///home/carlo/Desktop/single-projects/manim-demopage/.venv_demo/lib/python3.12/site-packages/manim/scene/scene.py#1044\u001b\\\u001b[2m1044\u001b[0m\u001b]8;;\u001b\\\n",
       "\u001b[2;36m                    \u001b[0m         seconds, is too short for the current frame rate of \u001b[32m60\u001b[0m FPS. \u001b[1;33mRendering\u001b[0m    \u001b[2m             \u001b[0m\n",
       "\u001b[2;36m                    \u001b[0m         with the shortest possible total run_time of \u001b[32m0.0166667\u001b[0m seconds instead.  \u001b[2m             \u001b[0m\n"
      ]
     },
     "metadata": {},
     "output_type": "display_data"
    },
    {
     "data": {
      "text/html": [
       "<pre style=\"white-space:pre;overflow-x:auto;line-height:normal;font-family:Menlo,'DejaVu Sans Mono',consolas,'Courier New',monospace\"><span style=\"color: #7fbfbf; text-decoration-color: #7fbfbf\">                    </span><span style=\"color: #800000; text-decoration-color: #800000\">WARNING </span> The original total run_time of <span style=\"color: #800080; text-decoration-color: #800080; font-weight: bold\">integration_index_Scene.play</span><span style=\"font-weight: bold\">()</span>, <span style=\"color: #008000; text-decoration-color: #008000\">0.0121212</span> <a href=\"file:///home/carlo/Desktop/single-projects/manim-demopage/.venv_demo/lib/python3.12/site-packages/manim/scene/scene.py\" target=\"_blank\"><span style=\"color: #7f7f7f; text-decoration-color: #7f7f7f\">scene.py</span></a><span style=\"color: #7f7f7f; text-decoration-color: #7f7f7f\">:</span><a href=\"file:///home/carlo/Desktop/single-projects/manim-demopage/.venv_demo/lib/python3.12/site-packages/manim/scene/scene.py#1044\" target=\"_blank\"><span style=\"color: #7f7f7f; text-decoration-color: #7f7f7f\">1044</span></a>\n",
       "<span style=\"color: #7fbfbf; text-decoration-color: #7fbfbf\">                    </span>         seconds, is too short for the current frame rate of <span style=\"color: #008000; text-decoration-color: #008000\">60</span> FPS. <span style=\"color: #808000; text-decoration-color: #808000; font-weight: bold\">Rendering</span>    <span style=\"color: #7f7f7f; text-decoration-color: #7f7f7f\">             </span>\n",
       "<span style=\"color: #7fbfbf; text-decoration-color: #7fbfbf\">                    </span>         with the shortest possible total run_time of <span style=\"color: #008000; text-decoration-color: #008000\">0.0166667</span> seconds instead.  <span style=\"color: #7f7f7f; text-decoration-color: #7f7f7f\">             </span>\n",
       "</pre>\n"
      ],
      "text/plain": [
       "\u001b[2;36m                   \u001b[0m\u001b[2;36m \u001b[0m\u001b[31mWARNING \u001b[0m The original total run_time of \u001b[1;35mintegration_index_Scene.play\u001b[0m\u001b[1m(\u001b[0m\u001b[1m)\u001b[0m, \u001b[32m0.0121212\u001b[0m \u001b]8;id=106651;file:///home/carlo/Desktop/single-projects/manim-demopage/.venv_demo/lib/python3.12/site-packages/manim/scene/scene.py\u001b\\\u001b[2mscene.py\u001b[0m\u001b]8;;\u001b\\\u001b[2m:\u001b[0m\u001b]8;id=505256;file:///home/carlo/Desktop/single-projects/manim-demopage/.venv_demo/lib/python3.12/site-packages/manim/scene/scene.py#1044\u001b\\\u001b[2m1044\u001b[0m\u001b]8;;\u001b\\\n",
       "\u001b[2;36m                    \u001b[0m         seconds, is too short for the current frame rate of \u001b[32m60\u001b[0m FPS. \u001b[1;33mRendering\u001b[0m    \u001b[2m             \u001b[0m\n",
       "\u001b[2;36m                    \u001b[0m         with the shortest possible total run_time of \u001b[32m0.0166667\u001b[0m seconds instead.  \u001b[2m             \u001b[0m\n"
      ]
     },
     "metadata": {},
     "output_type": "display_data"
    },
    {
     "data": {
      "text/html": [
       "<pre style=\"white-space:pre;overflow-x:auto;line-height:normal;font-family:Menlo,'DejaVu Sans Mono',consolas,'Courier New',monospace\"><span style=\"color: #7fbfbf; text-decoration-color: #7fbfbf\">                    </span><span style=\"color: #800000; text-decoration-color: #800000\">WARNING </span> The original total run_time of <span style=\"color: #800080; text-decoration-color: #800080; font-weight: bold\">integration_index_Scene.play</span><span style=\"font-weight: bold\">()</span>, <span style=\"color: #008000; text-decoration-color: #008000\">0.0121212</span> <a href=\"file:///home/carlo/Desktop/single-projects/manim-demopage/.venv_demo/lib/python3.12/site-packages/manim/scene/scene.py\" target=\"_blank\"><span style=\"color: #7f7f7f; text-decoration-color: #7f7f7f\">scene.py</span></a><span style=\"color: #7f7f7f; text-decoration-color: #7f7f7f\">:</span><a href=\"file:///home/carlo/Desktop/single-projects/manim-demopage/.venv_demo/lib/python3.12/site-packages/manim/scene/scene.py#1044\" target=\"_blank\"><span style=\"color: #7f7f7f; text-decoration-color: #7f7f7f\">1044</span></a>\n",
       "<span style=\"color: #7fbfbf; text-decoration-color: #7fbfbf\">                    </span>         seconds, is too short for the current frame rate of <span style=\"color: #008000; text-decoration-color: #008000\">60</span> FPS. <span style=\"color: #808000; text-decoration-color: #808000; font-weight: bold\">Rendering</span>    <span style=\"color: #7f7f7f; text-decoration-color: #7f7f7f\">             </span>\n",
       "<span style=\"color: #7fbfbf; text-decoration-color: #7fbfbf\">                    </span>         with the shortest possible total run_time of <span style=\"color: #008000; text-decoration-color: #008000\">0.0166667</span> seconds instead.  <span style=\"color: #7f7f7f; text-decoration-color: #7f7f7f\">             </span>\n",
       "</pre>\n"
      ],
      "text/plain": [
       "\u001b[2;36m                   \u001b[0m\u001b[2;36m \u001b[0m\u001b[31mWARNING \u001b[0m The original total run_time of \u001b[1;35mintegration_index_Scene.play\u001b[0m\u001b[1m(\u001b[0m\u001b[1m)\u001b[0m, \u001b[32m0.0121212\u001b[0m \u001b]8;id=490047;file:///home/carlo/Desktop/single-projects/manim-demopage/.venv_demo/lib/python3.12/site-packages/manim/scene/scene.py\u001b\\\u001b[2mscene.py\u001b[0m\u001b]8;;\u001b\\\u001b[2m:\u001b[0m\u001b]8;id=949962;file:///home/carlo/Desktop/single-projects/manim-demopage/.venv_demo/lib/python3.12/site-packages/manim/scene/scene.py#1044\u001b\\\u001b[2m1044\u001b[0m\u001b]8;;\u001b\\\n",
       "\u001b[2;36m                    \u001b[0m         seconds, is too short for the current frame rate of \u001b[32m60\u001b[0m FPS. \u001b[1;33mRendering\u001b[0m    \u001b[2m             \u001b[0m\n",
       "\u001b[2;36m                    \u001b[0m         with the shortest possible total run_time of \u001b[32m0.0166667\u001b[0m seconds instead.  \u001b[2m             \u001b[0m\n"
      ]
     },
     "metadata": {},
     "output_type": "display_data"
    },
    {
     "data": {
      "text/html": [
       "<pre style=\"white-space:pre;overflow-x:auto;line-height:normal;font-family:Menlo,'DejaVu Sans Mono',consolas,'Courier New',monospace\"><span style=\"color: #7fbfbf; text-decoration-color: #7fbfbf\">                    </span><span style=\"color: #800000; text-decoration-color: #800000\">WARNING </span> The original total run_time of <span style=\"color: #800080; text-decoration-color: #800080; font-weight: bold\">integration_index_Scene.play</span><span style=\"font-weight: bold\">()</span>, <span style=\"color: #008000; text-decoration-color: #008000\">0.0120482</span> <a href=\"file:///home/carlo/Desktop/single-projects/manim-demopage/.venv_demo/lib/python3.12/site-packages/manim/scene/scene.py\" target=\"_blank\"><span style=\"color: #7f7f7f; text-decoration-color: #7f7f7f\">scene.py</span></a><span style=\"color: #7f7f7f; text-decoration-color: #7f7f7f\">:</span><a href=\"file:///home/carlo/Desktop/single-projects/manim-demopage/.venv_demo/lib/python3.12/site-packages/manim/scene/scene.py#1044\" target=\"_blank\"><span style=\"color: #7f7f7f; text-decoration-color: #7f7f7f\">1044</span></a>\n",
       "<span style=\"color: #7fbfbf; text-decoration-color: #7fbfbf\">                    </span>         seconds, is too short for the current frame rate of <span style=\"color: #008000; text-decoration-color: #008000\">60</span> FPS. <span style=\"color: #808000; text-decoration-color: #808000; font-weight: bold\">Rendering</span>    <span style=\"color: #7f7f7f; text-decoration-color: #7f7f7f\">             </span>\n",
       "<span style=\"color: #7fbfbf; text-decoration-color: #7fbfbf\">                    </span>         with the shortest possible total run_time of <span style=\"color: #008000; text-decoration-color: #008000\">0.0166667</span> seconds instead.  <span style=\"color: #7f7f7f; text-decoration-color: #7f7f7f\">             </span>\n",
       "</pre>\n"
      ],
      "text/plain": [
       "\u001b[2;36m                   \u001b[0m\u001b[2;36m \u001b[0m\u001b[31mWARNING \u001b[0m The original total run_time of \u001b[1;35mintegration_index_Scene.play\u001b[0m\u001b[1m(\u001b[0m\u001b[1m)\u001b[0m, \u001b[32m0.0120482\u001b[0m \u001b]8;id=822459;file:///home/carlo/Desktop/single-projects/manim-demopage/.venv_demo/lib/python3.12/site-packages/manim/scene/scene.py\u001b\\\u001b[2mscene.py\u001b[0m\u001b]8;;\u001b\\\u001b[2m:\u001b[0m\u001b]8;id=883940;file:///home/carlo/Desktop/single-projects/manim-demopage/.venv_demo/lib/python3.12/site-packages/manim/scene/scene.py#1044\u001b\\\u001b[2m1044\u001b[0m\u001b]8;;\u001b\\\n",
       "\u001b[2;36m                    \u001b[0m         seconds, is too short for the current frame rate of \u001b[32m60\u001b[0m FPS. \u001b[1;33mRendering\u001b[0m    \u001b[2m             \u001b[0m\n",
       "\u001b[2;36m                    \u001b[0m         with the shortest possible total run_time of \u001b[32m0.0166667\u001b[0m seconds instead.  \u001b[2m             \u001b[0m\n"
      ]
     },
     "metadata": {},
     "output_type": "display_data"
    },
    {
     "data": {
      "text/html": [
       "<pre style=\"white-space:pre;overflow-x:auto;line-height:normal;font-family:Menlo,'DejaVu Sans Mono',consolas,'Courier New',monospace\"><span style=\"color: #7fbfbf; text-decoration-color: #7fbfbf\">                    </span><span style=\"color: #800000; text-decoration-color: #800000\">WARNING </span> The original total run_time of <span style=\"color: #800080; text-decoration-color: #800080; font-weight: bold\">integration_index_Scene.play</span><span style=\"font-weight: bold\">()</span>, <span style=\"color: #008000; text-decoration-color: #008000\">0.0120482</span> <a href=\"file:///home/carlo/Desktop/single-projects/manim-demopage/.venv_demo/lib/python3.12/site-packages/manim/scene/scene.py\" target=\"_blank\"><span style=\"color: #7f7f7f; text-decoration-color: #7f7f7f\">scene.py</span></a><span style=\"color: #7f7f7f; text-decoration-color: #7f7f7f\">:</span><a href=\"file:///home/carlo/Desktop/single-projects/manim-demopage/.venv_demo/lib/python3.12/site-packages/manim/scene/scene.py#1044\" target=\"_blank\"><span style=\"color: #7f7f7f; text-decoration-color: #7f7f7f\">1044</span></a>\n",
       "<span style=\"color: #7fbfbf; text-decoration-color: #7fbfbf\">                    </span>         seconds, is too short for the current frame rate of <span style=\"color: #008000; text-decoration-color: #008000\">60</span> FPS. <span style=\"color: #808000; text-decoration-color: #808000; font-weight: bold\">Rendering</span>    <span style=\"color: #7f7f7f; text-decoration-color: #7f7f7f\">             </span>\n",
       "<span style=\"color: #7fbfbf; text-decoration-color: #7fbfbf\">                    </span>         with the shortest possible total run_time of <span style=\"color: #008000; text-decoration-color: #008000\">0.0166667</span> seconds instead.  <span style=\"color: #7f7f7f; text-decoration-color: #7f7f7f\">             </span>\n",
       "</pre>\n"
      ],
      "text/plain": [
       "\u001b[2;36m                   \u001b[0m\u001b[2;36m \u001b[0m\u001b[31mWARNING \u001b[0m The original total run_time of \u001b[1;35mintegration_index_Scene.play\u001b[0m\u001b[1m(\u001b[0m\u001b[1m)\u001b[0m, \u001b[32m0.0120482\u001b[0m \u001b]8;id=952505;file:///home/carlo/Desktop/single-projects/manim-demopage/.venv_demo/lib/python3.12/site-packages/manim/scene/scene.py\u001b\\\u001b[2mscene.py\u001b[0m\u001b]8;;\u001b\\\u001b[2m:\u001b[0m\u001b]8;id=113137;file:///home/carlo/Desktop/single-projects/manim-demopage/.venv_demo/lib/python3.12/site-packages/manim/scene/scene.py#1044\u001b\\\u001b[2m1044\u001b[0m\u001b]8;;\u001b\\\n",
       "\u001b[2;36m                    \u001b[0m         seconds, is too short for the current frame rate of \u001b[32m60\u001b[0m FPS. \u001b[1;33mRendering\u001b[0m    \u001b[2m             \u001b[0m\n",
       "\u001b[2;36m                    \u001b[0m         with the shortest possible total run_time of \u001b[32m0.0166667\u001b[0m seconds instead.  \u001b[2m             \u001b[0m\n"
      ]
     },
     "metadata": {},
     "output_type": "display_data"
    },
    {
     "data": {
      "text/html": [
       "<pre style=\"white-space:pre;overflow-x:auto;line-height:normal;font-family:Menlo,'DejaVu Sans Mono',consolas,'Courier New',monospace\"><span style=\"color: #7fbfbf; text-decoration-color: #7fbfbf\">[01/24/25 14:36:21] </span><span style=\"color: #800000; text-decoration-color: #800000\">WARNING </span> The original total run_time of <span style=\"color: #800080; text-decoration-color: #800080; font-weight: bold\">integration_index_Scene.play</span><span style=\"font-weight: bold\">()</span>, <span style=\"color: #008000; text-decoration-color: #008000\">0.011976</span>  <a href=\"file:///home/carlo/Desktop/single-projects/manim-demopage/.venv_demo/lib/python3.12/site-packages/manim/scene/scene.py\" target=\"_blank\"><span style=\"color: #7f7f7f; text-decoration-color: #7f7f7f\">scene.py</span></a><span style=\"color: #7f7f7f; text-decoration-color: #7f7f7f\">:</span><a href=\"file:///home/carlo/Desktop/single-projects/manim-demopage/.venv_demo/lib/python3.12/site-packages/manim/scene/scene.py#1044\" target=\"_blank\"><span style=\"color: #7f7f7f; text-decoration-color: #7f7f7f\">1044</span></a>\n",
       "<span style=\"color: #7fbfbf; text-decoration-color: #7fbfbf\">                    </span>         seconds, is too short for the current frame rate of <span style=\"color: #008000; text-decoration-color: #008000\">60</span> FPS. <span style=\"color: #808000; text-decoration-color: #808000; font-weight: bold\">Rendering</span>    <span style=\"color: #7f7f7f; text-decoration-color: #7f7f7f\">             </span>\n",
       "<span style=\"color: #7fbfbf; text-decoration-color: #7fbfbf\">                    </span>         with the shortest possible total run_time of <span style=\"color: #008000; text-decoration-color: #008000\">0.0166667</span> seconds instead.  <span style=\"color: #7f7f7f; text-decoration-color: #7f7f7f\">             </span>\n",
       "</pre>\n"
      ],
      "text/plain": [
       "\u001b[2;36m[01/24/25 14:36:21]\u001b[0m\u001b[2;36m \u001b[0m\u001b[31mWARNING \u001b[0m The original total run_time of \u001b[1;35mintegration_index_Scene.play\u001b[0m\u001b[1m(\u001b[0m\u001b[1m)\u001b[0m, \u001b[32m0.011976\u001b[0m  \u001b]8;id=849824;file:///home/carlo/Desktop/single-projects/manim-demopage/.venv_demo/lib/python3.12/site-packages/manim/scene/scene.py\u001b\\\u001b[2mscene.py\u001b[0m\u001b]8;;\u001b\\\u001b[2m:\u001b[0m\u001b]8;id=291029;file:///home/carlo/Desktop/single-projects/manim-demopage/.venv_demo/lib/python3.12/site-packages/manim/scene/scene.py#1044\u001b\\\u001b[2m1044\u001b[0m\u001b]8;;\u001b\\\n",
       "\u001b[2;36m                    \u001b[0m         seconds, is too short for the current frame rate of \u001b[32m60\u001b[0m FPS. \u001b[1;33mRendering\u001b[0m    \u001b[2m             \u001b[0m\n",
       "\u001b[2;36m                    \u001b[0m         with the shortest possible total run_time of \u001b[32m0.0166667\u001b[0m seconds instead.  \u001b[2m             \u001b[0m\n"
      ]
     },
     "metadata": {},
     "output_type": "display_data"
    },
    {
     "data": {
      "text/html": [
       "<pre style=\"white-space:pre;overflow-x:auto;line-height:normal;font-family:Menlo,'DejaVu Sans Mono',consolas,'Courier New',monospace\"><span style=\"color: #7fbfbf; text-decoration-color: #7fbfbf\">                    </span><span style=\"color: #800000; text-decoration-color: #800000\">WARNING </span> The original total run_time of <span style=\"color: #800080; text-decoration-color: #800080; font-weight: bold\">integration_index_Scene.play</span><span style=\"font-weight: bold\">()</span>, <span style=\"color: #008000; text-decoration-color: #008000\">0.011976</span>  <a href=\"file:///home/carlo/Desktop/single-projects/manim-demopage/.venv_demo/lib/python3.12/site-packages/manim/scene/scene.py\" target=\"_blank\"><span style=\"color: #7f7f7f; text-decoration-color: #7f7f7f\">scene.py</span></a><span style=\"color: #7f7f7f; text-decoration-color: #7f7f7f\">:</span><a href=\"file:///home/carlo/Desktop/single-projects/manim-demopage/.venv_demo/lib/python3.12/site-packages/manim/scene/scene.py#1044\" target=\"_blank\"><span style=\"color: #7f7f7f; text-decoration-color: #7f7f7f\">1044</span></a>\n",
       "<span style=\"color: #7fbfbf; text-decoration-color: #7fbfbf\">                    </span>         seconds, is too short for the current frame rate of <span style=\"color: #008000; text-decoration-color: #008000\">60</span> FPS. <span style=\"color: #808000; text-decoration-color: #808000; font-weight: bold\">Rendering</span>    <span style=\"color: #7f7f7f; text-decoration-color: #7f7f7f\">             </span>\n",
       "<span style=\"color: #7fbfbf; text-decoration-color: #7fbfbf\">                    </span>         with the shortest possible total run_time of <span style=\"color: #008000; text-decoration-color: #008000\">0.0166667</span> seconds instead.  <span style=\"color: #7f7f7f; text-decoration-color: #7f7f7f\">             </span>\n",
       "</pre>\n"
      ],
      "text/plain": [
       "\u001b[2;36m                   \u001b[0m\u001b[2;36m \u001b[0m\u001b[31mWARNING \u001b[0m The original total run_time of \u001b[1;35mintegration_index_Scene.play\u001b[0m\u001b[1m(\u001b[0m\u001b[1m)\u001b[0m, \u001b[32m0.011976\u001b[0m  \u001b]8;id=864487;file:///home/carlo/Desktop/single-projects/manim-demopage/.venv_demo/lib/python3.12/site-packages/manim/scene/scene.py\u001b\\\u001b[2mscene.py\u001b[0m\u001b]8;;\u001b\\\u001b[2m:\u001b[0m\u001b]8;id=336397;file:///home/carlo/Desktop/single-projects/manim-demopage/.venv_demo/lib/python3.12/site-packages/manim/scene/scene.py#1044\u001b\\\u001b[2m1044\u001b[0m\u001b]8;;\u001b\\\n",
       "\u001b[2;36m                    \u001b[0m         seconds, is too short for the current frame rate of \u001b[32m60\u001b[0m FPS. \u001b[1;33mRendering\u001b[0m    \u001b[2m             \u001b[0m\n",
       "\u001b[2;36m                    \u001b[0m         with the shortest possible total run_time of \u001b[32m0.0166667\u001b[0m seconds instead.  \u001b[2m             \u001b[0m\n"
      ]
     },
     "metadata": {},
     "output_type": "display_data"
    },
    {
     "data": {
      "text/html": [
       "<pre style=\"white-space:pre;overflow-x:auto;line-height:normal;font-family:Menlo,'DejaVu Sans Mono',consolas,'Courier New',monospace\"><span style=\"color: #7fbfbf; text-decoration-color: #7fbfbf\">                    </span><span style=\"color: #800000; text-decoration-color: #800000\">WARNING </span> The original total run_time of <span style=\"color: #800080; text-decoration-color: #800080; font-weight: bold\">integration_index_Scene.play</span><span style=\"font-weight: bold\">()</span>, <span style=\"color: #008000; text-decoration-color: #008000\">0.0119048</span> <a href=\"file:///home/carlo/Desktop/single-projects/manim-demopage/.venv_demo/lib/python3.12/site-packages/manim/scene/scene.py\" target=\"_blank\"><span style=\"color: #7f7f7f; text-decoration-color: #7f7f7f\">scene.py</span></a><span style=\"color: #7f7f7f; text-decoration-color: #7f7f7f\">:</span><a href=\"file:///home/carlo/Desktop/single-projects/manim-demopage/.venv_demo/lib/python3.12/site-packages/manim/scene/scene.py#1044\" target=\"_blank\"><span style=\"color: #7f7f7f; text-decoration-color: #7f7f7f\">1044</span></a>\n",
       "<span style=\"color: #7fbfbf; text-decoration-color: #7fbfbf\">                    </span>         seconds, is too short for the current frame rate of <span style=\"color: #008000; text-decoration-color: #008000\">60</span> FPS. <span style=\"color: #808000; text-decoration-color: #808000; font-weight: bold\">Rendering</span>    <span style=\"color: #7f7f7f; text-decoration-color: #7f7f7f\">             </span>\n",
       "<span style=\"color: #7fbfbf; text-decoration-color: #7fbfbf\">                    </span>         with the shortest possible total run_time of <span style=\"color: #008000; text-decoration-color: #008000\">0.0166667</span> seconds instead.  <span style=\"color: #7f7f7f; text-decoration-color: #7f7f7f\">             </span>\n",
       "</pre>\n"
      ],
      "text/plain": [
       "\u001b[2;36m                   \u001b[0m\u001b[2;36m \u001b[0m\u001b[31mWARNING \u001b[0m The original total run_time of \u001b[1;35mintegration_index_Scene.play\u001b[0m\u001b[1m(\u001b[0m\u001b[1m)\u001b[0m, \u001b[32m0.0119048\u001b[0m \u001b]8;id=618708;file:///home/carlo/Desktop/single-projects/manim-demopage/.venv_demo/lib/python3.12/site-packages/manim/scene/scene.py\u001b\\\u001b[2mscene.py\u001b[0m\u001b]8;;\u001b\\\u001b[2m:\u001b[0m\u001b]8;id=878517;file:///home/carlo/Desktop/single-projects/manim-demopage/.venv_demo/lib/python3.12/site-packages/manim/scene/scene.py#1044\u001b\\\u001b[2m1044\u001b[0m\u001b]8;;\u001b\\\n",
       "\u001b[2;36m                    \u001b[0m         seconds, is too short for the current frame rate of \u001b[32m60\u001b[0m FPS. \u001b[1;33mRendering\u001b[0m    \u001b[2m             \u001b[0m\n",
       "\u001b[2;36m                    \u001b[0m         with the shortest possible total run_time of \u001b[32m0.0166667\u001b[0m seconds instead.  \u001b[2m             \u001b[0m\n"
      ]
     },
     "metadata": {},
     "output_type": "display_data"
    },
    {
     "data": {
      "text/html": [
       "<pre style=\"white-space:pre;overflow-x:auto;line-height:normal;font-family:Menlo,'DejaVu Sans Mono',consolas,'Courier New',monospace\"><span style=\"color: #7fbfbf; text-decoration-color: #7fbfbf\">                    </span><span style=\"color: #800000; text-decoration-color: #800000\">WARNING </span> The original total run_time of <span style=\"color: #800080; text-decoration-color: #800080; font-weight: bold\">integration_index_Scene.play</span><span style=\"font-weight: bold\">()</span>, <span style=\"color: #008000; text-decoration-color: #008000\">0.0119048</span> <a href=\"file:///home/carlo/Desktop/single-projects/manim-demopage/.venv_demo/lib/python3.12/site-packages/manim/scene/scene.py\" target=\"_blank\"><span style=\"color: #7f7f7f; text-decoration-color: #7f7f7f\">scene.py</span></a><span style=\"color: #7f7f7f; text-decoration-color: #7f7f7f\">:</span><a href=\"file:///home/carlo/Desktop/single-projects/manim-demopage/.venv_demo/lib/python3.12/site-packages/manim/scene/scene.py#1044\" target=\"_blank\"><span style=\"color: #7f7f7f; text-decoration-color: #7f7f7f\">1044</span></a>\n",
       "<span style=\"color: #7fbfbf; text-decoration-color: #7fbfbf\">                    </span>         seconds, is too short for the current frame rate of <span style=\"color: #008000; text-decoration-color: #008000\">60</span> FPS. <span style=\"color: #808000; text-decoration-color: #808000; font-weight: bold\">Rendering</span>    <span style=\"color: #7f7f7f; text-decoration-color: #7f7f7f\">             </span>\n",
       "<span style=\"color: #7fbfbf; text-decoration-color: #7fbfbf\">                    </span>         with the shortest possible total run_time of <span style=\"color: #008000; text-decoration-color: #008000\">0.0166667</span> seconds instead.  <span style=\"color: #7f7f7f; text-decoration-color: #7f7f7f\">             </span>\n",
       "</pre>\n"
      ],
      "text/plain": [
       "\u001b[2;36m                   \u001b[0m\u001b[2;36m \u001b[0m\u001b[31mWARNING \u001b[0m The original total run_time of \u001b[1;35mintegration_index_Scene.play\u001b[0m\u001b[1m(\u001b[0m\u001b[1m)\u001b[0m, \u001b[32m0.0119048\u001b[0m \u001b]8;id=210891;file:///home/carlo/Desktop/single-projects/manim-demopage/.venv_demo/lib/python3.12/site-packages/manim/scene/scene.py\u001b\\\u001b[2mscene.py\u001b[0m\u001b]8;;\u001b\\\u001b[2m:\u001b[0m\u001b]8;id=974030;file:///home/carlo/Desktop/single-projects/manim-demopage/.venv_demo/lib/python3.12/site-packages/manim/scene/scene.py#1044\u001b\\\u001b[2m1044\u001b[0m\u001b]8;;\u001b\\\n",
       "\u001b[2;36m                    \u001b[0m         seconds, is too short for the current frame rate of \u001b[32m60\u001b[0m FPS. \u001b[1;33mRendering\u001b[0m    \u001b[2m             \u001b[0m\n",
       "\u001b[2;36m                    \u001b[0m         with the shortest possible total run_time of \u001b[32m0.0166667\u001b[0m seconds instead.  \u001b[2m             \u001b[0m\n"
      ]
     },
     "metadata": {},
     "output_type": "display_data"
    },
    {
     "data": {
      "text/html": [
       "<pre style=\"white-space:pre;overflow-x:auto;line-height:normal;font-family:Menlo,'DejaVu Sans Mono',consolas,'Courier New',monospace\"><span style=\"color: #7fbfbf; text-decoration-color: #7fbfbf\">                    </span><span style=\"color: #800000; text-decoration-color: #800000\">WARNING </span> The original total run_time of <span style=\"color: #800080; text-decoration-color: #800080; font-weight: bold\">integration_index_Scene.play</span><span style=\"font-weight: bold\">()</span>, <span style=\"color: #008000; text-decoration-color: #008000\">0.0118343</span> <a href=\"file:///home/carlo/Desktop/single-projects/manim-demopage/.venv_demo/lib/python3.12/site-packages/manim/scene/scene.py\" target=\"_blank\"><span style=\"color: #7f7f7f; text-decoration-color: #7f7f7f\">scene.py</span></a><span style=\"color: #7f7f7f; text-decoration-color: #7f7f7f\">:</span><a href=\"file:///home/carlo/Desktop/single-projects/manim-demopage/.venv_demo/lib/python3.12/site-packages/manim/scene/scene.py#1044\" target=\"_blank\"><span style=\"color: #7f7f7f; text-decoration-color: #7f7f7f\">1044</span></a>\n",
       "<span style=\"color: #7fbfbf; text-decoration-color: #7fbfbf\">                    </span>         seconds, is too short for the current frame rate of <span style=\"color: #008000; text-decoration-color: #008000\">60</span> FPS. <span style=\"color: #808000; text-decoration-color: #808000; font-weight: bold\">Rendering</span>    <span style=\"color: #7f7f7f; text-decoration-color: #7f7f7f\">             </span>\n",
       "<span style=\"color: #7fbfbf; text-decoration-color: #7fbfbf\">                    </span>         with the shortest possible total run_time of <span style=\"color: #008000; text-decoration-color: #008000\">0.0166667</span> seconds instead.  <span style=\"color: #7f7f7f; text-decoration-color: #7f7f7f\">             </span>\n",
       "</pre>\n"
      ],
      "text/plain": [
       "\u001b[2;36m                   \u001b[0m\u001b[2;36m \u001b[0m\u001b[31mWARNING \u001b[0m The original total run_time of \u001b[1;35mintegration_index_Scene.play\u001b[0m\u001b[1m(\u001b[0m\u001b[1m)\u001b[0m, \u001b[32m0.0118343\u001b[0m \u001b]8;id=833509;file:///home/carlo/Desktop/single-projects/manim-demopage/.venv_demo/lib/python3.12/site-packages/manim/scene/scene.py\u001b\\\u001b[2mscene.py\u001b[0m\u001b]8;;\u001b\\\u001b[2m:\u001b[0m\u001b]8;id=843037;file:///home/carlo/Desktop/single-projects/manim-demopage/.venv_demo/lib/python3.12/site-packages/manim/scene/scene.py#1044\u001b\\\u001b[2m1044\u001b[0m\u001b]8;;\u001b\\\n",
       "\u001b[2;36m                    \u001b[0m         seconds, is too short for the current frame rate of \u001b[32m60\u001b[0m FPS. \u001b[1;33mRendering\u001b[0m    \u001b[2m             \u001b[0m\n",
       "\u001b[2;36m                    \u001b[0m         with the shortest possible total run_time of \u001b[32m0.0166667\u001b[0m seconds instead.  \u001b[2m             \u001b[0m\n"
      ]
     },
     "metadata": {},
     "output_type": "display_data"
    },
    {
     "data": {
      "text/html": [
       "<pre style=\"white-space:pre;overflow-x:auto;line-height:normal;font-family:Menlo,'DejaVu Sans Mono',consolas,'Courier New',monospace\"><span style=\"color: #7fbfbf; text-decoration-color: #7fbfbf\">                    </span><span style=\"color: #800000; text-decoration-color: #800000\">WARNING </span> The original total run_time of <span style=\"color: #800080; text-decoration-color: #800080; font-weight: bold\">integration_index_Scene.play</span><span style=\"font-weight: bold\">()</span>, <span style=\"color: #008000; text-decoration-color: #008000\">0.0118343</span> <a href=\"file:///home/carlo/Desktop/single-projects/manim-demopage/.venv_demo/lib/python3.12/site-packages/manim/scene/scene.py\" target=\"_blank\"><span style=\"color: #7f7f7f; text-decoration-color: #7f7f7f\">scene.py</span></a><span style=\"color: #7f7f7f; text-decoration-color: #7f7f7f\">:</span><a href=\"file:///home/carlo/Desktop/single-projects/manim-demopage/.venv_demo/lib/python3.12/site-packages/manim/scene/scene.py#1044\" target=\"_blank\"><span style=\"color: #7f7f7f; text-decoration-color: #7f7f7f\">1044</span></a>\n",
       "<span style=\"color: #7fbfbf; text-decoration-color: #7fbfbf\">                    </span>         seconds, is too short for the current frame rate of <span style=\"color: #008000; text-decoration-color: #008000\">60</span> FPS. <span style=\"color: #808000; text-decoration-color: #808000; font-weight: bold\">Rendering</span>    <span style=\"color: #7f7f7f; text-decoration-color: #7f7f7f\">             </span>\n",
       "<span style=\"color: #7fbfbf; text-decoration-color: #7fbfbf\">                    </span>         with the shortest possible total run_time of <span style=\"color: #008000; text-decoration-color: #008000\">0.0166667</span> seconds instead.  <span style=\"color: #7f7f7f; text-decoration-color: #7f7f7f\">             </span>\n",
       "</pre>\n"
      ],
      "text/plain": [
       "\u001b[2;36m                   \u001b[0m\u001b[2;36m \u001b[0m\u001b[31mWARNING \u001b[0m The original total run_time of \u001b[1;35mintegration_index_Scene.play\u001b[0m\u001b[1m(\u001b[0m\u001b[1m)\u001b[0m, \u001b[32m0.0118343\u001b[0m \u001b]8;id=374523;file:///home/carlo/Desktop/single-projects/manim-demopage/.venv_demo/lib/python3.12/site-packages/manim/scene/scene.py\u001b\\\u001b[2mscene.py\u001b[0m\u001b]8;;\u001b\\\u001b[2m:\u001b[0m\u001b]8;id=696749;file:///home/carlo/Desktop/single-projects/manim-demopage/.venv_demo/lib/python3.12/site-packages/manim/scene/scene.py#1044\u001b\\\u001b[2m1044\u001b[0m\u001b]8;;\u001b\\\n",
       "\u001b[2;36m                    \u001b[0m         seconds, is too short for the current frame rate of \u001b[32m60\u001b[0m FPS. \u001b[1;33mRendering\u001b[0m    \u001b[2m             \u001b[0m\n",
       "\u001b[2;36m                    \u001b[0m         with the shortest possible total run_time of \u001b[32m0.0166667\u001b[0m seconds instead.  \u001b[2m             \u001b[0m\n"
      ]
     },
     "metadata": {},
     "output_type": "display_data"
    },
    {
     "data": {
      "text/html": [
       "<pre style=\"white-space:pre;overflow-x:auto;line-height:normal;font-family:Menlo,'DejaVu Sans Mono',consolas,'Courier New',monospace\"><span style=\"color: #7fbfbf; text-decoration-color: #7fbfbf\">                    </span><span style=\"color: #800000; text-decoration-color: #800000\">WARNING </span> The original total run_time of <span style=\"color: #800080; text-decoration-color: #800080; font-weight: bold\">integration_index_Scene.play</span><span style=\"font-weight: bold\">()</span>, <span style=\"color: #008000; text-decoration-color: #008000\">0.0117647</span> <a href=\"file:///home/carlo/Desktop/single-projects/manim-demopage/.venv_demo/lib/python3.12/site-packages/manim/scene/scene.py\" target=\"_blank\"><span style=\"color: #7f7f7f; text-decoration-color: #7f7f7f\">scene.py</span></a><span style=\"color: #7f7f7f; text-decoration-color: #7f7f7f\">:</span><a href=\"file:///home/carlo/Desktop/single-projects/manim-demopage/.venv_demo/lib/python3.12/site-packages/manim/scene/scene.py#1044\" target=\"_blank\"><span style=\"color: #7f7f7f; text-decoration-color: #7f7f7f\">1044</span></a>\n",
       "<span style=\"color: #7fbfbf; text-decoration-color: #7fbfbf\">                    </span>         seconds, is too short for the current frame rate of <span style=\"color: #008000; text-decoration-color: #008000\">60</span> FPS. <span style=\"color: #808000; text-decoration-color: #808000; font-weight: bold\">Rendering</span>    <span style=\"color: #7f7f7f; text-decoration-color: #7f7f7f\">             </span>\n",
       "<span style=\"color: #7fbfbf; text-decoration-color: #7fbfbf\">                    </span>         with the shortest possible total run_time of <span style=\"color: #008000; text-decoration-color: #008000\">0.0166667</span> seconds instead.  <span style=\"color: #7f7f7f; text-decoration-color: #7f7f7f\">             </span>\n",
       "</pre>\n"
      ],
      "text/plain": [
       "\u001b[2;36m                   \u001b[0m\u001b[2;36m \u001b[0m\u001b[31mWARNING \u001b[0m The original total run_time of \u001b[1;35mintegration_index_Scene.play\u001b[0m\u001b[1m(\u001b[0m\u001b[1m)\u001b[0m, \u001b[32m0.0117647\u001b[0m \u001b]8;id=875140;file:///home/carlo/Desktop/single-projects/manim-demopage/.venv_demo/lib/python3.12/site-packages/manim/scene/scene.py\u001b\\\u001b[2mscene.py\u001b[0m\u001b]8;;\u001b\\\u001b[2m:\u001b[0m\u001b]8;id=657842;file:///home/carlo/Desktop/single-projects/manim-demopage/.venv_demo/lib/python3.12/site-packages/manim/scene/scene.py#1044\u001b\\\u001b[2m1044\u001b[0m\u001b]8;;\u001b\\\n",
       "\u001b[2;36m                    \u001b[0m         seconds, is too short for the current frame rate of \u001b[32m60\u001b[0m FPS. \u001b[1;33mRendering\u001b[0m    \u001b[2m             \u001b[0m\n",
       "\u001b[2;36m                    \u001b[0m         with the shortest possible total run_time of \u001b[32m0.0166667\u001b[0m seconds instead.  \u001b[2m             \u001b[0m\n"
      ]
     },
     "metadata": {},
     "output_type": "display_data"
    },
    {
     "data": {
      "text/html": [
       "<pre style=\"white-space:pre;overflow-x:auto;line-height:normal;font-family:Menlo,'DejaVu Sans Mono',consolas,'Courier New',monospace\"><span style=\"color: #7fbfbf; text-decoration-color: #7fbfbf\">                    </span><span style=\"color: #800000; text-decoration-color: #800000\">WARNING </span> The original total run_time of <span style=\"color: #800080; text-decoration-color: #800080; font-weight: bold\">integration_index_Scene.play</span><span style=\"font-weight: bold\">()</span>, <span style=\"color: #008000; text-decoration-color: #008000\">0.0117647</span> <a href=\"file:///home/carlo/Desktop/single-projects/manim-demopage/.venv_demo/lib/python3.12/site-packages/manim/scene/scene.py\" target=\"_blank\"><span style=\"color: #7f7f7f; text-decoration-color: #7f7f7f\">scene.py</span></a><span style=\"color: #7f7f7f; text-decoration-color: #7f7f7f\">:</span><a href=\"file:///home/carlo/Desktop/single-projects/manim-demopage/.venv_demo/lib/python3.12/site-packages/manim/scene/scene.py#1044\" target=\"_blank\"><span style=\"color: #7f7f7f; text-decoration-color: #7f7f7f\">1044</span></a>\n",
       "<span style=\"color: #7fbfbf; text-decoration-color: #7fbfbf\">                    </span>         seconds, is too short for the current frame rate of <span style=\"color: #008000; text-decoration-color: #008000\">60</span> FPS. <span style=\"color: #808000; text-decoration-color: #808000; font-weight: bold\">Rendering</span>    <span style=\"color: #7f7f7f; text-decoration-color: #7f7f7f\">             </span>\n",
       "<span style=\"color: #7fbfbf; text-decoration-color: #7fbfbf\">                    </span>         with the shortest possible total run_time of <span style=\"color: #008000; text-decoration-color: #008000\">0.0166667</span> seconds instead.  <span style=\"color: #7f7f7f; text-decoration-color: #7f7f7f\">             </span>\n",
       "</pre>\n"
      ],
      "text/plain": [
       "\u001b[2;36m                   \u001b[0m\u001b[2;36m \u001b[0m\u001b[31mWARNING \u001b[0m The original total run_time of \u001b[1;35mintegration_index_Scene.play\u001b[0m\u001b[1m(\u001b[0m\u001b[1m)\u001b[0m, \u001b[32m0.0117647\u001b[0m \u001b]8;id=329399;file:///home/carlo/Desktop/single-projects/manim-demopage/.venv_demo/lib/python3.12/site-packages/manim/scene/scene.py\u001b\\\u001b[2mscene.py\u001b[0m\u001b]8;;\u001b\\\u001b[2m:\u001b[0m\u001b]8;id=262803;file:///home/carlo/Desktop/single-projects/manim-demopage/.venv_demo/lib/python3.12/site-packages/manim/scene/scene.py#1044\u001b\\\u001b[2m1044\u001b[0m\u001b]8;;\u001b\\\n",
       "\u001b[2;36m                    \u001b[0m         seconds, is too short for the current frame rate of \u001b[32m60\u001b[0m FPS. \u001b[1;33mRendering\u001b[0m    \u001b[2m             \u001b[0m\n",
       "\u001b[2;36m                    \u001b[0m         with the shortest possible total run_time of \u001b[32m0.0166667\u001b[0m seconds instead.  \u001b[2m             \u001b[0m\n"
      ]
     },
     "metadata": {},
     "output_type": "display_data"
    },
    {
     "data": {
      "text/html": [
       "<pre style=\"white-space:pre;overflow-x:auto;line-height:normal;font-family:Menlo,'DejaVu Sans Mono',consolas,'Courier New',monospace\"><span style=\"color: #7fbfbf; text-decoration-color: #7fbfbf\">                    </span><span style=\"color: #800000; text-decoration-color: #800000\">WARNING </span> The original total run_time of <span style=\"color: #800080; text-decoration-color: #800080; font-weight: bold\">integration_index_Scene.play</span><span style=\"font-weight: bold\">()</span>, <span style=\"color: #008000; text-decoration-color: #008000\">0.0116959</span> <a href=\"file:///home/carlo/Desktop/single-projects/manim-demopage/.venv_demo/lib/python3.12/site-packages/manim/scene/scene.py\" target=\"_blank\"><span style=\"color: #7f7f7f; text-decoration-color: #7f7f7f\">scene.py</span></a><span style=\"color: #7f7f7f; text-decoration-color: #7f7f7f\">:</span><a href=\"file:///home/carlo/Desktop/single-projects/manim-demopage/.venv_demo/lib/python3.12/site-packages/manim/scene/scene.py#1044\" target=\"_blank\"><span style=\"color: #7f7f7f; text-decoration-color: #7f7f7f\">1044</span></a>\n",
       "<span style=\"color: #7fbfbf; text-decoration-color: #7fbfbf\">                    </span>         seconds, is too short for the current frame rate of <span style=\"color: #008000; text-decoration-color: #008000\">60</span> FPS. <span style=\"color: #808000; text-decoration-color: #808000; font-weight: bold\">Rendering</span>    <span style=\"color: #7f7f7f; text-decoration-color: #7f7f7f\">             </span>\n",
       "<span style=\"color: #7fbfbf; text-decoration-color: #7fbfbf\">                    </span>         with the shortest possible total run_time of <span style=\"color: #008000; text-decoration-color: #008000\">0.0166667</span> seconds instead.  <span style=\"color: #7f7f7f; text-decoration-color: #7f7f7f\">             </span>\n",
       "</pre>\n"
      ],
      "text/plain": [
       "\u001b[2;36m                   \u001b[0m\u001b[2;36m \u001b[0m\u001b[31mWARNING \u001b[0m The original total run_time of \u001b[1;35mintegration_index_Scene.play\u001b[0m\u001b[1m(\u001b[0m\u001b[1m)\u001b[0m, \u001b[32m0.0116959\u001b[0m \u001b]8;id=886304;file:///home/carlo/Desktop/single-projects/manim-demopage/.venv_demo/lib/python3.12/site-packages/manim/scene/scene.py\u001b\\\u001b[2mscene.py\u001b[0m\u001b]8;;\u001b\\\u001b[2m:\u001b[0m\u001b]8;id=746169;file:///home/carlo/Desktop/single-projects/manim-demopage/.venv_demo/lib/python3.12/site-packages/manim/scene/scene.py#1044\u001b\\\u001b[2m1044\u001b[0m\u001b]8;;\u001b\\\n",
       "\u001b[2;36m                    \u001b[0m         seconds, is too short for the current frame rate of \u001b[32m60\u001b[0m FPS. \u001b[1;33mRendering\u001b[0m    \u001b[2m             \u001b[0m\n",
       "\u001b[2;36m                    \u001b[0m         with the shortest possible total run_time of \u001b[32m0.0166667\u001b[0m seconds instead.  \u001b[2m             \u001b[0m\n"
      ]
     },
     "metadata": {},
     "output_type": "display_data"
    },
    {
     "data": {
      "text/html": [
       "<pre style=\"white-space:pre;overflow-x:auto;line-height:normal;font-family:Menlo,'DejaVu Sans Mono',consolas,'Courier New',monospace\"><span style=\"color: #7fbfbf; text-decoration-color: #7fbfbf\">                    </span><span style=\"color: #800000; text-decoration-color: #800000\">WARNING </span> The original total run_time of <span style=\"color: #800080; text-decoration-color: #800080; font-weight: bold\">integration_index_Scene.play</span><span style=\"font-weight: bold\">()</span>, <span style=\"color: #008000; text-decoration-color: #008000\">0.0116959</span> <a href=\"file:///home/carlo/Desktop/single-projects/manim-demopage/.venv_demo/lib/python3.12/site-packages/manim/scene/scene.py\" target=\"_blank\"><span style=\"color: #7f7f7f; text-decoration-color: #7f7f7f\">scene.py</span></a><span style=\"color: #7f7f7f; text-decoration-color: #7f7f7f\">:</span><a href=\"file:///home/carlo/Desktop/single-projects/manim-demopage/.venv_demo/lib/python3.12/site-packages/manim/scene/scene.py#1044\" target=\"_blank\"><span style=\"color: #7f7f7f; text-decoration-color: #7f7f7f\">1044</span></a>\n",
       "<span style=\"color: #7fbfbf; text-decoration-color: #7fbfbf\">                    </span>         seconds, is too short for the current frame rate of <span style=\"color: #008000; text-decoration-color: #008000\">60</span> FPS. <span style=\"color: #808000; text-decoration-color: #808000; font-weight: bold\">Rendering</span>    <span style=\"color: #7f7f7f; text-decoration-color: #7f7f7f\">             </span>\n",
       "<span style=\"color: #7fbfbf; text-decoration-color: #7fbfbf\">                    </span>         with the shortest possible total run_time of <span style=\"color: #008000; text-decoration-color: #008000\">0.0166667</span> seconds instead.  <span style=\"color: #7f7f7f; text-decoration-color: #7f7f7f\">             </span>\n",
       "</pre>\n"
      ],
      "text/plain": [
       "\u001b[2;36m                   \u001b[0m\u001b[2;36m \u001b[0m\u001b[31mWARNING \u001b[0m The original total run_time of \u001b[1;35mintegration_index_Scene.play\u001b[0m\u001b[1m(\u001b[0m\u001b[1m)\u001b[0m, \u001b[32m0.0116959\u001b[0m \u001b]8;id=940425;file:///home/carlo/Desktop/single-projects/manim-demopage/.venv_demo/lib/python3.12/site-packages/manim/scene/scene.py\u001b\\\u001b[2mscene.py\u001b[0m\u001b]8;;\u001b\\\u001b[2m:\u001b[0m\u001b]8;id=796133;file:///home/carlo/Desktop/single-projects/manim-demopage/.venv_demo/lib/python3.12/site-packages/manim/scene/scene.py#1044\u001b\\\u001b[2m1044\u001b[0m\u001b]8;;\u001b\\\n",
       "\u001b[2;36m                    \u001b[0m         seconds, is too short for the current frame rate of \u001b[32m60\u001b[0m FPS. \u001b[1;33mRendering\u001b[0m    \u001b[2m             \u001b[0m\n",
       "\u001b[2;36m                    \u001b[0m         with the shortest possible total run_time of \u001b[32m0.0166667\u001b[0m seconds instead.  \u001b[2m             \u001b[0m\n"
      ]
     },
     "metadata": {},
     "output_type": "display_data"
    },
    {
     "data": {
      "text/html": [
       "<pre style=\"white-space:pre;overflow-x:auto;line-height:normal;font-family:Menlo,'DejaVu Sans Mono',consolas,'Courier New',monospace\"><span style=\"color: #7fbfbf; text-decoration-color: #7fbfbf\">                    </span><span style=\"color: #800000; text-decoration-color: #800000\">WARNING </span> The original total run_time of <span style=\"color: #800080; text-decoration-color: #800080; font-weight: bold\">integration_index_Scene.play</span><span style=\"font-weight: bold\">()</span>, <span style=\"color: #008000; text-decoration-color: #008000\">0.0116279</span> <a href=\"file:///home/carlo/Desktop/single-projects/manim-demopage/.venv_demo/lib/python3.12/site-packages/manim/scene/scene.py\" target=\"_blank\"><span style=\"color: #7f7f7f; text-decoration-color: #7f7f7f\">scene.py</span></a><span style=\"color: #7f7f7f; text-decoration-color: #7f7f7f\">:</span><a href=\"file:///home/carlo/Desktop/single-projects/manim-demopage/.venv_demo/lib/python3.12/site-packages/manim/scene/scene.py#1044\" target=\"_blank\"><span style=\"color: #7f7f7f; text-decoration-color: #7f7f7f\">1044</span></a>\n",
       "<span style=\"color: #7fbfbf; text-decoration-color: #7fbfbf\">                    </span>         seconds, is too short for the current frame rate of <span style=\"color: #008000; text-decoration-color: #008000\">60</span> FPS. <span style=\"color: #808000; text-decoration-color: #808000; font-weight: bold\">Rendering</span>    <span style=\"color: #7f7f7f; text-decoration-color: #7f7f7f\">             </span>\n",
       "<span style=\"color: #7fbfbf; text-decoration-color: #7fbfbf\">                    </span>         with the shortest possible total run_time of <span style=\"color: #008000; text-decoration-color: #008000\">0.0166667</span> seconds instead.  <span style=\"color: #7f7f7f; text-decoration-color: #7f7f7f\">             </span>\n",
       "</pre>\n"
      ],
      "text/plain": [
       "\u001b[2;36m                   \u001b[0m\u001b[2;36m \u001b[0m\u001b[31mWARNING \u001b[0m The original total run_time of \u001b[1;35mintegration_index_Scene.play\u001b[0m\u001b[1m(\u001b[0m\u001b[1m)\u001b[0m, \u001b[32m0.0116279\u001b[0m \u001b]8;id=190276;file:///home/carlo/Desktop/single-projects/manim-demopage/.venv_demo/lib/python3.12/site-packages/manim/scene/scene.py\u001b\\\u001b[2mscene.py\u001b[0m\u001b]8;;\u001b\\\u001b[2m:\u001b[0m\u001b]8;id=843127;file:///home/carlo/Desktop/single-projects/manim-demopage/.venv_demo/lib/python3.12/site-packages/manim/scene/scene.py#1044\u001b\\\u001b[2m1044\u001b[0m\u001b]8;;\u001b\\\n",
       "\u001b[2;36m                    \u001b[0m         seconds, is too short for the current frame rate of \u001b[32m60\u001b[0m FPS. \u001b[1;33mRendering\u001b[0m    \u001b[2m             \u001b[0m\n",
       "\u001b[2;36m                    \u001b[0m         with the shortest possible total run_time of \u001b[32m0.0166667\u001b[0m seconds instead.  \u001b[2m             \u001b[0m\n"
      ]
     },
     "metadata": {},
     "output_type": "display_data"
    },
    {
     "data": {
      "text/html": [
       "<pre style=\"white-space:pre;overflow-x:auto;line-height:normal;font-family:Menlo,'DejaVu Sans Mono',consolas,'Courier New',monospace\"><span style=\"color: #7fbfbf; text-decoration-color: #7fbfbf\">[01/24/25 14:36:22] </span><span style=\"color: #800000; text-decoration-color: #800000\">WARNING </span> The original total run_time of <span style=\"color: #800080; text-decoration-color: #800080; font-weight: bold\">integration_index_Scene.play</span><span style=\"font-weight: bold\">()</span>, <span style=\"color: #008000; text-decoration-color: #008000\">0.0116279</span> <a href=\"file:///home/carlo/Desktop/single-projects/manim-demopage/.venv_demo/lib/python3.12/site-packages/manim/scene/scene.py\" target=\"_blank\"><span style=\"color: #7f7f7f; text-decoration-color: #7f7f7f\">scene.py</span></a><span style=\"color: #7f7f7f; text-decoration-color: #7f7f7f\">:</span><a href=\"file:///home/carlo/Desktop/single-projects/manim-demopage/.venv_demo/lib/python3.12/site-packages/manim/scene/scene.py#1044\" target=\"_blank\"><span style=\"color: #7f7f7f; text-decoration-color: #7f7f7f\">1044</span></a>\n",
       "<span style=\"color: #7fbfbf; text-decoration-color: #7fbfbf\">                    </span>         seconds, is too short for the current frame rate of <span style=\"color: #008000; text-decoration-color: #008000\">60</span> FPS. <span style=\"color: #808000; text-decoration-color: #808000; font-weight: bold\">Rendering</span>    <span style=\"color: #7f7f7f; text-decoration-color: #7f7f7f\">             </span>\n",
       "<span style=\"color: #7fbfbf; text-decoration-color: #7fbfbf\">                    </span>         with the shortest possible total run_time of <span style=\"color: #008000; text-decoration-color: #008000\">0.0166667</span> seconds instead.  <span style=\"color: #7f7f7f; text-decoration-color: #7f7f7f\">             </span>\n",
       "</pre>\n"
      ],
      "text/plain": [
       "\u001b[2;36m[01/24/25 14:36:22]\u001b[0m\u001b[2;36m \u001b[0m\u001b[31mWARNING \u001b[0m The original total run_time of \u001b[1;35mintegration_index_Scene.play\u001b[0m\u001b[1m(\u001b[0m\u001b[1m)\u001b[0m, \u001b[32m0.0116279\u001b[0m \u001b]8;id=365684;file:///home/carlo/Desktop/single-projects/manim-demopage/.venv_demo/lib/python3.12/site-packages/manim/scene/scene.py\u001b\\\u001b[2mscene.py\u001b[0m\u001b]8;;\u001b\\\u001b[2m:\u001b[0m\u001b]8;id=815887;file:///home/carlo/Desktop/single-projects/manim-demopage/.venv_demo/lib/python3.12/site-packages/manim/scene/scene.py#1044\u001b\\\u001b[2m1044\u001b[0m\u001b]8;;\u001b\\\n",
       "\u001b[2;36m                    \u001b[0m         seconds, is too short for the current frame rate of \u001b[32m60\u001b[0m FPS. \u001b[1;33mRendering\u001b[0m    \u001b[2m             \u001b[0m\n",
       "\u001b[2;36m                    \u001b[0m         with the shortest possible total run_time of \u001b[32m0.0166667\u001b[0m seconds instead.  \u001b[2m             \u001b[0m\n"
      ]
     },
     "metadata": {},
     "output_type": "display_data"
    },
    {
     "data": {
      "text/html": [
       "<pre style=\"white-space:pre;overflow-x:auto;line-height:normal;font-family:Menlo,'DejaVu Sans Mono',consolas,'Courier New',monospace\"><span style=\"color: #7fbfbf; text-decoration-color: #7fbfbf\">                    </span><span style=\"color: #800000; text-decoration-color: #800000\">WARNING </span> The original total run_time of <span style=\"color: #800080; text-decoration-color: #800080; font-weight: bold\">integration_index_Scene.play</span><span style=\"font-weight: bold\">()</span>, <span style=\"color: #008000; text-decoration-color: #008000\">0.0115607</span> <a href=\"file:///home/carlo/Desktop/single-projects/manim-demopage/.venv_demo/lib/python3.12/site-packages/manim/scene/scene.py\" target=\"_blank\"><span style=\"color: #7f7f7f; text-decoration-color: #7f7f7f\">scene.py</span></a><span style=\"color: #7f7f7f; text-decoration-color: #7f7f7f\">:</span><a href=\"file:///home/carlo/Desktop/single-projects/manim-demopage/.venv_demo/lib/python3.12/site-packages/manim/scene/scene.py#1044\" target=\"_blank\"><span style=\"color: #7f7f7f; text-decoration-color: #7f7f7f\">1044</span></a>\n",
       "<span style=\"color: #7fbfbf; text-decoration-color: #7fbfbf\">                    </span>         seconds, is too short for the current frame rate of <span style=\"color: #008000; text-decoration-color: #008000\">60</span> FPS. <span style=\"color: #808000; text-decoration-color: #808000; font-weight: bold\">Rendering</span>    <span style=\"color: #7f7f7f; text-decoration-color: #7f7f7f\">             </span>\n",
       "<span style=\"color: #7fbfbf; text-decoration-color: #7fbfbf\">                    </span>         with the shortest possible total run_time of <span style=\"color: #008000; text-decoration-color: #008000\">0.0166667</span> seconds instead.  <span style=\"color: #7f7f7f; text-decoration-color: #7f7f7f\">             </span>\n",
       "</pre>\n"
      ],
      "text/plain": [
       "\u001b[2;36m                   \u001b[0m\u001b[2;36m \u001b[0m\u001b[31mWARNING \u001b[0m The original total run_time of \u001b[1;35mintegration_index_Scene.play\u001b[0m\u001b[1m(\u001b[0m\u001b[1m)\u001b[0m, \u001b[32m0.0115607\u001b[0m \u001b]8;id=107491;file:///home/carlo/Desktop/single-projects/manim-demopage/.venv_demo/lib/python3.12/site-packages/manim/scene/scene.py\u001b\\\u001b[2mscene.py\u001b[0m\u001b]8;;\u001b\\\u001b[2m:\u001b[0m\u001b]8;id=488993;file:///home/carlo/Desktop/single-projects/manim-demopage/.venv_demo/lib/python3.12/site-packages/manim/scene/scene.py#1044\u001b\\\u001b[2m1044\u001b[0m\u001b]8;;\u001b\\\n",
       "\u001b[2;36m                    \u001b[0m         seconds, is too short for the current frame rate of \u001b[32m60\u001b[0m FPS. \u001b[1;33mRendering\u001b[0m    \u001b[2m             \u001b[0m\n",
       "\u001b[2;36m                    \u001b[0m         with the shortest possible total run_time of \u001b[32m0.0166667\u001b[0m seconds instead.  \u001b[2m             \u001b[0m\n"
      ]
     },
     "metadata": {},
     "output_type": "display_data"
    },
    {
     "data": {
      "text/html": [
       "<pre style=\"white-space:pre;overflow-x:auto;line-height:normal;font-family:Menlo,'DejaVu Sans Mono',consolas,'Courier New',monospace\"><span style=\"color: #7fbfbf; text-decoration-color: #7fbfbf\">                    </span><span style=\"color: #800000; text-decoration-color: #800000\">WARNING </span> The original total run_time of <span style=\"color: #800080; text-decoration-color: #800080; font-weight: bold\">integration_index_Scene.play</span><span style=\"font-weight: bold\">()</span>, <span style=\"color: #008000; text-decoration-color: #008000\">0.0115607</span> <a href=\"file:///home/carlo/Desktop/single-projects/manim-demopage/.venv_demo/lib/python3.12/site-packages/manim/scene/scene.py\" target=\"_blank\"><span style=\"color: #7f7f7f; text-decoration-color: #7f7f7f\">scene.py</span></a><span style=\"color: #7f7f7f; text-decoration-color: #7f7f7f\">:</span><a href=\"file:///home/carlo/Desktop/single-projects/manim-demopage/.venv_demo/lib/python3.12/site-packages/manim/scene/scene.py#1044\" target=\"_blank\"><span style=\"color: #7f7f7f; text-decoration-color: #7f7f7f\">1044</span></a>\n",
       "<span style=\"color: #7fbfbf; text-decoration-color: #7fbfbf\">                    </span>         seconds, is too short for the current frame rate of <span style=\"color: #008000; text-decoration-color: #008000\">60</span> FPS. <span style=\"color: #808000; text-decoration-color: #808000; font-weight: bold\">Rendering</span>    <span style=\"color: #7f7f7f; text-decoration-color: #7f7f7f\">             </span>\n",
       "<span style=\"color: #7fbfbf; text-decoration-color: #7fbfbf\">                    </span>         with the shortest possible total run_time of <span style=\"color: #008000; text-decoration-color: #008000\">0.0166667</span> seconds instead.  <span style=\"color: #7f7f7f; text-decoration-color: #7f7f7f\">             </span>\n",
       "</pre>\n"
      ],
      "text/plain": [
       "\u001b[2;36m                   \u001b[0m\u001b[2;36m \u001b[0m\u001b[31mWARNING \u001b[0m The original total run_time of \u001b[1;35mintegration_index_Scene.play\u001b[0m\u001b[1m(\u001b[0m\u001b[1m)\u001b[0m, \u001b[32m0.0115607\u001b[0m \u001b]8;id=885660;file:///home/carlo/Desktop/single-projects/manim-demopage/.venv_demo/lib/python3.12/site-packages/manim/scene/scene.py\u001b\\\u001b[2mscene.py\u001b[0m\u001b]8;;\u001b\\\u001b[2m:\u001b[0m\u001b]8;id=505444;file:///home/carlo/Desktop/single-projects/manim-demopage/.venv_demo/lib/python3.12/site-packages/manim/scene/scene.py#1044\u001b\\\u001b[2m1044\u001b[0m\u001b]8;;\u001b\\\n",
       "\u001b[2;36m                    \u001b[0m         seconds, is too short for the current frame rate of \u001b[32m60\u001b[0m FPS. \u001b[1;33mRendering\u001b[0m    \u001b[2m             \u001b[0m\n",
       "\u001b[2;36m                    \u001b[0m         with the shortest possible total run_time of \u001b[32m0.0166667\u001b[0m seconds instead.  \u001b[2m             \u001b[0m\n"
      ]
     },
     "metadata": {},
     "output_type": "display_data"
    },
    {
     "data": {
      "text/html": [
       "<pre style=\"white-space:pre;overflow-x:auto;line-height:normal;font-family:Menlo,'DejaVu Sans Mono',consolas,'Courier New',monospace\"><span style=\"color: #7fbfbf; text-decoration-color: #7fbfbf\">                    </span><span style=\"color: #800000; text-decoration-color: #800000\">WARNING </span> The original total run_time of <span style=\"color: #800080; text-decoration-color: #800080; font-weight: bold\">integration_index_Scene.play</span><span style=\"font-weight: bold\">()</span>, <span style=\"color: #008000; text-decoration-color: #008000\">0.0114943</span> <a href=\"file:///home/carlo/Desktop/single-projects/manim-demopage/.venv_demo/lib/python3.12/site-packages/manim/scene/scene.py\" target=\"_blank\"><span style=\"color: #7f7f7f; text-decoration-color: #7f7f7f\">scene.py</span></a><span style=\"color: #7f7f7f; text-decoration-color: #7f7f7f\">:</span><a href=\"file:///home/carlo/Desktop/single-projects/manim-demopage/.venv_demo/lib/python3.12/site-packages/manim/scene/scene.py#1044\" target=\"_blank\"><span style=\"color: #7f7f7f; text-decoration-color: #7f7f7f\">1044</span></a>\n",
       "<span style=\"color: #7fbfbf; text-decoration-color: #7fbfbf\">                    </span>         seconds, is too short for the current frame rate of <span style=\"color: #008000; text-decoration-color: #008000\">60</span> FPS. <span style=\"color: #808000; text-decoration-color: #808000; font-weight: bold\">Rendering</span>    <span style=\"color: #7f7f7f; text-decoration-color: #7f7f7f\">             </span>\n",
       "<span style=\"color: #7fbfbf; text-decoration-color: #7fbfbf\">                    </span>         with the shortest possible total run_time of <span style=\"color: #008000; text-decoration-color: #008000\">0.0166667</span> seconds instead.  <span style=\"color: #7f7f7f; text-decoration-color: #7f7f7f\">             </span>\n",
       "</pre>\n"
      ],
      "text/plain": [
       "\u001b[2;36m                   \u001b[0m\u001b[2;36m \u001b[0m\u001b[31mWARNING \u001b[0m The original total run_time of \u001b[1;35mintegration_index_Scene.play\u001b[0m\u001b[1m(\u001b[0m\u001b[1m)\u001b[0m, \u001b[32m0.0114943\u001b[0m \u001b]8;id=738779;file:///home/carlo/Desktop/single-projects/manim-demopage/.venv_demo/lib/python3.12/site-packages/manim/scene/scene.py\u001b\\\u001b[2mscene.py\u001b[0m\u001b]8;;\u001b\\\u001b[2m:\u001b[0m\u001b]8;id=859751;file:///home/carlo/Desktop/single-projects/manim-demopage/.venv_demo/lib/python3.12/site-packages/manim/scene/scene.py#1044\u001b\\\u001b[2m1044\u001b[0m\u001b]8;;\u001b\\\n",
       "\u001b[2;36m                    \u001b[0m         seconds, is too short for the current frame rate of \u001b[32m60\u001b[0m FPS. \u001b[1;33mRendering\u001b[0m    \u001b[2m             \u001b[0m\n",
       "\u001b[2;36m                    \u001b[0m         with the shortest possible total run_time of \u001b[32m0.0166667\u001b[0m seconds instead.  \u001b[2m             \u001b[0m\n"
      ]
     },
     "metadata": {},
     "output_type": "display_data"
    },
    {
     "data": {
      "text/html": [
       "<pre style=\"white-space:pre;overflow-x:auto;line-height:normal;font-family:Menlo,'DejaVu Sans Mono',consolas,'Courier New',monospace\"><span style=\"color: #7fbfbf; text-decoration-color: #7fbfbf\">                    </span><span style=\"color: #800000; text-decoration-color: #800000\">WARNING </span> The original total run_time of <span style=\"color: #800080; text-decoration-color: #800080; font-weight: bold\">integration_index_Scene.play</span><span style=\"font-weight: bold\">()</span>, <span style=\"color: #008000; text-decoration-color: #008000\">0.0114943</span> <a href=\"file:///home/carlo/Desktop/single-projects/manim-demopage/.venv_demo/lib/python3.12/site-packages/manim/scene/scene.py\" target=\"_blank\"><span style=\"color: #7f7f7f; text-decoration-color: #7f7f7f\">scene.py</span></a><span style=\"color: #7f7f7f; text-decoration-color: #7f7f7f\">:</span><a href=\"file:///home/carlo/Desktop/single-projects/manim-demopage/.venv_demo/lib/python3.12/site-packages/manim/scene/scene.py#1044\" target=\"_blank\"><span style=\"color: #7f7f7f; text-decoration-color: #7f7f7f\">1044</span></a>\n",
       "<span style=\"color: #7fbfbf; text-decoration-color: #7fbfbf\">                    </span>         seconds, is too short for the current frame rate of <span style=\"color: #008000; text-decoration-color: #008000\">60</span> FPS. <span style=\"color: #808000; text-decoration-color: #808000; font-weight: bold\">Rendering</span>    <span style=\"color: #7f7f7f; text-decoration-color: #7f7f7f\">             </span>\n",
       "<span style=\"color: #7fbfbf; text-decoration-color: #7fbfbf\">                    </span>         with the shortest possible total run_time of <span style=\"color: #008000; text-decoration-color: #008000\">0.0166667</span> seconds instead.  <span style=\"color: #7f7f7f; text-decoration-color: #7f7f7f\">             </span>\n",
       "</pre>\n"
      ],
      "text/plain": [
       "\u001b[2;36m                   \u001b[0m\u001b[2;36m \u001b[0m\u001b[31mWARNING \u001b[0m The original total run_time of \u001b[1;35mintegration_index_Scene.play\u001b[0m\u001b[1m(\u001b[0m\u001b[1m)\u001b[0m, \u001b[32m0.0114943\u001b[0m \u001b]8;id=319955;file:///home/carlo/Desktop/single-projects/manim-demopage/.venv_demo/lib/python3.12/site-packages/manim/scene/scene.py\u001b\\\u001b[2mscene.py\u001b[0m\u001b]8;;\u001b\\\u001b[2m:\u001b[0m\u001b]8;id=929550;file:///home/carlo/Desktop/single-projects/manim-demopage/.venv_demo/lib/python3.12/site-packages/manim/scene/scene.py#1044\u001b\\\u001b[2m1044\u001b[0m\u001b]8;;\u001b\\\n",
       "\u001b[2;36m                    \u001b[0m         seconds, is too short for the current frame rate of \u001b[32m60\u001b[0m FPS. \u001b[1;33mRendering\u001b[0m    \u001b[2m             \u001b[0m\n",
       "\u001b[2;36m                    \u001b[0m         with the shortest possible total run_time of \u001b[32m0.0166667\u001b[0m seconds instead.  \u001b[2m             \u001b[0m\n"
      ]
     },
     "metadata": {},
     "output_type": "display_data"
    },
    {
     "data": {
      "text/html": [
       "<pre style=\"white-space:pre;overflow-x:auto;line-height:normal;font-family:Menlo,'DejaVu Sans Mono',consolas,'Courier New',monospace\"><span style=\"color: #7fbfbf; text-decoration-color: #7fbfbf\">                    </span><span style=\"color: #800000; text-decoration-color: #800000\">WARNING </span> The original total run_time of <span style=\"color: #800080; text-decoration-color: #800080; font-weight: bold\">integration_index_Scene.play</span><span style=\"font-weight: bold\">()</span>, <span style=\"color: #008000; text-decoration-color: #008000\">0.0114286</span> <a href=\"file:///home/carlo/Desktop/single-projects/manim-demopage/.venv_demo/lib/python3.12/site-packages/manim/scene/scene.py\" target=\"_blank\"><span style=\"color: #7f7f7f; text-decoration-color: #7f7f7f\">scene.py</span></a><span style=\"color: #7f7f7f; text-decoration-color: #7f7f7f\">:</span><a href=\"file:///home/carlo/Desktop/single-projects/manim-demopage/.venv_demo/lib/python3.12/site-packages/manim/scene/scene.py#1044\" target=\"_blank\"><span style=\"color: #7f7f7f; text-decoration-color: #7f7f7f\">1044</span></a>\n",
       "<span style=\"color: #7fbfbf; text-decoration-color: #7fbfbf\">                    </span>         seconds, is too short for the current frame rate of <span style=\"color: #008000; text-decoration-color: #008000\">60</span> FPS. <span style=\"color: #808000; text-decoration-color: #808000; font-weight: bold\">Rendering</span>    <span style=\"color: #7f7f7f; text-decoration-color: #7f7f7f\">             </span>\n",
       "<span style=\"color: #7fbfbf; text-decoration-color: #7fbfbf\">                    </span>         with the shortest possible total run_time of <span style=\"color: #008000; text-decoration-color: #008000\">0.0166667</span> seconds instead.  <span style=\"color: #7f7f7f; text-decoration-color: #7f7f7f\">             </span>\n",
       "</pre>\n"
      ],
      "text/plain": [
       "\u001b[2;36m                   \u001b[0m\u001b[2;36m \u001b[0m\u001b[31mWARNING \u001b[0m The original total run_time of \u001b[1;35mintegration_index_Scene.play\u001b[0m\u001b[1m(\u001b[0m\u001b[1m)\u001b[0m, \u001b[32m0.0114286\u001b[0m \u001b]8;id=342827;file:///home/carlo/Desktop/single-projects/manim-demopage/.venv_demo/lib/python3.12/site-packages/manim/scene/scene.py\u001b\\\u001b[2mscene.py\u001b[0m\u001b]8;;\u001b\\\u001b[2m:\u001b[0m\u001b]8;id=775967;file:///home/carlo/Desktop/single-projects/manim-demopage/.venv_demo/lib/python3.12/site-packages/manim/scene/scene.py#1044\u001b\\\u001b[2m1044\u001b[0m\u001b]8;;\u001b\\\n",
       "\u001b[2;36m                    \u001b[0m         seconds, is too short for the current frame rate of \u001b[32m60\u001b[0m FPS. \u001b[1;33mRendering\u001b[0m    \u001b[2m             \u001b[0m\n",
       "\u001b[2;36m                    \u001b[0m         with the shortest possible total run_time of \u001b[32m0.0166667\u001b[0m seconds instead.  \u001b[2m             \u001b[0m\n"
      ]
     },
     "metadata": {},
     "output_type": "display_data"
    },
    {
     "data": {
      "text/html": [
       "<pre style=\"white-space:pre;overflow-x:auto;line-height:normal;font-family:Menlo,'DejaVu Sans Mono',consolas,'Courier New',monospace\"><span style=\"color: #7fbfbf; text-decoration-color: #7fbfbf\">                    </span><span style=\"color: #800000; text-decoration-color: #800000\">WARNING </span> The original total run_time of <span style=\"color: #800080; text-decoration-color: #800080; font-weight: bold\">integration_index_Scene.play</span><span style=\"font-weight: bold\">()</span>, <span style=\"color: #008000; text-decoration-color: #008000\">0.0114286</span> <a href=\"file:///home/carlo/Desktop/single-projects/manim-demopage/.venv_demo/lib/python3.12/site-packages/manim/scene/scene.py\" target=\"_blank\"><span style=\"color: #7f7f7f; text-decoration-color: #7f7f7f\">scene.py</span></a><span style=\"color: #7f7f7f; text-decoration-color: #7f7f7f\">:</span><a href=\"file:///home/carlo/Desktop/single-projects/manim-demopage/.venv_demo/lib/python3.12/site-packages/manim/scene/scene.py#1044\" target=\"_blank\"><span style=\"color: #7f7f7f; text-decoration-color: #7f7f7f\">1044</span></a>\n",
       "<span style=\"color: #7fbfbf; text-decoration-color: #7fbfbf\">                    </span>         seconds, is too short for the current frame rate of <span style=\"color: #008000; text-decoration-color: #008000\">60</span> FPS. <span style=\"color: #808000; text-decoration-color: #808000; font-weight: bold\">Rendering</span>    <span style=\"color: #7f7f7f; text-decoration-color: #7f7f7f\">             </span>\n",
       "<span style=\"color: #7fbfbf; text-decoration-color: #7fbfbf\">                    </span>         with the shortest possible total run_time of <span style=\"color: #008000; text-decoration-color: #008000\">0.0166667</span> seconds instead.  <span style=\"color: #7f7f7f; text-decoration-color: #7f7f7f\">             </span>\n",
       "</pre>\n"
      ],
      "text/plain": [
       "\u001b[2;36m                   \u001b[0m\u001b[2;36m \u001b[0m\u001b[31mWARNING \u001b[0m The original total run_time of \u001b[1;35mintegration_index_Scene.play\u001b[0m\u001b[1m(\u001b[0m\u001b[1m)\u001b[0m, \u001b[32m0.0114286\u001b[0m \u001b]8;id=236733;file:///home/carlo/Desktop/single-projects/manim-demopage/.venv_demo/lib/python3.12/site-packages/manim/scene/scene.py\u001b\\\u001b[2mscene.py\u001b[0m\u001b]8;;\u001b\\\u001b[2m:\u001b[0m\u001b]8;id=798783;file:///home/carlo/Desktop/single-projects/manim-demopage/.venv_demo/lib/python3.12/site-packages/manim/scene/scene.py#1044\u001b\\\u001b[2m1044\u001b[0m\u001b]8;;\u001b\\\n",
       "\u001b[2;36m                    \u001b[0m         seconds, is too short for the current frame rate of \u001b[32m60\u001b[0m FPS. \u001b[1;33mRendering\u001b[0m    \u001b[2m             \u001b[0m\n",
       "\u001b[2;36m                    \u001b[0m         with the shortest possible total run_time of \u001b[32m0.0166667\u001b[0m seconds instead.  \u001b[2m             \u001b[0m\n"
      ]
     },
     "metadata": {},
     "output_type": "display_data"
    },
    {
     "data": {
      "text/html": [
       "<pre style=\"white-space:pre;overflow-x:auto;line-height:normal;font-family:Menlo,'DejaVu Sans Mono',consolas,'Courier New',monospace\"><span style=\"color: #7fbfbf; text-decoration-color: #7fbfbf\">                    </span><span style=\"color: #800000; text-decoration-color: #800000\">WARNING </span> The original total run_time of <span style=\"color: #800080; text-decoration-color: #800080; font-weight: bold\">integration_index_Scene.play</span><span style=\"font-weight: bold\">()</span>, <span style=\"color: #008000; text-decoration-color: #008000\">0.0113636</span> <a href=\"file:///home/carlo/Desktop/single-projects/manim-demopage/.venv_demo/lib/python3.12/site-packages/manim/scene/scene.py\" target=\"_blank\"><span style=\"color: #7f7f7f; text-decoration-color: #7f7f7f\">scene.py</span></a><span style=\"color: #7f7f7f; text-decoration-color: #7f7f7f\">:</span><a href=\"file:///home/carlo/Desktop/single-projects/manim-demopage/.venv_demo/lib/python3.12/site-packages/manim/scene/scene.py#1044\" target=\"_blank\"><span style=\"color: #7f7f7f; text-decoration-color: #7f7f7f\">1044</span></a>\n",
       "<span style=\"color: #7fbfbf; text-decoration-color: #7fbfbf\">                    </span>         seconds, is too short for the current frame rate of <span style=\"color: #008000; text-decoration-color: #008000\">60</span> FPS. <span style=\"color: #808000; text-decoration-color: #808000; font-weight: bold\">Rendering</span>    <span style=\"color: #7f7f7f; text-decoration-color: #7f7f7f\">             </span>\n",
       "<span style=\"color: #7fbfbf; text-decoration-color: #7fbfbf\">                    </span>         with the shortest possible total run_time of <span style=\"color: #008000; text-decoration-color: #008000\">0.0166667</span> seconds instead.  <span style=\"color: #7f7f7f; text-decoration-color: #7f7f7f\">             </span>\n",
       "</pre>\n"
      ],
      "text/plain": [
       "\u001b[2;36m                   \u001b[0m\u001b[2;36m \u001b[0m\u001b[31mWARNING \u001b[0m The original total run_time of \u001b[1;35mintegration_index_Scene.play\u001b[0m\u001b[1m(\u001b[0m\u001b[1m)\u001b[0m, \u001b[32m0.0113636\u001b[0m \u001b]8;id=102215;file:///home/carlo/Desktop/single-projects/manim-demopage/.venv_demo/lib/python3.12/site-packages/manim/scene/scene.py\u001b\\\u001b[2mscene.py\u001b[0m\u001b]8;;\u001b\\\u001b[2m:\u001b[0m\u001b]8;id=433095;file:///home/carlo/Desktop/single-projects/manim-demopage/.venv_demo/lib/python3.12/site-packages/manim/scene/scene.py#1044\u001b\\\u001b[2m1044\u001b[0m\u001b]8;;\u001b\\\n",
       "\u001b[2;36m                    \u001b[0m         seconds, is too short for the current frame rate of \u001b[32m60\u001b[0m FPS. \u001b[1;33mRendering\u001b[0m    \u001b[2m             \u001b[0m\n",
       "\u001b[2;36m                    \u001b[0m         with the shortest possible total run_time of \u001b[32m0.0166667\u001b[0m seconds instead.  \u001b[2m             \u001b[0m\n"
      ]
     },
     "metadata": {},
     "output_type": "display_data"
    },
    {
     "data": {
      "text/html": [
       "<pre style=\"white-space:pre;overflow-x:auto;line-height:normal;font-family:Menlo,'DejaVu Sans Mono',consolas,'Courier New',monospace\"><span style=\"color: #7fbfbf; text-decoration-color: #7fbfbf\">                    </span><span style=\"color: #800000; text-decoration-color: #800000\">WARNING </span> The original total run_time of <span style=\"color: #800080; text-decoration-color: #800080; font-weight: bold\">integration_index_Scene.play</span><span style=\"font-weight: bold\">()</span>, <span style=\"color: #008000; text-decoration-color: #008000\">0.0113636</span> <a href=\"file:///home/carlo/Desktop/single-projects/manim-demopage/.venv_demo/lib/python3.12/site-packages/manim/scene/scene.py\" target=\"_blank\"><span style=\"color: #7f7f7f; text-decoration-color: #7f7f7f\">scene.py</span></a><span style=\"color: #7f7f7f; text-decoration-color: #7f7f7f\">:</span><a href=\"file:///home/carlo/Desktop/single-projects/manim-demopage/.venv_demo/lib/python3.12/site-packages/manim/scene/scene.py#1044\" target=\"_blank\"><span style=\"color: #7f7f7f; text-decoration-color: #7f7f7f\">1044</span></a>\n",
       "<span style=\"color: #7fbfbf; text-decoration-color: #7fbfbf\">                    </span>         seconds, is too short for the current frame rate of <span style=\"color: #008000; text-decoration-color: #008000\">60</span> FPS. <span style=\"color: #808000; text-decoration-color: #808000; font-weight: bold\">Rendering</span>    <span style=\"color: #7f7f7f; text-decoration-color: #7f7f7f\">             </span>\n",
       "<span style=\"color: #7fbfbf; text-decoration-color: #7fbfbf\">                    </span>         with the shortest possible total run_time of <span style=\"color: #008000; text-decoration-color: #008000\">0.0166667</span> seconds instead.  <span style=\"color: #7f7f7f; text-decoration-color: #7f7f7f\">             </span>\n",
       "</pre>\n"
      ],
      "text/plain": [
       "\u001b[2;36m                   \u001b[0m\u001b[2;36m \u001b[0m\u001b[31mWARNING \u001b[0m The original total run_time of \u001b[1;35mintegration_index_Scene.play\u001b[0m\u001b[1m(\u001b[0m\u001b[1m)\u001b[0m, \u001b[32m0.0113636\u001b[0m \u001b]8;id=940360;file:///home/carlo/Desktop/single-projects/manim-demopage/.venv_demo/lib/python3.12/site-packages/manim/scene/scene.py\u001b\\\u001b[2mscene.py\u001b[0m\u001b]8;;\u001b\\\u001b[2m:\u001b[0m\u001b]8;id=29162;file:///home/carlo/Desktop/single-projects/manim-demopage/.venv_demo/lib/python3.12/site-packages/manim/scene/scene.py#1044\u001b\\\u001b[2m1044\u001b[0m\u001b]8;;\u001b\\\n",
       "\u001b[2;36m                    \u001b[0m         seconds, is too short for the current frame rate of \u001b[32m60\u001b[0m FPS. \u001b[1;33mRendering\u001b[0m    \u001b[2m             \u001b[0m\n",
       "\u001b[2;36m                    \u001b[0m         with the shortest possible total run_time of \u001b[32m0.0166667\u001b[0m seconds instead.  \u001b[2m             \u001b[0m\n"
      ]
     },
     "metadata": {},
     "output_type": "display_data"
    },
    {
     "data": {
      "text/html": [
       "<pre style=\"white-space:pre;overflow-x:auto;line-height:normal;font-family:Menlo,'DejaVu Sans Mono',consolas,'Courier New',monospace\"><span style=\"color: #7fbfbf; text-decoration-color: #7fbfbf\">                    </span><span style=\"color: #800000; text-decoration-color: #800000\">WARNING </span> The original total run_time of <span style=\"color: #800080; text-decoration-color: #800080; font-weight: bold\">integration_index_Scene.play</span><span style=\"font-weight: bold\">()</span>, <span style=\"color: #008000; text-decoration-color: #008000\">0.0112994</span> <a href=\"file:///home/carlo/Desktop/single-projects/manim-demopage/.venv_demo/lib/python3.12/site-packages/manim/scene/scene.py\" target=\"_blank\"><span style=\"color: #7f7f7f; text-decoration-color: #7f7f7f\">scene.py</span></a><span style=\"color: #7f7f7f; text-decoration-color: #7f7f7f\">:</span><a href=\"file:///home/carlo/Desktop/single-projects/manim-demopage/.venv_demo/lib/python3.12/site-packages/manim/scene/scene.py#1044\" target=\"_blank\"><span style=\"color: #7f7f7f; text-decoration-color: #7f7f7f\">1044</span></a>\n",
       "<span style=\"color: #7fbfbf; text-decoration-color: #7fbfbf\">                    </span>         seconds, is too short for the current frame rate of <span style=\"color: #008000; text-decoration-color: #008000\">60</span> FPS. <span style=\"color: #808000; text-decoration-color: #808000; font-weight: bold\">Rendering</span>    <span style=\"color: #7f7f7f; text-decoration-color: #7f7f7f\">             </span>\n",
       "<span style=\"color: #7fbfbf; text-decoration-color: #7fbfbf\">                    </span>         with the shortest possible total run_time of <span style=\"color: #008000; text-decoration-color: #008000\">0.0166667</span> seconds instead.  <span style=\"color: #7f7f7f; text-decoration-color: #7f7f7f\">             </span>\n",
       "</pre>\n"
      ],
      "text/plain": [
       "\u001b[2;36m                   \u001b[0m\u001b[2;36m \u001b[0m\u001b[31mWARNING \u001b[0m The original total run_time of \u001b[1;35mintegration_index_Scene.play\u001b[0m\u001b[1m(\u001b[0m\u001b[1m)\u001b[0m, \u001b[32m0.0112994\u001b[0m \u001b]8;id=61078;file:///home/carlo/Desktop/single-projects/manim-demopage/.venv_demo/lib/python3.12/site-packages/manim/scene/scene.py\u001b\\\u001b[2mscene.py\u001b[0m\u001b]8;;\u001b\\\u001b[2m:\u001b[0m\u001b]8;id=124611;file:///home/carlo/Desktop/single-projects/manim-demopage/.venv_demo/lib/python3.12/site-packages/manim/scene/scene.py#1044\u001b\\\u001b[2m1044\u001b[0m\u001b]8;;\u001b\\\n",
       "\u001b[2;36m                    \u001b[0m         seconds, is too short for the current frame rate of \u001b[32m60\u001b[0m FPS. \u001b[1;33mRendering\u001b[0m    \u001b[2m             \u001b[0m\n",
       "\u001b[2;36m                    \u001b[0m         with the shortest possible total run_time of \u001b[32m0.0166667\u001b[0m seconds instead.  \u001b[2m             \u001b[0m\n"
      ]
     },
     "metadata": {},
     "output_type": "display_data"
    },
    {
     "data": {
      "text/html": [
       "<pre style=\"white-space:pre;overflow-x:auto;line-height:normal;font-family:Menlo,'DejaVu Sans Mono',consolas,'Courier New',monospace\"><span style=\"color: #7fbfbf; text-decoration-color: #7fbfbf\">                    </span><span style=\"color: #800000; text-decoration-color: #800000\">WARNING </span> The original total run_time of <span style=\"color: #800080; text-decoration-color: #800080; font-weight: bold\">integration_index_Scene.play</span><span style=\"font-weight: bold\">()</span>, <span style=\"color: #008000; text-decoration-color: #008000\">0.0112994</span> <a href=\"file:///home/carlo/Desktop/single-projects/manim-demopage/.venv_demo/lib/python3.12/site-packages/manim/scene/scene.py\" target=\"_blank\"><span style=\"color: #7f7f7f; text-decoration-color: #7f7f7f\">scene.py</span></a><span style=\"color: #7f7f7f; text-decoration-color: #7f7f7f\">:</span><a href=\"file:///home/carlo/Desktop/single-projects/manim-demopage/.venv_demo/lib/python3.12/site-packages/manim/scene/scene.py#1044\" target=\"_blank\"><span style=\"color: #7f7f7f; text-decoration-color: #7f7f7f\">1044</span></a>\n",
       "<span style=\"color: #7fbfbf; text-decoration-color: #7fbfbf\">                    </span>         seconds, is too short for the current frame rate of <span style=\"color: #008000; text-decoration-color: #008000\">60</span> FPS. <span style=\"color: #808000; text-decoration-color: #808000; font-weight: bold\">Rendering</span>    <span style=\"color: #7f7f7f; text-decoration-color: #7f7f7f\">             </span>\n",
       "<span style=\"color: #7fbfbf; text-decoration-color: #7fbfbf\">                    </span>         with the shortest possible total run_time of <span style=\"color: #008000; text-decoration-color: #008000\">0.0166667</span> seconds instead.  <span style=\"color: #7f7f7f; text-decoration-color: #7f7f7f\">             </span>\n",
       "</pre>\n"
      ],
      "text/plain": [
       "\u001b[2;36m                   \u001b[0m\u001b[2;36m \u001b[0m\u001b[31mWARNING \u001b[0m The original total run_time of \u001b[1;35mintegration_index_Scene.play\u001b[0m\u001b[1m(\u001b[0m\u001b[1m)\u001b[0m, \u001b[32m0.0112994\u001b[0m \u001b]8;id=906825;file:///home/carlo/Desktop/single-projects/manim-demopage/.venv_demo/lib/python3.12/site-packages/manim/scene/scene.py\u001b\\\u001b[2mscene.py\u001b[0m\u001b]8;;\u001b\\\u001b[2m:\u001b[0m\u001b]8;id=490899;file:///home/carlo/Desktop/single-projects/manim-demopage/.venv_demo/lib/python3.12/site-packages/manim/scene/scene.py#1044\u001b\\\u001b[2m1044\u001b[0m\u001b]8;;\u001b\\\n",
       "\u001b[2;36m                    \u001b[0m         seconds, is too short for the current frame rate of \u001b[32m60\u001b[0m FPS. \u001b[1;33mRendering\u001b[0m    \u001b[2m             \u001b[0m\n",
       "\u001b[2;36m                    \u001b[0m         with the shortest possible total run_time of \u001b[32m0.0166667\u001b[0m seconds instead.  \u001b[2m             \u001b[0m\n"
      ]
     },
     "metadata": {},
     "output_type": "display_data"
    },
    {
     "data": {
      "text/html": [
       "<pre style=\"white-space:pre;overflow-x:auto;line-height:normal;font-family:Menlo,'DejaVu Sans Mono',consolas,'Courier New',monospace\"><span style=\"color: #7fbfbf; text-decoration-color: #7fbfbf\">[01/24/25 14:36:23] </span><span style=\"color: #800000; text-decoration-color: #800000\">WARNING </span> The original total run_time of <span style=\"color: #800080; text-decoration-color: #800080; font-weight: bold\">integration_index_Scene.play</span><span style=\"font-weight: bold\">()</span>, <span style=\"color: #008000; text-decoration-color: #008000\">0.011236</span>  <a href=\"file:///home/carlo/Desktop/single-projects/manim-demopage/.venv_demo/lib/python3.12/site-packages/manim/scene/scene.py\" target=\"_blank\"><span style=\"color: #7f7f7f; text-decoration-color: #7f7f7f\">scene.py</span></a><span style=\"color: #7f7f7f; text-decoration-color: #7f7f7f\">:</span><a href=\"file:///home/carlo/Desktop/single-projects/manim-demopage/.venv_demo/lib/python3.12/site-packages/manim/scene/scene.py#1044\" target=\"_blank\"><span style=\"color: #7f7f7f; text-decoration-color: #7f7f7f\">1044</span></a>\n",
       "<span style=\"color: #7fbfbf; text-decoration-color: #7fbfbf\">                    </span>         seconds, is too short for the current frame rate of <span style=\"color: #008000; text-decoration-color: #008000\">60</span> FPS. <span style=\"color: #808000; text-decoration-color: #808000; font-weight: bold\">Rendering</span>    <span style=\"color: #7f7f7f; text-decoration-color: #7f7f7f\">             </span>\n",
       "<span style=\"color: #7fbfbf; text-decoration-color: #7fbfbf\">                    </span>         with the shortest possible total run_time of <span style=\"color: #008000; text-decoration-color: #008000\">0.0166667</span> seconds instead.  <span style=\"color: #7f7f7f; text-decoration-color: #7f7f7f\">             </span>\n",
       "</pre>\n"
      ],
      "text/plain": [
       "\u001b[2;36m[01/24/25 14:36:23]\u001b[0m\u001b[2;36m \u001b[0m\u001b[31mWARNING \u001b[0m The original total run_time of \u001b[1;35mintegration_index_Scene.play\u001b[0m\u001b[1m(\u001b[0m\u001b[1m)\u001b[0m, \u001b[32m0.011236\u001b[0m  \u001b]8;id=574566;file:///home/carlo/Desktop/single-projects/manim-demopage/.venv_demo/lib/python3.12/site-packages/manim/scene/scene.py\u001b\\\u001b[2mscene.py\u001b[0m\u001b]8;;\u001b\\\u001b[2m:\u001b[0m\u001b]8;id=418015;file:///home/carlo/Desktop/single-projects/manim-demopage/.venv_demo/lib/python3.12/site-packages/manim/scene/scene.py#1044\u001b\\\u001b[2m1044\u001b[0m\u001b]8;;\u001b\\\n",
       "\u001b[2;36m                    \u001b[0m         seconds, is too short for the current frame rate of \u001b[32m60\u001b[0m FPS. \u001b[1;33mRendering\u001b[0m    \u001b[2m             \u001b[0m\n",
       "\u001b[2;36m                    \u001b[0m         with the shortest possible total run_time of \u001b[32m0.0166667\u001b[0m seconds instead.  \u001b[2m             \u001b[0m\n"
      ]
     },
     "metadata": {},
     "output_type": "display_data"
    },
    {
     "data": {
      "text/html": [
       "<pre style=\"white-space:pre;overflow-x:auto;line-height:normal;font-family:Menlo,'DejaVu Sans Mono',consolas,'Courier New',monospace\"><span style=\"color: #7fbfbf; text-decoration-color: #7fbfbf\">                    </span><span style=\"color: #800000; text-decoration-color: #800000\">WARNING </span> The original total run_time of <span style=\"color: #800080; text-decoration-color: #800080; font-weight: bold\">integration_index_Scene.play</span><span style=\"font-weight: bold\">()</span>, <span style=\"color: #008000; text-decoration-color: #008000\">0.011236</span>  <a href=\"file:///home/carlo/Desktop/single-projects/manim-demopage/.venv_demo/lib/python3.12/site-packages/manim/scene/scene.py\" target=\"_blank\"><span style=\"color: #7f7f7f; text-decoration-color: #7f7f7f\">scene.py</span></a><span style=\"color: #7f7f7f; text-decoration-color: #7f7f7f\">:</span><a href=\"file:///home/carlo/Desktop/single-projects/manim-demopage/.venv_demo/lib/python3.12/site-packages/manim/scene/scene.py#1044\" target=\"_blank\"><span style=\"color: #7f7f7f; text-decoration-color: #7f7f7f\">1044</span></a>\n",
       "<span style=\"color: #7fbfbf; text-decoration-color: #7fbfbf\">                    </span>         seconds, is too short for the current frame rate of <span style=\"color: #008000; text-decoration-color: #008000\">60</span> FPS. <span style=\"color: #808000; text-decoration-color: #808000; font-weight: bold\">Rendering</span>    <span style=\"color: #7f7f7f; text-decoration-color: #7f7f7f\">             </span>\n",
       "<span style=\"color: #7fbfbf; text-decoration-color: #7fbfbf\">                    </span>         with the shortest possible total run_time of <span style=\"color: #008000; text-decoration-color: #008000\">0.0166667</span> seconds instead.  <span style=\"color: #7f7f7f; text-decoration-color: #7f7f7f\">             </span>\n",
       "</pre>\n"
      ],
      "text/plain": [
       "\u001b[2;36m                   \u001b[0m\u001b[2;36m \u001b[0m\u001b[31mWARNING \u001b[0m The original total run_time of \u001b[1;35mintegration_index_Scene.play\u001b[0m\u001b[1m(\u001b[0m\u001b[1m)\u001b[0m, \u001b[32m0.011236\u001b[0m  \u001b]8;id=370336;file:///home/carlo/Desktop/single-projects/manim-demopage/.venv_demo/lib/python3.12/site-packages/manim/scene/scene.py\u001b\\\u001b[2mscene.py\u001b[0m\u001b]8;;\u001b\\\u001b[2m:\u001b[0m\u001b]8;id=286572;file:///home/carlo/Desktop/single-projects/manim-demopage/.venv_demo/lib/python3.12/site-packages/manim/scene/scene.py#1044\u001b\\\u001b[2m1044\u001b[0m\u001b]8;;\u001b\\\n",
       "\u001b[2;36m                    \u001b[0m         seconds, is too short for the current frame rate of \u001b[32m60\u001b[0m FPS. \u001b[1;33mRendering\u001b[0m    \u001b[2m             \u001b[0m\n",
       "\u001b[2;36m                    \u001b[0m         with the shortest possible total run_time of \u001b[32m0.0166667\u001b[0m seconds instead.  \u001b[2m             \u001b[0m\n"
      ]
     },
     "metadata": {},
     "output_type": "display_data"
    },
    {
     "data": {
      "text/html": [
       "<pre style=\"white-space:pre;overflow-x:auto;line-height:normal;font-family:Menlo,'DejaVu Sans Mono',consolas,'Courier New',monospace\"><span style=\"color: #7fbfbf; text-decoration-color: #7fbfbf\">                    </span><span style=\"color: #800000; text-decoration-color: #800000\">WARNING </span> The original total run_time of <span style=\"color: #800080; text-decoration-color: #800080; font-weight: bold\">integration_index_Scene.play</span><span style=\"font-weight: bold\">()</span>, <span style=\"color: #008000; text-decoration-color: #008000\">0.0111732</span> <a href=\"file:///home/carlo/Desktop/single-projects/manim-demopage/.venv_demo/lib/python3.12/site-packages/manim/scene/scene.py\" target=\"_blank\"><span style=\"color: #7f7f7f; text-decoration-color: #7f7f7f\">scene.py</span></a><span style=\"color: #7f7f7f; text-decoration-color: #7f7f7f\">:</span><a href=\"file:///home/carlo/Desktop/single-projects/manim-demopage/.venv_demo/lib/python3.12/site-packages/manim/scene/scene.py#1044\" target=\"_blank\"><span style=\"color: #7f7f7f; text-decoration-color: #7f7f7f\">1044</span></a>\n",
       "<span style=\"color: #7fbfbf; text-decoration-color: #7fbfbf\">                    </span>         seconds, is too short for the current frame rate of <span style=\"color: #008000; text-decoration-color: #008000\">60</span> FPS. <span style=\"color: #808000; text-decoration-color: #808000; font-weight: bold\">Rendering</span>    <span style=\"color: #7f7f7f; text-decoration-color: #7f7f7f\">             </span>\n",
       "<span style=\"color: #7fbfbf; text-decoration-color: #7fbfbf\">                    </span>         with the shortest possible total run_time of <span style=\"color: #008000; text-decoration-color: #008000\">0.0166667</span> seconds instead.  <span style=\"color: #7f7f7f; text-decoration-color: #7f7f7f\">             </span>\n",
       "</pre>\n"
      ],
      "text/plain": [
       "\u001b[2;36m                   \u001b[0m\u001b[2;36m \u001b[0m\u001b[31mWARNING \u001b[0m The original total run_time of \u001b[1;35mintegration_index_Scene.play\u001b[0m\u001b[1m(\u001b[0m\u001b[1m)\u001b[0m, \u001b[32m0.0111732\u001b[0m \u001b]8;id=532709;file:///home/carlo/Desktop/single-projects/manim-demopage/.venv_demo/lib/python3.12/site-packages/manim/scene/scene.py\u001b\\\u001b[2mscene.py\u001b[0m\u001b]8;;\u001b\\\u001b[2m:\u001b[0m\u001b]8;id=382316;file:///home/carlo/Desktop/single-projects/manim-demopage/.venv_demo/lib/python3.12/site-packages/manim/scene/scene.py#1044\u001b\\\u001b[2m1044\u001b[0m\u001b]8;;\u001b\\\n",
       "\u001b[2;36m                    \u001b[0m         seconds, is too short for the current frame rate of \u001b[32m60\u001b[0m FPS. \u001b[1;33mRendering\u001b[0m    \u001b[2m             \u001b[0m\n",
       "\u001b[2;36m                    \u001b[0m         with the shortest possible total run_time of \u001b[32m0.0166667\u001b[0m seconds instead.  \u001b[2m             \u001b[0m\n"
      ]
     },
     "metadata": {},
     "output_type": "display_data"
    },
    {
     "data": {
      "text/html": [
       "<pre style=\"white-space:pre;overflow-x:auto;line-height:normal;font-family:Menlo,'DejaVu Sans Mono',consolas,'Courier New',monospace\"><span style=\"color: #7fbfbf; text-decoration-color: #7fbfbf\">                    </span><span style=\"color: #800000; text-decoration-color: #800000\">WARNING </span> The original total run_time of <span style=\"color: #800080; text-decoration-color: #800080; font-weight: bold\">integration_index_Scene.play</span><span style=\"font-weight: bold\">()</span>, <span style=\"color: #008000; text-decoration-color: #008000\">0.0111732</span> <a href=\"file:///home/carlo/Desktop/single-projects/manim-demopage/.venv_demo/lib/python3.12/site-packages/manim/scene/scene.py\" target=\"_blank\"><span style=\"color: #7f7f7f; text-decoration-color: #7f7f7f\">scene.py</span></a><span style=\"color: #7f7f7f; text-decoration-color: #7f7f7f\">:</span><a href=\"file:///home/carlo/Desktop/single-projects/manim-demopage/.venv_demo/lib/python3.12/site-packages/manim/scene/scene.py#1044\" target=\"_blank\"><span style=\"color: #7f7f7f; text-decoration-color: #7f7f7f\">1044</span></a>\n",
       "<span style=\"color: #7fbfbf; text-decoration-color: #7fbfbf\">                    </span>         seconds, is too short for the current frame rate of <span style=\"color: #008000; text-decoration-color: #008000\">60</span> FPS. <span style=\"color: #808000; text-decoration-color: #808000; font-weight: bold\">Rendering</span>    <span style=\"color: #7f7f7f; text-decoration-color: #7f7f7f\">             </span>\n",
       "<span style=\"color: #7fbfbf; text-decoration-color: #7fbfbf\">                    </span>         with the shortest possible total run_time of <span style=\"color: #008000; text-decoration-color: #008000\">0.0166667</span> seconds instead.  <span style=\"color: #7f7f7f; text-decoration-color: #7f7f7f\">             </span>\n",
       "</pre>\n"
      ],
      "text/plain": [
       "\u001b[2;36m                   \u001b[0m\u001b[2;36m \u001b[0m\u001b[31mWARNING \u001b[0m The original total run_time of \u001b[1;35mintegration_index_Scene.play\u001b[0m\u001b[1m(\u001b[0m\u001b[1m)\u001b[0m, \u001b[32m0.0111732\u001b[0m \u001b]8;id=45531;file:///home/carlo/Desktop/single-projects/manim-demopage/.venv_demo/lib/python3.12/site-packages/manim/scene/scene.py\u001b\\\u001b[2mscene.py\u001b[0m\u001b]8;;\u001b\\\u001b[2m:\u001b[0m\u001b]8;id=645055;file:///home/carlo/Desktop/single-projects/manim-demopage/.venv_demo/lib/python3.12/site-packages/manim/scene/scene.py#1044\u001b\\\u001b[2m1044\u001b[0m\u001b]8;;\u001b\\\n",
       "\u001b[2;36m                    \u001b[0m         seconds, is too short for the current frame rate of \u001b[32m60\u001b[0m FPS. \u001b[1;33mRendering\u001b[0m    \u001b[2m             \u001b[0m\n",
       "\u001b[2;36m                    \u001b[0m         with the shortest possible total run_time of \u001b[32m0.0166667\u001b[0m seconds instead.  \u001b[2m             \u001b[0m\n"
      ]
     },
     "metadata": {},
     "output_type": "display_data"
    },
    {
     "data": {
      "text/html": [
       "<pre style=\"white-space:pre;overflow-x:auto;line-height:normal;font-family:Menlo,'DejaVu Sans Mono',consolas,'Courier New',monospace\"><span style=\"color: #7fbfbf; text-decoration-color: #7fbfbf\">                    </span><span style=\"color: #800000; text-decoration-color: #800000\">WARNING </span> The original total run_time of <span style=\"color: #800080; text-decoration-color: #800080; font-weight: bold\">integration_index_Scene.play</span><span style=\"font-weight: bold\">()</span>, <span style=\"color: #008000; text-decoration-color: #008000\">0.0111111</span> <a href=\"file:///home/carlo/Desktop/single-projects/manim-demopage/.venv_demo/lib/python3.12/site-packages/manim/scene/scene.py\" target=\"_blank\"><span style=\"color: #7f7f7f; text-decoration-color: #7f7f7f\">scene.py</span></a><span style=\"color: #7f7f7f; text-decoration-color: #7f7f7f\">:</span><a href=\"file:///home/carlo/Desktop/single-projects/manim-demopage/.venv_demo/lib/python3.12/site-packages/manim/scene/scene.py#1044\" target=\"_blank\"><span style=\"color: #7f7f7f; text-decoration-color: #7f7f7f\">1044</span></a>\n",
       "<span style=\"color: #7fbfbf; text-decoration-color: #7fbfbf\">                    </span>         seconds, is too short for the current frame rate of <span style=\"color: #008000; text-decoration-color: #008000\">60</span> FPS. <span style=\"color: #808000; text-decoration-color: #808000; font-weight: bold\">Rendering</span>    <span style=\"color: #7f7f7f; text-decoration-color: #7f7f7f\">             </span>\n",
       "<span style=\"color: #7fbfbf; text-decoration-color: #7fbfbf\">                    </span>         with the shortest possible total run_time of <span style=\"color: #008000; text-decoration-color: #008000\">0.0166667</span> seconds instead.  <span style=\"color: #7f7f7f; text-decoration-color: #7f7f7f\">             </span>\n",
       "</pre>\n"
      ],
      "text/plain": [
       "\u001b[2;36m                   \u001b[0m\u001b[2;36m \u001b[0m\u001b[31mWARNING \u001b[0m The original total run_time of \u001b[1;35mintegration_index_Scene.play\u001b[0m\u001b[1m(\u001b[0m\u001b[1m)\u001b[0m, \u001b[32m0.0111111\u001b[0m \u001b]8;id=161203;file:///home/carlo/Desktop/single-projects/manim-demopage/.venv_demo/lib/python3.12/site-packages/manim/scene/scene.py\u001b\\\u001b[2mscene.py\u001b[0m\u001b]8;;\u001b\\\u001b[2m:\u001b[0m\u001b]8;id=568977;file:///home/carlo/Desktop/single-projects/manim-demopage/.venv_demo/lib/python3.12/site-packages/manim/scene/scene.py#1044\u001b\\\u001b[2m1044\u001b[0m\u001b]8;;\u001b\\\n",
       "\u001b[2;36m                    \u001b[0m         seconds, is too short for the current frame rate of \u001b[32m60\u001b[0m FPS. \u001b[1;33mRendering\u001b[0m    \u001b[2m             \u001b[0m\n",
       "\u001b[2;36m                    \u001b[0m         with the shortest possible total run_time of \u001b[32m0.0166667\u001b[0m seconds instead.  \u001b[2m             \u001b[0m\n"
      ]
     },
     "metadata": {},
     "output_type": "display_data"
    },
    {
     "data": {
      "text/html": [
       "<pre style=\"white-space:pre;overflow-x:auto;line-height:normal;font-family:Menlo,'DejaVu Sans Mono',consolas,'Courier New',monospace\"><span style=\"color: #7fbfbf; text-decoration-color: #7fbfbf\">                    </span><span style=\"color: #800000; text-decoration-color: #800000\">WARNING </span> The original total run_time of <span style=\"color: #800080; text-decoration-color: #800080; font-weight: bold\">integration_index_Scene.play</span><span style=\"font-weight: bold\">()</span>, <span style=\"color: #008000; text-decoration-color: #008000\">0.0111111</span> <a href=\"file:///home/carlo/Desktop/single-projects/manim-demopage/.venv_demo/lib/python3.12/site-packages/manim/scene/scene.py\" target=\"_blank\"><span style=\"color: #7f7f7f; text-decoration-color: #7f7f7f\">scene.py</span></a><span style=\"color: #7f7f7f; text-decoration-color: #7f7f7f\">:</span><a href=\"file:///home/carlo/Desktop/single-projects/manim-demopage/.venv_demo/lib/python3.12/site-packages/manim/scene/scene.py#1044\" target=\"_blank\"><span style=\"color: #7f7f7f; text-decoration-color: #7f7f7f\">1044</span></a>\n",
       "<span style=\"color: #7fbfbf; text-decoration-color: #7fbfbf\">                    </span>         seconds, is too short for the current frame rate of <span style=\"color: #008000; text-decoration-color: #008000\">60</span> FPS. <span style=\"color: #808000; text-decoration-color: #808000; font-weight: bold\">Rendering</span>    <span style=\"color: #7f7f7f; text-decoration-color: #7f7f7f\">             </span>\n",
       "<span style=\"color: #7fbfbf; text-decoration-color: #7fbfbf\">                    </span>         with the shortest possible total run_time of <span style=\"color: #008000; text-decoration-color: #008000\">0.0166667</span> seconds instead.  <span style=\"color: #7f7f7f; text-decoration-color: #7f7f7f\">             </span>\n",
       "</pre>\n"
      ],
      "text/plain": [
       "\u001b[2;36m                   \u001b[0m\u001b[2;36m \u001b[0m\u001b[31mWARNING \u001b[0m The original total run_time of \u001b[1;35mintegration_index_Scene.play\u001b[0m\u001b[1m(\u001b[0m\u001b[1m)\u001b[0m, \u001b[32m0.0111111\u001b[0m \u001b]8;id=789141;file:///home/carlo/Desktop/single-projects/manim-demopage/.venv_demo/lib/python3.12/site-packages/manim/scene/scene.py\u001b\\\u001b[2mscene.py\u001b[0m\u001b]8;;\u001b\\\u001b[2m:\u001b[0m\u001b]8;id=584936;file:///home/carlo/Desktop/single-projects/manim-demopage/.venv_demo/lib/python3.12/site-packages/manim/scene/scene.py#1044\u001b\\\u001b[2m1044\u001b[0m\u001b]8;;\u001b\\\n",
       "\u001b[2;36m                    \u001b[0m         seconds, is too short for the current frame rate of \u001b[32m60\u001b[0m FPS. \u001b[1;33mRendering\u001b[0m    \u001b[2m             \u001b[0m\n",
       "\u001b[2;36m                    \u001b[0m         with the shortest possible total run_time of \u001b[32m0.0166667\u001b[0m seconds instead.  \u001b[2m             \u001b[0m\n"
      ]
     },
     "metadata": {},
     "output_type": "display_data"
    },
    {
     "data": {
      "text/html": [
       "<pre style=\"white-space:pre;overflow-x:auto;line-height:normal;font-family:Menlo,'DejaVu Sans Mono',consolas,'Courier New',monospace\"><span style=\"color: #7fbfbf; text-decoration-color: #7fbfbf\">                    </span><span style=\"color: #800000; text-decoration-color: #800000\">WARNING </span> The original total run_time of <span style=\"color: #800080; text-decoration-color: #800080; font-weight: bold\">integration_index_Scene.play</span><span style=\"font-weight: bold\">()</span>, <span style=\"color: #008000; text-decoration-color: #008000\">0.0110497</span> <a href=\"file:///home/carlo/Desktop/single-projects/manim-demopage/.venv_demo/lib/python3.12/site-packages/manim/scene/scene.py\" target=\"_blank\"><span style=\"color: #7f7f7f; text-decoration-color: #7f7f7f\">scene.py</span></a><span style=\"color: #7f7f7f; text-decoration-color: #7f7f7f\">:</span><a href=\"file:///home/carlo/Desktop/single-projects/manim-demopage/.venv_demo/lib/python3.12/site-packages/manim/scene/scene.py#1044\" target=\"_blank\"><span style=\"color: #7f7f7f; text-decoration-color: #7f7f7f\">1044</span></a>\n",
       "<span style=\"color: #7fbfbf; text-decoration-color: #7fbfbf\">                    </span>         seconds, is too short for the current frame rate of <span style=\"color: #008000; text-decoration-color: #008000\">60</span> FPS. <span style=\"color: #808000; text-decoration-color: #808000; font-weight: bold\">Rendering</span>    <span style=\"color: #7f7f7f; text-decoration-color: #7f7f7f\">             </span>\n",
       "<span style=\"color: #7fbfbf; text-decoration-color: #7fbfbf\">                    </span>         with the shortest possible total run_time of <span style=\"color: #008000; text-decoration-color: #008000\">0.0166667</span> seconds instead.  <span style=\"color: #7f7f7f; text-decoration-color: #7f7f7f\">             </span>\n",
       "</pre>\n"
      ],
      "text/plain": [
       "\u001b[2;36m                   \u001b[0m\u001b[2;36m \u001b[0m\u001b[31mWARNING \u001b[0m The original total run_time of \u001b[1;35mintegration_index_Scene.play\u001b[0m\u001b[1m(\u001b[0m\u001b[1m)\u001b[0m, \u001b[32m0.0110497\u001b[0m \u001b]8;id=491217;file:///home/carlo/Desktop/single-projects/manim-demopage/.venv_demo/lib/python3.12/site-packages/manim/scene/scene.py\u001b\\\u001b[2mscene.py\u001b[0m\u001b]8;;\u001b\\\u001b[2m:\u001b[0m\u001b]8;id=838586;file:///home/carlo/Desktop/single-projects/manim-demopage/.venv_demo/lib/python3.12/site-packages/manim/scene/scene.py#1044\u001b\\\u001b[2m1044\u001b[0m\u001b]8;;\u001b\\\n",
       "\u001b[2;36m                    \u001b[0m         seconds, is too short for the current frame rate of \u001b[32m60\u001b[0m FPS. \u001b[1;33mRendering\u001b[0m    \u001b[2m             \u001b[0m\n",
       "\u001b[2;36m                    \u001b[0m         with the shortest possible total run_time of \u001b[32m0.0166667\u001b[0m seconds instead.  \u001b[2m             \u001b[0m\n"
      ]
     },
     "metadata": {},
     "output_type": "display_data"
    },
    {
     "data": {
      "text/html": [
       "<pre style=\"white-space:pre;overflow-x:auto;line-height:normal;font-family:Menlo,'DejaVu Sans Mono',consolas,'Courier New',monospace\"><span style=\"color: #7fbfbf; text-decoration-color: #7fbfbf\">                    </span><span style=\"color: #800000; text-decoration-color: #800000\">WARNING </span> The original total run_time of <span style=\"color: #800080; text-decoration-color: #800080; font-weight: bold\">integration_index_Scene.play</span><span style=\"font-weight: bold\">()</span>, <span style=\"color: #008000; text-decoration-color: #008000\">0.0110497</span> <a href=\"file:///home/carlo/Desktop/single-projects/manim-demopage/.venv_demo/lib/python3.12/site-packages/manim/scene/scene.py\" target=\"_blank\"><span style=\"color: #7f7f7f; text-decoration-color: #7f7f7f\">scene.py</span></a><span style=\"color: #7f7f7f; text-decoration-color: #7f7f7f\">:</span><a href=\"file:///home/carlo/Desktop/single-projects/manim-demopage/.venv_demo/lib/python3.12/site-packages/manim/scene/scene.py#1044\" target=\"_blank\"><span style=\"color: #7f7f7f; text-decoration-color: #7f7f7f\">1044</span></a>\n",
       "<span style=\"color: #7fbfbf; text-decoration-color: #7fbfbf\">                    </span>         seconds, is too short for the current frame rate of <span style=\"color: #008000; text-decoration-color: #008000\">60</span> FPS. <span style=\"color: #808000; text-decoration-color: #808000; font-weight: bold\">Rendering</span>    <span style=\"color: #7f7f7f; text-decoration-color: #7f7f7f\">             </span>\n",
       "<span style=\"color: #7fbfbf; text-decoration-color: #7fbfbf\">                    </span>         with the shortest possible total run_time of <span style=\"color: #008000; text-decoration-color: #008000\">0.0166667</span> seconds instead.  <span style=\"color: #7f7f7f; text-decoration-color: #7f7f7f\">             </span>\n",
       "</pre>\n"
      ],
      "text/plain": [
       "\u001b[2;36m                   \u001b[0m\u001b[2;36m \u001b[0m\u001b[31mWARNING \u001b[0m The original total run_time of \u001b[1;35mintegration_index_Scene.play\u001b[0m\u001b[1m(\u001b[0m\u001b[1m)\u001b[0m, \u001b[32m0.0110497\u001b[0m \u001b]8;id=95059;file:///home/carlo/Desktop/single-projects/manim-demopage/.venv_demo/lib/python3.12/site-packages/manim/scene/scene.py\u001b\\\u001b[2mscene.py\u001b[0m\u001b]8;;\u001b\\\u001b[2m:\u001b[0m\u001b]8;id=525369;file:///home/carlo/Desktop/single-projects/manim-demopage/.venv_demo/lib/python3.12/site-packages/manim/scene/scene.py#1044\u001b\\\u001b[2m1044\u001b[0m\u001b]8;;\u001b\\\n",
       "\u001b[2;36m                    \u001b[0m         seconds, is too short for the current frame rate of \u001b[32m60\u001b[0m FPS. \u001b[1;33mRendering\u001b[0m    \u001b[2m             \u001b[0m\n",
       "\u001b[2;36m                    \u001b[0m         with the shortest possible total run_time of \u001b[32m0.0166667\u001b[0m seconds instead.  \u001b[2m             \u001b[0m\n"
      ]
     },
     "metadata": {},
     "output_type": "display_data"
    },
    {
     "data": {
      "text/html": [
       "<pre style=\"white-space:pre;overflow-x:auto;line-height:normal;font-family:Menlo,'DejaVu Sans Mono',consolas,'Courier New',monospace\"><span style=\"color: #7fbfbf; text-decoration-color: #7fbfbf\">                    </span><span style=\"color: #800000; text-decoration-color: #800000\">WARNING </span> The original total run_time of <span style=\"color: #800080; text-decoration-color: #800080; font-weight: bold\">integration_index_Scene.play</span><span style=\"font-weight: bold\">()</span>, <span style=\"color: #008000; text-decoration-color: #008000\">0.010989</span>  <a href=\"file:///home/carlo/Desktop/single-projects/manim-demopage/.venv_demo/lib/python3.12/site-packages/manim/scene/scene.py\" target=\"_blank\"><span style=\"color: #7f7f7f; text-decoration-color: #7f7f7f\">scene.py</span></a><span style=\"color: #7f7f7f; text-decoration-color: #7f7f7f\">:</span><a href=\"file:///home/carlo/Desktop/single-projects/manim-demopage/.venv_demo/lib/python3.12/site-packages/manim/scene/scene.py#1044\" target=\"_blank\"><span style=\"color: #7f7f7f; text-decoration-color: #7f7f7f\">1044</span></a>\n",
       "<span style=\"color: #7fbfbf; text-decoration-color: #7fbfbf\">                    </span>         seconds, is too short for the current frame rate of <span style=\"color: #008000; text-decoration-color: #008000\">60</span> FPS. <span style=\"color: #808000; text-decoration-color: #808000; font-weight: bold\">Rendering</span>    <span style=\"color: #7f7f7f; text-decoration-color: #7f7f7f\">             </span>\n",
       "<span style=\"color: #7fbfbf; text-decoration-color: #7fbfbf\">                    </span>         with the shortest possible total run_time of <span style=\"color: #008000; text-decoration-color: #008000\">0.0166667</span> seconds instead.  <span style=\"color: #7f7f7f; text-decoration-color: #7f7f7f\">             </span>\n",
       "</pre>\n"
      ],
      "text/plain": [
       "\u001b[2;36m                   \u001b[0m\u001b[2;36m \u001b[0m\u001b[31mWARNING \u001b[0m The original total run_time of \u001b[1;35mintegration_index_Scene.play\u001b[0m\u001b[1m(\u001b[0m\u001b[1m)\u001b[0m, \u001b[32m0.010989\u001b[0m  \u001b]8;id=258710;file:///home/carlo/Desktop/single-projects/manim-demopage/.venv_demo/lib/python3.12/site-packages/manim/scene/scene.py\u001b\\\u001b[2mscene.py\u001b[0m\u001b]8;;\u001b\\\u001b[2m:\u001b[0m\u001b]8;id=141731;file:///home/carlo/Desktop/single-projects/manim-demopage/.venv_demo/lib/python3.12/site-packages/manim/scene/scene.py#1044\u001b\\\u001b[2m1044\u001b[0m\u001b]8;;\u001b\\\n",
       "\u001b[2;36m                    \u001b[0m         seconds, is too short for the current frame rate of \u001b[32m60\u001b[0m FPS. \u001b[1;33mRendering\u001b[0m    \u001b[2m             \u001b[0m\n",
       "\u001b[2;36m                    \u001b[0m         with the shortest possible total run_time of \u001b[32m0.0166667\u001b[0m seconds instead.  \u001b[2m             \u001b[0m\n"
      ]
     },
     "metadata": {},
     "output_type": "display_data"
    },
    {
     "data": {
      "text/html": [
       "<pre style=\"white-space:pre;overflow-x:auto;line-height:normal;font-family:Menlo,'DejaVu Sans Mono',consolas,'Courier New',monospace\"><span style=\"color: #7fbfbf; text-decoration-color: #7fbfbf\">                    </span><span style=\"color: #800000; text-decoration-color: #800000\">WARNING </span> The original total run_time of <span style=\"color: #800080; text-decoration-color: #800080; font-weight: bold\">integration_index_Scene.play</span><span style=\"font-weight: bold\">()</span>, <span style=\"color: #008000; text-decoration-color: #008000\">0.010989</span>  <a href=\"file:///home/carlo/Desktop/single-projects/manim-demopage/.venv_demo/lib/python3.12/site-packages/manim/scene/scene.py\" target=\"_blank\"><span style=\"color: #7f7f7f; text-decoration-color: #7f7f7f\">scene.py</span></a><span style=\"color: #7f7f7f; text-decoration-color: #7f7f7f\">:</span><a href=\"file:///home/carlo/Desktop/single-projects/manim-demopage/.venv_demo/lib/python3.12/site-packages/manim/scene/scene.py#1044\" target=\"_blank\"><span style=\"color: #7f7f7f; text-decoration-color: #7f7f7f\">1044</span></a>\n",
       "<span style=\"color: #7fbfbf; text-decoration-color: #7fbfbf\">                    </span>         seconds, is too short for the current frame rate of <span style=\"color: #008000; text-decoration-color: #008000\">60</span> FPS. <span style=\"color: #808000; text-decoration-color: #808000; font-weight: bold\">Rendering</span>    <span style=\"color: #7f7f7f; text-decoration-color: #7f7f7f\">             </span>\n",
       "<span style=\"color: #7fbfbf; text-decoration-color: #7fbfbf\">                    </span>         with the shortest possible total run_time of <span style=\"color: #008000; text-decoration-color: #008000\">0.0166667</span> seconds instead.  <span style=\"color: #7f7f7f; text-decoration-color: #7f7f7f\">             </span>\n",
       "</pre>\n"
      ],
      "text/plain": [
       "\u001b[2;36m                   \u001b[0m\u001b[2;36m \u001b[0m\u001b[31mWARNING \u001b[0m The original total run_time of \u001b[1;35mintegration_index_Scene.play\u001b[0m\u001b[1m(\u001b[0m\u001b[1m)\u001b[0m, \u001b[32m0.010989\u001b[0m  \u001b]8;id=72837;file:///home/carlo/Desktop/single-projects/manim-demopage/.venv_demo/lib/python3.12/site-packages/manim/scene/scene.py\u001b\\\u001b[2mscene.py\u001b[0m\u001b]8;;\u001b\\\u001b[2m:\u001b[0m\u001b]8;id=306885;file:///home/carlo/Desktop/single-projects/manim-demopage/.venv_demo/lib/python3.12/site-packages/manim/scene/scene.py#1044\u001b\\\u001b[2m1044\u001b[0m\u001b]8;;\u001b\\\n",
       "\u001b[2;36m                    \u001b[0m         seconds, is too short for the current frame rate of \u001b[32m60\u001b[0m FPS. \u001b[1;33mRendering\u001b[0m    \u001b[2m             \u001b[0m\n",
       "\u001b[2;36m                    \u001b[0m         with the shortest possible total run_time of \u001b[32m0.0166667\u001b[0m seconds instead.  \u001b[2m             \u001b[0m\n"
      ]
     },
     "metadata": {},
     "output_type": "display_data"
    },
    {
     "data": {
      "text/html": [
       "<pre style=\"white-space:pre;overflow-x:auto;line-height:normal;font-family:Menlo,'DejaVu Sans Mono',consolas,'Courier New',monospace\"><span style=\"color: #7fbfbf; text-decoration-color: #7fbfbf\">[01/24/25 14:36:24] </span><span style=\"color: #800000; text-decoration-color: #800000\">WARNING </span> The original total run_time of <span style=\"color: #800080; text-decoration-color: #800080; font-weight: bold\">integration_index_Scene.play</span><span style=\"font-weight: bold\">()</span>, <span style=\"color: #008000; text-decoration-color: #008000\">0.010929</span>  <a href=\"file:///home/carlo/Desktop/single-projects/manim-demopage/.venv_demo/lib/python3.12/site-packages/manim/scene/scene.py\" target=\"_blank\"><span style=\"color: #7f7f7f; text-decoration-color: #7f7f7f\">scene.py</span></a><span style=\"color: #7f7f7f; text-decoration-color: #7f7f7f\">:</span><a href=\"file:///home/carlo/Desktop/single-projects/manim-demopage/.venv_demo/lib/python3.12/site-packages/manim/scene/scene.py#1044\" target=\"_blank\"><span style=\"color: #7f7f7f; text-decoration-color: #7f7f7f\">1044</span></a>\n",
       "<span style=\"color: #7fbfbf; text-decoration-color: #7fbfbf\">                    </span>         seconds, is too short for the current frame rate of <span style=\"color: #008000; text-decoration-color: #008000\">60</span> FPS. <span style=\"color: #808000; text-decoration-color: #808000; font-weight: bold\">Rendering</span>    <span style=\"color: #7f7f7f; text-decoration-color: #7f7f7f\">             </span>\n",
       "<span style=\"color: #7fbfbf; text-decoration-color: #7fbfbf\">                    </span>         with the shortest possible total run_time of <span style=\"color: #008000; text-decoration-color: #008000\">0.0166667</span> seconds instead.  <span style=\"color: #7f7f7f; text-decoration-color: #7f7f7f\">             </span>\n",
       "</pre>\n"
      ],
      "text/plain": [
       "\u001b[2;36m[01/24/25 14:36:24]\u001b[0m\u001b[2;36m \u001b[0m\u001b[31mWARNING \u001b[0m The original total run_time of \u001b[1;35mintegration_index_Scene.play\u001b[0m\u001b[1m(\u001b[0m\u001b[1m)\u001b[0m, \u001b[32m0.010929\u001b[0m  \u001b]8;id=698083;file:///home/carlo/Desktop/single-projects/manim-demopage/.venv_demo/lib/python3.12/site-packages/manim/scene/scene.py\u001b\\\u001b[2mscene.py\u001b[0m\u001b]8;;\u001b\\\u001b[2m:\u001b[0m\u001b]8;id=57301;file:///home/carlo/Desktop/single-projects/manim-demopage/.venv_demo/lib/python3.12/site-packages/manim/scene/scene.py#1044\u001b\\\u001b[2m1044\u001b[0m\u001b]8;;\u001b\\\n",
       "\u001b[2;36m                    \u001b[0m         seconds, is too short for the current frame rate of \u001b[32m60\u001b[0m FPS. \u001b[1;33mRendering\u001b[0m    \u001b[2m             \u001b[0m\n",
       "\u001b[2;36m                    \u001b[0m         with the shortest possible total run_time of \u001b[32m0.0166667\u001b[0m seconds instead.  \u001b[2m             \u001b[0m\n"
      ]
     },
     "metadata": {},
     "output_type": "display_data"
    },
    {
     "data": {
      "text/html": [
       "<pre style=\"white-space:pre;overflow-x:auto;line-height:normal;font-family:Menlo,'DejaVu Sans Mono',consolas,'Courier New',monospace\"><span style=\"color: #7fbfbf; text-decoration-color: #7fbfbf\">                    </span><span style=\"color: #800000; text-decoration-color: #800000\">WARNING </span> The original total run_time of <span style=\"color: #800080; text-decoration-color: #800080; font-weight: bold\">integration_index_Scene.play</span><span style=\"font-weight: bold\">()</span>, <span style=\"color: #008000; text-decoration-color: #008000\">0.010929</span>  <a href=\"file:///home/carlo/Desktop/single-projects/manim-demopage/.venv_demo/lib/python3.12/site-packages/manim/scene/scene.py\" target=\"_blank\"><span style=\"color: #7f7f7f; text-decoration-color: #7f7f7f\">scene.py</span></a><span style=\"color: #7f7f7f; text-decoration-color: #7f7f7f\">:</span><a href=\"file:///home/carlo/Desktop/single-projects/manim-demopage/.venv_demo/lib/python3.12/site-packages/manim/scene/scene.py#1044\" target=\"_blank\"><span style=\"color: #7f7f7f; text-decoration-color: #7f7f7f\">1044</span></a>\n",
       "<span style=\"color: #7fbfbf; text-decoration-color: #7fbfbf\">                    </span>         seconds, is too short for the current frame rate of <span style=\"color: #008000; text-decoration-color: #008000\">60</span> FPS. <span style=\"color: #808000; text-decoration-color: #808000; font-weight: bold\">Rendering</span>    <span style=\"color: #7f7f7f; text-decoration-color: #7f7f7f\">             </span>\n",
       "<span style=\"color: #7fbfbf; text-decoration-color: #7fbfbf\">                    </span>         with the shortest possible total run_time of <span style=\"color: #008000; text-decoration-color: #008000\">0.0166667</span> seconds instead.  <span style=\"color: #7f7f7f; text-decoration-color: #7f7f7f\">             </span>\n",
       "</pre>\n"
      ],
      "text/plain": [
       "\u001b[2;36m                   \u001b[0m\u001b[2;36m \u001b[0m\u001b[31mWARNING \u001b[0m The original total run_time of \u001b[1;35mintegration_index_Scene.play\u001b[0m\u001b[1m(\u001b[0m\u001b[1m)\u001b[0m, \u001b[32m0.010929\u001b[0m  \u001b]8;id=796745;file:///home/carlo/Desktop/single-projects/manim-demopage/.venv_demo/lib/python3.12/site-packages/manim/scene/scene.py\u001b\\\u001b[2mscene.py\u001b[0m\u001b]8;;\u001b\\\u001b[2m:\u001b[0m\u001b]8;id=966802;file:///home/carlo/Desktop/single-projects/manim-demopage/.venv_demo/lib/python3.12/site-packages/manim/scene/scene.py#1044\u001b\\\u001b[2m1044\u001b[0m\u001b]8;;\u001b\\\n",
       "\u001b[2;36m                    \u001b[0m         seconds, is too short for the current frame rate of \u001b[32m60\u001b[0m FPS. \u001b[1;33mRendering\u001b[0m    \u001b[2m             \u001b[0m\n",
       "\u001b[2;36m                    \u001b[0m         with the shortest possible total run_time of \u001b[32m0.0166667\u001b[0m seconds instead.  \u001b[2m             \u001b[0m\n"
      ]
     },
     "metadata": {},
     "output_type": "display_data"
    },
    {
     "data": {
      "text/html": [
       "<pre style=\"white-space:pre;overflow-x:auto;line-height:normal;font-family:Menlo,'DejaVu Sans Mono',consolas,'Courier New',monospace\"><span style=\"color: #7fbfbf; text-decoration-color: #7fbfbf\">                    </span><span style=\"color: #800000; text-decoration-color: #800000\">WARNING </span> The original total run_time of <span style=\"color: #800080; text-decoration-color: #800080; font-weight: bold\">integration_index_Scene.play</span><span style=\"font-weight: bold\">()</span>, <span style=\"color: #008000; text-decoration-color: #008000\">0.0108696</span> <a href=\"file:///home/carlo/Desktop/single-projects/manim-demopage/.venv_demo/lib/python3.12/site-packages/manim/scene/scene.py\" target=\"_blank\"><span style=\"color: #7f7f7f; text-decoration-color: #7f7f7f\">scene.py</span></a><span style=\"color: #7f7f7f; text-decoration-color: #7f7f7f\">:</span><a href=\"file:///home/carlo/Desktop/single-projects/manim-demopage/.venv_demo/lib/python3.12/site-packages/manim/scene/scene.py#1044\" target=\"_blank\"><span style=\"color: #7f7f7f; text-decoration-color: #7f7f7f\">1044</span></a>\n",
       "<span style=\"color: #7fbfbf; text-decoration-color: #7fbfbf\">                    </span>         seconds, is too short for the current frame rate of <span style=\"color: #008000; text-decoration-color: #008000\">60</span> FPS. <span style=\"color: #808000; text-decoration-color: #808000; font-weight: bold\">Rendering</span>    <span style=\"color: #7f7f7f; text-decoration-color: #7f7f7f\">             </span>\n",
       "<span style=\"color: #7fbfbf; text-decoration-color: #7fbfbf\">                    </span>         with the shortest possible total run_time of <span style=\"color: #008000; text-decoration-color: #008000\">0.0166667</span> seconds instead.  <span style=\"color: #7f7f7f; text-decoration-color: #7f7f7f\">             </span>\n",
       "</pre>\n"
      ],
      "text/plain": [
       "\u001b[2;36m                   \u001b[0m\u001b[2;36m \u001b[0m\u001b[31mWARNING \u001b[0m The original total run_time of \u001b[1;35mintegration_index_Scene.play\u001b[0m\u001b[1m(\u001b[0m\u001b[1m)\u001b[0m, \u001b[32m0.0108696\u001b[0m \u001b]8;id=512777;file:///home/carlo/Desktop/single-projects/manim-demopage/.venv_demo/lib/python3.12/site-packages/manim/scene/scene.py\u001b\\\u001b[2mscene.py\u001b[0m\u001b]8;;\u001b\\\u001b[2m:\u001b[0m\u001b]8;id=201456;file:///home/carlo/Desktop/single-projects/manim-demopage/.venv_demo/lib/python3.12/site-packages/manim/scene/scene.py#1044\u001b\\\u001b[2m1044\u001b[0m\u001b]8;;\u001b\\\n",
       "\u001b[2;36m                    \u001b[0m         seconds, is too short for the current frame rate of \u001b[32m60\u001b[0m FPS. \u001b[1;33mRendering\u001b[0m    \u001b[2m             \u001b[0m\n",
       "\u001b[2;36m                    \u001b[0m         with the shortest possible total run_time of \u001b[32m0.0166667\u001b[0m seconds instead.  \u001b[2m             \u001b[0m\n"
      ]
     },
     "metadata": {},
     "output_type": "display_data"
    },
    {
     "data": {
      "text/html": [
       "<pre style=\"white-space:pre;overflow-x:auto;line-height:normal;font-family:Menlo,'DejaVu Sans Mono',consolas,'Courier New',monospace\"><span style=\"color: #7fbfbf; text-decoration-color: #7fbfbf\">                    </span><span style=\"color: #800000; text-decoration-color: #800000\">WARNING </span> The original total run_time of <span style=\"color: #800080; text-decoration-color: #800080; font-weight: bold\">integration_index_Scene.play</span><span style=\"font-weight: bold\">()</span>, <span style=\"color: #008000; text-decoration-color: #008000\">0.0108696</span> <a href=\"file:///home/carlo/Desktop/single-projects/manim-demopage/.venv_demo/lib/python3.12/site-packages/manim/scene/scene.py\" target=\"_blank\"><span style=\"color: #7f7f7f; text-decoration-color: #7f7f7f\">scene.py</span></a><span style=\"color: #7f7f7f; text-decoration-color: #7f7f7f\">:</span><a href=\"file:///home/carlo/Desktop/single-projects/manim-demopage/.venv_demo/lib/python3.12/site-packages/manim/scene/scene.py#1044\" target=\"_blank\"><span style=\"color: #7f7f7f; text-decoration-color: #7f7f7f\">1044</span></a>\n",
       "<span style=\"color: #7fbfbf; text-decoration-color: #7fbfbf\">                    </span>         seconds, is too short for the current frame rate of <span style=\"color: #008000; text-decoration-color: #008000\">60</span> FPS. <span style=\"color: #808000; text-decoration-color: #808000; font-weight: bold\">Rendering</span>    <span style=\"color: #7f7f7f; text-decoration-color: #7f7f7f\">             </span>\n",
       "<span style=\"color: #7fbfbf; text-decoration-color: #7fbfbf\">                    </span>         with the shortest possible total run_time of <span style=\"color: #008000; text-decoration-color: #008000\">0.0166667</span> seconds instead.  <span style=\"color: #7f7f7f; text-decoration-color: #7f7f7f\">             </span>\n",
       "</pre>\n"
      ],
      "text/plain": [
       "\u001b[2;36m                   \u001b[0m\u001b[2;36m \u001b[0m\u001b[31mWARNING \u001b[0m The original total run_time of \u001b[1;35mintegration_index_Scene.play\u001b[0m\u001b[1m(\u001b[0m\u001b[1m)\u001b[0m, \u001b[32m0.0108696\u001b[0m \u001b]8;id=512911;file:///home/carlo/Desktop/single-projects/manim-demopage/.venv_demo/lib/python3.12/site-packages/manim/scene/scene.py\u001b\\\u001b[2mscene.py\u001b[0m\u001b]8;;\u001b\\\u001b[2m:\u001b[0m\u001b]8;id=365162;file:///home/carlo/Desktop/single-projects/manim-demopage/.venv_demo/lib/python3.12/site-packages/manim/scene/scene.py#1044\u001b\\\u001b[2m1044\u001b[0m\u001b]8;;\u001b\\\n",
       "\u001b[2;36m                    \u001b[0m         seconds, is too short for the current frame rate of \u001b[32m60\u001b[0m FPS. \u001b[1;33mRendering\u001b[0m    \u001b[2m             \u001b[0m\n",
       "\u001b[2;36m                    \u001b[0m         with the shortest possible total run_time of \u001b[32m0.0166667\u001b[0m seconds instead.  \u001b[2m             \u001b[0m\n"
      ]
     },
     "metadata": {},
     "output_type": "display_data"
    },
    {
     "data": {
      "text/html": [
       "<pre style=\"white-space:pre;overflow-x:auto;line-height:normal;font-family:Menlo,'DejaVu Sans Mono',consolas,'Courier New',monospace\"><span style=\"color: #7fbfbf; text-decoration-color: #7fbfbf\">                    </span><span style=\"color: #800000; text-decoration-color: #800000\">WARNING </span> The original total run_time of <span style=\"color: #800080; text-decoration-color: #800080; font-weight: bold\">integration_index_Scene.play</span><span style=\"font-weight: bold\">()</span>, <span style=\"color: #008000; text-decoration-color: #008000\">0.0108108</span> <a href=\"file:///home/carlo/Desktop/single-projects/manim-demopage/.venv_demo/lib/python3.12/site-packages/manim/scene/scene.py\" target=\"_blank\"><span style=\"color: #7f7f7f; text-decoration-color: #7f7f7f\">scene.py</span></a><span style=\"color: #7f7f7f; text-decoration-color: #7f7f7f\">:</span><a href=\"file:///home/carlo/Desktop/single-projects/manim-demopage/.venv_demo/lib/python3.12/site-packages/manim/scene/scene.py#1044\" target=\"_blank\"><span style=\"color: #7f7f7f; text-decoration-color: #7f7f7f\">1044</span></a>\n",
       "<span style=\"color: #7fbfbf; text-decoration-color: #7fbfbf\">                    </span>         seconds, is too short for the current frame rate of <span style=\"color: #008000; text-decoration-color: #008000\">60</span> FPS. <span style=\"color: #808000; text-decoration-color: #808000; font-weight: bold\">Rendering</span>    <span style=\"color: #7f7f7f; text-decoration-color: #7f7f7f\">             </span>\n",
       "<span style=\"color: #7fbfbf; text-decoration-color: #7fbfbf\">                    </span>         with the shortest possible total run_time of <span style=\"color: #008000; text-decoration-color: #008000\">0.0166667</span> seconds instead.  <span style=\"color: #7f7f7f; text-decoration-color: #7f7f7f\">             </span>\n",
       "</pre>\n"
      ],
      "text/plain": [
       "\u001b[2;36m                   \u001b[0m\u001b[2;36m \u001b[0m\u001b[31mWARNING \u001b[0m The original total run_time of \u001b[1;35mintegration_index_Scene.play\u001b[0m\u001b[1m(\u001b[0m\u001b[1m)\u001b[0m, \u001b[32m0.0108108\u001b[0m \u001b]8;id=16004;file:///home/carlo/Desktop/single-projects/manim-demopage/.venv_demo/lib/python3.12/site-packages/manim/scene/scene.py\u001b\\\u001b[2mscene.py\u001b[0m\u001b]8;;\u001b\\\u001b[2m:\u001b[0m\u001b]8;id=440377;file:///home/carlo/Desktop/single-projects/manim-demopage/.venv_demo/lib/python3.12/site-packages/manim/scene/scene.py#1044\u001b\\\u001b[2m1044\u001b[0m\u001b]8;;\u001b\\\n",
       "\u001b[2;36m                    \u001b[0m         seconds, is too short for the current frame rate of \u001b[32m60\u001b[0m FPS. \u001b[1;33mRendering\u001b[0m    \u001b[2m             \u001b[0m\n",
       "\u001b[2;36m                    \u001b[0m         with the shortest possible total run_time of \u001b[32m0.0166667\u001b[0m seconds instead.  \u001b[2m             \u001b[0m\n"
      ]
     },
     "metadata": {},
     "output_type": "display_data"
    },
    {
     "data": {
      "text/html": [
       "<pre style=\"white-space:pre;overflow-x:auto;line-height:normal;font-family:Menlo,'DejaVu Sans Mono',consolas,'Courier New',monospace\"><span style=\"color: #7fbfbf; text-decoration-color: #7fbfbf\">                    </span><span style=\"color: #800000; text-decoration-color: #800000\">WARNING </span> The original total run_time of <span style=\"color: #800080; text-decoration-color: #800080; font-weight: bold\">integration_index_Scene.play</span><span style=\"font-weight: bold\">()</span>, <span style=\"color: #008000; text-decoration-color: #008000\">0.0108108</span> <a href=\"file:///home/carlo/Desktop/single-projects/manim-demopage/.venv_demo/lib/python3.12/site-packages/manim/scene/scene.py\" target=\"_blank\"><span style=\"color: #7f7f7f; text-decoration-color: #7f7f7f\">scene.py</span></a><span style=\"color: #7f7f7f; text-decoration-color: #7f7f7f\">:</span><a href=\"file:///home/carlo/Desktop/single-projects/manim-demopage/.venv_demo/lib/python3.12/site-packages/manim/scene/scene.py#1044\" target=\"_blank\"><span style=\"color: #7f7f7f; text-decoration-color: #7f7f7f\">1044</span></a>\n",
       "<span style=\"color: #7fbfbf; text-decoration-color: #7fbfbf\">                    </span>         seconds, is too short for the current frame rate of <span style=\"color: #008000; text-decoration-color: #008000\">60</span> FPS. <span style=\"color: #808000; text-decoration-color: #808000; font-weight: bold\">Rendering</span>    <span style=\"color: #7f7f7f; text-decoration-color: #7f7f7f\">             </span>\n",
       "<span style=\"color: #7fbfbf; text-decoration-color: #7fbfbf\">                    </span>         with the shortest possible total run_time of <span style=\"color: #008000; text-decoration-color: #008000\">0.0166667</span> seconds instead.  <span style=\"color: #7f7f7f; text-decoration-color: #7f7f7f\">             </span>\n",
       "</pre>\n"
      ],
      "text/plain": [
       "\u001b[2;36m                   \u001b[0m\u001b[2;36m \u001b[0m\u001b[31mWARNING \u001b[0m The original total run_time of \u001b[1;35mintegration_index_Scene.play\u001b[0m\u001b[1m(\u001b[0m\u001b[1m)\u001b[0m, \u001b[32m0.0108108\u001b[0m \u001b]8;id=721017;file:///home/carlo/Desktop/single-projects/manim-demopage/.venv_demo/lib/python3.12/site-packages/manim/scene/scene.py\u001b\\\u001b[2mscene.py\u001b[0m\u001b]8;;\u001b\\\u001b[2m:\u001b[0m\u001b]8;id=627138;file:///home/carlo/Desktop/single-projects/manim-demopage/.venv_demo/lib/python3.12/site-packages/manim/scene/scene.py#1044\u001b\\\u001b[2m1044\u001b[0m\u001b]8;;\u001b\\\n",
       "\u001b[2;36m                    \u001b[0m         seconds, is too short for the current frame rate of \u001b[32m60\u001b[0m FPS. \u001b[1;33mRendering\u001b[0m    \u001b[2m             \u001b[0m\n",
       "\u001b[2;36m                    \u001b[0m         with the shortest possible total run_time of \u001b[32m0.0166667\u001b[0m seconds instead.  \u001b[2m             \u001b[0m\n"
      ]
     },
     "metadata": {},
     "output_type": "display_data"
    },
    {
     "data": {
      "text/html": [
       "<pre style=\"white-space:pre;overflow-x:auto;line-height:normal;font-family:Menlo,'DejaVu Sans Mono',consolas,'Courier New',monospace\"><span style=\"color: #7fbfbf; text-decoration-color: #7fbfbf\">                    </span><span style=\"color: #800000; text-decoration-color: #800000\">WARNING </span> The original total run_time of <span style=\"color: #800080; text-decoration-color: #800080; font-weight: bold\">integration_index_Scene.play</span><span style=\"font-weight: bold\">()</span>, <span style=\"color: #008000; text-decoration-color: #008000\">0.0107527</span> <a href=\"file:///home/carlo/Desktop/single-projects/manim-demopage/.venv_demo/lib/python3.12/site-packages/manim/scene/scene.py\" target=\"_blank\"><span style=\"color: #7f7f7f; text-decoration-color: #7f7f7f\">scene.py</span></a><span style=\"color: #7f7f7f; text-decoration-color: #7f7f7f\">:</span><a href=\"file:///home/carlo/Desktop/single-projects/manim-demopage/.venv_demo/lib/python3.12/site-packages/manim/scene/scene.py#1044\" target=\"_blank\"><span style=\"color: #7f7f7f; text-decoration-color: #7f7f7f\">1044</span></a>\n",
       "<span style=\"color: #7fbfbf; text-decoration-color: #7fbfbf\">                    </span>         seconds, is too short for the current frame rate of <span style=\"color: #008000; text-decoration-color: #008000\">60</span> FPS. <span style=\"color: #808000; text-decoration-color: #808000; font-weight: bold\">Rendering</span>    <span style=\"color: #7f7f7f; text-decoration-color: #7f7f7f\">             </span>\n",
       "<span style=\"color: #7fbfbf; text-decoration-color: #7fbfbf\">                    </span>         with the shortest possible total run_time of <span style=\"color: #008000; text-decoration-color: #008000\">0.0166667</span> seconds instead.  <span style=\"color: #7f7f7f; text-decoration-color: #7f7f7f\">             </span>\n",
       "</pre>\n"
      ],
      "text/plain": [
       "\u001b[2;36m                   \u001b[0m\u001b[2;36m \u001b[0m\u001b[31mWARNING \u001b[0m The original total run_time of \u001b[1;35mintegration_index_Scene.play\u001b[0m\u001b[1m(\u001b[0m\u001b[1m)\u001b[0m, \u001b[32m0.0107527\u001b[0m \u001b]8;id=572634;file:///home/carlo/Desktop/single-projects/manim-demopage/.venv_demo/lib/python3.12/site-packages/manim/scene/scene.py\u001b\\\u001b[2mscene.py\u001b[0m\u001b]8;;\u001b\\\u001b[2m:\u001b[0m\u001b]8;id=142419;file:///home/carlo/Desktop/single-projects/manim-demopage/.venv_demo/lib/python3.12/site-packages/manim/scene/scene.py#1044\u001b\\\u001b[2m1044\u001b[0m\u001b]8;;\u001b\\\n",
       "\u001b[2;36m                    \u001b[0m         seconds, is too short for the current frame rate of \u001b[32m60\u001b[0m FPS. \u001b[1;33mRendering\u001b[0m    \u001b[2m             \u001b[0m\n",
       "\u001b[2;36m                    \u001b[0m         with the shortest possible total run_time of \u001b[32m0.0166667\u001b[0m seconds instead.  \u001b[2m             \u001b[0m\n"
      ]
     },
     "metadata": {},
     "output_type": "display_data"
    },
    {
     "data": {
      "text/html": [
       "<pre style=\"white-space:pre;overflow-x:auto;line-height:normal;font-family:Menlo,'DejaVu Sans Mono',consolas,'Courier New',monospace\"><span style=\"color: #7fbfbf; text-decoration-color: #7fbfbf\">                    </span><span style=\"color: #800000; text-decoration-color: #800000\">WARNING </span> The original total run_time of <span style=\"color: #800080; text-decoration-color: #800080; font-weight: bold\">integration_index_Scene.play</span><span style=\"font-weight: bold\">()</span>, <span style=\"color: #008000; text-decoration-color: #008000\">0.0107527</span> <a href=\"file:///home/carlo/Desktop/single-projects/manim-demopage/.venv_demo/lib/python3.12/site-packages/manim/scene/scene.py\" target=\"_blank\"><span style=\"color: #7f7f7f; text-decoration-color: #7f7f7f\">scene.py</span></a><span style=\"color: #7f7f7f; text-decoration-color: #7f7f7f\">:</span><a href=\"file:///home/carlo/Desktop/single-projects/manim-demopage/.venv_demo/lib/python3.12/site-packages/manim/scene/scene.py#1044\" target=\"_blank\"><span style=\"color: #7f7f7f; text-decoration-color: #7f7f7f\">1044</span></a>\n",
       "<span style=\"color: #7fbfbf; text-decoration-color: #7fbfbf\">                    </span>         seconds, is too short for the current frame rate of <span style=\"color: #008000; text-decoration-color: #008000\">60</span> FPS. <span style=\"color: #808000; text-decoration-color: #808000; font-weight: bold\">Rendering</span>    <span style=\"color: #7f7f7f; text-decoration-color: #7f7f7f\">             </span>\n",
       "<span style=\"color: #7fbfbf; text-decoration-color: #7fbfbf\">                    </span>         with the shortest possible total run_time of <span style=\"color: #008000; text-decoration-color: #008000\">0.0166667</span> seconds instead.  <span style=\"color: #7f7f7f; text-decoration-color: #7f7f7f\">             </span>\n",
       "</pre>\n"
      ],
      "text/plain": [
       "\u001b[2;36m                   \u001b[0m\u001b[2;36m \u001b[0m\u001b[31mWARNING \u001b[0m The original total run_time of \u001b[1;35mintegration_index_Scene.play\u001b[0m\u001b[1m(\u001b[0m\u001b[1m)\u001b[0m, \u001b[32m0.0107527\u001b[0m \u001b]8;id=939520;file:///home/carlo/Desktop/single-projects/manim-demopage/.venv_demo/lib/python3.12/site-packages/manim/scene/scene.py\u001b\\\u001b[2mscene.py\u001b[0m\u001b]8;;\u001b\\\u001b[2m:\u001b[0m\u001b]8;id=128165;file:///home/carlo/Desktop/single-projects/manim-demopage/.venv_demo/lib/python3.12/site-packages/manim/scene/scene.py#1044\u001b\\\u001b[2m1044\u001b[0m\u001b]8;;\u001b\\\n",
       "\u001b[2;36m                    \u001b[0m         seconds, is too short for the current frame rate of \u001b[32m60\u001b[0m FPS. \u001b[1;33mRendering\u001b[0m    \u001b[2m             \u001b[0m\n",
       "\u001b[2;36m                    \u001b[0m         with the shortest possible total run_time of \u001b[32m0.0166667\u001b[0m seconds instead.  \u001b[2m             \u001b[0m\n"
      ]
     },
     "metadata": {},
     "output_type": "display_data"
    },
    {
     "data": {
      "text/html": [
       "<pre style=\"white-space:pre;overflow-x:auto;line-height:normal;font-family:Menlo,'DejaVu Sans Mono',consolas,'Courier New',monospace\"><span style=\"color: #7fbfbf; text-decoration-color: #7fbfbf\">                    </span><span style=\"color: #800000; text-decoration-color: #800000\">WARNING </span> The original total run_time of <span style=\"color: #800080; text-decoration-color: #800080; font-weight: bold\">integration_index_Scene.play</span><span style=\"font-weight: bold\">()</span>, <span style=\"color: #008000; text-decoration-color: #008000\">0.0106952</span> <a href=\"file:///home/carlo/Desktop/single-projects/manim-demopage/.venv_demo/lib/python3.12/site-packages/manim/scene/scene.py\" target=\"_blank\"><span style=\"color: #7f7f7f; text-decoration-color: #7f7f7f\">scene.py</span></a><span style=\"color: #7f7f7f; text-decoration-color: #7f7f7f\">:</span><a href=\"file:///home/carlo/Desktop/single-projects/manim-demopage/.venv_demo/lib/python3.12/site-packages/manim/scene/scene.py#1044\" target=\"_blank\"><span style=\"color: #7f7f7f; text-decoration-color: #7f7f7f\">1044</span></a>\n",
       "<span style=\"color: #7fbfbf; text-decoration-color: #7fbfbf\">                    </span>         seconds, is too short for the current frame rate of <span style=\"color: #008000; text-decoration-color: #008000\">60</span> FPS. <span style=\"color: #808000; text-decoration-color: #808000; font-weight: bold\">Rendering</span>    <span style=\"color: #7f7f7f; text-decoration-color: #7f7f7f\">             </span>\n",
       "<span style=\"color: #7fbfbf; text-decoration-color: #7fbfbf\">                    </span>         with the shortest possible total run_time of <span style=\"color: #008000; text-decoration-color: #008000\">0.0166667</span> seconds instead.  <span style=\"color: #7f7f7f; text-decoration-color: #7f7f7f\">             </span>\n",
       "</pre>\n"
      ],
      "text/plain": [
       "\u001b[2;36m                   \u001b[0m\u001b[2;36m \u001b[0m\u001b[31mWARNING \u001b[0m The original total run_time of \u001b[1;35mintegration_index_Scene.play\u001b[0m\u001b[1m(\u001b[0m\u001b[1m)\u001b[0m, \u001b[32m0.0106952\u001b[0m \u001b]8;id=203494;file:///home/carlo/Desktop/single-projects/manim-demopage/.venv_demo/lib/python3.12/site-packages/manim/scene/scene.py\u001b\\\u001b[2mscene.py\u001b[0m\u001b]8;;\u001b\\\u001b[2m:\u001b[0m\u001b]8;id=809746;file:///home/carlo/Desktop/single-projects/manim-demopage/.venv_demo/lib/python3.12/site-packages/manim/scene/scene.py#1044\u001b\\\u001b[2m1044\u001b[0m\u001b]8;;\u001b\\\n",
       "\u001b[2;36m                    \u001b[0m         seconds, is too short for the current frame rate of \u001b[32m60\u001b[0m FPS. \u001b[1;33mRendering\u001b[0m    \u001b[2m             \u001b[0m\n",
       "\u001b[2;36m                    \u001b[0m         with the shortest possible total run_time of \u001b[32m0.0166667\u001b[0m seconds instead.  \u001b[2m             \u001b[0m\n"
      ]
     },
     "metadata": {},
     "output_type": "display_data"
    },
    {
     "data": {
      "text/html": [
       "<pre style=\"white-space:pre;overflow-x:auto;line-height:normal;font-family:Menlo,'DejaVu Sans Mono',consolas,'Courier New',monospace\"><span style=\"color: #7fbfbf; text-decoration-color: #7fbfbf\">                    </span><span style=\"color: #800000; text-decoration-color: #800000\">WARNING </span> The original total run_time of <span style=\"color: #800080; text-decoration-color: #800080; font-weight: bold\">integration_index_Scene.play</span><span style=\"font-weight: bold\">()</span>, <span style=\"color: #008000; text-decoration-color: #008000\">0.0106952</span> <a href=\"file:///home/carlo/Desktop/single-projects/manim-demopage/.venv_demo/lib/python3.12/site-packages/manim/scene/scene.py\" target=\"_blank\"><span style=\"color: #7f7f7f; text-decoration-color: #7f7f7f\">scene.py</span></a><span style=\"color: #7f7f7f; text-decoration-color: #7f7f7f\">:</span><a href=\"file:///home/carlo/Desktop/single-projects/manim-demopage/.venv_demo/lib/python3.12/site-packages/manim/scene/scene.py#1044\" target=\"_blank\"><span style=\"color: #7f7f7f; text-decoration-color: #7f7f7f\">1044</span></a>\n",
       "<span style=\"color: #7fbfbf; text-decoration-color: #7fbfbf\">                    </span>         seconds, is too short for the current frame rate of <span style=\"color: #008000; text-decoration-color: #008000\">60</span> FPS. <span style=\"color: #808000; text-decoration-color: #808000; font-weight: bold\">Rendering</span>    <span style=\"color: #7f7f7f; text-decoration-color: #7f7f7f\">             </span>\n",
       "<span style=\"color: #7fbfbf; text-decoration-color: #7fbfbf\">                    </span>         with the shortest possible total run_time of <span style=\"color: #008000; text-decoration-color: #008000\">0.0166667</span> seconds instead.  <span style=\"color: #7f7f7f; text-decoration-color: #7f7f7f\">             </span>\n",
       "</pre>\n"
      ],
      "text/plain": [
       "\u001b[2;36m                   \u001b[0m\u001b[2;36m \u001b[0m\u001b[31mWARNING \u001b[0m The original total run_time of \u001b[1;35mintegration_index_Scene.play\u001b[0m\u001b[1m(\u001b[0m\u001b[1m)\u001b[0m, \u001b[32m0.0106952\u001b[0m \u001b]8;id=795907;file:///home/carlo/Desktop/single-projects/manim-demopage/.venv_demo/lib/python3.12/site-packages/manim/scene/scene.py\u001b\\\u001b[2mscene.py\u001b[0m\u001b]8;;\u001b\\\u001b[2m:\u001b[0m\u001b]8;id=118677;file:///home/carlo/Desktop/single-projects/manim-demopage/.venv_demo/lib/python3.12/site-packages/manim/scene/scene.py#1044\u001b\\\u001b[2m1044\u001b[0m\u001b]8;;\u001b\\\n",
       "\u001b[2;36m                    \u001b[0m         seconds, is too short for the current frame rate of \u001b[32m60\u001b[0m FPS. \u001b[1;33mRendering\u001b[0m    \u001b[2m             \u001b[0m\n",
       "\u001b[2;36m                    \u001b[0m         with the shortest possible total run_time of \u001b[32m0.0166667\u001b[0m seconds instead.  \u001b[2m             \u001b[0m\n"
      ]
     },
     "metadata": {},
     "output_type": "display_data"
    },
    {
     "data": {
      "text/html": [
       "<pre style=\"white-space:pre;overflow-x:auto;line-height:normal;font-family:Menlo,'DejaVu Sans Mono',consolas,'Courier New',monospace\"><span style=\"color: #7fbfbf; text-decoration-color: #7fbfbf\">[01/24/25 14:36:25] </span><span style=\"color: #800000; text-decoration-color: #800000\">WARNING </span> The original total run_time of <span style=\"color: #800080; text-decoration-color: #800080; font-weight: bold\">integration_index_Scene.play</span><span style=\"font-weight: bold\">()</span>, <span style=\"color: #008000; text-decoration-color: #008000\">0.0106383</span> <a href=\"file:///home/carlo/Desktop/single-projects/manim-demopage/.venv_demo/lib/python3.12/site-packages/manim/scene/scene.py\" target=\"_blank\"><span style=\"color: #7f7f7f; text-decoration-color: #7f7f7f\">scene.py</span></a><span style=\"color: #7f7f7f; text-decoration-color: #7f7f7f\">:</span><a href=\"file:///home/carlo/Desktop/single-projects/manim-demopage/.venv_demo/lib/python3.12/site-packages/manim/scene/scene.py#1044\" target=\"_blank\"><span style=\"color: #7f7f7f; text-decoration-color: #7f7f7f\">1044</span></a>\n",
       "<span style=\"color: #7fbfbf; text-decoration-color: #7fbfbf\">                    </span>         seconds, is too short for the current frame rate of <span style=\"color: #008000; text-decoration-color: #008000\">60</span> FPS. <span style=\"color: #808000; text-decoration-color: #808000; font-weight: bold\">Rendering</span>    <span style=\"color: #7f7f7f; text-decoration-color: #7f7f7f\">             </span>\n",
       "<span style=\"color: #7fbfbf; text-decoration-color: #7fbfbf\">                    </span>         with the shortest possible total run_time of <span style=\"color: #008000; text-decoration-color: #008000\">0.0166667</span> seconds instead.  <span style=\"color: #7f7f7f; text-decoration-color: #7f7f7f\">             </span>\n",
       "</pre>\n"
      ],
      "text/plain": [
       "\u001b[2;36m[01/24/25 14:36:25]\u001b[0m\u001b[2;36m \u001b[0m\u001b[31mWARNING \u001b[0m The original total run_time of \u001b[1;35mintegration_index_Scene.play\u001b[0m\u001b[1m(\u001b[0m\u001b[1m)\u001b[0m, \u001b[32m0.0106383\u001b[0m \u001b]8;id=140921;file:///home/carlo/Desktop/single-projects/manim-demopage/.venv_demo/lib/python3.12/site-packages/manim/scene/scene.py\u001b\\\u001b[2mscene.py\u001b[0m\u001b]8;;\u001b\\\u001b[2m:\u001b[0m\u001b]8;id=930605;file:///home/carlo/Desktop/single-projects/manim-demopage/.venv_demo/lib/python3.12/site-packages/manim/scene/scene.py#1044\u001b\\\u001b[2m1044\u001b[0m\u001b]8;;\u001b\\\n",
       "\u001b[2;36m                    \u001b[0m         seconds, is too short for the current frame rate of \u001b[32m60\u001b[0m FPS. \u001b[1;33mRendering\u001b[0m    \u001b[2m             \u001b[0m\n",
       "\u001b[2;36m                    \u001b[0m         with the shortest possible total run_time of \u001b[32m0.0166667\u001b[0m seconds instead.  \u001b[2m             \u001b[0m\n"
      ]
     },
     "metadata": {},
     "output_type": "display_data"
    },
    {
     "data": {
      "text/html": [
       "<pre style=\"white-space:pre;overflow-x:auto;line-height:normal;font-family:Menlo,'DejaVu Sans Mono',consolas,'Courier New',monospace\"><span style=\"color: #7fbfbf; text-decoration-color: #7fbfbf\">                    </span><span style=\"color: #800000; text-decoration-color: #800000\">WARNING </span> The original total run_time of <span style=\"color: #800080; text-decoration-color: #800080; font-weight: bold\">integration_index_Scene.play</span><span style=\"font-weight: bold\">()</span>, <span style=\"color: #008000; text-decoration-color: #008000\">0.0106383</span> <a href=\"file:///home/carlo/Desktop/single-projects/manim-demopage/.venv_demo/lib/python3.12/site-packages/manim/scene/scene.py\" target=\"_blank\"><span style=\"color: #7f7f7f; text-decoration-color: #7f7f7f\">scene.py</span></a><span style=\"color: #7f7f7f; text-decoration-color: #7f7f7f\">:</span><a href=\"file:///home/carlo/Desktop/single-projects/manim-demopage/.venv_demo/lib/python3.12/site-packages/manim/scene/scene.py#1044\" target=\"_blank\"><span style=\"color: #7f7f7f; text-decoration-color: #7f7f7f\">1044</span></a>\n",
       "<span style=\"color: #7fbfbf; text-decoration-color: #7fbfbf\">                    </span>         seconds, is too short for the current frame rate of <span style=\"color: #008000; text-decoration-color: #008000\">60</span> FPS. <span style=\"color: #808000; text-decoration-color: #808000; font-weight: bold\">Rendering</span>    <span style=\"color: #7f7f7f; text-decoration-color: #7f7f7f\">             </span>\n",
       "<span style=\"color: #7fbfbf; text-decoration-color: #7fbfbf\">                    </span>         with the shortest possible total run_time of <span style=\"color: #008000; text-decoration-color: #008000\">0.0166667</span> seconds instead.  <span style=\"color: #7f7f7f; text-decoration-color: #7f7f7f\">             </span>\n",
       "</pre>\n"
      ],
      "text/plain": [
       "\u001b[2;36m                   \u001b[0m\u001b[2;36m \u001b[0m\u001b[31mWARNING \u001b[0m The original total run_time of \u001b[1;35mintegration_index_Scene.play\u001b[0m\u001b[1m(\u001b[0m\u001b[1m)\u001b[0m, \u001b[32m0.0106383\u001b[0m \u001b]8;id=645270;file:///home/carlo/Desktop/single-projects/manim-demopage/.venv_demo/lib/python3.12/site-packages/manim/scene/scene.py\u001b\\\u001b[2mscene.py\u001b[0m\u001b]8;;\u001b\\\u001b[2m:\u001b[0m\u001b]8;id=114706;file:///home/carlo/Desktop/single-projects/manim-demopage/.venv_demo/lib/python3.12/site-packages/manim/scene/scene.py#1044\u001b\\\u001b[2m1044\u001b[0m\u001b]8;;\u001b\\\n",
       "\u001b[2;36m                    \u001b[0m         seconds, is too short for the current frame rate of \u001b[32m60\u001b[0m FPS. \u001b[1;33mRendering\u001b[0m    \u001b[2m             \u001b[0m\n",
       "\u001b[2;36m                    \u001b[0m         with the shortest possible total run_time of \u001b[32m0.0166667\u001b[0m seconds instead.  \u001b[2m             \u001b[0m\n"
      ]
     },
     "metadata": {},
     "output_type": "display_data"
    },
    {
     "data": {
      "text/html": [
       "<pre style=\"white-space:pre;overflow-x:auto;line-height:normal;font-family:Menlo,'DejaVu Sans Mono',consolas,'Courier New',monospace\"><span style=\"color: #7fbfbf; text-decoration-color: #7fbfbf\">                    </span><span style=\"color: #800000; text-decoration-color: #800000\">WARNING </span> The original total run_time of <span style=\"color: #800080; text-decoration-color: #800080; font-weight: bold\">integration_index_Scene.play</span><span style=\"font-weight: bold\">()</span>, <span style=\"color: #008000; text-decoration-color: #008000\">0.010582</span>  <a href=\"file:///home/carlo/Desktop/single-projects/manim-demopage/.venv_demo/lib/python3.12/site-packages/manim/scene/scene.py\" target=\"_blank\"><span style=\"color: #7f7f7f; text-decoration-color: #7f7f7f\">scene.py</span></a><span style=\"color: #7f7f7f; text-decoration-color: #7f7f7f\">:</span><a href=\"file:///home/carlo/Desktop/single-projects/manim-demopage/.venv_demo/lib/python3.12/site-packages/manim/scene/scene.py#1044\" target=\"_blank\"><span style=\"color: #7f7f7f; text-decoration-color: #7f7f7f\">1044</span></a>\n",
       "<span style=\"color: #7fbfbf; text-decoration-color: #7fbfbf\">                    </span>         seconds, is too short for the current frame rate of <span style=\"color: #008000; text-decoration-color: #008000\">60</span> FPS. <span style=\"color: #808000; text-decoration-color: #808000; font-weight: bold\">Rendering</span>    <span style=\"color: #7f7f7f; text-decoration-color: #7f7f7f\">             </span>\n",
       "<span style=\"color: #7fbfbf; text-decoration-color: #7fbfbf\">                    </span>         with the shortest possible total run_time of <span style=\"color: #008000; text-decoration-color: #008000\">0.0166667</span> seconds instead.  <span style=\"color: #7f7f7f; text-decoration-color: #7f7f7f\">             </span>\n",
       "</pre>\n"
      ],
      "text/plain": [
       "\u001b[2;36m                   \u001b[0m\u001b[2;36m \u001b[0m\u001b[31mWARNING \u001b[0m The original total run_time of \u001b[1;35mintegration_index_Scene.play\u001b[0m\u001b[1m(\u001b[0m\u001b[1m)\u001b[0m, \u001b[32m0.010582\u001b[0m  \u001b]8;id=357166;file:///home/carlo/Desktop/single-projects/manim-demopage/.venv_demo/lib/python3.12/site-packages/manim/scene/scene.py\u001b\\\u001b[2mscene.py\u001b[0m\u001b]8;;\u001b\\\u001b[2m:\u001b[0m\u001b]8;id=846305;file:///home/carlo/Desktop/single-projects/manim-demopage/.venv_demo/lib/python3.12/site-packages/manim/scene/scene.py#1044\u001b\\\u001b[2m1044\u001b[0m\u001b]8;;\u001b\\\n",
       "\u001b[2;36m                    \u001b[0m         seconds, is too short for the current frame rate of \u001b[32m60\u001b[0m FPS. \u001b[1;33mRendering\u001b[0m    \u001b[2m             \u001b[0m\n",
       "\u001b[2;36m                    \u001b[0m         with the shortest possible total run_time of \u001b[32m0.0166667\u001b[0m seconds instead.  \u001b[2m             \u001b[0m\n"
      ]
     },
     "metadata": {},
     "output_type": "display_data"
    },
    {
     "data": {
      "text/html": [
       "<pre style=\"white-space:pre;overflow-x:auto;line-height:normal;font-family:Menlo,'DejaVu Sans Mono',consolas,'Courier New',monospace\"><span style=\"color: #7fbfbf; text-decoration-color: #7fbfbf\">                    </span><span style=\"color: #800000; text-decoration-color: #800000\">WARNING </span> The original total run_time of <span style=\"color: #800080; text-decoration-color: #800080; font-weight: bold\">integration_index_Scene.play</span><span style=\"font-weight: bold\">()</span>, <span style=\"color: #008000; text-decoration-color: #008000\">0.010582</span>  <a href=\"file:///home/carlo/Desktop/single-projects/manim-demopage/.venv_demo/lib/python3.12/site-packages/manim/scene/scene.py\" target=\"_blank\"><span style=\"color: #7f7f7f; text-decoration-color: #7f7f7f\">scene.py</span></a><span style=\"color: #7f7f7f; text-decoration-color: #7f7f7f\">:</span><a href=\"file:///home/carlo/Desktop/single-projects/manim-demopage/.venv_demo/lib/python3.12/site-packages/manim/scene/scene.py#1044\" target=\"_blank\"><span style=\"color: #7f7f7f; text-decoration-color: #7f7f7f\">1044</span></a>\n",
       "<span style=\"color: #7fbfbf; text-decoration-color: #7fbfbf\">                    </span>         seconds, is too short for the current frame rate of <span style=\"color: #008000; text-decoration-color: #008000\">60</span> FPS. <span style=\"color: #808000; text-decoration-color: #808000; font-weight: bold\">Rendering</span>    <span style=\"color: #7f7f7f; text-decoration-color: #7f7f7f\">             </span>\n",
       "<span style=\"color: #7fbfbf; text-decoration-color: #7fbfbf\">                    </span>         with the shortest possible total run_time of <span style=\"color: #008000; text-decoration-color: #008000\">0.0166667</span> seconds instead.  <span style=\"color: #7f7f7f; text-decoration-color: #7f7f7f\">             </span>\n",
       "</pre>\n"
      ],
      "text/plain": [
       "\u001b[2;36m                   \u001b[0m\u001b[2;36m \u001b[0m\u001b[31mWARNING \u001b[0m The original total run_time of \u001b[1;35mintegration_index_Scene.play\u001b[0m\u001b[1m(\u001b[0m\u001b[1m)\u001b[0m, \u001b[32m0.010582\u001b[0m  \u001b]8;id=91081;file:///home/carlo/Desktop/single-projects/manim-demopage/.venv_demo/lib/python3.12/site-packages/manim/scene/scene.py\u001b\\\u001b[2mscene.py\u001b[0m\u001b]8;;\u001b\\\u001b[2m:\u001b[0m\u001b]8;id=345036;file:///home/carlo/Desktop/single-projects/manim-demopage/.venv_demo/lib/python3.12/site-packages/manim/scene/scene.py#1044\u001b\\\u001b[2m1044\u001b[0m\u001b]8;;\u001b\\\n",
       "\u001b[2;36m                    \u001b[0m         seconds, is too short for the current frame rate of \u001b[32m60\u001b[0m FPS. \u001b[1;33mRendering\u001b[0m    \u001b[2m             \u001b[0m\n",
       "\u001b[2;36m                    \u001b[0m         with the shortest possible total run_time of \u001b[32m0.0166667\u001b[0m seconds instead.  \u001b[2m             \u001b[0m\n"
      ]
     },
     "metadata": {},
     "output_type": "display_data"
    },
    {
     "data": {
      "text/html": [
       "<pre style=\"white-space:pre;overflow-x:auto;line-height:normal;font-family:Menlo,'DejaVu Sans Mono',consolas,'Courier New',monospace\"><span style=\"color: #7fbfbf; text-decoration-color: #7fbfbf\">                    </span><span style=\"color: #800000; text-decoration-color: #800000\">WARNING </span> The original total run_time of <span style=\"color: #800080; text-decoration-color: #800080; font-weight: bold\">integration_index_Scene.play</span><span style=\"font-weight: bold\">()</span>, <span style=\"color: #008000; text-decoration-color: #008000\">0.0105263</span> <a href=\"file:///home/carlo/Desktop/single-projects/manim-demopage/.venv_demo/lib/python3.12/site-packages/manim/scene/scene.py\" target=\"_blank\"><span style=\"color: #7f7f7f; text-decoration-color: #7f7f7f\">scene.py</span></a><span style=\"color: #7f7f7f; text-decoration-color: #7f7f7f\">:</span><a href=\"file:///home/carlo/Desktop/single-projects/manim-demopage/.venv_demo/lib/python3.12/site-packages/manim/scene/scene.py#1044\" target=\"_blank\"><span style=\"color: #7f7f7f; text-decoration-color: #7f7f7f\">1044</span></a>\n",
       "<span style=\"color: #7fbfbf; text-decoration-color: #7fbfbf\">                    </span>         seconds, is too short for the current frame rate of <span style=\"color: #008000; text-decoration-color: #008000\">60</span> FPS. <span style=\"color: #808000; text-decoration-color: #808000; font-weight: bold\">Rendering</span>    <span style=\"color: #7f7f7f; text-decoration-color: #7f7f7f\">             </span>\n",
       "<span style=\"color: #7fbfbf; text-decoration-color: #7fbfbf\">                    </span>         with the shortest possible total run_time of <span style=\"color: #008000; text-decoration-color: #008000\">0.0166667</span> seconds instead.  <span style=\"color: #7f7f7f; text-decoration-color: #7f7f7f\">             </span>\n",
       "</pre>\n"
      ],
      "text/plain": [
       "\u001b[2;36m                   \u001b[0m\u001b[2;36m \u001b[0m\u001b[31mWARNING \u001b[0m The original total run_time of \u001b[1;35mintegration_index_Scene.play\u001b[0m\u001b[1m(\u001b[0m\u001b[1m)\u001b[0m, \u001b[32m0.0105263\u001b[0m \u001b]8;id=690123;file:///home/carlo/Desktop/single-projects/manim-demopage/.venv_demo/lib/python3.12/site-packages/manim/scene/scene.py\u001b\\\u001b[2mscene.py\u001b[0m\u001b]8;;\u001b\\\u001b[2m:\u001b[0m\u001b]8;id=365612;file:///home/carlo/Desktop/single-projects/manim-demopage/.venv_demo/lib/python3.12/site-packages/manim/scene/scene.py#1044\u001b\\\u001b[2m1044\u001b[0m\u001b]8;;\u001b\\\n",
       "\u001b[2;36m                    \u001b[0m         seconds, is too short for the current frame rate of \u001b[32m60\u001b[0m FPS. \u001b[1;33mRendering\u001b[0m    \u001b[2m             \u001b[0m\n",
       "\u001b[2;36m                    \u001b[0m         with the shortest possible total run_time of \u001b[32m0.0166667\u001b[0m seconds instead.  \u001b[2m             \u001b[0m\n"
      ]
     },
     "metadata": {},
     "output_type": "display_data"
    },
    {
     "data": {
      "text/html": [
       "<pre style=\"white-space:pre;overflow-x:auto;line-height:normal;font-family:Menlo,'DejaVu Sans Mono',consolas,'Courier New',monospace\"><span style=\"color: #7fbfbf; text-decoration-color: #7fbfbf\">                    </span><span style=\"color: #800000; text-decoration-color: #800000\">WARNING </span> The original total run_time of <span style=\"color: #800080; text-decoration-color: #800080; font-weight: bold\">integration_index_Scene.play</span><span style=\"font-weight: bold\">()</span>, <span style=\"color: #008000; text-decoration-color: #008000\">0.0105263</span> <a href=\"file:///home/carlo/Desktop/single-projects/manim-demopage/.venv_demo/lib/python3.12/site-packages/manim/scene/scene.py\" target=\"_blank\"><span style=\"color: #7f7f7f; text-decoration-color: #7f7f7f\">scene.py</span></a><span style=\"color: #7f7f7f; text-decoration-color: #7f7f7f\">:</span><a href=\"file:///home/carlo/Desktop/single-projects/manim-demopage/.venv_demo/lib/python3.12/site-packages/manim/scene/scene.py#1044\" target=\"_blank\"><span style=\"color: #7f7f7f; text-decoration-color: #7f7f7f\">1044</span></a>\n",
       "<span style=\"color: #7fbfbf; text-decoration-color: #7fbfbf\">                    </span>         seconds, is too short for the current frame rate of <span style=\"color: #008000; text-decoration-color: #008000\">60</span> FPS. <span style=\"color: #808000; text-decoration-color: #808000; font-weight: bold\">Rendering</span>    <span style=\"color: #7f7f7f; text-decoration-color: #7f7f7f\">             </span>\n",
       "<span style=\"color: #7fbfbf; text-decoration-color: #7fbfbf\">                    </span>         with the shortest possible total run_time of <span style=\"color: #008000; text-decoration-color: #008000\">0.0166667</span> seconds instead.  <span style=\"color: #7f7f7f; text-decoration-color: #7f7f7f\">             </span>\n",
       "</pre>\n"
      ],
      "text/plain": [
       "\u001b[2;36m                   \u001b[0m\u001b[2;36m \u001b[0m\u001b[31mWARNING \u001b[0m The original total run_time of \u001b[1;35mintegration_index_Scene.play\u001b[0m\u001b[1m(\u001b[0m\u001b[1m)\u001b[0m, \u001b[32m0.0105263\u001b[0m \u001b]8;id=369981;file:///home/carlo/Desktop/single-projects/manim-demopage/.venv_demo/lib/python3.12/site-packages/manim/scene/scene.py\u001b\\\u001b[2mscene.py\u001b[0m\u001b]8;;\u001b\\\u001b[2m:\u001b[0m\u001b]8;id=618553;file:///home/carlo/Desktop/single-projects/manim-demopage/.venv_demo/lib/python3.12/site-packages/manim/scene/scene.py#1044\u001b\\\u001b[2m1044\u001b[0m\u001b]8;;\u001b\\\n",
       "\u001b[2;36m                    \u001b[0m         seconds, is too short for the current frame rate of \u001b[32m60\u001b[0m FPS. \u001b[1;33mRendering\u001b[0m    \u001b[2m             \u001b[0m\n",
       "\u001b[2;36m                    \u001b[0m         with the shortest possible total run_time of \u001b[32m0.0166667\u001b[0m seconds instead.  \u001b[2m             \u001b[0m\n"
      ]
     },
     "metadata": {},
     "output_type": "display_data"
    },
    {
     "data": {
      "text/html": [
       "<pre style=\"white-space:pre;overflow-x:auto;line-height:normal;font-family:Menlo,'DejaVu Sans Mono',consolas,'Courier New',monospace\"><span style=\"color: #7fbfbf; text-decoration-color: #7fbfbf\">                    </span><span style=\"color: #800000; text-decoration-color: #800000\">WARNING </span> The original total run_time of <span style=\"color: #800080; text-decoration-color: #800080; font-weight: bold\">integration_index_Scene.play</span><span style=\"font-weight: bold\">()</span>, <span style=\"color: #008000; text-decoration-color: #008000\">0.0104712</span> <a href=\"file:///home/carlo/Desktop/single-projects/manim-demopage/.venv_demo/lib/python3.12/site-packages/manim/scene/scene.py\" target=\"_blank\"><span style=\"color: #7f7f7f; text-decoration-color: #7f7f7f\">scene.py</span></a><span style=\"color: #7f7f7f; text-decoration-color: #7f7f7f\">:</span><a href=\"file:///home/carlo/Desktop/single-projects/manim-demopage/.venv_demo/lib/python3.12/site-packages/manim/scene/scene.py#1044\" target=\"_blank\"><span style=\"color: #7f7f7f; text-decoration-color: #7f7f7f\">1044</span></a>\n",
       "<span style=\"color: #7fbfbf; text-decoration-color: #7fbfbf\">                    </span>         seconds, is too short for the current frame rate of <span style=\"color: #008000; text-decoration-color: #008000\">60</span> FPS. <span style=\"color: #808000; text-decoration-color: #808000; font-weight: bold\">Rendering</span>    <span style=\"color: #7f7f7f; text-decoration-color: #7f7f7f\">             </span>\n",
       "<span style=\"color: #7fbfbf; text-decoration-color: #7fbfbf\">                    </span>         with the shortest possible total run_time of <span style=\"color: #008000; text-decoration-color: #008000\">0.0166667</span> seconds instead.  <span style=\"color: #7f7f7f; text-decoration-color: #7f7f7f\">             </span>\n",
       "</pre>\n"
      ],
      "text/plain": [
       "\u001b[2;36m                   \u001b[0m\u001b[2;36m \u001b[0m\u001b[31mWARNING \u001b[0m The original total run_time of \u001b[1;35mintegration_index_Scene.play\u001b[0m\u001b[1m(\u001b[0m\u001b[1m)\u001b[0m, \u001b[32m0.0104712\u001b[0m \u001b]8;id=778900;file:///home/carlo/Desktop/single-projects/manim-demopage/.venv_demo/lib/python3.12/site-packages/manim/scene/scene.py\u001b\\\u001b[2mscene.py\u001b[0m\u001b]8;;\u001b\\\u001b[2m:\u001b[0m\u001b]8;id=538850;file:///home/carlo/Desktop/single-projects/manim-demopage/.venv_demo/lib/python3.12/site-packages/manim/scene/scene.py#1044\u001b\\\u001b[2m1044\u001b[0m\u001b]8;;\u001b\\\n",
       "\u001b[2;36m                    \u001b[0m         seconds, is too short for the current frame rate of \u001b[32m60\u001b[0m FPS. \u001b[1;33mRendering\u001b[0m    \u001b[2m             \u001b[0m\n",
       "\u001b[2;36m                    \u001b[0m         with the shortest possible total run_time of \u001b[32m0.0166667\u001b[0m seconds instead.  \u001b[2m             \u001b[0m\n"
      ]
     },
     "metadata": {},
     "output_type": "display_data"
    },
    {
     "data": {
      "text/html": [
       "<pre style=\"white-space:pre;overflow-x:auto;line-height:normal;font-family:Menlo,'DejaVu Sans Mono',consolas,'Courier New',monospace\"><span style=\"color: #7fbfbf; text-decoration-color: #7fbfbf\">                    </span><span style=\"color: #800000; text-decoration-color: #800000\">WARNING </span> The original total run_time of <span style=\"color: #800080; text-decoration-color: #800080; font-weight: bold\">integration_index_Scene.play</span><span style=\"font-weight: bold\">()</span>, <span style=\"color: #008000; text-decoration-color: #008000\">0.0104712</span> <a href=\"file:///home/carlo/Desktop/single-projects/manim-demopage/.venv_demo/lib/python3.12/site-packages/manim/scene/scene.py\" target=\"_blank\"><span style=\"color: #7f7f7f; text-decoration-color: #7f7f7f\">scene.py</span></a><span style=\"color: #7f7f7f; text-decoration-color: #7f7f7f\">:</span><a href=\"file:///home/carlo/Desktop/single-projects/manim-demopage/.venv_demo/lib/python3.12/site-packages/manim/scene/scene.py#1044\" target=\"_blank\"><span style=\"color: #7f7f7f; text-decoration-color: #7f7f7f\">1044</span></a>\n",
       "<span style=\"color: #7fbfbf; text-decoration-color: #7fbfbf\">                    </span>         seconds, is too short for the current frame rate of <span style=\"color: #008000; text-decoration-color: #008000\">60</span> FPS. <span style=\"color: #808000; text-decoration-color: #808000; font-weight: bold\">Rendering</span>    <span style=\"color: #7f7f7f; text-decoration-color: #7f7f7f\">             </span>\n",
       "<span style=\"color: #7fbfbf; text-decoration-color: #7fbfbf\">                    </span>         with the shortest possible total run_time of <span style=\"color: #008000; text-decoration-color: #008000\">0.0166667</span> seconds instead.  <span style=\"color: #7f7f7f; text-decoration-color: #7f7f7f\">             </span>\n",
       "</pre>\n"
      ],
      "text/plain": [
       "\u001b[2;36m                   \u001b[0m\u001b[2;36m \u001b[0m\u001b[31mWARNING \u001b[0m The original total run_time of \u001b[1;35mintegration_index_Scene.play\u001b[0m\u001b[1m(\u001b[0m\u001b[1m)\u001b[0m, \u001b[32m0.0104712\u001b[0m \u001b]8;id=403884;file:///home/carlo/Desktop/single-projects/manim-demopage/.venv_demo/lib/python3.12/site-packages/manim/scene/scene.py\u001b\\\u001b[2mscene.py\u001b[0m\u001b]8;;\u001b\\\u001b[2m:\u001b[0m\u001b]8;id=516145;file:///home/carlo/Desktop/single-projects/manim-demopage/.venv_demo/lib/python3.12/site-packages/manim/scene/scene.py#1044\u001b\\\u001b[2m1044\u001b[0m\u001b]8;;\u001b\\\n",
       "\u001b[2;36m                    \u001b[0m         seconds, is too short for the current frame rate of \u001b[32m60\u001b[0m FPS. \u001b[1;33mRendering\u001b[0m    \u001b[2m             \u001b[0m\n",
       "\u001b[2;36m                    \u001b[0m         with the shortest possible total run_time of \u001b[32m0.0166667\u001b[0m seconds instead.  \u001b[2m             \u001b[0m\n"
      ]
     },
     "metadata": {},
     "output_type": "display_data"
    },
    {
     "data": {
      "text/html": [
       "<pre style=\"white-space:pre;overflow-x:auto;line-height:normal;font-family:Menlo,'DejaVu Sans Mono',consolas,'Courier New',monospace\"><span style=\"color: #7fbfbf; text-decoration-color: #7fbfbf\">                    </span><span style=\"color: #800000; text-decoration-color: #800000\">WARNING </span> The original total run_time of <span style=\"color: #800080; text-decoration-color: #800080; font-weight: bold\">integration_index_Scene.play</span><span style=\"font-weight: bold\">()</span>, <span style=\"color: #008000; text-decoration-color: #008000\">0.0104167</span> <a href=\"file:///home/carlo/Desktop/single-projects/manim-demopage/.venv_demo/lib/python3.12/site-packages/manim/scene/scene.py\" target=\"_blank\"><span style=\"color: #7f7f7f; text-decoration-color: #7f7f7f\">scene.py</span></a><span style=\"color: #7f7f7f; text-decoration-color: #7f7f7f\">:</span><a href=\"file:///home/carlo/Desktop/single-projects/manim-demopage/.venv_demo/lib/python3.12/site-packages/manim/scene/scene.py#1044\" target=\"_blank\"><span style=\"color: #7f7f7f; text-decoration-color: #7f7f7f\">1044</span></a>\n",
       "<span style=\"color: #7fbfbf; text-decoration-color: #7fbfbf\">                    </span>         seconds, is too short for the current frame rate of <span style=\"color: #008000; text-decoration-color: #008000\">60</span> FPS. <span style=\"color: #808000; text-decoration-color: #808000; font-weight: bold\">Rendering</span>    <span style=\"color: #7f7f7f; text-decoration-color: #7f7f7f\">             </span>\n",
       "<span style=\"color: #7fbfbf; text-decoration-color: #7fbfbf\">                    </span>         with the shortest possible total run_time of <span style=\"color: #008000; text-decoration-color: #008000\">0.0166667</span> seconds instead.  <span style=\"color: #7f7f7f; text-decoration-color: #7f7f7f\">             </span>\n",
       "</pre>\n"
      ],
      "text/plain": [
       "\u001b[2;36m                   \u001b[0m\u001b[2;36m \u001b[0m\u001b[31mWARNING \u001b[0m The original total run_time of \u001b[1;35mintegration_index_Scene.play\u001b[0m\u001b[1m(\u001b[0m\u001b[1m)\u001b[0m, \u001b[32m0.0104167\u001b[0m \u001b]8;id=726642;file:///home/carlo/Desktop/single-projects/manim-demopage/.venv_demo/lib/python3.12/site-packages/manim/scene/scene.py\u001b\\\u001b[2mscene.py\u001b[0m\u001b]8;;\u001b\\\u001b[2m:\u001b[0m\u001b]8;id=816117;file:///home/carlo/Desktop/single-projects/manim-demopage/.venv_demo/lib/python3.12/site-packages/manim/scene/scene.py#1044\u001b\\\u001b[2m1044\u001b[0m\u001b]8;;\u001b\\\n",
       "\u001b[2;36m                    \u001b[0m         seconds, is too short for the current frame rate of \u001b[32m60\u001b[0m FPS. \u001b[1;33mRendering\u001b[0m    \u001b[2m             \u001b[0m\n",
       "\u001b[2;36m                    \u001b[0m         with the shortest possible total run_time of \u001b[32m0.0166667\u001b[0m seconds instead.  \u001b[2m             \u001b[0m\n"
      ]
     },
     "metadata": {},
     "output_type": "display_data"
    },
    {
     "data": {
      "text/html": [
       "<pre style=\"white-space:pre;overflow-x:auto;line-height:normal;font-family:Menlo,'DejaVu Sans Mono',consolas,'Courier New',monospace\"><span style=\"color: #7fbfbf; text-decoration-color: #7fbfbf\">                    </span><span style=\"color: #800000; text-decoration-color: #800000\">WARNING </span> The original total run_time of <span style=\"color: #800080; text-decoration-color: #800080; font-weight: bold\">integration_index_Scene.play</span><span style=\"font-weight: bold\">()</span>, <span style=\"color: #008000; text-decoration-color: #008000\">0.0104167</span> <a href=\"file:///home/carlo/Desktop/single-projects/manim-demopage/.venv_demo/lib/python3.12/site-packages/manim/scene/scene.py\" target=\"_blank\"><span style=\"color: #7f7f7f; text-decoration-color: #7f7f7f\">scene.py</span></a><span style=\"color: #7f7f7f; text-decoration-color: #7f7f7f\">:</span><a href=\"file:///home/carlo/Desktop/single-projects/manim-demopage/.venv_demo/lib/python3.12/site-packages/manim/scene/scene.py#1044\" target=\"_blank\"><span style=\"color: #7f7f7f; text-decoration-color: #7f7f7f\">1044</span></a>\n",
       "<span style=\"color: #7fbfbf; text-decoration-color: #7fbfbf\">                    </span>         seconds, is too short for the current frame rate of <span style=\"color: #008000; text-decoration-color: #008000\">60</span> FPS. <span style=\"color: #808000; text-decoration-color: #808000; font-weight: bold\">Rendering</span>    <span style=\"color: #7f7f7f; text-decoration-color: #7f7f7f\">             </span>\n",
       "<span style=\"color: #7fbfbf; text-decoration-color: #7fbfbf\">                    </span>         with the shortest possible total run_time of <span style=\"color: #008000; text-decoration-color: #008000\">0.0166667</span> seconds instead.  <span style=\"color: #7f7f7f; text-decoration-color: #7f7f7f\">             </span>\n",
       "</pre>\n"
      ],
      "text/plain": [
       "\u001b[2;36m                   \u001b[0m\u001b[2;36m \u001b[0m\u001b[31mWARNING \u001b[0m The original total run_time of \u001b[1;35mintegration_index_Scene.play\u001b[0m\u001b[1m(\u001b[0m\u001b[1m)\u001b[0m, \u001b[32m0.0104167\u001b[0m \u001b]8;id=300088;file:///home/carlo/Desktop/single-projects/manim-demopage/.venv_demo/lib/python3.12/site-packages/manim/scene/scene.py\u001b\\\u001b[2mscene.py\u001b[0m\u001b]8;;\u001b\\\u001b[2m:\u001b[0m\u001b]8;id=980678;file:///home/carlo/Desktop/single-projects/manim-demopage/.venv_demo/lib/python3.12/site-packages/manim/scene/scene.py#1044\u001b\\\u001b[2m1044\u001b[0m\u001b]8;;\u001b\\\n",
       "\u001b[2;36m                    \u001b[0m         seconds, is too short for the current frame rate of \u001b[32m60\u001b[0m FPS. \u001b[1;33mRendering\u001b[0m    \u001b[2m             \u001b[0m\n",
       "\u001b[2;36m                    \u001b[0m         with the shortest possible total run_time of \u001b[32m0.0166667\u001b[0m seconds instead.  \u001b[2m             \u001b[0m\n"
      ]
     },
     "metadata": {},
     "output_type": "display_data"
    },
    {
     "data": {
      "text/html": [
       "<pre style=\"white-space:pre;overflow-x:auto;line-height:normal;font-family:Menlo,'DejaVu Sans Mono',consolas,'Courier New',monospace\"><span style=\"color: #7fbfbf; text-decoration-color: #7fbfbf\">[01/24/25 14:36:26] </span><span style=\"color: #800000; text-decoration-color: #800000\">WARNING </span> The original total run_time of <span style=\"color: #800080; text-decoration-color: #800080; font-weight: bold\">integration_index_Scene.play</span><span style=\"font-weight: bold\">()</span>, <span style=\"color: #008000; text-decoration-color: #008000\">0.0103627</span> <a href=\"file:///home/carlo/Desktop/single-projects/manim-demopage/.venv_demo/lib/python3.12/site-packages/manim/scene/scene.py\" target=\"_blank\"><span style=\"color: #7f7f7f; text-decoration-color: #7f7f7f\">scene.py</span></a><span style=\"color: #7f7f7f; text-decoration-color: #7f7f7f\">:</span><a href=\"file:///home/carlo/Desktop/single-projects/manim-demopage/.venv_demo/lib/python3.12/site-packages/manim/scene/scene.py#1044\" target=\"_blank\"><span style=\"color: #7f7f7f; text-decoration-color: #7f7f7f\">1044</span></a>\n",
       "<span style=\"color: #7fbfbf; text-decoration-color: #7fbfbf\">                    </span>         seconds, is too short for the current frame rate of <span style=\"color: #008000; text-decoration-color: #008000\">60</span> FPS. <span style=\"color: #808000; text-decoration-color: #808000; font-weight: bold\">Rendering</span>    <span style=\"color: #7f7f7f; text-decoration-color: #7f7f7f\">             </span>\n",
       "<span style=\"color: #7fbfbf; text-decoration-color: #7fbfbf\">                    </span>         with the shortest possible total run_time of <span style=\"color: #008000; text-decoration-color: #008000\">0.0166667</span> seconds instead.  <span style=\"color: #7f7f7f; text-decoration-color: #7f7f7f\">             </span>\n",
       "</pre>\n"
      ],
      "text/plain": [
       "\u001b[2;36m[01/24/25 14:36:26]\u001b[0m\u001b[2;36m \u001b[0m\u001b[31mWARNING \u001b[0m The original total run_time of \u001b[1;35mintegration_index_Scene.play\u001b[0m\u001b[1m(\u001b[0m\u001b[1m)\u001b[0m, \u001b[32m0.0103627\u001b[0m \u001b]8;id=899273;file:///home/carlo/Desktop/single-projects/manim-demopage/.venv_demo/lib/python3.12/site-packages/manim/scene/scene.py\u001b\\\u001b[2mscene.py\u001b[0m\u001b]8;;\u001b\\\u001b[2m:\u001b[0m\u001b]8;id=465981;file:///home/carlo/Desktop/single-projects/manim-demopage/.venv_demo/lib/python3.12/site-packages/manim/scene/scene.py#1044\u001b\\\u001b[2m1044\u001b[0m\u001b]8;;\u001b\\\n",
       "\u001b[2;36m                    \u001b[0m         seconds, is too short for the current frame rate of \u001b[32m60\u001b[0m FPS. \u001b[1;33mRendering\u001b[0m    \u001b[2m             \u001b[0m\n",
       "\u001b[2;36m                    \u001b[0m         with the shortest possible total run_time of \u001b[32m0.0166667\u001b[0m seconds instead.  \u001b[2m             \u001b[0m\n"
      ]
     },
     "metadata": {},
     "output_type": "display_data"
    },
    {
     "data": {
      "text/html": [
       "<pre style=\"white-space:pre;overflow-x:auto;line-height:normal;font-family:Menlo,'DejaVu Sans Mono',consolas,'Courier New',monospace\"><span style=\"color: #7fbfbf; text-decoration-color: #7fbfbf\">                    </span><span style=\"color: #800000; text-decoration-color: #800000\">WARNING </span> The original total run_time of <span style=\"color: #800080; text-decoration-color: #800080; font-weight: bold\">integration_index_Scene.play</span><span style=\"font-weight: bold\">()</span>, <span style=\"color: #008000; text-decoration-color: #008000\">0.0103627</span> <a href=\"file:///home/carlo/Desktop/single-projects/manim-demopage/.venv_demo/lib/python3.12/site-packages/manim/scene/scene.py\" target=\"_blank\"><span style=\"color: #7f7f7f; text-decoration-color: #7f7f7f\">scene.py</span></a><span style=\"color: #7f7f7f; text-decoration-color: #7f7f7f\">:</span><a href=\"file:///home/carlo/Desktop/single-projects/manim-demopage/.venv_demo/lib/python3.12/site-packages/manim/scene/scene.py#1044\" target=\"_blank\"><span style=\"color: #7f7f7f; text-decoration-color: #7f7f7f\">1044</span></a>\n",
       "<span style=\"color: #7fbfbf; text-decoration-color: #7fbfbf\">                    </span>         seconds, is too short for the current frame rate of <span style=\"color: #008000; text-decoration-color: #008000\">60</span> FPS. <span style=\"color: #808000; text-decoration-color: #808000; font-weight: bold\">Rendering</span>    <span style=\"color: #7f7f7f; text-decoration-color: #7f7f7f\">             </span>\n",
       "<span style=\"color: #7fbfbf; text-decoration-color: #7fbfbf\">                    </span>         with the shortest possible total run_time of <span style=\"color: #008000; text-decoration-color: #008000\">0.0166667</span> seconds instead.  <span style=\"color: #7f7f7f; text-decoration-color: #7f7f7f\">             </span>\n",
       "</pre>\n"
      ],
      "text/plain": [
       "\u001b[2;36m                   \u001b[0m\u001b[2;36m \u001b[0m\u001b[31mWARNING \u001b[0m The original total run_time of \u001b[1;35mintegration_index_Scene.play\u001b[0m\u001b[1m(\u001b[0m\u001b[1m)\u001b[0m, \u001b[32m0.0103627\u001b[0m \u001b]8;id=483375;file:///home/carlo/Desktop/single-projects/manim-demopage/.venv_demo/lib/python3.12/site-packages/manim/scene/scene.py\u001b\\\u001b[2mscene.py\u001b[0m\u001b]8;;\u001b\\\u001b[2m:\u001b[0m\u001b]8;id=213865;file:///home/carlo/Desktop/single-projects/manim-demopage/.venv_demo/lib/python3.12/site-packages/manim/scene/scene.py#1044\u001b\\\u001b[2m1044\u001b[0m\u001b]8;;\u001b\\\n",
       "\u001b[2;36m                    \u001b[0m         seconds, is too short for the current frame rate of \u001b[32m60\u001b[0m FPS. \u001b[1;33mRendering\u001b[0m    \u001b[2m             \u001b[0m\n",
       "\u001b[2;36m                    \u001b[0m         with the shortest possible total run_time of \u001b[32m0.0166667\u001b[0m seconds instead.  \u001b[2m             \u001b[0m\n"
      ]
     },
     "metadata": {},
     "output_type": "display_data"
    },
    {
     "data": {
      "text/html": [
       "<pre style=\"white-space:pre;overflow-x:auto;line-height:normal;font-family:Menlo,'DejaVu Sans Mono',consolas,'Courier New',monospace\"><span style=\"color: #7fbfbf; text-decoration-color: #7fbfbf\">                    </span><span style=\"color: #800000; text-decoration-color: #800000\">WARNING </span> The original total run_time of <span style=\"color: #800080; text-decoration-color: #800080; font-weight: bold\">integration_index_Scene.play</span><span style=\"font-weight: bold\">()</span>, <span style=\"color: #008000; text-decoration-color: #008000\">0.0103093</span> <a href=\"file:///home/carlo/Desktop/single-projects/manim-demopage/.venv_demo/lib/python3.12/site-packages/manim/scene/scene.py\" target=\"_blank\"><span style=\"color: #7f7f7f; text-decoration-color: #7f7f7f\">scene.py</span></a><span style=\"color: #7f7f7f; text-decoration-color: #7f7f7f\">:</span><a href=\"file:///home/carlo/Desktop/single-projects/manim-demopage/.venv_demo/lib/python3.12/site-packages/manim/scene/scene.py#1044\" target=\"_blank\"><span style=\"color: #7f7f7f; text-decoration-color: #7f7f7f\">1044</span></a>\n",
       "<span style=\"color: #7fbfbf; text-decoration-color: #7fbfbf\">                    </span>         seconds, is too short for the current frame rate of <span style=\"color: #008000; text-decoration-color: #008000\">60</span> FPS. <span style=\"color: #808000; text-decoration-color: #808000; font-weight: bold\">Rendering</span>    <span style=\"color: #7f7f7f; text-decoration-color: #7f7f7f\">             </span>\n",
       "<span style=\"color: #7fbfbf; text-decoration-color: #7fbfbf\">                    </span>         with the shortest possible total run_time of <span style=\"color: #008000; text-decoration-color: #008000\">0.0166667</span> seconds instead.  <span style=\"color: #7f7f7f; text-decoration-color: #7f7f7f\">             </span>\n",
       "</pre>\n"
      ],
      "text/plain": [
       "\u001b[2;36m                   \u001b[0m\u001b[2;36m \u001b[0m\u001b[31mWARNING \u001b[0m The original total run_time of \u001b[1;35mintegration_index_Scene.play\u001b[0m\u001b[1m(\u001b[0m\u001b[1m)\u001b[0m, \u001b[32m0.0103093\u001b[0m \u001b]8;id=449320;file:///home/carlo/Desktop/single-projects/manim-demopage/.venv_demo/lib/python3.12/site-packages/manim/scene/scene.py\u001b\\\u001b[2mscene.py\u001b[0m\u001b]8;;\u001b\\\u001b[2m:\u001b[0m\u001b]8;id=942046;file:///home/carlo/Desktop/single-projects/manim-demopage/.venv_demo/lib/python3.12/site-packages/manim/scene/scene.py#1044\u001b\\\u001b[2m1044\u001b[0m\u001b]8;;\u001b\\\n",
       "\u001b[2;36m                    \u001b[0m         seconds, is too short for the current frame rate of \u001b[32m60\u001b[0m FPS. \u001b[1;33mRendering\u001b[0m    \u001b[2m             \u001b[0m\n",
       "\u001b[2;36m                    \u001b[0m         with the shortest possible total run_time of \u001b[32m0.0166667\u001b[0m seconds instead.  \u001b[2m             \u001b[0m\n"
      ]
     },
     "metadata": {},
     "output_type": "display_data"
    },
    {
     "data": {
      "text/html": [
       "<pre style=\"white-space:pre;overflow-x:auto;line-height:normal;font-family:Menlo,'DejaVu Sans Mono',consolas,'Courier New',monospace\"><span style=\"color: #7fbfbf; text-decoration-color: #7fbfbf\">                    </span><span style=\"color: #800000; text-decoration-color: #800000\">WARNING </span> The original total run_time of <span style=\"color: #800080; text-decoration-color: #800080; font-weight: bold\">integration_index_Scene.play</span><span style=\"font-weight: bold\">()</span>, <span style=\"color: #008000; text-decoration-color: #008000\">0.0103093</span> <a href=\"file:///home/carlo/Desktop/single-projects/manim-demopage/.venv_demo/lib/python3.12/site-packages/manim/scene/scene.py\" target=\"_blank\"><span style=\"color: #7f7f7f; text-decoration-color: #7f7f7f\">scene.py</span></a><span style=\"color: #7f7f7f; text-decoration-color: #7f7f7f\">:</span><a href=\"file:///home/carlo/Desktop/single-projects/manim-demopage/.venv_demo/lib/python3.12/site-packages/manim/scene/scene.py#1044\" target=\"_blank\"><span style=\"color: #7f7f7f; text-decoration-color: #7f7f7f\">1044</span></a>\n",
       "<span style=\"color: #7fbfbf; text-decoration-color: #7fbfbf\">                    </span>         seconds, is too short for the current frame rate of <span style=\"color: #008000; text-decoration-color: #008000\">60</span> FPS. <span style=\"color: #808000; text-decoration-color: #808000; font-weight: bold\">Rendering</span>    <span style=\"color: #7f7f7f; text-decoration-color: #7f7f7f\">             </span>\n",
       "<span style=\"color: #7fbfbf; text-decoration-color: #7fbfbf\">                    </span>         with the shortest possible total run_time of <span style=\"color: #008000; text-decoration-color: #008000\">0.0166667</span> seconds instead.  <span style=\"color: #7f7f7f; text-decoration-color: #7f7f7f\">             </span>\n",
       "</pre>\n"
      ],
      "text/plain": [
       "\u001b[2;36m                   \u001b[0m\u001b[2;36m \u001b[0m\u001b[31mWARNING \u001b[0m The original total run_time of \u001b[1;35mintegration_index_Scene.play\u001b[0m\u001b[1m(\u001b[0m\u001b[1m)\u001b[0m, \u001b[32m0.0103093\u001b[0m \u001b]8;id=825594;file:///home/carlo/Desktop/single-projects/manim-demopage/.venv_demo/lib/python3.12/site-packages/manim/scene/scene.py\u001b\\\u001b[2mscene.py\u001b[0m\u001b]8;;\u001b\\\u001b[2m:\u001b[0m\u001b]8;id=712048;file:///home/carlo/Desktop/single-projects/manim-demopage/.venv_demo/lib/python3.12/site-packages/manim/scene/scene.py#1044\u001b\\\u001b[2m1044\u001b[0m\u001b]8;;\u001b\\\n",
       "\u001b[2;36m                    \u001b[0m         seconds, is too short for the current frame rate of \u001b[32m60\u001b[0m FPS. \u001b[1;33mRendering\u001b[0m    \u001b[2m             \u001b[0m\n",
       "\u001b[2;36m                    \u001b[0m         with the shortest possible total run_time of \u001b[32m0.0166667\u001b[0m seconds instead.  \u001b[2m             \u001b[0m\n"
      ]
     },
     "metadata": {},
     "output_type": "display_data"
    },
    {
     "data": {
      "text/html": [
       "<pre style=\"white-space:pre;overflow-x:auto;line-height:normal;font-family:Menlo,'DejaVu Sans Mono',consolas,'Courier New',monospace\"><span style=\"color: #7fbfbf; text-decoration-color: #7fbfbf\">                    </span><span style=\"color: #800000; text-decoration-color: #800000\">WARNING </span> The original total run_time of <span style=\"color: #800080; text-decoration-color: #800080; font-weight: bold\">integration_index_Scene.play</span><span style=\"font-weight: bold\">()</span>, <span style=\"color: #008000; text-decoration-color: #008000\">0.0102564</span> <a href=\"file:///home/carlo/Desktop/single-projects/manim-demopage/.venv_demo/lib/python3.12/site-packages/manim/scene/scene.py\" target=\"_blank\"><span style=\"color: #7f7f7f; text-decoration-color: #7f7f7f\">scene.py</span></a><span style=\"color: #7f7f7f; text-decoration-color: #7f7f7f\">:</span><a href=\"file:///home/carlo/Desktop/single-projects/manim-demopage/.venv_demo/lib/python3.12/site-packages/manim/scene/scene.py#1044\" target=\"_blank\"><span style=\"color: #7f7f7f; text-decoration-color: #7f7f7f\">1044</span></a>\n",
       "<span style=\"color: #7fbfbf; text-decoration-color: #7fbfbf\">                    </span>         seconds, is too short for the current frame rate of <span style=\"color: #008000; text-decoration-color: #008000\">60</span> FPS. <span style=\"color: #808000; text-decoration-color: #808000; font-weight: bold\">Rendering</span>    <span style=\"color: #7f7f7f; text-decoration-color: #7f7f7f\">             </span>\n",
       "<span style=\"color: #7fbfbf; text-decoration-color: #7fbfbf\">                    </span>         with the shortest possible total run_time of <span style=\"color: #008000; text-decoration-color: #008000\">0.0166667</span> seconds instead.  <span style=\"color: #7f7f7f; text-decoration-color: #7f7f7f\">             </span>\n",
       "</pre>\n"
      ],
      "text/plain": [
       "\u001b[2;36m                   \u001b[0m\u001b[2;36m \u001b[0m\u001b[31mWARNING \u001b[0m The original total run_time of \u001b[1;35mintegration_index_Scene.play\u001b[0m\u001b[1m(\u001b[0m\u001b[1m)\u001b[0m, \u001b[32m0.0102564\u001b[0m \u001b]8;id=656105;file:///home/carlo/Desktop/single-projects/manim-demopage/.venv_demo/lib/python3.12/site-packages/manim/scene/scene.py\u001b\\\u001b[2mscene.py\u001b[0m\u001b]8;;\u001b\\\u001b[2m:\u001b[0m\u001b]8;id=420609;file:///home/carlo/Desktop/single-projects/manim-demopage/.venv_demo/lib/python3.12/site-packages/manim/scene/scene.py#1044\u001b\\\u001b[2m1044\u001b[0m\u001b]8;;\u001b\\\n",
       "\u001b[2;36m                    \u001b[0m         seconds, is too short for the current frame rate of \u001b[32m60\u001b[0m FPS. \u001b[1;33mRendering\u001b[0m    \u001b[2m             \u001b[0m\n",
       "\u001b[2;36m                    \u001b[0m         with the shortest possible total run_time of \u001b[32m0.0166667\u001b[0m seconds instead.  \u001b[2m             \u001b[0m\n"
      ]
     },
     "metadata": {},
     "output_type": "display_data"
    },
    {
     "data": {
      "text/html": [
       "<pre style=\"white-space:pre;overflow-x:auto;line-height:normal;font-family:Menlo,'DejaVu Sans Mono',consolas,'Courier New',monospace\"><span style=\"color: #7fbfbf; text-decoration-color: #7fbfbf\">                    </span><span style=\"color: #800000; text-decoration-color: #800000\">WARNING </span> The original total run_time of <span style=\"color: #800080; text-decoration-color: #800080; font-weight: bold\">integration_index_Scene.play</span><span style=\"font-weight: bold\">()</span>, <span style=\"color: #008000; text-decoration-color: #008000\">0.0102564</span> <a href=\"file:///home/carlo/Desktop/single-projects/manim-demopage/.venv_demo/lib/python3.12/site-packages/manim/scene/scene.py\" target=\"_blank\"><span style=\"color: #7f7f7f; text-decoration-color: #7f7f7f\">scene.py</span></a><span style=\"color: #7f7f7f; text-decoration-color: #7f7f7f\">:</span><a href=\"file:///home/carlo/Desktop/single-projects/manim-demopage/.venv_demo/lib/python3.12/site-packages/manim/scene/scene.py#1044\" target=\"_blank\"><span style=\"color: #7f7f7f; text-decoration-color: #7f7f7f\">1044</span></a>\n",
       "<span style=\"color: #7fbfbf; text-decoration-color: #7fbfbf\">                    </span>         seconds, is too short for the current frame rate of <span style=\"color: #008000; text-decoration-color: #008000\">60</span> FPS. <span style=\"color: #808000; text-decoration-color: #808000; font-weight: bold\">Rendering</span>    <span style=\"color: #7f7f7f; text-decoration-color: #7f7f7f\">             </span>\n",
       "<span style=\"color: #7fbfbf; text-decoration-color: #7fbfbf\">                    </span>         with the shortest possible total run_time of <span style=\"color: #008000; text-decoration-color: #008000\">0.0166667</span> seconds instead.  <span style=\"color: #7f7f7f; text-decoration-color: #7f7f7f\">             </span>\n",
       "</pre>\n"
      ],
      "text/plain": [
       "\u001b[2;36m                   \u001b[0m\u001b[2;36m \u001b[0m\u001b[31mWARNING \u001b[0m The original total run_time of \u001b[1;35mintegration_index_Scene.play\u001b[0m\u001b[1m(\u001b[0m\u001b[1m)\u001b[0m, \u001b[32m0.0102564\u001b[0m \u001b]8;id=777289;file:///home/carlo/Desktop/single-projects/manim-demopage/.venv_demo/lib/python3.12/site-packages/manim/scene/scene.py\u001b\\\u001b[2mscene.py\u001b[0m\u001b]8;;\u001b\\\u001b[2m:\u001b[0m\u001b]8;id=581195;file:///home/carlo/Desktop/single-projects/manim-demopage/.venv_demo/lib/python3.12/site-packages/manim/scene/scene.py#1044\u001b\\\u001b[2m1044\u001b[0m\u001b]8;;\u001b\\\n",
       "\u001b[2;36m                    \u001b[0m         seconds, is too short for the current frame rate of \u001b[32m60\u001b[0m FPS. \u001b[1;33mRendering\u001b[0m    \u001b[2m             \u001b[0m\n",
       "\u001b[2;36m                    \u001b[0m         with the shortest possible total run_time of \u001b[32m0.0166667\u001b[0m seconds instead.  \u001b[2m             \u001b[0m\n"
      ]
     },
     "metadata": {},
     "output_type": "display_data"
    },
    {
     "data": {
      "text/html": [
       "<pre style=\"white-space:pre;overflow-x:auto;line-height:normal;font-family:Menlo,'DejaVu Sans Mono',consolas,'Courier New',monospace\"><span style=\"color: #7fbfbf; text-decoration-color: #7fbfbf\">                    </span><span style=\"color: #800000; text-decoration-color: #800000\">WARNING </span> The original total run_time of <span style=\"color: #800080; text-decoration-color: #800080; font-weight: bold\">integration_index_Scene.play</span><span style=\"font-weight: bold\">()</span>, <span style=\"color: #008000; text-decoration-color: #008000\">0.0102041</span> <a href=\"file:///home/carlo/Desktop/single-projects/manim-demopage/.venv_demo/lib/python3.12/site-packages/manim/scene/scene.py\" target=\"_blank\"><span style=\"color: #7f7f7f; text-decoration-color: #7f7f7f\">scene.py</span></a><span style=\"color: #7f7f7f; text-decoration-color: #7f7f7f\">:</span><a href=\"file:///home/carlo/Desktop/single-projects/manim-demopage/.venv_demo/lib/python3.12/site-packages/manim/scene/scene.py#1044\" target=\"_blank\"><span style=\"color: #7f7f7f; text-decoration-color: #7f7f7f\">1044</span></a>\n",
       "<span style=\"color: #7fbfbf; text-decoration-color: #7fbfbf\">                    </span>         seconds, is too short for the current frame rate of <span style=\"color: #008000; text-decoration-color: #008000\">60</span> FPS. <span style=\"color: #808000; text-decoration-color: #808000; font-weight: bold\">Rendering</span>    <span style=\"color: #7f7f7f; text-decoration-color: #7f7f7f\">             </span>\n",
       "<span style=\"color: #7fbfbf; text-decoration-color: #7fbfbf\">                    </span>         with the shortest possible total run_time of <span style=\"color: #008000; text-decoration-color: #008000\">0.0166667</span> seconds instead.  <span style=\"color: #7f7f7f; text-decoration-color: #7f7f7f\">             </span>\n",
       "</pre>\n"
      ],
      "text/plain": [
       "\u001b[2;36m                   \u001b[0m\u001b[2;36m \u001b[0m\u001b[31mWARNING \u001b[0m The original total run_time of \u001b[1;35mintegration_index_Scene.play\u001b[0m\u001b[1m(\u001b[0m\u001b[1m)\u001b[0m, \u001b[32m0.0102041\u001b[0m \u001b]8;id=698051;file:///home/carlo/Desktop/single-projects/manim-demopage/.venv_demo/lib/python3.12/site-packages/manim/scene/scene.py\u001b\\\u001b[2mscene.py\u001b[0m\u001b]8;;\u001b\\\u001b[2m:\u001b[0m\u001b]8;id=652297;file:///home/carlo/Desktop/single-projects/manim-demopage/.venv_demo/lib/python3.12/site-packages/manim/scene/scene.py#1044\u001b\\\u001b[2m1044\u001b[0m\u001b]8;;\u001b\\\n",
       "\u001b[2;36m                    \u001b[0m         seconds, is too short for the current frame rate of \u001b[32m60\u001b[0m FPS. \u001b[1;33mRendering\u001b[0m    \u001b[2m             \u001b[0m\n",
       "\u001b[2;36m                    \u001b[0m         with the shortest possible total run_time of \u001b[32m0.0166667\u001b[0m seconds instead.  \u001b[2m             \u001b[0m\n"
      ]
     },
     "metadata": {},
     "output_type": "display_data"
    },
    {
     "data": {
      "text/html": [
       "<pre style=\"white-space:pre;overflow-x:auto;line-height:normal;font-family:Menlo,'DejaVu Sans Mono',consolas,'Courier New',monospace\"><span style=\"color: #7fbfbf; text-decoration-color: #7fbfbf\">                    </span><span style=\"color: #800000; text-decoration-color: #800000\">WARNING </span> The original total run_time of <span style=\"color: #800080; text-decoration-color: #800080; font-weight: bold\">integration_index_Scene.play</span><span style=\"font-weight: bold\">()</span>, <span style=\"color: #008000; text-decoration-color: #008000\">0.0102041</span> <a href=\"file:///home/carlo/Desktop/single-projects/manim-demopage/.venv_demo/lib/python3.12/site-packages/manim/scene/scene.py\" target=\"_blank\"><span style=\"color: #7f7f7f; text-decoration-color: #7f7f7f\">scene.py</span></a><span style=\"color: #7f7f7f; text-decoration-color: #7f7f7f\">:</span><a href=\"file:///home/carlo/Desktop/single-projects/manim-demopage/.venv_demo/lib/python3.12/site-packages/manim/scene/scene.py#1044\" target=\"_blank\"><span style=\"color: #7f7f7f; text-decoration-color: #7f7f7f\">1044</span></a>\n",
       "<span style=\"color: #7fbfbf; text-decoration-color: #7fbfbf\">                    </span>         seconds, is too short for the current frame rate of <span style=\"color: #008000; text-decoration-color: #008000\">60</span> FPS. <span style=\"color: #808000; text-decoration-color: #808000; font-weight: bold\">Rendering</span>    <span style=\"color: #7f7f7f; text-decoration-color: #7f7f7f\">             </span>\n",
       "<span style=\"color: #7fbfbf; text-decoration-color: #7fbfbf\">                    </span>         with the shortest possible total run_time of <span style=\"color: #008000; text-decoration-color: #008000\">0.0166667</span> seconds instead.  <span style=\"color: #7f7f7f; text-decoration-color: #7f7f7f\">             </span>\n",
       "</pre>\n"
      ],
      "text/plain": [
       "\u001b[2;36m                   \u001b[0m\u001b[2;36m \u001b[0m\u001b[31mWARNING \u001b[0m The original total run_time of \u001b[1;35mintegration_index_Scene.play\u001b[0m\u001b[1m(\u001b[0m\u001b[1m)\u001b[0m, \u001b[32m0.0102041\u001b[0m \u001b]8;id=610328;file:///home/carlo/Desktop/single-projects/manim-demopage/.venv_demo/lib/python3.12/site-packages/manim/scene/scene.py\u001b\\\u001b[2mscene.py\u001b[0m\u001b]8;;\u001b\\\u001b[2m:\u001b[0m\u001b]8;id=829267;file:///home/carlo/Desktop/single-projects/manim-demopage/.venv_demo/lib/python3.12/site-packages/manim/scene/scene.py#1044\u001b\\\u001b[2m1044\u001b[0m\u001b]8;;\u001b\\\n",
       "\u001b[2;36m                    \u001b[0m         seconds, is too short for the current frame rate of \u001b[32m60\u001b[0m FPS. \u001b[1;33mRendering\u001b[0m    \u001b[2m             \u001b[0m\n",
       "\u001b[2;36m                    \u001b[0m         with the shortest possible total run_time of \u001b[32m0.0166667\u001b[0m seconds instead.  \u001b[2m             \u001b[0m\n"
      ]
     },
     "metadata": {},
     "output_type": "display_data"
    },
    {
     "data": {
      "text/html": [
       "<pre style=\"white-space:pre;overflow-x:auto;line-height:normal;font-family:Menlo,'DejaVu Sans Mono',consolas,'Courier New',monospace\"><span style=\"color: #7fbfbf; text-decoration-color: #7fbfbf\">                    </span><span style=\"color: #800000; text-decoration-color: #800000\">WARNING </span> The original total run_time of <span style=\"color: #800080; text-decoration-color: #800080; font-weight: bold\">integration_index_Scene.play</span><span style=\"font-weight: bold\">()</span>, <span style=\"color: #008000; text-decoration-color: #008000\">0.0101523</span> <a href=\"file:///home/carlo/Desktop/single-projects/manim-demopage/.venv_demo/lib/python3.12/site-packages/manim/scene/scene.py\" target=\"_blank\"><span style=\"color: #7f7f7f; text-decoration-color: #7f7f7f\">scene.py</span></a><span style=\"color: #7f7f7f; text-decoration-color: #7f7f7f\">:</span><a href=\"file:///home/carlo/Desktop/single-projects/manim-demopage/.venv_demo/lib/python3.12/site-packages/manim/scene/scene.py#1044\" target=\"_blank\"><span style=\"color: #7f7f7f; text-decoration-color: #7f7f7f\">1044</span></a>\n",
       "<span style=\"color: #7fbfbf; text-decoration-color: #7fbfbf\">                    </span>         seconds, is too short for the current frame rate of <span style=\"color: #008000; text-decoration-color: #008000\">60</span> FPS. <span style=\"color: #808000; text-decoration-color: #808000; font-weight: bold\">Rendering</span>    <span style=\"color: #7f7f7f; text-decoration-color: #7f7f7f\">             </span>\n",
       "<span style=\"color: #7fbfbf; text-decoration-color: #7fbfbf\">                    </span>         with the shortest possible total run_time of <span style=\"color: #008000; text-decoration-color: #008000\">0.0166667</span> seconds instead.  <span style=\"color: #7f7f7f; text-decoration-color: #7f7f7f\">             </span>\n",
       "</pre>\n"
      ],
      "text/plain": [
       "\u001b[2;36m                   \u001b[0m\u001b[2;36m \u001b[0m\u001b[31mWARNING \u001b[0m The original total run_time of \u001b[1;35mintegration_index_Scene.play\u001b[0m\u001b[1m(\u001b[0m\u001b[1m)\u001b[0m, \u001b[32m0.0101523\u001b[0m \u001b]8;id=334369;file:///home/carlo/Desktop/single-projects/manim-demopage/.venv_demo/lib/python3.12/site-packages/manim/scene/scene.py\u001b\\\u001b[2mscene.py\u001b[0m\u001b]8;;\u001b\\\u001b[2m:\u001b[0m\u001b]8;id=511904;file:///home/carlo/Desktop/single-projects/manim-demopage/.venv_demo/lib/python3.12/site-packages/manim/scene/scene.py#1044\u001b\\\u001b[2m1044\u001b[0m\u001b]8;;\u001b\\\n",
       "\u001b[2;36m                    \u001b[0m         seconds, is too short for the current frame rate of \u001b[32m60\u001b[0m FPS. \u001b[1;33mRendering\u001b[0m    \u001b[2m             \u001b[0m\n",
       "\u001b[2;36m                    \u001b[0m         with the shortest possible total run_time of \u001b[32m0.0166667\u001b[0m seconds instead.  \u001b[2m             \u001b[0m\n"
      ]
     },
     "metadata": {},
     "output_type": "display_data"
    },
    {
     "data": {
      "text/html": [
       "<pre style=\"white-space:pre;overflow-x:auto;line-height:normal;font-family:Menlo,'DejaVu Sans Mono',consolas,'Courier New',monospace\"><span style=\"color: #7fbfbf; text-decoration-color: #7fbfbf\">[01/24/25 14:36:27] </span><span style=\"color: #800000; text-decoration-color: #800000\">WARNING </span> The original total run_time of <span style=\"color: #800080; text-decoration-color: #800080; font-weight: bold\">integration_index_Scene.play</span><span style=\"font-weight: bold\">()</span>, <span style=\"color: #008000; text-decoration-color: #008000\">0.0101523</span> <a href=\"file:///home/carlo/Desktop/single-projects/manim-demopage/.venv_demo/lib/python3.12/site-packages/manim/scene/scene.py\" target=\"_blank\"><span style=\"color: #7f7f7f; text-decoration-color: #7f7f7f\">scene.py</span></a><span style=\"color: #7f7f7f; text-decoration-color: #7f7f7f\">:</span><a href=\"file:///home/carlo/Desktop/single-projects/manim-demopage/.venv_demo/lib/python3.12/site-packages/manim/scene/scene.py#1044\" target=\"_blank\"><span style=\"color: #7f7f7f; text-decoration-color: #7f7f7f\">1044</span></a>\n",
       "<span style=\"color: #7fbfbf; text-decoration-color: #7fbfbf\">                    </span>         seconds, is too short for the current frame rate of <span style=\"color: #008000; text-decoration-color: #008000\">60</span> FPS. <span style=\"color: #808000; text-decoration-color: #808000; font-weight: bold\">Rendering</span>    <span style=\"color: #7f7f7f; text-decoration-color: #7f7f7f\">             </span>\n",
       "<span style=\"color: #7fbfbf; text-decoration-color: #7fbfbf\">                    </span>         with the shortest possible total run_time of <span style=\"color: #008000; text-decoration-color: #008000\">0.0166667</span> seconds instead.  <span style=\"color: #7f7f7f; text-decoration-color: #7f7f7f\">             </span>\n",
       "</pre>\n"
      ],
      "text/plain": [
       "\u001b[2;36m[01/24/25 14:36:27]\u001b[0m\u001b[2;36m \u001b[0m\u001b[31mWARNING \u001b[0m The original total run_time of \u001b[1;35mintegration_index_Scene.play\u001b[0m\u001b[1m(\u001b[0m\u001b[1m)\u001b[0m, \u001b[32m0.0101523\u001b[0m \u001b]8;id=745718;file:///home/carlo/Desktop/single-projects/manim-demopage/.venv_demo/lib/python3.12/site-packages/manim/scene/scene.py\u001b\\\u001b[2mscene.py\u001b[0m\u001b]8;;\u001b\\\u001b[2m:\u001b[0m\u001b]8;id=182652;file:///home/carlo/Desktop/single-projects/manim-demopage/.venv_demo/lib/python3.12/site-packages/manim/scene/scene.py#1044\u001b\\\u001b[2m1044\u001b[0m\u001b]8;;\u001b\\\n",
       "\u001b[2;36m                    \u001b[0m         seconds, is too short for the current frame rate of \u001b[32m60\u001b[0m FPS. \u001b[1;33mRendering\u001b[0m    \u001b[2m             \u001b[0m\n",
       "\u001b[2;36m                    \u001b[0m         with the shortest possible total run_time of \u001b[32m0.0166667\u001b[0m seconds instead.  \u001b[2m             \u001b[0m\n"
      ]
     },
     "metadata": {},
     "output_type": "display_data"
    },
    {
     "data": {
      "text/html": [
       "<pre style=\"white-space:pre;overflow-x:auto;line-height:normal;font-family:Menlo,'DejaVu Sans Mono',consolas,'Courier New',monospace\"><span style=\"color: #7fbfbf; text-decoration-color: #7fbfbf\">                    </span><span style=\"color: #800000; text-decoration-color: #800000\">WARNING </span> The original total run_time of <span style=\"color: #800080; text-decoration-color: #800080; font-weight: bold\">integration_index_Scene.play</span><span style=\"font-weight: bold\">()</span>, <span style=\"color: #008000; text-decoration-color: #008000\">0.010101</span>  <a href=\"file:///home/carlo/Desktop/single-projects/manim-demopage/.venv_demo/lib/python3.12/site-packages/manim/scene/scene.py\" target=\"_blank\"><span style=\"color: #7f7f7f; text-decoration-color: #7f7f7f\">scene.py</span></a><span style=\"color: #7f7f7f; text-decoration-color: #7f7f7f\">:</span><a href=\"file:///home/carlo/Desktop/single-projects/manim-demopage/.venv_demo/lib/python3.12/site-packages/manim/scene/scene.py#1044\" target=\"_blank\"><span style=\"color: #7f7f7f; text-decoration-color: #7f7f7f\">1044</span></a>\n",
       "<span style=\"color: #7fbfbf; text-decoration-color: #7fbfbf\">                    </span>         seconds, is too short for the current frame rate of <span style=\"color: #008000; text-decoration-color: #008000\">60</span> FPS. <span style=\"color: #808000; text-decoration-color: #808000; font-weight: bold\">Rendering</span>    <span style=\"color: #7f7f7f; text-decoration-color: #7f7f7f\">             </span>\n",
       "<span style=\"color: #7fbfbf; text-decoration-color: #7fbfbf\">                    </span>         with the shortest possible total run_time of <span style=\"color: #008000; text-decoration-color: #008000\">0.0166667</span> seconds instead.  <span style=\"color: #7f7f7f; text-decoration-color: #7f7f7f\">             </span>\n",
       "</pre>\n"
      ],
      "text/plain": [
       "\u001b[2;36m                   \u001b[0m\u001b[2;36m \u001b[0m\u001b[31mWARNING \u001b[0m The original total run_time of \u001b[1;35mintegration_index_Scene.play\u001b[0m\u001b[1m(\u001b[0m\u001b[1m)\u001b[0m, \u001b[32m0.010101\u001b[0m  \u001b]8;id=306756;file:///home/carlo/Desktop/single-projects/manim-demopage/.venv_demo/lib/python3.12/site-packages/manim/scene/scene.py\u001b\\\u001b[2mscene.py\u001b[0m\u001b]8;;\u001b\\\u001b[2m:\u001b[0m\u001b]8;id=834975;file:///home/carlo/Desktop/single-projects/manim-demopage/.venv_demo/lib/python3.12/site-packages/manim/scene/scene.py#1044\u001b\\\u001b[2m1044\u001b[0m\u001b]8;;\u001b\\\n",
       "\u001b[2;36m                    \u001b[0m         seconds, is too short for the current frame rate of \u001b[32m60\u001b[0m FPS. \u001b[1;33mRendering\u001b[0m    \u001b[2m             \u001b[0m\n",
       "\u001b[2;36m                    \u001b[0m         with the shortest possible total run_time of \u001b[32m0.0166667\u001b[0m seconds instead.  \u001b[2m             \u001b[0m\n"
      ]
     },
     "metadata": {},
     "output_type": "display_data"
    },
    {
     "data": {
      "text/html": [
       "<pre style=\"white-space:pre;overflow-x:auto;line-height:normal;font-family:Menlo,'DejaVu Sans Mono',consolas,'Courier New',monospace\"><span style=\"color: #7fbfbf; text-decoration-color: #7fbfbf\">                    </span><span style=\"color: #800000; text-decoration-color: #800000\">WARNING </span> The original total run_time of <span style=\"color: #800080; text-decoration-color: #800080; font-weight: bold\">integration_index_Scene.play</span><span style=\"font-weight: bold\">()</span>, <span style=\"color: #008000; text-decoration-color: #008000\">0.010101</span>  <a href=\"file:///home/carlo/Desktop/single-projects/manim-demopage/.venv_demo/lib/python3.12/site-packages/manim/scene/scene.py\" target=\"_blank\"><span style=\"color: #7f7f7f; text-decoration-color: #7f7f7f\">scene.py</span></a><span style=\"color: #7f7f7f; text-decoration-color: #7f7f7f\">:</span><a href=\"file:///home/carlo/Desktop/single-projects/manim-demopage/.venv_demo/lib/python3.12/site-packages/manim/scene/scene.py#1044\" target=\"_blank\"><span style=\"color: #7f7f7f; text-decoration-color: #7f7f7f\">1044</span></a>\n",
       "<span style=\"color: #7fbfbf; text-decoration-color: #7fbfbf\">                    </span>         seconds, is too short for the current frame rate of <span style=\"color: #008000; text-decoration-color: #008000\">60</span> FPS. <span style=\"color: #808000; text-decoration-color: #808000; font-weight: bold\">Rendering</span>    <span style=\"color: #7f7f7f; text-decoration-color: #7f7f7f\">             </span>\n",
       "<span style=\"color: #7fbfbf; text-decoration-color: #7fbfbf\">                    </span>         with the shortest possible total run_time of <span style=\"color: #008000; text-decoration-color: #008000\">0.0166667</span> seconds instead.  <span style=\"color: #7f7f7f; text-decoration-color: #7f7f7f\">             </span>\n",
       "</pre>\n"
      ],
      "text/plain": [
       "\u001b[2;36m                   \u001b[0m\u001b[2;36m \u001b[0m\u001b[31mWARNING \u001b[0m The original total run_time of \u001b[1;35mintegration_index_Scene.play\u001b[0m\u001b[1m(\u001b[0m\u001b[1m)\u001b[0m, \u001b[32m0.010101\u001b[0m  \u001b]8;id=629299;file:///home/carlo/Desktop/single-projects/manim-demopage/.venv_demo/lib/python3.12/site-packages/manim/scene/scene.py\u001b\\\u001b[2mscene.py\u001b[0m\u001b]8;;\u001b\\\u001b[2m:\u001b[0m\u001b]8;id=988746;file:///home/carlo/Desktop/single-projects/manim-demopage/.venv_demo/lib/python3.12/site-packages/manim/scene/scene.py#1044\u001b\\\u001b[2m1044\u001b[0m\u001b]8;;\u001b\\\n",
       "\u001b[2;36m                    \u001b[0m         seconds, is too short for the current frame rate of \u001b[32m60\u001b[0m FPS. \u001b[1;33mRendering\u001b[0m    \u001b[2m             \u001b[0m\n",
       "\u001b[2;36m                    \u001b[0m         with the shortest possible total run_time of \u001b[32m0.0166667\u001b[0m seconds instead.  \u001b[2m             \u001b[0m\n"
      ]
     },
     "metadata": {},
     "output_type": "display_data"
    },
    {
     "data": {
      "text/html": [
       "<pre style=\"white-space:pre;overflow-x:auto;line-height:normal;font-family:Menlo,'DejaVu Sans Mono',consolas,'Courier New',monospace\"><span style=\"color: #7fbfbf; text-decoration-color: #7fbfbf\">                    </span><span style=\"color: #800000; text-decoration-color: #800000\">WARNING </span> The original total run_time of <span style=\"color: #800080; text-decoration-color: #800080; font-weight: bold\">integration_index_Scene.play</span><span style=\"font-weight: bold\">()</span>, <span style=\"color: #008000; text-decoration-color: #008000\">0.0100503</span> <a href=\"file:///home/carlo/Desktop/single-projects/manim-demopage/.venv_demo/lib/python3.12/site-packages/manim/scene/scene.py\" target=\"_blank\"><span style=\"color: #7f7f7f; text-decoration-color: #7f7f7f\">scene.py</span></a><span style=\"color: #7f7f7f; text-decoration-color: #7f7f7f\">:</span><a href=\"file:///home/carlo/Desktop/single-projects/manim-demopage/.venv_demo/lib/python3.12/site-packages/manim/scene/scene.py#1044\" target=\"_blank\"><span style=\"color: #7f7f7f; text-decoration-color: #7f7f7f\">1044</span></a>\n",
       "<span style=\"color: #7fbfbf; text-decoration-color: #7fbfbf\">                    </span>         seconds, is too short for the current frame rate of <span style=\"color: #008000; text-decoration-color: #008000\">60</span> FPS. <span style=\"color: #808000; text-decoration-color: #808000; font-weight: bold\">Rendering</span>    <span style=\"color: #7f7f7f; text-decoration-color: #7f7f7f\">             </span>\n",
       "<span style=\"color: #7fbfbf; text-decoration-color: #7fbfbf\">                    </span>         with the shortest possible total run_time of <span style=\"color: #008000; text-decoration-color: #008000\">0.0166667</span> seconds instead.  <span style=\"color: #7f7f7f; text-decoration-color: #7f7f7f\">             </span>\n",
       "</pre>\n"
      ],
      "text/plain": [
       "\u001b[2;36m                   \u001b[0m\u001b[2;36m \u001b[0m\u001b[31mWARNING \u001b[0m The original total run_time of \u001b[1;35mintegration_index_Scene.play\u001b[0m\u001b[1m(\u001b[0m\u001b[1m)\u001b[0m, \u001b[32m0.0100503\u001b[0m \u001b]8;id=67253;file:///home/carlo/Desktop/single-projects/manim-demopage/.venv_demo/lib/python3.12/site-packages/manim/scene/scene.py\u001b\\\u001b[2mscene.py\u001b[0m\u001b]8;;\u001b\\\u001b[2m:\u001b[0m\u001b]8;id=97510;file:///home/carlo/Desktop/single-projects/manim-demopage/.venv_demo/lib/python3.12/site-packages/manim/scene/scene.py#1044\u001b\\\u001b[2m1044\u001b[0m\u001b]8;;\u001b\\\n",
       "\u001b[2;36m                    \u001b[0m         seconds, is too short for the current frame rate of \u001b[32m60\u001b[0m FPS. \u001b[1;33mRendering\u001b[0m    \u001b[2m             \u001b[0m\n",
       "\u001b[2;36m                    \u001b[0m         with the shortest possible total run_time of \u001b[32m0.0166667\u001b[0m seconds instead.  \u001b[2m             \u001b[0m\n"
      ]
     },
     "metadata": {},
     "output_type": "display_data"
    },
    {
     "data": {
      "text/html": [
       "<pre style=\"white-space:pre;overflow-x:auto;line-height:normal;font-family:Menlo,'DejaVu Sans Mono',consolas,'Courier New',monospace\"><span style=\"color: #7fbfbf; text-decoration-color: #7fbfbf\">                    </span><span style=\"color: #800000; text-decoration-color: #800000\">WARNING </span> The original total run_time of <span style=\"color: #800080; text-decoration-color: #800080; font-weight: bold\">integration_index_Scene.play</span><span style=\"font-weight: bold\">()</span>, <span style=\"color: #008000; text-decoration-color: #008000\">0.0100503</span> <a href=\"file:///home/carlo/Desktop/single-projects/manim-demopage/.venv_demo/lib/python3.12/site-packages/manim/scene/scene.py\" target=\"_blank\"><span style=\"color: #7f7f7f; text-decoration-color: #7f7f7f\">scene.py</span></a><span style=\"color: #7f7f7f; text-decoration-color: #7f7f7f\">:</span><a href=\"file:///home/carlo/Desktop/single-projects/manim-demopage/.venv_demo/lib/python3.12/site-packages/manim/scene/scene.py#1044\" target=\"_blank\"><span style=\"color: #7f7f7f; text-decoration-color: #7f7f7f\">1044</span></a>\n",
       "<span style=\"color: #7fbfbf; text-decoration-color: #7fbfbf\">                    </span>         seconds, is too short for the current frame rate of <span style=\"color: #008000; text-decoration-color: #008000\">60</span> FPS. <span style=\"color: #808000; text-decoration-color: #808000; font-weight: bold\">Rendering</span>    <span style=\"color: #7f7f7f; text-decoration-color: #7f7f7f\">             </span>\n",
       "<span style=\"color: #7fbfbf; text-decoration-color: #7fbfbf\">                    </span>         with the shortest possible total run_time of <span style=\"color: #008000; text-decoration-color: #008000\">0.0166667</span> seconds instead.  <span style=\"color: #7f7f7f; text-decoration-color: #7f7f7f\">             </span>\n",
       "</pre>\n"
      ],
      "text/plain": [
       "\u001b[2;36m                   \u001b[0m\u001b[2;36m \u001b[0m\u001b[31mWARNING \u001b[0m The original total run_time of \u001b[1;35mintegration_index_Scene.play\u001b[0m\u001b[1m(\u001b[0m\u001b[1m)\u001b[0m, \u001b[32m0.0100503\u001b[0m \u001b]8;id=124290;file:///home/carlo/Desktop/single-projects/manim-demopage/.venv_demo/lib/python3.12/site-packages/manim/scene/scene.py\u001b\\\u001b[2mscene.py\u001b[0m\u001b]8;;\u001b\\\u001b[2m:\u001b[0m\u001b]8;id=983418;file:///home/carlo/Desktop/single-projects/manim-demopage/.venv_demo/lib/python3.12/site-packages/manim/scene/scene.py#1044\u001b\\\u001b[2m1044\u001b[0m\u001b]8;;\u001b\\\n",
       "\u001b[2;36m                    \u001b[0m         seconds, is too short for the current frame rate of \u001b[32m60\u001b[0m FPS. \u001b[1;33mRendering\u001b[0m    \u001b[2m             \u001b[0m\n",
       "\u001b[2;36m                    \u001b[0m         with the shortest possible total run_time of \u001b[32m0.0166667\u001b[0m seconds instead.  \u001b[2m             \u001b[0m\n"
      ]
     },
     "metadata": {},
     "output_type": "display_data"
    },
    {
     "data": {
      "text/html": [
       "<video src=\"media/jupyter/integration_index_Scene@2025-01-24@14-36-30.mp4\" controls autoplay loop style=\"max-width: 60%;\"  >\n",
       "      Your browser does not support the <code>video</code> element.\n",
       "    </video>"
      ],
      "text/plain": [
       "<IPython.core.display.Video object>"
      ]
     },
     "metadata": {},
     "output_type": "display_data"
    }
   ],
   "source": [
    "%%manim -qh --fps 60 $int_video_index_scene\n",
    "\n",
    "class integration_index_Scene(Scene):\n",
    "    def construct(self):\n",
    "        CVC = Text('CVC', font_size = 12, weight = BOLD, color = WHITE, font = 'Latin Modern Sans').align_on_border(RIGHT + DOWN, buff = 0.2)\n",
    "        self.add(CVC)\n",
    "\n",
    "        text_riemann = Tex(r\"Riemann Sum: $\\int_a^bf(x)dx\\approx\\sum_{i=1}^nf(x_i)\\Delta x$\", font_size = 48).align_on_border(UP + LEFT, buff = 0.5).shift(0.5 * RIGHT)\n",
    "        text_riemann[0][21:33].set_color(BLUE)\n",
    "        # text_riemann[0][34:46].set_color(BLUE)\n",
    "\n",
    "        fxi_box = SurroundingRectangle(text_riemann[0][26:31], buff = .1, color = BLUE)\n",
    "        dx_box = SurroundingRectangle(text_riemann[0][31:33], buff = .1, color = BLUE)\n",
    "\n",
    "\n",
    "        # Integrierbare Funktion (abhängig von x)\n",
    "        func_range = [2, 11]\n",
    "        def integrable_function(x):\n",
    "            return -1 + 3*x - 14*(x/4)**2 + 3.8*(x/4)**3\n",
    "\n",
    "        \n",
    "        # Riemann-Summe (abhängig von n)\n",
    "        def riemann_squares(n):\n",
    "            a = func_range[0]\n",
    "            b = func_range[1]\n",
    "            delta_x = (b - a) / n\n",
    "            riemann_group = VGroup()\n",
    "            for i in range(n):\n",
    "                left = a + i * delta_x\n",
    "                right = a + (i+1) * delta_x\n",
    "                upper = integrable_function(right)\n",
    "                polygon = Polygon(ax.c2p(left, 0), ax.c2p(left, upper), ax.c2p(right, upper), ax.c2p(right, 0), stroke_width = 1.5, color = BLUE, fill_color = BLUE, fill_opacity = 0.25, stroke_opacity = 1)\n",
    "                riemann_group.add(polygon)\n",
    "                #self.add(polygon)\n",
    "            return riemann_group\n",
    "\n",
    "\n",
    "        # Main: Coordinate System\n",
    "        origin = [0, -0.5, 0]\n",
    "\n",
    "        x_range = [-0.5, 3.75*PI, 1]\n",
    "        y_range = [-4, 6, 1]\n",
    "\n",
    "        x_length = 11\n",
    "        y_length = 5.5\n",
    "\n",
    "        x_dict = dict(zip([func_range[0], func_range[1]], [r\"$a$\", r\"$b$\"]))\n",
    "\n",
    "        npla = NumberPlane(\n",
    "            x_range = x_range, y_range = y_range, x_length = x_length, y_length = y_length, \n",
    "            axis_config = {\"include_numbers\": False, \"stroke_opacity\": 0.25}, background_line_style = {\"stroke_opacity\": 0.25}, ).move_to(origin)\n",
    "        ax = Axes(x_range = x_range, y_range = y_range, x_length = x_length, y_length = y_length, axis_config = {\"stroke_width\": 1, \"stroke_opacity\": 0.75}).move_to(origin).add_coordinates(x_dict)\n",
    "\n",
    "        ax_xlabel = ax.get_x_axis_label(Tex(r\"$x$\", font_size = 36)).shift(0.25*DOWN + 0.125*RIGHT)\n",
    "        ax_ylabel = ax.get_y_axis_label(Tex(r\"$y$\", font_size = 36)).shift(0.8125*LEFT + 0.5*DOWN)\n",
    "\n",
    "        coordinate_system = VGroup(npla, ax, ax_xlabel, ax_ylabel)\n",
    "        func = ax.plot(integrable_function, color = WHITE, stroke_width = 1.5, stroke_opacity = 1, x_range = [0, func_range[1]])\n",
    "\n",
    "        fa_connect = DashedLine(ax.c2p(func_range[0], 0), ax.c2p(func_range[0], integrable_function(func_range[0])), stroke_color = WHITE, stroke_width = 1.5, stroke_opacity = 1)\n",
    "        fb_connect = DashedLine(ax.c2p(func_range[1], 0), ax.c2p(func_range[1], integrable_function(func_range[1])), stroke_color = WHITE, stroke_width = 1.5, stroke_opacity = 1)\n",
    "\n",
    "        # braces\n",
    "        brace_rect = Polygon(\n",
    "            ax.c2p(func_range[0], 0), \n",
    "            ax.c2p(func_range[0], integrable_function(func_range[0] + (func_range[1] - func_range[0]) / 10)), \n",
    "            ax.c2p(func_range[0] + (func_range[1] - func_range[0]) / 10, integrable_function(func_range[0] + (func_range[1] - func_range[0]) / 10)), \n",
    "            ax.c2p(func_range[0] + (func_range[1] - func_range[0]) / 10, 0))\n",
    "\n",
    "        fxi_brace = Brace(brace_rect, color = BLUE, direction = np.array([-1, 0, 0]), buff = 0.2, sharpness = 2)\n",
    "        dx_brace = Brace(brace_rect, color = BLUE, direction = np.array([0, -1, 0]), buff = 0.2, sharpness = 2)\n",
    "        fxi_text = Tex(r\"$f(x_1)$\", font_size = 36, color = BLUE).next_to(fxi_brace, LEFT, buff = 0.2)\n",
    "        dx_text = Tex(r\"$\\Delta x$\", font_size = 36, color = BLUE).next_to(dx_brace, DOWN, buff = 0.1)\n",
    "        fxi_brace_group = VGroup(fxi_brace, fxi_text)\n",
    "        dx_brace_group = VGroup(dx_brace, dx_text)\n",
    "\n",
    "\n",
    "        self.add(text_riemann, coordinate_system, func, fa_connect, fb_connect)\n",
    "        self.wait(0.5)\n",
    "        riemann_squares_pre = riemann_squares(10)\n",
    "        self.play(Create(riemann_squares_pre), run_time = 1.5)\n",
    "        self.wait(0.5)\n",
    "        self.play(Create(fxi_box), Create(dx_box), run_time = 1.5)\n",
    "        self.play(TransformFromCopy(fxi_box, fxi_brace_group), TransformFromCopy(dx_box, dx_brace_group), run_time = 1.5)\n",
    "        self.wait(1.5)\n",
    "        self.play(Uncreate(fxi_box), Uncreate(dx_box), FadeOut(fxi_brace_group), FadeOut(dx_brace_group), run_time = 1.5)\n",
    "        self.wait(0.5)\n",
    "\n",
    "        for i in range(11, 200, 1):\n",
    "            riemann_squares_post = riemann_squares(i)\n",
    "            self.play(FadeTransform(riemann_squares_pre, riemann_squares_post), run_time = 2 / i)\n",
    "            riemann_squares_pre = riemann_squares_post\n",
    "\n",
    "        self.wait(3)"
   ]
  }
 ],
 "metadata": {
  "kernelspec": {
   "display_name": ".venv_demo",
   "language": "python",
   "name": "python3"
  },
  "language_info": {
   "codemirror_mode": {
    "name": "ipython",
    "version": 3
   },
   "file_extension": ".py",
   "mimetype": "text/x-python",
   "name": "python",
   "nbconvert_exporter": "python",
   "pygments_lexer": "ipython3",
   "version": "3.12.3"
  },
  "orig_nbformat": 4
 },
 "nbformat": 4,
 "nbformat_minor": 2
}
